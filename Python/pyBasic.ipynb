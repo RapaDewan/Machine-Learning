{
  "nbformat": 4,
  "nbformat_minor": 0,
  "metadata": {
    "colab": {
      "provenance": [],
      "toc_visible": true,
      "authorship_tag": "ABX9TyOl5lpDa3Mc18+0TspxYn7r",
      "include_colab_link": true
    },
    "kernelspec": {
      "name": "python3",
      "display_name": "Python 3"
    },
    "language_info": {
      "name": "python"
    }
  },
  "cells": [
    {
      "cell_type": "markdown",
      "metadata": {
        "id": "view-in-github",
        "colab_type": "text"
      },
      "source": [
        "<a href=\"https://colab.research.google.com/github/RapaDewan/Machine-Learning/blob/main/Python/pyBasic.ipynb\" target=\"_parent\"><img src=\"https://colab.research.google.com/assets/colab-badge.svg\" alt=\"Open In Colab\"/></a>"
      ]
    },
    {
      "cell_type": "code",
      "execution_count": null,
      "metadata": {
        "colab": {
          "base_uri": "https://localhost:8080/"
        },
        "id": "MU1unH8IalI1",
        "outputId": "47b9dc6a-fc6a-4c69-8d90-97690b6a54e3"
      },
      "outputs": [
        {
          "output_type": "stream",
          "name": "stdout",
          "text": [
            "Rapa\n"
          ]
        }
      ],
      "source": [
        "print('Rapa')"
      ]
    },
    {
      "cell_type": "code",
      "source": [
        "7+7"
      ],
      "metadata": {
        "colab": {
          "base_uri": "https://localhost:8080/"
        },
        "id": "g0RRhH2ua1rm",
        "outputId": "6761ce5f-c79a-4f25-cbdf-c07b856a4e44"
      },
      "execution_count": null,
      "outputs": [
        {
          "output_type": "execute_result",
          "data": {
            "text/plain": [
              "14"
            ]
          },
          "metadata": {},
          "execution_count": 1
        }
      ]
    },
    {
      "cell_type": "code",
      "source": [
        "2*3"
      ],
      "metadata": {
        "id": "apiaqhBoa9iy",
        "colab": {
          "base_uri": "https://localhost:8080/"
        },
        "outputId": "a72a74f0-5a7a-4ce0-d1e7-d3e4dfbb0f42"
      },
      "execution_count": null,
      "outputs": [
        {
          "output_type": "execute_result",
          "data": {
            "text/plain": [
              "6"
            ]
          },
          "metadata": {},
          "execution_count": 2
        }
      ]
    },
    {
      "cell_type": "code",
      "source": [
        "10* 'rapa'"
      ],
      "metadata": {
        "colab": {
          "base_uri": "https://localhost:8080/",
          "height": 35
        },
        "id": "yLXkoJ_1Kdfu",
        "outputId": "0f9858e6-d002-4bd5-c8e2-bc3309d29c59"
      },
      "execution_count": null,
      "outputs": [
        {
          "output_type": "execute_result",
          "data": {
            "text/plain": [
              "'raparaparaparaparaparaparaparaparaparapa'"
            ],
            "application/vnd.google.colaboratory.intrinsic+json": {
              "type": "string"
            }
          },
          "metadata": {},
          "execution_count": 3
        }
      ]
    },
    {
      "cell_type": "code",
      "source": [
        "type ('rapa')"
      ],
      "metadata": {
        "colab": {
          "base_uri": "https://localhost:8080/"
        },
        "id": "QUuVmK5LNQLc",
        "outputId": "a253909e-075b-413e-99dd-c78b4762389c"
      },
      "execution_count": null,
      "outputs": [
        {
          "output_type": "execute_result",
          "data": {
            "text/plain": [
              "str"
            ]
          },
          "metadata": {},
          "execution_count": 4
        }
      ]
    },
    {
      "cell_type": "code",
      "source": [
        "type ('False')"
      ],
      "metadata": {
        "colab": {
          "base_uri": "https://localhost:8080/"
        },
        "id": "zVNv4jzshUNd",
        "outputId": "79c7ec07-dc29-4e1c-a45d-5e19fb2f43ef"
      },
      "execution_count": null,
      "outputs": [
        {
          "output_type": "execute_result",
          "data": {
            "text/plain": [
              "str"
            ]
          },
          "metadata": {},
          "execution_count": 6
        }
      ]
    },
    {
      "cell_type": "code",
      "source": [
        "#syntax\n",
        "#var_names=values\n",
        "\n",
        "b=100\n",
        "\n",
        "type (b)"
      ],
      "metadata": {
        "colab": {
          "base_uri": "https://localhost:8080/"
        },
        "id": "GgRAzYpXhmFZ",
        "outputId": "6182bf30-ca14-4938-e76e-f11f3e97be4a"
      },
      "execution_count": null,
      "outputs": [
        {
          "output_type": "execute_result",
          "data": {
            "text/plain": [
              "int"
            ]
          },
          "metadata": {},
          "execution_count": 8
        }
      ]
    },
    {
      "cell_type": "markdown",
      "source": [],
      "metadata": {
        "id": "4N4JQ4yOiOjz"
      }
    },
    {
      "cell_type": "code",
      "source": [
        "b=100\n",
        "type (b)"
      ],
      "metadata": {
        "colab": {
          "base_uri": "https://localhost:8080/"
        },
        "id": "Cg51JzPviXBx",
        "outputId": "73da69ae-53af-4776-a6cf-5d7641d195d6"
      },
      "execution_count": null,
      "outputs": [
        {
          "output_type": "execute_result",
          "data": {
            "text/plain": [
              "int"
            ]
          },
          "metadata": {},
          "execution_count": 9
        }
      ]
    },
    {
      "cell_type": "code",
      "source": [
        "a=5\n",
        "b=2\n",
        "\n",
        "print (a+b)\n",
        "print (a-b)\n",
        "print (a*3)\n",
        "print (b*1.8)"
      ],
      "metadata": {
        "colab": {
          "base_uri": "https://localhost:8080/"
        },
        "id": "f0LacFWIim2P",
        "outputId": "42d0737f-39e9-4c60-ac8a-326ef40266c1"
      },
      "execution_count": null,
      "outputs": [
        {
          "output_type": "stream",
          "name": "stdout",
          "text": [
            "7\n",
            "3\n",
            "15\n",
            "3.6\n"
          ]
        }
      ]
    },
    {
      "cell_type": "code",
      "source": [
        "first_name= \"Rapa\"\n",
        "last_name= \"Dewan\"\n",
        "\n",
        "print (\"My first name is {} and my last name is {}.\" .format(first_name, last_name))"
      ],
      "metadata": {
        "colab": {
          "base_uri": "https://localhost:8080/"
        },
        "id": "ThSM2SlQjEIr",
        "outputId": "a05b420d-fefb-4baa-af34-3ddbabb07124"
      },
      "execution_count": null,
      "outputs": [
        {
          "output_type": "stream",
          "name": "stdout",
          "text": [
            "My first name is Rapa and my last name is Dewan.\n"
          ]
        }
      ]
    },
    {
      "cell_type": "code",
      "source": [
        "first_name= \"Rapa\"\n",
        "last_name= \"Dewan\"\n",
        "\n",
        "print (\"My first name is {first} and my last name is {last}.\" .format(last=last_name, first=first_name))"
      ],
      "metadata": {
        "colab": {
          "base_uri": "https://localhost:8080/"
        },
        "id": "NBVsgIZnm-fb",
        "outputId": "dfb0508d-e85e-4ec6-d060-cd50cb31ed35"
      },
      "execution_count": null,
      "outputs": [
        {
          "output_type": "stream",
          "name": "stdout",
          "text": [
            "My first name is Rapa and my last name is Dewan.\n"
          ]
        }
      ]
    },
    {
      "cell_type": "markdown",
      "source": [],
      "metadata": {
        "id": "G3zpqeSApnvI"
      }
    },
    {
      "cell_type": "code",
      "source": [
        "len ('rapa dewan')"
      ],
      "metadata": {
        "colab": {
          "base_uri": "https://localhost:8080/"
        },
        "id": "ZlZxVMN6poqG",
        "outputId": "ea21b400-62fa-49eb-c6ca-457aa39f9257"
      },
      "execution_count": null,
      "outputs": [
        {
          "output_type": "execute_result",
          "data": {
            "text/plain": [
              "10"
            ]
          },
          "metadata": {},
          "execution_count": 19
        }
      ]
    },
    {
      "cell_type": "code",
      "source": [
        "type ([1,2,3,4])"
      ],
      "metadata": {
        "colab": {
          "base_uri": "https://localhost:8080/"
        },
        "id": "Xe_eg5Pips3j",
        "outputId": "c99d69b0-333e-40fb-ef3b-b02fe739c1bb"
      },
      "execution_count": null,
      "outputs": [
        {
          "output_type": "execute_result",
          "data": {
            "text/plain": [
              "list"
            ]
          },
          "metadata": {},
          "execution_count": 49
        }
      ]
    },
    {
      "cell_type": "code",
      "source": [
        "my_word= 'Rapa dewan'\n",
        "my_word.istitle()"
      ],
      "metadata": {
        "colab": {
          "base_uri": "https://localhost:8080/"
        },
        "id": "MD3Pk2UMqFT3",
        "outputId": "cc70031e-c3ee-429c-d103-febd195c2c45"
      },
      "execution_count": null,
      "outputs": [
        {
          "output_type": "execute_result",
          "data": {
            "text/plain": [
              "False"
            ]
          },
          "metadata": {},
          "execution_count": 35
        }
      ]
    },
    {
      "cell_type": "code",
      "source": [
        "my_word= \"Rapa\"\n",
        "my_word.startswith('R')\n"
      ],
      "metadata": {
        "id": "TdHjY8-g4ubj",
        "outputId": "21170b19-ae7a-4a37-edff-fa2db731b628",
        "colab": {
          "base_uri": "https://localhost:8080/"
        }
      },
      "execution_count": null,
      "outputs": [
        {
          "output_type": "execute_result",
          "data": {
            "text/plain": [
              "False"
            ]
          },
          "metadata": {},
          "execution_count": 38
        }
      ]
    },
    {
      "cell_type": "code",
      "source": [
        "True and True"
      ],
      "metadata": {
        "id": "dOSZzcTG5w-E",
        "outputId": "0cc6b9e7-d6ed-42cb-f1ca-28f7eb61e34e",
        "colab": {
          "base_uri": "https://localhost:8080/"
        }
      },
      "execution_count": null,
      "outputs": [
        {
          "output_type": "execute_result",
          "data": {
            "text/plain": [
              "True"
            ]
          },
          "metadata": {},
          "execution_count": 39
        }
      ]
    },
    {
      "cell_type": "code",
      "source": [
        "True or False"
      ],
      "metadata": {
        "id": "cTNwyBGT6urJ",
        "outputId": "b456f35b-c711-4530-f9f0-60ca031eee56",
        "colab": {
          "base_uri": "https://localhost:8080/"
        }
      },
      "execution_count": null,
      "outputs": [
        {
          "output_type": "execute_result",
          "data": {
            "text/plain": [
              "True"
            ]
          },
          "metadata": {},
          "execution_count": 40
        }
      ]
    },
    {
      "cell_type": "code",
      "source": [
        "True and False"
      ],
      "metadata": {
        "id": "lypYX82D6w-H",
        "outputId": "390ad11e-39ad-4f33-a9a7-95e299c1cb71",
        "colab": {
          "base_uri": "https://localhost:8080/"
        }
      },
      "execution_count": null,
      "outputs": [
        {
          "output_type": "execute_result",
          "data": {
            "text/plain": [
              "False"
            ]
          },
          "metadata": {},
          "execution_count": 41
        }
      ]
    },
    {
      "cell_type": "code",
      "source": [
        "example= \"Mash123\"\n",
        "my_exp= \"rapa dewan\"\n",
        "example.isalnum() and my_exp.isalpha() #prblem"
      ],
      "metadata": {
        "id": "fkDHKOzS63vc",
        "outputId": "8534e6c9-11b8-48a5-c222-9e56c9035633",
        "colab": {
          "base_uri": "https://localhost:8080/"
        }
      },
      "execution_count": null,
      "outputs": [
        {
          "output_type": "execute_result",
          "data": {
            "text/plain": [
              "False"
            ]
          },
          "metadata": {},
          "execution_count": 43
        }
      ]
    },
    {
      "cell_type": "code",
      "source": [
        "list_exp= []\n",
        "type (list_exp)"
      ],
      "metadata": {
        "id": "QVgPiO6E9J2_",
        "outputId": "ec394aa7-15f6-43ca-a83a-2854503d515a",
        "colab": {
          "base_uri": "https://localhost:8080/"
        }
      },
      "execution_count": null,
      "outputs": [
        {
          "output_type": "execute_result",
          "data": {
            "text/plain": [
              "list"
            ]
          },
          "metadata": {},
          "execution_count": 50
        }
      ]
    },
    {
      "cell_type": "code",
      "source": [
        "lst=list()\n",
        "lst= [\"rapa\",1,2,3]\n",
        "type (lst)\n",
        "len(lst)\n",
        "lst.append(\"dewan\")\n",
        "print (lst)\n",
        "lst[0]"
      ],
      "metadata": {
        "id": "SAhPsoGr-mw6",
        "outputId": "7bf8438f-ef83-45fc-e6ff-e287defd08f4",
        "colab": {
          "base_uri": "https://localhost:8080/",
          "height": 52
        }
      },
      "execution_count": null,
      "outputs": [
        {
          "output_type": "stream",
          "name": "stdout",
          "text": [
            "['rapa', 1, 2, 3, 'dewan']\n"
          ]
        },
        {
          "output_type": "execute_result",
          "data": {
            "text/plain": [
              "'rapa'"
            ],
            "application/vnd.google.colaboratory.intrinsic+json": {
              "type": "string"
            }
          },
          "metadata": {},
          "execution_count": 59
        }
      ]
    },
    {
      "cell_type": "code",
      "source": [
        "lst[:]"
      ],
      "metadata": {
        "id": "_UaBW31u-xPm",
        "outputId": "b8c1882c-402e-417a-f856-c6927dc9c449",
        "colab": {
          "base_uri": "https://localhost:8080/"
        }
      },
      "execution_count": null,
      "outputs": [
        {
          "output_type": "execute_result",
          "data": {
            "text/plain": [
              "['rapa', 1, 2, 3, 'dewan']"
            ]
          },
          "metadata": {},
          "execution_count": 60
        }
      ]
    },
    {
      "cell_type": "code",
      "source": [
        "lst[1:]"
      ],
      "metadata": {
        "id": "b68pQPu4BpeF",
        "outputId": "46cf08cc-7f15-46cf-a579-4c82cee04d47",
        "colab": {
          "base_uri": "https://localhost:8080/"
        }
      },
      "execution_count": null,
      "outputs": [
        {
          "output_type": "execute_result",
          "data": {
            "text/plain": [
              "[1, 2, 3, 'dewan']"
            ]
          },
          "metadata": {},
          "execution_count": 61
        }
      ]
    },
    {
      "cell_type": "code",
      "source": [
        "lst [1:4]"
      ],
      "metadata": {
        "id": "6u4E5IlvBtVm",
        "outputId": "7667cb6a-04ba-4858-fa3d-11743f656cc1",
        "colab": {
          "base_uri": "https://localhost:8080/"
        }
      },
      "execution_count": null,
      "outputs": [
        {
          "output_type": "execute_result",
          "data": {
            "text/plain": [
              "[1, 2, 3]"
            ]
          },
          "metadata": {},
          "execution_count": 64
        }
      ]
    },
    {
      "cell_type": "code",
      "source": [
        "lst.append (['rapuu', 'mash'])\n",
        "print (lst)"
      ],
      "metadata": {
        "id": "nYjvV0AvB0pz",
        "outputId": "c1f3dc95-518e-427c-de59-60f85b02649b",
        "colab": {
          "base_uri": "https://localhost:8080/"
        }
      },
      "execution_count": null,
      "outputs": [
        {
          "output_type": "stream",
          "name": "stdout",
          "text": [
            "['rapa', 1, 2, 3, 'dewan', 'rapu, mash', 'rapu, mash', 'rapu, mash', ['rapuu', 'mash']]\n"
          ]
        }
      ]
    },
    {
      "cell_type": "code",
      "source": [
        "lst.insert (2,'raziv')\n",
        "print (lst) //duibar kore ashe kno?"
      ],
      "metadata": {
        "id": "-U-12PiSC8AK",
        "outputId": "70618f41-f3d0-4ff8-86da-0ae7724d3bb4",
        "colab": {
          "base_uri": "https://localhost:8080/"
        }
      },
      "execution_count": null,
      "outputs": [
        {
          "output_type": "stream",
          "name": "stdout",
          "text": [
            "[511, 511, 'raziv', 'raziv', 'rapa', 1, 2, 3, 'dewan', 'rapu, mash', 'rapu, mash', 'rapu, mash', ['rapuu', 'mash']]\n"
          ]
        }
      ]
    },
    {
      "cell_type": "code",
      "source": [
        "lst1=list()\n",
        "lst1=[1,2,3,4]\n",
        "type(lst1)"
      ],
      "metadata": {
        "id": "1wGHjS3cDUPy",
        "outputId": "dfa82205-46d4-44d0-9017-d36d11c50080",
        "colab": {
          "base_uri": "https://localhost:8080/"
        }
      },
      "execution_count": null,
      "outputs": [
        {
          "output_type": "execute_result",
          "data": {
            "text/plain": [
              "list"
            ]
          },
          "metadata": {},
          "execution_count": 76
        }
      ]
    },
    {
      "cell_type": "code",
      "source": [
        "lst1.extend([5,6,7])\n",
        "print (lst1) # DUIBAR KENO ASHE?"
      ],
      "metadata": {
        "id": "32udOvSNGcz3",
        "outputId": "06898090-e776-45c4-f4f5-09acc52ce19d",
        "colab": {
          "base_uri": "https://localhost:8080/"
        }
      },
      "execution_count": null,
      "outputs": [
        {
          "output_type": "stream",
          "name": "stdout",
          "text": [
            "[1, 2, 3, 4, 5, 6, 7, 5, 6, 7]\n"
          ]
        }
      ]
    },
    {
      "cell_type": "code",
      "source": [
        "sum(lst1)"
      ],
      "metadata": {
        "id": "hWUpjl87G5b9",
        "outputId": "193328a4-ec9e-471d-94d6-f1b8379d31dd",
        "colab": {
          "base_uri": "https://localhost:8080/"
        }
      },
      "execution_count": null,
      "outputs": [
        {
          "output_type": "execute_result",
          "data": {
            "text/plain": [
              "46"
            ]
          },
          "metadata": {},
          "execution_count": 81
        }
      ]
    },
    {
      "cell_type": "code",
      "source": [
        "lst1.pop(5)"
      ],
      "metadata": {
        "id": "akDWPvRbIhBz",
        "outputId": "1f7b5eb1-8cc9-42fc-a84f-c85ae610c98e",
        "colab": {
          "base_uri": "https://localhost:8080/"
        }
      },
      "execution_count": null,
      "outputs": [
        {
          "output_type": "execute_result",
          "data": {
            "text/plain": [
              "6"
            ]
          },
          "metadata": {},
          "execution_count": 84
        }
      ]
    },
    {
      "cell_type": "code",
      "source": [
        "lst1.count(7)"
      ],
      "metadata": {
        "id": "0x0CvL3_Ip4U",
        "outputId": "869fab61-77cb-4356-eb8e-6bf8595bbc6c",
        "colab": {
          "base_uri": "https://localhost:8080/"
        }
      },
      "execution_count": null,
      "outputs": [
        {
          "output_type": "execute_result",
          "data": {
            "text/plain": [
              "1"
            ]
          },
          "metadata": {},
          "execution_count": 92
        }
      ]
    },
    {
      "cell_type": "code",
      "source": [
        "lst1.count(5)"
      ],
      "metadata": {
        "id": "-XiA6gL3I-Lz",
        "outputId": "79027757-a587-4160-cde5-cfdd47ca4945",
        "colab": {
          "base_uri": "https://localhost:8080/"
        }
      },
      "execution_count": null,
      "outputs": [
        {
          "output_type": "execute_result",
          "data": {
            "text/plain": [
              "2"
            ]
          },
          "metadata": {},
          "execution_count": 93
        }
      ]
    },
    {
      "cell_type": "code",
      "source": [
        "lst1.index(1,0,3) #0-3 er part bujhinai"
      ],
      "metadata": {
        "id": "Oj49ZYETJZp6",
        "outputId": "858b8493-01ef-4934-813b-0c8007d9416e",
        "colab": {
          "base_uri": "https://localhost:8080/"
        }
      },
      "execution_count": null,
      "outputs": [
        {
          "output_type": "execute_result",
          "data": {
            "text/plain": [
              "0"
            ]
          },
          "metadata": {},
          "execution_count": 95
        }
      ]
    },
    {
      "cell_type": "code",
      "source": [
        "min(lst1)"
      ],
      "metadata": {
        "id": "dVD5io7eLoeS",
        "outputId": "49b6cde8-ee77-4af5-a138-71c6d2825d69",
        "colab": {
          "base_uri": "https://localhost:8080/"
        }
      },
      "execution_count": null,
      "outputs": [
        {
          "output_type": "execute_result",
          "data": {
            "text/plain": [
              "1"
            ]
          },
          "metadata": {},
          "execution_count": 97
        }
      ]
    },
    {
      "cell_type": "code",
      "source": [
        "max(lst1)"
      ],
      "metadata": {
        "id": "1sO_cFF7MEK2",
        "outputId": "b00b48d3-d103-48a9-9c52-fa8cb04bafe0",
        "colab": {
          "base_uri": "https://localhost:8080/"
        }
      },
      "execution_count": null,
      "outputs": [
        {
          "output_type": "execute_result",
          "data": {
            "text/plain": [
              "7"
            ]
          },
          "metadata": {},
          "execution_count": 98
        }
      ]
    },
    {
      "cell_type": "code",
      "source": [
        "2*lst1 #ulta palta sb"
      ],
      "metadata": {
        "id": "A6h2QpNSMICc",
        "outputId": "53435ae7-029e-4299-f009-014770616c3b",
        "colab": {
          "base_uri": "https://localhost:8080/"
        }
      },
      "execution_count": null,
      "outputs": [
        {
          "output_type": "execute_result",
          "data": {
            "text/plain": [
              "[1, 2, 3, 4, 5, 7, 5, 6, 1, 2, 3, 4, 5, 7, 5, 6]"
            ]
          },
          "metadata": {},
          "execution_count": 99
        }
      ]
    },
    {
      "cell_type": "code",
      "source": [
        "set_var= set()\n",
        "print(set_var)\n",
        "type (set_var)\n",
        "print (type(set_var))"
      ],
      "metadata": {
        "id": "bAMXhYPtMKcX",
        "outputId": "ba7558a9-c4fe-4ac7-bc37-10d4057f9305",
        "colab": {
          "base_uri": "https://localhost:8080/"
        }
      },
      "execution_count": null,
      "outputs": [
        {
          "output_type": "stream",
          "name": "stdout",
          "text": [
            "set()\n",
            "<class 'set'>\n"
          ]
        }
      ]
    },
    {
      "cell_type": "code",
      "source": [
        "set_var={1,2,3,4,3}\n",
        "set_var"
      ],
      "metadata": {
        "id": "6KCQ1F4gw4EN",
        "outputId": "7abf3048-10ab-4c97-e21b-3d25492de7f7",
        "colab": {
          "base_uri": "https://localhost:8080/"
        }
      },
      "execution_count": null,
      "outputs": [
        {
          "output_type": "execute_result",
          "data": {
            "text/plain": [
              "{1, 2, 3, 4}"
            ]
          },
          "metadata": {},
          "execution_count": 5
        }
      ]
    },
    {
      "cell_type": "code",
      "source": [
        "set_var1=set()\n",
        "set_var1={'rapa','mash', 'aman', 'rapa'}\n",
        "set_var1 #serially ashlo na kno??"
      ],
      "metadata": {
        "id": "njM5MjRoxYx_",
        "outputId": "79ac5b9d-c709-4b8e-f50e-b3da49f109da",
        "colab": {
          "base_uri": "https://localhost:8080/"
        }
      },
      "execution_count": null,
      "outputs": [
        {
          "output_type": "execute_result",
          "data": {
            "text/plain": [
              "{'aman', 'mash', 'rapa'}"
            ]
          },
          "metadata": {},
          "execution_count": 7
        }
      ]
    },
    {
      "cell_type": "code",
      "source": [
        "dict()\n",
        "type (dict())"
      ],
      "metadata": {
        "id": "siAEFv_wyWq7",
        "outputId": "0d464278-0448-4b56-d7bb-8c7c61265934",
        "colab": {
          "base_uri": "https://localhost:8080/"
        }
      },
      "execution_count": 2,
      "outputs": [
        {
          "output_type": "execute_result",
          "data": {
            "text/plain": [
              "dict"
            ]
          },
          "metadata": {},
          "execution_count": 2
        }
      ]
    },
    {
      "cell_type": "code",
      "source": [
        "my_dict={'sec1':'mma','sec2':'mma1','sec3':'mma2'}\n",
        "my_dict['sec2']"
      ],
      "metadata": {
        "id": "iyDkkWALUkfy",
        "outputId": "d521c9e4-a59a-4a22-ff0a-b492044ef1be",
        "colab": {
          "base_uri": "https://localhost:8080/",
          "height": 35
        }
      },
      "execution_count": 3,
      "outputs": [
        {
          "output_type": "execute_result",
          "data": {
            "text/plain": [
              "'mma1'"
            ],
            "application/vnd.google.colaboratory.intrinsic+json": {
              "type": "string"
            }
          },
          "metadata": {},
          "execution_count": 3
        }
      ]
    },
    {
      "cell_type": "code",
      "source": [
        "for x in my_dict:\n",
        "  print (x)"
      ],
      "metadata": {
        "id": "zeyhoXPXVMBl",
        "outputId": "6acb092d-66ef-424d-bb36-8f05e6ea874b",
        "colab": {
          "base_uri": "https://localhost:8080/"
        }
      },
      "execution_count": 4,
      "outputs": [
        {
          "output_type": "stream",
          "name": "stdout",
          "text": [
            "sec1\n",
            "sec2\n",
            "sec3\n"
          ]
        }
      ]
    },
    {
      "cell_type": "code",
      "source": [
        "for x in my_dict.values():\n",
        "  print (x)"
      ],
      "metadata": {
        "id": "oJrvRZXXZNcP",
        "outputId": "302659d2-c65a-4921-ecea-8a7e2d581fdd",
        "colab": {
          "base_uri": "https://localhost:8080/"
        }
      },
      "execution_count": 7,
      "outputs": [
        {
          "output_type": "stream",
          "name": "stdout",
          "text": [
            "mma\n",
            "mma1\n",
            "mma2\n"
          ]
        }
      ]
    },
    {
      "cell_type": "code",
      "source": [
        "for x in my_dict.items():\n",
        "  print (x)"
      ],
      "metadata": {
        "id": "3uVoHxdDeIUW",
        "outputId": "96039fa5-d520-49f1-cfb6-bff5f60f17b0",
        "colab": {
          "base_uri": "https://localhost:8080/"
        }
      },
      "execution_count": 8,
      "outputs": [
        {
          "output_type": "stream",
          "name": "stdout",
          "text": [
            "('sec1', 'mma')\n",
            "('sec2', 'mma1')\n",
            "('sec3', 'mma2')\n"
          ]
        }
      ]
    },
    {
      "cell_type": "code",
      "source": [
        "my_dict['sec4']='mma3'\n",
        "my_dict"
      ],
      "metadata": {
        "id": "DM4qamjIegBA",
        "outputId": "e2278daa-362f-4022-bccb-e6423622c2c9",
        "colab": {
          "base_uri": "https://localhost:8080/"
        }
      },
      "execution_count": 9,
      "outputs": [
        {
          "output_type": "execute_result",
          "data": {
            "text/plain": [
              "{'sec1': 'mma', 'sec2': 'mma1', 'sec3': 'mma2', 'sec4': 'mma3'}"
            ]
          },
          "metadata": {},
          "execution_count": 9
        }
      ]
    },
    {
      "cell_type": "code",
      "source": [
        "my_dict['sec1']='mma1'\n"
      ],
      "metadata": {
        "id": "6SVspXkve8M_",
        "outputId": "bf8a34f9-ad4f-41e3-b360-51442d44c7ab",
        "colab": {
          "base_uri": "https://localhost:8080/",
          "height": 158
        }
      },
      "execution_count": 13,
      "outputs": [
        {
          "output_type": "error",
          "ename": "NameError",
          "evalue": "name 'sec1' is not defined",
          "traceback": [
            "\u001b[0;31m---------------------------------------------------------------------------\u001b[0m",
            "\u001b[0;31mNameError\u001b[0m                                 Traceback (most recent call last)",
            "\u001b[0;32m<ipython-input-13-1bdad96ec7a0>\u001b[0m in \u001b[0;36m<cell line: 2>\u001b[0;34m()\u001b[0m\n\u001b[1;32m      1\u001b[0m \u001b[0mmy_dict\u001b[0m\u001b[0;34m[\u001b[0m\u001b[0;34m'sec1'\u001b[0m\u001b[0;34m]\u001b[0m\u001b[0;34m=\u001b[0m\u001b[0;34m'mma1'\u001b[0m\u001b[0;34m\u001b[0m\u001b[0;34m\u001b[0m\u001b[0m\n\u001b[0;32m----> 2\u001b[0;31m \u001b[0mmy_dict\u001b[0m \u001b[0;34m[\u001b[0m\u001b[0msec1\u001b[0m\u001b[0;34m]\u001b[0m\u001b[0;34m\u001b[0m\u001b[0;34m\u001b[0m\u001b[0m\n\u001b[0m",
            "\u001b[0;31mNameError\u001b[0m: name 'sec1' is not defined"
          ]
        }
      ]
    },
    {
      "cell_type": "code",
      "source": [
        "my_dict['mma1']"
      ],
      "metadata": {
        "id": "ptD_DL3kfRoO",
        "outputId": "4215fa4d-174d-4a63-b1b4-4fccf95be76e",
        "colab": {
          "base_uri": "https://localhost:8080/",
          "height": 141
        }
      },
      "execution_count": 11,
      "outputs": [
        {
          "output_type": "error",
          "ename": "KeyError",
          "evalue": "'mma1'",
          "traceback": [
            "\u001b[0;31m---------------------------------------------------------------------------\u001b[0m",
            "\u001b[0;31mKeyError\u001b[0m                                  Traceback (most recent call last)",
            "\u001b[0;32m<ipython-input-11-156f8ad347cd>\u001b[0m in \u001b[0;36m<cell line: 1>\u001b[0;34m()\u001b[0m\n\u001b[0;32m----> 1\u001b[0;31m \u001b[0mmy_dict\u001b[0m\u001b[0;34m[\u001b[0m\u001b[0;34m'mma1'\u001b[0m\u001b[0;34m]\u001b[0m\u001b[0;34m\u001b[0m\u001b[0;34m\u001b[0m\u001b[0m\n\u001b[0m",
            "\u001b[0;31mKeyError\u001b[0m: 'mma1'"
          ]
        }
      ]
    },
    {
      "cell_type": "code",
      "source": [
        "my_dict1={'sec1':'rapa', 'sec2':'mash', 'sec1':'aman'}\n",
        "my_dict1[sec1]"
      ],
      "metadata": {
        "id": "x9lahtrgfZSO",
        "outputId": "b86ad43a-cfd6-4ca7-aad9-a8bccac3faf8",
        "colab": {
          "base_uri": "https://localhost:8080/",
          "height": 158
        }
      },
      "execution_count": 15,
      "outputs": [
        {
          "output_type": "error",
          "ename": "NameError",
          "evalue": "name 'sec1' is not defined",
          "traceback": [
            "\u001b[0;31m---------------------------------------------------------------------------\u001b[0m",
            "\u001b[0;31mNameError\u001b[0m                                 Traceback (most recent call last)",
            "\u001b[0;32m<ipython-input-15-cf4ddee48dcd>\u001b[0m in \u001b[0;36m<cell line: 2>\u001b[0;34m()\u001b[0m\n\u001b[1;32m      1\u001b[0m \u001b[0mmy_dict1\u001b[0m\u001b[0;34m=\u001b[0m\u001b[0;34m{\u001b[0m\u001b[0;34m'sec1'\u001b[0m\u001b[0;34m:\u001b[0m\u001b[0;34m'rapa'\u001b[0m\u001b[0;34m,\u001b[0m \u001b[0;34m'sec2'\u001b[0m\u001b[0;34m:\u001b[0m\u001b[0;34m'mash'\u001b[0m\u001b[0;34m,\u001b[0m \u001b[0;34m'sec1'\u001b[0m\u001b[0;34m:\u001b[0m\u001b[0;34m'aman'\u001b[0m\u001b[0;34m}\u001b[0m\u001b[0;34m\u001b[0m\u001b[0;34m\u001b[0m\u001b[0m\n\u001b[0;32m----> 2\u001b[0;31m \u001b[0mmy_dict1\u001b[0m\u001b[0;34m[\u001b[0m\u001b[0msec1\u001b[0m\u001b[0;34m]\u001b[0m\u001b[0;34m\u001b[0m\u001b[0;34m\u001b[0m\u001b[0m\n\u001b[0m",
            "\u001b[0;31mNameError\u001b[0m: name 'sec1' is not defined"
          ]
        }
      ]
    },
    {
      "cell_type": "code",
      "source": [
        "car1_mod={'Audi':1980}\n",
        "car2_mod={'benz':1920}\n",
        "car3_mod={'mars':1975}\n",
        "car_type={'car1':car1_mod, 'car2':car2_mod, 'car3':car3_mod}\n",
        "print (car_type)"
      ],
      "metadata": {
        "id": "2yxaKPk5fwz8",
        "outputId": "847c285d-26df-4237-b0fc-417b40d57cbf",
        "colab": {
          "base_uri": "https://localhost:8080/"
        }
      },
      "execution_count": 19,
      "outputs": [
        {
          "output_type": "stream",
          "name": "stdout",
          "text": [
            "{'car1': {'Audi': 1980}, 'car2': {'benz': 1920}, 'car3': {'mars': 1975}}\n"
          ]
        }
      ]
    },
    {
      "cell_type": "code",
      "source": [
        "print (car_type['car1'])"
      ],
      "metadata": {
        "id": "XKJci7ZUjVQN",
        "outputId": "d9a87c62-908c-4dca-a882-b0a776723893",
        "colab": {
          "base_uri": "https://localhost:8080/"
        }
      },
      "execution_count": 21,
      "outputs": [
        {
          "output_type": "stream",
          "name": "stdout",
          "text": [
            "{'Audi': 1980}\n"
          ]
        }
      ]
    },
    {
      "cell_type": "code",
      "source": [
        "print (car_type['car1']['Audi'])"
      ],
      "metadata": {
        "id": "_W1TC0TUj1KD",
        "outputId": "98cdd4c5-6ecc-4b56-9926-386d7499ee67",
        "colab": {
          "base_uri": "https://localhost:8080/"
        }
      },
      "execution_count": 22,
      "outputs": [
        {
          "output_type": "stream",
          "name": "stdout",
          "text": [
            "1980\n"
          ]
        }
      ]
    },
    {
      "cell_type": "code",
      "source": [
        "my_tupl=('abc','def','ghi')\n",
        "my_tupl,type(my_tupl),my_tupl[0]"
      ],
      "metadata": {
        "id": "-qQ0fKjPkAxh",
        "outputId": "31121371-81f0-47b8-9b3f-269efcf7f3c6",
        "colab": {
          "base_uri": "https://localhost:8080/"
        }
      },
      "execution_count": 27,
      "outputs": [
        {
          "output_type": "execute_result",
          "data": {
            "text/plain": [
              "(('abc', 'def', 'ghi'), tuple, 'abc')"
            ]
          },
          "metadata": {},
          "execution_count": 27
        }
      ]
    },
    {
      "cell_type": "code",
      "source": [
        "my_tupl[0]=('efg')"
      ],
      "metadata": {
        "id": "HhINXDaCnv_w",
        "outputId": "217786e0-0cab-49dc-86e0-c0d874a6245f",
        "colab": {
          "base_uri": "https://localhost:8080/",
          "height": 141
        }
      },
      "execution_count": 28,
      "outputs": [
        {
          "output_type": "error",
          "ename": "TypeError",
          "evalue": "'tuple' object does not support item assignment",
          "traceback": [
            "\u001b[0;31m---------------------------------------------------------------------------\u001b[0m",
            "\u001b[0;31mTypeError\u001b[0m                                 Traceback (most recent call last)",
            "\u001b[0;32m<ipython-input-28-f6f0aada5872>\u001b[0m in \u001b[0;36m<cell line: 1>\u001b[0;34m()\u001b[0m\n\u001b[0;32m----> 1\u001b[0;31m \u001b[0mmy_tupl\u001b[0m\u001b[0;34m[\u001b[0m\u001b[0;36m0\u001b[0m\u001b[0;34m]\u001b[0m\u001b[0;34m=\u001b[0m\u001b[0;34m(\u001b[0m\u001b[0;34m'efg'\u001b[0m\u001b[0;34m)\u001b[0m\u001b[0;34m\u001b[0m\u001b[0;34m\u001b[0m\u001b[0m\n\u001b[0m",
            "\u001b[0;31mTypeError\u001b[0m: 'tuple' object does not support item assignment"
          ]
        }
      ]
    },
    {
      "cell_type": "code",
      "source": [
        "my_tupl=('efg','ijk','ijk')\n",
        "my_tupl"
      ],
      "metadata": {
        "id": "ro2QSVKloQR4",
        "outputId": "c9b2f55e-49d8-434e-914f-6e5da9a94f4d",
        "colab": {
          "base_uri": "https://localhost:8080/"
        }
      },
      "execution_count": 35,
      "outputs": [
        {
          "output_type": "execute_result",
          "data": {
            "text/plain": [
              "('efg', 'ijk', 'ijk')"
            ]
          },
          "metadata": {},
          "execution_count": 35
        }
      ]
    },
    {
      "cell_type": "code",
      "source": [
        "my_tupl.index('efg')"
      ],
      "metadata": {
        "id": "JNk_LdusoWwp",
        "outputId": "30e00b2b-3373-4ade-8d5d-9f461261ed10",
        "colab": {
          "base_uri": "https://localhost:8080/"
        }
      },
      "execution_count": 32,
      "outputs": [
        {
          "output_type": "execute_result",
          "data": {
            "text/plain": [
              "0"
            ]
          },
          "metadata": {},
          "execution_count": 32
        }
      ]
    },
    {
      "cell_type": "code",
      "source": [
        "my_tupl.count('ijk')\n"
      ],
      "metadata": {
        "id": "YcHZceQZoovw",
        "outputId": "86664cc9-552a-4ae3-c3af-5752dd27aaef",
        "colab": {
          "base_uri": "https://localhost:8080/"
        }
      },
      "execution_count": 36,
      "outputs": [
        {
          "output_type": "execute_result",
          "data": {
            "text/plain": [
              "2"
            ]
          },
          "metadata": {},
          "execution_count": 36
        }
      ]
    },
    {
      "cell_type": "markdown",
      "source": [
        "##Video=>7##"
      ],
      "metadata": {
        "id": "eUacttofEWUZ"
      }
    },
    {
      "cell_type": "code",
      "source": [
        "import numpy as np"
      ],
      "metadata": {
        "id": "YdJLylkSEhEx"
      },
      "execution_count": 1,
      "outputs": []
    },
    {
      "cell_type": "code",
      "source": [
        " my_lst=[1,2,3,4,5]\n",
        " arr=np.array(my_lst)\n",
        " type (arr)"
      ],
      "metadata": {
        "id": "XuM9FK_-Nvgm",
        "outputId": "1be29829-bcaa-4510-e2c7-5a127cb99a65",
        "colab": {
          "base_uri": "https://localhost:8080/"
        }
      },
      "execution_count": 2,
      "outputs": [
        {
          "output_type": "execute_result",
          "data": {
            "text/plain": [
              "numpy.ndarray"
            ]
          },
          "metadata": {},
          "execution_count": 2
        }
      ]
    },
    {
      "cell_type": "code",
      "source": [
        "arr"
      ],
      "metadata": {
        "id": "LsT-ZjAkP_qQ",
        "outputId": "5f343134-d798-496f-ec80-7a268dc052b4",
        "colab": {
          "base_uri": "https://localhost:8080/"
        }
      },
      "execution_count": 3,
      "outputs": [
        {
          "output_type": "execute_result",
          "data": {
            "text/plain": [
              "array([1, 2, 3, 4, 5])"
            ]
          },
          "metadata": {},
          "execution_count": 3
        }
      ]
    },
    {
      "cell_type": "code",
      "source": [
        "arr[3]"
      ],
      "metadata": {
        "id": "uuHUQQ29TYFs",
        "outputId": "bb356141-ba77-4c3b-f717-e04113e82a7a",
        "colab": {
          "base_uri": "https://localhost:8080/",
          "height": 141
        }
      },
      "execution_count": 10,
      "outputs": [
        {
          "output_type": "error",
          "ename": "IndexError",
          "evalue": "index 3 is out of bounds for axis 0 with size 3",
          "traceback": [
            "\u001b[0;31m---------------------------------------------------------------------------\u001b[0m",
            "\u001b[0;31mIndexError\u001b[0m                                Traceback (most recent call last)",
            "\u001b[0;32m<ipython-input-10-522d7818859e>\u001b[0m in \u001b[0;36m<cell line: 1>\u001b[0;34m()\u001b[0m\n\u001b[0;32m----> 1\u001b[0;31m \u001b[0marr\u001b[0m\u001b[0;34m[\u001b[0m\u001b[0;36m3\u001b[0m\u001b[0;34m]\u001b[0m\u001b[0;34m\u001b[0m\u001b[0;34m\u001b[0m\u001b[0m\n\u001b[0m",
            "\u001b[0;31mIndexError\u001b[0m: index 3 is out of bounds for axis 0 with size 3"
          ]
        }
      ]
    },
    {
      "cell_type": "code",
      "source": [
        "arr.shape"
      ],
      "metadata": {
        "id": "o9Jn48QTQC_N",
        "outputId": "4f75e4ea-661c-4fe3-9087-b54806cd319d",
        "colab": {
          "base_uri": "https://localhost:8080/"
        }
      },
      "execution_count": 4,
      "outputs": [
        {
          "output_type": "execute_result",
          "data": {
            "text/plain": [
              "(5,)"
            ]
          },
          "metadata": {},
          "execution_count": 4
        }
      ]
    },
    {
      "cell_type": "code",
      "source": [
        "my_lst1=[1,2,3,4,5]\n",
        "my_lst2=[5,6,7,8,9]\n",
        "my_lst3=[4,5,2,3,7]\n",
        "arr=np.array([my_lst1,my_lst2,my_lst3])\n",
        "arr"
      ],
      "metadata": {
        "id": "fJaWJ6ciQShG",
        "outputId": "71443f93-8542-45f8-e9d9-4a7f262f3c5c",
        "colab": {
          "base_uri": "https://localhost:8080/"
        }
      },
      "execution_count": 6,
      "outputs": [
        {
          "output_type": "execute_result",
          "data": {
            "text/plain": [
              "array([[1, 2, 3, 4, 5],\n",
              "       [5, 6, 7, 8, 9],\n",
              "       [4, 5, 2, 3, 7]])"
            ]
          },
          "metadata": {},
          "execution_count": 6
        }
      ]
    },
    {
      "cell_type": "code",
      "source": [
        "arr.shape"
      ],
      "metadata": {
        "id": "-4j0avKOQ-7d",
        "outputId": "72ec884a-5b71-4801-f1df-cf3b92c79fc2",
        "colab": {
          "base_uri": "https://localhost:8080/"
        }
      },
      "execution_count": 7,
      "outputs": [
        {
          "output_type": "execute_result",
          "data": {
            "text/plain": [
              "(3, 5)"
            ]
          },
          "metadata": {},
          "execution_count": 7
        }
      ]
    },
    {
      "cell_type": "code",
      "source": [
        "arr.reshape(5,3)"
      ],
      "metadata": {
        "id": "hZ7Qn9x9RMUU",
        "outputId": "72b4f4c1-93e3-466f-f576-5b02a40be666",
        "colab": {
          "base_uri": "https://localhost:8080/"
        }
      },
      "execution_count": 9,
      "outputs": [
        {
          "output_type": "execute_result",
          "data": {
            "text/plain": [
              "array([[1, 2, 3],\n",
              "       [4, 5, 5],\n",
              "       [6, 7, 8],\n",
              "       [9, 4, 5],\n",
              "       [2, 3, 7]])"
            ]
          },
          "metadata": {},
          "execution_count": 9
        }
      ]
    },
    {
      "cell_type": "code",
      "source": [
        "arr=np.array([1,2,3,4,5,6,7,8])\n",
        "arr"
      ],
      "metadata": {
        "id": "Q9sTQONAWpzr",
        "outputId": "e262e55b-cab1-4e8a-96f9-3930cab7325a",
        "colab": {
          "base_uri": "https://localhost:8080/"
        }
      },
      "execution_count": 14,
      "outputs": [
        {
          "output_type": "execute_result",
          "data": {
            "text/plain": [
              "array([1, 2, 3, 4, 5, 6, 7, 8])"
            ]
          },
          "metadata": {},
          "execution_count": 14
        }
      ]
    },
    {
      "cell_type": "code",
      "source": [
        "arr[5]"
      ],
      "metadata": {
        "id": "6BCgbUJbXFB2",
        "outputId": "81b75e8b-682a-4381-b0d7-1fd10f9f5fe6",
        "colab": {
          "base_uri": "https://localhost:8080/"
        }
      },
      "execution_count": 15,
      "outputs": [
        {
          "output_type": "execute_result",
          "data": {
            "text/plain": [
              "6"
            ]
          },
          "metadata": {},
          "execution_count": 15
        }
      ]
    },
    {
      "cell_type": "code",
      "source": [],
      "metadata": {
        "id": "fLFjwyoHXHoj"
      },
      "execution_count": null,
      "outputs": []
    }
  ]
}