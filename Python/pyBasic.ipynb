{
  "nbformat": 4,
  "nbformat_minor": 0,
  "metadata": {
    "colab": {
      "provenance": [],
      "include_colab_link": true
    },
    "kernelspec": {
      "name": "python3",
      "display_name": "Python 3"
    },
    "language_info": {
      "name": "python"
    }
  },
  "cells": [
    {
      "cell_type": "markdown",
      "metadata": {
        "id": "view-in-github",
        "colab_type": "text"
      },
      "source": [
        "<a href=\"https://colab.research.google.com/github/RapaDewan/Machine-Learning/blob/main/Python/pyBasic.ipynb\" target=\"_parent\"><img src=\"https://colab.research.google.com/assets/colab-badge.svg\" alt=\"Open In Colab\"/></a>"
      ]
    },
    {
      "cell_type": "code",
      "execution_count": null,
      "metadata": {
        "colab": {
          "base_uri": "https://localhost:8080/"
        },
        "id": "MU1unH8IalI1",
        "outputId": "71bcb891-99ae-4fcb-a2b4-6610c32b3a9f"
      },
      "outputs": [
        {
          "output_type": "stream",
          "name": "stdout",
          "text": [
            "Rapa\n"
          ]
        }
      ],
      "source": [
        "print('Rapa')"
      ]
    },
    {
      "cell_type": "code",
      "source": [
        "7+7"
      ],
      "metadata": {
        "colab": {
          "base_uri": "https://localhost:8080/"
        },
        "id": "g0RRhH2ua1rm",
        "outputId": "dd4edeba-04bd-4746-f391-3dbb65930ac7"
      },
      "execution_count": null,
      "outputs": [
        {
          "output_type": "execute_result",
          "data": {
            "text/plain": [
              "14"
            ]
          },
          "metadata": {},
          "execution_count": 51
        }
      ]
    },
    {
      "cell_type": "code",
      "source": [
        "2*3"
      ],
      "metadata": {
        "id": "apiaqhBoa9iy",
        "colab": {
          "base_uri": "https://localhost:8080/"
        },
        "outputId": "852caac4-cb72-4a45-e967-046e810d5c5a"
      },
      "execution_count": null,
      "outputs": [
        {
          "output_type": "execute_result",
          "data": {
            "text/plain": [
              "6"
            ]
          },
          "metadata": {},
          "execution_count": 52
        }
      ]
    },
    {
      "cell_type": "code",
      "source": [
        "10* 'rapa'"
      ],
      "metadata": {
        "colab": {
          "base_uri": "https://localhost:8080/",
          "height": 35
        },
        "id": "yLXkoJ_1Kdfu",
        "outputId": "6723a3a9-71f3-47bd-9db4-e191050581e6"
      },
      "execution_count": null,
      "outputs": [
        {
          "output_type": "execute_result",
          "data": {
            "text/plain": [
              "'raparaparaparaparaparaparaparaparaparapa'"
            ],
            "application/vnd.google.colaboratory.intrinsic+json": {
              "type": "string"
            }
          },
          "metadata": {},
          "execution_count": 53
        }
      ]
    },
    {
      "cell_type": "code",
      "source": [
        "type ('rapa')"
      ],
      "metadata": {
        "colab": {
          "base_uri": "https://localhost:8080/"
        },
        "id": "QUuVmK5LNQLc",
        "outputId": "ce9636b1-8180-40d7-9b5c-1dea77a389e9"
      },
      "execution_count": null,
      "outputs": [
        {
          "output_type": "execute_result",
          "data": {
            "text/plain": [
              "str"
            ]
          },
          "metadata": {},
          "execution_count": 54
        }
      ]
    },
    {
      "cell_type": "code",
      "source": [
        "type ('False')"
      ],
      "metadata": {
        "colab": {
          "base_uri": "https://localhost:8080/"
        },
        "id": "zVNv4jzshUNd",
        "outputId": "c88dec11-486c-48e4-a63d-52bffee3a99a"
      },
      "execution_count": null,
      "outputs": [
        {
          "output_type": "execute_result",
          "data": {
            "text/plain": [
              "str"
            ]
          },
          "metadata": {},
          "execution_count": 55
        }
      ]
    },
    {
      "cell_type": "code",
      "source": [
        "#syntax\n",
        "#var_names=values\n",
        "\n",
        "b=100\n",
        "\n",
        "type (b)"
      ],
      "metadata": {
        "colab": {
          "base_uri": "https://localhost:8080/"
        },
        "id": "GgRAzYpXhmFZ",
        "outputId": "b569f3d9-e683-4689-e14f-6563acb4dd45"
      },
      "execution_count": null,
      "outputs": [
        {
          "output_type": "execute_result",
          "data": {
            "text/plain": [
              "int"
            ]
          },
          "metadata": {},
          "execution_count": 56
        }
      ]
    },
    {
      "cell_type": "markdown",
      "source": [],
      "metadata": {
        "id": "4N4JQ4yOiOjz"
      }
    },
    {
      "cell_type": "code",
      "source": [
        "b=100\n",
        "type (b)"
      ],
      "metadata": {
        "colab": {
          "base_uri": "https://localhost:8080/"
        },
        "id": "Cg51JzPviXBx",
        "outputId": "c9adf579-86a0-4674-f8bd-b749231a64e2"
      },
      "execution_count": null,
      "outputs": [
        {
          "output_type": "execute_result",
          "data": {
            "text/plain": [
              "int"
            ]
          },
          "metadata": {},
          "execution_count": 57
        }
      ]
    },
    {
      "cell_type": "code",
      "source": [
        "a=5\n",
        "b=2\n",
        "\n",
        "print (a+b)\n",
        "print (a-b)\n",
        "print (a*3)\n",
        "print (b*1.8)"
      ],
      "metadata": {
        "colab": {
          "base_uri": "https://localhost:8080/"
        },
        "id": "f0LacFWIim2P",
        "outputId": "efdfacac-85af-487b-ee92-d03d0c820ef3"
      },
      "execution_count": null,
      "outputs": [
        {
          "output_type": "stream",
          "name": "stdout",
          "text": [
            "7\n",
            "3\n",
            "15\n",
            "3.6\n"
          ]
        }
      ]
    },
    {
      "cell_type": "code",
      "source": [
        "first_name= \"Rapa\"\n",
        "last_name= \"Dewan\"\n",
        "\n",
        "print (\"My first name is {} and my last name is {}.\" .format(first_name, last_name))"
      ],
      "metadata": {
        "colab": {
          "base_uri": "https://localhost:8080/"
        },
        "id": "ThSM2SlQjEIr",
        "outputId": "f12e9bc5-02e6-4e08-bd90-678056ebad44"
      },
      "execution_count": null,
      "outputs": [
        {
          "output_type": "stream",
          "name": "stdout",
          "text": [
            "My first name is Rapa and my last name is Dewan.\n"
          ]
        }
      ]
    },
    {
      "cell_type": "code",
      "source": [
        "first_name= \"Rapa\"\n",
        "last_name= \"Dewan\"\n",
        "\n",
        "print (\"My first name is {first} and my last name is {last}.\" .format(last=last_name, first=first_name))"
      ],
      "metadata": {
        "colab": {
          "base_uri": "https://localhost:8080/"
        },
        "id": "NBVsgIZnm-fb",
        "outputId": "32904952-a24d-48cd-a231-9c54d5631305"
      },
      "execution_count": null,
      "outputs": [
        {
          "output_type": "stream",
          "name": "stdout",
          "text": [
            "My first name is Rapa and my last name is Dewan.\n"
          ]
        }
      ]
    },
    {
      "cell_type": "markdown",
      "source": [],
      "metadata": {
        "id": "G3zpqeSApnvI"
      }
    },
    {
      "cell_type": "code",
      "source": [
        "len ('rapa dewan')"
      ],
      "metadata": {
        "colab": {
          "base_uri": "https://localhost:8080/"
        },
        "id": "ZlZxVMN6poqG",
        "outputId": "054d6c47-0277-4d28-b990-938651fc6647"
      },
      "execution_count": null,
      "outputs": [
        {
          "output_type": "execute_result",
          "data": {
            "text/plain": [
              "10"
            ]
          },
          "metadata": {},
          "execution_count": 61
        }
      ]
    },
    {
      "cell_type": "code",
      "source": [
        "type ([1,2,3,4])"
      ],
      "metadata": {
        "colab": {
          "base_uri": "https://localhost:8080/"
        },
        "id": "Xe_eg5Pips3j",
        "outputId": "04dc0c8f-b155-4ff5-e91d-823d78cdc941"
      },
      "execution_count": null,
      "outputs": [
        {
          "output_type": "execute_result",
          "data": {
            "text/plain": [
              "list"
            ]
          },
          "metadata": {},
          "execution_count": 62
        }
      ]
    },
    {
      "cell_type": "code",
      "source": [
        "my_word= 'Rapa dewan'\n",
        "my_word.istitle()"
      ],
      "metadata": {
        "colab": {
          "base_uri": "https://localhost:8080/"
        },
        "id": "MD3Pk2UMqFT3",
        "outputId": "9ac64dfd-2c3f-4bc7-9094-7f59755a1c5f"
      },
      "execution_count": null,
      "outputs": [
        {
          "output_type": "execute_result",
          "data": {
            "text/plain": [
              "False"
            ]
          },
          "metadata": {},
          "execution_count": 63
        }
      ]
    },
    {
      "cell_type": "code",
      "source": [
        "my_word= \"Rapa\"\n",
        "my_word.startswith('R')\n"
      ],
      "metadata": {
        "id": "TdHjY8-g4ubj",
        "outputId": "f4eb6e51-09e7-42cc-f518-c2a75e9cab50",
        "colab": {
          "base_uri": "https://localhost:8080/"
        }
      },
      "execution_count": null,
      "outputs": [
        {
          "output_type": "execute_result",
          "data": {
            "text/plain": [
              "True"
            ]
          },
          "metadata": {},
          "execution_count": 64
        }
      ]
    },
    {
      "cell_type": "code",
      "source": [
        "True and True"
      ],
      "metadata": {
        "id": "dOSZzcTG5w-E",
        "outputId": "76d50397-6d01-4bca-b903-c0584abf6a84",
        "colab": {
          "base_uri": "https://localhost:8080/"
        }
      },
      "execution_count": null,
      "outputs": [
        {
          "output_type": "execute_result",
          "data": {
            "text/plain": [
              "True"
            ]
          },
          "metadata": {},
          "execution_count": 65
        }
      ]
    },
    {
      "cell_type": "code",
      "source": [
        "True or False"
      ],
      "metadata": {
        "id": "cTNwyBGT6urJ",
        "outputId": "bb6ced7f-dc4a-469a-ed13-a38e5b55ed75",
        "colab": {
          "base_uri": "https://localhost:8080/"
        }
      },
      "execution_count": null,
      "outputs": [
        {
          "output_type": "execute_result",
          "data": {
            "text/plain": [
              "True"
            ]
          },
          "metadata": {},
          "execution_count": 66
        }
      ]
    },
    {
      "cell_type": "code",
      "source": [
        "True and False"
      ],
      "metadata": {
        "id": "lypYX82D6w-H",
        "outputId": "f6ff78eb-1b78-4799-9d66-8a57f432eb14",
        "colab": {
          "base_uri": "https://localhost:8080/"
        }
      },
      "execution_count": null,
      "outputs": [
        {
          "output_type": "execute_result",
          "data": {
            "text/plain": [
              "False"
            ]
          },
          "metadata": {},
          "execution_count": 67
        }
      ]
    },
    {
      "cell_type": "code",
      "source": [
        "example= \"Mash123\"\n",
        "my_exp= \"rapa dewan\"\n",
        "example.isalnum() and my_exp.isalpha() #prblem"
      ],
      "metadata": {
        "id": "fkDHKOzS63vc",
        "outputId": "e7dccd9b-a641-47b1-94ff-676da7422084",
        "colab": {
          "base_uri": "https://localhost:8080/"
        }
      },
      "execution_count": null,
      "outputs": [
        {
          "output_type": "execute_result",
          "data": {
            "text/plain": [
              "False"
            ]
          },
          "metadata": {},
          "execution_count": 68
        }
      ]
    },
    {
      "cell_type": "code",
      "source": [
        "list_exp= []\n",
        "type (list_exp)"
      ],
      "metadata": {
        "id": "QVgPiO6E9J2_",
        "outputId": "2fc00dac-2c27-418b-9c6d-cd240c1e5ee8",
        "colab": {
          "base_uri": "https://localhost:8080/"
        }
      },
      "execution_count": null,
      "outputs": [
        {
          "output_type": "execute_result",
          "data": {
            "text/plain": [
              "list"
            ]
          },
          "metadata": {},
          "execution_count": 69
        }
      ]
    },
    {
      "cell_type": "code",
      "source": [
        "lst=list()\n",
        "lst= [\"rapa\",1,2,3]\n",
        "type (lst)\n",
        "len(lst)\n",
        "lst.append(\"dewan\")\n",
        "print (lst)\n",
        "lst[0]"
      ],
      "metadata": {
        "id": "SAhPsoGr-mw6",
        "outputId": "2ab0b631-2320-4a34-d14b-7883d3a38a55",
        "colab": {
          "base_uri": "https://localhost:8080/",
          "height": 52
        }
      },
      "execution_count": null,
      "outputs": [
        {
          "output_type": "stream",
          "name": "stdout",
          "text": [
            "['rapa', 1, 2, 3, 'dewan']\n"
          ]
        },
        {
          "output_type": "execute_result",
          "data": {
            "text/plain": [
              "'rapa'"
            ],
            "application/vnd.google.colaboratory.intrinsic+json": {
              "type": "string"
            }
          },
          "metadata": {},
          "execution_count": 70
        }
      ]
    },
    {
      "cell_type": "code",
      "source": [
        "lst[:]"
      ],
      "metadata": {
        "id": "_UaBW31u-xPm",
        "outputId": "8b574ddc-8dc4-420c-8fae-44f647eac48f",
        "colab": {
          "base_uri": "https://localhost:8080/"
        }
      },
      "execution_count": null,
      "outputs": [
        {
          "output_type": "execute_result",
          "data": {
            "text/plain": [
              "['rapa', 1, 2, 3, 'dewan']"
            ]
          },
          "metadata": {},
          "execution_count": 71
        }
      ]
    },
    {
      "cell_type": "code",
      "source": [
        "lst[1:]"
      ],
      "metadata": {
        "id": "b68pQPu4BpeF",
        "outputId": "d62b5f77-16ab-4054-84e8-4d0b9969c755",
        "colab": {
          "base_uri": "https://localhost:8080/"
        }
      },
      "execution_count": null,
      "outputs": [
        {
          "output_type": "execute_result",
          "data": {
            "text/plain": [
              "[1, 2, 3, 'dewan']"
            ]
          },
          "metadata": {},
          "execution_count": 72
        }
      ]
    },
    {
      "cell_type": "code",
      "source": [
        "lst [1:4]"
      ],
      "metadata": {
        "id": "6u4E5IlvBtVm",
        "outputId": "ec133409-24ce-4dea-f2af-60068d14ea96",
        "colab": {
          "base_uri": "https://localhost:8080/"
        }
      },
      "execution_count": null,
      "outputs": [
        {
          "output_type": "execute_result",
          "data": {
            "text/plain": [
              "[1, 2, 3]"
            ]
          },
          "metadata": {},
          "execution_count": 73
        }
      ]
    },
    {
      "cell_type": "code",
      "source": [
        "lst.append (['rapuu', 'mash'])\n",
        "print (lst)"
      ],
      "metadata": {
        "id": "nYjvV0AvB0pz",
        "outputId": "5be641de-3411-4f68-ce7c-3c52857ddc56",
        "colab": {
          "base_uri": "https://localhost:8080/"
        }
      },
      "execution_count": null,
      "outputs": [
        {
          "output_type": "stream",
          "name": "stdout",
          "text": [
            "['rapa', 1, 2, 3, 'dewan', ['rapuu', 'mash']]\n"
          ]
        }
      ]
    },
    {
      "cell_type": "code",
      "source": [
        "lst.insert (2,'raziv')\n",
        "print (lst) //duibar kore ashe kno?"
      ],
      "metadata": {
        "id": "-U-12PiSC8AK",
        "outputId": "f437f8f7-49b6-4119-a01b-a6c30730be3e",
        "colab": {
          "base_uri": "https://localhost:8080/"
        }
      },
      "execution_count": null,
      "outputs": [
        {
          "output_type": "stream",
          "name": "stdout",
          "text": [
            "Object `kno` not found.\n"
          ]
        }
      ]
    },
    {
      "cell_type": "code",
      "source": [
        "lst1=list()\n",
        "lst1=[1,2,3,4]\n",
        "type(lst1)"
      ],
      "metadata": {
        "id": "1wGHjS3cDUPy",
        "outputId": "e98ccd29-4f46-4a84-8a11-bcdd73e93d5e",
        "colab": {
          "base_uri": "https://localhost:8080/"
        }
      },
      "execution_count": null,
      "outputs": [
        {
          "output_type": "execute_result",
          "data": {
            "text/plain": [
              "list"
            ]
          },
          "metadata": {},
          "execution_count": 76
        }
      ]
    },
    {
      "cell_type": "code",
      "source": [
        "lst1.extend([5,6,7])\n",
        "print (lst1) # DUIBAR KENO ASHE?"
      ],
      "metadata": {
        "id": "32udOvSNGcz3",
        "outputId": "8d7faae8-846f-435b-b847-aa42fc9931e0",
        "colab": {
          "base_uri": "https://localhost:8080/"
        }
      },
      "execution_count": null,
      "outputs": [
        {
          "output_type": "stream",
          "name": "stdout",
          "text": [
            "[1, 2, 3, 4, 5, 6, 7]\n"
          ]
        }
      ]
    },
    {
      "cell_type": "code",
      "source": [
        "sum(lst1)"
      ],
      "metadata": {
        "id": "hWUpjl87G5b9",
        "outputId": "37c1dd99-da85-4ffd-e109-969ecad59cc1",
        "colab": {
          "base_uri": "https://localhost:8080/"
        }
      },
      "execution_count": null,
      "outputs": [
        {
          "output_type": "execute_result",
          "data": {
            "text/plain": [
              "28"
            ]
          },
          "metadata": {},
          "execution_count": 78
        }
      ]
    },
    {
      "cell_type": "code",
      "source": [
        "lst1.pop(5)"
      ],
      "metadata": {
        "id": "akDWPvRbIhBz",
        "outputId": "4acd54be-4c32-4ce8-c1ec-c7c219449b7e",
        "colab": {
          "base_uri": "https://localhost:8080/"
        }
      },
      "execution_count": null,
      "outputs": [
        {
          "output_type": "execute_result",
          "data": {
            "text/plain": [
              "6"
            ]
          },
          "metadata": {},
          "execution_count": 79
        }
      ]
    },
    {
      "cell_type": "code",
      "source": [
        "lst1.count(7)"
      ],
      "metadata": {
        "id": "0x0CvL3_Ip4U",
        "outputId": "6efda00d-a660-45fc-ddb9-7ae1df520ea1",
        "colab": {
          "base_uri": "https://localhost:8080/"
        }
      },
      "execution_count": null,
      "outputs": [
        {
          "output_type": "execute_result",
          "data": {
            "text/plain": [
              "1"
            ]
          },
          "metadata": {},
          "execution_count": 80
        }
      ]
    },
    {
      "cell_type": "code",
      "source": [
        "lst1.count(5)"
      ],
      "metadata": {
        "id": "-XiA6gL3I-Lz",
        "outputId": "4f7f4df8-7aaf-4636-ddcb-eee490bed626",
        "colab": {
          "base_uri": "https://localhost:8080/"
        }
      },
      "execution_count": null,
      "outputs": [
        {
          "output_type": "execute_result",
          "data": {
            "text/plain": [
              "1"
            ]
          },
          "metadata": {},
          "execution_count": 81
        }
      ]
    },
    {
      "cell_type": "code",
      "source": [
        "lst1.index(1,0,3) #0-3 er part bujhinai"
      ],
      "metadata": {
        "id": "Oj49ZYETJZp6",
        "outputId": "0c8d7225-8562-41cc-8b23-f0915688abd7",
        "colab": {
          "base_uri": "https://localhost:8080/"
        }
      },
      "execution_count": null,
      "outputs": [
        {
          "output_type": "execute_result",
          "data": {
            "text/plain": [
              "0"
            ]
          },
          "metadata": {},
          "execution_count": 82
        }
      ]
    },
    {
      "cell_type": "code",
      "source": [
        "min(lst1)"
      ],
      "metadata": {
        "id": "dVD5io7eLoeS",
        "outputId": "5b185586-ad62-4f33-80b8-6dc573a13b20",
        "colab": {
          "base_uri": "https://localhost:8080/"
        }
      },
      "execution_count": null,
      "outputs": [
        {
          "output_type": "execute_result",
          "data": {
            "text/plain": [
              "1"
            ]
          },
          "metadata": {},
          "execution_count": 83
        }
      ]
    },
    {
      "cell_type": "code",
      "source": [
        "max(lst1)"
      ],
      "metadata": {
        "id": "1sO_cFF7MEK2",
        "outputId": "f84a2580-86da-493c-d2ae-b8b297f97fe6",
        "colab": {
          "base_uri": "https://localhost:8080/"
        }
      },
      "execution_count": null,
      "outputs": [
        {
          "output_type": "execute_result",
          "data": {
            "text/plain": [
              "7"
            ]
          },
          "metadata": {},
          "execution_count": 84
        }
      ]
    },
    {
      "cell_type": "code",
      "source": [
        "2*lst1 #ulta palta sb"
      ],
      "metadata": {
        "id": "A6h2QpNSMICc",
        "outputId": "df734bb3-a7b6-42d6-9463-20745302eace",
        "colab": {
          "base_uri": "https://localhost:8080/"
        }
      },
      "execution_count": null,
      "outputs": [
        {
          "output_type": "execute_result",
          "data": {
            "text/plain": [
              "[1, 2, 3, 4, 5, 7, 1, 2, 3, 4, 5, 7]"
            ]
          },
          "metadata": {},
          "execution_count": 85
        }
      ]
    },
    {
      "cell_type": "code",
      "source": [
        "set_var= set()\n",
        "print(set_var)\n",
        "type (set_var)\n",
        "print (type(set_var))"
      ],
      "metadata": {
        "id": "bAMXhYPtMKcX",
        "outputId": "9d5d81b6-924a-43eb-8069-9d8ef9a9c91b",
        "colab": {
          "base_uri": "https://localhost:8080/"
        }
      },
      "execution_count": null,
      "outputs": [
        {
          "output_type": "stream",
          "name": "stdout",
          "text": [
            "set()\n",
            "<class 'set'>\n"
          ]
        }
      ]
    },
    {
      "cell_type": "code",
      "source": [
        "set_var={1,2,3,4,3}\n",
        "set_var"
      ],
      "metadata": {
        "id": "6KCQ1F4gw4EN",
        "outputId": "d0e213d4-6f06-47e5-c62f-5ce2e00aa474",
        "colab": {
          "base_uri": "https://localhost:8080/"
        }
      },
      "execution_count": null,
      "outputs": [
        {
          "output_type": "execute_result",
          "data": {
            "text/plain": [
              "{1, 2, 3, 4}"
            ]
          },
          "metadata": {},
          "execution_count": 87
        }
      ]
    },
    {
      "cell_type": "code",
      "source": [
        "set_var1=set()\n",
        "set_var1={'rapa','mash', 'aman', 'rapa'}\n",
        "set_var1 #serially ashlo na kno??"
      ],
      "metadata": {
        "id": "njM5MjRoxYx_",
        "outputId": "ea1abcc6-91e4-4b0a-ef7f-f4d5e9daf59f",
        "colab": {
          "base_uri": "https://localhost:8080/"
        }
      },
      "execution_count": null,
      "outputs": [
        {
          "output_type": "execute_result",
          "data": {
            "text/plain": [
              "{'aman', 'mash', 'rapa'}"
            ]
          },
          "metadata": {},
          "execution_count": 88
        }
      ]
    },
    {
      "cell_type": "code",
      "source": [
        "dict()\n",
        "type (dict())"
      ],
      "metadata": {
        "id": "siAEFv_wyWq7",
        "outputId": "84e17b76-e1bf-45ff-dbb5-17d990c05cf7",
        "colab": {
          "base_uri": "https://localhost:8080/"
        }
      },
      "execution_count": null,
      "outputs": [
        {
          "output_type": "execute_result",
          "data": {
            "text/plain": [
              "dict"
            ]
          },
          "metadata": {},
          "execution_count": 89
        }
      ]
    },
    {
      "cell_type": "code",
      "source": [
        "my_dict={'sec1':'mma','sec2':'mma1','sec3':'mma2'}\n",
        "my_dict['sec2']"
      ],
      "metadata": {
        "id": "iyDkkWALUkfy",
        "outputId": "4f986ec8-8e8b-45d0-98f8-a9620e7c58c8",
        "colab": {
          "base_uri": "https://localhost:8080/",
          "height": 35
        }
      },
      "execution_count": null,
      "outputs": [
        {
          "output_type": "execute_result",
          "data": {
            "text/plain": [
              "'mma1'"
            ],
            "application/vnd.google.colaboratory.intrinsic+json": {
              "type": "string"
            }
          },
          "metadata": {},
          "execution_count": 90
        }
      ]
    },
    {
      "cell_type": "code",
      "source": [
        "for x in my_dict:\n",
        "  print (x)"
      ],
      "metadata": {
        "id": "zeyhoXPXVMBl",
        "outputId": "edf2830a-76cf-42ca-bd16-d7b6f9426133",
        "colab": {
          "base_uri": "https://localhost:8080/"
        }
      },
      "execution_count": null,
      "outputs": [
        {
          "output_type": "stream",
          "name": "stdout",
          "text": [
            "sec1\n",
            "sec2\n",
            "sec3\n"
          ]
        }
      ]
    },
    {
      "cell_type": "code",
      "source": [
        "for x in my_dict.values():\n",
        "  print (x)"
      ],
      "metadata": {
        "id": "oJrvRZXXZNcP",
        "outputId": "82a1c329-d762-440a-a1dc-79b06338f302",
        "colab": {
          "base_uri": "https://localhost:8080/"
        }
      },
      "execution_count": null,
      "outputs": [
        {
          "output_type": "stream",
          "name": "stdout",
          "text": [
            "mma\n",
            "mma1\n",
            "mma2\n"
          ]
        }
      ]
    },
    {
      "cell_type": "code",
      "source": [
        "for x in my_dict.items():\n",
        "  print (x)"
      ],
      "metadata": {
        "id": "3uVoHxdDeIUW",
        "outputId": "d7db626c-5d49-4747-e905-63a076a02755",
        "colab": {
          "base_uri": "https://localhost:8080/"
        }
      },
      "execution_count": null,
      "outputs": [
        {
          "output_type": "stream",
          "name": "stdout",
          "text": [
            "('sec1', 'mma')\n",
            "('sec2', 'mma1')\n",
            "('sec3', 'mma2')\n"
          ]
        }
      ]
    },
    {
      "cell_type": "code",
      "source": [
        "my_dict['sec4']='mma3'\n",
        "my_dict"
      ],
      "metadata": {
        "id": "DM4qamjIegBA",
        "outputId": "076ef832-6736-45d8-ab28-179f766b8af7",
        "colab": {
          "base_uri": "https://localhost:8080/"
        }
      },
      "execution_count": null,
      "outputs": [
        {
          "output_type": "execute_result",
          "data": {
            "text/plain": [
              "{'sec1': 'mma', 'sec2': 'mma1', 'sec3': 'mma2', 'sec4': 'mma3'}"
            ]
          },
          "metadata": {},
          "execution_count": 94
        }
      ]
    },
    {
      "cell_type": "code",
      "source": [
        "my_dict['sec1']='mma1'\n"
      ],
      "metadata": {
        "id": "6SVspXkve8M_"
      },
      "execution_count": null,
      "outputs": []
    },
    {
      "cell_type": "code",
      "source": [
        "#my_dict['mma1']"
      ],
      "metadata": {
        "id": "ptD_DL3kfRoO"
      },
      "execution_count": null,
      "outputs": []
    },
    {
      "cell_type": "code",
      "source": [
        "my_dict1={'sec1':'rapa', 'sec2':'mash', 'sec1':'aman'}\n",
        "my_dict1['sec1']"
      ],
      "metadata": {
        "id": "x9lahtrgfZSO",
        "outputId": "b9085635-9ba8-4908-8c9b-004faf5365fc",
        "colab": {
          "base_uri": "https://localhost:8080/",
          "height": 35
        }
      },
      "execution_count": null,
      "outputs": [
        {
          "output_type": "execute_result",
          "data": {
            "text/plain": [
              "'aman'"
            ],
            "application/vnd.google.colaboratory.intrinsic+json": {
              "type": "string"
            }
          },
          "metadata": {},
          "execution_count": 97
        }
      ]
    },
    {
      "cell_type": "code",
      "source": [
        "car1_mod={'Audi':1980}\n",
        "car2_mod={'benz':1920}\n",
        "car3_mod={'mars':1975}\n",
        "car_type={'car1':car1_mod, 'car2':car2_mod, 'car3':car3_mod}\n",
        "print (car_type)"
      ],
      "metadata": {
        "id": "2yxaKPk5fwz8",
        "outputId": "3ff9a9d6-c6e7-44a7-9972-f0f76efc5d02",
        "colab": {
          "base_uri": "https://localhost:8080/"
        }
      },
      "execution_count": null,
      "outputs": [
        {
          "output_type": "stream",
          "name": "stdout",
          "text": [
            "{'car1': {'Audi': 1980}, 'car2': {'benz': 1920}, 'car3': {'mars': 1975}}\n"
          ]
        }
      ]
    },
    {
      "cell_type": "code",
      "source": [
        "print (car_type['car1'])"
      ],
      "metadata": {
        "id": "XKJci7ZUjVQN",
        "outputId": "baf36af2-d75a-4fc5-fd9b-9e9848189256",
        "colab": {
          "base_uri": "https://localhost:8080/"
        }
      },
      "execution_count": null,
      "outputs": [
        {
          "output_type": "stream",
          "name": "stdout",
          "text": [
            "{'Audi': 1980}\n"
          ]
        }
      ]
    },
    {
      "cell_type": "code",
      "source": [
        "print (car_type['car1']['Audi'])"
      ],
      "metadata": {
        "id": "_W1TC0TUj1KD",
        "outputId": "f26c0148-a48b-40b7-d574-4a62ab269696",
        "colab": {
          "base_uri": "https://localhost:8080/"
        }
      },
      "execution_count": null,
      "outputs": [
        {
          "output_type": "stream",
          "name": "stdout",
          "text": [
            "1980\n"
          ]
        }
      ]
    },
    {
      "cell_type": "code",
      "source": [
        "my_tupl=('abc','def','ghi')\n",
        "my_tupl,type(my_tupl),my_tupl[0]"
      ],
      "metadata": {
        "id": "-qQ0fKjPkAxh",
        "outputId": "aa16e506-2520-43bc-d993-8de7bf9d2e0d",
        "colab": {
          "base_uri": "https://localhost:8080/"
        }
      },
      "execution_count": null,
      "outputs": [
        {
          "output_type": "execute_result",
          "data": {
            "text/plain": [
              "(('abc', 'def', 'ghi'), tuple, 'abc')"
            ]
          },
          "metadata": {},
          "execution_count": 101
        }
      ]
    },
    {
      "cell_type": "code",
      "source": [
        "#my_tupl[0]=('efg')"
      ],
      "metadata": {
        "id": "HhINXDaCnv_w"
      },
      "execution_count": null,
      "outputs": []
    },
    {
      "cell_type": "code",
      "source": [
        "my_tupl=('efg','ijk','ijk')\n",
        "my_tupl"
      ],
      "metadata": {
        "id": "ro2QSVKloQR4",
        "outputId": "1eb4889f-8451-4a09-f27e-7748792d6459",
        "colab": {
          "base_uri": "https://localhost:8080/"
        }
      },
      "execution_count": null,
      "outputs": [
        {
          "output_type": "execute_result",
          "data": {
            "text/plain": [
              "('efg', 'ijk', 'ijk')"
            ]
          },
          "metadata": {},
          "execution_count": 104
        }
      ]
    },
    {
      "cell_type": "code",
      "source": [
        "my_tupl.index('efg')"
      ],
      "metadata": {
        "id": "JNk_LdusoWwp",
        "outputId": "fce5b887-8906-43cb-ada0-ff663fbf1811",
        "colab": {
          "base_uri": "https://localhost:8080/"
        }
      },
      "execution_count": null,
      "outputs": [
        {
          "output_type": "execute_result",
          "data": {
            "text/plain": [
              "0"
            ]
          },
          "metadata": {},
          "execution_count": 105
        }
      ]
    },
    {
      "cell_type": "code",
      "source": [
        "my_tupl.count('ijk')\n"
      ],
      "metadata": {
        "id": "YcHZceQZoovw",
        "outputId": "a14eef3e-4c63-423c-e0c3-f27f558fd63d",
        "colab": {
          "base_uri": "https://localhost:8080/"
        }
      },
      "execution_count": null,
      "outputs": [
        {
          "output_type": "execute_result",
          "data": {
            "text/plain": [
              "2"
            ]
          },
          "metadata": {},
          "execution_count": 106
        }
      ]
    },
    {
      "cell_type": "markdown",
      "source": [
        "##Video=>7##"
      ],
      "metadata": {
        "id": "eUacttofEWUZ"
      }
    },
    {
      "cell_type": "code",
      "source": [
        "import numpy as np"
      ],
      "metadata": {
        "id": "YdJLylkSEhEx"
      },
      "execution_count": null,
      "outputs": []
    },
    {
      "cell_type": "code",
      "source": [
        " my_lst=[1,2,3,4,5]\n",
        " arr=np.array(my_lst)\n",
        " type (arr)"
      ],
      "metadata": {
        "id": "XuM9FK_-Nvgm",
        "outputId": "4529b86a-0801-4853-e8de-48b1f61afa73",
        "colab": {
          "base_uri": "https://localhost:8080/"
        }
      },
      "execution_count": null,
      "outputs": [
        {
          "output_type": "execute_result",
          "data": {
            "text/plain": [
              "numpy.ndarray"
            ]
          },
          "metadata": {},
          "execution_count": 108
        }
      ]
    },
    {
      "cell_type": "code",
      "source": [
        "arr"
      ],
      "metadata": {
        "id": "LsT-ZjAkP_qQ",
        "outputId": "96dc637c-1a69-4d4d-dd2a-4f1c16c087b9",
        "colab": {
          "base_uri": "https://localhost:8080/"
        }
      },
      "execution_count": null,
      "outputs": [
        {
          "output_type": "execute_result",
          "data": {
            "text/plain": [
              "array([1, 2, 3, 4, 5])"
            ]
          },
          "metadata": {},
          "execution_count": 109
        }
      ]
    },
    {
      "cell_type": "code",
      "source": [
        "arr[3]"
      ],
      "metadata": {
        "id": "uuHUQQ29TYFs",
        "outputId": "eeb01cc2-7a56-4bb9-e832-5e5eac603f4e",
        "colab": {
          "base_uri": "https://localhost:8080/"
        }
      },
      "execution_count": null,
      "outputs": [
        {
          "output_type": "execute_result",
          "data": {
            "text/plain": [
              "4"
            ]
          },
          "metadata": {},
          "execution_count": 110
        }
      ]
    },
    {
      "cell_type": "code",
      "source": [
        "arr.shape"
      ],
      "metadata": {
        "id": "o9Jn48QTQC_N",
        "outputId": "f3b5154c-e83e-4fde-938c-9493659482db",
        "colab": {
          "base_uri": "https://localhost:8080/"
        }
      },
      "execution_count": null,
      "outputs": [
        {
          "output_type": "execute_result",
          "data": {
            "text/plain": [
              "(5,)"
            ]
          },
          "metadata": {},
          "execution_count": 111
        }
      ]
    },
    {
      "cell_type": "code",
      "source": [
        "my_lst1=[1,2,3,4,5]\n",
        "my_lst2=[5,6,7,8,9]\n",
        "my_lst3=[4,5,2,3,7]\n",
        "arr=np.array([my_lst1,my_lst2,my_lst3])\n",
        "arr"
      ],
      "metadata": {
        "id": "fJaWJ6ciQShG",
        "outputId": "ed1435aa-03f1-4013-f040-6ba30571f0b8",
        "colab": {
          "base_uri": "https://localhost:8080/"
        }
      },
      "execution_count": null,
      "outputs": [
        {
          "output_type": "execute_result",
          "data": {
            "text/plain": [
              "array([[1, 2, 3, 4, 5],\n",
              "       [5, 6, 7, 8, 9],\n",
              "       [4, 5, 2, 3, 7]])"
            ]
          },
          "metadata": {},
          "execution_count": 112
        }
      ]
    },
    {
      "cell_type": "code",
      "source": [
        "arr.shape"
      ],
      "metadata": {
        "id": "-4j0avKOQ-7d",
        "outputId": "fce49719-4f4e-49d6-f6d5-80bf0cac14a5",
        "colab": {
          "base_uri": "https://localhost:8080/"
        }
      },
      "execution_count": null,
      "outputs": [
        {
          "output_type": "execute_result",
          "data": {
            "text/plain": [
              "(3, 5)"
            ]
          },
          "metadata": {},
          "execution_count": 113
        }
      ]
    },
    {
      "cell_type": "code",
      "source": [
        "arr.reshape(5,3)"
      ],
      "metadata": {
        "id": "hZ7Qn9x9RMUU",
        "outputId": "dbbe9ce6-c17a-4c24-d78c-1931a6d571d5",
        "colab": {
          "base_uri": "https://localhost:8080/"
        }
      },
      "execution_count": null,
      "outputs": [
        {
          "output_type": "execute_result",
          "data": {
            "text/plain": [
              "array([[1, 2, 3],\n",
              "       [4, 5, 5],\n",
              "       [6, 7, 8],\n",
              "       [9, 4, 5],\n",
              "       [2, 3, 7]])"
            ]
          },
          "metadata": {},
          "execution_count": 114
        }
      ]
    },
    {
      "cell_type": "code",
      "source": [
        "arr=np.array([1,2,3,4,5,6,7,8])\n",
        "arr"
      ],
      "metadata": {
        "id": "Q9sTQONAWpzr",
        "outputId": "2b20eb2c-9055-48cd-d39b-05365e45c51a",
        "colab": {
          "base_uri": "https://localhost:8080/"
        }
      },
      "execution_count": null,
      "outputs": [
        {
          "output_type": "execute_result",
          "data": {
            "text/plain": [
              "array([1, 2, 3, 4, 5, 6, 7, 8])"
            ]
          },
          "metadata": {},
          "execution_count": 115
        }
      ]
    },
    {
      "cell_type": "code",
      "source": [
        "arr[5]"
      ],
      "metadata": {
        "id": "6BCgbUJbXFB2",
        "outputId": "d84f7f3b-1392-4794-977f-a25a4a65238e",
        "colab": {
          "base_uri": "https://localhost:8080/"
        }
      },
      "execution_count": null,
      "outputs": [
        {
          "output_type": "execute_result",
          "data": {
            "text/plain": [
              "6"
            ]
          },
          "metadata": {},
          "execution_count": 116
        }
      ]
    },
    {
      "cell_type": "code",
      "source": [
        "my_lst1=[1,2,3,4,5]\n",
        "my_lst2=[5,6,7,8,9]\n",
        "my_lst3=[4,5,2,3,7]\n",
        "arr2=np.array([my_lst1,my_lst2,my_lst3])\n",
        "arr2"
      ],
      "metadata": {
        "id": "shLrtccW-m7Z",
        "outputId": "75de6ce8-922c-48f6-dedc-08843fa9a1dc",
        "colab": {
          "base_uri": "https://localhost:8080/"
        }
      },
      "execution_count": null,
      "outputs": [
        {
          "output_type": "execute_result",
          "data": {
            "text/plain": [
              "array([[1, 2, 3, 4, 5],\n",
              "       [5, 6, 7, 8, 9],\n",
              "       [4, 5, 2, 3, 7]])"
            ]
          },
          "metadata": {},
          "execution_count": 117
        }
      ]
    },
    {
      "cell_type": "code",
      "source": [
        "arr2[:,:]"
      ],
      "metadata": {
        "id": "K9eiQP34JLqX",
        "outputId": "629d7320-d15a-41a5-ecd4-aeefc03ff38e",
        "colab": {
          "base_uri": "https://localhost:8080/"
        }
      },
      "execution_count": null,
      "outputs": [
        {
          "output_type": "execute_result",
          "data": {
            "text/plain": [
              "array([[1, 2, 3, 4, 5],\n",
              "       [5, 6, 7, 8, 9],\n",
              "       [4, 5, 2, 3, 7]])"
            ]
          },
          "metadata": {},
          "execution_count": 119
        }
      ]
    },
    {
      "cell_type": "code",
      "source": [
        "arr2[0:2,0:2]"
      ],
      "metadata": {
        "id": "1-9g4R1nJQh6",
        "outputId": "2cce60ac-b4c2-4061-86c3-052aa00fa24e",
        "colab": {
          "base_uri": "https://localhost:8080/"
        }
      },
      "execution_count": null,
      "outputs": [
        {
          "output_type": "execute_result",
          "data": {
            "text/plain": [
              "array([[1, 2],\n",
              "       [5, 6]])"
            ]
          },
          "metadata": {},
          "execution_count": 121
        }
      ]
    },
    {
      "cell_type": "code",
      "source": [
        "arr2[1:4,3:5]"
      ],
      "metadata": {
        "id": "g2bomMriSPG6",
        "outputId": "0ac14a89-3910-44cd-d798-993cc17db8cf",
        "colab": {
          "base_uri": "https://localhost:8080/"
        }
      },
      "execution_count": null,
      "outputs": [
        {
          "output_type": "execute_result",
          "data": {
            "text/plain": [
              "array([[8, 9],\n",
              "       [3, 7]])"
            ]
          },
          "metadata": {},
          "execution_count": 123
        }
      ]
    },
    {
      "cell_type": "code",
      "source": [
        "arr2[1:,3:]"
      ],
      "metadata": {
        "id": "Omk5mHe-Srfp",
        "outputId": "213d2d66-a4e7-4ae7-fcde-c988d5f4e64e",
        "colab": {
          "base_uri": "https://localhost:8080/"
        }
      },
      "execution_count": null,
      "outputs": [
        {
          "output_type": "execute_result",
          "data": {
            "text/plain": [
              "array([[8, 9],\n",
              "       [3, 7]])"
            ]
          },
          "metadata": {},
          "execution_count": 124
        }
      ]
    },
    {
      "cell_type": "code",
      "source": [
        "arr2=np.arrange(0,10,step=2)\n",
        "arr2 #bujhinai eta"
      ],
      "metadata": {
        "id": "MehItKWjTA-N",
        "outputId": "38035d64-1dff-4c9e-80c6-912a780f91bd",
        "colab": {
          "base_uri": "https://localhost:8080/",
          "height": 280
        }
      },
      "execution_count": null,
      "outputs": [
        {
          "output_type": "error",
          "ename": "AttributeError",
          "evalue": "module 'numpy' has no attribute 'arrange'",
          "traceback": [
            "\u001b[0;31m---------------------------------------------------------------------------\u001b[0m",
            "\u001b[0;31mAttributeError\u001b[0m                            Traceback (most recent call last)",
            "\u001b[0;32m<ipython-input-127-0e1fa698129e>\u001b[0m in \u001b[0;36m<cell line: 1>\u001b[0;34m()\u001b[0m\n\u001b[0;32m----> 1\u001b[0;31m \u001b[0marr2\u001b[0m\u001b[0;34m=\u001b[0m\u001b[0mnp\u001b[0m\u001b[0;34m.\u001b[0m\u001b[0marrange\u001b[0m\u001b[0;34m(\u001b[0m\u001b[0;36m0\u001b[0m\u001b[0;34m,\u001b[0m\u001b[0;36m10\u001b[0m\u001b[0;34m,\u001b[0m\u001b[0mstep\u001b[0m\u001b[0;34m=\u001b[0m\u001b[0;36m2\u001b[0m\u001b[0;34m)\u001b[0m\u001b[0;34m\u001b[0m\u001b[0;34m\u001b[0m\u001b[0m\n\u001b[0m\u001b[1;32m      2\u001b[0m \u001b[0marr2\u001b[0m\u001b[0;34m\u001b[0m\u001b[0;34m\u001b[0m\u001b[0m\n",
            "\u001b[0;32m/usr/local/lib/python3.10/dist-packages/numpy/__init__.py\u001b[0m in \u001b[0;36m__getattr__\u001b[0;34m(attr)\u001b[0m\n\u001b[1;32m    326\u001b[0m             \u001b[0;32mraise\u001b[0m \u001b[0mRuntimeError\u001b[0m\u001b[0;34m(\u001b[0m\u001b[0;34m\"Tester was removed in NumPy 1.25.\"\u001b[0m\u001b[0;34m)\u001b[0m\u001b[0;34m\u001b[0m\u001b[0;34m\u001b[0m\u001b[0m\n\u001b[1;32m    327\u001b[0m \u001b[0;34m\u001b[0m\u001b[0m\n\u001b[0;32m--> 328\u001b[0;31m         raise AttributeError(\"module {!r} has no attribute \"\n\u001b[0m\u001b[1;32m    329\u001b[0m                              \"{!r}\".format(__name__, attr))\n\u001b[1;32m    330\u001b[0m \u001b[0;34m\u001b[0m\u001b[0m\n",
            "\u001b[0;31mAttributeError\u001b[0m: module 'numpy' has no attribute 'arrange'"
          ]
        }
      ]
    },
    {
      "cell_type": "code",
      "source": [
        "arr2[3:]=65\n",
        "arr2"
      ],
      "metadata": {
        "id": "bCeJHObGT_K0",
        "outputId": "d2015d53-ca74-485d-d28f-9215b2eae3d6",
        "colab": {
          "base_uri": "https://localhost:8080/"
        }
      },
      "execution_count": null,
      "outputs": [
        {
          "output_type": "execute_result",
          "data": {
            "text/plain": [
              "array([[1, 2, 3, 4, 5],\n",
              "       [5, 6, 7, 8, 9],\n",
              "       [4, 5, 2, 3, 7]])"
            ]
          },
          "metadata": {},
          "execution_count": 129
        }
      ]
    },
    {
      "cell_type": "code",
      "source": [
        "arr"
      ],
      "metadata": {
        "id": "qPRLgNa2UpTQ",
        "outputId": "738e7a44-d70c-4872-846e-472658c97432",
        "colab": {
          "base_uri": "https://localhost:8080/"
        }
      },
      "execution_count": null,
      "outputs": [
        {
          "output_type": "execute_result",
          "data": {
            "text/plain": [
              "array([1, 2, 3, 4, 5, 6, 7, 8])"
            ]
          },
          "metadata": {},
          "execution_count": 130
        }
      ]
    },
    {
      "cell_type": "code",
      "source": [
        "arr[3:]=65\n",
        "arr"
      ],
      "metadata": {
        "id": "RtPLOC5BUzNE",
        "outputId": "49d23294-f72d-48ae-931b-710fb8582a22",
        "colab": {
          "base_uri": "https://localhost:8080/"
        }
      },
      "execution_count": null,
      "outputs": [
        {
          "output_type": "execute_result",
          "data": {
            "text/plain": [
              "array([ 1,  2,  3, 65, 65, 65, 65, 65])"
            ]
          },
          "metadata": {},
          "execution_count": 132
        }
      ]
    },
    {
      "cell_type": "code",
      "source": [
        "  arr4=arr\n",
        "  arr4"
      ],
      "metadata": {
        "id": "8IEuYZqHU2-w",
        "outputId": "f50a31ed-1da1-415a-90dd-ec0506a3c37b",
        "colab": {
          "base_uri": "https://localhost:8080/"
        }
      },
      "execution_count": null,
      "outputs": [
        {
          "output_type": "execute_result",
          "data": {
            "text/plain": [
              "array([ 1,  2,  3, 65, 65, 65, 65, 65])"
            ]
          },
          "metadata": {},
          "execution_count": 134
        }
      ]
    },
    {
      "cell_type": "code",
      "source": [
        "arr4[3:]=500"
      ],
      "metadata": {
        "id": "tBhUVLqzVNsa"
      },
      "execution_count": null,
      "outputs": []
    },
    {
      "cell_type": "code",
      "source": [
        "arr4"
      ],
      "metadata": {
        "id": "U66mkoA-VL6O",
        "outputId": "70d09aab-d2c2-44d6-bf96-c8e263b2be75",
        "colab": {
          "base_uri": "https://localhost:8080/"
        }
      },
      "execution_count": null,
      "outputs": [
        {
          "output_type": "execute_result",
          "data": {
            "text/plain": [
              "array([  1,   2,   3, 500, 500, 500, 500, 500])"
            ]
          },
          "metadata": {},
          "execution_count": 136
        }
      ]
    },
    {
      "cell_type": "code",
      "source": [
        "arr #replaced as arr4"
      ],
      "metadata": {
        "id": "50i6ea0rVU6T",
        "outputId": "4a819997-819d-486c-b5b6-7d5d22e6b06c",
        "colab": {
          "base_uri": "https://localhost:8080/"
        }
      },
      "execution_count": null,
      "outputs": [
        {
          "output_type": "execute_result",
          "data": {
            "text/plain": [
              "array([  1,   2,   3, 500, 500, 500, 500, 500])"
            ]
          },
          "metadata": {},
          "execution_count": 137
        }
      ]
    },
    {
      "cell_type": "code",
      "source": [
        "arr4=arr.copy()\n",
        "arr4[3:]=1000\n",
        "arr4,arr\n"
      ],
      "metadata": {
        "id": "Rd8U6TqSVcQD",
        "outputId": "d9914758-eae7-4c8c-ca7f-ed8f0c3d4389",
        "colab": {
          "base_uri": "https://localhost:8080/"
        }
      },
      "execution_count": null,
      "outputs": [
        {
          "output_type": "execute_result",
          "data": {
            "text/plain": [
              "(array([   1,    2,    3, 1000, 1000, 1000, 1000, 1000]),\n",
              " array([  1,   2,   3, 500, 500, 500, 500, 500]))"
            ]
          },
          "metadata": {},
          "execution_count": 143
        }
      ]
    },
    {
      "cell_type": "code",
      "source": [
        "val=2\n",
        "arr[arr<500]"
      ],
      "metadata": {
        "id": "6gV_HySlWgv2",
        "outputId": "30e999e2-916d-44b6-b98b-cf9a3975d926",
        "colab": {
          "base_uri": "https://localhost:8080/"
        }
      },
      "execution_count": null,
      "outputs": [
        {
          "output_type": "execute_result",
          "data": {
            "text/plain": [
              "array([1, 2, 3])"
            ]
          },
          "metadata": {},
          "execution_count": 149
        }
      ]
    },
    {
      "cell_type": "code",
      "source": [
        "  arr*2"
      ],
      "metadata": {
        "id": "MO4UUITPXROT",
        "outputId": "fd9b99ab-1aae-4767-fc2c-0dc1ad318da5",
        "colab": {
          "base_uri": "https://localhost:8080/"
        }
      },
      "execution_count": null,
      "outputs": [
        {
          "output_type": "execute_result",
          "data": {
            "text/plain": [
              "array([   2,    4,    6, 1000, 1000, 1000, 1000, 1000])"
            ]
          },
          "metadata": {},
          "execution_count": 145
        }
      ]
    },
    {
      "cell_type": "code",
      "source": [
        " arr/2"
      ],
      "metadata": {
        "id": "gxdiDn0QXWYg",
        "outputId": "a659d240-5708-4050-9e30-35bf282a3424",
        "colab": {
          "base_uri": "https://localhost:8080/"
        }
      },
      "execution_count": null,
      "outputs": [
        {
          "output_type": "execute_result",
          "data": {
            "text/plain": [
              "array([  0.5,   1. ,   1.5, 250. , 250. , 250. , 250. , 250. ])"
            ]
          },
          "metadata": {},
          "execution_count": 146
        }
      ]
    },
    {
      "cell_type": "code",
      "source": [
        "np.ones(4,dtype=int)"
      ],
      "metadata": {
        "id": "s4fbMDqfXaHl",
        "outputId": "43fa4bbe-1644-4b0a-c906-b219228b1736",
        "colab": {
          "base_uri": "https://localhost:8080/"
        }
      },
      "execution_count": null,
      "outputs": [
        {
          "output_type": "execute_result",
          "data": {
            "text/plain": [
              "array([1, 1, 1, 1])"
            ]
          },
          "metadata": {},
          "execution_count": 151
        }
      ]
    },
    {
      "cell_type": "code",
      "source": [
        "np.ones((4,5),dtype=int)"
      ],
      "metadata": {
        "id": "BBWbrWs1YKrQ",
        "outputId": "390edd11-84ea-4e9a-b02d-c8f736e24fbe",
        "colab": {
          "base_uri": "https://localhost:8080/"
        }
      },
      "execution_count": null,
      "outputs": [
        {
          "output_type": "execute_result",
          "data": {
            "text/plain": [
              "array([[1, 1, 1, 1, 1],\n",
              "       [1, 1, 1, 1, 1],\n",
              "       [1, 1, 1, 1, 1],\n",
              "       [1, 1, 1, 1, 1]])"
            ]
          },
          "metadata": {},
          "execution_count": 153
        }
      ]
    },
    {
      "cell_type": "code",
      "source": [
        "np.random.rand(4,4)"
      ],
      "metadata": {
        "id": "1nNM1yvwYckY",
        "outputId": "5d0363ae-b0ab-4e04-c84f-521d42018f3f",
        "colab": {
          "base_uri": "https://localhost:8080/"
        }
      },
      "execution_count": null,
      "outputs": [
        {
          "output_type": "execute_result",
          "data": {
            "text/plain": [
              "array([[0.98353434, 0.31982614, 0.4758445 , 0.06967227],\n",
              "       [0.91159599, 0.76573615, 0.60660891, 0.62829595],\n",
              "       [0.50750466, 0.06365741, 0.68956953, 0.96832752],\n",
              "       [0.04345716, 0.78853998, 0.54272999, 0.34467629]])"
            ]
          },
          "metadata": {},
          "execution_count": 157
        }
      ]
    },
    {
      "cell_type": "code",
      "source": [
        "import seaborn as sns\n",
        "import pandas as pd"
      ],
      "metadata": {
        "id": "aVjXAPKpZO6A"
      },
      "execution_count": null,
      "outputs": []
    },
    {
      "cell_type": "code",
      "source": [
        " np.random.randint(0,100,9).reshape(3,3)"
      ],
      "metadata": {
        "id": "F8knSn1XZj1p",
        "outputId": "3d4b6218-f797-4804-e068-03abc4667d71",
        "colab": {
          "base_uri": "https://localhost:8080/"
        }
      },
      "execution_count": null,
      "outputs": [
        {
          "output_type": "execute_result",
          "data": {
            "text/plain": [
              "array([[74, 37, 45],\n",
              "       [ 5, 73, 75],\n",
              "       [21,  5, 78]])"
            ]
          },
          "metadata": {},
          "execution_count": 162
        }
      ]
    },
    {
      "cell_type": "code",
      "source": [
        "np.random.random_sample(1,5) #problem"
      ],
      "metadata": {
        "id": "YafJVx15Z04d",
        "outputId": "f4bc9874-df2d-4403-f774-c8dc8ef0fbcd",
        "colab": {
          "base_uri": "https://localhost:8080/",
          "height": 176
        }
      },
      "execution_count": null,
      "outputs": [
        {
          "output_type": "error",
          "ename": "TypeError",
          "evalue": "random_sample() takes at most 1 positional argument (2 given)",
          "traceback": [
            "\u001b[0;31m---------------------------------------------------------------------------\u001b[0m",
            "\u001b[0;31mTypeError\u001b[0m                                 Traceback (most recent call last)",
            "\u001b[0;32m<ipython-input-165-b534e2734f34>\u001b[0m in \u001b[0;36m<cell line: 1>\u001b[0;34m()\u001b[0m\n\u001b[0;32m----> 1\u001b[0;31m \u001b[0mnp\u001b[0m\u001b[0;34m.\u001b[0m\u001b[0mrandom\u001b[0m\u001b[0;34m.\u001b[0m\u001b[0mrandom_sample\u001b[0m\u001b[0;34m(\u001b[0m\u001b[0;36m1\u001b[0m\u001b[0;34m,\u001b[0m\u001b[0;36m5\u001b[0m\u001b[0;34m)\u001b[0m\u001b[0;34m\u001b[0m\u001b[0;34m\u001b[0m\u001b[0m\n\u001b[0m",
            "\u001b[0;32mmtrand.pyx\u001b[0m in \u001b[0;36mnumpy.random.mtrand.RandomState.random_sample\u001b[0;34m()\u001b[0m\n",
            "\u001b[0;31mTypeError\u001b[0m: random_sample() takes at most 1 positional argument (2 given)"
          ]
        }
      ]
    },
    {
      "cell_type": "markdown",
      "source": [
        "Video 8(Panda)"
      ],
      "metadata": {
        "id": "k78n68xckgC0"
      }
    },
    {
      "cell_type": "code",
      "source": [
        "import pandas as pd\n",
        "import numpy as np"
      ],
      "metadata": {
        "id": "lzMK34AXvnir"
      },
      "execution_count": null,
      "outputs": []
    },
    {
      "cell_type": "code",
      "source": [
        "df=pd.DataFrame(np.arange(0,20).reshape(5,4),index=['Row1','Row2','Row3','Row4','Row5'], columns=['col1','col2','col3','col4'])"
      ],
      "metadata": {
        "id": "1PSoGP4NwAWE"
      },
      "execution_count": null,
      "outputs": []
    },
    {
      "cell_type": "code",
      "source": [
        "df.head()"
      ],
      "metadata": {
        "colab": {
          "base_uri": "https://localhost:8080/",
          "height": 1593
        },
        "id": "SMc8Qh5Qwrs5",
        "outputId": "a43cdca3-a578-4c12-8b58-9a6c2898744f"
      },
      "execution_count": null,
      "outputs": [
        {
          "output_type": "execute_result",
          "data": {
            "text/plain": [
              "      col1  col2  col3  col4\n",
              "Row1     0     1     2     3\n",
              "Row2     4     5     6     7\n",
              "Row3     8     9    10    11\n",
              "Row4    12    13    14    15\n",
              "Row5    16    17    18    19"
            ],
            "text/html": [
              "\n",
              "  <div id=\"df-1aee2ace-6016-4f82-ae8c-c4f84cf73f39\" class=\"colab-df-container\">\n",
              "    <div>\n",
              "<style scoped>\n",
              "    .dataframe tbody tr th:only-of-type {\n",
              "        vertical-align: middle;\n",
              "    }\n",
              "\n",
              "    .dataframe tbody tr th {\n",
              "        vertical-align: top;\n",
              "    }\n",
              "\n",
              "    .dataframe thead th {\n",
              "        text-align: right;\n",
              "    }\n",
              "</style>\n",
              "<table border=\"1\" class=\"dataframe\">\n",
              "  <thead>\n",
              "    <tr style=\"text-align: right;\">\n",
              "      <th></th>\n",
              "      <th>col1</th>\n",
              "      <th>col2</th>\n",
              "      <th>col3</th>\n",
              "      <th>col4</th>\n",
              "    </tr>\n",
              "  </thead>\n",
              "  <tbody>\n",
              "    <tr>\n",
              "      <th>Row1</th>\n",
              "      <td>0</td>\n",
              "      <td>1</td>\n",
              "      <td>2</td>\n",
              "      <td>3</td>\n",
              "    </tr>\n",
              "    <tr>\n",
              "      <th>Row2</th>\n",
              "      <td>4</td>\n",
              "      <td>5</td>\n",
              "      <td>6</td>\n",
              "      <td>7</td>\n",
              "    </tr>\n",
              "    <tr>\n",
              "      <th>Row3</th>\n",
              "      <td>8</td>\n",
              "      <td>9</td>\n",
              "      <td>10</td>\n",
              "      <td>11</td>\n",
              "    </tr>\n",
              "    <tr>\n",
              "      <th>Row4</th>\n",
              "      <td>12</td>\n",
              "      <td>13</td>\n",
              "      <td>14</td>\n",
              "      <td>15</td>\n",
              "    </tr>\n",
              "    <tr>\n",
              "      <th>Row5</th>\n",
              "      <td>16</td>\n",
              "      <td>17</td>\n",
              "      <td>18</td>\n",
              "      <td>19</td>\n",
              "    </tr>\n",
              "  </tbody>\n",
              "</table>\n",
              "</div>\n",
              "    <div class=\"colab-df-buttons\">\n",
              "\n",
              "  <div class=\"colab-df-container\">\n",
              "    <button class=\"colab-df-convert\" onclick=\"convertToInteractive('df-1aee2ace-6016-4f82-ae8c-c4f84cf73f39')\"\n",
              "            title=\"Convert this dataframe to an interactive table.\"\n",
              "            style=\"display:none;\">\n",
              "\n",
              "  <svg xmlns=\"http://www.w3.org/2000/svg\" height=\"24px\" viewBox=\"0 -960 960 960\">\n",
              "    <path d=\"M120-120v-720h720v720H120Zm60-500h600v-160H180v160Zm220 220h160v-160H400v160Zm0 220h160v-160H400v160ZM180-400h160v-160H180v160Zm440 0h160v-160H620v160ZM180-180h160v-160H180v160Zm440 0h160v-160H620v160Z\"/>\n",
              "  </svg>\n",
              "    </button>\n",
              "\n",
              "  <style>\n",
              "    .colab-df-container {\n",
              "      display:flex;\n",
              "      gap: 12px;\n",
              "    }\n",
              "\n",
              "    .colab-df-convert {\n",
              "      background-color: #E8F0FE;\n",
              "      border: none;\n",
              "      border-radius: 50%;\n",
              "      cursor: pointer;\n",
              "      display: none;\n",
              "      fill: #1967D2;\n",
              "      height: 32px;\n",
              "      padding: 0 0 0 0;\n",
              "      width: 32px;\n",
              "    }\n",
              "\n",
              "    .colab-df-convert:hover {\n",
              "      background-color: #E2EBFA;\n",
              "      box-shadow: 0px 1px 2px rgba(60, 64, 67, 0.3), 0px 1px 3px 1px rgba(60, 64, 67, 0.15);\n",
              "      fill: #174EA6;\n",
              "    }\n",
              "\n",
              "    .colab-df-buttons div {\n",
              "      margin-bottom: 4px;\n",
              "    }\n",
              "\n",
              "    [theme=dark] .colab-df-convert {\n",
              "      background-color: #3B4455;\n",
              "      fill: #D2E3FC;\n",
              "    }\n",
              "\n",
              "    [theme=dark] .colab-df-convert:hover {\n",
              "      background-color: #434B5C;\n",
              "      box-shadow: 0px 1px 3px 1px rgba(0, 0, 0, 0.15);\n",
              "      filter: drop-shadow(0px 1px 2px rgba(0, 0, 0, 0.3));\n",
              "      fill: #FFFFFF;\n",
              "    }\n",
              "  </style>\n",
              "\n",
              "    <script>\n",
              "      const buttonEl =\n",
              "        document.querySelector('#df-1aee2ace-6016-4f82-ae8c-c4f84cf73f39 button.colab-df-convert');\n",
              "      buttonEl.style.display =\n",
              "        google.colab.kernel.accessAllowed ? 'block' : 'none';\n",
              "\n",
              "      async function convertToInteractive(key) {\n",
              "        const element = document.querySelector('#df-1aee2ace-6016-4f82-ae8c-c4f84cf73f39');\n",
              "        const dataTable =\n",
              "          await google.colab.kernel.invokeFunction('convertToInteractive',\n",
              "                                                    [key], {});\n",
              "        if (!dataTable) return;\n",
              "\n",
              "        const docLinkHtml = 'Like what you see? Visit the ' +\n",
              "          '<a target=\"_blank\" href=https://colab.research.google.com/notebooks/data_table.ipynb>data table notebook</a>'\n",
              "          + ' to learn more about interactive tables.';\n",
              "        element.innerHTML = '';\n",
              "        dataTable['output_type'] = 'display_data';\n",
              "        await google.colab.output.renderOutput(dataTable, element);\n",
              "        const docLink = document.createElement('div');\n",
              "        docLink.innerHTML = docLinkHtml;\n",
              "        element.appendChild(docLink);\n",
              "      }\n",
              "    </script>\n",
              "  </div>\n",
              "\n",
              "\n",
              "<div id=\"df-1c53c95d-6832-42e9-973d-1c7c423cdb58\">\n",
              "  <button class=\"colab-df-quickchart\" onclick=\"quickchart('df-1c53c95d-6832-42e9-973d-1c7c423cdb58')\"\n",
              "            title=\"Suggest charts\"\n",
              "            style=\"display:none;\">\n",
              "\n",
              "<svg xmlns=\"http://www.w3.org/2000/svg\" height=\"24px\"viewBox=\"0 0 24 24\"\n",
              "     width=\"24px\">\n",
              "    <g>\n",
              "        <path d=\"M19 3H5c-1.1 0-2 .9-2 2v14c0 1.1.9 2 2 2h14c1.1 0 2-.9 2-2V5c0-1.1-.9-2-2-2zM9 17H7v-7h2v7zm4 0h-2V7h2v10zm4 0h-2v-4h2v4z\"/>\n",
              "    </g>\n",
              "</svg>\n",
              "  </button>\n",
              "\n",
              "<style>\n",
              "  .colab-df-quickchart {\n",
              "      --bg-color: #E8F0FE;\n",
              "      --fill-color: #1967D2;\n",
              "      --hover-bg-color: #E2EBFA;\n",
              "      --hover-fill-color: #174EA6;\n",
              "      --disabled-fill-color: #AAA;\n",
              "      --disabled-bg-color: #DDD;\n",
              "  }\n",
              "\n",
              "  [theme=dark] .colab-df-quickchart {\n",
              "      --bg-color: #3B4455;\n",
              "      --fill-color: #D2E3FC;\n",
              "      --hover-bg-color: #434B5C;\n",
              "      --hover-fill-color: #FFFFFF;\n",
              "      --disabled-bg-color: #3B4455;\n",
              "      --disabled-fill-color: #666;\n",
              "  }\n",
              "\n",
              "  .colab-df-quickchart {\n",
              "    background-color: var(--bg-color);\n",
              "    border: none;\n",
              "    border-radius: 50%;\n",
              "    cursor: pointer;\n",
              "    display: none;\n",
              "    fill: var(--fill-color);\n",
              "    height: 32px;\n",
              "    padding: 0;\n",
              "    width: 32px;\n",
              "  }\n",
              "\n",
              "  .colab-df-quickchart:hover {\n",
              "    background-color: var(--hover-bg-color);\n",
              "    box-shadow: 0 1px 2px rgba(60, 64, 67, 0.3), 0 1px 3px 1px rgba(60, 64, 67, 0.15);\n",
              "    fill: var(--button-hover-fill-color);\n",
              "  }\n",
              "\n",
              "  .colab-df-quickchart-complete:disabled,\n",
              "  .colab-df-quickchart-complete:disabled:hover {\n",
              "    background-color: var(--disabled-bg-color);\n",
              "    fill: var(--disabled-fill-color);\n",
              "    box-shadow: none;\n",
              "  }\n",
              "\n",
              "  .colab-df-spinner {\n",
              "    border: 2px solid var(--fill-color);\n",
              "    border-color: transparent;\n",
              "    border-bottom-color: var(--fill-color);\n",
              "    animation:\n",
              "      spin 1s steps(1) infinite;\n",
              "  }\n",
              "\n",
              "  @keyframes spin {\n",
              "    0% {\n",
              "      border-color: transparent;\n",
              "      border-bottom-color: var(--fill-color);\n",
              "      border-left-color: var(--fill-color);\n",
              "    }\n",
              "    20% {\n",
              "      border-color: transparent;\n",
              "      border-left-color: var(--fill-color);\n",
              "      border-top-color: var(--fill-color);\n",
              "    }\n",
              "    30% {\n",
              "      border-color: transparent;\n",
              "      border-left-color: var(--fill-color);\n",
              "      border-top-color: var(--fill-color);\n",
              "      border-right-color: var(--fill-color);\n",
              "    }\n",
              "    40% {\n",
              "      border-color: transparent;\n",
              "      border-right-color: var(--fill-color);\n",
              "      border-top-color: var(--fill-color);\n",
              "    }\n",
              "    60% {\n",
              "      border-color: transparent;\n",
              "      border-right-color: var(--fill-color);\n",
              "    }\n",
              "    80% {\n",
              "      border-color: transparent;\n",
              "      border-right-color: var(--fill-color);\n",
              "      border-bottom-color: var(--fill-color);\n",
              "    }\n",
              "    90% {\n",
              "      border-color: transparent;\n",
              "      border-bottom-color: var(--fill-color);\n",
              "    }\n",
              "  }\n",
              "</style>\n",
              "\n",
              "  <script>\n",
              "    async function quickchart(key) {\n",
              "      const quickchartButtonEl =\n",
              "        document.querySelector('#' + key + ' button');\n",
              "      quickchartButtonEl.disabled = true;  // To prevent multiple clicks.\n",
              "      quickchartButtonEl.classList.add('colab-df-spinner');\n",
              "      try {\n",
              "        const charts = await google.colab.kernel.invokeFunction(\n",
              "            'suggestCharts', [key], {});\n",
              "      } catch (error) {\n",
              "        console.error('Error during call to suggestCharts:', error);\n",
              "      }\n",
              "      quickchartButtonEl.classList.remove('colab-df-spinner');\n",
              "      quickchartButtonEl.classList.add('colab-df-quickchart-complete');\n",
              "    }\n",
              "    (() => {\n",
              "      let quickchartButtonEl =\n",
              "        document.querySelector('#df-1c53c95d-6832-42e9-973d-1c7c423cdb58 button');\n",
              "      quickchartButtonEl.style.display =\n",
              "        google.colab.kernel.accessAllowed ? 'block' : 'none';\n",
              "    })();\n",
              "  </script>\n",
              "</div>\n",
              "\n",
              "    </div>\n",
              "  </div>\n"
            ],
            "application/vnd.google.colaboratory.intrinsic+json": {
              "type": "dataframe",
              "variable_name": "df",
              "summary": "{\n  \"name\": \"df\",\n  \"rows\": 5,\n  \"fields\": [\n    {\n      \"column\": \"col1\",\n      \"properties\": {\n        \"dtype\": \"number\",\n        \"std\": 6,\n        \"min\": 0,\n        \"max\": 16,\n        \"num_unique_values\": 5,\n        \"samples\": [\n          4,\n          16,\n          8\n        ],\n        \"semantic_type\": \"\",\n        \"description\": \"\"\n      }\n    },\n    {\n      \"column\": \"col2\",\n      \"properties\": {\n        \"dtype\": \"number\",\n        \"std\": 6,\n        \"min\": 1,\n        \"max\": 17,\n        \"num_unique_values\": 5,\n        \"samples\": [\n          5,\n          17,\n          9\n        ],\n        \"semantic_type\": \"\",\n        \"description\": \"\"\n      }\n    },\n    {\n      \"column\": \"col3\",\n      \"properties\": {\n        \"dtype\": \"number\",\n        \"std\": 6,\n        \"min\": 2,\n        \"max\": 18,\n        \"num_unique_values\": 5,\n        \"samples\": [\n          6,\n          18,\n          10\n        ],\n        \"semantic_type\": \"\",\n        \"description\": \"\"\n      }\n    },\n    {\n      \"column\": \"col4\",\n      \"properties\": {\n        \"dtype\": \"number\",\n        \"std\": 6,\n        \"min\": 3,\n        \"max\": 19,\n        \"num_unique_values\": 5,\n        \"samples\": [\n          7,\n          19,\n          11\n        ],\n        \"semantic_type\": \"\",\n        \"description\": \"\"\n      }\n    }\n  ]\n}"
            }
          },
          "metadata": {},
          "execution_count": 10
        },
        {
          "output_type": "display_data",
          "data": {
            "text/plain": [
              "<google.colab._quickchart_helpers.SectionTitle at 0x7d5632ad55d0>"
            ],
            "text/html": [
              "<h4 class=\"colab-quickchart-section-title\">Distributions</h4>\n",
              "<style>\n",
              "  .colab-quickchart-section-title {\n",
              "      clear: both;\n",
              "  }\n",
              "</style>"
            ]
          },
          "metadata": {}
        },
        {
          "output_type": "display_data",
          "data": {
            "text/plain": [
              "from matplotlib import pyplot as plt\n",
              "_df_0['col1'].plot(kind='hist', bins=20, title='col1')\n",
              "plt.gca().spines[['top', 'right',]].set_visible(False)"
            ],
            "text/html": [
              "      <div class=\"colab-quickchart-chart-with-code\" id=\"chart-d2ad0185-29da-45c8-a314-2f055dc18e6b\">\n",
              "        <img style=\"width: 180px;\" src=\"data:image/png;base64,iVBORw0KGgoAAAANSUhEUgAAAioAAAGrCAYAAADuNLxTAAAAOXRFWHRTb2Z0d2FyZQBNYXRwbG90\n",
              "bGliIHZlcnNpb24zLjcuMSwgaHR0cHM6Ly9tYXRwbG90bGliLm9yZy/bCgiHAAAACXBIWXMAAA9h\n",
              "AAAPYQGoP6dpAAAd40lEQVR4nO3df5BV9X3/8ddlSbamEfAHRCIslB+LGCKIwhCw/oi11X4TtJJ2\n",
              "kpZUWvmhMbUZOqMlJtOYpkJn2jQ2HcsilmiJJi1gwmgSp4nGmkQD+CuIibAE3K1BSZsJayZC3OV+\n",
              "/3DC1y1svi7u5X52fTxm7gz38PHs+3hnDs+59+w9lWq1Wg0AQIEG1XsAAICeCBUAoFhCBQAollAB\n",
              "AIolVACAYgkVAKBYQgUAKJZQAQCKJVQAgGIJFaBf2L17dyqVSlpbW+s9CnAMCRWgX3ruuedy6aWX\n",
              "ZsyYMalUKlm9enW9RwJqQKgA/dKgQYPy27/927nzzjszatSoeo8D1IhQAY6pl156KR/72MfS3Nyc\n",
              "448/PuPGjcvtt9+eJPnc5z6XKVOmZMiQIZkyZcqh7UcycuTIXHPNNZkzZ04aGhqO1fjAMTa43gMA\n",
              "byyLFi3K9u3b8+UvfzmnnXZa9uzZk+effz7r16/Ptddem7vvvjvnn39+HnjggVx22WUZOnRoLrvs\n",
              "snqPDdSJd1SAY+a///u/8/nPfz633HJLJk+enEqlkre//e2ZPn16Vq1alSuvvDIXXnhhGhoa8lu/\n",
              "9Vu58sors3LlynqPDdSRUAGOmV27diVJJk2adNjftbe3Z/z48d22TZgwIW1tbcdkNqBMQgU4ZsaO\n",
              "HZsk2b59+2F/N3r06OzcubPbtp07d6apqelYjAYUSqgAx8zw4cPzgQ98INdcc02eeeaZJMmePXvy\n",
              "2GOPZeHChfmXf/mXfPOb30xXV1fuv//+3HbbbVm8eHGP+9u/f3/279+farWazs7O7N+/Py+//PKx\n",
              "OhzgGBAqwDF166235rzzzssll1ySt771rZkzZ062bduW3//938/f//3f50Mf+lCGDRuWP/uzP8vN\n",
              "N9+cyy+/vMd9HXfccTnuuOPS1taWq6++Oscdd1wWLVp0DI8GqLVKtVqt1nsIAIAj8Y4KAFAsoQIA\n",
              "FEuoAADFEioAQLGECgBQLKECABRLqAAAxRoQoXLzzTfXewQAoAYGRKg8++yz9R4BAKiBAREqAMDA\n",
              "JFQAgGIJFQCgWEIFACiWUAEAiiVUAIBiCRUAoFhCBQAollABAIolVACAYgkVAKBYQgUAKFZNQ+Xa\n",
              "a6/N2LFjU6lU8sQTT/S47rbbbsvEiRMzfvz4LFq0KC+//HItxwIA+omahsr73ve+fOtb38qYMWN6\n",
              "XLNr1658/OMfz0MPPZTW1ta88MILWbVqVS3HAgD6iZqGyrnnnptRo0b9yjXr1q3L3Llzc8opp6RS\n",
              "qeSqq67KXXfd1eP6AwcOpKOjo9ujq6urr0cHAAowuN4DtLW1dXvHZezYsWlra+tx/fLly3PjjTd2\n",
              "2zZr1qyazDb2L++tyX6TZPeK/1OzffP/eA37v1q9hl6/Y8dreGwM1P/P/e5i2mXLlmXfvn3dHjNn\n",
              "zqz3WABADdT9HZWmpqbs3Lnz0PPdu3enqampx/WNjY1pbGzstq2hoaFm8wEA9VP3d1TmzZuXjRs3\n",
              "5vnnn0+1Ws3KlSvz/ve/v95jAQAFqGmoLFmyJKNGjcp//dd/5Xd+53cyYcKEJMnChQuzcePGJMm4\n",
              "ceNy4403Zs6cOZkwYUKGDx+eJUuW1HIsAKCfqOlHPy0tLUfcvnr16m7PFy1alEWLFtVyFACgH6r7\n",
              "Rz8AAD0RKgBAsYQKAFAsoQIAFEuoAADFEioAQLGECgBQLKECABRLqAAAxRIqAECxhAoAUCyhAgAU\n",
              "S6gAAMUSKgBAsYQKAFAsoQIAFEuoAADFEioAQLGECgBQLKECABRLqAAAxRIqAECxhAoAUCyhAgAU\n",
              "S6gAAMUSKgBAsYQKAFAsoQIAFEuoAADFEioAQLGECgBQLKECABRLqAAAxRIqAECxhAoAUCyhAgAU\n",
              "S6gAAMUSKgBAsYQKAFAsoQIAFEuoAADFEioAQLGECgBQLKECABRLqAAAxRIqAECxhAoAUCyhAgAU\n",
              "S6gAAMUSKgBAsYQKAFAsoQIAFEuoAADFEioAQLGECgBQLKECABRLqAAAxRIqAECxhAoAUCyhAgAU\n",
              "S6gAAMWqaajs2LEjs2fPTnNzc2bMmJFt27YdtubgwYNZunRpTj/99Jxxxhm54IIL0traWsuxAIB+\n",
              "oqahsmTJkixevDjbt2/P9ddfnwULFhy2ZuPGjfn2t7+dJ598Mt/73vdy4YUX5qMf/WgtxwIA+oma\n",
              "hcrevXuzZcuWzJ8/P0kyb968tLe3H/ZuSaVSyYEDB7J///5Uq9V0dHRk1KhRtRoLAOhHBtdqx+3t\n",
              "7Rk5cmQGD37lR1QqlTQ1NaWtrS0TJkw4tO69731vHnjggZxyyik5/vjjc+qpp+bBBx/scb8HDhzI\n",
              "gQMHum3r6uqqzUEAAHVV94tpt2zZkqeeeirPPfdcfvSjH+XCCy/MVVdd1eP65cuXZ+jQod0emzZt\n",
              "OoYTAwDHSs1CZfTo0dmzZ086OzuTJNVqNW1tbWlqauq27o477si73/3uDBs2LIMGDcoVV1yRBx54\n",
              "oMf9Llu2LPv27ev2mDlzZq0OAwCoo5qFyogRIzJ9+vSsXbs2SbJ+/fqMGjWq28c+STJu3Ljcf//9\n",
              "+cUvfpEkueeeezJlypQe99vY2JghQ4Z0ezQ0NNTqMACAOqrZNSpJ0tLSkgULFuSmm27KkCFDsmbN\n",
              "miTJwoULM3fu3MydOzfXXHNNvv/972fq1Kl505velFNOOSUrV66s5VgAQD9R01CZNGlSHn744cO2\n",
              "r169+tCfGxsbc+utt9ZyDACgn6r7xbQAAD0RKgBAsYQKAFAsoQIAFEuoAADFEioAQLGECgBQLKEC\n",
              "ABRLqAAAxRIqAECxhAoAUCyhAgAUS6gAAMUSKgBAsYQKAFAsoQIAFEuoAADFEioAQLGECgBQLKEC\n",
              "ABRLqAAAxRIqAECxhAoAUCyhAgAUS6gAAMUSKgBAsYQKAFAsoQIAFEuoAADFEioAQLGECgBQLKEC\n",
              "ABRLqAAAxRIqAECxhAoAUCyhAgAUS6gAAMUSKgBAsYQKAFAsoQIAFEuoAADFEioAQLGECgBQLKEC\n",
              "ABRLqAAAxRIqAECxhAoAUCyhAgAUS6gAAMUSKgBAsYQKAFAsoQIAFEuoAADFEioAQLGECgBQLKEC\n",
              "ABRLqAAAxRIqAECxhAoAUCyhAgAUS6gAAMUSKgBAsWoaKjt27Mjs2bPT3NycGTNmZNu2bUdct3Xr\n",
              "1px//vmZPHlyJk+enA0bNtRyLACgnxhcy50vWbIkixcvzoIFC7Ju3bosWLAgmzdv7rbm5z//eS69\n",
              "9NLccccdOeecc9LV1ZWf/OQntRwLAOgnavaOyt69e7Nly5bMnz8/STJv3ry0t7entbW127o777wz\n",
              "s2bNyjnnnJMkaWhoyPDhw3vc74EDB9LR0dHt0dXVVavDAADqqGah0t7enpEjR2bw4FfetKlUKmlq\n",
              "akpbW1u3dU8//XQaGxvznve8J9OmTcsf//Ef58c//nGP+12+fHmGDh3a7bFp06ZaHQYAUEe9DpX7\n",
              "7ruvTwfo7OzM17/+9bS0tOTxxx/PqaeemquvvrrH9cuWLcu+ffu6PWbOnNmnMwEAZeh1qHzyk5/M\n",
              "pEmTcvPNN6ejo6PHdaNHj86ePXvS2dmZJKlWq2lra0tTU1O3dU1NTbngggty6qmnplKpZP78+Xnk\n",
              "kUd63G9jY2OGDBnS7dHQ0NDbwwAA+oFeh8q3v/3tfOELX8hTTz2V5ubmfOhDH8rTTz992LoRI0Zk\n",
              "+vTpWbt2bZJk/fr1GTVqVCZMmNBt3R/8wR9k8+bNh6LnK1/5SqZOnXo0xwIADDBHdY3KmWeemVtv\n",
              "vTVf+9rXcs899+SMM87IRRddlK1bt3Zb19LSkpaWljQ3N2fFihVZs2ZNkmThwoXZuHFjklfeUfno\n",
              "Rz+a2bNn54wzzsj999+flStXvs7DAgAGgqP69eSvf/3r+exnP5utW7fmmmuuyZVXXplvfvOb+b3f\n",
              "+71uv9UzadKkPPzww4f996tXr+72/IMf/GA++MEPHs0oAMAA1utQmTx5ck4++eRce+21ufzyyw9d\n",
              "H/K+970vt912W58PCAC8cfU6VNauXZuzzjrriH/31a9+9XUPBADwS72+RuXRRx/t9s2x//M//5Nb\n",
              "b721T4cCAEiOIlRuueWWnHjiiYeen3TSSbnlllv6dCgAgOQoQqVarR62zVfYAwC10OtQGTlyZP7t\n",
              "3/7t0PMvfvGLGTlyZJ8OBQCQHMXFtJ/5zGdy6aWX5rrrrkuSvOUtb8mXv/zlPh8MAKDXoXLaaafl\n",
              "6aefzjPPPJPkle9K8RX2AEAtHNUXvlUqlQwbNiydnZ157rnnkuSwe/gAALxevQ6Vz33uc7n22mvz\n",
              "pje9KYMGvXKJS6VSyd69e/t8OADgja3XofLXf/3X2bx5cyZNmlSLeQAADun1b/2cfPLJIgUAOCZ6\n",
              "HSqXXXZZPvOZz2Tv3r3p6Og49AAA6Gu9/ujnhhtuSJIsXbo0lUol1Wo1lUrFl74BAH2u16Fy8ODB\n",
              "WswBAHCYXn/0k7xyY8J//dd/TZL89Kc/zZ49e/p0KACA5ChvSvinf/qn+cQnPpHklbsn/+Ef/mFf\n",
              "zwUA0PtQWbVqVR555JEMGTIkSTJ+/Pj8+Mc/7vPBAAB6HSqNjY057rjjum0bPPiovuAWAOBX6nWo\n",
              "DB8+PNu3b0+lUknyyjfV+vp8AKAWjuruyR/4wAfygx/8IKNHj86QIUNyzz331GI2AOANrtehMmHC\n",
              "hHz3u9/NM888k2q16u7JAEDN9DpU2trakiS//uu/niTungwA1EyvQ+Wss8469I20+/fvz89//vOc\n",
              "dNJJ7p4MAPS5XofK//5V5A0bNuTJJ5/ss4EAAH7pqL6Z9tUuv/zy3HvvvX0xCwBAN71+R+XVd0ru\n",
              "6urKd7/7XXdPBgBqotehMmzYsEPXqDQ0NGTixIn5x3/8x1rMBgC8wbl7MgBQrNd9jQoAQK30+h2V\n",
              "QYMGHfr6/FerVqupVCrp6urqk8EAAHodKp/85Cfz0ksv5eqrr06SrFy5Mscdd1w+8pGP9PVsAMAb\n",
              "XK9D5e67786jjz566PmnPvWpnHXWWbnhhhv6dDAAgF5fo/Liiy92+xbavXv35sUXX+zToQAAkqN4\n",
              "R+Uv/uIvMnXq1Pzu7/5ukuRrX/taPvGJT/T1XAAAvQ+VJUuWZM6cOXnggQeSJEuXLs073vGOPh8M\n",
              "AKDXoZIkJ510Ut75znfm/PPPT2dnZ37xi1/kzW9+c1/PBgC8wfX6GpV169Zl1qxZ+ZM/+ZMkybZt\n",
              "23LZZZf19VwAAL0PleXLl+exxx7LsGHDkiRTp07Ns88+29dzAQD0PlQaGhpy0kknddvmYx8AoBZ6\n",
              "HSrHH398XnjhhUPfTvuNb3wjJ554Yp8PBgDQ64tp//Zv/zaXXHJJfvjDH+acc87Jrl27cu+999Zi\n",
              "NgDgDa5XoXLw4MF0dXXlgQceyHe+851Uq9XMnj370PUqAAB9qVehMmjQoCxevDhPPvlkLrnkklrN\n",
              "BACQ5CiuUZk4cWJaW1trMQsAQDe9vkblJz/5SaZNm5bZs2fnrW9966HtGzZs6NPBAABec6gsXrw4\n",
              "q1atyhVXXJG5c+fmhBNOqOVcAACvPVS2bNmSJLniiisyffr0PPbYYzUbCgAgOYprVJKkWq329RwA\n",
              "AId5ze+ovPTSS9m6dWuq1Wr2799/6M+/dMYZZ9RkQADgjatXoTJ37txDz1/950qlkh/+8Id9OxkA\n",
              "8Ib3mkNl9+7dNRwDAOBwR3WNCgDAsSBUAIBiCRUAoFhCBQAollABAIolVACAYgkVAKBYQgUAKJZQ\n",
              "AQCKVdNQ2bFjR2bPnp3m5ubMmDEj27Zt63FttVrNu9/97gwbNqyWIwEA/UhNQ2XJkiVZvHhxtm/f\n",
              "nuuvvz4LFizoce0//MM/ZPz48bUcBwDoZ2oWKnv37s2WLVsyf/78JMm8efPS3t6e1tbWw9Zu27Yt\n",
              "X/rSl/KXf/mX/9/9HjhwIB0dHd0eXV1dfT4/AFB/NQuV9vb2jBw5MoMHv3Lfw0qlkqamprS1tXVb\n",
              "9/LLL2fRokVpaWlJQ0PD/3e/y5cvz9ChQ7s9Nm3aVJNjAADqq+4X09544425/PLLM3ny5Ne0ftmy\n",
              "Zdm3b1+3x8yZM2s8JQBQD4NrtePRo0dnz5496ezszODBg1OtVtPW1pampqZu6x588MG0tbXln/7p\n",
              "n9LZ2ZmOjo6MHTs2mzdvzvDhww/bb2NjYxobG7ttey3vxAAA/U/N3lEZMWJEpk+fnrVr1yZJ1q9f\n",
              "n1GjRmXChAnd1j300EN59tlns3v37nzrW9/KkCFDsnv37iNGCgDwxlLTj35aWlrS0tKS5ubmrFix\n",
              "ImvWrEmSLFy4MBs3bqzljwYABoCaffSTJJMmTcrDDz982PbVq1cfcf3YsWPz05/+tJYjAQD9SN0v\n",
              "pgUA6IlQAQCKJVQAgGIJFQCgWEIFACiWUAEAiiVUAIBiCRUAoFhCBQAollABAIolVACAYgkVAKBY\n",
              "QgUAKJZQAQCKJVQAgGIJFQCgWEIFACiWUAEAiiVUAIBiCRUAoFhCBQAollABAIolVACAYgkVAKBY\n",
              "QgUAKJZQAQCKJVQAgGIJFQCgWEIFACiWUAEAiiVUAIBiCRUAoFhCBQAollABAIolVACAYgkVAKBY\n",
              "QgUAKJZQAQCKJVQAgGIJFQCgWEIFACiWUAEAiiVUAIBiCRUAoFhCBQAollABAIolVACAYgkVAKBY\n",
              "QgUAKJZQAQCKJVQAgGIJFQCgWEIFACiWUAEAiiVUAIBiCRUAoFhCBQAollABAIolVACAYgkVAKBY\n",
              "QgUAKJZQAQCKVdNQ2bFjR2bPnp3m5ubMmDEj27ZtO2zN/fffn5kzZ+b000/PO97xjlx33XU5ePBg\n",
              "LccCAPqJmobKkiVLsnjx4mzfvj3XX399FixYcNiaE044IV/4whfy9NNP59FHH813vvOd3HHHHbUc\n",
              "CwDoJ2oWKnv37s2WLVsyf/78JMm8efPS3t6e1tbWbuvOPPPMjBs3Lknya7/2a5k2bVp2797d434P\n",
              "HDiQjo6Obo+urq5aHQYAUEc1C5X29vaMHDkygwcPTpJUKpU0NTWlra2tx//m+eefz7p16/Ke97yn\n",
              "xzXLly/P0KFDuz02bdrU5/MDAPVXzMW0HR0dee9735vrrrsuZ599do/rli1bln379nV7zJw58xhO\n",
              "CgAcK4NrtePRo0dnz5496ezszODBg1OtVtPW1pampqbD1r744ou5+OKLc+mll2bp0qW/cr+NjY1p\n",
              "bGzstq2hoaFPZwcAylCzd1RGjBiR6dOnZ+3atUmS9evXZ9SoUZkwYUK3dT/72c9y8cUX5+KLL87H\n",
              "PvaxWo0DAPRDNf3op6WlJS0tLWlubs6KFSuyZs2aJMnChQuzcePGJMnNN9+cTZs2ZcOGDZk2bVqm\n",
              "TZuWv/mbv6nlWABAP1Gzj36SZNKkSXn44YcP27569epDf77hhhtyww031HIMAKCfKuZiWgCA/02o\n",
              "AADFEioAQLGECgBQLKECABRLqAAAxRIqAECxhAoAUCyhAgAUS6gAAMUSKgBAsYQKAFAsoQIAFEuo\n",
              "AADFEioAQLGECgBQLKECABRLqAAAxRIqAECxhAoAUCyhAgAUS6gAAMUSKgBAsYQKAFAsoQIAFEuo\n",
              "AADFEioAQLGECgBQLKECABRLqAAAxRIqAECxhAoAUCyhAgAUS6gAAMUSKgBAsYQKAFAsoQIAFEuo\n",
              "AADFEioAQLGECgBQLKECABRLqAAAxRIqAECxhAoAUCyhAgAUS6gAAMUSKgBAsYQKAFAsoQIAFEuo\n",
              "AADFEioAQLGECgBQLKECABRLqAAAxRIqAECxhAoAUCyhAgAUS6gAAMUSKgBAsYQKAFAsoQIAFKum\n",
              "obJjx47Mnj07zc3NmTFjRrZt23bEdbfddlsmTpyY8ePHZ9GiRXn55ZdrORYA0E/UNFSWLFmSxYsX\n",
              "Z/v27bn++uuzYMGCw9bs2rUrH//4x/PQQw+ltbU1L7zwQlatWlXLsQCAfqJmobJ3795s2bIl8+fP\n",
              "T5LMmzcv7e3taW1t7bZu3bp1mTt3bk455ZRUKpVcddVVueuuu3rc74EDB9LR0dHt0dXVVavDAADq\n",
              "aHCtdtze3p6RI0dm8OBXfkSlUklTU1Pa2toyYcKEQ+va2toyZsyYQ8/Hjh2btra2Hve7fPny3Hjj\n",
              "jd22nXbaaVm6dGmfzt/V1ZWRmzZl5syZaWho6NN9J8nSpd/o8332VldXVzbV8BjrbaC/hgP99Utq\n",
              "+xrW+/VLvIavl9ewu8trsM+urq68612fqtnxjRkzJn/+53/+K9fULFRqZdmyZYdFSWNjYxobG/v0\n",
              "53R0dGTo0KG57777MmTIkD7ddykG+jE6vv5voB/jQD++ZOAfo+OrvZqFyujRo7Nnz550dnZm8ODB\n",
              "qVaraWtrS1NTU7d1TU1N2blz56Hnu3fvPmzNq9UiSgCAMtXsGpURI0Zk+vTpWbt2bZJk/fr1GTVq\n",
              "VLePfZJXrl3ZuHFjnn/++VSr1axcuTLvf//7azUWANCP1PS3flpaWtLS0pLm5uasWLEia9asSZIs\n",
              "XLgwGzduTJKMGzcuN954Y+bMmZMJEyZk+PDhWbJkSS3HAgD6iZpeozJp0qQ8/PDDh21fvXp1t+eL\n",
              "Fi3KokWLajlKrzU2Nuav/uqvBvTHTAP9GB1f/zfQj3GgH18y8I/R8dVepVqtVuv20wEAfgVfoQ8A\n",
              "FEuoAADFEioAQLGECgBQLKHSg9d65+f+aP/+/bnsssvS3NycqVOn5qKLLjrsHkwDxZo1a1KpVPKl\n",
              "L32p3qP0uQMHDuTDH/5wJk6cmHe+852H7qs1UHzlK1/J9OnTM23atEyZMiW33357vUd6Xa699tqM\n",
              "HTs2lUolTzzxxKHtA+lcc6RjHEjnm55ew1/q7+ebno6v7ueaKkd0wQUXVNesWVOtVqvVf//3f6+e\n",
              "ffbZ9R2oD7300kvVe++9t3rw4MFqtVqtfvazn62ed9559R2qBnbt2lV917veVZ01a1b17rvvrvc4\n",
              "fe4jH/lI9cMf/vCh13HPnj11nqjvHDx4sHrCCSdUn3zyyWq1+spr2djYWO3o6KjzZEfvwQcfrLa3\n",
              "t1fHjBlTffzxxw9tH0jnmiMd40A63/T0GlarA+N809Px1ftcI1SO4IUXXqgef/zx1Zdffrlarb5y\n",
              "0nzb295W3bFjR50nq43NmzdXx4wZU+8x+lRXV1f1wgsvrG7ZsqV63nnn9dsTR09+9rOfVY8//vjq\n",
              "vn376j1KTRw8eLB64oknVh988MFqtVqtPvnkk9W3v/3t1QMHDtR5stfv1f8IDNRzzZH+If+lgXC+\n",
              "+d/HN9DON68+vhLONT76OYJfdefngejmm2/OpZdeWu8x+tSnP/3pzJkzJ2eddVa9R6mJnTt35sQT\n",
              "T8xNN92Us88+O7/5m7+Zb3yj/neS7SuVSiVf/OIXc/nll2fMmDE555xzcvvtt+fNb35zvUfrU2+0\n",
              "c03ifNPflHCu6Xd3T6Zv3XTTTWltbR1Q/8g99dRTWb9+ff7zP/+z3qPUTGdnZ5599tmcfvrpWbFi\n",
              "RR5//PFcdNFF2bZtW972trfVe7zXrbOzM5/61KeyYcOGnHvuudm8eXPmzp2brVu35uSTT673eBwl\n",
              "55v+p4RzjXdUjuDVd35O0uOdn/u7v/u7v8uGDRvy1a9+NW95y1vqPU6feeihh7J79+5MnDgxY8eO\n",
              "zSOPPJLFixfnn//5n+s9Wp9pamrKoEGD8kd/9EdJkjPPPDO/8Ru/ka1bt9Z5sr7xxBNP5Ec/+lHO\n",
              "PffcJMmMGTMyatSoPP7443WerG+9Uc41ifNNf1XCuUaoHMFrvfNzf/bpT386d911V/7jP/4jw4YN\n",
              "q/c4ferqq6/Onj17snv37uzevTuzZs3KqlWrcvXVV9d7tD5z8skn58ILL8x9992XJNm1a1d27dqV\n",
              "yZMn13myvvHLf8C///3vJ0laW1uzc+fOTJo0qc6T9a03wrkmcb7pz4o419Tt6pjC/eAHP6jOmjWr\n",
              "OnHixOpZZ51V/d73vlfvkfpMe3t7NUl13Lhx1alTp1anTp1anTlzZr3HqpmBcHHbkezcubN6/vnn\n",
              "V6dMmVI944wzquvWrav3SH3qzjvvPHRsU6ZMqX7+85+v90ivy+LFi6unnnpqtaGhoTpixIjq+PHj\n",
              "q9XqwDrXHOkYB9L5pqfX8NX68/mmp+Or97nGTQkBgGL56AcAKJZQAQCKJVQAgGIJFQCgWEIFACiW\n",
              "UAEAiiVUAIBiCRUAoFhCBQAollABAIr1fwEaHHd4QG97HwAAAABJRU5ErkJggg==\n",
              "\">\n",
              "      </div>\n",
              "      <script type=\"text/javascript\">\n",
              "        (() => {\n",
              "          const chartElement = document.getElementById(\"chart-d2ad0185-29da-45c8-a314-2f055dc18e6b\");\n",
              "          async function getCodeForChartHandler(event) {\n",
              "            const chartCodeResponse =  await google.colab.kernel.invokeFunction(\n",
              "                'getCodeForChart', [\"chart-d2ad0185-29da-45c8-a314-2f055dc18e6b\"], {});\n",
              "            const responseJson = chartCodeResponse.data['application/json'];\n",
              "            await google.colab.notebook.addCell(responseJson.code, 'code');\n",
              "          }\n",
              "          chartElement.onclick = getCodeForChartHandler;\n",
              "        })();\n",
              "      </script>\n",
              "      <style>\n",
              "        .colab-quickchart-chart-with-code  {\n",
              "            display: block;\n",
              "            float: left;\n",
              "            border: 1px solid transparent;\n",
              "        }\n",
              "\n",
              "        .colab-quickchart-chart-with-code:hover {\n",
              "            cursor: pointer;\n",
              "            border: 1px solid #aaa;\n",
              "        }\n",
              "      </style>"
            ]
          },
          "metadata": {}
        },
        {
          "output_type": "display_data",
          "data": {
            "text/plain": [
              "from matplotlib import pyplot as plt\n",
              "_df_1['col2'].plot(kind='hist', bins=20, title='col2')\n",
              "plt.gca().spines[['top', 'right',]].set_visible(False)"
            ],
            "text/html": [
              "      <div class=\"colab-quickchart-chart-with-code\" id=\"chart-d6134a3d-fd2c-45aa-817c-c653c6fb336e\">\n",
              "        <img style=\"width: 180px;\" src=\"data:image/png;base64,iVBORw0KGgoAAAANSUhEUgAAAioAAAGrCAYAAADuNLxTAAAAOXRFWHRTb2Z0d2FyZQBNYXRwbG90\n",
              "bGliIHZlcnNpb24zLjcuMSwgaHR0cHM6Ly9tYXRwbG90bGliLm9yZy/bCgiHAAAACXBIWXMAAA9h\n",
              "AAAPYQGoP6dpAAAeLElEQVR4nO3dfZCddX3//9dho6sWknCTlJRkiclmQzCSkJBMmiC3ZQS+GijR\n",
              "1ptY0jY3IIoOzoARnYJVks60KqVj2RAaoKlomwRNAWGqIEUFk3BnCJo7s+xWA6FasrRCZDfn9wdj\n",
              "fq7JKhv3ZD+7PB4zZyZ75cPF++PR43POufZclWq1Wg0AQIEO6+sBAAC6I1QAgGIJFQCgWEIFACiW\n",
              "UAEAiiVUAIBiCRUAoFhCBQAollABAIolVIB+oaWlJZVKJdu2bevrUYBDSKgA/dLdd9+dP/qjP8qw\n",
              "YcMydOjQTJ8+Pf/+7//e12MBvUyoAP3S//zP/+TSSy/Nli1b8tOf/jQf+9jH8u53vzsbNmzo69GA\n",
              "XiRUgEPqxRdfzCc/+ck0NTXliCOOyJgxY3LrrbcmSW655ZZMnDgxgwcPzsSJE/cdP5D3v//9mTNn\n",
              "To488sjU1dXlT//0T3PCCSfkwQcfPFRbAQ6BQX09APDasmDBgmzZsiVf+9rXcsIJJ2Tnzp155pln\n",
              "snr16lx++eW54447csYZZ+T+++/PhRdemCFDhuTCCy/8redtbW3N5s2bc/LJJ9d+E8AhU6lWq9W+\n",
              "HgJ4bfjv//7vDBs2LOvXr88pp5zS5e/e/va358QTT8znP//5fcc+8pGPZPPmzbnnnnvS0tKSN7/5\n",
              "zdm6dWsaGxu7/LO7d+/OWWedlQkTJmTlypWHZC/AoeGjH+CQ2bFjR5Jk/Pjx+/1dW1tbxo4d2+VY\n",
              "Y2NjWltbf+M5n3vuuZx11lkZP358brnlll6bFSiDUAEOmdGjRydJtmzZst/fjRo1Ktu3b+9ybPv2\n",
              "7WloaOj2fG1tbXnb296WqVOnZuXKlRk0yKfZMNAIFeCQGTZsWN773vfmsssuy+bNm5MkO3fuzKOP\n",
              "Ppr58+fnn/7pn/Ktb30rnZ2due+++3LzzTdn4cKFBzzX5s2bM2vWrJx//vlZtmxZDjvMyxkMRP6X\n",
              "DRxSN910U04//fScd955OfzwwzNr1qxs2rQp7373u/N3f/d3+eAHP5ihQ4fmwx/+cK6//vpcdNFF\n",
              "BzzP0qVL09bWlmXLluXwww/f97jkkksO8Y6AWnIxLQBQLO+oAADFEioAQLGECgBQLKECABRLqAAA\n",
              "xRIqAECxhAoAUKwBESrXX399X48AANTAgAiVp59+uq9HAABqYECECgAwMAkVAKBYQgUAKJZQAQCK\n",
              "JVQAgGIJFQCgWEIFACiWUAEAiiVUAIBiCRUAoFhCBQAollABAIpV01C5/PLLM3r06FQqlTz++OPd\n",
              "rrv55pszbty4jB07NgsWLMjLL79cy7EAgH6ipqHyrne9K9/+9rdz/PHHd7tmx44d+dSnPpUHH3ww\n",
              "27Zty7PPPptly5bVciwAoJ+oaaicdtppGTly5G9cs2rVqsyePTvHHntsKpVKLrnkktx+++3drt+z\n",
              "Z0/a29u7PDo7O3t7dACgAIP6eoDW1tYu77iMHj06ra2t3a5fsmRJrr322i7HZsyYUZPZRn/8rpqc\n",
              "N0lalv6/mp2b/5/nsP+r1XPo+Tt0PIeHxkD9z7nfXUy7ePHi7N69u8tj+vTpfT0WAFADff6OSkND\n",
              "Q7Zv377v55aWljQ0NHS7vr6+PvX19V2O1dXV1Ww+AKDv9Pk7KnPmzMnatWvzzDPPpFqt5sYbb8x7\n",
              "3vOevh4LAChATUNl0aJFGTlyZP7rv/4rb3/729PY2JgkmT9/ftauXZskGTNmTK699trMmjUrjY2N\n",
              "GTZsWBYtWlTLsQCAfqKmH/00Nzcf8Pjy5cu7/LxgwYIsWLCglqMAAP1Qn3/0AwDQHaECABRLqAAA\n",
              "xRIqAECxhAoAUCyhAgAUS6gAAMUSKgBAsYQKAFAsoQIAFEuoAADFEioAQLGECgBQLKECABRLqAAA\n",
              "xRIqAECxhAoAUCyhAgAUS6gAAMUSKgBAsYQKAFAsoQIAFEuoAADFEioAQLGECgBQLKECABRLqAAA\n",
              "xRIqAECxhAoAUCyhAgAUS6gAAMUSKgBAsYQKAFAsoQIAFEuoAADFEioAQLGECgBQLKECABRLqAAA\n",
              "xRIqAECxhAoAUCyhAgAUS6gAAMUSKgBAsYQKAFAsoQIAFEuoAADFEioAQLGECgBQLKECABRLqAAA\n",
              "xRIqAECxhAoAUCyhAgAUS6gAAMUSKgBAsYQKAFAsoQIAFEuoAADFEioAQLGECgBQrJqGytatWzNz\n",
              "5sw0NTVl2rRp2bRp035r9u7dmyuuuCInnnhiTjrppJx55pnZtm1bLccCAPqJmobKokWLsnDhwmzZ\n",
              "siVXXXVV5s2bt9+atWvX5jvf+U6eeOKJfP/738/ZZ5+dT3ziE7UcCwDoJ2oWKrt27cqGDRsyd+7c\n",
              "JMmcOXPS1ta237sllUole/bsyUsvvZRqtZr29vaMHDmyVmMBAP3IoFqduK2tLSNGjMigQa/8KyqV\n",
              "ShoaGtLa2prGxsZ96975znfm/vvvz7HHHpsjjjgixx13XB544IFuz7tnz57s2bOny7HOzs7abAIA\n",
              "6FN9fjHthg0b8uSTT+bHP/5xfvKTn+Tss8/OJZdc0u36JUuWZMiQIV0e69atO4QTAwCHSs1CZdSo\n",
              "Udm5c2c6OjqSJNVqNa2trWloaOiy7rbbbstZZ52VoUOH5rDDDsvFF1+c+++/v9vzLl68OLt37+7y\n",
              "mD59eq22AQD0oZqFyvDhwzNlypSsXLkySbJ69eqMHDmyy8c+STJmzJjcd999+cUvfpEkufPOOzNx\n",
              "4sRuz1tfX5/Bgwd3edTV1dVqGwBAH6rZNSpJ0tzcnHnz5uW6667L4MGDs2LFiiTJ/PnzM3v27Mye\n",
              "PTuXXXZZfvCDH2TSpEl53etel2OPPTY33nhjLccCAPqJmobK+PHj89BDD+13fPny5fv+XF9fn5tu\n",
              "uqmWYwAA/VSfX0wLANAdoQIAFEuoAADFEioAQLGECgBQLKECABRLqAAAxRIqAECxhAoAUCyhAgAU\n",
              "S6gAAMUSKgBAsYQKAFAsoQIAFEuoAADFEioAQLGECgBQLKECABRLqAAAxRIqAECxhAoAUCyhAgAU\n",
              "S6gAAMUSKgBAsYQKAFAsoQIAFEuoAADFEioAQLGECgBQLKECABRLqAAAxRIqAECxhAoAUCyhAgAU\n",
              "S6gAAMUSKgBAsYQKAFAsoQIAFEuoAADFEioAQLGECgBQLKECABRLqAAAxRIqAECxhAoAUCyhAgAU\n",
              "S6gAAMUSKgBAsYQKAFAsoQIAFEuoAADFEioAQLGECgBQLKECABRLqAAAxRIqAECxhAoAUCyhAgAU\n",
              "S6gAAMUSKgBAsYQKAFAsoQIAFKumobJ169bMnDkzTU1NmTZtWjZt2nTAdRs3bswZZ5yRCRMmZMKE\n",
              "CVmzZk0txwIA+olBtTz5okWLsnDhwsybNy+rVq3KvHnzsn79+i5rfv7zn+eCCy7IbbfdllNPPTWd\n",
              "nZ352c9+VsuxAIB+ombvqOzatSsbNmzI3LlzkyRz5sxJW1tbtm3b1mXdl770pcyYMSOnnnpqkqSu\n",
              "ri7Dhg3r9rx79uxJe3t7l0dnZ2ettgEA9KGahUpbW1tGjBiRQYNeedOmUqmkoaEhra2tXdY99dRT\n",
              "qa+vzzve8Y5Mnjw5f/Znf5bnnnuu2/MuWbIkQ4YM6fJYt25drbYBAPShHofKvffe26sDdHR05Bvf\n",
              "+Eaam5vz2GOP5bjjjsull17a7frFixdn9+7dXR7Tp0/v1ZkAgDL0OFQ+/elPZ/z48bn++uvT3t7e\n",
              "7bpRo0Zl586d6ejoSJJUq9W0tramoaGhy7qGhoaceeaZOe6441KpVDJ37tw8/PDD3Z63vr4+gwcP\n",
              "7vKoq6vr6TYAgH6gx6Hyne98J1/+8pfz5JNPpqmpKR/84Afz1FNP7bdu+PDhmTJlSlauXJkkWb16\n",
              "dUaOHJnGxsYu6/7kT/4k69ev3xc9d999dyZNmnQwewEABpiDukbl5JNPzk033ZR77rknd955Z046\n",
              "6aScc8452bhxY5d1zc3NaW5uTlNTU5YuXZoVK1YkSebPn5+1a9cmeeUdlU984hOZOXNmTjrppNx3\n",
              "33258cYbf8dtAQADwUH9evI3vvGN3HDDDdm4cWMuu+yy/OVf/mW+9a1v5Y//+I+7/FbP+PHj89BD\n",
              "D+33zy9fvrzLzx/4wAfygQ984GBGAQAGsB6HyoQJE3LMMcfk8ssvz0UXXbTv+pB3vetdufnmm3t9\n",
              "QADgtavHobJy5cpMnTr1gH/39a9//XceCADgl3p8jcojjzzS5Ztjf/rTn+amm27q1aEAAJKDCJUv\n",
              "fvGLOeqoo/b9fPTRR+eLX/xirw4FAJAcRKhUq9X9jvkKewCgFnocKiNGjMi//uu/7vv5K1/5SkaM\n",
              "GNGrQwEAJAdxMe0XvvCFXHDBBbnyyiuTJG9605vyta99rdcHAwDocaiccMIJeeqpp7J58+Ykr3xX\n",
              "iq+wBwBq4aC+8K1SqWTo0KHp6OjIj3/84yTZ7x4+AAC/qx6Hyi233JLLL788r3vd63LYYa9c4lKp\n",
              "VLJr165eHw4AeG3rcaj89V//ddavX5/x48fXYh4AgH16/Fs/xxxzjEgBAA6JHofKhRdemC984QvZ\n",
              "tWtX2tvb9z0AAHpbjz/6ufrqq5MkV1xxRSqVSqrVaiqVii99AwB6XY9DZe/evbWYAwBgPz3+6Cd5\n",
              "5caE//zP/5wkef7557Nz585eHQoAIDnImxL+xV/8Ra655pokr9w9+X3ve19vzwUA0PNQWbZsWR5+\n",
              "+OEMHjw4STJ27Ng899xzvT4YAECPQ6W+vj5vfOMbuxwbNOigvuAWAOA36nGoDBs2LFu2bEmlUkny\n",
              "yjfV+vp8AKAWDuruye9973vzwx/+MKNGjcrgwYNz55131mI2AOA1rseh0tjYmO9973vZvHlzqtWq\n",
              "uycDADXT41BpbW1Nkvze7/1ekrh7MgBQMz0OlalTp+77RtqXXnopP//5z3P00Ue7ezIA0Ot6HCq/\n",
              "/qvIa9asyRNPPNFrAwEA/NJBfTPtr7roooty11139cYsAABd9PgdlV+9U3JnZ2e+973vuXsyAFAT\n",
              "PQ6VoUOH7rtGpa6uLuPGjcvf//3f12I2AOA1zt2TAYBi/c7XqAAA1EqP31E57LDD9n19/q+qVqup\n",
              "VCrp7OzslcEAAHocKp/+9Kfz4osv5tJLL02S3HjjjXnjG9+Yj370o709GwDwGtfjULnjjjvyyCOP\n",
              "7Pv5M5/5TKZOnZqrr766VwcDAOjxNSovvPBCl2+h3bVrV1544YVeHQoAIDmId1Q+9rGPZdKkSTn/\n",
              "/POTJPfcc0+uueaa3p4LAKDnobJo0aLMmjUr999/f5LkiiuuyFve8pZeHwwAoMehkiRHH3103vrW\n",
              "t+aMM85IR0dHfvGLX+T1r399b88GALzG9fgalVWrVmXGjBn58z//8yTJpk2bcuGFF/b2XAAAPQ+V\n",
              "JUuW5NFHH83QoUOTJJMmTcrTTz/d23MBAPQ8VOrq6nL00Ud3OeZjHwCgFnocKkcccUSeffbZfd9O\n",
              "+81vfjNHHXVUrw8GANDji2n/5m/+Juedd15+9KMf5dRTT82OHTty11131WI2AOA1rkehsnfv3nR2\n",
              "dub+++/Pd7/73VSr1cycOXPf9SoAAL2pR6Fy2GGHZeHChXniiSdy3nnn1WomAIAkB3GNyrhx47Jt\n",
              "27ZazAIA0EWPr1H52c9+lsmTJ2fmzJk5/PDD9x1fs2ZNrw4GAPCqQ2XhwoVZtmxZLr744syePTtH\n",
              "HnlkLecCAHj1obJhw4YkycUXX5wpU6bk0UcfrdlQAADJQVyjkiTVarW35wAA2M+rfkflxRdfzMaN\n",
              "G1OtVvPSSy/t+/MvnXTSSTUZEAB47epRqMyePXvfz7/650qlkh/96Ee9OxkA8Jr3qkOlpaWlhmMA\n",
              "AOzvoK5RAQA4FIQKAFAsoQIAFEuoAADFEioAQLGECgBQLKECABRLqAAAxRIqAECxahoqW7duzcyZ\n",
              "M9PU1JRp06Zl06ZN3a6tVqs566yzMnTo0FqOBAD0IzUNlUWLFmXhwoXZsmVLrrrqqsybN6/btZ//\n",
              "/OczduzYWo4DAPQzNQuVXbt2ZcOGDZk7d26SZM6cOWlra8u2bdv2W7tp06Z89atfzcc//vHfet49\n",
              "e/akvb29y6Ozs7PX5wcA+l7NQqWtrS0jRozIoEGv3PewUqmkoaEhra2tXda9/PLLWbBgQZqbm1NX\n",
              "V/dbz7tkyZIMGTKky2PdunU12QMA0Lf6/GLaa6+9NhdddFEmTJjwqtYvXrw4u3fv7vKYPn16jacE\n",
              "APrCoFqdeNSoUdm5c2c6OjoyaNCgVKvVtLa2pqGhocu6Bx54IK2trfmHf/iHdHR0pL29PaNHj876\n",
              "9eszbNiw/c5bX1+f+vr6LsdezTsxAED/U7N3VIYPH54pU6Zk5cqVSZLVq1dn5MiRaWxs7LLuwQcf\n",
              "zNNPP52WlpZ8+9vfzuDBg9PS0nLASAEAXltq+tFPc3Nzmpub09TUlKVLl2bFihVJkvnz52ft2rW1\n",
              "/FcDAANAzT76SZLx48fnoYce2u/48uXLD7h+9OjRef7552s5EgDQj/T5xbQAAN0RKgBAsYQKAFAs\n",
              "oQIAFEuoAADFEioAQLGECgBQLKECABRLqAAAxRIqAECxhAoAUCyhAgAUS6gAAMUSKgBAsYQKAFAs\n",
              "oQIAFEuoAADFEioAQLGECgBQLKECABRLqAAAxRIqAECxhAoAUCyhAgAUS6gAAMUSKgBAsYQKAFAs\n",
              "oQIAFEuoAADFEioAQLGECgBQLKECABRLqAAAxRIqAECxhAoAUCyhAgAUS6gAAMUSKgBAsYQKAFAs\n",
              "oQIAFEuoAADFEioAQLGECgBQLKECABRLqAAAxRIqAECxhAoAUCyhAgAUS6gAAMUSKgBAsYQKAFAs\n",
              "oQIAFEuoAADFEioAQLGECgBQLKECABRLqAAAxRIqAECxhAoAUCyhAgAUS6gAAMUSKgBAsWoaKlu3\n",
              "bs3MmTPT1NSUadOmZdOmTfutue+++zJ9+vSceOKJectb3pIrr7wye/fureVYAEA/UdNQWbRoURYu\n",
              "XJgtW7bkqquuyrx58/Zbc+SRR+bLX/5ynnrqqTzyyCP57ne/m9tuu62WYwEA/UTNQmXXrl3ZsGFD\n",
              "5s6dmySZM2dO2trasm3bti7rTj755IwZMyZJ8oY3vCGTJ09OS0tLt+fds2dP2tvbuzw6OztrtQ0A\n",
              "oA/VLFTa2toyYsSIDBo0KElSqVTS0NCQ1tbWbv+ZZ555JqtWrco73vGObtcsWbIkQ4YM6fJYt25d\n",
              "r88PAPS9Yi6mbW9vzzvf+c5ceeWVOeWUU7pdt3jx4uzevbvLY/r06YdwUgDgUBlUqxOPGjUqO3fu\n",
              "TEdHRwYNGpRqtZrW1tY0NDTst/aFF17IueeemwsuuCBXXHHFbzxvfX196uvruxyrq6vr1dkBgDLU\n",
              "7B2V4cOHZ8qUKVm5cmWSZPXq1Rk5cmQaGxu7rPvf//3fnHvuuTn33HPzyU9+slbjAAD9UE0/+mlu\n",
              "bk5zc3OampqydOnSrFixIkkyf/78rF27Nkly/fXXZ926dVmzZk0mT56cyZMn57Of/WwtxwIA+oma\n",
              "ffSTJOPHj89DDz203/Hly5fv+/PVV1+dq6++upZjAAD9VDEX0wIA/DqhAgAUS6gAAMUSKgBAsYQK\n",
              "AFAsoQIAFEuoAADFEioAQLGECgBQLKECABRLqAAAxRIqAECxhAoAUCyhAgAUS6gAAMUSKgBAsYQK\n",
              "AFAsoQIAFEuoAADFEioAQLGECgBQLKECABRLqAAAxRIqAECxhAoAUCyhAgAUS6gAAMUSKgBAsYQK\n",
              "AFAsoQIAFEuoAADFEioAQLGECgBQLKECABRLqAAAxRIqAECxhAoAUCyhAgAUS6gAAMUSKgBAsYQK\n",
              "AFAsoQIAFEuoAADFEioAQLGECgBQLKECABRLqAAAxRIqAECxhAoAUCyhAgAUS6gAAMUSKgBAsYQK\n",
              "AFAsoQIAFEuoAADFEioAQLGECgBQLKECABRLqAAAxRIqAECxhAoAUKyahsrWrVszc+bMNDU1Zdq0\n",
              "adm0adMB1918880ZN25cxo4dmwULFuTll1+u5VgAQD9R01BZtGhRFi5cmC1btuSqq67KvHnz9luz\n",
              "Y8eOfOpTn8qDDz6Ybdu25dlnn82yZctqORYA0E/ULFR27dqVDRs2ZO7cuUmSOXPmpK2tLdu2beuy\n",
              "btWqVZk9e3aOPfbYVCqVXHLJJbn99tu7Pe+ePXvS3t7e5dHZ2VmrbQAAfahSrVartTjxI488kve9\n",
              "733ZvHnzvmPTp0/P0qVLc9ZZZ+079uEPfzh/8Ad/kMWLFydJnnrqqZx77rlpbW094HmvueaaXHvt\n",
              "tV2OnXDCCTnvvPNqsItDq7OzM+vWrcv06dNTV1fX1+P0Ovvr/wb6Hu2v/xvoexxo+zv++OPzkY98\n",
              "5DeuGXSIZuk1ixcvzhVXXNHlWH19ferr6/toot7T3t6eIUOG5N57783gwYP7epxeZ3/930Dfo/31\n",
              "fwN9jwN9fwdSs1AZNWpUdu7cmY6OjgwaNCjVajWtra1paGjosq6hoSHbt2/f93NLS8t+a37VQIkS\n",
              "AOC3q9k1KsOHD8+UKVOycuXKJMnq1aszcuTINDY2dlk3Z86crF27Ns8880yq1WpuvPHGvOc976nV\n",
              "WABAP1LT3/ppbm5Oc3NzmpqasnTp0qxYsSJJMn/+/KxduzZJMmbMmFx77bWZNWtWGhsbM2zYsCxa\n",
              "tKiWYwEA/URNr1EZP358Hnroof2OL1++vMvPCxYsyIIFC2o5Sr9QX1+fv/qrvxqwH23ZX/830Pdo\n",
              "f/3fQN/jQN/fgdTst34AAH5XvkIfACiWUAEAiiVUAIBiCRUAoFhCpQAvvfRSLrzwwjQ1NWXSpEk5\n",
              "55xz9rsn0kCxYsWKVCqVfPWrX+3rUXrdnj178qEPfSjjxo3LW9/61n33uRoo7r777kyZMiWTJ0/O\n",
              "xIkTc+utt/b1SL+Tyy+/PKNHj06lUsnjjz++7/irvet7f3CgPQ6k15vunsNf6u+vN93tb6C/1uyn\n",
              "Sp978cUXq3fddVd179691Wq1Wr3hhhuqp59+et8OVQM7duyo/uEf/mF1xowZ1TvuuKOvx+l1H/3o\n",
              "R6sf+tCH9j2PO3fu7OOJes/evXurRx55ZPWJJ56oVquvPJf19fXV9vb2Pp7s4D3wwAPVtra26vHH\n",
              "H1997LHH9h0/88wzqytWrKhWq9Xqv/3bv1VPOeWUvhmwFxxojwPp9aa757BaHRivN93tbyC/1hyI\n",
              "d1QK8IY3vCHnn39+KpVKkmTGjBlpaWnp26F62d69ezN//vzccMMNA/L3///v//4vN998cz772c/u\n",
              "ex6PPfbYPp6qd1UqlTz//PNJXrnfyNFHH92vn8vTTjstI0eO7HLs1d71vb840B4H0uvNgfaXDJzX\n",
              "mwPt77XwWvPrhEqBrr/++lxwwQV9PUav+tznPpdZs2Zl6tSpfT1KTWzfvj1HHXVUrrvuupxyyil5\n",
              "29velm9+85t9PVavqVQq+cpXvpKLLrooxx9/fE499dTceuutef3rX9/Xo/Wqtra2jBgxIoMGvfJd\n",
              "mJVKJQ0NDd3ezX0g8HrTvwz015oD6Xd3Tx7orrvuumzbtm1A/RfvySefzOrVq/Of//mffT1KzXR0\n",
              "dOTpp5/OiSeemKVLl+axxx7LOeeck02bNuX3f//3+3q831lHR0c+85nPZM2aNTnttNOyfv36zJ49\n",
              "Oxs3bswxxxzT1+NxkLze9D8D/bXmQLyjUpC//du/zZo1a/L1r389b3rTm/p6nF7z4IMPpqWlJePG\n",
              "jcvo0aPz8MMPZ+HChfnHf/zHvh6t1zQ0NOSwww7L+9///iTJySefnDe/+c3ZuHFjH0/WOx5//PH8\n",
              "5Cc/yWmnnZYkmTZtWkaOHJnHHnusjyfrXb961/ck3d71fSDwetM/DfTXmgMRKoX43Oc+l9tvvz3/\n",
              "8R//kaFDh/b1OL3q0ksvzc6dO9PS0pKWlpbMmDEjy5Yty6WXXtrXo/WaY445JmeffXbuvffeJMmO\n",
              "HTuyY8eOTJgwoY8n6x2//D/wH/zgB0mSbdu2Zfv27Rk/fnwfT9a7Xu1d3/s7rzf910B/rTmgvr6a\n",
              "l2q1ra2tmqQ6ZsyY6qRJk6qTJk2qTp8+va/HqpnTTz+9316F/5ts3769esYZZ1QnTpxYPemkk6qr\n",
              "Vq3q65F61Ze+9KV9e5s4cWL1X/7lX/p6pN/JwoULq8cdd1y1rq6uOnz48OrYsWOr1Wq1+sMf/rA6\n",
              "Y8aM6rhx46pTp06tfv/73+/jSQ/egfY4kF5vunsOf1V/fr3pbn8D/bXm17kpIQBQLB/9AADFEioA\n",
              "QLGECgBQLKECABRLqAAAxRIqAECxhAoAUCyhAgAUS6gAAMUSKgBAsf4/x7RZei+2BKkAAAAASUVO\n",
              "RK5CYII=\n",
              "\">\n",
              "      </div>\n",
              "      <script type=\"text/javascript\">\n",
              "        (() => {\n",
              "          const chartElement = document.getElementById(\"chart-d6134a3d-fd2c-45aa-817c-c653c6fb336e\");\n",
              "          async function getCodeForChartHandler(event) {\n",
              "            const chartCodeResponse =  await google.colab.kernel.invokeFunction(\n",
              "                'getCodeForChart', [\"chart-d6134a3d-fd2c-45aa-817c-c653c6fb336e\"], {});\n",
              "            const responseJson = chartCodeResponse.data['application/json'];\n",
              "            await google.colab.notebook.addCell(responseJson.code, 'code');\n",
              "          }\n",
              "          chartElement.onclick = getCodeForChartHandler;\n",
              "        })();\n",
              "      </script>\n",
              "      <style>\n",
              "        .colab-quickchart-chart-with-code  {\n",
              "            display: block;\n",
              "            float: left;\n",
              "            border: 1px solid transparent;\n",
              "        }\n",
              "\n",
              "        .colab-quickchart-chart-with-code:hover {\n",
              "            cursor: pointer;\n",
              "            border: 1px solid #aaa;\n",
              "        }\n",
              "      </style>"
            ]
          },
          "metadata": {}
        },
        {
          "output_type": "display_data",
          "data": {
            "text/plain": [
              "from matplotlib import pyplot as plt\n",
              "_df_2['col3'].plot(kind='hist', bins=20, title='col3')\n",
              "plt.gca().spines[['top', 'right',]].set_visible(False)"
            ],
            "text/html": [
              "      <div class=\"colab-quickchart-chart-with-code\" id=\"chart-6e8cb2e8-6412-449b-b079-808437884e13\">\n",
              "        <img style=\"width: 180px;\" src=\"data:image/png;base64,iVBORw0KGgoAAAANSUhEUgAAAioAAAGrCAYAAADuNLxTAAAAOXRFWHRTb2Z0d2FyZQBNYXRwbG90\n",
              "bGliIHZlcnNpb24zLjcuMSwgaHR0cHM6Ly9tYXRwbG90bGliLm9yZy/bCgiHAAAACXBIWXMAAA9h\n",
              "AAAPYQGoP6dpAAAeV0lEQVR4nO3df5BV9X3/8dcF4ia2Av6AyggLwrIoIYIoDEFrNNaJ+jVoJdNJ\n",
              "Wqy05Yc/MiZDZzTEOA02ETrTJrF2ElexREtj0gAmjCY6TTTWJBrAn4hRWMK6W4OSNCNrG0V3ud8/\n",
              "nPDNfmFTF/eyn10fj5k7wz0czr4/uZnjc+49e0+lWq1WAwBQoEF9PQAAQHeECgBQLKECABRLqAAA\n",
              "xRIqAECxhAoAUCyhAgAUS6gAAMUSKgBAsYQK0C+0tLSkUqmkubm5r0cBDiGhAvRLjzzySE499dQc\n",
              "ddRRGTp0aCZPnpyvfOUrfT0W0MuG9PUAAAdjwoQJ+eY3v5mxY8dm0KBBeeqpp/JHf/RHGTNmTC64\n",
              "4IK+Hg/oJd5RAQ6pV199NZ/5zGfS2NiYI444IuPHj8/tt9+eJPnqV7+aKVOmZOjQoZkyZcq+7Qcy\n",
              "YsSIHH/88Rk0aFCq1WoqlUoqlUqeffbZQ7UU4BDwjgpwSC1cuDBbt27Nt7/97ZxwwgnZuXNnXnzx\n",
              "xaxduzZXXXVV7rrrrpx55pl54IEHctFFF2XYsGG56KKLuj3e2LFj8+KLL+b111/P5MmTc8kllxy6\n",
              "xQA1V6lWq9W+HgJ4Z/jlL3+ZESNGZOPGjTn11FO7/N2HPvShTJ48OV/84hf3bfvEJz6R5557Lvfe\n",
              "e29aWlpy/PHHZ9u2bWloaOjyb19//fU8+OCDeeihh/KpT30qhx9++CFZD1B7PvoBDpkdO3YkSSZN\n",
              "mrTf37W1tWXChAldtjU0NKS1tfV/Pe5hhx2Wc845J7/85S9z3XXX9c6wQBGECnDIjBs3LkmydevW\n",
              "/f5uzJgx2b59e5dt27dvT319/Vs+/htvvJHnnnvubc0IlEWoAIfMiBEj8rGPfSxXXnnlvqDYuXNn\n",
              "HnvssSxYsCD//M//nB/84Afp7OzM/fffn9tuuy2LFi064LHWrVuXJ598Mm+88UZef/31rFu3LqtX\n",
              "r875559/KJcE1JiLaYFD6tZbb83111+f8847L7t27crIkSOzbNmyXHLJJdm9e3euuOKKtLW1pb6+\n",
              "PjfeeGMuvvjiAx7npZdeytKlS/PCCy9kyJAhOf744/MP//APueKKKw7xioBacjEtAFAsH/0AAMUS\n",
              "KgBAsYQKAFAsoQIAFEuoAADFEioAQLGECgBQrAERKjfeeGNfjwAA1MCACJXnn3++r0cAAGpgQIQK\n",
              "ADAwCRUAoFhCBQAollABAIolVACAYgkVAKBYQgUAKJZQAQCKJVQAgGIJFQCgWEIFACiWUAEAilXT\n",
              "ULnqqqsybty4VCqVPPHEE93ud9ttt2XixImZMGFCFi5cmDfeeKOWYwEA/URNQ+UjH/lIfvjDH2bs\n",
              "2LHd7rNjx45cd911eeihh9Lc3JyXXnopt9xySy3HAgD6iZqGyhlnnJHRo0f/zn3WrFmTOXPm5Nhj\n",
              "j02lUslll12WO++8s9v99+zZk/b29i6Pzs7O3h4dACjAkL4eoLW1tcs7LuPGjUtra2u3+y9fvjzL\n",
              "li3rsm3WrFk1mW3cp+6pyXGTpGXF/6nZsfl/vIb9X61eQ6/foeM1PDQG6v/O/e5i2qVLl2b37t1d\n",
              "HjNnzuzrsQCAGujzd1Tq6+uzffv2fc9bWlpSX1/f7f51dXWpq6vrsm3w4ME1mw8A6Dt9/o7K3Llz\n",
              "s379+rz44oupVqu5+eab89GPfrSvxwIAClDTUFm8eHFGjx6d//zP/8yHPvShNDQ0JEkWLFiQ9evX\n",
              "J0nGjx+fZcuW5bTTTktDQ0NGjBiRxYsX13IsAKCfqOlHP01NTQfcvnLlyi7PFy5cmIULF9ZyFACg\n",
              "H+rzj34AALojVACAYgkVAKBYQgUAKJZQAQCKJVQAgGIJFQCgWEIFACiWUAEAiiVUAIBiCRUAoFhC\n",
              "BQAollABAIolVACAYgkVAKBYQgUAKJZQAQCKJVQAgGIJFQCgWEIFACiWUAEAiiVUAIBiCRUAoFhC\n",
              "BQAollABAIolVACAYgkVAKBYQgUAKJZQAQCKJVQAgGIJFQCgWEIFACiWUAEAiiVUAIBiCRUAoFhC\n",
              "BQAollABAIolVACAYgkVAKBYQgUAKJZQAQCKJVQAgGIJFQCgWEIFACiWUAEAiiVUAIBiCRUAoFhC\n",
              "BQAollABAIolVACAYgkVAKBYQgUAKJZQAQCKJVQAgGIJFQCgWEIFACiWUAEAiiVUAIBiCRUAoFhC\n",
              "BQAollABAIpV01DZtm1bZs+encbGxsyYMSNbtmzZb5+9e/dmyZIlmTx5ck466aScddZZaW5uruVY\n",
              "AEA/UdNQWbx4cRYtWpStW7fmmmuuyfz58/fbZ/369fnRj36UJ598Mk899VTOPvvsfPrTn67lWABA\n",
              "P1GzUNm1a1c2bdqUefPmJUnmzp2btra2/d4tqVQq2bNnT1577bVUq9W0t7dn9OjRtRoLAOhHhtTq\n",
              "wG1tbRk1alSGDHnzR1QqldTX16e1tTUNDQ379vvwhz+cBx54IMcee2yOOOKIHHfccXnwwQe7Pe6e\n",
              "PXuyZ8+eLts6OztrswgAoE/1+cW0mzZtytNPP50XXnghP//5z3P22Wfnsssu63b/5cuXZ9iwYV0e\n",
              "GzZsOIQTAwCHSs1CZcyYMdm5c2c6OjqSJNVqNa2tramvr++y3x133JEPfvCDGT58eAYNGpRLL700\n",
              "DzzwQLfHXbp0aXbv3t3lMXPmzFotAwDoQzULlZEjR2b69OlZvXp1kmTt2rUZPXp0l499kmT8+PG5\n",
              "//778/rrrydJ7r777kyZMqXb49bV1WXo0KFdHoMHD67VMgCAPlSza1SSpKmpKfPnz88NN9yQoUOH\n",
              "ZtWqVUmSBQsWZM6cOZkzZ06uvPLK/PSnP83UqVPzrne9K8cee2xuvvnmWo4FAPQTNQ2VSZMm5eGH\n",
              "H95v+8qVK/f9ua6uLrfeemstxwAA+qk+v5gWAKA7QgUAKJZQAQCKJVQAgGIJFQCgWEIFACiWUAEA\n",
              "iiVUAIBiCRUAoFhCBQAollABAIolVACAYgkVAKBYQgUAKJZQAQCKJVQAgGIJFQCgWEIFACiWUAEA\n",
              "iiVUAIBiCRUAoFhCBQAollABAIolVACAYgkVAKBYQgUAKJZQAQCKJVQAgGIJFQCgWEIFACiWUAEA\n",
              "iiVUAIBiCRUAoFhCBQAollABAIolVACAYgkVAKBYQgUAKJZQAQCKJVQAgGIJFQCgWEIFACiWUAEA\n",
              "iiVUAIBiCRUAoFhCBQAollABAIolVACAYgkVAKBYQgUAKJZQAQCKJVQAgGIJFQCgWEIFACiWUAEA\n",
              "iiVUAIBiCRUAoFhCBQAollABAIolVACAYgkVAKBYQgUAKFZNQ2Xbtm2ZPXt2GhsbM2PGjGzZsuWA\n",
              "+23evDlnnnlmTjzxxJx44olZt25dLccCAPqJIbU8+OLFi7No0aLMnz8/a9asyfz587Nx48Yu+/z6\n",
              "17/OhRdemDvuuCOnn356Ojs786tf/aqWYwEA/UTN3lHZtWtXNm3alHnz5iVJ5s6dm7a2tjQ3N3fZ\n",
              "72tf+1pmzZqV008/PUkyePDgjBgxotvj7tmzJ+3t7V0enZ2dtVoGANCHahYqbW1tGTVqVIYMefNN\n",
              "m0qlkvr6+rS2tnbZ75lnnkldXV0uuOCCTJs2LX/+53+eX/ziF90ed/ny5Rk2bFiXx4YNG2q1DACg\n",
              "D/U4VO67775eHaCjoyPf+9730tTUlMcffzzHHXdcLr/88m73X7p0aXbv3t3lMXPmzF6dCQAoQ49D\n",
              "5frrr8+kSZNy4403pr29vdv9xowZk507d6ajoyNJUq1W09ramvr6+i771dfX56yzzspxxx2XSqWS\n",
              "efPm5ZFHHun2uHV1dRk6dGiXx+DBg3u6DACgH+hxqPzoRz/K17/+9Tz99NNpbGzMFVdckWeeeWa/\n",
              "/UaOHJnp06dn9erVSZK1a9dm9OjRaWho6LLfn/zJn2Tjxo37ouc73/lOpk6dejBrAQAGmIO6RuXk\n",
              "k0/OrbfemnvvvTd33313TjrppJxzzjnZvHlzl/2amprS1NSUxsbGrFixIqtWrUqSLFiwIOvXr0/y\n",
              "5jsqn/70pzN79uycdNJJuf/++3PzzTe/zWUBAAPBQf168ve+973cdNNN2bx5c6688sr81V/9VX7w\n",
              "gx/kj//4j7v8Vs+kSZPy8MMP7/fvV65c2eX5JZdckksuueRgRgEABrAeh8qJJ56YY445JldddVUu\n",
              "vvjifdeHfOQjH8ltt93W6wMCAO9cPQ6V1atX55RTTjng3333u9992wMBAPxGj69RefTRR7t8c+x/\n",
              "/dd/5dZbb+3VoQAAkoMIlS9/+cs56qij9j0/+uij8+Uvf7lXhwIASA4iVKrV6n7bfIU9AFALPQ6V\n",
              "UaNG5d/+7d/2Pf/GN76RUaNG9epQAADJQVxM+6UvfSkXXnhhrr766iTJ4Ycfnm9/+9u9PhgAQI9D\n",
              "5YQTTsgzzzyT5557Lsmb35XiK+wBgFo4qC98q1QqGT58eDo6OvLCCy8kyX738AEAeLt6HCpf/epX\n",
              "c9VVV+Vd73pXBg168xKXSqWSXbt29fpwAMA7W49D5W//9m+zcePGTJo0qRbzAADs0+Pf+jnmmGNE\n",
              "CgBwSPQ4VC666KJ86Utfyq5du9Le3r7vAQDQ23r80c+1116bJFmyZEkqlUqq1WoqlYovfQMAel2P\n",
              "Q2Xv3r21mAMAYD89/ugnefPGhP/yL/+SJHn55Zezc+fOXh0KACA5yJsS/uVf/mU++9nPJnnz7sl/\n",
              "+qd/2ttzAQD0PFRuueWWPPLIIxk6dGiSZMKECfnFL37R64MBAPQ4VOrq6vKe97yny7YhQw7qC24B\n",
              "AH6nHofKiBEjsnXr1lQqlSRvflOtr88HAGrhoO6e/LGPfSzPPvtsxowZk6FDh+buu++uxWwAwDtc\n",
              "j0OloaEhP/nJT/Lcc8+lWq26ezIAUDM9DpXW1tYkye/93u8libsnAwA10+NQOeWUU/Z9I+1rr72W\n",
              "X//61zn66KPdPRkA6HU9DpX//1eR161blyeffLLXBgIA+I2D+mba33bxxRfnnnvu6Y1ZAAC66PE7\n",
              "Kr99p+TOzs785Cc/cfdkAKAmehwqw4cP33eNyuDBgzNx4sT84z/+Yy1mAwDe4dw9GQAo1tu+RgUA\n",
              "oFZ6/I7KoEGD9n19/m+rVqupVCrp7OzslcEAAHocKtdff31effXVXH755UmSm2++Oe95z3vyyU9+\n",
              "srdnAwDe4XocKnfddVceffTRfc8/97nP5ZRTTsm1117bq4MBAPT4GpVXXnmly7fQ7tq1K6+88kqv\n",
              "DgUAkBzEOyp//dd/nalTp+b8889Pktx777357Gc/29tzAQD0PFQWL16c0047LQ888ECSZMmSJXnv\n",
              "e9/b64MBAPQ4VJLk6KOPzvve976ceeaZ6ejoyOuvv57DDjust2cDAN7henyNypo1azJr1qz8xV/8\n",
              "RZJky5Ytueiii3p7LgCAnofK8uXL89hjj2X48OFJkqlTp+b555/v7bkAAHoeKoMHD87RRx/dZZuP\n",
              "fQCAWuhxqBxxxBF56aWX9n077fe///0cddRRvT4YAECPL6b9u7/7u5x33nn52c9+ltNPPz07duzI\n",
              "PffcU4vZAIB3uB6Fyt69e9PZ2ZkHHnggP/7xj1OtVjN79ux916sAAPSmHoXKoEGDsmjRojz55JM5\n",
              "77zzajUTAECSg7hGZeLEiWlubq7FLAAAXfT4GpVf/epXmTZtWmbPnp3f//3f37d93bp1vToYAMBb\n",
              "DpVFixbllltuyaWXXpo5c+bkyCOPrOVcAABvPVQ2bdqUJLn00kszffr0PPbYYzUbCgAgOYhrVJKk\n",
              "Wq329hwAAPt5y++ovPrqq9m8eXOq1Wpee+21fX/+jZNOOqkmAwIA71w9CpU5c+bse/7bf65UKvnZ\n",
              "z37Wu5MBAO94bzlUWlpaajgGAMD+DuoaFQCAQ0GoAADFEioAQLGECgBQLKECABRLqAAAxRIqAECx\n",
              "hAoAUCyhAgAUq6ahsm3btsyePTuNjY2ZMWNGtmzZ0u2+1Wo1H/zgBzN8+PBajgQA9CM1DZXFixdn\n",
              "0aJF2bp1a6655prMnz+/232/+MUvZsKECbUcBwDoZ2oWKrt27cqmTZsyb968JMncuXPT1taW5ubm\n",
              "/fbdsmVLvvWtb+VTn/rU/3rcPXv2pL29vcujs7Oz1+cHAPpezUKlra0to0aNypAhb973sFKppL6+\n",
              "Pq2trV32e+ONN7Jw4cI0NTVl8ODB/+txly9fnmHDhnV5bNiwoSZrAAD6Vp9fTLts2bJcfPHFOfHE\n",
              "E9/S/kuXLs3u3bu7PGbOnFnjKQGAvjCkVgceM2ZMdu7cmY6OjgwZMiTVajWtra2pr6/vst+DDz6Y\n",
              "1tbW/NM//VM6OjrS3t6ecePGZePGjRkxYsR+x62rq0tdXV2XbW/lnRgAoP+p2TsqI0eOzPTp07N6\n",
              "9eokydq1azN69Og0NDR02e+hhx7K888/n5aWlvzwhz/M0KFD09LScsBIAQDeWWr60U9TU1OamprS\n",
              "2NiYFStWZNWqVUmSBQsWZP369bX80QDAAFCzj36SZNKkSXn44Yf3275y5coD7j9u3Li8/PLLtRwJ\n",
              "AOhH+vxiWgCA7ggVAKBYQgUAKJZQAQCKJVQAgGIJFQCgWEIFACiWUAEAiiVUAIBiCRUAoFhCBQAo\n",
              "llABAIolVACAYgkVAKBYQgUAKJZQAQCKJVQAgGIJFQCgWEIFACiWUAEAiiVUAIBiCRUAoFhCBQAo\n",
              "llABAIolVACAYgkVAKBYQgUAKJZQAQCKJVQAgGIJFQCgWEIFACiWUAEAiiVUAIBiCRUAoFhCBQAo\n",
              "llABAIolVACAYgkVAKBYQgUAKJZQAQCKJVQAgGIJFQCgWEIFACiWUAEAiiVUAIBiCRUAoFhCBQAo\n",
              "llABAIolVACAYgkVAKBYQgUAKJZQAQCKJVQAgGIJFQCgWEIFACiWUAEAiiVUAIBiCRUAoFhCBQAo\n",
              "llABAIolVACAYgkVAKBYNQ2Vbdu2Zfbs2WlsbMyMGTOyZcuW/fa5//77M3PmzEyePDnvfe97c/XV\n",
              "V2fv3r21HAsA6CdqGiqLFy/OokWLsnXr1lxzzTWZP3/+fvsceeSR+frXv55nnnkmjz76aH784x/n\n",
              "jjvuqOVYAEA/UbNQ2bVrVzZt2pR58+YlSebOnZu2trY0Nzd32e/kk0/O+PHjkyTvfve7M23atLS0\n",
              "tHR73D179qS9vb3Lo7Ozs1bLAAD6UM1Cpa2tLaNGjcqQIUOSJJVKJfX19Wltbe3237z44otZs2ZN\n",
              "Lrjggm73Wb58eYYNG9blsWHDhl6fHwDoe8VcTNve3p4Pf/jDufrqq3Pqqad2u9/SpUuze/fuLo+Z\n",
              "M2cewkkBgENlSK0OPGbMmOzcuTMdHR0ZMmRIqtVqWltbU19fv9++r7zySs4999xceOGFWbJkye88\n",
              "bl1dXerq6rpsGzx4cK/ODgCUoWbvqIwcOTLTp0/P6tWrkyRr167N6NGj09DQ0GW///7v/865556b\n",
              "c889N5/5zGdqNQ4A0A/V9KOfpqamNDU1pbGxMStWrMiqVauSJAsWLMj69euTJDfeeGM2bNiQdevW\n",
              "Zdq0aZk2bVo+//nP13IsAKCfqNlHP0kyadKkPPzww/ttX7ly5b4/X3vttbn22mtrOQYA0E8VczEt\n",
              "AMD/T6gAAMUSKgBAsYQKAFAsoQIAFEuoAADFEioAQLGECgBQLKECABRLqAAAxRIqAECxhAoAUCyh\n",
              "AgAUS6gAAMUSKgBAsYQKAFAsoQIAFEuoAADFEioAQLGECgBQLKECABRLqAAAxRIqAECxhAoAUCyh\n",
              "AgAUS6gAAMUSKgBAsYQKAFAsoQIAFEuoAADFEioAQLGECgBQLKECABRLqAAAxRIqAECxhAoAUCyh\n",
              "AgAUS6gAAMUSKgBAsYQKAFAsoQIAFEuoAADFEioAQLGECgBQLKECABRLqAAAxRIqAECxhAoAUCyh\n",
              "AgAUS6gAAMUSKgBAsYQKAFAsoQIAFEuoAADFEioAQLGECgBQLKECABRLqAAAxRIqAECxhAoAUCyh\n",
              "AgAUq6ahsm3btsyePTuNjY2ZMWNGtmzZcsD9brvttkycODETJkzIwoUL88Ybb9RyLACgn6hpqCxe\n",
              "vDiLFi3K1q1bc80112T+/Pn77bNjx45cd911eeihh9Lc3JyXXnopt9xySy3HAgD6iZqFyq5du7Jp\n",
              "06bMmzcvSTJ37ty0tbWlubm5y35r1qzJnDlzcuyxx6ZSqeSyyy7LnXfe2e1x9+zZk/b29i6Pzs7O\n",
              "Wi0DAOhDQ2p14La2towaNSpDhrz5IyqVSurr69Pa2pqGhoZ9+7W2tmbs2LH7no8bNy6tra3dHnf5\n",
              "8uVZtmxZl20nnHBClixZ0qvzd3Z2ZtSGDZk5c2YGDx7cq8dOkiVLvt/rx+ypzs7ObKjhGvvaQH8N\n",
              "B/rrl9T2Nezr1y/xGr5dXsOuLq7BMTs7O/P+93+uZusbO3ZsPvGJT/zOfWoWKrWydOnS/aKkrq4u\n",
              "dXV1vfpz2tvbM2zYsNx3330ZOnRorx67FAN9jdbX/w30NQ709SUDf43WV3s1C5UxY8Zk586d6ejo\n",
              "yJAhQ1KtVtPa2pr6+vou+9XX12f79u37nre0tOy3z2+rRZQAAGWq2TUqI0eOzPTp07N69eokydq1\n",
              "azN69OguH/skb167sn79+rz44oupVqu5+eab89GPfrRWYwEA/UhNf+unqakpTU1NaWxszIoVK7Jq\n",
              "1aokyYIFC7J+/fokyfjx47Ns2bKcdtppaWhoyIgRI7J48eJajgUA9BM1vUZl0qRJefjhh/fbvnLl\n",
              "yi7PFy5cmIULF9ZylB6rq6vL3/zN3wzoj5kG+hqtr/8b6Gsc6OtLBv4ara/2KtVqtdpnPx0A4Hfw\n",
              "FfoAQLGECgBQLKECABRLqAAAxRIqB/Daa6/loosuSmNjY6ZOnZpzzjlnv3sUDRSrVq1KpVLJt771\n",
              "rb4epVft2bMnH//4xzNx4sS8733v23fPqYHkO9/5TqZPn55p06ZlypQpuf322/t6pLflqquuyrhx\n",
              "41KpVPLEE0/s2/5W78JeugOtb6Cda7p7DX+jv59vulvfQDnfdLe+Pj/XVNnPq6++Wr3nnnuqe/fu\n",
              "rVar1epNN91U/cAHPtC3Q9XAjh07qu9///urs2bNqt511119PU6v+uQnP1n9+Mc/vu813LlzZx9P\n",
              "1Lv27t1bPfLII6tPPvlktVp987Wsq6urtre39/FkB+/BBx+strW1VceOHVt9/PHH920/66yzqqtW\n",
              "rapWq9XqN7/5zeqpp57aNwO+TQda30A713T3GlarA+N80936Bsr55kDrK+Fc4x2VA3j3u9+d888/\n",
              "P5VKJUkya9astLS09O1QvWzv3r1ZsGBBbrrppgH3+///8z//k9tuuy2f//zn972Gxx57bB9P1fsq\n",
              "lUpefvnlJG/ej+Poo4/u16/lGWeckdGjR3fZ9lbvwt4fHGh9A+1cc6A1JgPnfHOg9Q2k8013r19f\n",
              "n2uEyltw44035sILL+zrMXrVF77whZx22mk55ZRT+nqUXrd9+/YcddRRueGGG3LqqafmD//wD/P9\n",
              "7/f9XVZ7U6VSyTe+8Y1cfPHFGTt2bE4//fTcfvvtOeyww/p6tF71u+7CPhANxHNN4nzTn5Vwrul3\n",
              "d08+1G644YY0NzcPqP/jPf3001m7dm3+4z/+o69HqYmOjo48//zzmTx5clasWJHHH38855xzTrZs\n",
              "2ZI/+IM/6OvxekVHR0c+97nPZd26dTnjjDOycePGzJkzJ5s3b84xxxzT1+NxEAbiuSZxvunvSjjX\n",
              "eEfld/j7v//7rFu3Lt/97ndz+OGH9/U4veahhx5KS0tLJk6cmHHjxuWRRx7JokWL8pWvfKWvR+sV\n",
              "9fX1GTRoUP7sz/4sSXLyySfn+OOPz+bNm/t4st7zxBNP5Oc//3nOOOOMJMmMGTMyevToPP744308\n",
              "We/67buwJ+n2Luz93UA91yTON/1dCecaodKNL3zhC7nzzjvz7//+7xk+fHhfj9OrLr/88uzcuTMt\n",
              "LS1paWnJrFmzcsstt+Tyyy/v69F6xTHHHJOzzz479913X5Jkx44d2bFjR0488cQ+nqz3/OY/4D/9\n",
              "6U+TJM3Nzdm+fXsmTZrUx5P1rrd6F/b+bCCfaxLnm/6uiHPNIbtstx9pa2urJqmOHz++OnXq1OrU\n",
              "qVOrM2fO7OuxauYDH/hAv70Kvzvbt2+vnnnmmdUpU6ZUTzrppOqaNWv6eqRe97WvfW3f+qZMmVL9\n",
              "13/9174e6W1ZtGhR9bjjjqsOHjy4OnLkyOqECROq1Wq1+uyzz1ZnzZpVnThxYvWUU06pPvXUU308\n",
              "6cE50PoG2rmmu9fwt/Xn80136xso55vu1tfX5xo3JQQAiuWjHwCgWEIFACiWUAEAiiVUAIBiCRUA\n",
              "oFhCBQAollABAIolVACAYgkVAKBYQgUAKNb/BQfjhGyHknc1AAAAAElFTkSuQmCC\n",
              "\">\n",
              "      </div>\n",
              "      <script type=\"text/javascript\">\n",
              "        (() => {\n",
              "          const chartElement = document.getElementById(\"chart-6e8cb2e8-6412-449b-b079-808437884e13\");\n",
              "          async function getCodeForChartHandler(event) {\n",
              "            const chartCodeResponse =  await google.colab.kernel.invokeFunction(\n",
              "                'getCodeForChart', [\"chart-6e8cb2e8-6412-449b-b079-808437884e13\"], {});\n",
              "            const responseJson = chartCodeResponse.data['application/json'];\n",
              "            await google.colab.notebook.addCell(responseJson.code, 'code');\n",
              "          }\n",
              "          chartElement.onclick = getCodeForChartHandler;\n",
              "        })();\n",
              "      </script>\n",
              "      <style>\n",
              "        .colab-quickchart-chart-with-code  {\n",
              "            display: block;\n",
              "            float: left;\n",
              "            border: 1px solid transparent;\n",
              "        }\n",
              "\n",
              "        .colab-quickchart-chart-with-code:hover {\n",
              "            cursor: pointer;\n",
              "            border: 1px solid #aaa;\n",
              "        }\n",
              "      </style>"
            ]
          },
          "metadata": {}
        },
        {
          "output_type": "display_data",
          "data": {
            "text/plain": [
              "from matplotlib import pyplot as plt\n",
              "_df_3['col4'].plot(kind='hist', bins=20, title='col4')\n",
              "plt.gca().spines[['top', 'right',]].set_visible(False)"
            ],
            "text/html": [
              "      <div class=\"colab-quickchart-chart-with-code\" id=\"chart-673cb4bb-62a2-4290-a4b4-af26ddf08a8b\">\n",
              "        <img style=\"width: 180px;\" src=\"data:image/png;base64,iVBORw0KGgoAAAANSUhEUgAAAioAAAGrCAYAAADuNLxTAAAAOXRFWHRTb2Z0d2FyZQBNYXRwbG90\n",
              "bGliIHZlcnNpb24zLjcuMSwgaHR0cHM6Ly9tYXRwbG90bGliLm9yZy/bCgiHAAAACXBIWXMAAA9h\n",
              "AAAPYQGoP6dpAAAeDElEQVR4nO3de5DV9X3/8dcBkk1sBbxARWGlXBYxRBCEoWiNlzpVm6CVTCdJ\n",
              "sdLIRWNKHDOjISZTsYnQmU4aaydlFUu0JCYtYGQ00WnipSbRACoGMRGXsO7WoCTNyJpGibuc3x9O\n",
              "+LmFTVzcw352fTxmzgzn68ev70/WHJ9zznfPt1KtVqsBACjQgN4eAACgK0IFACiWUAEAiiVUAIBi\n",
              "CRUAoFhCBQAollABAIolVACAYgkVAKBYQgXoE5qbm1OpVNLU1NTbowCHkFAB+ry77rorlUolc+fO\n",
              "7e1RgB4mVIA+7ec//3muvPLKnHrqqb09ClADQgU4pF555ZV85jOfSUNDQw4//PCMGTMmt912W5Lk\n",
              "y1/+ciZNmpTBgwdn0qRJ+47/NosWLconPvGJjBs3rtajA71gUG8PALy9LFiwINu2bctdd92VE044\n",
              "ITt37swLL7yQtWvXZvHixbnzzjtzxhln5IEHHsiFF16YIUOG5MILLzzguVavXp1du3Zl8eLF+ehH\n",
              "P3poNwIcEkIFOGR+/vOf5ytf+Uo2btyYiRMnJkmOPfbYHHvssVmyZEkuvfTSnH322UmSP/mTP8ml\n",
              "l16aFStWHDBUnn/++VxzzTV58MEHM2CAN4ehv/L/buCQ2bFjR5JkwoQJ+/211tbWjB07ttOxcePG\n",
              "paWl5YDnuvTSS/PJT34y48eP7/lBgWJ4RwU4ZEaPHp0k2bZtW6ZNm9bpr40aNSrbt2/vdGz79u2p\n",
              "r68/4Lnuu+++bNy4MTfccEOS5Je//GWS5N57783zzz+furq6Hp4e6A3eUQEOmWHDhuXDH/5wrrji\n",
              "ijzzzDNJkp07d+bxxx/P/Pnz86//+q958MEH09HRkfvvvz+33nprFi5ceMBztba25sknn8zmzZuz\n",
              "efPmzJ49O+eff342b94sUqAf8Y4KcEjdcsstuf7663Peeedl165dGT58eJYuXZqLL744u3fvzsc+\n",
              "9rG0tramvr4+N954Yy666KIDnmfkyJGdnh922GFpb2/f7zjQt1Wq1Wq1t4cAADgQH/0AAMUSKgBA\n",
              "sYQKAFAsoQIAFEuoAADFEioAQLGECgBQrH4RKjfeeGNvjwAA1EC/CJXnnnuut0cAAGqgX4QKANA/\n",
              "CRUAoFhCBQAollABAIolVACAYgkVAKBYQgUAKJZQAQCKJVQAgGIJFQCgWEIFACiWUAEAilXTUFm8\n",
              "eHFGjx6dSqWSzZs3d7nu1ltvzfjx4zN27NgsWLAgr732Wi3HAgD6iJqGygc/+MF897vfzfHHH9/l\n",
              "mh07duSzn/1sHn744TQ1NeXFF1/MzTffXMuxAIA+oqahcvrpp2fkyJG/dc2aNWsye/bsHHPMMalU\n",
              "Krnssstyxx13dLl+z549aWtr6/To6Ojo6dEBgAIM6u0BWlpaOr3jMnr06LS0tHS5ftmyZVm6dGmn\n",
              "YzNnzqzJbKM/dU9Nzpskzcv/rGbn5v/zM+z7avUz9PM7dPwMD43++r9zn7uYdsmSJdm9e3enx4wZ\n",
              "M3p7LACgBnr9HZX6+vps37593/Pm5ubU19d3ub6uri51dXWdjg0cOLBm8wEAvafX31GZM2dO1q9f\n",
              "nxdeeCHVajUrVqzIhz70od4eCwAoQE1DZdGiRRk5cmT++7//O3/6p3+acePGJUnmz5+f9evXJ0nG\n",
              "jBmTpUuX5tRTT824ceMybNiwLFq0qJZjAQB9RE0/+mlsbDzg8ZUrV3Z6vmDBgixYsKCWowAAfVCv\n",
              "f/QDANAVoQIAFEuoAADFEioAQLGECgBQLKECABRLqAAAxRIqAECxhAoAUCyhAgAUS6gAAMUSKgBA\n",
              "sYQKAFAsoQIAFEuoAADFEioAQLGECgBQLKECABRLqAAAxRIqAECxhAoAUCyhAgAUS6gAAMUSKgBA\n",
              "sYQKAFAsoQIAFEuoAADFEioAQLGECgBQLKECABRLqAAAxRIqAECxhAoAUCyhAgAUS6gAAMUSKgBA\n",
              "sYQKAFAsoQIAFEuoAADFEioAQLGECgBQLKECABRLqAAAxRIqAECxhAoAUCyhAgAUS6gAAMUSKgBA\n",
              "sYQKAFAsoQIAFEuoAADFEioAQLGECgBQLKECABRLqAAAxRIqAECxhAoAUCyhAgAUS6gAAMUSKgBA\n",
              "sYQKAFCsmobKs88+m1mzZqWhoSHTp0/P1q1b91uzd+/eXHXVVTnxxBNz0kkn5cwzz0xTU1MtxwIA\n",
              "+oiahsqiRYuycOHCbNu2Lddcc03mzZu335r169fne9/7Xp588sn88Ic/zNlnn51Pf/rTtRwLAOgj\n",
              "ahYqu3btyqZNmzJ37twkyZw5c9La2rrfuyWVSiV79uzJq6++mmq1mra2towcObJWYwEAfcigWp24\n",
              "tbU1I0aMyKBBr/8jKpVK6uvr09LSknHjxu1b94EPfCAPPPBAjjnmmBx++OE57rjj8tBDD3V53j17\n",
              "9mTPnj2djnV0dNRmEwBAr+r1i2k3bdqUp556Ks8//3x++tOf5uyzz85ll13W5fply5ZlyJAhnR4b\n",
              "Nmw4hBMDAIdKzUJl1KhR2blzZ9rb25Mk1Wo1LS0tqa+v77Tu9ttvz1lnnZWhQ4dmwIABueSSS/LA\n",
              "Aw90ed4lS5Zk9+7dnR4zZsyo1TYAgF5Us1AZPnx4pk6dmtWrVydJ1q5dm5EjR3b62CdJxowZk/vv\n",
              "vz+//vWvkyR33313Jk2a1OV56+rqMnjw4E6PgQMH1mobAEAvqtk1KknS2NiYefPm5YYbbsjgwYOz\n",
              "atWqJMn8+fMze/bszJ49O1dccUV+9KMfZfLkyXnHO96RY445JitWrKjlWABAH1HTUJkwYUIeeeSR\n",
              "/Y6vXLly35/r6upyyy231HIMAKCP6vWLaQEAuiJUAIBiCRUAoFhCBQAollABAIolVACAYgkVAKBY\n",
              "QgUAKJZQAQCKJVQAgGIJFQCgWEIFACiWUAEAiiVUAIBiCRUAoFhCBQAollABAIolVACAYgkVAKBY\n",
              "QgUAKJZQAQCKJVQAgGIJFQCgWEIFACiWUAEAiiVUAIBiCRUAoFhCBQAollABAIolVACAYgkVAKBY\n",
              "QgUAKJZQAQCKJVQAgGIJFQCgWEIFACiWUAEAiiVUAIBiCRUAoFhCBQAollABAIolVACAYgkVAKBY\n",
              "QgUAKJZQAQCKJVQAgGIJFQCgWEIFACiWUAEAiiVUAIBiCRUAoFhCBQAollABAIolVACAYgkVAKBY\n",
              "QgUAKJZQAQCKJVQAgGIJFQCgWEIFACiWUAEAiiVUAIBi1TRUnn322cyaNSsNDQ2ZPn16tm7desB1\n",
              "W7ZsyRlnnJGJEydm4sSJWbduXS3HAgD6iEG1PPmiRYuycOHCzJs3L2vWrMm8efOycePGTmt+9atf\n",
              "5YILLsjtt9+e0047LR0dHfnFL35Ry7EAgD6iZu+o7Nq1K5s2bcrcuXOTJHPmzElra2uampo6rfvq\n",
              "V7+amTNn5rTTTkuSDBw4MMOGDevyvHv27ElbW1unR0dHR622AQD0opqFSmtra0aMGJFBg15/06ZS\n",
              "qaS+vj4tLS2d1j399NOpq6vL+9///kyZMiV/9Vd/lZ/97GddnnfZsmUZMmRIp8eGDRtqtQ0AoBd1\n",
              "O1Tuu+++Hh2gvb093/72t9PY2Jgnnngixx13XC6//PIu1y9ZsiS7d+/u9JgxY0aPzgQAlKHboXL9\n",
              "9ddnwoQJufHGG9PW1tblulGjRmXnzp1pb29PklSr1bS0tKS+vr7Tuvr6+px55pk57rjjUqlUMnfu\n",
              "3Dz66KNdnreuri6DBw/u9Bg4cGB3twEA9AHdDpXvfe97+drXvpannnoqDQ0N+djHPpann356v3XD\n",
              "hw/P1KlTs3r16iTJ2rVrM3LkyIwbN67Tur/4i7/Ixo0b90XPN7/5zUyePPlg9gIA9DMHdY3KySef\n",
              "nFtuuSX33ntv7r777px00kk555xzsmXLlk7rGhsb09jYmIaGhixfvjyrVq1KksyfPz/r169P8vo7\n",
              "Kp/+9Kcza9asnHTSSbn//vuzYsWKt7gtAKA/OKhfT/72t7+dm266KVu2bMkVV1yRSy+9NA8++GD+\n",
              "/M//vNNv9UyYMCGPPPLIfn//ypUrOz2/+OKLc/HFFx/MKABAP9btUJk4cWKOPvroLF68OBdddNG+\n",
              "60M++MEP5tZbb+3xAQGAt69uh8rq1aszbdq0A/61b33rW295IACA3+j2NSqPPfZYp2+O/Z//+Z/c\n",
              "csstPToUAEByEKHypS99KUceeeS+50cddVS+9KUv9ehQAADJQYRKtVrd75ivsAcAaqHboTJixIj8\n",
              "+7//+77nX//61zNixIgeHQoAIDmIi2m/+MUv5oILLsjVV1+dJDnssMNy11139fhgAADdDpUTTjgh\n",
              "Tz/9dJ555pkkr39Xiq+wBwBq4aC+8K1SqWTo0KFpb2/P888/nyT73cMHAOCt6naofPnLX87ixYvz\n",
              "jne8IwMGvH6JS6VSya5du3p8OADg7a3bofJ3f/d32bhxYyZMmFCLeQAA9un2b/0cffTRIgUAOCS6\n",
              "HSoXXnhhvvjFL2bXrl1pa2vb9wAA6Gnd/ujn2muvTZJcddVVqVQqqVarqVQqvvQNAOhx3Q6VvXv3\n",
              "1mIOAID9dPujn+T1GxP+27/9W5LkpZdeys6dO3t0KACA5CBvSvjRj3401113XZLX7578kY98pKfn\n",
              "AgDofqjcfPPNefTRRzN48OAkydixY/Ozn/2sxwcDAOh2qNTV1eXd7353p2ODBh3UF9wCAPxW3Q6V\n",
              "YcOGZdu2balUKkle/6ZaX58PANTCQd09+cMf/nB+/OMfZ9SoURk8eHDuvvvuWswGALzNdTtUxo0b\n",
              "lx/84Ad55plnUq1W3T0ZAKiZbodKS0tLkuT3fu/3ksTdkwGAmul2qEybNm3fN9K++uqr+dWvfpWj\n",
              "jjrK3ZMBgB7X7VD5v7+KvG7dujz55JM9NhAAwG8c1DfTvtFFF12Ue+65pydmAQDopNvvqLzxTskd\n",
              "HR35wQ9+4O7JAEBNdDtUhg4duu8alYEDB2b8+PH5p3/6p1rMBgC8zbl7MgBQrLd8jQoAQK10+x2V\n",
              "AQMG7Pv6/DeqVqupVCrp6OjokcEAALodKtdff31eeeWVXH755UmSFStW5N3vfneuvPLKnp4NAHib\n",
              "63ao3HnnnXnsscf2Pf/c5z6XadOm5dprr+3RwQAAun2Nyssvv9zpW2h37dqVl19+uUeHAgBIDuId\n",
              "lU9+8pOZPHlyzj///CTJvffem+uuu66n5wIA6H6oLFq0KKeeemoeeOCBJMlVV12V97znPT0+GABA\n",
              "t0MlSY466qi8973vzRlnnJH29vb8+te/zjvf+c6eng0AeJvr9jUqa9asycyZM/PXf/3XSZKtW7fm\n",
              "wgsv7Om5AAC6HyrLli3L448/nqFDhyZJJk+enOeee66n5wIA6H6oDBw4MEcddVSnYz72AQBqoduh\n",
              "cvjhh+fFF1/c9+203/nOd3LkkUf2+GAAAN2+mPbv//7vc9555+UnP/lJTjvttOzYsSP33HNPLWYD\n",
              "AN7muhUqe/fuTUdHRx544IF8//vfT7VazaxZs/ZdrwIA0JO6FSoDBgzIwoUL8+STT+a8886r1UwA\n",
              "AEkO4hqV8ePHp6mpqRazAAB00u1rVH7xi19kypQpmTVrVn7/939/3/F169b16GAAAG86VBYuXJib\n",
              "b745l1xySWbPnp0jjjiilnMBALz5UNm0aVOS5JJLLsnUqVPz+OOP12woAIDkIK5RSZJqtdrTcwAA\n",
              "7OdNv6PyyiuvZMuWLalWq3n11Vf3/fk3TjrppJoMCAC8fXUrVGbPnr3v+Rv/XKlU8pOf/KRnJwMA\n",
              "3vbedKg0NzfXcAwAgP0d1DUqAACHglABAIolVACAYgkVAKBYQgUAKJZQAQCKJVQAgGIJFQCgWEIF\n",
              "AChWTUPl2WefzaxZs9LQ0JDp06dn69atXa6tVqs566yzMnTo0FqOBAD0ITUNlUWLFmXhwoXZtm1b\n",
              "rrnmmsybN6/Ltf/4j/+YsWPH1nIcAKCPqVmo7Nq1K5s2bcrcuXOTJHPmzElra2uampr2W7t169Z8\n",
              "4xvfyKc+9anfed49e/akra2t06Ojo6PH5wcAel/NQqW1tTUjRozIoEGv3/ewUqmkvr4+LS0tnda9\n",
              "9tprWbBgQRobGzNw4MDfed5ly5ZlyJAhnR4bNmyoyR4AgN7V6xfTLl26NBdddFEmTpz4ptYvWbIk\n",
              "u3fv7vSYMWNGjacEAHrDoFqdeNSoUdm5c2fa29szaNCgVKvVtLS0pL6+vtO6hx56KC0tLfnnf/7n\n",
              "tLe3p62tLaNHj87GjRszbNiw/c5bV1eXurq6TsfezDsxAEDfU7N3VIYPH56pU6dm9erVSZK1a9dm\n",
              "5MiRGTduXKd1Dz/8cJ577rk0Nzfnu9/9bgYPHpzm5uYDRgoA8PZS049+Ghsb09jYmIaGhixfvjyr\n",
              "Vq1KksyfPz/r16+v5T8aAOgHavbRT5JMmDAhjzzyyH7HV65cecD1o0ePzksvvVTLkQCAPqTXL6YF\n",
              "AOiKUAEAiiVUAIBiCRUAoFhCBQAollABAIolVACAYgkVAKBYQgUAKJZQAQCKJVQAgGIJFQCgWEIF\n",
              "ACiWUAEAiiVUAIBiCRUAoFhCBQAollABAIolVACAYgkVAKBYQgUAKJZQAQCKJVQAgGIJFQCgWEIF\n",
              "ACiWUAEAiiVUAIBiCRUAoFhCBQAollABAIolVACAYgkVAKBYQgUAKJZQAQCKJVQAgGIJFQCgWEIF\n",
              "ACiWUAEAiiVUAIBiCRUAoFhCBQAollABAIolVACAYgkVAKBYQgUAKJZQAQCKJVQAgGIJFQCgWEIF\n",
              "ACiWUAEAiiVUAIBiCRUAoFhCBQAollABAIolVACAYgkVAKBYQgUAKJZQAQCKJVQAgGIJFQCgWEIF\n",
              "ACiWUAEAilXTUHn22Wcza9asNDQ0ZPr06dm6det+a+6///7MmDEjJ554Yt7znvfk6quvzt69e2s5\n",
              "FgDQR9Q0VBYtWpSFCxdm27ZtueaaazJv3rz91hxxxBH52te+lqeffjqPPfZYvv/97+f222+v5VgA\n",
              "QB9Rs1DZtWtXNm3alLlz5yZJ5syZk9bW1jQ1NXVad/LJJ2fMmDFJkne9612ZMmVKmpubuzzvnj17\n",
              "0tbW1unR0dFRq20AAL2oZqHS2tqaESNGZNCgQUmSSqWS+vr6tLS0dPn3vPDCC1mzZk3e//73d7lm\n",
              "2bJlGTJkSKfHhg0benx+AKD3FXMxbVtbWz7wgQ/k6quvzimnnNLluiVLlmT37t2dHjNmzDiEkwIA\n",
              "h8qgWp141KhR2blzZ9rb2zNo0KBUq9W0tLSkvr5+v7Uvv/xyzj333FxwwQW56qqrfut56+rqUldX\n",
              "1+nYwIEDe3R2AKAMNXtHZfjw4Zk6dWpWr16dJFm7dm1GjhyZcePGdVr3y1/+Mueee27OPffcfOYz\n",
              "n6nVOABAH1TTj34aGxvT2NiYhoaGLF++PKtWrUqSzJ8/P+vXr0+S3HjjjdmwYUPWrVuXKVOmZMqU\n",
              "Kfn85z9fy7EAgD6iZh/9JMmECRPyyCOP7Hd85cqV+/587bXX5tprr63lGABAH1XMxbQAAP+XUAEA\n",
              "iiVUAIBiCRUAoFhCBQAollABAIolVACAYgkVAKBYQgUAKJZQAQCKJVQAgGIJFQCgWEIFACiWUAEA\n",
              "iiVUAIBiCRUAoFhCBQAollABAIolVACAYgkVAKBYQgUAKJZQAQCKJVQAgGIJFQCgWEIFACiWUAEA\n",
              "iiVUAIBiCRUAoFhCBQAollABAIolVACAYgkVAKBYQgUAKJZQAQCKJVQAgGIJFQCgWEIFACiWUAEA\n",
              "iiVUAIBiCRUAoFhCBQAollABAIolVACAYgkVAKBYQgUAKJZQAQCKJVQAgGIJFQCgWEIFACiWUAEA\n",
              "iiVUAIBiCRUAoFhCBQAollABAIolVACAYgkVAKBYQgUAKJZQAQCKJVQAgGIJFQCgWEIFAChWTUPl\n",
              "2WefzaxZs9LQ0JDp06dn69atB1x36623Zvz48Rk7dmwWLFiQ1157rZZjAQB9RE1DZdGiRVm4cGG2\n",
              "bduWa665JvPmzdtvzY4dO/LZz342Dz/8cJqamvLiiy/m5ptvruVYAEAfUbNQ2bVrVzZt2pS5c+cm\n",
              "SebMmZPW1tY0NTV1WrdmzZrMnj07xxxzTCqVSi677LLccccdXZ53z549aWtr6/To6Oio1TYAgF5U\n",
              "qVar1Vqc+LHHHstHPvKRPPPMM/uOzZgxI8uXL89ZZ52179jf/M3f5Nhjj82SJUuSJE8//XTOPffc\n",
              "tLS0HPC81113XZYuXdrp2AknnJDzzjuvBrs4tDo6OrJhw4bMmDEjAwcO7O1xepz99X39fY/21/f1\n",
              "9z32t/0df/zx+cQnPvFb1ww6RLP0mCVLluSqq67qdKyuri51dXW9NFHPaWtry5AhQ3Lfffdl8ODB\n",
              "vT1Oj7O/vq+/79H++r7+vsf+vr8DqVmojBo1Kjt37kx7e3sGDRqUarWalpaW1NfXd1pXX1+f7du3\n",
              "73ve3Ny835o36i9RAgD8bjW7RmX48OGZOnVqVq9enSRZu3ZtRo4cmXHjxnVaN2fOnKxfvz4vvPBC\n",
              "qtVqVqxYkQ996EO1GgsA6ENq+ls/jY2NaWxsTENDQ5YvX55Vq1YlSebPn5/169cnScaMGZOlS5fm\n",
              "1FNPzbhx4zJs2LAsWrSolmMBAH1ETa9RmTBhQh555JH9jq9cubLT8wULFmTBggW1HKVPqKury9/+\n",
              "7d/224+27K/v6+97tL++r7/vsb/v70Bq9ls/AABvla/QBwCKJVQAgGIJFQCgWEIFACiWUCnMqlWr\n",
              "UqlU8o1vfKO3R+lRe/bsycc//vGMHz8+733ve/fdA6o/+eY3v5mpU6dmypQpmTRpUm677bbeHukt\n",
              "Wbx4cUaPHp1KpZLNmzfvO/5m74peugPt79VXX82FF16YhoaGTJ48Oeecc85+9yfrS7r6Gf5GX3+9\n",
              "6Wp//eX1pqv99bfXmt+pSjF27NhR/aM/+qPqzJkzq3feeWdvj9OjrrzyyurHP/7x6t69e6vVarW6\n",
              "c+fOXp6oZ+3du7d6xBFHVJ988slqtfr6z7Kurq7a1tbWy5MdvIceeqja2tpaPf7446tPPPHEvuNn\n",
              "nnlmddWqVdVqtVr9j//4j+opp5zSOwO+RQfa3yuvvFK955579v17etNNN1Xf97739d6Qb1FXP8Nq\n",
              "tX+83nS1v/7yenOg/fXH15rfxTsqhdi7d2/mz5+fm266qd/9fvz//u//5tZbb83nP//5VCqVJMkx\n",
              "xxzTy1P1vEqlkpdeeinJ6/fjOOqoo/r0z/L000/PyJEjOx17s3dF7wsOtL93vetdOf/88/f9ezpz\n",
              "5sw0Nzf3wnQ940B7TPrP682B9tefXm+6+vn1t9ea30WoFOILX/hCTj311EybNq23R+lx27dvz5FH\n",
              "Hpkbbrghp5xySv74j/843/nOd3p7rB5VqVTy9a9/PRdddFGOP/74nHbaabntttvyzne+s7dH61Gt\n",
              "ra0ZMWJEBg16/bsiK5VK6uvru7zbeV9344035oILLujtMXqc15u+6+3yWvNGfe7uyf3RU089lbVr\n",
              "1+a//uu/enuUmmhvb89zzz2XE088McuXL88TTzyRc845J1u3bs0f/MEf9PZ4PaK9vT2f+9znsm7d\n",
              "upx++unZuHFjZs+enS1btuToo4/u7fE4CDfccEOampr61X/kEq83fd3b8bXGOyoFePjhh9Pc3Jzx\n",
              "48dn9OjRefTRR7Nw4cL8y7/8S2+P1iPq6+szYMCA/OVf/mWS5OSTT84f/uEfZsuWLb08Wc/ZvHlz\n",
              "fvrTn+b0009PkkyfPj0jR47ME0880cuT9aw33hU9SZd3Re/r/uEf/iHr1q3Lt771rRx22GG9PU6P\n",
              "8nrTt71dXmveSKgU4PLLL8/OnTvT3Nyc5ubmzJw5MzfffHMuv/zy3h6tRxx99NE5++yzc9999yVJ\n",
              "duzYkR07dmTixIm9PFnP+c1/wH/0ox8lSZqamrJ9+/ZMmDChlyfrWW/2ruh92Re+8IXccccd+c//\n",
              "/M8MHTq0t8fpcV5v+ra3y2tNJ719NS/7e9/73tdnr8Lvyvbt26tnnHFGddKkSdWTTjqpumbNmt4e\n",
              "qcd99atf3be/SZMmVb/yla/09khvycKFC6vHHXdcdeDAgdXhw4dXx44dW61Wq9Uf//jH1ZkzZ1bH\n",
              "jx9fnTZtWvWHP/xhL096cA60v9bW1mqS6pgxY6qTJ0+uTp48uTpjxozeHvWgdfUzfKO+/HrT1f76\n",
              "y+tNV/vrb681v4ubEgIAxfLRDwBQLKECABRLqAAAxRIqAECxhAoAUCyhAgAUS6gAAMUSKgBAsYQK\n",
              "AFAsoQIAFOv/ATBFWU7pI5dJAAAAAElFTkSuQmCC\n",
              "\">\n",
              "      </div>\n",
              "      <script type=\"text/javascript\">\n",
              "        (() => {\n",
              "          const chartElement = document.getElementById(\"chart-673cb4bb-62a2-4290-a4b4-af26ddf08a8b\");\n",
              "          async function getCodeForChartHandler(event) {\n",
              "            const chartCodeResponse =  await google.colab.kernel.invokeFunction(\n",
              "                'getCodeForChart', [\"chart-673cb4bb-62a2-4290-a4b4-af26ddf08a8b\"], {});\n",
              "            const responseJson = chartCodeResponse.data['application/json'];\n",
              "            await google.colab.notebook.addCell(responseJson.code, 'code');\n",
              "          }\n",
              "          chartElement.onclick = getCodeForChartHandler;\n",
              "        })();\n",
              "      </script>\n",
              "      <style>\n",
              "        .colab-quickchart-chart-with-code  {\n",
              "            display: block;\n",
              "            float: left;\n",
              "            border: 1px solid transparent;\n",
              "        }\n",
              "\n",
              "        .colab-quickchart-chart-with-code:hover {\n",
              "            cursor: pointer;\n",
              "            border: 1px solid #aaa;\n",
              "        }\n",
              "      </style>"
            ]
          },
          "metadata": {}
        },
        {
          "output_type": "display_data",
          "data": {
            "text/plain": [
              "<google.colab._quickchart_helpers.SectionTitle at 0x7d5632ad66b0>"
            ],
            "text/html": [
              "<h4 class=\"colab-quickchart-section-title\">Categorical distributions</h4>\n",
              "<style>\n",
              "  .colab-quickchart-section-title {\n",
              "      clear: both;\n",
              "  }\n",
              "</style>"
            ]
          },
          "metadata": {}
        },
        {
          "output_type": "display_data",
          "data": {
            "text/plain": [
              "from matplotlib import pyplot as plt\n",
              "import seaborn as sns\n",
              "_df_4.groupby('index').size().plot(kind='barh', color=sns.palettes.mpl_palette('Dark2'))\n",
              "plt.gca().spines[['top', 'right',]].set_visible(False)"
            ],
            "text/html": [
              "      <div class=\"colab-quickchart-chart-with-code\" id=\"chart-4f0eea09-9ddc-4678-8445-365db33ee7a6\">\n",
              "        <img style=\"width: 180px;\" src=\"data:image/png;base64,iVBORw0KGgoAAAANSUhEUgAAAjcAAAGZCAYAAAB11hCtAAAAOXRFWHRTb2Z0d2FyZQBNYXRwbG90\n",
              "bGliIHZlcnNpb24zLjcuMSwgaHR0cHM6Ly9tYXRwbG90bGliLm9yZy/bCgiHAAAACXBIWXMAAA9h\n",
              "AAAPYQGoP6dpAAAdW0lEQVR4nO3df5BV9X3/8dcFJktjAlraGAeDm1VcWCNsSWRCRH7sXlrHSGxT\n",
              "KUlJ4yiGlqk2rU0yMsEyoVpsMFqt0wnEhsT6DyItsYl8B1ZaC5lkjMUMSSn9siJLSpUYOsPGTESB\n",
              "8/3DyX671bS7urtXPzweM3dm73L23Pf5jON9zjln99aqqqoCAFCIUY0eAABgKIkbAKAo4gYAKIq4\n",
              "AQCKIm4AgKKIGwCgKOIGACiKuAEAiiJuAICinJZxc/fddzd6BABgmJyWcdPT09PoEQCAYXJaxg0A\n",
              "UC5xAwAURdwAAEURNwBAUcQNAFAUcQMAFEXcAABFETcAQFHEDQBQFHEDABRF3AAARRE3AEBRxA0A\n",
              "UBRxAwAURdwAAEURNwBAUWpVVVWNHmKkTbtiXGb9zlmNHgMAirPuoz2NHsGZGwCgLOIGACiKuAEA\n",
              "iiJuAICiiBsAoCjiBgAoirgBAIoibgCAoogbAKAo4gYAKIq4AQCKIm4AgKKIGwCgKOIGACjKsMZN\n",
              "c3NzWltb097entbW1tx+++1Dst958+bl3e9+d9rb29Pe3p677rprSPYLALz5jRnuF9i4cWPa29tz\n",
              "+PDhtLW1paOjIzNnznzd+73rrrvy67/+669/QACgKCN2WWrixImZMmVKenp60t3dnXq9nmnTpqW9\n",
              "vT1btmxJkqxfvz7Lli1Lkuzduze1Wi3btm1LkqxevTqrV68eqXEBgDepEYubffv25ejRo5k3b16W\n",
              "LFmSRYsWZc+ePdm0aVOWLl2anp6e1Ov1dHV1JUm2b9+eWbNm9Xter9f79nfzzTfn4osvzuLFi3Pg\n",
              "wIGf+7rHjx9Pb29vv8epU9XwHiwA0DDDHjeLFy/O1KlT09bWlhtvvDFjx47N7t27s3Tp0iTJ5MmT\n",
              "M3v27OzcuTMtLS1JkgMHDqSrqytr1qzJjh078vzzz2fv3r19l7P+5m/+Jvv27cuePXty2WWX5cor\n",
              "r/y5r79mzZqMHz++3+O5p14c7sMGABpk2ONm48aN+dd//dds27YtN998cw4ePPiKbWq1Wt/X9Xo9\n",
              "W7duzf79+zN37txUVZXNmzdn1qxZGTPm5VuE3vWud/X93A033JADBw7k6NGjr/r6K1asyLFjx/o9\n",
              "fvn8twz9gQIAbwgjdlmqXq9n+fLlWblyZWbMmJENGzYkSbq7u7Nr167MmTOnb7u1a9f2naXp6OjI\n",
              "qlWr+i5JnThxIkeOHOnb7+bNm3P22WdnwoQJr/q6TU1NGTduXL/HqFG1V90WAHjzG/bflvqvbrnl\n",
              "llxwwQV55JFH8tnPfjb33ntvarVa7rvvvkyaNClJ0tnZmUOHDvXFzIIFC3LHHXeks7Mzycv30Hzw\n",
              "gx/M8ePHM2rUqPzSL/1SHn744ZE8DADgDaxWVdVpd3fttCvGZdbvnNXoMQCgOOs+2tPoEfyFYgCg\n",
              "LOIGACiKuAEAiiJuAICiiBsAoCjiBgAoirgBAIoibgCAoogbAKAo4gYAKIq4AQCKIm4AgKKIGwCg\n",
              "KGMaPUAj1Kdcnzs/emejxwAAhoEzNwBAUcQNAFAUcQMAFEXcAABFETcAQFHEDQBQFHEDABRF3AAA\n",
              "RRE3AEBRxA0AUBRxAwAURdwAAEURNwBAUcQNAFAUcQMAFEXcAABFETcAQFHEDQBQFHEDABRF3AAA\n",
              "RRE3AEBRxA0AUBRxAwAURdwAAEURNwBAUcQNAFAUcQMAFEXcAABFETcAQFHEDQBQFHEDABRF3AAA\n",
              "RRE3AEBRxA0AUBRxAwAURdwAAEUZ0+gBGuEnX30iz/6ftY0eAwCK8869n270CM7cAABlETcAQFHE\n",
              "DQBQFHEDABRF3AAARRE3AEBRxA0AUBRxAwAURdwAAEURNwBAUcQNAFAUcQMAFEXcAABFETcAQFGG\n",
              "NW6am5vT2tqa9vb2tLa25vbbbx/S/e/YsSOjR4/OX/zFXwzpfgGAN68xw/0CGzduTHt7ew4fPpy2\n",
              "trZ0dHRk5syZr3u/x44dy80335wrrrhiCKYEAEoxYpelJk6cmClTpqSnpyfd3d2p1+uZNm1a2tvb\n",
              "s2XLliTJ+vXrs2zZsiTJ3r17U6vVsm3btiTJ6tWrs3r16r793XDDDVm5cmUmTJgwUocAALwJjFjc\n",
              "7Nu3L0ePHs28efOyZMmSLFq0KHv27MmmTZuydOnS9PT0pF6vp6urK0myffv2zJo1q9/zer2eJHno\n",
              "oYcyatSofOhDH/pfX/f48ePp7e3t9zhZnRq+AwUAGmrY42bx4sWZOnVq2tracuONN2bs2LHZvXt3\n",
              "li5dmiSZPHlyZs+enZ07d6alpSVJcuDAgXR1dWXNmjXZsWNHnn/++ezduzczZ87Ms88+m1tvvTV3\n",
              "3333gF5/zZo1GT9+fL/Hd3/6g2E7XgCgsUbsnpuurq4sXLgwHR0dr9imVqv1fV2v17N169bs378/\n",
              "c+fOTVVV2bx5c2bNmpUxY8bkn//5n/PMM8+kvb09SfKjH/0oDz/8cJ577rncdtttr9j3ihUrctNN\n",
              "N/X73k3N7tMBgFKN2GWper2e5cuXZ+XKlZkxY0Y2bNiQJOnu7s6uXbsyZ86cvu3Wrl3bd9NxR0dH\n",
              "Vq1a1XdJ6oMf/GCOHDmSgwcP5uDBg7n66qvzJ3/yJ68aNknS1NSUcePG9XuMrvkNeAAo1Yi+y99y\n",
              "yy3ZtWtX7rnnnmzcuDHTp0/P1Vdfnfvuuy+TJk1KknR2dubQoUN9MbNgwYL09PSks7NzJEcFAN6k\n",
              "alVVVY0eYqT97oQ5+dzZCxs9BgAU5517P93oEfyFYgCgLOIGACiKuAEAiiJuAICiiBsAoCjiBgAo\n",
              "irgBAIoibgCAoogbAKAo4gYAKIq4AQCKIm4AgKKIGwCgKGMaPUAjnHHN+/LOOxv/qaUAwNBz5gYA\n",
              "KIq4AQCKIm4AgKKIGwCgKOIGACiKuAEAiiJuAICiiBsAoCjiBgAoirgBAIoibgCAoogbAKAo4gYA\n",
              "KIq4AQCKIm4AgKKIGwCgKOIGACiKuAEAiiJuAICiiBsAoCjiBgAoirgBAIoibgCAoogbAKAo4gYA\n",
              "KIq4AQCKIm4AgKKIGwCgKOIGACiKuAEAiiJuAICiiBsAoCjiBgAoirgBAIoibgCAoogbAKAotaqq\n",
              "qkYPMdLeN+PX0zH3+kaPAQDF+fxdVzZ6BGduAICyiBsAoCjiBgAoirgBAIoyJHHz4osvDsVuAABe\n",
              "t0HHzRVXXJH//M//7Hv+1FNP5QMf+MCQDgUA8FoNOm46OjpyySWX5Fvf+lYefPDBzJ8/PzfffPNw\n",
              "zAYAMGhjBvsDn/rUp3LJJZdk/vz5mTBhQnbu3JmWlpbhmA0AYNAGfebm4MGD+fSnP51rrrkmzc3N\n",
              "ue222/LCCy8Mx2wAAIM26Li57LLLctNNN2XdunX5p3/6p5x11lmZOXPmcMwGADBog74s9eijj+bC\n",
              "Cy9MkowePTp33HFHvvGNbwz5YAAAr8Wgz9y0tLTkC1/4QpYvX57k5d+W+oVf+IUhHwwA4LUY9Jmb\n",
              "G264ISdPnsyuXbuSJBMmTMjixYvzxBNPDPlwAACDNei4+fa3v53vfve7+ZVf+ZUkyZlnnpmXXnpp\n",
              "yAcDAHgtBn1ZauzYsf2enzx5MqdOnXrVbZubm9Pa2pr29va0trbm9ttvf21T/jfXXnttpk2blvb2\n",
              "9lxyySV59NFHh2S/AMCb36DP3EybNi0PPPBATp06le7u7vz5n/955s2b93O337hxY9rb23P48OG0\n",
              "tbWlo6Pjdf921V133ZUzzzwzSfLkk0+ms7MzP/rRjzJqlI/KAoDT3aBr4M4778zOnTvz7LPP5tJL\n",
              "L82oUaMGdEZm4sSJmTJlSnp6etLd3Z16vd539mXLli1JkvXr12fZsmVJkr1796ZWq2Xbtm1JktWr\n",
              "V2f16tVJ0hc2SXLs2LH/8XWPHz+e3t7efo/q55xpAgDe/AYdN29729uybt26HDlyJEeOHMm6dety\n",
              "xhln/K8/t2/fvhw9ejTz5s3LkiVLsmjRouzZsyebNm3K0qVL09PTk3q9nq6uriTJ9u3bM2vWrH7P\n",
              "6/V63/5uvvnmnH/++fnwhz+czZs3/9yzNmvWrMn48eP7PZ458n8He9gAwJtEraqqaiAb3n///f/j\n",
              "v3/84x9/xfeam5vT1NSUUaNG5d/+7d9y11135brrrssv/uIv5qc//WnGjHn5qthVV12VRYsW5WMf\n",
              "+1haWlrS1dWVT37yk/nUpz6VP/7jP84//uM/5rzzzsuRI0f6fuZnurq6smLFinzzm9/MW97yllfM\n",
              "cPz48Rw/frzf9+bP+Vg65y8byGEDAIPw+buubPQIA7/n5u///u+TJL29vXnssccye/bs1Gq17Nq1\n",
              "K3Pnzn3VuEn+/z03XV1dWbhwYTo6Ol6xTa1W6/u6Xq9n69at2b9/f+bOnZuqqrJ58+bMmjXrFWHz\n",
              "s+1vuOGGfO9738t73/veV/x7U1NTmpqa+r+ee3MAoFgDfpfftGlTNm3alLe+9a154okn0tXVle3b\n",
              "t+eJJ54Y0GWper2e5cuXZ+XKlZkxY0Y2bNiQJOnu7s6uXbsyZ86cvu3Wrl3bd9NxR0dHVq1a1XdJ\n",
              "6qWXXkp3d3fffh9//PH88Ic/9OGdAECS1/DbUt3d3XnPe97T9/yiiy7K/v37B/Szt9xySy644II8\n",
              "8sgj+exnP5t77703tVot9913XyZNmpQk6ezszKFDh/piZsGCBbnjjjvS2dmZ5OW4ueaaa3Ls2LGM\n",
              "GTMmZ5xxRh566KGcddZZgz0UAKBAg46bcePG5Stf+UquueaaJMlXv/rVvO1tb3vVbQ8ePNjv+Vln\n",
              "nZWjR48mSd+Nwv/dhAkT+v3dnF/91V/Nf70t6K1vfWu++c1vDnZsAOA0MeibT7785S/nr/7qr9LU\n",
              "1JSxY8fmi1/8Yt8lJgCARhv0mZvW1tY8/vjj+fGPf5wkefvb3z7kQwEAvFaDjpskeeaZZ/L000/n\n",
              "xIkTfd/72Q3BAACNNOi4ue2227J27dq0tLRk9OjRSV7+Ve7HH398yIcDABisQcfNl7/85Tz11FOZ\n",
              "MGHCcMwDAPC6DPqG4rPPPlvYAABvWIM+c7NgwYL84R/+YX77t387Y8eO7fv+tGnThnQwAIDXYtBx\n",
              "87PPmPra177W971arZYDBw4M3VQAAK/RoOPm6aefHo45AACGxIDj5ic/+UnOOOOM9Pb2vuq/jxs3\n",
              "bsiGAgB4rQYcN5dddll2796dM888M7Vard9HItRqtZw8eXJYBgQAGIwBx83u3buTpN/nPgEAvNEM\n",
              "+lfBAQDeyF7Txy+82c2Z15LP33llo8cAAIaBMzcAQFHEDQBQFHEDABRF3AAARRE3AEBRxA0AUBRx\n",
              "AwAURdwAAEURNwBAUcQNAFAUcQMAFEXcAABFETcAQFHEDQBQFHEDABRF3AAARRE3AEBRxA0AUBRx\n",
              "AwAURdwAAEURNwBAUcQNAFAUcQMAFEXcAABFETcAQFHEDQBQFHEDABRF3AAARRE3AEBRxA0AUBRx\n",
              "AwAURdwAAEURNwBAUcQNAFAUcQMAFEXcAABFqVVVVTV6iJF27UW1rLhE1wHAULvwKycbPYIzNwBA\n",
              "WcQNAFAUcQMAFEXcAABFETcAQFHEDQBQFHEDABRF3AAARRE3AEBRxA0AUBRxAwAURdwAAEURNwBA\n",
              "UcQNAFCUYY2b5ubmtLa2pr29Pa2trbn99tuHZL/XXnttLrzwwkyfPj2XXnppvvOd7wzJfgGAN78x\n",
              "w/0CGzduTHt7ew4fPpy2trZ0dHRk5syZr2ufv/Ebv5EvfelLGTNmTL7+9a9n0aJFOXjw4NAMDAC8\n",
              "qY3YZamJEydmypQp6enpSXd3d+r1eqZNm5b29vZs2bIlSbJ+/fosW7YsSbJ3797UarVs27YtSbJ6\n",
              "9eqsXr06SfKhD30oY8a83GXvf//7c/jw4Zw4ceJVX/f48ePp7e3t9zh5apgPFgBomBGLm3379uXo\n",
              "0aOZN29elixZkkWLFmXPnj3ZtGlTli5dmp6entTr9XR1dSVJtm/fnlmzZvV7Xq/XX7Hfu+++O1dc\n",
              "cUVf7Px3a9asyfjx4/s99vxo+I4TAGisYY+bxYsXZ+rUqWlra8uNN96YsWPHZvfu3Vm6dGmSZPLk\n",
              "yZk9e3Z27tyZlpaWJMmBAwfS1dWVNWvWZMeOHXn++eezd+/eV1zOeuCBB/Lggw9m/fr1P/f1V6xY\n",
              "kWPHjvV7TPul4TteAKCxRuyem66urixcuDAdHR2v2KZWq/V9Xa/Xs3Xr1uzfvz9z585NVVXZvHlz\n",
              "Zs2a1e/szMaNG/O5z30ujz76aM4+++yf+/pNTU1pamrq973RfkcMAIo1Ym/z9Xo9y5cvz8qVKzNj\n",
              "xoxs2LAhSdLd3Z1du3Zlzpw5fdutXbu27yxNR0dHVq1a1e+S1IMPPpiVK1emq6srkyZNGqlDAADe\n",
              "BEb0HMYtt9ySXbt25Z577snGjRszffr0XH311bnvvvv6IqWzszOHDh3qi5kFCxakp6cnnZ2dfftZ\n",
              "smRJXnjhhVx11VVpb29Pe3t7jh49OpKHAgC8QdWqqqoaPcRIu/aiWlZc4toUAAy1C79ystEj+AvF\n",
              "AEBZxA0AUBRxAwAURdwAAEURNwBAUcQNAFAUcQMAFEXcAABFETcAQFHEDQBQFHEDABRF3AAARRE3\n",
              "AEBRxjR6gEY469f+KBfeeWejxwAAhoEzNwBAUcQNAFAUcQMAFEXcAABFETcAQFHEDQBQFHEDABRF\n",
              "3AAARRE3AEBRxA0AUBRxAwAURdwAAEURNwBAUcQNAFAUcQMAFEXcAABFETcAQFHEDQBQFHEDABRF\n",
              "3AAARRE3AEBRxA0AUBRxAwAURdwAAEURNwBAUcQNAFAUcQMAFEXcAABFETcAQFHEDQBQFHEDABRF\n",
              "3AAARRE3AEBRxA0AUBRxAwAURdwAAEWpVVVVNXqIkfa2X7skZ36ks9FjAEBx/v3a2xs9gjM3AEBZ\n",
              "xA0AUBRxAwAURdwAAEURNwBAUcQNAFAUcQMAFEXcAABFETcAQFHEDQBQFHEDABRF3AAARRE3AEBR\n",
              "xA0AUJRhjZvm5ua0tramvb09ra2tuf32ofkY9D/7sz9La2trRo0alS1btgzJPgGAMowZ7hfYuHFj\n",
              "2tvbc/jw4bS1taWjoyMzZ858Xfus1+v5yEc+kuuuu26IpgQASjFil6UmTpyYKVOmpKenJ93d3anX\n",
              "65k2bVra29v7zr6sX78+y5YtS5Ls3bs3tVot27ZtS5KsXr06q1evTpLMnDkzLS0tA3rd48ePp7e3\n",
              "t98jJ6uhP0AA4A1hxOJm3759OXr0aObNm5clS5Zk0aJF2bNnTzZt2pSlS5emp6cn9Xo9XV1dSZLt\n",
              "27dn1qxZ/Z7X6/VBv+6aNWsyfvz4fo8Xn35mSI8NAHjjGPa4Wbx4caZOnZq2trbceOONGTt2bHbv\n",
              "3p2lS5cmSSZPnpzZs2dn586dfWdjDhw4kK6urqxZsyY7duzI888/n717976my1krVqzIsWPH+j3e\n",
              "8u5zhvQYAYA3jhG756arqysLFy5MR0fHK7ap1Wp9X9fr9WzdujX79+/P3LlzU1VVNm/enFmzZmXM\n",
              "mMGP29TUlKampv7fHF179Y0BgDe9EbssVa/Xs3z58qxcuTIzZszIhg0bkiTd3d3ZtWtX5syZ07fd\n",
              "2rVr+87SdHR0ZNWqVa/pkhQAcPoZ0b9zc8stt2TXrl255557snHjxkyfPj1XX3117rvvvkyaNClJ\n",
              "0tnZmUOHDvXFzIIFC9LT05POzs6+/dx6660599xz861vfSvXX399zj333Dz33HMjeSgAwBtUraqq\n",
              "0+5Xh972a5fkzI90/u8bAgCD8u/XDs3ftHs9/IViAKAo4gYAKIq4AQCKIm4AgKKIGwCgKOIGACiK\n",
              "uAEAiiJuAICiiBsAoCjiBgAoirgBAIoibgCAoogbAKAoYxo9QCMsu+iy3PkG+NRSAGDoOXMDABRF\n",
              "3AAARRE3AEBRxA0AUBRxAwAURdwAAEURNwBAUcQNAFAUcQMAFEXcAABFETcAQFHEDQBQFHEDABRF\n",
              "3AAARRE3AEBRxA0AUBRxAwAUZUyjBxhpx48fz9atW3Py5MmMHj260eOcVk6ePJnHH388M2fOtPYj\n",
              "yLo3jrVvDOveOMO99uedd14++clP/q/b1aqqqob81d/Aent7M378+Bw7dizjxo1r9DinFWvfGNa9\n",
              "cax9Y1j3xnmjrL3LUgBAUcQNAFAUcQMAFOW0i5umpqasWrUqTU1NjR7ltGPtG8O6N461bwzr3jhv\n",
              "lLU/7W4oBgDKdtqduQEAyiZuAICiiBsAoCjFxs3+/fvzgQ98IBdeeGEuueSS/Mu//MurbvfXf/3X\n",
              "mTx5cs4///x84hOfyEsvvTTCk5ZnIGu/Y8eOzJw5M21tbbnooovymc98JqdOnWrAtOUY6H/zSVJV\n",
              "VTo6OnLmmWeO3IAFG+jaf+9738u8efMyderUTJ06NX/7t387wpOWZSDrfurUqdx0001pa2vLtGnT\n",
              "Mn/+/HR3dzdg2nL8wR/8QZqbm1Or1fLd7373527X0PfXqlDz58+vNmzYUFVVVW3atKl63/ve94pt\n",
              "Dhw4UJ1zzjnVM888U506dapauHBhde+9947wpOUZyNrv3r27euqpp6qqqqqf/vSn1aWXXtr3M7w2\n",
              "A1n3n/nCF75QXX/99dX48eNHZrjCDWTtf/KTn1Tvfve7q507d1ZVVVUnTpyofvjDH47kmMUZyLr/\n",
              "3d/9XTVz5szqxRdfrKqqqv70T/+0WrRo0UiOWZzHHnus+sEPflCdd9551ZNPPvmq2zT6/bXIuDly\n",
              "5Ej19re/vXrppZeqqqqqU6dOVWeffXa1f//+ftt9/vOfr373d3+37/k3vvGN6tJLLx3RWUsz0LX/\n",
              "737/93+/WrVq1QhMWKbBrPv3v//96rLLLqu6u7vFzRAY6Np/6Utfqj760Y82YsQiDXTdt2zZUk2f\n",
              "Pr3q7e2tTp06VX3605+u/uiP/qgRIxfnf4qbRr+/FnlZ6gc/+EHOOeecjBnz8ueC1mq1TJo0KYcO\n",
              "Heq33aFDh3Leeef1PW9ubn7FNgzOQNf+v3r22Wfz0EMP5corrxypMYsz0HV/6aWX8olPfCLr1q3z\n",
              "gYJDZKBrv3fv3jQ1NeXKK69Me3t7Pv7xj+e5555rxMhFGOi6L1y4MPPmzcs73/nOnHPOOXn00Uez\n",
              "evXqRox8Wmn0+2uRccObR29vbxYuXJjPfOYzed/73tfocYr3uc99Lh/+8IczderURo9y2jlx4kS6\n",
              "urqybt26PPnkk5k4cWKWL1/e6LGK98QTT+T73/9+Dh8+nP/4j/9IZ2dnfu/3fq/RYzHMioybd73r\n",
              "XXnmmWdy4sSJJC/fPHno0KFMmjSp33aTJk1KT09P3/ODBw++YhsGZ6BrnyQ//vGPc/nll+eqq67K\n",
              "TTfdNNKjFmWg6/7YY4/lL//yL9Pc3JzZs2ent7c3zc3NziC8DoP5/838+fMzceLE1Gq1fOxjH8u3\n",
              "v/3tRoxchIGu+/3339938/yoUaNyzTXX5B/+4R8aMfJppdHvr0XGzTve8Y7MmDEjDzzwQJJk8+bN\n",
              "Offcc3PBBRf02+43f/M38/DDD+fZZ59NVVX54he/mI985CONGLkYA137559/Ppdffnkuv/zyrFy5\n",
              "shGjFmWg675z58709PTk4MGD2bVrV8aNG5eDBw/ml3/5lxsxdhEGuva/9Vu/le985zvp7e1Nkjzy\n",
              "yCOZPn36iM9bioGue0tLS3bs2JEXX3wxSfL1r38973nPe0Z83tNNw99fR+zunhG2b9++6v3vf381\n",
              "efLk6r3vfW+1Z8+eqqqqaunSpdXXvva1vu3Wr19ftbS0VC0tLdV1113Xd0c9r91A1v7WW2+txowZ\n",
              "U02fPr3vceuttzZy7De9gf43/zNPP/20G4qHyEDX/v77768uuuii6uKLL64uv/zy6tChQ40auQgD\n",
              "WfcXXnihuv7666spU6ZUF198cbVgwYK+39TktVm2bFk1ceLEavTo0dU73vGO6vzzz6+q6o31/uqz\n",
              "pQCAohR5WQoAOH2JGwCgKOIGACiKuAEAiiJuAICiiBsAoCjiBgAoirgBAIoibgCAoogbAKAo4gYA\n",
              "KMr/A3ZLsm8DMczxAAAAAElFTkSuQmCC\n",
              "\">\n",
              "      </div>\n",
              "      <script type=\"text/javascript\">\n",
              "        (() => {\n",
              "          const chartElement = document.getElementById(\"chart-4f0eea09-9ddc-4678-8445-365db33ee7a6\");\n",
              "          async function getCodeForChartHandler(event) {\n",
              "            const chartCodeResponse =  await google.colab.kernel.invokeFunction(\n",
              "                'getCodeForChart', [\"chart-4f0eea09-9ddc-4678-8445-365db33ee7a6\"], {});\n",
              "            const responseJson = chartCodeResponse.data['application/json'];\n",
              "            await google.colab.notebook.addCell(responseJson.code, 'code');\n",
              "          }\n",
              "          chartElement.onclick = getCodeForChartHandler;\n",
              "        })();\n",
              "      </script>\n",
              "      <style>\n",
              "        .colab-quickchart-chart-with-code  {\n",
              "            display: block;\n",
              "            float: left;\n",
              "            border: 1px solid transparent;\n",
              "        }\n",
              "\n",
              "        .colab-quickchart-chart-with-code:hover {\n",
              "            cursor: pointer;\n",
              "            border: 1px solid #aaa;\n",
              "        }\n",
              "      </style>"
            ]
          },
          "metadata": {}
        },
        {
          "output_type": "display_data",
          "data": {
            "text/plain": [
              "<google.colab._quickchart_helpers.SectionTitle at 0x7d5632ad77c0>"
            ],
            "text/html": [
              "<h4 class=\"colab-quickchart-section-title\">2-d distributions</h4>\n",
              "<style>\n",
              "  .colab-quickchart-section-title {\n",
              "      clear: both;\n",
              "  }\n",
              "</style>"
            ]
          },
          "metadata": {}
        },
        {
          "output_type": "display_data",
          "data": {
            "text/plain": [
              "from matplotlib import pyplot as plt\n",
              "_df_5.plot(kind='scatter', x='col1', y='col2', s=32, alpha=.8)\n",
              "plt.gca().spines[['top', 'right',]].set_visible(False)"
            ],
            "text/html": [
              "      <div class=\"colab-quickchart-chart-with-code\" id=\"chart-6fa6c04e-f615-4490-ad43-c4f2b6774d67\">\n",
              "        <img style=\"width: 180px;\" src=\"data:image/png;base64,iVBORw0KGgoAAAANSUhEUgAAAicAAAGkCAYAAADqnIU2AAAAOXRFWHRTb2Z0d2FyZQBNYXRwbG90\n",
              "bGliIHZlcnNpb24zLjcuMSwgaHR0cHM6Ly9tYXRwbG90bGliLm9yZy/bCgiHAAAACXBIWXMAAA9h\n",
              "AAAPYQGoP6dpAAAgA0lEQVR4nO3dfWyV9f3/8dc552qvQg8WsFActaciLaLlHkrLTZUwgrpkMOQ7\n",
              "o9ZkyQjIxphTM+2iWZYZajbTBDGZxRjiUiVGQfeHihGiDhSoJJQBccohPYXO3kjU3rD2suec6/cH\n",
              "vxHOKJObnnN9Ts/zkVyJXOey531Zvfr0uq5z1ee6risAAABD+L0eAAAA4ELECQAAMApxAgAAjEKc\n",
              "AAAAoxAnAADAKMQJAAAwCnECAACMQpwAAACjpGWcbN682esRAABAkqRlnLS0tHg9AgAASJK0jBMA\n",
              "ADB8EScAAMAoxAkAADAKcQIAAIxCnAAAAKMQJwAAwCjECQAAMApxAgAAjEKcAAAAoxAnAADAKMQJ\n",
              "AAA4r38gpjO9jvoHYp7NYHn2zgAAwBhf9ThqOBDRrmMd6huIaURWQHeVTVB1ZUj5QTuls3DmBACA\n",
              "DPdVj6NfbT+sVw6e0lknKsvv01knqoaDLdrw6mGd6XVSOg9xAgBAhms4EFG4s0fjgrbG5GYr17Y0\n",
              "Jjdb44K2wp09atjfktJ5iBMAADJY/0BMu451KMcKyAokZoEV8Mu2Anr3eHtK70EhTgAAyGC9TlR9\n",
              "AzFlW4MngW351fddTL1ONGUzEScAAGSwoG1pRFZA30Xjg77uROMakR1Q0E7dZ2iIEwAAMlhOVkB3\n",
              "lhWoPxpTNJYYKNFYXE40prtum6CcrEDKZuKjxAAAZLgHK4t1sPkbhTt7ZFsB2ZZfTvRcmJSMH6Xq\n",
              "ylBK5+HMCQAAGS4/aOv5+2epen5IwRxL0birYI6l6vkhbbl/Vsqfc8KZEwAAoPygrYeXleqhO25W\n",
              "rxNV0LZSeinnQsQJAAA4Lycr4FmU/AeXdQAAgFGIEwAAYBTiBAAAGIU4AQAARiFOAACAUYgTAABg\n",
              "FOIEAAAYhTgBAABGIU4AAIBRiBMAAGAU4gQAABglqXGyceNGFRcXy+fzqamp6fx6x3G0YcMGlZSU\n",
              "aNq0aaqurk7mGAAAII0k9Rf/rV69Wr/97W+1aNGihPVPPPGEfD6fvvjiC/l8PrW3tydzDAAAkEaS\n",
              "GidVVVUXrTt79qxeeukltba2yufzSZImTJhwya/hOI4cx0lYF4vFhnZQAABgjJTfc3Ly5EmNHTtW\n",
              "mzZt0ty5c7V48WLt2bPnktvX1tYqLy8vYWlsbEzhxAAAIJVSHifRaFQtLS269dZbdejQIT333HO6\n",
              "99571dHRMej2NTU16urqSljKy8tTPDUAAEiVpF7WGUxRUZH8fr8eeOABSdKsWbN000036ejRoyoo\n",
              "KLhoe9u2Zdt2wrpAIJCSWQEAQOql/MxJfn6+li5dqvfee0+S1NzcrObmZk2dOjXVowAAAAMlNU7W\n",
              "rVunwsJCtba2avny5Zo8ebIk6YUXXtCf//xnTZs2TStXrlR9fb0mTpyYzFEAAECaSOplnfr6+kHX\n",
              "T5o0SR988EEy3xoAAKQpnhALAACMQpwAAACjECcAAMAoxAkAADAKcQIAAIxCnAAAAKMQJwAAwCjE\n",
              "CQAAMApxAgAAjEKcAAAAoxAnAADAKMQJAAAwCnECAACMQpwAAACjECcAAMAoxAkAADAKcQIAAIxC\n",
              "nAAAAKMQJwAAwCjECQAAMApxAgAAjEKcAAAAoxAnAADAKMQJAAAwCnECAACMQpwAAACjECcAAMAo\n",
              "xAkAADAKcQIAAIxCnAAAAKMQJwAAwCjECQAAMApxAgAAjJLUONm4caOKi4vl8/nU1NR00evbtm2T\n",
              "z+fTW2+9lcwxAABAGklqnKxevVr79u1TKBS66LVIJKIXX3xRFRUVyRwBAACkmaTGSVVVlQoLCy9a\n",
              "H4/HtWbNGm3ZskW2bf/Pr+E4jrq7uxOWWCyWrJEBAIDHPLnnpK6uTgsXLtScOXO+d9va2lrl5eUl\n",
              "LI2NjSmYEgAAeCHlcXLs2DHt2LFDTz755GVtX1NTo66uroSlvLw8yVMCAACvWKl+w7179yoSiaik\n",
              "pESS1N7errVr16qtrU3r16+/aHvbti+69BMIBFIyKwAASL2UnzlZv3692traFIlEFIlEVFFRoa1b\n",
              "tw4aJgAAIPMkNU7WrVunwsJCtba2avny5Zo8eXIy3w4AAAwDSb2sU19f/73bfPjhh8kcAQAApBme\n",
              "EAsAAIxCnAAAAKMQJwAAwCjECQAAMApxAgAAjEKcAAAAoxAnAADAKMQJAAAwCnECAACMQpwAAACj\n",
              "ECcAgCHTPxDTmV5H/QMxr0dBGkvq79YBAGSGr3ocNRyIaNexDvUNxDQiK6C7yiaoujKk/KDt9XhI\n",
              "M5w5AQBck696HP1q+2G9cvCUzjpRWX6fzjpRNRxs0YZXD+tMr+P1iEgzxAkA4Jo0HIgo3NmjcUFb\n",
              "Y3KzlWtbGpObrXFBW+HOHjXsb/F6RKQZ4gQAcNX6B2LadaxDOVZAViDxR4oV8Mu2Anr3eDv3oOCK\n",
              "ECcAgKvW60TVNxBTtjX4jxPb8qvvu5h6nWiKJ0M6I04AAFctaFsakRXQd9H4oK870bhGZAcUtPn8\n",
              "BS4fcQIAuGo5WQHdWVag/mhM0VhioERjcTnRmO66bYJysgIeTYh0RMoCAK7Jg5XFOtj8jcKdPbKt\n",
              "gGzLLyd6LkxKxo9SdWXI6xGRZjhzAgC4JvlBW8/fP0vV80MK5liKxl0FcyxVzw9py/2zeM4Jrhhn\n",
              "TgAA1yw/aOvhZaV66I6b1etEFbQtLuXgqhEnAIAhk5MVIEpwzbisAwAAjEKcAAAAoxAnAADAKMQJ\n",
              "AAAwCnECAACMQpwAAACjECcAAMAoxAkAADAKcQIAAIxCnAAAAKMQJwAAwChJjZONGzequLhYPp9P\n",
              "TU1NkqT+/n6tXLlSpaWlmjFjhpYtW6ZwOJzMMQAAQBpJapysXr1a+/btUygUSli/du1aff755zpy\n",
              "5IhWrFihNWvWJHMMAACQRpIaJ1VVVSosLExYl5OTo7vvvls+n0+SVFFRoUgkcsmv4TiOuru7E5ZY\n",
              "LJbMsQEAgIc8v+dk8+bNWrFixSVfr62tVV5eXsLS2NiYwgkBAEAqeRonmzZtUjgcVm1t7SW3qamp\n",
              "UVdXV8JSXl6ewikBAEAqWV698bPPPqudO3dq9+7dGjly5CW3s21btm0nrAsEAskeDwAAeMSTOKmr\n",
              "q9P27du1e/dujR492osRAACAoZJ6WWfdunUqLCxUa2urli9frsmTJ6u1tVWPPvqovv32Wy1ZskQz\n",
              "Z87U/PnzkzkGAABII0k9c1JfXz/oetd1k/m2AAAgjXn+aR0AAIALEScAAMAoxAkAADAKcQIAAIxC\n",
              "nAAAAKMQJwAAwCjECQAAMApxAgAAjEKcAAAAoxAnAADAKMQJAAAwCnECAACMQpwAAACjECcAAMAo\n",
              "xAkAADAKcQIAAIxCnAAAAKMQJwAAwCjECQAAMApxAgAAjEKcAAAAoxAnAADAKMQJAAAwCnECAACM\n",
              "QpwAAACjECcAAMAoxAkAADAKcQIAAIxCnAAAAKMQJwAAwCjECQAAMApxAgAAjEKcAAAAoyQ1TjZu\n",
              "3Kji4mL5fD41NTWdX3/ixAktWLBApaWlmjdvno4fP57MMQAAQBpJapysXr1a+/btUygUSli/bt06\n",
              "rV27Vl988YUef/xx/exnP0vmGAAAII0kNU6qqqpUWFiYsK6zs1OHDh1SdXW1JOmee+7R6dOnFQ6H\n",
              "B/0ajuOou7s7YYnFYskcGwAAeCjl95ycPn1aN9xwgyzLkiT5fD4VFRXp1KlTg25fW1urvLy8hKWx\n",
              "sTGVIwMAgBQy/obYmpoadXV1JSzl5eVejwUAAJLESvUb3njjjWpra1M0GpVlWXJdV6dOnVJRUdGg\n",
              "29u2Ldu2E9YFAoFUjAoAADyQ8jMn48eP1+zZs9XQ0CBJ2rFjhwoLCzV58uRUjwIAAAyU1DhZt26d\n",
              "CgsL1draquXLl58PkPr6etXX16u0tFTPPPOMtm3blswxAABAGknqZZ36+vpB10+ZMkX79+9P5lsD\n",
              "AIA0ZfwNsQAAILMQJwAAwCjECQAAMApxAgAAjEKcAAAAoxAnAADAKMQJAAAwymXHycmTJ7VkyRJN\n",
              "mjRJjzzyiPr7+8+/VllZmZThAABA5rnsOPnFL36h1atX6/XXX9eZM2e0dOlS9fT0SFJCqAAAAFyL\n",
              "y46Tzs5O/fKXv9ScOXP017/+VT/60Y+0dOlSdXV1yefzJXNGAACQQS778fV9fX0Jf/7d736n7Ozs\n",
              "hDMoAHAt+gdi6nWiCtqWcrL47eNAprrsOJk6dap27dqlO++88/y6xx57TH6/X4899lhShgOQGb7q\n",
              "cdRwIKJdxzrUNxDTiKyA7iqboOrKkPKDttfjAUgxn+u67uVs6DiOJMm2Lz5Q/Otf/9LEiROHdrL/\n",
              "4ZFHHlFdXV3K3g9A8nzV4+hX2w8r3NmjHCugbMuv76Jx9Udjmjx+lJ6/fxaBAmSYy77nxLbtQcNE\n",
              "UkrDBMDw0nAgonBnj8YFbY3JzVaubWlMbrbGBW2FO3vUsL/F6xEBpNhlX9YZM2bMoDe+uq4rn8+n\n",
              "r7/+ekgHAzD89Q/EtOtYh3KsgKxA4v8rWQG/bCugd4+366E7buYeFCCDXHacNDU1JXEMAJmo14mq\n",
              "byCmbGvwk7i25Vffd+dukiVOgMxx2XESCoXO//W///3v87Eyc+ZMjRw5csgHAzD8BW1LI7ICOutE\n",
              "lTvIVWMnGlcwx1LQvuxDFYBh4Ir/i//kk090zz33aMKECZKkjo4O7dixg6fEArhiOVkB3VlWoFcO\n",
              "nlI0Fk+4tBONxeVEY/q/2wo5awJkmCuOk0ceeURvvPGGFi5cKOlcrPzmN7/RgQMHhnw4AMPfg5XF\n",
              "Otj8jcKdPbKtgGzLLyd6LkxKxo9SdWXo+78IgGHlin/xX19f3/kwkaQFCxbw+HoAVy0/aOv5+2ep\n",
              "en5IwRxL0birYI6l6vkhbeFjxEBGuuIzJ8FgULt379YPf/hDSdKePXuUm5s75IMByBz5QVsPLyvV\n",
              "Q3fczBNiAVx5nDz33HNatWqVAoFzB454PK6dO3cO+WAAMk9OVoAoAXDlcfLll1/q0KFD6ujokCQV\n",
              "FBSosbFxyAcDAACZ6YrvOXnqqac0btw4lZWVqaysTPn5+XrqqaeSMRsAAMhAVxwn/83n8ykWiw3F\n",
              "LAAAAFceJ6NGjdInn3xy/s8ff/yxRo0aNaRDAQCAzHXF95z86U9/0k9+8hPdcsstkqQTJ07ozTff\n",
              "HPLBAABAZrriOKmsrNRnn32m/fv3Szr3nJPRo0cP9VwAACBDXdUvrBgzZozuvvvuoZ4FAADg2m+I\n",
              "BQAAGErECQAAMApxAgAAjEKcAAAAo3gWJ++8845mz56tmTNnqqysTC+//LJXowAAAINc1ad1rpXr\n",
              "uqqurtaHH36o6dOnKxKJ6JZbbtGqVat4oBsAABnOkziRzj32/ttvv5UkdXd36/rrr5dt2xdt5ziO\n",
              "HMdJWMfj8gEAGL48iROfz6fXXntNq1atUm5urr755hvt3LlT2dnZF21bW1urP/zhDwnrKioqUjUq\n",
              "AABIMU/uOYlGo3r66ae1c+dOtbS0aM+ePXrwwQd15syZi7atqalRV1dXwlJeXu7B1AAAIBU8iZOm\n",
              "piZ9+eWXqqqqkiTNmzdPhYWFOnz48EXb2rat6667LmEJBAKpHhkAAKSIJ3Fy4403qq2tTZ999pkk\n",
              "KRwO6+TJk5oyZYoX4wAAAIN4cs9JQUGBtm7dqp/+9Kfy+/2Kx+N6/vnnVVRU5MU4AADAIJ59Wue+\n",
              "++7Tfffd59XbAwAAQ/GEWAAAYBTiBAAAGIU4AQAARiFOAACAUYgTAABgFOIEAAAYhTgBAABGIU4A\n",
              "AIBRiBMAAGAU4gQAABiFOAEAAEYhTgAAgFGIEwAAYBTiBAAAGIU4AQAARiFOAACAUYgTAABgFOIE\n",
              "AAAYhTgBAABGIU4AAIBRiBMAAGAU4gQAABiFOAEAAEYhTgAAgFGIEwAAYBTiBAAAGIU4AQAARiFO\n",
              "AACAUYgTAABgFOIEAAAYhTgBAABGIU4AAIBRiBMAAGAUz+LEcRxt2LBBJSUlmjZtmqqrq70aBQAA\n",
              "GMTy6o2feOIJ+Xw+ffHFF/L5fGpvb/dqFAAAYBBP4uTs2bN66aWX1NraKp/PJ0maMGHCoNs6jiPH\n",
              "cRLWxWKxpM8IAAC84cllnZMnT2rs2LHatGmT5s6dq8WLF2vPnj2DbltbW6u8vLyEpbGxMcUTAwCA\n",
              "VPEkTqLRqFpaWnTrrbfq0KFDeu6553Tvvfeqo6Pjom1ramrU1dWVsJSXl3swNQAASAVPLusUFRXJ\n",
              "7/frgQcekCTNmjVLN910k44ePaqCgoKEbW3blm3bCesCgUDKZgUAAKnlyZmT/Px8LV26VO+9954k\n",
              "qbm5Wc3NzZo6daoX4wAAAIN49mmdF154QT//+c/1+OOPy+/3q76+XhMnTvRqHAAAYAjP4mTSpEn6\n",
              "4IMPvHp7AABgKJ4QCwAAjEKcAAAAoxAnAADAKMQJAAAwCnECAACMQpwAAACjECcAAMAoxAkAADAK\n",
              "cQIAAIxCnAAAAKMQJxhW+gdiOtPrqH8g5vUoAICr5Nnv1gGG0lc9jhoORLTrWIf6BmIakRXQXWUT\n",
              "VF0ZUn7Q9no8AMAV4MwJ0t5XPY5+tf2wXjl4SmedqCy/T2edqBoOtmjDq4d1ptfxekQAwBUgTpD2\n",
              "Gg5EFO7s0bigrTG52cq1LY3Jzda4oK1wZ48a9rd4PSIA4AoQJ0hr/QMx7TrWoRwrICuQ+K+zFfDL\n",
              "tgJ693g796AAQBohTpDWep2o+gZiyrYG/1fZtvzq+y6mXiea4skAAFeLOEFaC9qWRmQF9F00Pujr\n",
              "TjSuEdkBBW3u/QaAdEGcIK3lZAV0Z1mB+qMxRWOJgRKNxeVEY7rrtgnKyQp4NCEA4Erxv5NIew9W\n",
              "Futg8zcKd/bItgKyLb+c6LkwKRk/StWVIa9HBABcAc6cIO3lB209f/8sVc8PKZhjKRp3FcyxVD0/\n",
              "pC33z+I5JwCQZjhzgmEhP2jr4WWleuiOm9XrRBW0LS7lAECaIk4wrORkBYgSAEhzXNYBAABGIU4A\n",
              "AIBRiBMAAGAU4gQAABiFOAEAAEYhTgAAgFGIEwAAYBTiBAAAGIU4AQAARiFOAACAUYgTAABgFM/j\n",
              "ZNu2bfL5fHrrrbe8HgUAABjA0ziJRCJ68cUXVVFR4eUYAADAIJ7FSTwe15o1a7RlyxbZtn3J7RzH\n",
              "UXd3d8ISi8VSOCkAAEglz+Kkrq5OCxcu1Jw5c/7ndrW1tcrLy0tYGhsbUzQlAABINU/i5NixY9qx\n",
              "Y4eefPLJ7922pqZGXV1dCUt5eXkKpgQAAF6wvHjTvXv3KhKJqKSkRJLU3t6utWvXqq2tTevXr0/Y\n",
              "1rbtiy77BAKBlM0KAABSy5MzJ+vXr1dbW5sikYgikYgqKiq0devWi8IEAABkHs8/SgwAAHAhTy7r\n",
              "/LcPP/zQ6xEAAIAhOHMCAACMQpwAAACjECcAAMAoxAkAADAKcQIAAIxCnAAAAKMQJwAAwCjECQAA\n",
              "MApxAgAAjEKcAAAAoxAnAADAKMQJAAAwCnECAACMQpwAAACjECcAAMAoxAkAADAKcQIAAIxCnAAA\n",
              "AKMQJwAAwCjECQAAMApxAgAAjEKcAAAAoxAnAADAKMQJAAAwCnECAACMQpwAAACjECcAAMAoxAkA\n",
              "ADAKcQIAAIxCnAAAAKMQJwAAwCjECQAAMApxAgAAjOJJnPT392vlypUqLS3VjBkztGzZMoXDYS9G\n",
              "AQAAhvHszMnatWv1+eef68iRI1qxYoXWrFnj1SgAAMAgnsRJTk6O7r77bvl8PklSRUWFIpHIoNs6\n",
              "jqPu7u6EJRaLpXBaAACQSkbcc7J582atWLFi0Ndqa2uVl5eXsDQ2NqZ4QgAAkCqex8mmTZsUDodV\n",
              "W1s76Os1NTXq6upKWMrLy1M8JQAASBXLyzd/9tlntXPnTu3evVsjR44cdBvbtmXbdsK6QCCQivEA\n",
              "AIAHPIuTuro6bd++Xbt379bo0aO9GgMAABjGkzhpbW3Vo48+qkmTJmnJkiWSzp0hOXjwoBfjAAAA\n",
              "g3gSJ4WFhXJd14u3BgAAhvP8hlgAAIALEScAAMAoxAkAADAKcQIAAIxCnAAAAKMQJwAAwCjECQAA\n",
              "MApxAgAAjEKcAAAAoxAnAADAKMTJBfoHYjrT66h/IOb1KAAAZCzPfiuxSb7qcdRwIKJdxzrUNxDT\n",
              "iKyA7iqboOrKkPKDttfjAQCQUTL+zMlXPY5+tf2wXjl4SmedqCy/T2edqBoOtmjDq4d1ptfxekQA\n",
              "ADJKxsdJw4GIwp09Ghe0NSY3W7m2pTG52RoXtBXu7FHD/havRwQAIKNkdJz0D8S061iHcqyArEDi\n",
              "Pwor4JdtBfTu8XbuQQEAIIUyOk56naj6BmLKtgb/x2BbfvV9F1OvE03xZAAAZK6MjpOgbWlEVkDf\n",
              "ReODvu5E4xqRHVDQ5r5hAABSJaPjJCcroDvLCtQfjSkaSwyUaCwuJxrTXbdNUE5WwKMJAQDIPBl/\n",
              "SuDBymIdbP5G4c4e2VZAtuWXEz0XJiXjR6m6MuT1iAAAZJSMPnMiSflBW8/fP0vV80MK5liKxl0F\n",
              "cyxVzw9py/2zeM4JAAAplvFnTqRzgfLwslI9dMfN6nWiCtoWl3IAAPAIcXKBnKwAUQIAgMcy/rIO\n",
              "AAAwC3ECAACMQpwAAACjECcAAMAoxAkAADAKcQIAAIxCnAAAAKMQJwAAwCjECQAAMApxAgAAjOJz\n",
              "Xdf1eogrtWrVKhUXFw/5143FYmpsbFR5ebkCgeH3GPvhvn/S8N9H9i/9Dfd9ZP/SXzL3MRQK6de/\n",
              "/vX3bpeWcZIs3d3dysvLU1dXl6677jqvxxlyw33/pOG/j+xf+hvu+8j+pT8T9pHLOgAAwCjECQAA\n",
              "MApxAgAAjEKcXMC2bf3+97+Xbdtej5IUw33/pOG/j+xf+hvu+8j+pT8T9pEbYgEAgFE4cwIAAIxC\n",
              "nAAAAKMQJwAAwCjEyf934sQJLViwQKWlpZo3b56OHz/u9UhDpr+/XytXrlRpaalmzJihZcuWKRwO\n",
              "ez1W0mzbtk0+n09vvfWW16MMKcdxtGHDBpWUlGjatGmqrq72eqQh9c4772j27NmaOXOmysrK9PLL\n",
              "L3s90jXbuHGjiouL5fP51NTUdH79cDneDLZ/w+l4c6nv338Mh2PNpfbR8+ONC9d1XXfJkiXutm3b\n",
              "XNd13ddff92dO3eutwMNob6+Pvftt9924/G467quu2XLFvf222/3dqgkaW5udisrK92Kigr3zTff\n",
              "9HqcIfXwww+7GzZsOP99bGtr83iioROPx90xY8a4R44ccV333PfRtm23u7vb48muzUcffeSePn3a\n",
              "DYVC7uHDh8+vHy7Hm8H2bzgdby71/XPd4XOsudQ+en28IU5c1+3o6HBHjRrlDgwMuK577kBZUFDg\n",
              "njhxwuPJkuPTTz91Q6GQ12MMuVgs5i5dutQ9dOiQe/vtt6f1AeO/9fb2uqNGjXK7urq8HiUp4vG4\n",
              "O3bsWPejjz5yXdd1jxw54v7gBz9wHcfxeLKhceGBfzgebwb74f0fw+F489/7NxyPNRfuownHGy7r\n",
              "SDp9+rRuuOEGWZYlSfL5fCoqKtKpU6c8niw5Nm/erBUrVng9xpCrq6vTwoULNWfOHK9HGXInT57U\n",
              "2LFjtWnTJs2dO1eLFy/Wnj17vB5ryPh8Pr322mtatWqVQqGQFi1apJdfflnZ2dlejzbkON6kv+F8\n",
              "rJHMON5YKX03eG7Tpk0Kh8PD6gebJB07dkw7duzQ3//+d69HSYpoNKqWlhbdeuuteuaZZ3T48GEt\n",
              "W7ZMx48fV0FBgdfjXbNoNKqnn35aO3fuVFVVlT799FP9+Mc/1tGjR5Wfn+/1eLhKw/F4M9yPNZIZ\n",
              "xxvOnEi68cYb1dbWpmg0KklyXVenTp1SUVGRx5MNrWeffVY7d+7Uu+++q5EjR3o9zpDau3evIpGI\n",
              "SkpKVFxcrAMHDmjt2rX6y1/+4vVoQ6KoqEh+v18PPPCAJGnWrFm66aabdPToUY8nGxpNTU368ssv\n",
              "VVVVJUmaN2+eCgsLdfjwYY8nG3ocb9LbcD/WSGYcb4gTSePHj9fs2bPV0NAgSdqxY4cKCws1efJk\n",
              "jycbOnV1ddq+fbvef/99jR492utxhtz69evV1tamSCSiSCSiiooKbd26VevXr/d6tCGRn5+vpUuX\n",
              "6r333pMkNTc3q7m5WVOnTvV4sqHxnx/Yn332mSQpHA7r5MmTmjJliseTDT2ON+ltuB9rJEOON57d\n",
              "7WKYf/7zn25FRYVbUlLizpkzx/3HP/7h9UhD5vTp064kd9KkSe6MGTPcGTNmuOXl5V6PlVTD5Sa1\n",
              "C508edK944473LKyMnf69OnuG2+84fVIQ+rVV189v29lZWXuK6+84vVI12zt2rXuxIkT3UAg4I4f\n",
              "P969+eabXdcdPsebwfZvOB1vLvX9u1C6H2sutY9eH2/43ToAAMAoXNYBAABGIU4AAIBRiBMAAGAU\n",
              "4gSAcSKRSMKnPL7vd5wAGF6IEwDGW716tfbt26dQKOT1KABSgDgBkBL79+/XokWLNGPGDE2fPl1/\n",
              "+9vfdOjQIS1YsEDTp09XeXm5Pv7440H/3qqqKhUWFqZ4YgBe4fH1AJLu66+/1sqVK/XGG29o8eLF\n",
              "isfjOnPmjObOnasXX3xRy5cv1759+3TPPfcoHA57PS4Aj3HmBEDS7d+/X1OmTNHixYslSX6/Xx0d\n",
              "HfL7/Vq+fLkkadGiRSooKOCeEgDECQBz+Hw+r0cAYADiBEDSLViwQCdOnNDevXslSfF4XAUFBYrH\n",
              "43r//fclSZ988ona29s1c+ZMDycFYAIeXw8gJQ4cOKBHH31UPT098vv9+uMf/6gbbrhBGzduVG9v\n",
              "r3JyclRXV6dFixYpEolo5syZ+vbbbyVJ69at09tvv6329nZdf/31GjVqFPemAMMYcQIAAIzCZR0A\n",
              "AGAU4gQAABiFOAEAAEYhTgAAgFGIEwAAYBTiBAAAGIU4AQAARiFOAACAUYgTAABgFOIEAAAY5f8B\n",
              "M+YgZp505gYAAAAASUVORK5CYII=\n",
              "\">\n",
              "      </div>\n",
              "      <script type=\"text/javascript\">\n",
              "        (() => {\n",
              "          const chartElement = document.getElementById(\"chart-6fa6c04e-f615-4490-ad43-c4f2b6774d67\");\n",
              "          async function getCodeForChartHandler(event) {\n",
              "            const chartCodeResponse =  await google.colab.kernel.invokeFunction(\n",
              "                'getCodeForChart', [\"chart-6fa6c04e-f615-4490-ad43-c4f2b6774d67\"], {});\n",
              "            const responseJson = chartCodeResponse.data['application/json'];\n",
              "            await google.colab.notebook.addCell(responseJson.code, 'code');\n",
              "          }\n",
              "          chartElement.onclick = getCodeForChartHandler;\n",
              "        })();\n",
              "      </script>\n",
              "      <style>\n",
              "        .colab-quickchart-chart-with-code  {\n",
              "            display: block;\n",
              "            float: left;\n",
              "            border: 1px solid transparent;\n",
              "        }\n",
              "\n",
              "        .colab-quickchart-chart-with-code:hover {\n",
              "            cursor: pointer;\n",
              "            border: 1px solid #aaa;\n",
              "        }\n",
              "      </style>"
            ]
          },
          "metadata": {}
        },
        {
          "output_type": "display_data",
          "data": {
            "text/plain": [
              "from matplotlib import pyplot as plt\n",
              "_df_6.plot(kind='scatter', x='col2', y='col3', s=32, alpha=.8)\n",
              "plt.gca().spines[['top', 'right',]].set_visible(False)"
            ],
            "text/html": [
              "      <div class=\"colab-quickchart-chart-with-code\" id=\"chart-03507fbe-378e-4761-b4cf-b99241427070\">\n",
              "        <img style=\"width: 180px;\" src=\"data:image/png;base64,iVBORw0KGgoAAAANSUhEUgAAAicAAAGkCAYAAADqnIU2AAAAOXRFWHRTb2Z0d2FyZQBNYXRwbG90\n",
              "bGliIHZlcnNpb24zLjcuMSwgaHR0cHM6Ly9tYXRwbG90bGliLm9yZy/bCgiHAAAACXBIWXMAAA9h\n",
              "AAAPYQGoP6dpAAAhQElEQVR4nO3df2xV9f3H8dfpve0p0FLQQjGUtiIFf5TfUFt+dBJHmCwZDJhO\n",
              "LYnJSBkJqw6XaRPNZuao2dc0AUwmGMNIqsQI1SVTZELmBgp0JC0CYWoJt1BpCwTpr7WH3nvP9w9i\n",
              "47WXCdJ7z6e3z0dyEjn3lPs+FA/PnnPuvZbruq4AAAAMkeT1AAAAAN9EnAAAAKMQJwAAwCjECQAA\n",
              "MApxAgAAjEKcAAAAoxAnAADAKMQJAAAwyqCMk02bNnk9AgAAiJFBGSeNjY1ejwAAAGJkUMYJAABI\n",
              "XMQJAAAwCnECAACMQpwAAACjECcAAMAoxAkAADAKcQIAAIxCnAAAAKMQJwAAwCjECQAAMApxAgAA\n",
              "+vT0hnSp01FPb8izGfyePTMAADDGxQ5H1YcD+uBEq7p7QxqW7NNDBeNUWpyrzDQ7rrPE9MxJeXm5\n",
              "8vLyZFmW6uvr+9a///77mjVrlmbMmKGCggLt2LEjlmMAAID/4WKHo1/trNMbR86qywnKn2Spywmq\n",
              "+kij1r9Zp0udTlzniWmcrFq1SgcPHlRubm7fOtd1VVpaqr/85S+qr6/X3/72N61du1YdHR2xHAUA\n",
              "AFxH9eGAGi50aEyardEjUjTC9mv0iBSNSbPVcKFD1Yca4zpPTC/rlJSURF1vWZauXLkiSWpvb9ft\n",
              "t98u245+yshxHDlOZLGFQt5dBwMAIJH09Ib0wYlWpfp98vsiz1n4fUmy/T7tOdmiXz5wl1KTfXGZ\n",
              "Ke73nFiWpbfeeksrVqzQiBEj9NVXX6mmpkYpKSlRt6+srNQLL7wQsa6oqCgeowIAkPA6naC6e0NK\n",
              "8Ue/mGL7k9R9NaROJxi3OIn7q3WCwaBefPFF1dTUqLGxUfv379fq1at16dKlqNtXVFSora0tYiks\n",
              "LIzz1AAAJKY0269hyT5dDYajPu4EwxqW4lOaHb/zGXGPk/r6ep0/f77vks/cuXOVnZ2turq6qNvb\n",
              "tq2RI0dGLD5ffMoNAIBEl5rs048KstQTDCkYigyUYCgsJxjSQ/eNi9tZE8mDOJkwYYKam5t16tQp\n",
              "SVJDQ4NOnz6tKVOmxHsUAAAgaXVxniaNTdfFTkeXu66qywnqctdVXex0lD82XaXFud/9mwygmJ6j\n",
              "Wbt2rd577z21tLRoyZIlSk9PV0NDg7Zt26aHH35YSUlJCofDeuWVV5STkxPLUQAAwHVkptl65bGZ\n",
              "qj7UqD0nW9R9NaS0VL9+dl+2J+9zYrmu68b1GQfAhg0bVFVV5fUYAAAknJ7eaze/ptn+uF7K+Sbe\n",
              "IRYAAPRJTfZ5FiVf47N1AACAUYgTAABgFOIEAAAYhTgBAABGIU4AAIBRiBMAAGAU4gQAABiFOAEA\n",
              "AEYhTgAAgFGIEwAAYBTiBAAAGIU4AQAARiFOAACAUYgTAABgFOIEAAAYhTgBAABGIU4AAIBRiBMA\n",
              "AGAU4gQAABiFOAEAAEYhTgAAgFGIEwAAYBTiBAAAGIU4AQAARiFOAACAUYgTAABgFOIEAAAYhTgB\n",
              "AABGIU4AAIBRiBMAAGAU4gQAABiFOAEAAEaJaZyUl5crLy9PlmWpvr6+b73jOFq/fr3y8/M1depU\n",
              "lZaWxnIMAAAwiPhj+ZuvWrVKv/3tb7VgwYKI9c8++6wsy9Lnn38uy7LU0tISyzEAAMAgEtM4KSkp\n",
              "6beuq6tLr7/+upqammRZliRp3Lhx1/09HMeR4zgR60Kh0MAOCgAAjBH3e05Onz6t2267TRs3btSc\n",
              "OXO0cOFC7d+//7rbV1ZWKiMjI2Kpra2N48QAACCe4h4nwWBQjY2Nuvfee3X06FFt3rxZjzzyiFpb\n",
              "W6NuX1FRoba2toilsLAwzlMDAIB4iellnWhycnKUlJSkxx9/XJI0c+ZM3XnnnTp+/LiysrL6bW/b\n",
              "tmzbjljn8/niMisAAIi/uJ85yczM1IMPPqi9e/dKks6cOaMzZ87onnvuifcoAADAQDGNk7Vr1yo7\n",
              "O1tNTU1asmSJJk2aJEl69dVX9X//93+aOnWqli9frq1bt2r8+PGxHAUAAAwSMb2ss3Xr1qjrJ06c\n",
              "qH/84x+xfGoAADBI8Q6xAADAKMQJAAAwCnECAACMQpwAAACjECcAAMAoxAkAADAKcQIAAIxCnAAA\n",
              "AKMQJwAAwCjECQAAMApxAgAAjEKcAAAAoxAnAADAKMQJAAAwCnECAACMQpwAAACjECcAAMAoxAkA\n",
              "ADAKcQIAAIxCnAAAAKMQJwAAwCjECQAAMApxAgAAjEKcAAAAoxAnAADAKMQJAAAwCnECAACMQpwA\n",
              "AACjECcAAMAoxAkAADAKcQIAAIxCnAAABkxPb0iXOh319Ia8HgWDmN/rAQAAg9/FDkfVhwP64ESr\n",
              "untDGpbs00MF41RanKvMNNvr8TDIxPTMSXl5ufLy8mRZlurr6/s9vn37dlmWpXfffTeWYwAAYuhi\n",
              "h6Nf7azTG0fOqssJyp9kqcsJqvpIo9a/WadLnY7XI2KQiWmcrFq1SgcPHlRubm6/xwKBgF577TUV\n",
              "FRXFcgQAQIxVHw6o4UKHxqTZGj0iRSNsv0aPSNGYNFsNFzpUfajR6xExyMQ0TkpKSpSdnd1vfTgc\n",
              "1po1a7RlyxbZ9v8+3ec4jtrb2yOWUIhrmQBggp7ekD440apUv09+X+Q/KX5fkmy/T3tOtnAPCm6K\n",
              "JzfEVlVVaf78+Zo9e/Z3bltZWamMjIyIpba2Ng5TAgC+S6cTVHdvSCn+6P+c2P4kdV8NqdMJxnky\n",
              "DGZxj5MTJ05o9+7deu65525o+4qKCrW1tUUshYWFMZ4SAHAj0my/hiX7dDUYjvq4EwxrWIpPaTav\n",
              "v8CNi/vflgMHDigQCCg/P1+S1NLSorKyMjU3N2vdunX9trdtu9+lH5/PF5dZAQD/W2qyTz8qyNIb\n",
              "R84qGApHXNoJhsJygiH97L5spSZz3MaNi/uZk3Xr1qm5uVmBQECBQEBFRUXatm1b1DABAJhvdXGe\n",
              "Jo1N18VOR5e7rqrLCepy11Vd7HSUPzZdpcX9XxQB/C8xjZO1a9cqOztbTU1NWrJkiSZNmhTLpwMA\n",
              "eCAzzdYrj81U6f25Skv1Kxh2lZbqV+n9udry2Eze5wQ3zXJd1/V6iJu1YcMGVVVVeT0GAOBbenqv\n",
              "3fyaZvu5lIPvjTuUAAADJjXZR5TglvHZOgAAwCjECQAAMApxAgAAjEKcAAAAoxAnAADAKMQJAAAw\n",
              "CnECAACMQpwAAACjECcAAMAoxAkAADAKcQIAAIxCnAAAAKMQJwAAwCjECQAAMApxAgAAjEKcAAAA\n",
              "oxAnAADAKMQJAAAwCnECAACMQpwAAACjECcAAMAoxAkAADAKcQIAAIxCnAAAAKMQJwAAwCjECQAA\n",
              "MApxAgAAjEKcAAAAoxAnAADAKMQJAAAwCnECAACMQpwAAACjxDROysvLlZeXJ8uyVF9fL0nq6enR\n",
              "8uXLNXnyZE2fPl2LFy9WQ0NDLMcAAACDSEzjZNWqVTp48KByc3Mj1peVlemzzz7TsWPHtGzZMq1Z\n",
              "syaWYwAAgEEkpnFSUlKi7OzsiHWpqalaunSpLMuSJBUVFSkQCFz393AcR+3t7RFLKBSK5dgAAMBD\n",
              "nt9zsmnTJi1btuy6j1dWViojIyNiqa2tjeOEAAAgnjyNk40bN6qhoUGVlZXX3aaiokJtbW0RS2Fh\n",
              "YRynBAAA8eT36olffvll1dTUaN++fRo+fPh1t7NtW7ZtR6zz+XyxHg8AAHjEkzipqqrSzp07tW/f\n",
              "Po0aNcqLEQAAgKFielln7dq1ys7OVlNTk5YsWaJJkyapqalJTz/9tK5cuaJFixZpxowZuv/++2M5\n",
              "BgAAGERieuZk69atUde7rhvLpwUAAIOY56/WAQAA+CbiBAAAGIU4AQAARiFOAACAUYgTAABgFOIE\n",
              "AAAYhTgBAABGIU4AAIBRiBMAAGAU4gQAABiFOAEAAEYhTgAAgFGIEwAAYBTiBAAAGIU4AQAARiFO\n",
              "AACAUYgTAABgFOIEAAAYhTgBAABGIU4AAIBRiBMAAGAU4gQAABiFOAEAAEYhTgAAgFGIEwAAYBTi\n",
              "BAAAGIU4AQAARrmlOPnqq68Gag4AAABJNxEn9fX1mjFjhmbNmqWTJ0/qxz/+scaPH6+cnBx9+umn\n",
              "sZwRAAAMITccJ08++aR+//vfq7y8XEuXLtXPf/5z/fe//9XmzZv1m9/8JpYzAgCAIeSG46S9vV3L\n",
              "ly/XE088Idd1tXr1aknS8uXLdeHChZgNCAAAhpYbjhPXdfv+e9GiRdd9DAC+r57ekC51OurpDXk9\n",
              "CgAP+W90w6ysLLW3t2vkyJHasWNH3/rm5malpqbGZDgAQ8PFDkfVhwP64ESruntDGpbs00MF41Ra\n",
              "nKvMNNvr8QDE2Q2fOdm7d69GjhzZb/3w4cP19ttvR/2a8vJy5eXlybIs1dfX963/4osvNG/ePE2e\n",
              "PFlz587VyZMnb35yAAnhYoejX+2s0xtHzqrLCcqfZKnLCar6SKPWv1mnS52O1yMCiLNbfp+TjIwM\n",
              "5eTkRH1s1apVOnjwoHJzcyPWr127VmVlZfr888/1zDPP6IknnrjVMQAMUtWHA2q40KExabZGj0jR\n",
              "CNuv0SNSNCbNVsOFDlUfavR6RABxdsOXdUaPHi3Lsvqtd11XlmXp8uXL/R4rKSnpt+7ChQs6evSo\n",
              "/v73v0uSVq5cqfXr16uhoUGTJk3qt73jOHKcyJ+cQiGuRwOJoKc3pA9OtCrV75PfF/mzkt+XJNvv\n",
              "056TLfrlA3cpNdnn0ZQA4u2G4+Sbl2Vuxblz53THHXfI77/21JZlKScnR2fPno0aJ5WVlXrhhRci\n",
              "1hUVFQ3ILAC81ekE1d0bUoo/+klc25+k7qshdTpB4gQYQm74sk5ubm7fMmbMGH355Zf68ssvNWbM\n",
              "mH6XbQZSRUWF2traIpbCwsKYPR+A+Emz/RqW7NPVYDjq404wrGEpPqXZN/xzFIAEcNP/x3/yySda\n",
              "uXKlxo0bJ0lqbW3V7t27VVxcfENfP2HCBDU3NysYDMrv98t1XZ09e/a6963Yti3bjrxb3+fjJygg\n",
              "EaQm+/Sjgiy9ceSsgqFwxKWdYCgsJxjSz+7L5qwJMMTc9A2xGzZs0K5du1RXV6e6ujrt2rVLv/71\n",
              "r2/468eOHatZs2apurpakrR7925lZ2dHvaQDIPGtLs7TpLHputjp6HLXVXU5QV3uuqqLnY7yx6ar\n",
              "tDh2Z2YBmOmm46S7u1vz58/v+/W8efPU09MTddu1a9cqOztbTU1NWrJkSV+AbN26VVu3btXkyZP1\n",
              "0ksvafv27d9zfACDXWaarVcem6nS+3OVlupXMOwqLdWv0vtzteWxmbzPCTAE3fRlnbS0NO3bt08/\n",
              "/OEPJUn79+/XiBEjom67devWqOunTJmiQ4cO3exTA0hQmWm2nlo8Wb984C51OkGl2X4u5QBD2E3H\n",
              "yebNm7VixYq++z7C4bBqamoGfDAAQ09qso8oAXDzcXL+/HkdPXpUra2tkq69rX1tbe2ADwYAAIam\n",
              "m77n5Pnnn9eYMWNUUFCggoICZWZm6vnnn4/FbAAAYAi65bevtyyLd2wFAAAD5qbjJD09XZ988knf\n",
              "rz/++GOlp6cP6FAAAGDouul7Tv70pz/ppz/9qe6++25J1z5h+J133hnwwQAAwNB003FSXFysU6dO\n",
              "9b0UeN68eRo1atRAzwUAAIao7/WBFaNHj9bSpUsHehYAAIBbvyEWAABgIBEnAADAKMQJAAAwCnEC\n",
              "AACMQpwAAACjECcAAMAoxAkAADAKcQIAAIxCnAAAAKMQJwAAwCjECQAAMApxAgAAjEKcAAAAoxAn\n",
              "AADAKMQJAAAwCnECAACMQpwAAACjECcAAMAoxAkAADAKcQIAAIxCnAAAAKMQJwAAwCjECQAAMApx\n",
              "AgAAjEKcAAAAo3gWJ++//75mzZqlGTNmqKCgQDt27PBqFAAAYBC/F0/quq5KS0v10Ucfadq0aQoE\n",
              "Arr77ru1YsUKpaenezESAAAwhCdxIkmWZenKlSuSpPb2dt1+++2ybbvfdo7jyHGciHWhUCgeIwIA\n",
              "AA94EieWZemtt97SihUrNGLECH311VeqqalRSkpKv20rKyv1wgsvRKwrKiqK16gAACDOPLnnJBgM\n",
              "6sUXX1RNTY0aGxu1f/9+rV69WpcuXeq3bUVFhdra2iKWwsJCD6YGAADx4Emc1NfX6/z58yopKZEk\n",
              "zZ07V9nZ2aqrq+u3rW3bGjlyZMTi8/niPTIAAIgTT+JkwoQJam5u1qlTpyRJDQ0NOn36tKZMmeLF\n",
              "OAAAwCCe3HOSlZWlbdu26eGHH1ZSUpLC4bBeeeUV5eTkeDEOAAAwiGev1nn00Uf16KOPevX0AADA\n",
              "ULxDLAAAMApxAgAAjEKcAAAAoxAnAADAKMQJAAAwCnECAACMQpwAAACjECcAAMAoxAkAADAKcQIA\n",
              "AIxCnAAAAKMQJwAAwCjECQAAMApxAgAAjEKcAAAAoxAnAADAKMQJAAAwCnECAACMQpwAAACjECcA\n",
              "AMAoxAkAADAKcQIAAIxCnAAAAKMQJwAAwCjECQAAMApxAgAAjEKcAAAAoxAnAADAKMQJAAAwCnEC\n",
              "AACMQpwAAACjECdIKD29IV3qdNTTG/J6FADA9+T3egBgIFzscFR9OKAPTrSquzekYck+PVQwTqXF\n",
              "ucpMs70eDwBwEzw7c+I4jtavX6/8/HxNnTpVpaWlXo2CQe5ih6Nf7azTG0fOqssJyp9kqcsJqvpI\n",
              "o9a/WadLnY7XIwIAboJnZ06effZZWZalzz//XJZlqaWlxatRMMhVHw6o4UKHxqTZ8vuu9fYIWwqG\n",
              "wmq40KHqQ416avFkj6cEANwoT+Kkq6tLr7/+upqammRZliRp3LhxUbd1HEeOE/mTbyjE/QS4pqc3\n",
              "pA9OtCrV7+sLk6/5fUmy/T7tOdmiXz5wl1KTfR5NCQC4GZ5c1jl9+rRuu+02bdy4UXPmzNHChQu1\n",
              "f//+qNtWVlYqIyMjYqmtrY3zxDBVpxNUd29IKf7of5Vtf5K6r4bU6QTjPBkA4PvyJE6CwaAaGxt1\n",
              "77336ujRo9q8ebMeeeQRtba29tu2oqJCbW1tEUthYaEHU8NEabZfw5J9uhoMR33cCYY1LMWnNJt7\n",
              "vwFgsPAkTnJycpSUlKTHH39ckjRz5kzdeeedOn78eL9tbdvWyJEjIxafj9PzuCY12acfFWSpJxhS\n",
              "MBQZKMFQWE4wpIfuG8clHQAYRDyJk8zMTD344IPau3evJOnMmTM6c+aM7rnnHi/GwSC3ujhPk8am\n",
              "62Kno8tdV9XlBHW566oudjrKH5uu0uJcr0cEANwEz851v/rqq/rFL36hZ555RklJSdq6davGjx/v\n",
              "1TgYxDLTbL3y2ExVH2rUnpMt6r4aUlqqXz+7L5v3OQGAQchyXdf1eoibtWHDBlVVVXk9BgzU03vt\n",
              "5tc028+lHAAYpLhLEAklNdlHlADAIMdn6wAAAKMQJwAAwCjECQAAMApxAgAAjEKcAAAAoxAnAADA\n",
              "KMQJAAAwCnECAACMQpwAAACjECcAAMAoxAkAADAKcQIAAIxCnAAAAKMQJwAAwCjECQAAMApxAgAA\n",
              "jEKcAAAAoxAnAADAKMQJAAAwCnECAACMQpwAAACjECcAAMAoxAkAADAKcQIAAIxCnAAAAKMQJwAA\n",
              "wCjECQAAMApxAgAAjEKcAAAAoxAnAADAKMQJAAAwCnECAACM4nmcbN++XZZl6d133/V6FAAAYABP\n",
              "4yQQCOi1115TUVGRl2MAAACDeBYn4XBYa9as0ZYtW2Tb9nW3cxxH7e3tEUsoFIrjpAAAIJ48i5Oq\n",
              "qirNnz9fs2fP/p/bVVZWKiMjI2Kpra2N05QAACDePImTEydOaPfu3Xruuee+c9uKigq1tbVFLIWF\n",
              "hXGYEgAAeMHvxZMeOHBAgUBA+fn5kqSWlhaVlZWpublZ69ati9jWtu1+l318Pl/cZgUAAPHlyZmT\n",
              "devWqbm5WYFAQIFAQEVFRdq2bVu/MAEAAEOP5y8lBgAA+CZPLut820cffeT1CAAAwBCcOQEAAEYh\n",
              "TgAAgFGIEwAAYBTiBAAAGIU4AQAARiFOAACAUYgTAABgFOIEAAAYhTgBAABGIU4AAIBRiBMAAGAU\n",
              "4gQAABiFOAEAAEYhTgAAgFGIEwAAYBTiBAAAGIU4AQAARiFOAACAUYgTAABgFOIEAAAYhTgBAABG\n",
              "IU4AAIBRiBMAAGAU4gQAABiFOAEAAEYhTgAAgFGIEwAAYBTiBAAAGIU4AQAARiFOAACAUYgTAABg\n",
              "FOLkG3p6Q7rU6ainN+T1KAAADFl+rwcwwcUOR9WHA/rgRKu6e0MaluzTQwXjVFqcq8w02+vxAAAY\n",
              "Ujw5c9LT06Ply5dr8uTJmj59uhYvXqyGhgYvRtHFDke/2lmnN46cVZcTlD/JUpcTVPWRRq1/s06X\n",
              "Oh1P5gIAYKjy7LJOWVmZPvvsMx07dkzLli3TmjVrPJmj+nBADRc6NCbN1ugRKRph+zV6RIrGpNlq\n",
              "uNCh6kONnswFAMBQ5UmcpKamaunSpbIsS5JUVFSkQCAQdVvHcdTe3h6xhEIDc09IT29IH5xoVarf\n",
              "J78v8o/C70uS7fdpz8kW7kEBACCOjLghdtOmTVq2bFnUxyorK5WRkRGx1NbWDsjzdjpBdfeGlOKP\n",
              "/sdg+5PUfTWkTic4IM8HAAC+m+dxsnHjRjU0NKiysjLq4xUVFWpra4tYCgsLB+S502y/hiX7dDUY\n",
              "jvq4EwxrWIpPaTb3DQMAEC+exsnLL7+smpoa7dmzR8OHD4+6jW3bGjlyZMTi8/kG5PlTk336UUGW\n",
              "eoIhBUORgRIMheUEQ3rovnFKTR6Y5wMAAN/Ns1MCVVVV2rlzp/bt26dRo0Z5NYZWF+fpyJmv1HCh\n",
              "Q7bfJ9ufJCd4LUzyx6artDjXs9kAABiKPImTpqYmPf3005o4caIWLVok6doZkiNHjsR9lsw0W688\n",
              "NlPVhxq152SLuq+GlJbq18/uy+Z9TgAA8IAncZKdnS3Xdb146qgy02w9tXiyfvnAXep0gkqz/VzK\n",
              "AQDAI9zp+Q2pyT6iBAAAj3n+ah0AAIBvIk4AAIBRiBMAAGAU4gQAABiFOAEAAEYhTgAAgFGIEwAA\n",
              "YBTiBAAAGIU4AQAARiFOAACAUSzXpA+5uUErVqxQXl6e12PcslAopNraWhUWFsrnS7y3zU/0/ZMS\n",
              "fx/Zv8Ev0fcx0fdPSqx9zM3N1ZNPPvmd2w3KOEkU7e3tysjIUFtbm0aOHOn1OAMu0fdPSvx9ZP8G\n",
              "v0Tfx0TfP2lo7OO3cVkHAAAYhTgBAABGIU4AAIBRiBMP2bat3/3ud7Jt2+tRYiLR909K/H1k/wa/\n",
              "RN/HRN8/aWjs47dxQywAADAKZ04AAIBRiBMAAGAU4gQAABiFOPFAT0+Pli9frsmTJ2v69OlavHix\n",
              "GhoavB4rJrZv3y7LsvTuu+96PcqAcxxH69evV35+vqZOnarS0lKvRxpQ77//vmbNmqUZM2aooKBA\n",
              "O3bs8HqkW1ZeXq68vDxZlqX6+vq+9V988YXmzZunyZMna+7cuTp58qR3Q96CaPuXSMeb633/vpYI\n",
              "x5vr7WOiH2/6cRF33d3d7nvvveeGw2HXdV13y5Yt7g9+8ANvh4qBM2fOuMXFxW5RUZH7zjvveD3O\n",
              "gHvqqafc9evX930fm5ubPZ5o4ITDYXf06NHusWPHXNe99r20bdttb2/3eLJb889//tM9d+6cm5ub\n",
              "69bV1fWtX7Rokbt9+3bXdV337bffdufMmePNgLco2v4l0vHmet8/102c48319jGRjzfRcObEA6mp\n",
              "qVq6dKksy5IkFRUVKRAIeDvUAAuHw1qzZo22bNmSkC9/6+rq0uuvv64//vGPfd/HcePGeTzVwLIs\n",
              "S1euXJF07e2zb7/99kH/vSwpKVF2dnbEugsXLujo0aN9P4muXLlS586dG5RnF6LtXyIdb6Ltn5RY\n",
              "x5to+zgUjjffRpwYYNOmTVq2bJnXYwyoqqoqzZ8/X7Nnz/Z6lJg4ffq0brvtNm3cuFFz5szRwoUL\n",
              "tX//fq/HGjCWZemtt97SihUrlJubqwULFmjHjh1KSUnxerQBd+7cOd1xxx3y+/2Sru17Tk6Ozp49\n",
              "6/FkscHxZvBJ9ONNNH6vBxjqNm7cqIaGhoT6i3bixAnt3r1b//rXv7weJWaCwaAaGxt177336qWX\n",
              "XlJdXZ0WL16skydPKisry+vxblkwGNSLL76ompoalZSU6N///rd+8pOf6Pjx48rMzPR6PHxPHG8G\n",
              "p0Q/3kTDmRMPvfzyy6qpqdGePXs0fPhwr8cZMAcOHFAgEFB+fr7y8vJ0+PBhlZWV6c9//rPXow2Y\n",
              "nJwcJSUl6fHHH5ckzZw5U3feeaeOHz/u8WQDo76+XufPn1dJSYkkae7cucrOzlZdXZ3Hkw28CRMm\n",
              "qLm5WcFgUJLkuq7Onj2rnJwcjycbWBxvBq9EP95EQ5x4pKqqSjt37tSHH36oUaNGeT3OgFq3bp2a\n",
              "m5sVCAQUCARUVFSkbdu2ad26dV6PNmAyMzP14IMPau/evZKkM2fO6MyZM7rnnns8nmxgfP0P9qlT\n",
              "pyRJDQ0NOn36tKZMmeLxZANv7NixmjVrlqqrqyVJu3fvVnZ2tiZNmuTxZAOH483glujHm6i8viN3\n",
              "KDp37pwryZ04caI7ffp0d/r06W5hYaHXY8XMD37wg0F99/z1nD592n3ggQfcgoICd9q0ae6uXbu8\n",
              "HmlAvfnmm337VlBQ4L7xxhtej3TLysrK3PHjx7s+n88dO3ase9ddd7mu67r/+c9/3KKiIjc/P9+d\n",
              "PXu2++mnn3o86fcTbf8S6Xhzve/fNw3248319jHRjzffxmfrAAAAo3BZBwAAGIU4AQAARiFOAACA\n",
              "UYgTAMYJBAJ9rypJpM+GAXBjiBMAxisrK9Nnn32mY8eOadmyZVqzZo3XIwGIIeIEQFwcOnRICxYs\n",
              "0PTp0zVt2jT99a9/1dGjRzVv3jxNmzZNhYWF+vjjj/t9XSJ9NgyAG8Pb1wOIucuXL2v58uXatWuX\n",
              "Fi5cqHA4rEuXLmnOnDl67bXXtGTJEh08eFArV678zks2ifjZMAAiEScAYu7QoUOaMmWKFi5cKElK\n",
              "SkpSa2urkpKStGTJEknSggULlJWVpfr6+qifPCsl5mfDAOiPOAFgjK8v3UTz9WfD7Nu3L6E+GwZA\n",
              "f9xzAiDm5s2bpy+++EIHDhyQJIXDYWVlZSkcDuvDDz+UJH3yySdqaWnRjBkz+n19In82DID+ePt6\n",
              "AHFx+PBhPf300+ro6FBSUpL+8Ic/6I477lB5ebk6OzuVmpqqqqoqLViwQIFAQDNmzNCVK1fU1NSk\n",
              "CRMmaOLEiUpPT5ck2batI0eOeLxHAGKFOAEAAEbhsg4AADAKcQIAAIxCnAAAAKMQJwAAwCjECQAA\n",
              "MApxAgAAjEKcAAAAoxAnAADAKMQJAAAwCnECAACM8v/GnZ8sk7YJGwAAAABJRU5ErkJggg==\n",
              "\">\n",
              "      </div>\n",
              "      <script type=\"text/javascript\">\n",
              "        (() => {\n",
              "          const chartElement = document.getElementById(\"chart-03507fbe-378e-4761-b4cf-b99241427070\");\n",
              "          async function getCodeForChartHandler(event) {\n",
              "            const chartCodeResponse =  await google.colab.kernel.invokeFunction(\n",
              "                'getCodeForChart', [\"chart-03507fbe-378e-4761-b4cf-b99241427070\"], {});\n",
              "            const responseJson = chartCodeResponse.data['application/json'];\n",
              "            await google.colab.notebook.addCell(responseJson.code, 'code');\n",
              "          }\n",
              "          chartElement.onclick = getCodeForChartHandler;\n",
              "        })();\n",
              "      </script>\n",
              "      <style>\n",
              "        .colab-quickchart-chart-with-code  {\n",
              "            display: block;\n",
              "            float: left;\n",
              "            border: 1px solid transparent;\n",
              "        }\n",
              "\n",
              "        .colab-quickchart-chart-with-code:hover {\n",
              "            cursor: pointer;\n",
              "            border: 1px solid #aaa;\n",
              "        }\n",
              "      </style>"
            ]
          },
          "metadata": {}
        },
        {
          "output_type": "display_data",
          "data": {
            "text/plain": [
              "from matplotlib import pyplot as plt\n",
              "_df_7.plot(kind='scatter', x='col3', y='col4', s=32, alpha=.8)\n",
              "plt.gca().spines[['top', 'right',]].set_visible(False)"
            ],
            "text/html": [
              "      <div class=\"colab-quickchart-chart-with-code\" id=\"chart-96fe7d19-5bde-4381-8310-178fd80ca424\">\n",
              "        <img style=\"width: 180px;\" src=\"data:image/png;base64,iVBORw0KGgoAAAANSUhEUgAAAicAAAGkCAYAAADqnIU2AAAAOXRFWHRTb2Z0d2FyZQBNYXRwbG90\n",
              "bGliIHZlcnNpb24zLjcuMSwgaHR0cHM6Ly9tYXRwbG90bGliLm9yZy/bCgiHAAAACXBIWXMAAA9h\n",
              "AAAPYQGoP6dpAAAg20lEQVR4nO3dfWyV9f3/8dd1zmmvYg8iUCjG0lOUgrpyD6Xlpmoc6/QPZcA0\n",
              "at1cRkASxpwkahONcWPUbKaLQjKLI4ylatygsMXbKcENlJuRtA4Im5T0FAhtkQm9Ye1lzznX7w9+\n",
              "azhfyibQc67P6Xk+kiuRqxc978vixdPrus51LNd1XQEAABjC5/UAAAAAFyNOAACAUYgTAABgFOIE\n",
              "AAAYhTgBAABGIU4AAIBRiBMAAGAU4gQAABglJePk5Zdf9noEAACQICkZJ83NzV6PAAAAEiQl4wQA\n",
              "AAxexAkAADAKcQIAAIxCnAAAAKMQJwAAwCjECQAAMApxAgAAjEKcAAAAoxAnAADAKMQJAAAwCnEC\n",
              "AAD69PRGdabLUU9v1LMZAp69MgAAMMYXnY5q94b1/qE2dfdGNSTDr3uKxqiiNKScoJ3UWThzAgBA\n",
              "mvui09GP3qzX6/uO67wTUcBn6bwTUe2+Zq18o15nupykzkOcAACQ5mr3htV4ulOjgraGZ2cq2w5o\n",
              "eHamRgVtNZ7uVO2e5qTOQ5wAAJDGenqjev9Qm7ICfgX88VkQ8PtkB/x673BrUu9BIU4AAEhjXU5E\n",
              "3b1RZQb6TwI74FP3V1F1OZGkzUScAACQxoJ2QEMy/PoqEuv3604kpiGZfgXt5L2HhjgBACCNZWX4\n",
              "9e2iXPVEoopE4wMlEo3JiUR1zzfGKCvDn7SZeCsxAABp7tHSAu1rOqvG052yA37ZAZ+cyIUwKRw9\n",
              "VBWloaTOw5kTAADSXE7Q1vqHp6lidkjBrIAiMVfBrIAqZoe07uFpSX/OCWdOAACAcoK2nlgwQY/f\n",
              "eYu6nIiCdiCpl3IuRpwAAIA+WRl+z6LkP7isAwAAjEKcAAAAoxAnAADAKMQJAAAwCnECAACMQpwA\n",
              "AACjECcAAMAoxAkAADAKcQIAAIxCnAAAAKMQJwAAwCgJjZNVq1apoKBAlmWpoaGhb/27776r6dOn\n",
              "a+rUqSoqKtLmzZsTOQYAAEghCY2TJUuWaPfu3QqFQn3rXNdVRUWFfvvb36qhoUFvv/22li9frs7O\n",
              "zkSOAgAAUkRCP5W4rKys3/WWZencuXOSpI6ODo0cOVK2bfe7reM4chwnbl00Gh3QOQEAgDkSGif9\n",
              "sSxLb731lhYtWqTs7GydPXtWdXV1yszM7Hf7qqoqvfDCC3HrSkpKkjEqAADwQNJviI1EIlqzZo3q\n",
              "6urU3NysHTt26NFHH9WZM2f63b6yslLt7e1xS3FxcZKnBgAAyZL0OGloaNCpU6f6LvnMmjVLeXl5\n",
              "qq+v73d727Z1/fXXxy1+vz+ZIwMAgCRKepyMHTtWLS0tOnLkiCSpsbFRx44d08SJE5M9CgAAMFBC\n",
              "7zlZvny53nnnHbW2tqq8vFxDhw5VY2OjNmzYoAceeEA+n0+xWEzr169Xfn5+IkcBAAApwnJd1/V6\n",
              "iCv15JNPqrq62usxAABAAvCEWAAAYBTiBAAAGIU4AQAARiFOAACAUYgTAABgFOIEAAAYhTgBAABG\n",
              "IU4AAIBRiBMAAGAU4gQAABiFOAEAAEYhTgAAgFGIEwAAYBTiBAAAGIU4AQAARiFOAACAUYgTAABg\n",
              "FOIEAAAYhTgBAABGIU4AAIBRiBMAAGAU4gQAABiFOAEAAEYhTgAAgFGIEwAAYBTiBAAAGIU4AQAA\n",
              "RiFOAACAUYgTAABgFOIEAAAYhTgBAABGIU4AAIBRiBMAAGCUhMbJqlWrVFBQIMuy1NDQ0LfecRyt\n",
              "XLlShYWFmjRpkioqKhI5BgAASCGBRH7zJUuW6KmnntK8efPi1j/zzDOyLEuff/65LMtSa2trIscA\n",
              "AAApJKFxUlZWdsm68+fPa+PGjTp58qQsy5IkjRkz5rLfw3EcOY4Tty4ajQ7soAAAwBhJv+fk2LFj\n",
              "GjFihNauXauZM2dq/vz52rFjx2W3r6qq0rBhw+KW/fv3J3FiAACQTEmPk0gkoubmZt1+++06cOCA\n",
              "XnnlFT344INqa2vrd/vKykq1t7fHLcXFxUmeGgAAJEtCL+v0Jz8/Xz6fT4888ogkadq0aRo3bpwO\n",
              "Hjyo3NzcS7a3bVu2bcet8/v9SZkVAAAkX9LPnOTk5Ojuu+/WBx98IElqampSU1OTbrvttmSPAgAA\n",
              "DJTQOFm+fLny8vJ08uRJlZeXa/z48ZKkV199Vb/85S81adIkLVy4UDU1NbrpppsSOQoAAEgRCb2s\n",
              "U1NT0+/6m2++WTt37kzkSwMAgBTFE2IBAIBRiBMAAGAU4gQAABiFOAEAAEYhTgAAgFGIEwAAYBTi\n",
              "BAAAGIU4AQAARiFOAACAUYgTAABgFOIEADBgenqjOtPlqKc36vUoSGEJ/WwdAEB6+KLTUe3esN4/\n",
              "1Kbu3qiGZPh1T9EYVZSGlBO0vR4PKYYzJwCAa/JFp6MfvVmv1/cd13knooDP0nknotp9zVr5Rr3O\n",
              "dDlej4gUQ5wAAK5J7d6wGk93alTQ1vDsTGXbAQ3PztSooK3G052q3dPs9YhIMcQJAOCq9fRG9f6h\n",
              "NmUF/Ar44/9KCfh9sgN+vXe4lXtQcEWIEwDAVetyIurujSoz0P9fJ3bAp+6voupyIkmeDKmMOAEA\n",
              "XLWgHdCQDL++isT6/boTiWlIpl9Bm/df4OsjTgAAVy0rw69vF+WqJxJVJBofKJFoTE4kqnu+MUZZ\n",
              "GX6PJkQqImUBANfk0dIC7Ws6q8bTnbIDftkBn5zIhTApHD1UFaUhr0dEiuHMCQDgmuQEba1/eJoq\n",
              "ZocUzAooEnMVzAqoYnZI6x6exnNOcMU4cwIAuGY5QVtPLJigx++8RV1OREE7wKUcXDXiBAAwYLIy\n",
              "/EQJrhmXdQAAgFGIEwAAYBTiBAAAGIU4AQAARiFOAACAUYgTAABgFOIEAAAYhTgBAABGIU4AAIBR\n",
              "iBMAAGAU4gQAABgloXGyatUqFRQUyLIsNTQ0XPL1TZs2ybIsbd++PZFjAACAFJLQOFmyZIl2796t\n",
              "UCh0ydfC4bBee+01lZSUJHIEAACQYhIaJ2VlZcrLy7tkfSwW09KlS7Vu3TrZtv1fv4fjOOro6Ihb\n",
              "otFookYGAAAe8+Sek+rqas2dO1czZsz4n9tWVVVp2LBhccv+/fuTMCUAAPBC0uPk0KFD2rp1q559\n",
              "9tmvtX1lZaXa29vjluLi4gRPCQAAvBJI9gvu2rVL4XBYhYWFkqTW1lYtW7ZMLS0tWrFixSXb27Z9\n",
              "yaUfv9+flFkBAEDyJf3MyYoVK9TS0qJwOKxwOKySkhJt2LCh3zABAADpJ6Fxsnz5cuXl5enkyZMq\n",
              "Ly/X+PHjE/lyAABgEEjoZZ2ampr/uc3HH3+cyBEAAECK4QmxAADAKMQJAAAwCnECAACMQpwAAACj\n",
              "ECcAAMAoxAkAADAKcQIAAIxCnAAAAKMQJwAAwCjECQAAMApxAgAAjEKcAAAAoxAnAADAKMQJAAAw\n",
              "CnECAACMQpwAAACjECcAAMAoxAkAADAKcQIAAIxCnAAAAKMQJwAAwCjECQAAMApxAgAAjEKcAAAA\n",
              "oxAnAADAKMQJAAAwCnECAACMQpwAAACjECcAAMAoxAkAADAKcQIAAIxCnAAAAKMQJwAAwCgJjZNV\n",
              "q1apoKBAlmWpoaFBktTT06OFCxdqwoQJmjJlihYsWKDGxsZEjgEAAFJIQuNkyZIl2r17t0KhUNz6\n",
              "ZcuW6Z///Kc+++wz3X///Vq6dGkixwAAACkkoXFSVlamvLy8uHVZWVm69957ZVmWJKmkpEThcPiy\n",
              "38NxHHV0dMQt0Wg0kWMDAAAPeX7Pycsvv6z777//sl+vqqrSsGHD4pb9+/cncUIAAJBMnsbJ2rVr\n",
              "1djYqKqqqstuU1lZqfb29riluLg4iVMCAIBkCnj1wi+99JLq6ur00Ucf6brrrrvsdrZty7btuHV+\n",
              "vz/R4wEAAI94EifV1dV688039dFHH+mGG27wYgQAAGCohF7WWb58ufLy8nTy5EmVl5dr/PjxOnny\n",
              "pFavXq1z587prrvu0tSpUzV79uxEjgEAAFJIQs+c1NTU9Lvedd1EviwAAEhhnr9bBwAA4GLECQAA\n",
              "MApxAgAAjEKcAAAAoxAnAADAKMQJAAAwyjXFyeXeKgwAAHC1vvZzTv70pz9dsu7555/XjTfeKEm6\n",
              "7777Bm4qAACQtr52nCxcuFClpaXKzMzsW9fe3q5f/epXsiyLOAEAAAPia8fJxo0b9Zvf/EbV1dWa\n",
              "Nm2aJGncuHHauXNnwoYDAADp52vfc/KDH/xAb7zxhp566in99Kc/VTQalWVZiZwNQJrp6Y3qTJej\n",
              "nt6o16MA8NAVfbZOKBTSn//8Z1VXV2v+/PlyHCdRcwFII190OqrdG9b7h9rU3RvVkAy/7ikao4rS\n",
              "kHKCttfjAUiyK/7gP8uytHr1apWXl2v37t2JmAlAGvmi09GP3qxX4+lOZQX8ygz4dN6JqHZfs/Y2\n",
              "fan1D08jUIA0c9WfSlxUVKSioqKBnAVAGqrdG1bj6U6NCtoK+C9cac62pUg0psbTnard06wnFkzw\n",
              "eEoAyfS142T48OH93mPiuq4sy9KXX345oIMBGPx6eqN6/1CbsgL+vjD5j4DfJzvg13uHW/X4nbco\n",
              "K8Pv0ZQAku1rx0lDQ0MCxwCQjrqciLp7o8oM9H9vvh3wqfurqLqcCHECpJGvHSehUKjvn//973/3\n",
              "xcrUqVN13XXXDfhgAAa/oB3QkAy/zjsRZfdzW4kTiSmYFVDQvuor0ABS0BX/F//pp59q8eLFGjNm\n",
              "jCSpra1NW7duVWlp6YAPB2Bwy8rw69tFuXp933FForG4SzuRaExOJKrvfiOPsyZAmrniOHnyySe1\n",
              "ZcsWzZ07V9KFWPnJT36ivXv3DvhwAAa/R0sLtK/prBpPd8oO+GUHfHIiF8KkcPRQVZSG/vc3ATCo\n",
              "XPEH/3V3d/eFiSTNmTNHPT09AzoUgPSRE7S1/uFpqpgdUjAroEjMVTAroIrZIa3jbcRAWrriMyfB\n",
              "YFAfffSRvvnNb0qSduzYoezs7AEfDED6yAnaemLBBD1+5y3qciIK2gEu5QBp7Irj5JVXXtGiRYvk\n",
              "9184cMRiMdXV1Q34YADST1aGnygBcOVxcurUKR04cEBtbW2SpNzcXO3fv3/ABwMAAOnpiu85ee65\n",
              "5zRq1Ki+J8Tm5OToueeeS8RsAAAgDV1xnPxflmUpGuUTRAEAwMC44jgZOnSoPv30075ff/LJJxo6\n",
              "dOiADgUAANLXFd9z8otf/ELf+c53dOutt0qSjh49qm3btg34YAAAID1dcZyUlpbqyJEj2rNnj6QL\n",
              "zzm54YYbBnouAACQpq7qAyuGDx+ue++9d6BnAQAAuPYbYgEAAAYScQIAAIxCnAAAAKMQJwAAwCgJ\n",
              "jZNVq1apoKBAlmWpoaGhb/3Ro0c1Z84cTZgwQbNmzdLhw4cTOQYAAEghCY2TJUuWaPfu3QqFQnHr\n",
              "ly9frmXLlunzzz/X008/rcceeyyRYwAAgBSS0DgpKytTXl5e3LrTp0/rwIEDqqiokCQtXrxYJ06c\n",
              "UGNjY7/fw3EcdXR0xC08Lh8AgMEr6fecnDhxQjfeeKMCgQuPWLEsS/n5+Tp+/Hi/21dVVWnYsGFx\n",
              "C5+CDADA4GX8DbGVlZVqb2+PW4qLi70eCwAAJMhVPSH2WowdO1YtLS2KRCIKBAJyXVfHjx9Xfn5+\n",
              "v9vbti3btuPW+f3+ZIwKAAA8kPQzJ6NHj9b06dNVW1srSdq6davy8vI0fvz4ZI8CAAAMlNA4Wb58\n",
              "ufLy8nTy5EmVl5f3BUhNTY1qamo0YcIEvfjii9q0aVMixwAAACkkoZd1ampq+l0/ceLEvk81BgAA\n",
              "uJjxN8QCAID0QpwAAACjECcAAMAoxAkAADAKcQIAAIxCnAAAAKMQJwAAwCjECQAAMApxAgAAjEKc\n",
              "AAAAoxAnAADAKMQJAAAwCnECAACMQpwAAACjECcAAMAoxAkAADAKcQIAAIxCnAAAAKMQJwAAwCjE\n",
              "CQAAMApxAgAAjEKcAAAAoxAnAADAKMQJAAAwCnECAACMQpwAAACjECcAAMAoxAkAADAKcQIAAIxC\n",
              "nAAAAKMQJwAAwCjECQAAMApxAgAAjOJZnLz77ruaPn26pk6dqqKiIm3evNmrUQAAgEECXryo67qq\n",
              "qKjQxx9/rMmTJyscDuvWW2/VokWLNHToUC9GAgAAhvAkTiTJsiydO3dOktTR0aGRI0fKtu1LtnMc\n",
              "R47jxK2LRqPJGBEAAHjAkzixLEtvvfWWFi1apOzsbJ09e1Z1dXXKzMy8ZNuqqiq98MILcetKSkqS\n",
              "NSoAAEgyT+45iUQiWrNmjerq6tTc3KwdO3bo0Ucf1ZkzZy7ZtrKyUu3t7XFLcXGxB1MDAIBk8CRO\n",
              "GhoadOrUKZWVlUmSZs2apby8PNXX11+yrW3buv766+MWv9+f7JEBAECSeBInY8eOVUtLi44cOSJJ\n",
              "amxs1LFjxzRx4kQvxgEAAAbx5J6T3NxcbdiwQQ888IB8Pp9isZjWr1+v/Px8L8YBAAAG8ezdOg89\n",
              "9JAeeughr14eAAAYiifEAgAAoxAnAADAKMQJAAAwCnECAACMQpwAAACjECcAAMAoxAkAADAKcQIA\n",
              "AIxCnAAAAKMQJwAAwCjECQaVnt6oznQ56umNej0KAOAqefbZOsBA+qLTUe3esN4/1Kbu3qiGZPh1\n",
              "T9EYVZSGlBO0vR4PAHAFOHOClPdFp6MfvVmv1/cd13knooDP0nknotp9zVr5Rr3OdDlejwgAuALE\n",
              "CVJe7d6wGk93alTQ1vDsTGXbAQ3PztSooK3G052q3dPs9YgAgCtAnCCl9fRG9f6hNmUF/Ar44/84\n",
              "B/w+2QG/3jvcyj0oAJBCiBOktC4nou7eqDID/f9RtgM+dX8VVZcTSfJkAICrRZwgpQXtgIZk+PVV\n",
              "JNbv151ITEMy/Qra3PsNAKmCOEFKy8rw69tFueqJRBWJxgdKJBqTE4nqnm+MUVaG36MJAQBXiv+d\n",
              "RMp7tLRA+5rOqvF0p+yAX3bAJydyIUwKRw9VRWnI6xEBAFeAMydIeTlBW+sfnqaK2SEFswKKxFwF\n",
              "swKqmB3Suoen8ZwTAEgxnDnBoJATtPXEggl6/M5b1OVEFLQDXMoBgBRFnGBQycrwEyUAkOK4rAMA\n",
              "AIxCnAAAAKMQJwAAwCjECQAAMApxAgAAjEKcAAAAoxAnAADAKMQJAAAwCnECAACMQpwAAACjECcA\n",
              "AMAonsWJ4zhauXKlCgsLNWnSJFVUVHg1CgAAMIhnH/z3zDPPyLIsff7557IsS62trV6NAgAADOJJ\n",
              "nJw/f14bN27UyZMnZVmWJGnMmDH9bus4jhzHiVsXjUYTPiMAAPCGJ5d1jh07phEjRmjt2rWaOXOm\n",
              "5s+frx07dvS7bVVVlYYNGxa37N+/P8kTAwCAZPEkTiKRiJqbm3X77bfrwIEDeuWVV/Tggw+qra3t\n",
              "km0rKyvV3t4etxQXF3swNQAASAZPLuvk5+fL5/PpkUcekSRNmzZN48aN08GDB5Wbmxu3rW3bsm07\n",
              "bp3f70/arAAAILk8OXOSk5Oju+++Wx988IEkqampSU1NTbrtttu8GAcAABjEs3frvPrqq/rhD3+o\n",
              "p59+Wj6fTzU1Nbrpppu8GgcAABjCszi5+eabtXPnTq9eHgAAGIonxAIAAKMQJwAAwCjECQAAMApx\n",
              "AgAAjEKcAAAAoxAnAADAKMQJAAAwCnECAACMQpwAAACjECcAAMAoxAkAADAKcQIAAIxCnAAAAKMQ\n",
              "JwAAwCjECQAAMApxAgAAjEKcAAAAoxAnAADAKMQJAAAwCnECAACMQpwAAACjECcAAMAoxAkAADAK\n",
              "cQIAAIxCnAAAAKMQJwAAwCjECQAAMApxAgAAjEKcAAAAoxAnAADAKMQJAAAwCnECAACMQpwAAACj\n",
              "eB4nmzZtkmVZ2r59u9ejAAAAA3gaJ+FwWK+99ppKSkq8HAMAABjEsziJxWJaunSp1q1bJ9u2L7ud\n",
              "4zjq6OiIW6LRaBInBQAAyeRZnFRXV2vu3LmaMWPGf92uqqpKw4YNi1v279+fpCkBAECyeRInhw4d\n",
              "0tatW/Xss8/+z20rKyvV3t4etxQXFydhSgAA4IWAFy+6a9cuhcNhFRYWSpJaW1u1bNkytbS0aMWK\n",
              "FXHb2rZ9yWUfv9+ftFkBAEByeXLmZMWKFWppaVE4HFY4HFZJSYk2bNhwSZgAAID04/lbiQEAAC7m\n",
              "yWWd/+vjjz/2egQAAGAIzpwAAACjECcAAMAoxAkAADAKcQIAAIxCnAAAAKMQJwAAwCjECQAAMApx\n",
              "AgAAjEKcAAAAoxAnAADAKMTJRXp6ozrT5ainN+r1KAAApC0jPlvHa190OqrdG9b7h9rU3RvVkAy/\n",
              "7ikao4rSkHKCttfjAQCQVtL+zMkXnY5+9Ga9Xt93XOediAI+S+ediGr3NWvlG/U60+V4PSIAAGkl\n",
              "7eOkdm9Yjac7NSpoa3h2prLtgIZnZ2pU0Fbj6U7V7mn2ekQAANJKWsdJT29U7x9qU1bAr4A//l9F\n",
              "wO+THfDrvcOt3IMCAEASpXWcdDkRdfdGlRno/1+DHfCp+6uoupxIkicDACB9pXWcBO2AhmT49VUk\n",
              "1u/XnUhMQzL9CtrcNwwAQLKkdZxkZfj17aJc9USiikTjAyUSjcmJRHXPN8YoK8Pv0YQAAKSftD8l\n",
              "8GhpgfY1nVXj6U7ZAb/sgE9O5EKYFI4eqorSkNcjAgCQVtL6zIkk5QRtrX94mipmhxTMCigScxXM\n",
              "CqhidkjrHp7Gc04AAEiytD9zIl0IlCcWTNDjd96iLieioB3gUg4AAB4hTi6SleEnSgAA8FjaX9YB\n",
              "AABmIU4AAIBRiBMAAGAU4gQAABiFOAEAAEYhTgAAgFGIEwAAYBTiBAAAGIU4AQAARiFOAACAUSzX\n",
              "dV2vh7hSixYtUkFBwYB/32g0qv3796u4uFh+/+B7jP1g3z9p8O8j+5f6Bvs+sn+pL5H7GAqF9OMf\n",
              "//h/bpeScZIoHR0dGjZsmNrb23X99dd7Pc6AG+z7Jw3+fWT/Ut9g30f2L/WZsI9c1gEAAEYhTgAA\n",
              "gFGIEwAAYBTi5CK2bev555+Xbdtej5IQg33/pMG/j+xf6hvs+8j+pT4T9pEbYgEAgFE4cwIAAIxC\n",
              "nAAAAKMQJwAAwCjEiaSenh4tXLhQEyZM0JQpU7RgwQI1NjZ6PVZCbNq0SZZlafv27V6PMuAcx9HK\n",
              "lStVWFioSZMmqaKiwuuRBtS7776r6dOna+rUqSoqKtLmzZu9HumarFq1SgUFBbIsSw0NDX3rjx49\n",
              "qjlz5mjChAmaNWuWDh8+7N2Q16i/fRxMx5vL/Qz/I9WPN5fbv8F0rLncPnp+vHHhdnd3u++8844b\n",
              "i8Vc13XddevWuXfccYe3QyVAU1OTW1pa6paUlLjbtm3zepwB98QTT7grV67s+zm2tLR4PNHAicVi\n",
              "7vDhw93PPvvMdd0LP0vbtt2Ojg6PJ7t6f/nLX9wTJ064oVDIra+v71t/1113uZs2bXJd13X/8Ic/\n",
              "uDNnzvRmwAHQ3z4OpuPN5X6Grjs4jjeX27/BdKzpbx9NON5w5kRSVlaW7r33XlmWJUkqKSlROBz2\n",
              "dqgBFovFtHTpUq1bt25QvgXu/Pnz2rhxo37+85/3/RzHjBnj8VQDy7IsnTt3TtKFx0uPHDkypX+W\n",
              "ZWVlysvLi1t3+vRpHThwoO//RBcvXqwTJ06k7JmF/vZxMB1v+ts/afAcb/rbv8F2rLncz9Dr4w1x\n",
              "0o+XX35Z999/v9djDKjq6mrNnTtXM2bM8HqUhDh27JhGjBihtWvXaubMmZo/f7527Njh9VgDxrIs\n",
              "vfXWW1q0aJFCoZDmzZunzZs3KzMz0+vRBtSJEyd04403KhAISLqw3/n5+Tp+/LjHkyUOx5vUMtiP\n",
              "NZIZx5tA0l4pRaxdu1aNjY2D6g/boUOHtHXrVv31r3/1epSEiUQiam5u1u23364XX3xR9fX1WrBg\n",
              "gQ4fPqzc3Fyvx7tmkUhEa9asUV1dncrKyvS3v/1N9913nw4ePKicnByvx8NV4niTegb7sUYy43jD\n",
              "mZOLvPTSS6qrq9N7772n6667zutxBsyuXbsUDodVWFiogoIC7d27V8uWLdOvf/1rr0cbMPn5+fL5\n",
              "fHrkkUckSdOmTdO4ceN08OBBjycbGA0NDTp16pTKysokSbNmzVJeXp7q6+s9nmxgjR07Vi0tLYpE\n",
              "IpIk13V1/Phx5efnezzZwON4k5oG+7FGMuN4Q5z8f9XV1XrzzTf14Ycf6oYbbvB6nAG1YsUKtbS0\n",
              "KBwOKxwOq6SkRBs2bNCKFSu8Hm3A5OTk6O6779YHH3wgSWpqalJTU5Nuu+02jycbGP/5S/vIkSOS\n",
              "pMbGRh07dkwTJ070eLKBNXr0aE2fPl21tbWSpK1btyovL0/jx4/3eLKBxfEmdQ32Y41kyPEmabfe\n",
              "GuzEiROuJPfmm292p0yZ4k6ZMsUtLi72eqyEueOOO1L27vn/5tixY+6dd97pFhUVuZMnT3a3bNni\n",
              "9UgD6o033ujbt6KiIvf111/3eqRrsmzZMvemm25y/X6/O3r0aPeWW25xXdd1//GPf7glJSVuYWGh\n",
              "O2PGDPfvf/+7x5Nevf72cTAdby73M7xYKh9vLrd/g+lYc7l99Pp4w2frAAAAo3BZBwAAGIU4AQAA\n",
              "RiFOAACAUYgTAMYJh8Nx72L51re+pcmTJ2vq1KmaP3/+oHsLNYB4PIQNgPF+//vf98XKtm3b9Nhj\n",
              "j+mzzz7zdigACcOZEwBJsWfPHs2bN09TpkzR5MmT9cc//lEHDhzQnDlzNHnyZBUXF+uTTz7p9/de\n",
              "fBalvb297zNNAAxOnDkBkHBffvmlFi5cqC1btmj+/PmKxWI6c+aMZs6cqddee03l5eXavXu3Fi9e\n",
              "fNkP+fve976nnTt3Srrwce4ABi/OnABIuD179mjixImaP3++JMnn86mtrU0+n0/l5eWSpHnz5ik3\n",
              "N1cNDQ39fo/f/e53OnHihNasWaOnn346WaMD8ABxAsAYX+dyzfe//33t3LlT//rXv5IwEQAvECcA\n",
              "Em7OnDk6evSodu3aJUmKxWLKzc1VLBbThx9+KEn69NNP1draqqlTp8b93nPnzunUqVN9v96+fbtG\n",
              "jhypESNGJG1+AMnFPScAEm748OHatm2bVq9erc7OTvl8Pv3sZz9TXV2dVq1apdWrVysrK0tbtmxR\n",
              "MBjUmTNn+n5ve3u7vvvd76q7u1s+n0+jRo3S22+/zU2xwCDGZ+sAAACjcFkHAAAYhTgBAABGIU4A\n",
              "AIBRiBMAAGAU4gQAABiFOAEAAEYhTgAAgFGIEwAAYBTiBAAAGIU4AQAARvl/HH1B6uTsjjsAAAAA\n",
              "SUVORK5CYII=\n",
              "\">\n",
              "      </div>\n",
              "      <script type=\"text/javascript\">\n",
              "        (() => {\n",
              "          const chartElement = document.getElementById(\"chart-96fe7d19-5bde-4381-8310-178fd80ca424\");\n",
              "          async function getCodeForChartHandler(event) {\n",
              "            const chartCodeResponse =  await google.colab.kernel.invokeFunction(\n",
              "                'getCodeForChart', [\"chart-96fe7d19-5bde-4381-8310-178fd80ca424\"], {});\n",
              "            const responseJson = chartCodeResponse.data['application/json'];\n",
              "            await google.colab.notebook.addCell(responseJson.code, 'code');\n",
              "          }\n",
              "          chartElement.onclick = getCodeForChartHandler;\n",
              "        })();\n",
              "      </script>\n",
              "      <style>\n",
              "        .colab-quickchart-chart-with-code  {\n",
              "            display: block;\n",
              "            float: left;\n",
              "            border: 1px solid transparent;\n",
              "        }\n",
              "\n",
              "        .colab-quickchart-chart-with-code:hover {\n",
              "            cursor: pointer;\n",
              "            border: 1px solid #aaa;\n",
              "        }\n",
              "      </style>"
            ]
          },
          "metadata": {}
        },
        {
          "output_type": "display_data",
          "data": {
            "text/plain": [
              "<google.colab._quickchart_helpers.SectionTitle at 0x7d5632ad6110>"
            ],
            "text/html": [
              "<h4 class=\"colab-quickchart-section-title\">Time series</h4>\n",
              "<style>\n",
              "  .colab-quickchart-section-title {\n",
              "      clear: both;\n",
              "  }\n",
              "</style>"
            ]
          },
          "metadata": {}
        },
        {
          "output_type": "display_data",
          "data": {
            "text/plain": [
              "from matplotlib import pyplot as plt\n",
              "import seaborn as sns\n",
              "def _plot_series(series, series_name, series_index=0):\n",
              "  palette = list(sns.palettes.mpl_palette('Dark2'))\n",
              "  counted = (series['col1']\n",
              "                .value_counts()\n",
              "              .reset_index(name='counts')\n",
              "              .rename({'index': 'col1'}, axis=1)\n",
              "              .sort_values('col1', ascending=True))\n",
              "  xs = counted['col1']\n",
              "  ys = counted['counts']\n",
              "  plt.plot(xs, ys, label=series_name, color=palette[series_index % len(palette)])\n",
              "\n",
              "fig, ax = plt.subplots(figsize=(10, 5.2), layout='constrained')\n",
              "df_sorted = _df_8.sort_values('col1', ascending=True)\n",
              "for i, (series_name, series) in enumerate(df_sorted.groupby('index')):\n",
              "  _plot_series(series, series_name, i)\n",
              "  fig.legend(title='index', bbox_to_anchor=(1, 1), loc='upper left')\n",
              "sns.despine(fig=fig, ax=ax)\n",
              "plt.xlabel('col1')\n",
              "_ = plt.ylabel('count()')"
            ],
            "text/html": [
              "      <div class=\"colab-quickchart-chart-with-code\" id=\"chart-85d626bc-bdac-404a-abb8-ac73344525e1\">\n",
              "        <img style=\"width: 180px;\" src=\"data:image/png;base64,iVBORw0KGgoAAAANSUhEUgAABEMAAAITCAYAAADsAtIvAAAAOXRFWHRTb2Z0d2FyZQBNYXRwbG90\n",
              "bGliIHZlcnNpb24zLjcuMSwgaHR0cHM6Ly9tYXRwbG90bGliLm9yZy/bCgiHAAAACXBIWXMAAA9h\n",
              "AAAPYQGoP6dpAAA1MklEQVR4nO3de5RWhX3v4e873BQqSBQhEUdARCSioyhV5OKFAIoiiFZLMIee\n",
              "oOhpqvEuGlJNDdJjgkE8jZd4TDQL0xSMYRm7GqMkB8QUUUhEvCGOoIio4aJGuc2cP2ymjoKCzDgM\n",
              "+3nW2iu87+zZ7+9998K1+WTv/Zaqq6urAwAAAFAQZQ09AAAAAMDnSQwBAAAACkUMAQAAAApFDAEA\n",
              "AAAKRQwBAAAACkUMAQAAAApFDAEAAAAKRQwBAAAACmWXjyFTpkxp6BEAAACAnUjThh6gvr388ssN\n",
              "PQIAAADUuY0bN2bt2rX585//3NCj7BRatmyZNm3apFmzZp+67i4fQwAAAGBXs3Llyrz66qtp0qRJ\n",
              "SqVSQ4+zU/jTn/6Ul19+Ofvuu286dOjwieuKIQAAANCI/PnPf86KFSvSqlWr7LPPPmnevHnhg0h1\n",
              "dXU2bNiQVatWZcWKFWndunVatmy51fXFEAAAAGhE3nzzzTRp0iT77rtv9thjj4YeZ6fSrFmzLF26\n",
              "NG+++WbKy8u3ut4ufwNVAAAA2BWVlfkn/Udt62fikwMAAAAKRQwBAAAA0r1796xevXq7f2/IkCGZ\n",
              "MmVKPUxUf9wzBAAAAMizzz7b0CN8bpwZAgAAAKRUKuWNN95IknzpS1/KRRddlIqKiuy77765/PLL\n",
              "a9ZbsGBBDj/88HTt2jUDBw7M22+/XfOz1atX56yzzkrPnj3TrVu3nH322Xn//fezcOHCtG/fPosX\n",
              "L06STJgwIf369cvmzZs/3zf5X8QQAAAA4GPWrl2bhQsX5vHHH88Pf/jDLF26NElyzjnn5Gtf+1qW\n",
              "LFmS7373u3n88cdrfueCCy5Iv3798tRTT+XZZ59NVVVVrr/++lRUVOQ73/lOzjzzzDzwwAP5v//3\n",
              "/+ZnP/tZmjRp0iDvzWUyAAAAwMecc845ST44S2S//fbL888/nz333DPPPvts/uEf/iFJ8td//dc5\n",
              "4ogjan7n17/+dZ544onccsstSZL333+/JniMGzcus2bNyumnn56ZM2dm3333/Zzf0X8TQwAAAICP\n",
              "2X333Wv+XFZWlk2bNm1xvVKpVPPn6urqTJ8+PYcddtjH1tuwYUOee+65tGnTJsuXL6/7gbeDy2QA\n",
              "AACAbfKFL3whBx98cM2ZH48//niefPLJmp8PGjQo119/fTZs2JAkWbVqVRYtWpQk+fu///sccMAB\n",
              "mTVrViZMmFDzfEMQQwAAAIBtdvfdd+fHP/5xunbtmquvvjpHHnlkzc9uu+227L777unRo0e6deuW\n",
              "4447Li+88EKmTZuWWbNm5a677sohhxyS7373u/mbv/mbvPvuuw3yHkrV1dXVDfLKn5NLLrkkkydP\n",
              "bugxAAAAoE4sW7Ysq1evTteuXdOqVauGHmen8u6772bJkiVp27ZtysvLt7qeM0MAAACAQhFDAAAA\n",
              "gEIRQwAAAIBCEUMAAACAQhFDAAAAgEIRQwAAAIBCEUMAAACAHfalL30pnTp1Svfu3dOpU6eMHz++\n",
              "TrZ75ZVXplOnTikrK8s999xTJ9sUQwAAAIA6MW3atDz77LN55JFHMnXq1MyaNWuHtzlkyJA8+OCD\n",
              "OfLII+tgwg+IIQAAANCIVVVV5e3179frUlVVtV0zdenSJV26dMnSpUuzaNGiHHPMMenWrVu6d+9e\n",
              "c3bHjTfemLPPPjtJMn/+/JRKpcyYMSNJcumll+bSSy9Nkhx//PHp0aNHHX5iSdM63RoAAADwuXp3\n",
              "44YcPO3aen2NZ0Zdmz1a7LbN6y9YsCBr1qzJkCFDctJJJ2X06NG54oor8sc//jH9+/dP7969M3To\n",
              "0EyZMiVJ8uCDD6aioiIPPfRQRo4cmd/+9reZNGlSfb0dZ4YAAAAAdWPUqFHp0qVLevXqlbFjx6Zl\n",
              "y5ZZvHhxvvnNbyZJDj300PTq1SsPP/xwzdkeixcvzqxZs3L99ddn9uzZWbNmTV588cUMGDCg3uZ0\n",
              "ZggAAAA0Yq2aNc8zo66t99fYFtOmTUufPn3yi1/8In/7t3+bwYMHf2ydUqlU8+e+ffvm/vvvT2Vl\n",
              "ZYYOHZrLL788d999dyoqKtK8+ba95mfhzBAAAABoxMrKyrJHi93qdSkr2758MGLEiIwePTpXX311\n",
              "evTokZtvvjlJsmjRojzxxBMZOHBgkmTgwIG55ZZbUlFRkSTp169fJk2alOOPP75OP6OPEkMAAACA\n",
              "Ojdx4sQ88cQT+cEPfpAZM2bkoIMOyhlnnJGbb7453bp1S5KccsopWblyZU488cQkyaBBg/Laa69l\n",
              "yJAhNdu5/PLL0759+yxcuDAXXnhh2rdvn1dffXWHZitVV1dX79AWdnKXXHJJJk+e3NBjAAAAQJ1Y\n",
              "tmxZVq9ena5du6ZVq1YNPc5O5d13382SJUvStm3blJeXb3U9Z4YAAAAAhSKGAAAAAIUihgAAAACF\n",
              "IoYAAAAAhdK0oQcAAAAAtt2Hv+Z2F/9OlM/s074K2JkhAAAA0Ih82j/0EUMAAAAAahFDAAAAoJEq\n",
              "lUo7zbLvvvumc+fOOfjgg9O5c+dcffXVdbLdM888M506dUr37t1zxBFH5He/+91W191W7hkCAAAA\n",
              "jVhVVVWq179Tr69RavFX23R5zrRp09KnT58sXbo0hx56aAYNGpTjjz9+h157+PDhmTZtWpo3b55p\n",
              "06Zl1KhRWbFixQ5tUwwBAACARqx6/Tt58YK29foaB/xwdbJ7621ev0uXLunSpUuWLl2adu3a5dxz\n",
              "z81bb72VsrKyXHPNNTnnnHNy44035oknnsjPfvazzJ8/P0cddVSmT5+ekSNH5tJLL02SfP/738/o\n",
              "0aNrtnvcccdl1apV2bBhQ5o3b/6Z34/LZAAAAIA6tWDBgqxZsyZDhgzJqFGjMmLEiDz//PP5+c9/\n",
              "nn/4h3/Ic889l6FDh2bOnDlJkgcffDAVFRV56KGHkiS//e1vM2TIkI9td9KkSRkwYMAOhZDEmSEA\n",
              "AADQqJVa/NUHZ27U82tsi1GjRqWsrCyVlZW59tpr07JlyyxevDjf/OY3kySHHnpoevXqlYcffjj/\n",
              "63/9ryTJ4sWLM2vWrFx//fW54oorsmbNmrz44osZMGBArW3/y7/8S2bOnJnZs2fv8PsRQwAAAKAR\n",
              "Kysr265LWOrTX+4Z8otf/CJ/+7d/m8GDB39snQ/f6LRv3765//77U1lZmaFDh+byyy/P3XffnYqK\n",
              "ilpnf9xxxx3553/+5zz00EPZb7/9dnhOl8kAAAAAdWrEiBEZPXp0rr766vTo0SM333xzkmTRokV5\n",
              "4oknMnDgwCTJwIEDc8stt6SioiJJ0q9fv0yaNKnWTVd/9KMf5frrr8+vf/3rdOvWrU7mE0MAAACA\n",
              "Ojdx4sQ88cQT+cEPfpAZM2bkoIMOyhlnnJGbb765JmqccsopWblyZU488cQkyaBBg/Laa6/Vul/I\n",
              "+eefn/Xr1+e0005L9+7d071796xcuXKHZnOZDAAAALDDPvp1t/vss0/WrFmTJHnssce2+DsdOnRI\n",
              "VVVVzeORI0emurq61jqbNm2q20HjzBAAAACgYMQQAAAAoFDEEAAAAKBQxBAAAACgUNxAFQAAABqR\n",
              "Jk2a1Pz5ozcb5QMf/oy2xJkhAAAA0IiUlfmn/Kf5tM/IJwgAAADssH333TedO3fOwQcfnM6dO+fq\n",
              "q6+uk+2eeeaZOeigg3LwwQenZ8+emTlz5g5v02UyAAAA0EiVSqWGHqGWadOmpU+fPlm6dGkOPfTQ\n",
              "DBo0KMcff/wObfOHP/xh2rVrlyR59NFHc/LJJ+dPf/rTp14K80mcGQIAAACNWFVVVd5/b0O9LlVV\n",
              "Vds1U5cuXdKlS5csXbo0ixYtyjHHHJNu3bqle/fuueeee5IkN954Y84+++wkyfz581MqlTJjxowk\n",
              "yaWXXppLL700SWpCSJKsXr26Lj4yZ4YAAABAY7Zh/aZ8++pf1+trfGfioOy2e/NtXn/BggVZs2ZN\n",
              "hgwZkpNOOimjR4/OFVdckaeeeir9+vVL7969M3To0EyZMiVJ8uCDD6aioiIPPfRQRo4cmd/+9reZ\n",
              "NGlSzfYuuOCCPPDAA1m3bl1++tOf7tBZIYkzQwAAAIA6MmrUqHTp0iW9evXK2LFj07JlyyxevDjf\n",
              "/OY3kyQ9e/ZMr1698vDDD6dHjx5JksWLF2fWrFm5/vrrM3v27KxZsyYvvvhiBgwYULPdH/7wh1m+\n",
              "fHl+8pOfZPz48Xn//fd3aE5nhgAAAEAj1rxF03xn4qB6f41t8Zd7htx///05++yzM3jw4I+t8+H7\n",
              "nPTt2zf3339/KisrM3To0Fx++eW55557UlFRkebNP34myvDhw3PxxRdn3rx56d+//2d+P84MAQAA\n",
              "gEasrKwsu+3evF6X7f063+HDh2f06NG5+uqr06NHj9x8881JkkWLFuWJJ57IwIEDkyQDBw7MLbfc\n",
              "koqKiiRJv379csMNN9TcdHX9+vVZtGhRzXZnzZqVP/3pT+nevfsOfWbODAEAAADq3MSJE9OtW7fc\n",
              "d999ueaaa3LHHXekVCrl5ptvTrdu3ZIkp5xySs4777yceOKJSZJBgwbl9ttvz5AhQ5IkGzZsyDnn\n",
              "nJO33347TZs2ze6775577rkn++yzzw7NJoYAAAAAO2zFihW1Hu+zzz5Zs2ZNkuSxxx7b4u906NCh\n",
              "1jfVjBw5MtXV1TWP99hjjyxYsKDOZ3WZDAAAAFAo9RpDLrzwwnTq1CmlUikLFy7c6np33nlnDjzw\n",
              "wBxwwAE599xzs3Hjxlo/r66uzgknnJA999yzPscFAAAACqBeY8gZZ5yROXPmZP/999/qOi+99FIm\n",
              "TJiQ2bNnZ8mSJXn99ddz++2311rnpptuygEHHFCfowIAAAAFUa8xpH///unYseMnrjN9+vQMGzYs\n",
              "HTp0SKlUyvnnn59777235udPP/107r///lx11VWf+nrr16/PunXrai2bN2/e4fcBAAAA7Doa/Aaq\n",
              "y5Ytq3XmSKdOnbJs2bIkycaNG3PuuefmzjvvTJMmTT51WzfccEOuu+66Ws8dffTRdTswAAAANKCm\n",
              "TT/4p3x1dXWtm42Sms/jL5/R1uzUN1C97rrrcvrpp+fggw/epvXHjx+ftWvX1lp69+5dz1MCAADA\n",
              "56esrCylUimlUqkmiFg+WP7yuZSVfXLuaPAzQ8rLy/Piiy/WPK6srEx5eXmS5He/+12WLVuWW265\n",
              "JZs2bcq6devSqVOnPP7442nXrt3HttWiRYu0aNGi1nPbckYJAAAANDZ/+Yc//21bP48GPzNk5MiR\n",
              "mTlzZlauXJnq6urceuutOfvss5Mks2fPzssvv5zKysrMmTMnrVu3TmVl5RZDCAAAABTNX4LIzrB0\n",
              "7NgxXbp0ycEHH5wuXbrkmmuuqdPtP/DAA2natGmuv/76ra6zreo1howbNy4dO3bMK6+8ksGDB6dr\n",
              "165JkrFjx2bmzJlJki5duuS6667Lsccem65du6Zdu3YZN25cfY4FAAAA1INp06bl2WefzSOPPJKp\n",
              "U6fmd7/7XZ1s96233so111yTAQMG1Mn26vUymdtuu22Lz//oRz+q9fjcc8/Nueee+4nb6tSpU9as\n",
              "WVNXowEAAMAuoaqqKnl3Y/2+SKtmn3ofjg/r3LlzOnfunKVLl2bvvffOueeemzfffDNlZWX51re+\n",
              "ldGjR+f73/9+5s+fn3vvvTdPPvlkevXqlfvuuy8jRozI5ZdfniS58cYbk3xwUsVVV12V++67r07e\n",
              "ToPfMwQAAADYAe9uzKq/vrleX2Kf/7ww2aPFp6/4XxYuXJg1a9Zk8ODBGTJkSL72ta/lsssuy6JF\n",
              "i9K3b9/07t07J598cm666aYkyYMPPpiKior8+te/zogRIzJr1qxMmjQpSfLjH/84ZWVlGTVqVJ3F\n",
              "kAa/ZwgAAACwaxg1alS6dOmSI444Iuedd15atmyZxYsX56KLLkqSHHLIITnyyCPz8MMP13xz7DPP\n",
              "PJNHHnkkEydOzOzZs7N27dosWbIkAwYMyPLlyzNp0qStXnnyWTkzBAAAABqzVs0+OHOjnl9jW0yb\n",
              "Ni3HHHNMfvnLX+ass87KoEGDPrbOh2902q9fv/zyl7/MSy+9lJNOOimXXXZZ7rnnnhx++OFp1qxZ\n",
              "5s6dmzfeeCOHHXZYkmT16tV56KGH8sYbb+Tmmz/72TDODAEAAIBGrKysLGV7tKjfZTvuF5Ikp512\n",
              "Ws4555xcffXV6dGjR6ZOnZokefrppzN//vwMHDgwSfKVr3wlU6dOzeGHH57kgzhyww035IQTTkiS\n",
              "nHXWWXnrrbfy6quv5tVXX83JJ5+cyy67bIdCSCKGAAAAAPVg4sSJmT9/fqZMmZLp06fnoIMOysiR\n",
              "IzN16tQceOCBSZKhQ4fmtddey4knnpgkGTx4cFasWJHBgwfX62wukwEAAAB22Kuvvlrrcbt27Wq+\n",
              "FXbu3Llb/J327dt/8G04/2XEiBGprq7e6mtMnz59xweNM0MAAACAghFDAAAAgEIRQwAAAIBCEUMA\n",
              "AACgEfqke2sU1bZ+Jm6gCgAAAI1Is2bNkiSbNm3Kpk2btvtrb3dVVVVV2bRpU5L//oy2RgwBAACA\n",
              "RqSsrCxNmzZNqVTKxo0bG3qcnUqpVErTpk0/NRCJIQAAANDIlEqlNGvWLC1atGjoUXY6pVLpU9cR\n",
              "QwAAAKARKpVKO9UlMp06dUqLFi2y++6757333svf/d3f5aqrrtrh7R533HF5+eWX06ZNmyTJ//gf\n",
              "/yMXX3zxFtfdlhCSiCEAAADQqFVXV2fD5vfq9TWaN9l9m0LDv/7rv6aioiKvvvpqevTokRNOOCG9\n",
              "e/fe4de/6aabMnz48B3ezl+IIQAAANCIbdj8Xi78t4Pr9TVuPvOZtGjacpvX33fffdO9e/e8/PLL\n",
              "+cIXvpDzzz8/q1atSllZWa699toMHz48t99+e+bPn5/bb789ixcvzpe//OX8x3/8RwYNGpTvfOc7\n",
              "SZJvf/vb9fJ+dp7zaQAAAIBdwrPPPpu33norxx13XL761a/mzDPPzB//+Mf827/9W77+9a/n5Zdf\n",
              "zsCBA/Ob3/wmSfLQQw/lmGOOqfV44MCBNdu76qqr0rNnz5x11llZunTpDs/nzBAAAABoxJo32T03\n",
              "n/lMvb/GtjjrrLNSVlaW5557LjfddFN22223PPnkk3n00UeTJAceeGD69u2b2bNnZ/To0UmSpUuX\n",
              "5je/+U1uuOGGXHrppXnnnXeyePHimstr7rnnnuy3336prq7O//k//yennHJKFi9evEPvRwwBAACA\n",
              "RqxUKm3XJSz16S/3DPnNb36TU089NSeccMLH1vnwvUcGDhyYf//3f88LL7yQAQMGpLq6OjNmzMgx\n",
              "xxyTpk0/SBb77bdfze994xvfyGWXXZa33nore+2112ee02UyAAAAQJ0aOHBgLrjggnzrW9/KEUcc\n",
              "kbvuuitJsmTJksyZMyf9+/evWe/GG2+sOQvkhBNOyD/+4z/WXCKzadOmvP766zXbnTFjRtq3b79D\n",
              "ISRxZggAAABQDyZMmJCuXbvmwQcfzDXXXJNbbrklpVIpP/rRj1JeXp4kOfHEE7Ns2bKa+PGVr3wl\n",
              "3/ve93LiiScmSdavX5+hQ4dm/fr1KSsry957752ZM2fu8GxiCAAAALDDKisraz1u27Zt3nrrrSSp\n",
              "uTHqR+21116pqqqqeTxo0KBUV1fXPG7VqlXmz59f57O6TAYAAAAoFDEEAAAAKBQxBAAAABqhD19e\n",
              "wge29TNxzxAAAABoRJo3b56ysrKsWLEi7dq1S/PmzWt9XW0RVVdXZ8OGDXnjjTdSVlaW5s2bf+L6\n",
              "YggAAAA0ImVlZencuXNee+21rFixoqHH2am0bNky5eXlKSv75AthxBAAAABoZJo3b57y8vJs2rQp\n",
              "mzdvbuhxdgpNmjRJ06ZNt+ksGTEEAAAAGqFSqZRmzZqlWbNmDT1Ko+MGqgAAAEChiCEAAABAoYgh\n",
              "AAAAQKGIIQAAAEChiCEAAABAoYghAAAAQKGIIQAAAEChiCEAAABAoYghAAAAQKGIIQAAAEChiCEA\n",
              "AABAoYghAAAAQKGIIQAAAEChiCEAAABAoYghAAAAQKGIIQAAAEChiCEAAABAoYghAAAAQKGIIQAA\n",
              "AEChiCEAAABAoYghAAAAQKGIIQAAAEChiCEAAABAoYghAAAAQKGIIQAAAEChiCEAAABAoYghAAAA\n",
              "QKGIIQAAAEChiCEAAABAoYghAAAAQKGIIQAAAEChiCEAAABAoYghAAAAQKGIIQAAAEChiCEAAABA\n",
              "oYghAAAAQKGIIQAAAEChiCEAAABAoYghAAAAQKGIIQAAAEChiCEAAABAoYghAAAAQKGIIQAAAECh\n",
              "iCEAAABAoYghAAAAQKGIIQAAAEChiCEAAABAoYghAAAAQKGIIQAAAECh1GsMufDCC9OpU6eUSqUs\n",
              "XLhwq+vdeeedOfDAA3PAAQfk3HPPzcaNG5MkjzzySHr37p0ePXrky1/+cq644opUVVXV58gAAADA\n",
              "Lq5eY8gZZ5yROXPmZP/999/qOi+99FImTJiQ2bNnZ8mSJXn99ddz++23J0natm2bn/3sZ1m8eHGe\n",
              "eOKJzJ07N3fffXd9jgwAAADs4uo1hvTv3z8dO3b8xHWmT5+eYcOGpUOHDimVSjn//PNz7733JkkO\n",
              "P/zwdOnSJUmy2267paKiIpWVlVvd1vr167Nu3bpay+bNm+vs/QAAAACNX4PfM2TZsmW1zhzp1KlT\n",
              "li1b9rH1Vq5cmenTp+eUU07Z6rZuuOGGtGnTptYyb968epkbAAAAaJwaPIZsi3Xr1uXUU0/NFVdc\n",
              "kSOPPHKr640fPz5r166ttfTu3ftznBQAAADY2TVt6AHKy8vz4osv1jyurKxMeXl5zeO33347Q4YM\n",
              "yWmnnZZLLrnkE7fVokWLtGjRotZzTZo0qduBAQAAgEatwc8MGTlyZGbOnJmVK1emuro6t956a84+\n",
              "++wkyTvvvJMhQ4ZkyJAh+da3vtXAkwIAAAC7gnqNIePGjUvHjh3zyiuvZPDgwenatWuSZOzYsZk5\n",
              "c2aSpEuXLrnuuuty7LHHpmvXrmnXrl3GjRuXJJkyZUrmzZuX++67LxUVFamoqMh3v/vd+hwZAAAA\n",
              "2MWVqqurqxt6iPp0ySWXZPLkyQ09BgAAALCTaPDLZAAAAAA+T2IIAAAAUChiCAAAAFAoYggAAABQ\n",
              "KGIIAAAAUChiCAAAAFAoYggAAABQKGIIAAAAUChiCAAAAFAoYggAAABQKGIIAAAAUChiCAAAAFAo\n",
              "YggAAABQKGIIAAAAUChiCAAAAFAoYggAAABQKGIIAAAAUChiCAAAAFAoYggAAABQKGIIAAAAUChi\n",
              "CAAAAFAoYggAAABQKGIIAAAAUChiCAAAAFAoYggAAABQKGIIAAAAUChiCAAAAFAoYggAAABQKGII\n",
              "AAAAUChiCAAAAFAoYggAAABQKGIIAAAAUChiCAAAAFAoYggAAABQKGIIAAAAUChiCAAAAFAoYggA\n",
              "AABQKGIIAAAAUChiCAAAAFAoYggAAABQKGIIAAAAUChiCAAAAFAoYggAAABQKGIIAAAAUChiCAAA\n",
              "AFAoYggAAABQKGIIAAAAUChiCAAAAFAoYggAAABQKGIIAAAAUChiCAAAAFAoYggAAABQKGIIAAAA\n",
              "UChiCAAAAFAoYggAAABQKGIIAAAAUChiCAAAAFAoYggAAABQKGIIAAAAUChiCAAAAFAoYggAAABQ\n",
              "KGIIAAAAUChiCAAAAFAoYggAAABQKE0/yy8tXrw4r7zySnbffff07Nkze+65Zx2PBQAAAFA/tjmG\n",
              "vP322/ne976XO+64Iy1btkz79u3z/vvv58UXX0zv3r1z5ZVX5sQTT6zPWQEAAAB22DbHkOOPPz5f\n",
              "+9rXsmDBgrRv377m+aqqqsyePTu33nprlixZknHjxtXLoAAAAAB1YZtjyKOPPpoWLVp87PmysrIM\n",
              "GDAgAwYMyPr16+t0OAAAAIC6ts03UN1SCPks6wAAAAA0pG2OIaecckrmzp27xZ+tWbMm3//+93Pb\n",
              "bbfV2WAAAAAA9WGbL5OZOHFixo8fn8WLF+eoo46quYHqs88+m1dffTV///d/n//5P/9nfc4KAAAA\n",
              "sMO2OYYceuih+dWvfpXly5fnd7/7XV555ZW0bNkyX/3qV9O3b980bfqZvqUXAAAA4HO13QVj9erV\n",
              "GT16dK3n/vjHP+bQQw+ts6EAAAAA6ss23zPkL8aMGbNNzwEAAADsjLb5zJBVq1Zl5cqVee+99/LU\n",
              "U0+luro6SbJ27dq8++679TYgAAAAQF3a5hhy77335gc/+EFWrFiRYcOG1Tzfpk2bXHHFFfUyHAAA\n",
              "AEBd2+YYctFFF+Wiiy7KP/3TP2XChAn1ORMAAABAvdnuG6hOmDAhVVVVWblyZTZt2lTzfHl5eZ0O\n",
              "BgAAAFAftvsGqj/5yU+y5557pmfPnunVq1d69eqVI488covrXnjhhenUqVNKpVIWLly41W3eeeed\n",
              "OfDAA3PAAQfk3HPPzcaNG7fpZwAAAADba7tjyHe+8508/vjjeeutt/LGG2/kjTfeyKpVq7a47hln\n",
              "nJE5c+Zk//333+r2XnrppUyYMCGzZ8/OkiVL8vrrr+f222//1J8BAAAAfBbbHUP23nvvHHTQQdu0\n",
              "bv/+/dOxY8dPXGf69OkZNmxYOnTokFKplPPPPz/33nvvp/4MAAAA4LPY7nuGDB8+PD/4wQ8yatSo\n",
              "7LbbbjXPt27d+jMNsGzZslpnjnTq1CnLli371J9tyfr167N+/fpaz23evPkzzQUAAADsmrb7zJBr\n",
              "rrkml1xySTp06JC2bdtmzz33TNu2betjtu12ww03pE2bNrWWefPmNfRYAAAAwE5ku2NIVVVVzbJ5\n",
              "8+aa//2sysvL8/LLL9c8rqysrPlmmk/62ZaMHz8+a9eurbX07t37M88GAAAA7Hq2O4bUtZEjR2bm\n",
              "zJlZuXJlqqurc+utt+bss8/+1J9tSYsWLdK6detaS5MmTT6vtwIAAAA0AtsdQ8rKytKkSZOPLVsy\n",
              "bty4dOzYMa+88koGDx6crl27JknGjh2bmTNnJkm6dOmS6667Lscee2y6du2adu3aZdy4cZ/6MwAA\n",
              "AIDPolRdXV29Pb/w7rvv1vz5vffey913353Nmzfn8ssvr/Ph6sIll1ySyZMnN/QYAAAAwE5iu88M\n",
              "adWqVc2y995755JLLsn06dPrYzYAAACAOrfD9wx59tln8+abb9bFLAAAAAD1run2/kLbtm1TKpWS\n",
              "JJs2bUqSTJ06tW6nAgAAAKgn2x1DFi5c+N+/3LRpOnTo4BtbAAAAgEZju2PI/vvvnz//+c81UaRt\n",
              "27Zp2bJlXc8FAAAAUC+2O4bMnTs3I0eOTIcOHZIkr7/+embMmJFjjjmmzocDAAAAqGvbHUP+8u0x\n",
              "xx57bJIP4sjFF1+c3//+93U+HAAAAEBd2+5vk3nvvfdqQkiS9OnTJ++//36dDgUAAABQX7Y7hvzV\n",
              "X/1VfvOb39Q8fvjhh9OqVas6HQoAAACgvmz3ZTI333xzTj/99JpvkKmqqsp9991X54MBAAAA1Ift\n",
              "jiErVqzI/Pnz8/rrrydJ2rdvn3nz5tX5YAAAAAD1Ybsvk5kwYULatWuXQw45JIccckj23nvvTJgw\n",
              "oT5mAwAAAKhz2x1DPqpUKmXz5s11MQsAAABAvdvuGLLHHntk7ty5NY8fffTR7LHHHnU6FAAAAEB9\n",
              "2e57hvzv//2/M2LEiHTv3j1J8sILL+QXv/hFnQ8GAAAAUB+2O4Ycc8wxeeaZZ/LYY48lSfr06ZM9\n",
              "99yzrucCAAAAqBfbHUOSpG3btjn55JPrehYAAACAerfDN1AFAAAAaEzEEAAAAKBQxBAAAACgUMQQ\n",
              "AAAAoFDEEAAAAKBQxBAAAACgUMQQAAAAoFDEEAAAAKBQxBAAAACgUMQQAAAAoFDEEAAAAKBQxBAA\n",
              "AACgUMQQAAAAoFDEEAAAAKBQxBAAAACgUMQQAAAAoFDEEAAAAKBQxBAAAACgUMQQAAAAoFDEEAAA\n",
              "AKBQxBAAAACgUMQQAAAAoFDEEAAAAKBQxBAAAACgUMQQAAAAoFDEEAAAAKBQxBAAAACgUMQQAAAA\n",
              "oFDEEAAAAKBQxBAAAACgUMQQAAAAoFDEEAAAAKBQxBAAAACgUMQQAAAAoFDEEAAAAKBQxBAAAACg\n",
              "UMQQAAAAoFDEEAAAAKBQxBAAAACgUMQQAAAAoFDEEAAAAKBQxBAAAACgUMQQAAAAoFDEEAAAAKBQ\n",
              "xBAAAACgUMQQAAAAoFDEEAAAAKBQxBAAAACgUMQQAAAAoFDEEAAAAKBQxBAAAACgUMQQAAAAoFDE\n",
              "EAAAAKBQxBAAAACgUMQQAAAAoFDEEAAAAKBQxBAAAACgUMQQAAAAoFDEEAAAAKBQxBAAAACgUMQQ\n",
              "AAAAoFDEEAAAAKBQ6jWGvPDCC+nTp0+6deuWo446Kk8//fTH1qmqqspll12WQw45JN27d8/Xv/71\n",
              "bNiwoebn//zP/5wePXqkoqIiRx99dObNm1efIwMAAAC7uHqNIePGjct5552X559/PldeeWXGjBnz\n",
              "sXXuvPPOPPnkk3nyySfzzDPPpKysLFOmTEmSLFy4MP/yL/+SefPmZeHChfnGN76Rb3zjG/U5MgAA\n",
              "ALCLq7cYsmrVqsyfPz+jR49OkowcOTLLly/PkiVLaq33hz/8IQMHDkzz5s1TKpVy0kkn5Z577kmS\n",
              "lEqlbNy4Me+++26SZM2aNenYseNWX3P9+vVZt25drWXz5s319A4BAACAxqjeYsjy5cvzxS9+MU2b\n",
              "Nk3yQdgoLy/PsmXLaq3Xq1evzJw5M+vWrcvGjRvz85//PJWVlUmSww47LBdffHE6d+6cjh075qab\n",
              "bsrUqVO3+po33HBD2rRpU2txWQ0AAADwYQ1+A9UxY8ZkyJAhGTBgQAYMGJBu3brVBJSXXnop9913\n",
              "X5YsWZJXXnklF198cc4666ytbmv8+PFZu3ZtraV3796f11sBAAAAGoF6iyH77bdfXnvttWzatClJ\n",
              "Ul1dnWXLlqW8vLzWeqVSKddee20WLFiQuXPnpkePHvnyl7+cJJkxY0Z69uyZL33pS0mSv/u7v8uj\n",
              "jz5a6warH9aiRYu0bt261tKkSZP6eosAAABAI1RvMWSfffbJEUcckZ/+9KdJPggbHTt2TNeuXWut\n",
              "9/7772f16tVJkjfffDOTJk3KFVdckSTp0qVLHn300bzzzjtJkgceeCDdunVL8+bN62tsAAAAYBfX\n",
              "tD43ftttt2XMmDGZOHFiWrdunbvuuitJMnbs2AwbNizDhg3L2rVrc9xxx6WsrCxVVVW56KKLcuqp\n",
              "pyZJRowYkccffzxHHnlkWrRokVatWmXatGn1OTIAAACwiytVV1dXN/QQ9emSSy7J5MmTG3oMAAAA\n",
              "YCfR4DdQBQAAAPg8iSEAAABAoYghAAAAQKGIIQAAAEChiCEAAABAoYghAAAAQKGIIQAAAEChiCEA\n",
              "AABAoYghAAAAQKGIIQAAAEChiCEAAABAoYghAAAAQKGIIQAAAEChiCEAAABAoYghAAAAQKGIIQAA\n",
              "AEChiCEAAABAoYghAAAAQKGIIQAAAEChiCEAAABAoYghAAAAQKGIIQAAAEChiCEAAABAoYghAAAA\n",
              "QKGIIQAAAEChiCEAAABAoYghAAAAQKGIIQAAAEChiCEAAABAoYghAAAAQKGIIQAAAEChiCEAAABA\n",
              "oYghAAAAQKGIIQAAAEChiCEAAABAoYghAAAAQKGIIQAAAEChiCEAAABAoYghAAAAQKGIIQAAAECh\n",
              "iCEAAABAoYghAAAAQKGIIQAAAEChiCEAAABAoYghAAAAQKGIIQAAAEChiCEAAABAoYghAAAAQKGI\n",
              "IQAAAEChiCEAAABAoYghAAAAQKGIIQAAAEChiCEAAABAoYghAAAAQKGIIQAAAEChiCEAAABAoYgh\n",
              "AAAAQKGIIQAAAEChiCEAAABAoYghAAAAQKGIIQAAAEChiCEAAABAoYghAAAAQKGIIQAAAEChiCEA\n",
              "AABAoYghAAAAQKGIIQAAAEChiCEAAABAoYghAAAAQKGIIQAAAEChiCEAAABAoYghAAAAQKGIIQAA\n",
              "AEChiCEAAABAoYghAAAAQKGIIQAAAEChiCEAAABAoYghAAAAQKHUawx54YUX0qdPn3Tr1i1HHXVU\n",
              "nn766Y+tU1VVlcsuuyyHHHJIunfvnq9//evZsGFDzc+XLVuWU089NQcddFB69OiRqVOn1ufIAAAA\n",
              "wC6uXmPIuHHjct555+X555/PlVdemTFjxnxsnTvvvDNPPvlknnzyyTzzzDMpKyvLlClTkiTV1dUZ\n",
              "MWJEvva1r+W5557L4sWL8zd/8zf1OTIAAACwi6u3GLJq1arMnz8/o0ePTpKMHDkyy5cvz5IlS2qt\n",
              "94c//CEDBw5M8+bNUyqVctJJJ+Wee+5Jkjz88MNp0aJFzjzzzJr127dvv9XXXL9+fdatW1dr2bx5\n",
              "cz28OwAAAKCxqrcYsnz58nzxi19M06ZNkySlUinl5eVZtmxZrfV69eqVmTNnZt26ddm4cWN+/vOf\n",
              "p7KyMkmyePHitGvXLmeffXYOP/zwjBgxIkuXLt3qa95www1p06ZNrWXevHn19RYBAACARqjBb6A6\n",
              "ZsyYDBkyJAMGDMiAAQPSrVu3moCyadOmPPLII5kwYUIWLFiQwYMHf+JlMuPHj8/atWtrLb179/68\n",
              "3goAAADQCNRbDNlvv/3y2muvZdOmTUk+uP/HsmXLUl5eXmu9UqmUa6+9NgsWLMjcuXPTo0ePfPnL\n",
              "X06SlJeX5/DDD695fM455+TJJ5/Mxo0bt/iaLVq0SOvWrWstTZo0qa+3CAAAADRC9RZD9tlnnxxx\n",
              "xBH56U9/miSZMWNGOnbsmK5du9Za7/3338/q1auTJG+++WYmTZqUK664Ikly0kkn5ZVXXsmrr76a\n",
              "JHnwwQdz8MEHp1mzZvU1NgAAALCLa1qfG7/tttsyZsyYTJw4Ma1bt85dd92VJBk7dmyGDRuWYcOG\n",
              "Ze3atTnuuONSVlaWqqqqXHTRRTn11FOTJK1atcqtt96aoUOHprq6Om3atMnPfvaz+hwZAAAA2MWV\n",
              "qqurqxt6iPp0ySWXZPLkyQ09BgAAALCTaPAbqAIAAAB8nsQQAAAAoFDEEAAAAKBQxBAAAACgUMQQ\n",
              "AAAAoFDEEAAAAKBQxBAAAACgUMQQAAAAoFDEEAAAAKBQxBAAAACgUMQQAAAAoFDEEAAAAKBQxBAA\n",
              "AACgUMQQAAAAoFDEEAAAAKBQxBAAAACgUMQQAAAAoFDEEAAAAKBQxBAAAACgUMQQAAAAoFDEEAAA\n",
              "AKBQxBAAAACgUMQQAAAAoFDEEAAAAKBQxBAAAACgUMQQAAAAoFDEEAAAAKBQxBAAAACgUMQQAAAA\n",
              "oFDEEAAAAKBQxBAAAACgUMQQAAAAoFDEEAAAAKBQxBAAAACgUMQQAAAAoFDEEAAAAKBQxBAAAACg\n",
              "UMQQAAAAoFDEEAAAAKBQxBAAAACgUMQQAAAAoFDEEAAAAKBQxBAAAACgUMQQAAAAoFDEEAAAAKBQ\n",
              "xBAAAACgUMQQAAAAoFDEEAAAAKBQxBAAAACgUMQQAAAAoFDEEAAAAKBQxBAAAACgUMQQAAAAoFDE\n",
              "EAAAAKBQxBAAAACgUMQQAAAAoFDEEAAAAKBQxBAAAACgUMQQAAAAoFDEEAAAAKBQStXV1dUNPUR9\n",
              "Ov3009OpU6eGHuNTbd68OfPmzUvv3r3TpEmThh6HT2BfNS72V+NhXzUu9lfjYV81LvZX42FfNS6N\n",
              "bX/tv//+ueiiixp6jF3aLh9DGot169alTZs2Wbt2bVq3bt3Q4/AJ7KvGxf5qPOyrxsX+ajzsq8bF\n",
              "/mo87KvGxf7io1wmAwAAABSKGAIAAAAUihgCAAAAFIoYspNo0aJF/vEf/zEtWrRo6FH4FPZV42J/\n",
              "NR72VeNifzUe9lXjYn81HvZV42J/8VFuoAoAAAAUijNDAAAAgEIRQwAAAIBCEUMAAACAQhFDdgIv\n",
              "vPBC+vTpk27duuWoo47K008/3dAjsRXvv/9+hg8fnm7duuWwww7LV77ylSxZsqShx+JT3HXXXSmV\n",
              "Srn//vsbehQ+wfr16/ONb3wjBx54YHr27JnRo0c39EhsxYMPPpgjjjgiFRUVOeSQQ/KTn/ykoUfi\n",
              "v1x44YXp1KlTSqVSFi5cWPO8Y42d05b2l2ONndPW/m79hWONncvW9pdjDT5MDNkJjBs3Luedd16e\n",
              "f/75XHnllRkzZkxDj8QnOO+88/Lcc8/lD3/4Q0477bSMHTu2oUfiE1RWVuaOO+7I0Ucf3dCj8Cmu\n",
              "uuqqlEqlPP/883nqqafyve99r6FHYguqq6szevTo/PjHP87ChQvzwAMPZNy4cXn77bcbejSSnHHG\n",
              "GZkzZ07233//Ws871tg5bW1/OdbY+WxtXyWONXZGW9tfjjX4MDGkga1atSrz58+vqZIjR47M8uXL\n",
              "/T8AO6nddtstJ598ckqlUpLk6KOPTmVlZcMOxVZVVVVl7NixmTp1qq9R28m9++67ufPOO/Pd7363\n",
              "5u9Xhw4dGngqtqZUKmXNmjVJknXr1mWvvfbyd2wn0b9//3Ts2LHWc441dl5b2l+ONXZOW9pXiWON\n",
              "ndWW9pdjDT5KDGlgy5cvzxe/+MU0bdo0yQcHmOXl5Vm2bFkDT8a2mDJlSk477bSGHoOtmDx5co49\n",
              "9tj06tWroUfhU7z44ov5whe+kIkTJ+bII49Mv3798vDDDzf0WGxBqVTKv/7rv+b000/P/vvvn759\n",
              "++YnP/lJmjdv3tCjsRWONRo3xxo7N8cajYdjDT6qaUMPAI3VxIkTs2TJEv8R3UktWrQoM2bMyP/7\n",
              "f/+voUdhG2zatCkvv/xyevTokUmTJmXBggX5yle+kqeffjrt27dv6PH4kE2bNuX666/Pfffdl/79\n",
              "++fxxx/PsGHD8tRTT2Xvvfdu6PFgl+JYY+fmWKNxcazBRzkzpIHtt99+ee2117Jp06YkH1yLvWzZ\n",
              "spSXlzfwZHyS733ve7nvvvvy7//+72nZsmVDj8MWzJ49O5WVlTnwwAPTqVOn/P73v895552XH/7w\n",
              "hw09GltQXl6esrKyfPWrX02SHH744encuXOeeuqpBp6Mj1q4cGFWrFiR/v37J0mOOuqodOzYMQsW\n",
              "LGjgydgaxxqNk2ONnZ9jjcbFsQYfJYY0sH322SdHHHFEfvrTnyZJZsyYkY4dO6Zr164NPBlbM3ny\n",
              "5Nx777156KGHsueeezb0OGzFBRdckNdeey2VlZWprKzM0Ucfndtvvz0XXHBBQ4/GFuy999458cQT\n",
              "8x//8R9JkpdeeikvvfRSDj744AaejI/6yz+sn3nmmSTJkiVL8uKLL+aggw5q4MnYGscajY9jjcbB\n",
              "sUbj4liDjypVV1dXN/QQRffcc89lzJgxeeutt9K6devcdddd6dmzZ0OPxRa88sor2W+//dKlS5fs\n",
              "scceSZIWLVrkP//zPxt4Mj7Ncccdl29+85sZPnx4Q4/CVixdujRf//rX8+abb6asrCzf/va3M3Lk\n",
              "yIYeiy249957M3HixJSVlaWqqirjx4/PqFGjGnos8sG3xvzqV7/KypUrs9dee2WPPfbIkiVLHGvs\n",
              "pLa0v37729861tgJbe3v1oc51th5bG1/Odbgw8QQAAAAoFBcJgMAAAAUihgCAAAAFIoYAgAAABSK\n",
              "GAIAfGaVlZW1vu3iwgsvTKdOnVIqlbJw4cIGmwsA4JOIIQBAnTnjjDMyZ86c7L///g09CgDAVokh\n",
              "AEAtjz32WPr27ZvDDjsshx56aH75y19m/vz56dOnTw499ND07t07jz766BZ/t3///unYsePnPDEA\n",
              "wPZp2tADAAA7jz/96U8ZPnx4pk+fnn79+qWqqipvvvlmjjzyyNxxxx0ZPHhw5syZk5EjR2bJkiUN\n",
              "PS4AwGfizBAAoMZjjz2Wgw46KP369UuSlJWV5fXXX09ZWVkGDx6cJOnbt2/at2/vniAAQKMlhgAA\n",
              "261UKjX0CAAAn5kYAgDU6NOnT1544YXMnj07SVJVVZX27dunqqoqDz30UJJk7ty5WblyZSoqKhpw\n",
              "UgCAz65UXV1d3dBDAAA7j9///ve59NJL8/bbb6esrCz/9E//lC9+8Yu58MIL884772S33XbL5MmT\n",
              "07dv31RWVqaioiJr1qxJkowbNy6/+tWvsnLlyuy1117ZY4893FsEANjpiCEAAABAobhMBgAAACgU\n",
              "MQQAAAAoFDEEAAAAKBQxBAAAACgUMQQAAAAoFDEEAAAAKBQxBAAAACgUMQQAAAAoFDEEAAAAKBQx\n",
              "BAAAACiU/w8SEilHBtVmlwAAAABJRU5ErkJggg==\n",
              "\">\n",
              "      </div>\n",
              "      <script type=\"text/javascript\">\n",
              "        (() => {\n",
              "          const chartElement = document.getElementById(\"chart-85d626bc-bdac-404a-abb8-ac73344525e1\");\n",
              "          async function getCodeForChartHandler(event) {\n",
              "            const chartCodeResponse =  await google.colab.kernel.invokeFunction(\n",
              "                'getCodeForChart', [\"chart-85d626bc-bdac-404a-abb8-ac73344525e1\"], {});\n",
              "            const responseJson = chartCodeResponse.data['application/json'];\n",
              "            await google.colab.notebook.addCell(responseJson.code, 'code');\n",
              "          }\n",
              "          chartElement.onclick = getCodeForChartHandler;\n",
              "        })();\n",
              "      </script>\n",
              "      <style>\n",
              "        .colab-quickchart-chart-with-code  {\n",
              "            display: block;\n",
              "            float: left;\n",
              "            border: 1px solid transparent;\n",
              "        }\n",
              "\n",
              "        .colab-quickchart-chart-with-code:hover {\n",
              "            cursor: pointer;\n",
              "            border: 1px solid #aaa;\n",
              "        }\n",
              "      </style>"
            ]
          },
          "metadata": {}
        },
        {
          "output_type": "display_data",
          "data": {
            "text/plain": [
              "from matplotlib import pyplot as plt\n",
              "import seaborn as sns\n",
              "def _plot_series(series, series_name, series_index=0):\n",
              "  palette = list(sns.palettes.mpl_palette('Dark2'))\n",
              "  counted = (series['col2']\n",
              "                .value_counts()\n",
              "              .reset_index(name='counts')\n",
              "              .rename({'index': 'col2'}, axis=1)\n",
              "              .sort_values('col2', ascending=True))\n",
              "  xs = counted['col2']\n",
              "  ys = counted['counts']\n",
              "  plt.plot(xs, ys, label=series_name, color=palette[series_index % len(palette)])\n",
              "\n",
              "fig, ax = plt.subplots(figsize=(10, 5.2), layout='constrained')\n",
              "df_sorted = _df_9.sort_values('col2', ascending=True)\n",
              "for i, (series_name, series) in enumerate(df_sorted.groupby('index')):\n",
              "  _plot_series(series, series_name, i)\n",
              "  fig.legend(title='index', bbox_to_anchor=(1, 1), loc='upper left')\n",
              "sns.despine(fig=fig, ax=ax)\n",
              "plt.xlabel('col2')\n",
              "_ = plt.ylabel('count()')"
            ],
            "text/html": [
              "      <div class=\"colab-quickchart-chart-with-code\" id=\"chart-88dc5cdd-eadc-44cc-9bad-0a7e96ac5c08\">\n",
              "        <img style=\"width: 180px;\" src=\"data:image/png;base64,iVBORw0KGgoAAAANSUhEUgAABEMAAAITCAYAAADsAtIvAAAAOXRFWHRTb2Z0d2FyZQBNYXRwbG90\n",
              "bGliIHZlcnNpb24zLjcuMSwgaHR0cHM6Ly9tYXRwbG90bGliLm9yZy/bCgiHAAAACXBIWXMAAA9h\n",
              "AAAPYQGoP6dpAAA1bElEQVR4nO3de5hUhZ3n4W81SCuOIIkIidACIiIRbUUZRRAvCHgH0dEhmHU2\n",
              "KLqT0XgXDRnNGGRWg0HciZe4JpoHMxkghsdxnom3ZFFMEIVExBtiC4iIGi5q5Nq9fzjpCREUpMum\n",
              "Oe/7POcJVXXq1K/qPPgUn5xzqlRXV1cXAAAAgIKoaOwBAAAAAD5PYggAAABQKGIIAAAAUChiCAAA\n",
              "AFAoYggAAABQKGIIAAAAUChiCAAAAFAoYggAAABQKDt8DJkwYUJjjwAAAABsR5o39gDl9vrrrzf2\n",
              "CAAAANDg1q1bl5UrV+aPf/xjY4+yXWjZsmVat26dnXba6VPX3eFjCAAAAOxoli5dmjfeeCPNmjVL\n",
              "qVRq7HG2C3/4wx/y+uuvZ6+99kr79u0/cV0xBAAAAJqQP/7xj1myZEl23XXX7LnnnmnRokXhg0hd\n",
              "XV3Wrl2bZcuWZcmSJWnVqlVatmy52fXFEAAAAGhC3nnnnTRr1ix77bVXdtttt8YeZ7uy0047ZcGC\n",
              "BXnnnXdSVVW12fV2+AuoAgAAwI6oosI/6f/Sln4mPjkAAACgUMQQAAAAIN27d8/y5cu3+nmDBw/O\n",
              "hAkTyjBR+bhmCAAAAJAXX3yxsUf43DgyBAAAAEipVMrbb7+dJPnyl7+ciy++ONXV1dlrr71yxRVX\n",
              "1K83e/bsHHzwwenatWsGDBiQ9957r/6x5cuX56yzzkrPnj3TrVu3nH322Vm9enXmzJmTdu3aZd68\n",
              "eUmSMWPGpF+/ftmwYcPn+yb/ixgCAAAAfMzKlSszZ86cPP300/nBD36QBQsWJEnOOeecfO1rX8v8\n",
              "+fPz3e9+N08//XT9cy688ML069cvzz33XF588cXU1tbmhhtuSHV1db7zne/kzDPPzIMPPpj/+3//\n",
              "b37605+mWbNmjfLenCYDAAAAfMw555yT5KOjRDp27JiXX345u+++e1588cX8wz/8Q5Lkr//6r3PI\n",
              "IYfUP+eXv/xlnnnmmdx2221JktWrV9cHj1GjRuXxxx/P6aefnmnTpmWvvfb6nN/RfxNDAAAAgI/Z\n",
              "ZZdd6v9cUVGR9evXb3K9UqlU/+e6urpMnjw5Bx100MfWW7t2bV566aW0bt06ixYtaviBt4LTZAAA\n",
              "AIAt8oUvfCH7779//ZEfTz/9dJ599tn6xwcOHJgbbrgha9euTZIsW7Ysc+fOTZL8/d//ffbZZ588\n",
              "/vjjGTNmTP39jUEMAQAAALbYvffemx/96Efp2rVrrrnmmhx66KH1j91xxx3ZZZdd0qNHj3Tr1i1H\n",
              "H310XnnllUyaNCmPP/547rnnnhxwwAH57ne/m7/5m7/JBx980CjvoVRXV1fXKK/8Obn00kszfvz4\n",
              "xh4DAAAAGsTChQuzfPnydO3aNbvuumtjj7Nd+eCDDzJ//vy0adMmVVVVm13PkSEAAABAoYghAAAA\n",
              "QKGIIQAAAEChiCEAAABAoYghAAAAQKGIIQAAAEChiCEAAADANvvyl7+cTp06pXv37unUqVNGjx7d\n",
              "INu96qqr0qlTp1RUVOS+++5rkG2KIQAAAECDmDRpUl588cU89thjmThxYh5//PFt3ubgwYPz0EMP\n",
              "5dBDD22ACT8ihgAAAEATVltbm/fWrC7rUltbu1UzdenSJV26dMmCBQsyd+7cHHHEEenWrVu6d+9e\n",
              "f3THTTfdlLPPPjtJMmvWrJRKpUyZMiVJctlll+Wyyy5LkhxzzDHp0aNHA35iSfMG3RoAAADwufpg\n",
              "3drsP+m6sr7GC8Ovy26VO2/x+rNnz86KFSsyePDgnHDCCRkxYkSuvPLK/P73v89RRx2V3r1756ST\n",
              "TsqECROSJA899FCqq6vz8MMPZ9iwYfnVr36VcePGlevtODIEAAAAaBjDhw9Ply5d0qtXr4wcOTIt\n",
              "W7bMvHnz8s1vfjNJcuCBB6ZXr1559NFH64/2mDdvXh5//PHccMMNmT59elasWJFXX301/fv3L9uc\n",
              "jgwBAACAJmzXnVrkheHXlf01tsSkSZPSp0+f/PznP8/f/u3fZtCgQR9bp1Qq1f+5b9++eeCBB1JT\n",
              "U5OTTjopV1xxRe69995UV1enRYste83PwpEhAAAA0IRVVFRkt8qdy7pUVGxdPhg6dGhGjBiRa665\n",
              "Jj169Mitt96aJJk7d26eeeaZDBgwIEkyYMCA3Hbbbamurk6S9OvXL+PGjcsxxxzToJ/RXxJDAAAA\n",
              "gAY3duzYPPPMM/n+97+fKVOmZL/99ssZZ5yRW2+9Nd26dUuSnHzyyVm6dGmOO+64JMnAgQPz5ptv\n",
              "ZvDgwfXbueKKK9KuXbvMmTMnF110Udq1a5c33nhjm2Yr1dXV1W3TFrZzl156acaPH9/YYwAAAECD\n",
              "WLhwYZYvX56uXbtm1113bexxtisffPBB5s+fnzZt2qSqqmqz6zkyBAAAACgUMQQAAAAoFDEEAAAA\n",
              "KBQxBAAAACiU5o09AAAAALDl/vxnbnfw30T5zD7tp4AdGQIAAABNyKf9Qx8xBAAAAGAjYggAAAA0\n",
              "UaVSabtZ9tprr3Tu3Dn7779/OnfunGuuuaZBtnvmmWemU6dO6d69ew455JD8+te/3uy6W8o1QwAA\n",
              "AKAJq62tTd2a98v6GqXKv9qi03MmTZqUPn36ZMGCBTnwwAMzcODAHHPMMdv02kOGDMmkSZPSokWL\n",
              "TJo0KcOHD8+SJUu2aZtiCAAAADRhdWvez6sXtinra+zzg+XJLq22eP0uXbqkS5cuWbBgQdq2bZvz\n",
              "zjsv7777bioqKnLttdfmnHPOyU033ZRnnnkmP/3pTzNr1qwcdthhmTx5coYNG5bLLrssSfK9730v\n",
              "I0aMqN/u0UcfnWXLlmXt2rVp0aLFZ34/TpMBAAAAGtTs2bOzYsWKDB48OMOHD8/QoUPz8ssv52c/\n",
              "+1n+4R/+IS+99FJOOumkPPHEE0mShx56KNXV1Xn44YeTJL/61a8yePDgj2133Lhx6d+//zaFkMSR\n",
              "IQAAANCklSr/6qMjN8r8Glti+PDhqaioSE1NTa677rq0bNky8+bNyze/+c0kyYEHHphevXrl0Ucf\n",
              "zf/6X/8rSTJv3rw8/vjjueGGG3LllVdmxYoVefXVV9O/f/+Ntv0v//IvmTZtWqZPn77N70cMAQAA\n",
              "gCasoqJiq05hKac/XTPk5z//ef72b/82gwYN+tg6f36h0759++aBBx5ITU1NTjrppFxxxRW59957\n",
              "U11dvdHRH3fddVf++Z//OQ8//HA6duy4zXM6TQYAAABoUEOHDs2IESNyzTXXpEePHrn11luTJHPn\n",
              "zs0zzzyTAQMGJEkGDBiQ2267LdXV1UmSfv36Zdy4cRtddPWHP/xhbrjhhvzyl79Mt27dGmQ+MQQA\n",
              "AABocGPHjs0zzzyT73//+5kyZUr222+/nHHGGbn11lvro8bJJ5+cpUuX5rjjjkuSDBw4MG+++eZG\n",
              "1wu54IILsmbNmpx22mnp3r17unfvnqVLl27TbE6TAQAAALbZX/7c7Z577pkVK1YkSZ566qlNPqd9\n",
              "+/apra2tvz1s2LDU1dVttM769esbdtA4MgQAAAAoGDEEAAAAKBQxBAAAACgUMQQAAAAoFBdQBQAA\n",
              "gCakWbNm9X/+y4uN8pE//4w2xZEhAAAA0IRUVPin/Kf5tM/IJwgAAABss7322iudO3fO/vvvn86d\n",
              "O+eaa65pkO2eeeaZ2W+//bL//vunZ8+emTZt2jZv02kyAAAA0ESVSqXGHmEjkyZNSp8+fbJgwYIc\n",
              "eOCBGThwYI455pht2uYPfvCDtG3bNkny5JNP5sQTT8wf/vCHTz0V5pM4MgQAAACasNra2qz+cG1Z\n",
              "l9ra2q2aqUuXLunSpUsWLFiQuXPn5ogjjki3bt3SvXv33HfffUmSm266KWeffXaSZNasWSmVSpky\n",
              "ZUqS5LLLLstll12WJPUhJEmWL1/eEB+ZI0MAAACgKVu7Zn2+fc0vy/oa3xk7MDvv0mKL1589e3ZW\n",
              "rFiRwYMH54QTTsiIESNy5ZVX5rnnnku/fv3Su3fvnHTSSZkwYUKS5KGHHkp1dXUefvjhDBs2LL/6\n",
              "1a8ybty4+u1deOGFefDBB7Nq1ar85Cc/2aajQhJHhgAAAAANZPjw4enSpUt69eqVkSNHpmXLlpk3\n",
              "b16++c1vJkl69uyZXr165dFHH02PHj2SJPPmzcvjjz+eG264IdOnT8+KFSvy6quvpn///vXb/cEP\n",
              "fpBFixblxz/+cUaPHp3Vq1dv05yODAEAAIAmrEVl83xn7MCyv8aW+NM1Qx544IGcffbZGTRo0MfW\n",
              "+fPrnPTt2zcPPPBAampqctJJJ+WKK67Ifffdl+rq6rRo8fEjUYYMGZJLLrkkM2fOzFFHHfWZ348j\n",
              "QwAAAKAJq6ioyM67tCjrsrU/5ztkyJCMGDEi11xzTXr06JFbb701STJ37tw888wzGTBgQJJkwIAB\n",
              "ue2221JdXZ0k6devX2688cb6i66uWbMmc+fOrd/u448/nj/84Q/p3r37Nn1mjgwBAAAAGtzYsWPT\n",
              "rVu3TJ06Nddee23uuuuulEql3HrrrenWrVuS5OSTT87555+f4447LkkycODA3HnnnRk8eHCSZO3a\n",
              "tTnnnHPy3nvvpXnz5tlll11y3333Zc8999ym2cQQAAAAYJstWbJko9t77rlnVqxYkSR56qmnNvmc\n",
              "9u3bb/RLNcOGDUtdXV397d122y2zZ89u8FmdJgMAAAAUSlljyEUXXZROnTqlVCplzpw5m13v7rvv\n",
              "zr777pt99tkn5513XtatW7fR43V1dTn22GOz++67l3NcAAAAoADKGkPOOOOMPPHEE9l77703u85r\n",
              "r72WMWPGZPr06Zk/f37eeuut3HnnnRutc8stt2SfffYp56gAAABAQZQ1hhx11FHp0KHDJ64zefLk\n",
              "nHrqqWnfvn1KpVIuuOCC3H///fWPP//883nggQdy9dVXf+rrrVmzJqtWrdpo2bBhwza/DwAAAGDH\n",
              "0egXUF24cOFGR4506tQpCxcuTJKsW7cu5513Xu6+++40a9bsU7d144035vrrr9/ovsMPP7xhBwYA\n",
              "AIBG1Lz5R/+Ur6ur2+hio6T+8/jTZ7Q52/UFVK+//vqcfvrp2X///bdo/dGjR2flypUbLb179y7z\n",
              "lAAAAPD5qaioSKlUSqlUqg8ilo+WP30uFRWfnDsa/ciQqqqqvPrqq/W3a2pqUlVVlST59a9/nYUL\n",
              "F+a2227L+vXrs2rVqnTq1ClPP/102rZt+7FtVVZWprKycqP7tuSIEgAAAGhq/vQPf/7bln4ejX5k\n",
              "yLBhwzJt2rQsXbo0dXV1uf3223P22WcnSaZPn57XX389NTU1eeKJJ9KqVavU1NRsMoQAAABA0fwp\n",
              "iGwPS4cOHdKlS5fsv//+6dKlS6699toG3f6DDz6Y5s2b54YbbtjsOluqrDFk1KhR6dChQxYvXpxB\n",
              "gwala9euSZKRI0dm2rRpSZIuXbrk+uuvz5FHHpmuXbumbdu2GTVqVDnHAgAAAMpg0qRJefHFF/PY\n",
              "Y49l4sSJ+fWvf90g23333Xdz7bXXpn///g2yvbKeJnPHHXds8v4f/vCHG90+77zzct55533itjp1\n",
              "6pQVK1Y01GgAAACwQ6itrU0+WFfeF9l1p0+9Dsef69y5czp37pwFCxZkjz32yHnnnZd33nknFRUV\n",
              "+da3vpURI0bke9/7XmbNmpX7778/zz77bHr16pWpU6dm6NChueKKK5IkN910U5KPDqq4+uqrM3Xq\n",
              "1AZ5O41+zRAAAABgG3ywLsv++tayvsSev70o2a3y01f8L3PmzMmKFSsyaNCgDB48OF/72tdy+eWX\n",
              "Z+7cuenbt2969+6dE088MbfcckuS5KGHHkp1dXV++ctfZujQoXn88cczbty4JMmPfvSjVFRUZPjw\n",
              "4Q0WQxr9miEAAADAjmH48OHp0qVLDjnkkJx//vlp2bJl5s2bl4svvjhJcsABB+TQQw/No48+Wv/L\n",
              "sS+88EIee+yxjB07NtOnT8/KlSszf/789O/fP4sWLcq4ceM2e+bJZ+XIEAAAAGjKdt3poyM3yvwa\n",
              "W2LSpEk54ogj8otf/CJnnXVWBg4c+LF1/vxCp/369csvfvGLvPbaaznhhBNy+eWX57777svBBx+c\n",
              "nXbaKTNmzMjbb7+dgw46KEmyfPnyPPzww3n77bdz662f/WgYR4YAAABAE1ZRUZGK3SrLu2zF9UKS\n",
              "5LTTTss555yTa665Jj169MjEiROTJM8//3xmzZqVAQMGJEmOP/74TJw4MQcffHCSj+LIjTfemGOP\n",
              "PTZJctZZZ+Xdd9/NG2+8kTfeeCMnnnhiLr/88m0KIYkYAgAAAJTB2LFjM2vWrEyYMCGTJ0/Ofvvt\n",
              "l2HDhmXixInZd999kyQnnXRS3nzzzRx33HFJkkGDBmXJkiUZNGhQWWdzmgwAAACwzd54442Nbrdt\n",
              "27b+V2FnzJixyee0a9fuo1/D+S9Dhw5NXV3dZl9j8uTJ2z5oHBkCAAAAFIwYAgAAABSKGAIAAAAU\n",
              "ihgCAAAATdAnXVujqLb0M3EBVQAAAGhCdtpppyTJ+vXrs379+q3+2dsdVW1tbdavX5/kvz+jzRFD\n",
              "AAAAoAmpqKhI8+bNUyqVsm7dusYeZ7tSKpXSvHnzTw1EYggAAAA0MaVSKTvttFMqKysbe5TtTqlU\n",
              "+tR1xBAAAABogkql0nZ1ikynTp1SWVmZXXbZJR9++GH+7u/+LldfffU2b/foo4/O66+/ntatWydJ\n",
              "/sf/+B+55JJLNrnuloSQRAwBAACAJq2uri5rN3xY1tdo0WyXLQoN//qv/5rq6uq88cYb6dGjR449\n",
              "9tj07t17m1//lltuyZAhQ7Z5O38ihgAAAEATtnbDh7no3/Yv62vceuYLqWzecovX32uvvdK9e/e8\n",
              "/vrr+cIXvpALLrggy5YtS0VFRa677roMGTIkd955Z2bNmpU777wz8+bNy1e+8pX853/+ZwYOHJjv\n",
              "fOc7SZJvf/vbZXk/28/xNAAAAMAO4cUXX8y7776bo48+Ol/96ldz5pln5ve//33+7d/+LV//+tfz\n",
              "+uuvZ8CAAXnkkUeSJA8//HCOOOKIjW4PGDCgfntXX311evbsmbPOOisLFizY5vkcGQIAAABNWItm\n",
              "u+TWM18o+2tsibPOOisVFRV56aWXcsstt2TnnXfOs88+myeffDJJsu+++6Zv376ZPn16RowYkSRZ\n",
              "sGBBHnnkkdx444257LLL8v7772fevHn1p9fcd9996dixY+rq6vJ//s//ycknn5x58+Zt0/sRQwAA\n",
              "AKAJK5VKW3UKSzn96ZohjzzySE455ZQce+yxH1vnz689MmDAgPzHf/xHXnnllfTv3z91dXWZMmVK\n",
              "jjjiiDRv/lGy6NixY/3zvvGNb+Tyyy/Pu+++my9+8YufeU6nyQAAAAANasCAAbnwwgvzrW99K4cc\n",
              "ckjuueeeJMn8+fPzxBNP5Kijjqpf76abbqo/CuTYY4/NP/7jP9afIrN+/fq89dZb9dudMmVK2rVr\n",
              "t00hJHFkCAAAAFAGY8aMSdeuXfPQQw/l2muvzW233ZZSqZQf/vCHqaqqSpIcd9xxWbhwYX38OP74\n",
              "43PzzTfnuOOOS5KsWbMmJ510UtasWZOKiorssccemTZt2jbPJoYAAAAA26ympmaj223atMm7776b\n",
              "JPUXRv1LX/ziF1NbW1t/e+DAgamrq6u/veuuu2bWrFkNPqvTZAAAAIBCEUMAAACAQhFDAAAAoAn6\n",
              "89NL+MiWfiauGQIAAABNSIsWLVJRUZElS5akbdu2adGixUY/V1tEdXV1Wbt2bd5+++1UVFSkRYsW\n",
              "n7i+GAIAAABNSEVFRTp37pw333wzS5YsaexxtistW7ZMVVVVKio++UQYMQQAAACamBYtWqSqqirr\n",
              "16/Phg0bGnuc7UKzZs3SvHnzLTpKRgwBAACAJqhUKmWnnXbKTjvt1NijNDkuoAoAAAAUihgCAAAA\n",
              "FIoYAgAAABSKGAIAAAAUihgCAAAAFIoYAgAAABSKGAIAAAAUihgCAAAAFIoYAgAAABSKGAIAAAAU\n",
              "ihgCAAAAFIoYAgAAABSKGAIAAAAUihgCAAAAFIoYAgAAABSKGAIAAAAUihgCAAAAFIoYAgAAABSK\n",
              "GAIAAAAUihgCAAAAFIoYAgAAABSKGAIAAAAUihgCAAAAFIoYAgAAABSKGAIAAAAUihgCAAAAFIoY\n",
              "AgAAABSKGAIAAAAUihgCAAAAFIoYAgAAABSKGAIAAAAUihgCAAAAFIoYAgAAABSKGAIAAAAUihgC\n",
              "AAAAFIoYAgAAABSKGAIAAAAUihgCAAAAFIoYAgAAABSKGAIAAAAUihgCAAAAFIoYAgAAABSKGAIA\n",
              "AAAUihgCAAAAFIoYAgAAABSKGAIAAAAUihgCAAAAFIoYAgAAABSKGAIAAAAUSlljyEUXXZROnTql\n",
              "VCplzpw5m13v7rvvzr777pt99tkn5513XtatW5ckeeyxx9K7d+/06NEjX/nKV3LllVemtra2nCMD\n",
              "AAAAO7iyxpAzzjgjTzzxRPbee+/NrvPaa69lzJgxmT59eubPn5+33nord955Z5KkTZs2+elPf5p5\n",
              "8+blmWeeyYwZM3LvvfeWc2QAAABgB1fWGHLUUUelQ4cOn7jO5MmTc+qpp6Z9+/YplUq54IILcv/9\n",
              "9ydJDj744HTp0iVJsvPOO6e6ujo1NTWb3daaNWuyatWqjZYNGzY02PsBAAAAmr5Gv2bIwoULNzpy\n",
              "pFOnTlm4cOHH1lu6dGkmT56ck08+ebPbuvHGG9O6deuNlpkzZ5ZlbgAAAKBpavQYsiVWrVqVU045\n",
              "JVdeeWUOPfTQza43evTorFy5cqOld+/en+OkAAAAwPaueWMPUFVVlVdffbX+dk1NTaqqqupvv/fe\n",
              "exk8eHBOO+20XHrppZ+4rcrKylRWVm50X7NmzRp2YAAAAKBJa/QjQ4YNG5Zp06Zl6dKlqaury+23\n",
              "356zzz47SfL+++9n8ODBGTx4cL71rW818qQAAADAjqCsMWTUqFHp0KFDFi9enEGDBqVr165JkpEj\n",
              "R2batGlJki5duuT666/PkUcema5du6Zt27YZNWpUkmTChAmZOXNmpk6dmurq6lRXV+e73/1uOUcG\n",
              "AAAAdnClurq6usYeopwuvfTSjB8/vrHHAAAAALYTjX6aDAAAAMDnSQwBAAAACkUMAQAAAApFDAEA\n",
              "AAAKRQwBAAAACkUMAQAAAApFDAEAAAAKRQwBAAAACkUMAQAAAApFDAEAAAAKRQwBAAAACkUMAQAA\n",
              "AApFDAEAAAAKRQwBAAAACkUMAQAAAApFDAEAAAAKRQwBAAAACkUMAQAAAApFDAEAAAAKRQwBAAAA\n",
              "CkUMAQAAAApFDAEAAAAKRQwBAAAACkUMAQAAAApFDAEAAAAKRQwBAAAACkUMAQAAAApFDAEAAAAK\n",
              "RQwBAAAACkUMAQAAAApFDAEAAAAKRQwBAAAACkUMAQAAAApFDAEAAAAKRQwBAAAACkUMAQAAAApF\n",
              "DAEAAAAKRQwBAAAACkUMAQAAAApFDAEAAAAKRQwBAAAACkUMAQAAAApFDAEAAAAKRQwBAAAACkUM\n",
              "AQAAAApFDAEAAAAKRQwBAAAACkUMAQAAAApFDAEAAAAKRQwBAAAACkUMAQAAAApFDAEAAAAKRQwB\n",
              "AAAACkUMAQAAAApFDAEAAAAKRQwBAAAACkUMAQAAAApFDAEAAAAKRQwBAAAACkUMAQAAAApFDAEA\n",
              "AAAKRQwBAAAACkUMAQAAAApFDAEAAAAKpflnedK8efOyePHi7LLLLunZs2d23333Bh4LAAAAoDy2\n",
              "OIa89957ufnmm3PXXXelZcuWadeuXVavXp1XX301vXv3zlVXXZXjjjuunLMCAAAAbLMtjiHHHHNM\n",
              "vva1r2X27Nlp165d/f21tbWZPn16br/99syfPz+jRo0qy6AAAAAADWGLY8iTTz6ZysrKj91fUVGR\n",
              "/v37p3///lmzZk2DDgcAAADQ0Lb4AqqbCiGfZR0AAACAxrTFMeTkk0/OjBkzNvnYihUr8r3vfS93\n",
              "3HFHgw0GAAAAUA5bfJrM2LFjM3r06MybNy+HHXZY/QVUX3zxxbzxxhv5+7//+/zP//k/yzkrAAAA\n",
              "wDbb4hhy4IEH5t///d+zaNGi/PrXv87ixYvTsmXLfPWrX03fvn3TvPln+pVeAAAAgM/VVheM5cuX\n",
              "Z8SIERvd9/vf/z4HHnhggw0FAAAAUC5bfM2QPzn33HO36D4AAACA7dEWHxmybNmyLF26NB9++GGe\n",
              "e+651NXVJUlWrlyZDz74oGwDAgAAADSkLY4h999/f77//e9nyZIlOfXUU+vvb926da688sqyDAcA\n",
              "AADQ0LY4hlx88cW5+OKL80//9E8ZM2ZMOWcCAAAAKJutvoDqmDFjUltbm6VLl2b9+vX191dVVTXo\n",
              "YAAAAADlsNUXUP3xj3+c3XffPT179kyvXr3Sq1evHHrooZtc96KLLkqnTp1SKpUyZ86czW7z7rvv\n",
              "zr777pt99tkn5513XtatW7dFjwEAAABsra2OId/5znfy9NNP5913383bb7+dt99+O8uWLdvkumec\n",
              "cUaeeOKJ7L333pvd3muvvZYxY8Zk+vTpmT9/ft56663ceeedn/oYAAAAwGex1TFkjz32yH777bdF\n",
              "6x511FHp0KHDJ64zefLknHrqqWnfvn1KpVIuuOCC3H///Z/6GAAAAMBnsdXXDBkyZEi+//3vZ/jw\n",
              "4dl5553r72/VqtVnGmDhwoUbHTnSqVOnLFy48FMf25Q1a9ZkzZo1G923YcOGzzQXAAAAsGPa6iND\n",
              "rr322lx66aVp37592rRpk9133z1t2rQpx2xb7cYbb0zr1q03WmbOnNnYYwEAAADbka2OIbW1tfXL\n",
              "hg0b6v/3s6qqqsrrr79ef7umpqb+l2k+6bFNGT16dFauXLnR0rt37888GwAAALDj2eoY0tCGDRuW\n",
              "adOmZenSpamrq8vtt9+es88++1Mf25TKysq0atVqo6VZs2af11sBAAAAmoCtjiEVFRVp1qzZx5ZN\n",
              "GTVqVDp06JDFixdn0KBB6dq1a5Jk5MiRmTZtWpKkS5cuuf7663PkkUema9euadu2bUaNGvWpjwEA\n",
              "AAB8FqW6urq6rXnCBx98UP/nDz/8MPfee282bNiQK664osGHawiXXnppxo8f39hjAAAAANuJrT4y\n",
              "ZNddd61f9thjj1x66aWZPHlyOWYDAAAAaHDbfM2QF198Me+8805DzAIAAABQds239glt2rRJqVRK\n",
              "kqxfvz5JMnHixIadCgAAAKBMtjqGzJkz57+f3Lx52rdv7xdbAAAAgCZjq2PI3nvvnT/+8Y/1UaRN\n",
              "mzZp2bJlQ88FAAAAUBZbHUNmzJiRYcOGpX379kmSt956K1OmTMkRRxzR4MMBAAAANLStjiF/+vWY\n",
              "I488MslHceSSSy7Jb37zmwYfDgAAAKChbfWvyXz44Yf1ISRJ+vTpk9WrVzfoUAAAAADlstUx5K/+\n",
              "6q/yyCOP1N9+9NFHs+uuuzboUAAAAADlstWnydx66605/fTT639Bpra2NlOnTm3wwQAAAADKYatj\n",
              "yJIlSzJr1qy89dZbSZJ27dpl5syZDT4YAAAAQDls9WkyY8aMSdu2bXPAAQfkgAMOyB577JExY8aU\n",
              "YzYAAACABrfVMeQvlUqlbNiwoSFmAQAAACi7rY4hu+22W2bMmFF/+8knn8xuu+3WoEMBAAAAlMtW\n",
              "XzPkf//v/52hQ4eme/fuSZJXXnklP//5zxt8MAAAAIBy2OoYcsQRR+SFF17IU089lSTp06dPdt99\n",
              "94aeCwAAAKAstjqGJEmbNm1y4oknNvQsAAAAAGW3zRdQBQAAAGhKxBAAAACgUMQQAAAAoFDEEAAA\n",
              "AKBQxBAAAACgUMQQAAAAoFDEEAAAAKBQxBAAAACgUMQQAAAAoFDEEAAAAKBQxBAAAACgUMQQAAAA\n",
              "oFDEEAAAAKBQxBAAAACgUMQQAAAAoFDEEAAAAKBQxBAAAACgUMQQAAAAoFDEEAAAAKBQxBAAAACg\n",
              "UMQQAAAAoFDEEAAAAKBQxBAAAACgUMQQAAAAoFDEEAAAAKBQxBAAAACgUMQQAAAAoFDEEAAAAKBQ\n",
              "xBAAAACgUMQQAAAAoFDEEAAAAKBQxBAAAACgUMQQAAAAoFDEEAAAAKBQxBAAAACgUMQQAAAAoFDE\n",
              "EAAAAKBQxBAAAACgUMQQAAAAoFDEEAAAAKBQxBAAAACgUMQQAAAAoFDEEAAAAKBQxBAAAACgUMQQ\n",
              "AAAAoFDEEAAAAKBQxBAAAACgUMQQAAAAoFDEEAAAAKBQxBAAAACgUMQQAAAAoFDEEAAAAKBQxBAA\n",
              "AACgUMQQAAAAoFDEEAAAAKBQxBAAAACgUMQQAAAAoFDEEAAAAKBQxBAAAACgUMQQAAAAoFDEEAAA\n",
              "AKBQxBAAAACgUMoaQ1555ZX06dMn3bp1y2GHHZbnn3/+Y+vU1tbm8ssvzwEHHJDu3bvn61//etau\n",
              "XVv/+D//8z+nR48eqa6uzuGHH56ZM2eWc2QAAABgB1fWGDJq1Kicf/75efnll3PVVVfl3HPP/dg6\n",
              "d999d5599tk8++yzeeGFF1JRUZEJEyYkSebMmZN/+Zd/ycyZMzNnzpx84xvfyDe+8Y1yjgwAAADs\n",
              "4MoWQ5YtW5ZZs2ZlxIgRSZJhw4Zl0aJFmT9//kbr/e53v8uAAQPSokWLlEqlnHDCCbnvvvuSJKVS\n",
              "KevWrcsHH3yQJFmxYkU6dOiw2ddcs2ZNVq1atdGyYcOGMr1DAAAAoCkqWwxZtGhRvvSlL6V58+ZJ\n",
              "PgobVVVVWbhw4Ubr9erVK9OmTcuqVauybt26/OxnP0tNTU2S5KCDDsoll1ySzp07p0OHDrnlllsy\n",
              "ceLEzb7mjTfemNatW2+0OK0GAAAA+HONfgHVc889N4MHD07//v3Tv3//dOvWrT6gvPbaa5k6dWrm\n",
              "z5+fxYsX55JLLslZZ5212W2NHj06K1eu3Gjp3bv35/VWAAAAgCagbDGkY8eOefPNN7N+/fokSV1d\n",
              "XRYuXJiqqqqN1iuVSrnuuusye/bszJgxIz169MhXvvKVJMmUKVPSs2fPfPnLX06S/N3f/V2efPLJ\n",
              "jS6w+ucqKyvTqlWrjZZmzZqV6y0CAAAATVDZYsiee+6ZQw45JD/5yU+SfBQ2OnTokK5du2603urV\n",
              "q7N8+fIkyTvvvJNx48blyiuvTJJ06dIlTz75ZN5///0kyYMPPphu3bqlRYsW5RobAAAA2ME1L+fG\n",
              "77jjjpx77rkZO3ZsWrVqlXvuuSdJMnLkyJx66qk59dRTs3Llyhx99NGpqKhIbW1tLr744pxyyilJ\n",
              "kqFDh+bpp5/OoYcemsrKyuy6666ZNGlSOUcGAAAAdnClurq6usYeopwuvfTSjB8/vrHHAAAAALYT\n",
              "jX4BVQAAAIDPkxgCAAAAFIoYAgAAABSKGAIAAAAUihgCAAAAFIoYAgAAABSKGAIAAAAUihgCAAAA\n",
              "FIoYAgAAABSKGAIAAAAUihgCAAAAFIoYAgAAABSKGAIAAAAUihgCAAAAFIoYAgAAABSKGAIAAAAU\n",
              "ihgCAAAAFIoYAgAAABSKGAIAAAAUihgCAAAAFIoYAgAAABSKGAIAAAAUihgCAAAAFIoYAgAAABSK\n",
              "GAIAAAAUihgCAAAAFIoYAgAAABSKGAIAAAAUihgCAAAAFIoYAgAAABSKGAIAAAAUihgCAAAAFIoY\n",
              "AgAAABSKGAIAAAAUihgCAAAAFIoYAgAAABSKGAIAAAAUihgCAAAAFIoYAgAAABSKGAIAAAAUihgC\n",
              "AAAAFIoYAgAAABSKGAIAAAAUihgCAAAAFIoYAgAAABSKGAIAAAAUihgCAAAAFIoYAgAAABSKGAIA\n",
              "AAAUihgCAAAAFIoYAgAAABSKGAIAAAAUihgCAAAAFIoYAgAAABSKGAIAAAAUihgCAAAAFIoYAgAA\n",
              "ABSKGAIAAAAUihgCAAAAFIoYAgAAABSKGAIAAAAUihgCAAAAFIoYAgAAABSKGAIAAAAUihgCAAAA\n",
              "FIoYAgAAABSKGAIAAAAUihgCAAAAFIoYAgAAABSKGAIAAAAUihgCAAAAFIoYAgAAABSKGAIAAAAU\n",
              "ihgCAAAAFIoYAgAAABSKGAIAAAAUihgCAAAAFIoYAgAAABRKWWPIK6+8kj59+qRbt2457LDD8vzz\n",
              "z39sndra2lx++eU54IAD0r1793z961/P2rVr6x9fuHBhTjnllOy3337p0aNHJk6cWM6RAQAAgB1c\n",
              "WWPIqFGjcv755+fll1/OVVddlXPPPfdj69x999159tln8+yzz+aFF15IRUVFJkyYkCSpq6vL0KFD\n",
              "87WvfS0vvfRS5s2bl7/5m78p58gAAADADq5sMWTZsmWZNWtWRowYkSQZNmxYFi1alPnz52+03u9+\n",
              "97sMGDAgLVq0SKlUygknnJD77rsvSfLoo4+msrIyZ555Zv367dq12+xrrlmzJqtWrdpo2bBhQxne\n",
              "HQAAANBUlS2GLFq0KF/60pfSvHnzJEmpVEpVVVUWLly40Xq9evXKtGnTsmrVqqxbty4/+9nPUlNT\n",
              "kySZN29e2rZtm7PPPjsHH3xwhg4dmgULFmz2NW+88ca0bt16o2XmzJnleosAAABAE9ToF1A999xz\n",
              "M3jw4PTv3z/9+/dPt27d6gPK+vXr89hjj2XMmDGZPXt2Bg0a9ImnyYwePTorV67caOndu/fn9VYA\n",
              "AACAJqBsMaRjx4558803s379+iQfXf9j4cKFqaqq2mi9UqmU6667LrNnz86MGTPSo0ePfOUrX0mS\n",
              "VFVV5eCDD66/fc455+TZZ5/NunXrNvmalZWVadWq1UZLs2bNyvUWAQAAgCaobDFkzz33zCGHHJKf\n",
              "/OQnSZIpU6akQ4cO6dq160brrV69OsuXL0+SvPPOOxk3blyuvPLKJMkJJ5yQxYsX54033kiSPPTQ\n",
              "Q9l///2z0047lWtsAAAAYAfXvJwbv+OOO3Luuedm7NixadWqVe65554kyciRI3Pqqafm1FNPzcqV\n",
              "K3P00UenoqIitbW1ufjii3PKKackSXbdddfcfvvtOemkk1JXV5fWrVvnpz/9aTlHBgAAAHZwpbq6\n",
              "urrGHqKcLr300owfP76xxwAAAAC2E41+AVUAAACAz5MYAgAAABSKGAIAAAAUihgCAAAAFIoYAgAA\n",
              "ABSKGAIAAAAUihgCAAAAFIoYAgAAABSKGAIAAAAUihgCAAAAFIoYAgAAABSKGAIAAAAUihgCAAAA\n",
              "FIoYAgAAABSKGAIAAAAUihgCAAAAFIoYAgAAABSKGAIAAAAUihgCAAAAFIoYAgAAABSKGAIAAAAU\n",
              "ihgCAAAAFIoYAgAAABSKGAIAAAAUihgCAAAAFIoYAgAAABSKGAIAAAAUihgCAAAAFIoYAgAAABSK\n",
              "GAIAAAAUihgCAAAAFIoYAgAAABSKGAIAAAAUihgCAAAAFIoYAgAAABSKGAIAAAAUihgCAAAAFIoY\n",
              "AgAAABSKGAIAAAAUihgCAAAAFIoYAgAAABSKGAIAAAAUihgCAAAAFIoYAgAAABSKGAIAAAAUihgC\n",
              "AAAAFIoYAgAAABSKGAIAAAAUihgCAAAAFIoYAgAAABSKGAIAAAAUihgCAAAAFIoYAgAAABSKGAIA\n",
              "AAAUihgCAAAAFIoYAgAAABSKGAIAAAAUihgCAAAAFIoYAgAAABSKGAIAAAAUSqmurq6usYcop9NP\n",
              "Pz2dOnVq7DEKa8OGDZk5c2Z69+6dZs2aNfY4fAL7qmmxv5oO+6ppsb+aDvuq6bCvmhb7a/uw9957\n",
              "5+KLL27sMXZoO3wMoXGtWrUqrVu3zsqVK9OqVavGHodPYF81LfZX02FfNS32V9NhXzUd9lXTYn9R\n",
              "FE6TAQAAAApFDAEAAAAKRQwBAAAACkUMoawqKyvzj//4j6msrGzsUfgU9lXTYn81HfZV02J/NR32\n",
              "VdNhXzUt9hdF4QKqAAAAQKE4MgQAAAAoFDEEAAAAKBQxBAAAACgUMYSyWL16dYYMGZJu3brloIMO\n",
              "yvHHH5/58+c39lh8invuuSelUikPPPBAY4/CJ1izZk2+8Y1vZN99903Pnj0zYsSIxh6JzXjooYdy\n",
              "yCGHpLq6OgcccEB+/OMfN/ZI/JmLLroonTp1SqlUypw5c+rvf+WVV9KnT59069Ythx12WJ5//vnG\n",
              "G5Ikm95Xvmtsvzb3d+tPfN/YfmxuX/muQRGIIZTN+eefn5deeim/+93vctppp2XkyJGNPRKfoKam\n",
              "JnfddVcOP/zwxh6FT3H11VenVCrl5ZdfznPPPZebb765sUdiE+rq6jJixIj86Ec/ypw5c/Lggw9m\n",
              "1KhRee+99xp7NP7LGWeckSeeeCJ77733RvePGjUq559/fl5++eVcddVVOffccxtnQOptbl/5rrF9\n",
              "2tz+Snzf2N5sbl/5rkERiCGUxc4775wTTzwxpVIpSXL44YenpqamcYdis2prazNy5MhMnDjRz6ht\n",
              "5z744IPcfffd+e53v1v/96t9+/aNPBWbUyqVsmLFiiTJqlWr8sUvftHfse3IUUcdlQ4dOmx037Jl\n",
              "yzJr1qz6/xd02LBhWbRokSMOGtmm9pXvGtuvTe2vxPeN7dGm9pXvGhSFGMLnYsKECTnttNMaeww2\n",
              "Y/z48TnyyCPTq1evxh6FT/Hqq6/mC1/4QsaOHZtDDz00/fr1y6OPPtrYY7EJpVIp//qv/5rTTz89\n",
              "e++9d/r27Zsf//jHadGiRWOPxidYtGhRvvSlL6V58+ZJPtqPVVVVWbhwYSNPxqfxXWP75/tG0+C7\n",
              "BkXRvLEHYMc3duzYzJ8/339Et1Nz587NlClT8v/+3/9r7FHYAuvXr8/rr7+eHj16ZNy4cZk9e3aO\n",
              "P/74PP/882nXrl1jj8efWb9+fW644YZMnTo1Rx11VJ5++umceuqpee6557LHHns09niwQ/FdY/vn\n",
              "+0bT4bsGReHIEMrq5ptvztSpU/Mf//EfadmyZWOPwyZMnz49NTU12XfffdOpU6f85je/yfnnn58f\n",
              "/OAHjT0am1BVVZWKiop89atfTZIcfPDB6dy5c5577rlGnoy/NGfOnCxZsiRHHXVUkuSwww5Lhw4d\n",
              "Mnv27EaejE/SsWPHvPnmm1m/fn2Sj679snDhwlRVVTXyZGyO7xpNg+8bTYfvGhSFGELZjB8/Pvff\n",
              "f38efvjh7L777o09Dptx4YUX5s0330xNTU1qampy+OGH584778yFF17Y2KOxCXvssUeOO+64/Od/\n",
              "/meS5LXXXstrr72W/fffv5En4y/96R/VL7zwQpJk/vz5efXVV7Pffvs18mR8kj333DOHHHJIfvKT\n",
              "nyRJpkyZkg4dOqRr166NPBmb4rtG0+H7RtPhuwZFUaqrq6tr7CHY8SxevDgdO3ZMly5dsttuuyVJ\n",
              "Kisr89vf/raRJ+PTHH300fnmN7+ZIUOGNPYobMaCBQvy9a9/Pe+8804qKiry7W9/O8OGDWvssdiE\n",
              "+++/P2PHjk1FRUVqa2szevToDB8+vLHH4r+MGjUq//7v/56lS5fmi1/8YnbbbbfMnz8/L730Us49\n",
              "99y8++67adWqVe6555707NmzsccttE3tq1/96le+a2ynNvd368/5vrF92Ny+8l2DIhBDAAAAgEJx\n",
              "mgwAAABQKGIIAAAAUChiCAAAAFAoYggA8JnV1NTU/4rH6tWrM2TIkHTr1i0HHXRQjj/++I9dNBEA\n",
              "YHsghgAADeb888/PSy+9lN/97nc57bTTMnLkyMYeCQDgY8QQAGAjTz31VPr27ZuDDjooBx54YH7x\n",
              "i19k1qxZ6dOnTw488MD07t07Tz755Meet/POO+fEE09MqVRKkhx++OGpqan5nKcHAPh0zRt7AABg\n",
              "+/GHP/whQ4YMyeTJk9OvX7/U1tbmnXfeyaGHHpq77rorgwYNyhNPPJFhw4Z96ikwEyZMyGmnnfY5\n",
              "TQ4AsOXEEACg3lNPPZX99tsv/fr1S5JUVFTkrbfeSkVFRQYNGpQk6du3b9q1a5c5c+akQ4cOm9zO\n",
              "2LFjM3/+/Dz66KOf2+wAAFtKDAEAttqfToXZlJtvvjlTp07NI488kpYtW36OUwEAbBnXDAEA6vXp\n",
              "0yevvPJKpk+fniSpra1Nu3btUltbm4cffjhJMmPGjCxdujTV1dUfe/748eNz//335+GHH67/lRkA\n",
              "gO1Nqa6urq6xhwAAth+/+c1vctlll+W9995LRUVF/umf/ilf+tKXctFFF+X999/PzjvvnPHjx6dv\n",
              "376pqalJdXV1VqxYkcWLF6djx47p0qVLdttttyRJZWVlfvvb3zbyOwIA2JgYAgAAABSK02QAAACA\n",
              "QhFDAAAAgEIRQwAAAIBCEUMAAACAQhFDAAAAgEIRQwAAAIBCEUMAAACAQhFDAAAAgEIRQwAAAIBC\n",
              "EUMAAACAQvn/p8r+mk+7yxMAAAAASUVORK5CYII=\n",
              "\">\n",
              "      </div>\n",
              "      <script type=\"text/javascript\">\n",
              "        (() => {\n",
              "          const chartElement = document.getElementById(\"chart-88dc5cdd-eadc-44cc-9bad-0a7e96ac5c08\");\n",
              "          async function getCodeForChartHandler(event) {\n",
              "            const chartCodeResponse =  await google.colab.kernel.invokeFunction(\n",
              "                'getCodeForChart', [\"chart-88dc5cdd-eadc-44cc-9bad-0a7e96ac5c08\"], {});\n",
              "            const responseJson = chartCodeResponse.data['application/json'];\n",
              "            await google.colab.notebook.addCell(responseJson.code, 'code');\n",
              "          }\n",
              "          chartElement.onclick = getCodeForChartHandler;\n",
              "        })();\n",
              "      </script>\n",
              "      <style>\n",
              "        .colab-quickchart-chart-with-code  {\n",
              "            display: block;\n",
              "            float: left;\n",
              "            border: 1px solid transparent;\n",
              "        }\n",
              "\n",
              "        .colab-quickchart-chart-with-code:hover {\n",
              "            cursor: pointer;\n",
              "            border: 1px solid #aaa;\n",
              "        }\n",
              "      </style>"
            ]
          },
          "metadata": {}
        },
        {
          "output_type": "display_data",
          "data": {
            "text/plain": [
              "from matplotlib import pyplot as plt\n",
              "import seaborn as sns\n",
              "def _plot_series(series, series_name, series_index=0):\n",
              "  palette = list(sns.palettes.mpl_palette('Dark2'))\n",
              "  counted = (series['col3']\n",
              "                .value_counts()\n",
              "              .reset_index(name='counts')\n",
              "              .rename({'index': 'col3'}, axis=1)\n",
              "              .sort_values('col3', ascending=True))\n",
              "  xs = counted['col3']\n",
              "  ys = counted['counts']\n",
              "  plt.plot(xs, ys, label=series_name, color=palette[series_index % len(palette)])\n",
              "\n",
              "fig, ax = plt.subplots(figsize=(10, 5.2), layout='constrained')\n",
              "df_sorted = _df_10.sort_values('col3', ascending=True)\n",
              "for i, (series_name, series) in enumerate(df_sorted.groupby('index')):\n",
              "  _plot_series(series, series_name, i)\n",
              "  fig.legend(title='index', bbox_to_anchor=(1, 1), loc='upper left')\n",
              "sns.despine(fig=fig, ax=ax)\n",
              "plt.xlabel('col3')\n",
              "_ = plt.ylabel('count()')"
            ],
            "text/html": [
              "      <div class=\"colab-quickchart-chart-with-code\" id=\"chart-6dc1800f-adcb-470a-a2c9-d5aa12aac204\">\n",
              "        <img style=\"width: 180px;\" src=\"data:image/png;base64,iVBORw0KGgoAAAANSUhEUgAABEMAAAITCAYAAADsAtIvAAAAOXRFWHRTb2Z0d2FyZQBNYXRwbG90\n",
              "bGliIHZlcnNpb24zLjcuMSwgaHR0cHM6Ly9tYXRwbG90bGliLm9yZy/bCgiHAAAACXBIWXMAAA9h\n",
              "AAAPYQGoP6dpAAA1m0lEQVR4nO3de5RVhX334e8ZEBQjSBQhEUdARCReRlGqyMULARRFEK2WoKVv\n",
              "UPRtqhGvaEg1JUhrolF86y2+JpqFaQpoWJauxijJi5cWUUhEvCGOoIgI4WKMcpt5/7CZOgoKMuMw\n",
              "7OdZ66xwztlnn985e+HafLL3PqXq6urqAAAAABREWUMPAAAAAPBFEkMAAACAQhFDAAAAgEIRQwAA\n",
              "AIBCEUMAAACAQhFDAAAAgEIRQwAAAIBCEUMAAACAQtnpY8gtt9zS0CMAAAAAO5CmDT1AfXv99dcb\n",
              "egQAAACocxs2bMiaNWvypz/9qaFH2SG0aNEirVq1yi677PKZy+70MQQAAAB2NsuWLcubb76ZJk2a\n",
              "pFQqNfQ4O4Q//OEPef3117PvvvumXbt2n7qsGAIAAACNyJ/+9KcsXbo0u+++e/bZZ580a9as8EGk\n",
              "uro669evz/Lly7N06dK0bNkyLVq02OLyYggAAAA0IitWrEiTJk2y7777Zo899mjocXYou+yySxYt\n",
              "WpQVK1akvLx8i8vt9BdQBQAAgJ1RWZl/0n/c1n4nvjkAAACgUMQQAAAAIF27ds2qVau2+XUDBw7M\n",
              "LbfcUg8T1R/XDAEAAADy4osvNvQIXxhHhgAAAAAplUp55513kiRf/epXc8kll6SioiL77rtvrrji\n",
              "iprl5s6dmyOOOCKdO3dOv3798u6779Y8t2rVqpx99tk59NBD06VLl5xzzjn54IMPMm/evLRt2zYL\n",
              "FixIkowbNy69e/fOpk2bvtgP+d/EEAAAAOAT1qxZk3nz5uXpp5/O7bffnkWLFiVJzj333Jx33nlZ\n",
              "uHBhvv/97+fpp5+uec1FF12U3r1757nnnsuLL76YqqqqjB8/PhUVFfne976Xs846Kw8//HD+7//9\n",
              "v/n5z3+eJk2aNMhnc5oMAAAA8Annnntukg+PEtlvv/3y8ssvZ88998yLL76Yv/u7v0uS/MVf/EWO\n",
              "PPLImtf86le/yjPPPJPbbrstSfLBBx/UBI/Ro0dn5syZOeOMMzJ9+vTsu+++X/An+h9iCAAAAPAJ\n",
              "u+22W82fy8rKsnHjxs0uVyqVav5cXV2dKVOm5PDDD//EcuvXr89LL72UVq1aZcmSJXU/8DZwmgwA\n",
              "AACwVb785S/n4IMPrjny4+mnn86zzz5b83z//v0zfvz4rF+/PkmyfPnyzJ8/P0nyt3/7tznggAMy\n",
              "c+bMjBs3rubxhiCGAAAAAFvtvvvuy09+8pN07tw511xzTY466qia5+68887stttu6datW7p06ZLj\n",
              "jz8+r7zySiZPnpyZM2fm3nvvzSGHHJLvf//7+cu//Mu89957DfIZStXV1dUN8s5fkDFjxuSmm25q\n",
              "6DEAAACgTixevDirVq1K586ds/vuuzf0ODuU9957LwsXLkzr1q1TXl6+xeUcGQIAAAAUihgCAAAA\n",
              "FIoYAgAAABSKGAIAAAAUihgCAAAAFIoYAgAAABSKGAIAAABst69+9avp0KFDunbtmg4dOmTs2LF1\n",
              "st6rrroqHTp0SFlZWe6///46WacYAgAAANSJyZMn58UXX8xjjz2WSZMmZebMmdu9zoEDB2bGjBk5\n",
              "6qij6mDCD4khAAAA0IhVVVXl3XUf1Outqqpqm2bq1KlTOnXqlEWLFmX+/Pk59thj06VLl3Tt2rXm\n",
              "6I4bb7wx55xzTpJkzpw5KZVKmTp1apLksssuy2WXXZYkOeGEE9KtW7c6/MaSpnW6NgAAAOAL9d6G\n",
              "9Tl48nX1+h4vDL8uezTfdauXnzt3blavXp2BAwfm5JNPzogRI3LllVfm97//ffr06ZMePXpk0KBB\n",
              "ueWWW5IkM2bMSEVFRR555JEMGzYsv/nNbzJx4sT6+jiODAEAAADqxvDhw9OpU6d07949o0aNSosW\n",
              "LbJgwYJ8+9vfTpIcdthh6d69ex599NGaoz0WLFiQmTNnZvz48Zk1a1ZWr16dV199NX379q23OR0Z\n",
              "AgAAAI3Y7rs0ywvDr6v399gakydPTs+ePfPggw/mr/7qrzJgwIBPLFMqlWr+3KtXrzz00EOprKzM\n",
              "oEGDcsUVV+S+++5LRUVFmjXbuvf8PBwZAgAAAI1YWVlZ9mi+a73eysq2LR8MHTo0I0aMyDXXXJNu\n",
              "3brl1ltvTZLMnz8/zzzzTPr165ck6devX2677bZUVFQkSXr37p2JEyfmhBNOqNPv6OPEEAAAAKDO\n",
              "TZgwIc8880x+9KMfZerUqTnooINy5pln5tZbb02XLl2SJKeeemqWLVuWk046KUnSv3//vPXWWxk4\n",
              "cGDNeq644oq0bds28+bNy8UXX5y2bdvmzTff3K7ZStXV1dXbtYYd3JgxY3LTTTc19BgAAABQJxYv\n",
              "XpxVq1alc+fO2X333Rt6nB3Ke++9l4ULF6Z169YpLy/f4nKODAEAAAAKRQwBAAAACkUMAQAAAApF\n",
              "DAEAAAAKpWlDDwAAAABsvY/+zO1O/pson9tn/RSwI0MAAACgEfmsf+gjhgAAAADUIoYAAABAI1Uq\n",
              "lXaY27777puOHTvm4IMPTseOHXPNNdfUyXrPOuusdOjQIV27ds2RRx6Z3/72t1tcdmu5ZggAAAA0\n",
              "YlVVVale98d6fY9S8y9t1ek5kydPTs+ePbNo0aIcdthh6d+/f0444YTteu8hQ4Zk8uTJadasWSZP\n",
              "npzhw4dn6dKl27VOMQQAAAAasep1f8yrF7Wu1/c44PZVyW4tt3r5Tp06pVOnTlm0aFHatGmT888/\n",
              "PytXrkxZWVmuvfbanHvuubnxxhvzzDPP5Oc//3nmzJmTo48+OlOmTMmwYcNy2WWXJUl++MMfZsSI\n",
              "ETXrPf7447N8+fKsX78+zZo1+9yfx2kyAAAAQJ2aO3duVq9enYEDB2b48OEZOnRoXn755fziF7/I\n",
              "3/3d3+Wll17KoEGD8vjjjydJZsyYkYqKijzyyCNJkt/85jcZOHDgJ9Y7ceLE9O3bd7tCSOLIEAAA\n",
              "AGjUSs2/9OGRG/X8Hltj+PDhKSsrS2VlZa677rq0aNEiCxYsyLe//e0kyWGHHZbu3bvn0Ucfzf/+\n",
              "3/87SbJgwYLMnDkz48ePz5VXXpnVq1fn1VdfTd++fWut+5//+Z8zffr0zJo1a7s/jxgCAAAAjVhZ\n",
              "Wdk2ncJSn/58zZAHH3wwf/VXf5UBAwZ8YpmPXui0V69eeeihh1JZWZlBgwbliiuuyH333ZeKiopa\n",
              "R3/cfffd+cd//Mc88sgj2W+//bZ7TqfJAAAAAHVq6NChGTFiRK655pp069Ytt956a5Jk/vz5eeaZ\n",
              "Z9KvX78kSb9+/XLbbbeloqIiSdK7d+9MnDix1kVXf/zjH2f8+PH51a9+lS5dutTJfGIIAAAAUOcm\n",
              "TJiQZ555Jj/60Y8yderUHHTQQTnzzDNz66231kSNU089NcuWLctJJ52UJOnfv3/eeuutWtcLufDC\n",
              "C7Nu3bqcfvrp6dq1a7p27Zply5Zt12xOkwEAAAC228d/7nafffbJ6tWrkyRPPfXUZl/Trl27VFVV\n",
              "1dwfNmxYqquray2zcePGuh00jgwBAAAACkYMAQAAAApFDAEAAAAKRQwBAAAACsUFVAEAAKARadKk\n",
              "Sc2fP36xUT700e9ocxwZAgAAAI1IWZl/yn+Wz/qOfIMAAADAdtt3333TsWPHHHzwwenYsWOuueaa\n",
              "OlnvWWedlYMOOigHH3xwDj300EyfPn271+k0GQAAAGikSqVSQ49Qy+TJk9OzZ88sWrQohx12WPr3\n",
              "758TTjhhu9Z5++23p02bNkmSJ554Iqecckr+8Ic/fOapMJ/GkSEAAADQiFVVVeWD99fX662qqmqb\n",
              "ZurUqVM6deqURYsWZf78+Tn22GPTpUuXdO3aNffff3+S5MYbb8w555yTJJkzZ05KpVKmTp2aJLns\n",
              "ssty2WWXJUlNCEmSVatW1cVX5sgQAAAAaMzWr9uY717zq3p9j+9N6J9dd2u21cvPnTs3q1evzsCB\n",
              "A3PyySdnxIgRufLKK/Pcc8+ld+/e6dGjRwYNGpRbbrklSTJjxoxUVFTkkUceybBhw/Kb3/wmEydO\n",
              "rFnfRRddlIcffjhr167Nz372s+06KiRxZAgAAABQR4YPH55OnTqle/fuGTVqVFq0aJEFCxbk29/+\n",
              "dpLk0EMPTffu3fPoo4+mW7duSZIFCxZk5syZGT9+fGbNmpXVq1fn1VdfTd++fWvWe/vtt2fJkiX5\n",
              "6U9/mrFjx+aDDz7YrjkdGQIAAACNWLPmTfO9Cf3r/T22xp+vGfLQQw/lnHPOyYABAz6xzEevc9Kr\n",
              "V6889NBDqayszKBBg3LFFVfk/vvvT0VFRZo1++SRKEOGDMmll16a2bNnp0+fPp/78zgyBAAAABqx\n",
              "srKy7Lpbs3q9bevP+Q4ZMiQjRozINddck27duuXWW29NksyfPz/PPPNM+vXrlyTp169fbrvttlRU\n",
              "VCRJevfunRtuuKHmoqvr1q3L/Pnza9Y7c+bM/OEPf0jXrl236ztzZAgAAABQ5yZMmJAuXbpk2rRp\n",
              "ufbaa3P33XenVCrl1ltvTZcuXZIkp556ai644IKcdNJJSZL+/fvnrrvuysCBA5Mk69evz7nnnpt3\n",
              "3303TZs2zW677Zb7778/++yzz3bNJoYAAAAA223p0qW17u+zzz5ZvXp1kuSpp57a7GvatWtX65dq\n",
              "hg0blurq6pr7e+yxR+bOnVvnszpNBgAAACiUeo0hF198cTp06JBSqZR58+Ztcbl77rknBx54YA44\n",
              "4ICcf/752bBhQ63nq6urc+KJJ2bPPfesz3EBAACAAqjXGHLmmWfm8ccfz/7777/FZV577bWMGzcu\n",
              "s2bNysKFC/P222/nrrvuqrXMzTffnAMOOKA+RwUAAAAKol5jSJ8+fdK+fftPXWbKlCkZPHhw2rVr\n",
              "l1KplAsvvDAPPPBAzfPPP/98HnrooVx99dWf+X7r1q3L2rVra902bdq03Z8DAAAA2Hk0+AVUFy9e\n",
              "XOvIkQ4dOmTx4sVJkg0bNuT888/PPffckyZNmnzmum644YZcf/31tR475phj6nZgAAAAaEBNm374\n",
              "T/nq6upaFxslNd/Hn7+jLdmhL6B6/fXX54wzzsjBBx+8VcuPHTs2a9asqXXr0aNHPU8JAAAAX5yy\n",
              "srKUSqWUSqWaIOL24e3P30tZ2afnjgY/MqS8vDyvvvpqzf3KysqUl5cnSX77299m8eLFue2227Jx\n",
              "48asXbs2HTp0yNNPP502bdp8Yl3NmzdP8+bNaz22NUeUAAAAQGPz53/48z+29vto8CNDhg0blunT\n",
              "p2fZsmWprq7OHXfckXPOOSdJMmvWrLz++uuprKzM448/npYtW6aysnKzIQQAAACK5s9BZEe4tW/f\n",
              "Pp06dcrBBx+cTp065dprr63T9T/88MNp2rRpxo8fv8Vltla9xpDRo0enffv2eeONNzJgwIB07tw5\n",
              "STJq1KhMnz49SdKpU6dcf/31Oe6449K5c+e0adMmo0ePrs+xAAAAgHowefLkvPjii3nssccyadKk\n",
              "/Pa3v62T9a5cuTLXXntt+vbtWyfrq9fTZO68887NPv7jH/+41v3zzz8/559//qeuq0OHDlm9enVd\n",
              "jQYAAAA7haqqquS9DfX7Jrvv8pnX4fiojh07pmPHjlm0aFH23nvvnH/++VmxYkXKysryne98JyNG\n",
              "jMgPf/jDzJkzJw888ECeffbZdO/ePdOmTcvQoUNzxRVXJEluvPHGJB8eVHH11Vdn2rRpdfJxGvya\n",
              "IQAAAMB2eG9Dlv/FrfX6Fvv818XJHs0/e8H/Nm/evKxevToDBgzIwIEDc9555+Xyyy/P/Pnz06tX\n",
              "r/To0SOnnHJKbr755iTJjBkzUlFRkV/96lcZOnRoZs6cmYkTJyZJfvKTn6SsrCzDhw+vsxjS4NcM\n",
              "AQAAAHYOw4cPT6dOnXLkkUfmggsuSIsWLbJgwYJccsklSZJDDjkkRx11VB599NGaX4594YUX8thj\n",
              "j2XChAmZNWtW1qxZk4ULF6Zv375ZsmRJJk6cuMUzTz4vR4YAAABAY7b7Lh8euVHP77E1Jk+enGOP\n",
              "PTa//OUvc/bZZ6d///6fWOajFzrt3bt3fvnLX+a1117LySefnMsvvzz3339/jjjiiOyyyy558skn\n",
              "88477+Twww9PkqxatSqPPPJI3nnnndx66+c/GsaRIQAAANCIlZWVpWyP5vV724brhSTJ6aefnnPP\n",
              "PTfXXHNNunXrlkmTJiVJnn/++cyZMyf9+vVLknz961/PpEmTcsQRRyT5MI7ccMMNOfHEE5MkZ599\n",
              "dlauXJk333wzb775Zk455ZRcfvnl2xVCEjEEAAAAqAcTJkzInDlzcsstt2TKlCk56KCDMmzYsEya\n",
              "NCkHHnhgkmTQoEF56623ctJJJyVJBgwYkKVLl2bAgAH1OpvTZAAAAIDt9uabb9a636ZNm5pfhX3y\n",
              "ySc3+5q2bdt++Gs4/23o0KGprq7e4ntMmTJl+weNI0MAAACAghFDAAAAgEIRQwAAAIBCEUMAAACg\n",
              "Efq0a2sU1dZ+Jy6gCgAAAI3ILrvskiTZuHFjNm7cuM0/e7uzqqqqysaNG5P8z3e0JWIIAAAANCJl\n",
              "ZWVp2rRpSqVSNmzY0NDj7FBKpVKaNm36mYFIDAEAAIBGplQqZZdddknz5s0bepQdTqlU+sxlxBAA\n",
              "AABohEql0g51ikyHDh3SvHnz7Lbbbnn//ffzN3/zN7n66qu3e73HH398Xn/99bRq1SpJ8td//de5\n",
              "9NJLN7vs1oSQRAwBAACARq26ujrrN71fr+/RrMluWxUa/uVf/iUVFRV58803061bt5x44onp0aPH\n",
              "dr//zTffnCFDhmz3ev5MDAEAAIBGbP2m93Pxvx5cr+9x61kvpHnTFlu9/L777puuXbvm9ddfz5e/\n",
              "/OVceOGFWb58ecrKynLddddlyJAhueuuuzJnzpzcddddWbBgQb72ta/lP/7jP9K/f/9873vfS5J8\n",
              "97vfrZfPs+McTwMAAADsFF588cWsXLkyxx9/fL7xjW/krLPOyu9///v867/+a775zW/m9ddfT79+\n",
              "/fLrX/86SfLII4/k2GOPrXW/X79+Neu7+uqrc+ihh+bss8/OokWLtns+R4YAAABAI9asyW659awX\n",
              "6v09tsbZZ5+dsrKyvPTSS7n55puz66675tlnn80TTzyRJDnwwAPTq1evzJo1KyNGjEiSLFq0KL/+\n",
              "9a9zww035LLLLssf//jHLFiwoOb0mvvvvz/77bdfqqur83/+z//JqaeemgULFmzX5xFDAAAAoBEr\n",
              "lUrbdApLffrzNUN+/etf57TTTsuJJ574iWU+eu2Rfv365d///d/zyiuvpG/fvqmurs7UqVNz7LHH\n",
              "pmnTD5PFfvvtV/O6b33rW7n88suzcuXK7LXXXp97TqfJAAAAAHWqX79+ueiii/Kd73wnRx55ZO69\n",
              "994kycKFC/P444+nT58+NcvdeOONNUeBnHjiifn7v//7mlNkNm7cmLfffrtmvVOnTk3btm23K4Qk\n",
              "jgwBAAAA6sG4cePSuXPnzJgxI9dee21uu+22lEql/PjHP055eXmS5KSTTsrixYtr4sfXv/71/OAH\n",
              "P8hJJ52UJFm3bl0GDRqUdevWpaysLHvvvXemT5++3bOJIQAAAMB2q6ysrHW/devWWblyZZLUXBj1\n",
              "4/baa69UVVXV3O/fv3+qq6tr7u++++6ZM2dOnc/qNBkAAACgUMQQAAAAoFDEEAAAAGiEPnp6CR/a\n",
              "2u/ENUMAAACgEWnWrFnKysqydOnStGnTJs2aNav1c7VFVF1dnfXr1+edd95JWVlZmjVr9qnLiyEA\n",
              "AADQiJSVlaVjx4556623snTp0oYeZ4fSokWLlJeXp6zs00+EEUMAAACgkWnWrFnKy8uzcePGbNq0\n",
              "qaHH2SE0adIkTZs23aqjZMQQAAAAaIRKpVJ22WWX7LLLLg09SqPjAqoAAABAoYghAAAAQKGIIQAA\n",
              "AEChiCEAAABAoYghAAAAQKGIIQAAAEChiCEAAABAoYghAAAAQKGIIQAAAEChiCEAAABAoYghAAAA\n",
              "QKGIIQAAAEChiCEAAABAoYghAAAAQKGIIQAAAEChiCEAAABAoYghAAAAQKGIIQAAAEChiCEAAABA\n",
              "oYghAAAAQKGIIQAAAEChiCEAAABAoYghAAAAQKGIIQAAAEChiCEAAABAoYghAAAAQKGIIQAAAECh\n",
              "iCEAAABAoYghAAAAQKGIIQAAAEChiCEAAABAoYghAAAAQKGIIQAAAEChiCEAAABAoYghAAAAQKGI\n",
              "IQAAAEChiCEAAABAoYghAAAAQKGIIQAAAEChiCEAAABAoYghAAAAQKGIIQAAAEChiCEAAABAoYgh\n",
              "AAAAQKGIIQAAAEChiCEAAABAoYghAAAAQKGIIQAAAEChiCEAAABAodRrDLn44ovToUOHlEqlzJs3\n",
              "b4vL3XPPPTnwwANzwAEH5Pzzz8+GDRuSJI899lh69OiRbt265Wtf+1quvPLKVFVV1efIAAAAwE6u\n",
              "XmPImWeemccffzz777//Fpd57bXXMm7cuMyaNSsLFy7M22+/nbvuuitJ0rp16/z85z/PggUL8swz\n",
              "z+TJJ5/MfffdV58jAwAAADu5eo0hffr0Sfv27T91mSlTpmTw4MFp165dSqVSLrzwwjzwwANJkiOO\n",
              "OCKdOnVKkuy6666pqKhIZWXlFte1bt26rF27ttZt06ZNdfZ5AAAAgMavwa8Zsnjx4lpHjnTo0CGL\n",
              "Fy/+xHLLli3LlClTcuqpp25xXTfccENatWpV6zZ79ux6mRsAAABonBo8hmyNtWvX5rTTTsuVV16Z\n",
              "o446aovLjR07NmvWrKl169Gjxxc4KQAAALCja9rQA5SXl+fVV1+tuV9ZWZny8vKa+++++24GDhyY\n",
              "008/PWPGjPnUdTVv3jzNmzev9ViTJk3qdmAAAACgUWvwI0OGDRuW6dOnZ9myZamurs4dd9yRc845\n",
              "J0nyxz/+MQMHDszAgQPzne98p4EnBQAAAHYG9RpDRo8enfbt2+eNN97IgAED0rlz5yTJqFGjMn36\n",
              "9CRJp06dcv311+e4445L586d06ZNm4wePTpJcsstt2T27NmZNm1aKioqUlFRke9///v1OTIAAACw\n",
              "kytVV1dXN/QQ9WnMmDG56aabGnoMAAAAYAfR4KfJAAAAAHyRxBAAAACgUMQQAAAAoFDEEAAAAKBQ\n",
              "xBAAAACgUMQQAAAAoFDEEAAAAKBQxBAAAACgUMQQAAAAoFDEEAAAAKBQxBAAAACgUMQQAAAAoFDE\n",
              "EAAAAKBQxBAAAACgUMQQAAAAoFDEEAAAAKBQxBAAAACgUMQQAAAAoFDEEAAAAKBQxBAAAACgUMQQ\n",
              "AAAAoFDEEAAAAKBQxBAAAACgUMQQAAAAoFDEEAAAAKBQxBAAAACgUMQQAAAAoFDEEAAAAKBQxBAA\n",
              "AACgUMQQAAAAoFDEEAAAAKBQxBAAAACgUMQQAAAAoFDEEAAAAKBQxBAAAACgUMQQAAAAoFDEEAAA\n",
              "AKBQxBAAAACgUMQQAAAAoFDEEAAAAKBQxBAAAACgUMQQAAAAoFDEEAAAAKBQxBAAAACgUMQQAAAA\n",
              "oFDEEAAAAKBQxBAAAACgUMQQAAAAoFDEEAAAAKBQxBAAAACgUMQQAAAAoFDEEAAAAKBQxBAAAACg\n",
              "UMQQAAAAoFDEEAAAAKBQxBAAAACgUMQQAAAAoFDEEAAAAKBQxBAAAACgUMQQAAAAoFDEEAAAAKBQ\n",
              "xBAAAACgUMQQAAAAoFDEEAAAAKBQmn6eFy1YsCBvvPFGdttttxx66KHZc88963gsAAAAgPqx1THk\n",
              "3XffzQ9+8IPcfffdadGiRdq2bZsPPvggr776anr06JGrrroqJ510Un3OCgAAALDdtjqGnHDCCTnv\n",
              "vPMyd+7ctG3btubxqqqqzJo1K3fccUcWLlyY0aNH18ugAAAAAHVhq2PIE088kebNm3/i8bKysvTt\n",
              "2zd9+/bNunXr6nQ4AAAAgLq21RdQ3VwI+TzLAAAAADSkrY4hp556ap588snNPrd69er88Ic/zJ13\n",
              "3llngwEAAADUh60+TWbChAkZO3ZsFixYkKOPPrrmAqovvvhi3nzzzfzt3/5t/tf/+l/1OSsAAADA\n",
              "dtvqGHLYYYfl3/7t37JkyZL89re/zRtvvJEWLVrkG9/4Rnr16pWmTT/Xr/QCAAAAfKG2uWCsWrUq\n",
              "I0aMqPXY73//+xx22GF1NhQAAABAfdnqa4b82ciRI7fqMQAAAIAd0VYfGbJ8+fIsW7Ys77//fp57\n",
              "7rlUV1cnSdasWZP33nuv3gYEAAAAqEtbHUMeeOCB/OhHP8rSpUszePDgmsdbtWqVK6+8sl6GAwAA\n",
              "AKhrWx1DLrnkklxyySX5h3/4h4wbN64+ZwIAAACoN9t8AdVx48alqqoqy5Yty8aNG2seLy8vr9PB\n",
              "AAAAAOrDNl9A9ac//Wn23HPPHHrooenevXu6d++eo446arPLXnzxxenQoUNKpVLmzZu3xXXec889\n",
              "OfDAA3PAAQfk/PPPz4YNG7bqOQAAAIBttc0x5Hvf+16efvrprFy5Mu+8807eeeedLF++fLPLnnnm\n",
              "mXn88cez//77b3F9r732WsaNG5dZs2Zl4cKFefvtt3PXXXd95nMAAAAAn8c2x5C99947Bx100FYt\n",
              "26dPn7Rv3/5Tl5kyZUoGDx6cdu3apVQq5cILL8wDDzzwmc8BAAAAfB7bfM2QIUOG5Ec/+lGGDx+e\n",
              "XXfdtebxli1bfq4BFi9eXOvIkQ4dOmTx4sWf+dzmrFu3LuvWrav12KZNmz7XXAAAAMDOaZuPDLn2\n",
              "2mszZsyYtGvXLq1bt86ee+6Z1q1b18ds2+yGG25Iq1atat1mz57d0GMBAAAAO5BtjiFVVVU1t02b\n",
              "NtX87+dVXl6e119/veZ+ZWVlzS/TfNpzmzN27NisWbOm1q1Hjx6fezYAAABg57PNMaSuDRs2LNOn\n",
              "T8+yZctSXV2dO+64I+ecc85nPrc5zZs3T8uWLWvdmjRp8kV9FAAAAKAR2OYYUlZWliZNmnzitjmj\n",
              "R49O+/bt88Ybb2TAgAHp3LlzkmTUqFGZPn16kqRTp065/vrrc9xxx6Vz585p06ZNRo8e/ZnPAQAA\n",
              "AHweperq6uptecF7771X8+f3338/9913XzZt2pQrrriizoerC2PGjMlNN93U0GMAAAAAO4htPjJk\n",
              "9913r7ntvffeGTNmTKZMmVIfswEAAADUue2+ZsiLL76YFStW1MUsAAAAAPWu6ba+oHXr1imVSkmS\n",
              "jRs3JkkmTZpUt1MBAAAA1JNtjiHz5s37nxc3bZp27dr5xRYAAACg0djmGLL//vvnT3/6U00Uad26\n",
              "dVq0aFHXcwEAAADUi22OIU8++WSGDRuWdu3aJUnefvvtTJ06Nccee2ydDwcAAABQ17Y5hvz512OO\n",
              "O+64JB/GkUsvvTT/+Z//WefDAQAAANS1bf41mffff78mhCRJz54988EHH9TpUAAAAAD1ZZtjyJe+\n",
              "9KX8+te/rrn/6KOPZvfdd6/ToQAAAADqyzafJnPrrbfmjDPOqPkFmaqqqkybNq3OBwMAAACoD9sc\n",
              "Q5YuXZo5c+bk7bffTpK0bds2s2fPrvPBAAAAAOrDNp8mM27cuLRp0yaHHHJIDjnkkOy9994ZN25c\n",
              "fcwGAAAAUOe2OYZ8XKlUyqZNm+piFgAAAIB6t80xZI899siTTz5Zc/+JJ57IHnvsUadDAQAAANSX\n",
              "bb5myD/90z9l6NCh6dq1a5LklVdeyYMPPljngwEAAADUh22OIccee2xeeOGFPPXUU0mSnj17Zs89\n",
              "96zruQAAAADqxTbHkCRp3bp1TjnllLqeBQAAAKDebfcFVAEAAAAaEzEEAAAAKBQxBAAAACgUMQQA\n",
              "AAAoFDEEAAAAKBQxBAAAACgUMQQAAAAoFDEEAAAAKBQxBAAAACgUMQQAAAAoFDEEAAAAKBQxBAAA\n",
              "ACgUMQQAAAAoFDEEAAAAKBQxBAAAACgUMQQAAAAoFDEEAAAAKBQxBAAAACgUMQQAAAAoFDEEAAAA\n",
              "KBQxBAAAACgUMQQAAAAoFDEEAAAAKBQxBAAAACgUMQQAAAAoFDEEAAAAKBQxBAAAACgUMQQAAAAo\n",
              "FDEEAAAAKBQxBAAAACgUMQQAAAAoFDEEAAAAKBQxBAAAACgUMQQAAAAoFDEEAAAAKBQxBAAAACgU\n",
              "MQQAAAAoFDEEAAAAKBQxBAAAACgUMQQAAAAoFDEEAAAAKBQxBAAAACgUMQQAAAAoFDEEAAAAKBQx\n",
              "BAAAACgUMQQAAAAoFDEEAAAAKBQxBAAAACgUMQQAAAAoFDEEAAAAKBQxBAAAACgUMQQAAAAoFDEE\n",
              "AAAAKBQxBAAAACgUMQQAAAAoFDEEAAAAKBQxBAAAACgUMQQAAAAoFDEEAAAAKBQxBAAAACgUMQQA\n",
              "AAAoFDEEAAAAKJR6jSGvvPJKevbsmS5duuToo4/O888//4llqqqqcvnll+eQQw5J165d881vfjPr\n",
              "16+vef4f//Ef061bt1RUVOSYY47J7Nmz63NkAAAAYCdXrzFk9OjRueCCC/Lyyy/nqquuysiRIz+x\n",
              "zD333JNnn302zz77bF544YWUlZXllltuSZLMmzcv//zP/5zZs2dn3rx5+da3vpVvfetb9TkyAAAA\n",
              "sJOrtxiyfPnyzJkzJyNGjEiSDBs2LEuWLMnChQtrLfe73/0u/fr1S7NmzVIqlXLyySfn/vvvT5KU\n",
              "SqVs2LAh7733XpJk9erVad++/Rbfc926dVm7dm2t26ZNm+rpEwIAAACNUb3FkCVLluQrX/lKmjZt\n",
              "muTDsFFeXp7FixfXWq579+6ZPn161q5dmw0bNuQXv/hFKisrkySHH354Lr300nTs2DHt27fPzTff\n",
              "nEmTJm3xPW+44Ya0atWq1s1pNQAAAMBHNfgFVEeOHJmBAwemb9++6du3b7p06VITUF577bVMmzYt\n",
              "CxcuzBtvvJFLL700Z5999hbXNXbs2KxZs6bWrUePHl/URwEAAAAagXqLIfvtt1/eeuutbNy4MUlS\n",
              "XV2dxYsXp7y8vNZypVIp1113XebOnZsnn3wy3bp1y9e+9rUkydSpU3PooYfmq1/9apLkb/7mb/LE\n",
              "E0/UusDqRzVv3jwtW7asdWvSpEl9fUQAAACgEaq3GLLPPvvkyCOPzM9+9rMkH4aN9u3bp3PnzrWW\n",
              "++CDD7Jq1aokyYoVKzJx4sRceeWVSZJOnTrliSeeyB//+MckycMPP5wuXbqkWbNm9TU2AAAAsJNr\n",
              "Wp8rv/POOzNy5MhMmDAhLVu2zL333pskGTVqVAYPHpzBgwdnzZo1Of7441NWVpaqqqpccsklOe20\n",
              "05IkQ4cOzdNPP52jjjoqzZs3z+67757JkyfX58gAAADATq5UXV1d3dBD1KcxY8bkpptuaugxAAAA\n",
              "gB1Eg19AFQAAAOCLJIYAAAAAhSKGAAAAAIUihgAAAACFIoYAAAAAhSKGAAAAAIUihgAAAACFIoYA\n",
              "AAAAhSKGAAAAAIUihgAAAACFIoYAAAAAhSKGAAAAAIUihgAAAACFIoYAAAAAhSKGAAAAAIUihgAA\n",
              "AACFIoYAAAAAhSKGAAAAAIUihgAAAACFIoYAAAAAhSKGAAAAAIUihgAAAACFIoYAAAAAhSKGAAAA\n",
              "AIUihgAAAACFIoYAAAAAhSKGAAAAAIUihgAAAACFIoYAAAAAhSKGAAAAAIUihgAAAACFIoYAAAAA\n",
              "hSKGAAAAAIUihgAAAACFIoYAAAAAhSKGAAAAAIUihgAAAACFIoYAAAAAhSKGAAAAAIUihgAAAACF\n",
              "IoYAAAAAhSKGAAAAAIUihgAAAACFIoYAAAAAhSKGAAAAAIUihgAAAACFIoYAAAAAhSKGAAAAAIUi\n",
              "hgAAAACFIoYAAAAAhSKGAAAAAIUihgAAAACFIoYAAAAAhSKGAAAAAIUihgAAAACFIoYAAAAAhSKG\n",
              "AAAAAIUihgAAAACFIoYAAAAAhSKGAAAAAIUihgAAAACFIoYAAAAAhSKGAAAAAIUihgAAAACFIoYA\n",
              "AAAAhSKGAAAAAIUihgAAAACFIoYAAAAAhSKGAAAAAIUihgAAAACFIoYAAAAAhSKGAAAAAIUihgAA\n",
              "AACFIoYAAAAAhSKGAAAAAIUihgAAAACFIoYAAAAAhSKGAAAAAIVSrzHklVdeSc+ePdOlS5ccffTR\n",
              "ef755z+xTFVVVS6//PIccsgh6dq1a775zW9m/fr1Nc8vXrw4p512Wg466KB069YtkyZNqs+RAQAA\n",
              "gJ1cvcaQ0aNH54ILLsjLL7+cq666KiNHjvzEMvfcc0+effbZPPvss3nhhRdSVlaWW265JUlSXV2d\n",
              "oUOH5rzzzstLL72UBQsW5C//8i/rc2QAAABgJ1dvMWT58uWZM2dORowYkSQZNmxYlixZkoULF9Za\n",
              "7ne/+1369euXZs2apVQq5eSTT87999+fJHn00UfTvHnznHXWWTXLt23bdovvuW7duqxdu7bWbdOm\n",
              "TfXw6QAAAIDGqt5iyJIlS/KVr3wlTZs2TZKUSqWUl5dn8eLFtZbr3r17pk+fnrVr12bDhg35xS9+\n",
              "kcrKyiTJggUL0qZNm5xzzjk54ogjMnTo0CxatGiL73nDDTekVatWtW6zZ8+ur48IAAAANEINfgHV\n",
              "kSNHZuDAgenbt2/69u2bLl261ASUjRs35rHHHsu4ceMyd+7cDBgw4FNPkxk7dmzWrFlT69ajR48v\n",
              "6qMAAAAAjUC9xZD99tsvb731VjZu3Jjkw+t/LF68OOXl5bWWK5VKue666zJ37tw8+eST6datW772\n",
              "ta8lScrLy3PEEUfU3D/33HPz7LPPZsOGDZt9z+bNm6dly5a1bk2aNKmvjwgAAAA0QvUWQ/bZZ58c\n",
              "eeSR+dnPfpYkmTp1atq3b5/OnTvXWu6DDz7IqlWrkiQrVqzIxIkTc+WVVyZJTj755Lzxxht58803\n",
              "kyQzZszIwQcfnF122aW+xgYAAAB2ck3rc+V33nlnRo4cmQkTJqRly5a59957kySjRo3K4MGDM3jw\n",
              "4KxZsybHH398ysrKUlVVlUsuuSSnnXZakmT33XfPHXfckUGDBqW6ujqtWrXKz3/+8/ocGQAAANjJ\n",
              "laqrq6sbeoj6NGbMmNx0000NPQYAAACwg2jwC6gCAAAAfJHEEAAAAKBQxBAAAACgUMQQAAAAoFDE\n",
              "EAAAAKBQxBAAAACgUMQQAAAAoFDEEAAAAKBQxBAAAACgUMQQAAAAoFDEEAAAAKBQxBAAAACgUMQQ\n",
              "AAAAoFDEEAAAAKBQxBAAAACgUMQQAAAAoFDEEAAAAKBQxBAAAACgUMQQAAAAoFDEEAAAAKBQxBAA\n",
              "AACgUMQQAAAAoFDEEAAAAKBQxBAAAACgUMQQAAAAoFDEEAAAAKBQxBAAAACgUMQQAAAAoFDEEAAA\n",
              "AKBQxBAAAACgUMQQAAAAoFDEEAAAAKBQxBAAAACgUMQQAAAAoFDEEAAAAKBQxBAAAACgUMQQAAAA\n",
              "oFDEEAAAAKBQxBAAAACgUMQQAAAAoFDEEAAAAKBQxBAAAACgUMQQAAAAoFDEEAAAAKBQxBAAAACg\n",
              "UMQQAAAAoFDEEAAAAKBQxBAAAACgUMQQAAAAoFDEEAAAAKBQxBAAAACgUMQQAAAAoFDEEAAAAKBQ\n",
              "xBAAAACgUMQQAAAAoFDEEAAAAKBQxBAAAACgUMQQAAAAoFDEEAAAAKBQxBAAAACgUErV1dXVDT1E\n",
              "fTrjjDPSoUOHhh7jM23atCmzZ89Ojx490qRJk4Yeh09hWzUutlfjYVs1LrZX42FbNS62V+NhWzUu\n",
              "jW177b///rnkkksaeoyd2k4fQxqLtWvXplWrVlmzZk1atmzZ0OPwKWyrxsX2ajxsq8bF9mo8bKvG\n",
              "xfZqPGyrxsX24uOcJgMAAAAUihgCAAAAFIoYAgAAABSKGLKDaN68ef7+7/8+zZs3b+hR+Ay2VeNi\n",
              "ezUetlXjYns1HrZV42J7NR62VeNie/FxLqAKAAAAFIojQwAAAIBCEUMAAACAQhFDAAAAgEIRQxrY\n",
              "Bx98kCFDhqRLly45/PDD8/Wvfz0LFy5s6LH4DPfee29KpVIeeuihhh6FT7Fu3bp861vfyoEHHphD\n",
              "Dz00I0aMaOiR+BQzZszIkUcemYqKihxyyCH56U9/2tAj8d8uvvjidOjQIaVSKfPmzat5/JVXXknP\n",
              "nj3TpUuXHH300Xn++ecbbkiSbH5b2dfYcW3p79af2d/YcWxpW9nX2DFtaXvZ1+CjxJAdwAUXXJCX\n",
              "Xnopv/vd73L66adn1KhRDT0Sn6KysjJ33313jjnmmIYehc9w9dVXp1Qq5eWXX85zzz2XH/zgBw09\n",
              "EltQXV2dESNG5Cc/+UnmzZuXhx9+OKNHj867777b0KOR5Mwzz8zjjz+e/fffv9bjo0ePzgUXXJCX\n",
              "X345V111VUaOHNkwA1JjS9vKvsaOaUvbK7G/saPZ0rayr7Fj2tz2sq/Bx4khDWzXXXfNKaecklKp\n",
              "lCQ55phjUllZ2bBDsUVVVVUZNWpUJk2a5Ge5dnDvvfde7rnnnnz/+9+v+fvVrl27Bp6KT1MqlbJ6\n",
              "9eokydq1a7PXXnv5e7aD6NOnT9q3b1/rseXLl2fOnDk1/y/osGHDsmTJEkccNLDNbSv7GjuuzW2v\n",
              "xP7Gjmhz28q+xo5rS3+37GvwUWLIDuaWW27J6aef3tBjsAU33XRTjjvuuHTv3r2hR+EzvPrqq/ny\n",
              "l7+cCRMm5Kijjkrv3r3z6KOPNvRYbEGpVMq//Mu/5Iwzzsj++++fXr165ac//WmaNWvW0KOxBUuW\n",
              "LMlXvvKVNG3aNMmH27C8vDyLFy9u4Mn4LPY1dnz2NxoH+xqNi30NPq5pQw/A/5gwYUIWLlzoP6I7\n",
              "qPnz52fq1Kn5f//v/zX0KGyFjRs35vXXX0+3bt0yceLEzJ07N1//+tfz/PPPp23btg09Hh+zcePG\n",
              "jB8/PtOmTUufPn3y9NNPZ/DgwXnuueey9957N/R4sNOwr7Hjs7/ReNjXaFzsa/BxjgzZQfzgBz/I\n",
              "tGnT8u///u9p0aJFQ4/DZsyaNSuVlZU58MAD06FDh/znf/5nLrjggtx+++0NPRqbUV5enrKysnzj\n",
              "G99IkhxxxBHp2LFjnnvuuQaejM2ZN29eli5dmj59+iRJjj766LRv3z5z585t4MnYkv322y9vvfVW\n",
              "Nm7cmOTDc7EXL16c8vLyBp6MLbGv0TjY32g87Gs0LvY1+DgxZAdw00035YEHHsgjjzySPffcs6HH\n",
              "YQsuuuiivPXWW6msrExlZWWOOeaY3HXXXbnooosaejQ2Y++9985JJ52U//iP/0iSvPbaa3nttddy\n",
              "8MEHN/BkbM6f/2H9wgsvJEkWLlyYV199NQcddFADT8aW7LPPPjnyyCPzs5/9LEkyderUtG/fPp07\n",
              "d27gydgc+xqNh/2NxsO+RuNiX4OPK1VXV1c39BBF9sYbb2S//fZLp06dssceeyRJmjdvnv/6r/9q\n",
              "4Mn4LMcff3y+/e1vZ8iQIQ09CluwaNGifPOb38yKFStSVlaW7373uxk2bFhDj8UWPPDAA5kwYULK\n",
              "yspSVVWVsWPHZvjw4Q09FvnwV2P+7d/+LcuWLctee+2VPfbYIwsXLsxLL72UkSNHZuXKlWnZsmXu\n",
              "vffeHHrooQ09bqFtblv95je/sa+xg9rS362Psr+xY9jStrKvsWPa0vayr8FHiSEAAABAoThNBgAA\n",
              "ACgUMQQAAAAoFDEEAAAAKBQxBAD43CorK2v9Okn//v1z2GGHpaKiIr179/aThQDADqlpQw8AAOw8\n",
              "fvGLX9TEkQcffDAjR47M7373u4YdCgDgYxwZAgDU8tRTT6VXr145/PDDc9hhh+WXv/xl5syZk549\n",
              "e+awww5Ljx498sQTT2z2tR89SmTNmjUplUpf0NQAAFvPkSEAQI0//OEPGTJkSKZMmZLevXunqqoq\n",
              "K1asyFFHHZW77747AwYMyOOPP55hw4Zl4cKFm13Heeedl5kzZyZJZsyY8UWODwCwVRwZAgDUeOqp\n",
              "p3LQQQeld+/eSZKysrK8/fbbKSsry4ABA5IkvXr1Stu2bTNv3rzNruO+++7LkiVLMn78+Fx11VVf\n",
              "1OgAAFtNDAEAttnWnP7y13/915k5c2ZWrlz5BUwEALD1xBAAoEbPnj3zyiuvZNasWUmSqqqqtG3b\n",
              "NlVVVXnkkUeSJE8++WSWLVuWioqKWq9dvXp1li5dWnP/oYceyl577ZUvf/nLX9j8AABbwzVDAIAa\n",
              "rVu3zoMPPpjLLrss7777bsrKyvIP//APmTZtWi6++OJcdtll2XXXXTNlypR86UtfyooVK2peu2bN\n",
              "mpx11ll5//33U1ZWljZt2uThhx92EVUAYIdTqq6urm7oIQAAAAC+KE6TAQAAAApFDAEAAAAKRQwB\n",
              "AAAACkUMAQAAAApFDAEAAAAKRQwBAAAACkUMAQAAAApFDAEAAAAKRQwBAAAACkUMAQAAAArl/wOs\n",
              "vWW4b0l8fQAAAABJRU5ErkJggg==\n",
              "\">\n",
              "      </div>\n",
              "      <script type=\"text/javascript\">\n",
              "        (() => {\n",
              "          const chartElement = document.getElementById(\"chart-6dc1800f-adcb-470a-a2c9-d5aa12aac204\");\n",
              "          async function getCodeForChartHandler(event) {\n",
              "            const chartCodeResponse =  await google.colab.kernel.invokeFunction(\n",
              "                'getCodeForChart', [\"chart-6dc1800f-adcb-470a-a2c9-d5aa12aac204\"], {});\n",
              "            const responseJson = chartCodeResponse.data['application/json'];\n",
              "            await google.colab.notebook.addCell(responseJson.code, 'code');\n",
              "          }\n",
              "          chartElement.onclick = getCodeForChartHandler;\n",
              "        })();\n",
              "      </script>\n",
              "      <style>\n",
              "        .colab-quickchart-chart-with-code  {\n",
              "            display: block;\n",
              "            float: left;\n",
              "            border: 1px solid transparent;\n",
              "        }\n",
              "\n",
              "        .colab-quickchart-chart-with-code:hover {\n",
              "            cursor: pointer;\n",
              "            border: 1px solid #aaa;\n",
              "        }\n",
              "      </style>"
            ]
          },
          "metadata": {}
        },
        {
          "output_type": "display_data",
          "data": {
            "text/plain": [
              "from matplotlib import pyplot as plt\n",
              "import seaborn as sns\n",
              "def _plot_series(series, series_name, series_index=0):\n",
              "  palette = list(sns.palettes.mpl_palette('Dark2'))\n",
              "  counted = (series['col4']\n",
              "                .value_counts()\n",
              "              .reset_index(name='counts')\n",
              "              .rename({'index': 'col4'}, axis=1)\n",
              "              .sort_values('col4', ascending=True))\n",
              "  xs = counted['col4']\n",
              "  ys = counted['counts']\n",
              "  plt.plot(xs, ys, label=series_name, color=palette[series_index % len(palette)])\n",
              "\n",
              "fig, ax = plt.subplots(figsize=(10, 5.2), layout='constrained')\n",
              "df_sorted = _df_11.sort_values('col4', ascending=True)\n",
              "for i, (series_name, series) in enumerate(df_sorted.groupby('index')):\n",
              "  _plot_series(series, series_name, i)\n",
              "  fig.legend(title='index', bbox_to_anchor=(1, 1), loc='upper left')\n",
              "sns.despine(fig=fig, ax=ax)\n",
              "plt.xlabel('col4')\n",
              "_ = plt.ylabel('count()')"
            ],
            "text/html": [
              "      <div class=\"colab-quickchart-chart-with-code\" id=\"chart-3a762099-1598-45e7-9e4b-f8bf6f41682d\">\n",
              "        <img style=\"width: 180px;\" src=\"data:image/png;base64,iVBORw0KGgoAAAANSUhEUgAABEMAAAITCAYAAADsAtIvAAAAOXRFWHRTb2Z0d2FyZQBNYXRwbG90\n",
              "bGliIHZlcnNpb24zLjcuMSwgaHR0cHM6Ly9tYXRwbG90bGliLm9yZy/bCgiHAAAACXBIWXMAAA9h\n",
              "AAAPYQGoP6dpAAA1WklEQVR4nO3de5RVhX334e8ZkFGIIIkIiTgiIiIRHUWpoogXAiiKIFotwbz2\n",
              "DYq+TTXiFQ2ppgZpTTCIb+MlviaahWkKxLCsXY1Rk+KlRRQSEW+IIyggYrgYo9xm3j9sppkICjLH\n",
              "YdjPs9Ze4Zyzzz6/c/bCdfhk731KdXV1dQEAAAAoiIqmHgAAAADg0ySGAAAAAIUihgAAAACFIoYA\n",
              "AAAAhSKGAAAAAIUihgAAAACFIoYAAAAAhSKGAAAAAIWy08eQyZMnN/UIAAAAwA6kZVMPUG6vvfZa\n",
              "U48AAAAAjW7Dhg1Zs2ZN/vCHPzT1KDuE1q1bp127dtlll10+dt2dPoYAAADAzmb58uV544030qJF\n",
              "i5RKpaYeZ4fwu9/9Lq+99lr23nvvdOrU6SPXFUMAAACgGfnDH/6QpUuXpk2bNtlrr73SqlWrwgeR\n",
              "urq6rF+/PitWrMjSpUvTtm3btG7deovriyEAAADQjKxcuTItWrTI3nvvnd13372px9mh7LLLLlm0\n",
              "aFFWrlyZqqqqLa63019AFQAAAHZGFRX+Sf/ntvYz8ckBAAAAhSKGAAAAAOnRo0dWrVq1zc8bPHhw\n",
              "Jk+eXIaJysc1QwAAAIC88MILTT3Cp8aRIQAAAEBKpVLeeuutJMkXvvCFXHLJJamurs7ee++dK664\n",
              "on69uXPn5rDDDku3bt0yYMCAvPPOO/WPrVq1KmeffXZ69eqV7t2755xzzsn777+fefPmpWPHjlmw\n",
              "YEGSZPz48enXr182bdr06b7J/yaGAAAAAB+yZs2azJs3L0899VS+//3vZ9GiRUmSc889N1/5yley\n",
              "cOHCfPvb385TTz1V/5yLLroo/fr1y7PPPpsXXnghtbW1ueGGG1JdXZ1vfetbOeuss/LAAw/k//2/\n",
              "/5ef/OQnadGiRZO8N6fJAAAAAB9y7rnnJvngKJF99tknL730UvbYY4+88MIL+du//dskyV/8xV/k\n",
              "8MMPr3/OL37xizz99NO59dZbkyTvv/9+ffAYM2ZMHn300ZxxxhmZOXNm9t5770/5Hf0PMQQAAAD4\n",
              "kN12263+zxUVFdm4ceNm1yuVSvV/rqury7Rp03LooYd+aL3169fnxRdfTLt27bJkyZLGH3gbOE0G\n",
              "AAAA2Cqf/exnc9BBB9Uf+fHUU0/lmWeeqX984MCBueGGG7J+/fokyYoVKzJ//vwkyd/8zd9k//33\n",
              "z6OPPprx48fX398UxBAAAABgq91zzz354Q9/mG7duuWaa67JEUccUf/Y7bffnt122y09e/ZM9+7d\n",
              "c/zxx+fll1/O1KlT8+ijj+buu+/OwQcfnG9/+9v5y7/8y7z77rtN8h5KdXV1dU3yyp+SsWPHZtKk\n",
              "SU09BgAAADSKxYsXZ9WqVenWrVvatGnT1OPsUN59990sXLgw7du3T1VV1RbXc2QIAAAAUChiCAAA\n",
              "AFAoYggAAABQKGIIAAAAUChiCAAAAFAoYggAAABQKGIIAAAAsN2+8IUvpEuXLunRo0e6dOmScePG\n",
              "Ncp2r7rqqnTp0iUVFRW59957G2WbYggAAADQKKZOnZoXXnghjzzySKZMmZJHH310u7c5ePDgPPjg\n",
              "gzniiCMaYcIPiCEAAADQjNXW1uadde+Xdamtrd2mmbp27ZquXbtm0aJFmT9/fo4++uh07949PXr0\n",
              "qD+646abbso555yTJJkzZ05KpVKmT5+eJLnsssty2WWXJUlOOOGE9OzZsxE/saRlo24NAAAA+FS9\n",
              "u2F9Dpp6XVlf4/mR12X3yl23ev25c+dm9erVGTx4cE4++eSMGjUqV155ZX7729/muOOOS58+fTJk\n",
              "yJBMnjw5SfLggw+muro6Dz30UEaMGJFf/epXmThxYrnejiNDAAAAgMYxcuTIdO3aNb17987o0aPT\n",
              "unXrLFiwIF//+teTJIccckh69+6dhx9+uP5ojwULFuTRRx/NDTfckFmzZmX16tV55ZVX0r9//7LN\n",
              "6cgQAAAAaMba7NIqz4+8ruyvsTWmTp2avn375mc/+1n+6q/+KoMGDfrQOqVSqf7Pxx57bO6///7U\n",
              "1NRkyJAhueKKK3LPPfekuro6rVpt3Wt+Eo4MAQAAgGasoqIiu1fuWtalomLb8sHw4cMzatSoXHPN\n",
              "NenZs2duueWWJMn8+fPz9NNPZ8CAAUmSAQMG5NZbb011dXWSpF+/fpk4cWJOOOGERv2M/pwYAgAA\n",
              "ADS6CRMm5Omnn873vve9TJ8+PQceeGDOPPPM3HLLLenevXuS5NRTT83y5ctz0kknJUkGDhyYZcuW\n",
              "ZfDgwfXbueKKK9KxY8fMmzcvF198cTp27Jg33nhju2Yr1dXV1W3XFnZwY8eOzaRJk5p6DAAAAGgU\n",
              "ixcvzqpVq9KtW7e0adOmqcfZobz77rtZuHBh2rdvn6qqqi2u58gQAAAAoFDEEAAAAKBQxBAAAACg\n",
              "UMQQAAAAoFBaNvUAAAAAwNb705+53cl/E+UT+7ifAnZkCAAAADQjH/cPfcQQAAAAgAbEEAAAAGim\n",
              "SqXSDrPsvffe2W+//XLQQQdlv/32yzXXXNMo2z3rrLPSpUuX9OjRI4cffnh+/etfb3HdreWaIQAA\n",
              "ANCM1dbWpm7d78v6GqXKz2zV6TlTp05N3759s2jRohxyyCEZOHBgTjjhhO167WHDhmXq1Klp1apV\n",
              "pk6dmpEjR2bp0qXbtU0xBAAAAJqxunW/zysXtS/ra+z//VXJbm23ev2uXbuma9euWbRoUTp06JDz\n",
              "zz8/b7/9dioqKnLttdfm3HPPzU033ZSnn346P/nJTzJnzpwceeSRmTZtWkaMGJHLLrssSfLd7343\n",
              "o0aNqt/u8ccfnxUrVmT9+vVp1arVJ34/TpMBAAAAGtXcuXOzevXqDB48OCNHjszw4cPz0ksv5ac/\n",
              "/Wn+9m//Ni+++GKGDBmSxx57LEny4IMPprq6Og899FCS5Fe/+lUGDx78oe1OnDgx/fv3364Qkjgy\n",
              "BAAAAJq1UuVnPjhyo8yvsTVGjhyZioqK1NTU5Lrrrkvr1q2zYMGCfP3rX0+SHHLIIendu3cefvjh\n",
              "/J//83+SJAsWLMijjz6aG264IVdeeWVWr16dV155Jf3792+w7X/6p3/KzJkzM2vWrO1+P2IIAAAA\n",
              "NGMVFRXbdApLOf3xmiE/+9nP8ld/9VcZNGjQh9b50wudHnvssbn//vtTU1OTIUOG5Iorrsg999yT\n",
              "6urqBkd/3HnnnfmHf/iHPPTQQ9lnn322e06nyQAAAACNavjw4Rk1alSuueaa9OzZM7fcckuSZP78\n",
              "+Xn66aczYMCAJMmAAQNy6623prq6OknSr1+/TJw4scFFV3/wgx/khhtuyC9+8Yt07969UeYTQwAA\n",
              "AIBGN2HChDz99NP53ve+l+nTp+fAAw/MmWeemVtuuaU+apx66qlZvnx5TjrppCTJwIEDs2zZsgbX\n",
              "C7nwwguzbt26nH766enRo0d69OiR5cuXb9dsTpMBAAAAttuf/9ztXnvtldWrVydJnnzyyc0+p1On\n",
              "Tqmtra2/PWLEiNTV1TVYZ+PGjY07aBwZAgAAABSMGAIAAAAUihgCAAAAFIoYAgAAABSKC6gCAABA\n",
              "M9KiRYv6P//5xUb5wJ9+RpvjyBAAAABoRioq/FP+43zcZ+QTBAAAALbb3nvvnf322y8HHXRQ9ttv\n",
              "v1xzzTWNst2zzjorBx54YA466KD06tUrM2fO3O5tOk0GAAAAmqlSqdTUIzQwderU9O3bN4sWLcoh\n",
              "hxySgQMH5oQTTtiubX7/+99Phw4dkiSPP/54TjnllPzud7/72FNhPoojQwAAAKAZq62tzfvvrS/r\n",
              "Ultbu00zde3aNV27ds2iRYsyf/78HH300enevXt69OiRe++9N0ly00035ZxzzkmSzJkzJ6VSKdOn\n",
              "T0+SXHbZZbnsssuSpD6EJMmqVasa4yNzZAgAAAA0Z+vXbcw3r/lFWV/jWxMGZtfdWm31+nPnzs3q\n",
              "1aszePDgnHzyyRk1alSuvPLKPPvss+nXr1/69OmTIUOGZPLkyUmSBx98MNXV1XnooYcyYsSI/OpX\n",
              "v8rEiRPrt3fRRRflgQceyNq1a/PjH/94u44KSRwZAgAAADSSkSNHpmvXrundu3dGjx6d1q1bZ8GC\n",
              "Bfn617+eJOnVq1d69+6dhx9+OD179kySLFiwII8++mhuuOGGzJo1K6tXr84rr7yS/v3712/3+9//\n",
              "fpYsWZIf/ehHGTduXN5///3tmtORIQAAANCMtapsmW9NGFj219gaf7xmyP33359zzjkngwYN+tA6\n",
              "f3qdk2OPPTb3339/ampqMmTIkFxxxRW59957U11dnVatPnwkyrBhw3LppZdm9uzZOe644z7x+3Fk\n",
              "CAAAADRjFRUV2XW3VmVdtvXnfIcNG5ZRo0blmmuuSc+ePXPLLbckSebPn5+nn346AwYMSJIMGDAg\n",
              "t956a6qrq5Mk/fr1y4033lh/0dV169Zl/vz59dt99NFH87vf/S49evTYrs/MkSEAAABAo5swYUK6\n",
              "d++eGTNm5Nprr82dd96ZUqmUW265Jd27d0+SnHrqqbngggty0kknJUkGDhyYO+64I4MHD06SrF+/\n",
              "Pueee27eeeedtGzZMrvttlvuvffe7LXXXts1mxgCAAAAbLelS5c2uL3XXntl9erVSZInn3xys8/p\n",
              "1KlTg1+qGTFiROrq6upv77777pk7d26jz+o0GQAAAKBQyhpDLr744nTp0iWlUinz5s3b4np33XVX\n",
              "DjjggOy///45//zzs2HDhgaP19XV5cQTT8wee+xRznEBAACAAihrDDnzzDPz2GOPZd99993iOq++\n",
              "+mrGjx+fWbNmZeHChXnzzTdzxx13NFjn5ptvzv7771/OUQEAAICCKGsMOe6449K5c+ePXGfatGkZ\n",
              "OnRoOnXqlFKplAsvvDD33Xdf/ePPPfdc7r///lx99dUf+3rr1q3L2rVrGyybNm3a7vcBAAAA7Dya\n",
              "/AKqixcvbnDkSJcuXbJ48eIkyYYNG3L++efnrrvuSosWLT52WzfeeGOuv/76BvcdddRRjTswAAAA\n",
              "NKGWLT/4p3xdXV2Di42S+s/jj5/RluzQF1C9/vrrc8YZZ+Sggw7aqvXHjRuXNWvWNFj69OlT5ikB\n",
              "AADg01NRUZFSqZRSqVQfRCwfLH/8XCoqPjp3NPmRIVVVVXnllVfqb9fU1KSqqipJ8utf/zqLFy/O\n",
              "rbfemo0bN2bt2rXp0qVLnnrqqXTo0OFD26qsrExlZWWD+7bmiBIAAABobv74D3/+x9Z+Hk1+ZMiI\n",
              "ESMyc+bMLF++PHV1dbnttttyzjnnJElmzZqV1157LTU1NXnsscfStm3b1NTUbDaEAAAAQNH8MYjs\n",
              "CEvnzp3TtWvXHHTQQenatWuuvfbaRt3+Aw88kJYtW+aGG27Y4jpbq6wxZMyYMencuXNef/31DBo0\n",
              "KN26dUuSjB49OjNnzkySdO3aNddff32OOeaYdOvWLR06dMiYMWPKORYAAABQBlOnTs0LL7yQRx55\n",
              "JFOmTMmvf/3rRtnu22+/nWuvvTb9+/dvlO2V9TSZ22+/fbP3/+AHP2hw+/zzz8/555//kdvq0qVL\n",
              "Vq9e3VijAQAAwE6htrY2eXdDeV+kzS4fex2OP7Xffvtlv/32y6JFi7Lnnnvm/PPPz8qVK1NRUZFv\n",
              "fOMbGTVqVL773e9mzpw5ue+++/LMM8+kd+/emTFjRoYPH54rrrgiSXLTTTcl+eCgiquvvjozZsxo\n",
              "lLfT5NcMAQAAALbDuxuy4i9uKetL7PVfFye7V378iv9t3rx5Wb16dQYNGpTBgwfnK1/5Si6//PLM\n",
              "nz8/xx57bPr06ZNTTjklN998c5LkwQcfTHV1dX7xi19k+PDhefTRRzNx4sQkyQ9/+MNUVFRk5MiR\n",
              "jRZDmvyaIQAAAMDOYeTIkenatWsOP/zwXHDBBWndunUWLFiQSy65JEly8MEH54gjjsjDDz9c/8ux\n",
              "zz//fB555JFMmDAhs2bNypo1a7Jw4cL0798/S5YsycSJE7d45skn5cgQAAAAaM7a7PLBkRtlfo2t\n",
              "MXXq1Bx99NH5+c9/nrPPPjsDBw780Dp/eqHTfv365ec//3leffXVnHzyybn88stz77335rDDDssu\n",
              "u+ySJ554Im+99VYOPfTQJMmqVavy0EMP5a233sott3zyo2EcGQIAAADNWEVFRSp2ryzvsg3XC0mS\n",
              "008/Peeee26uueaa9OzZM1OmTEmSPPfcc5kzZ04GDBiQJPnSl76UKVOm5LDDDkvyQRy58cYbc+KJ\n",
              "JyZJzj777Lz99tt544038sYbb+SUU07J5Zdfvl0hJBFDAAAAgDKYMGFC5syZk8mTJ2fatGk58MAD\n",
              "M2LEiEyZMiUHHHBAkmTIkCFZtmxZTjrppCTJoEGDsnTp0gwaNKisszlNBgAAANhub7zxRoPbHTp0\n",
              "qP9V2CeeeGKzz+nYseMHv4bz34YPH566urotvsa0adO2f9A4MgQAAAAoGDEEAAAAKBQxBAAAACgU\n",
              "MQQAAACaoY+6tkZRbe1n4gKqAAAA0IzssssuSZKNGzdm48aN2/yztzur2trabNy4Mcn/fEZbIoYA\n",
              "AABAM1JRUZGWLVumVCplw4YNTT3ODqVUKqVly5YfG4jEEAAAAGhmSqVSdtlll1RWVjb1KDucUqn0\n",
              "seuIIQAAANAMlUqlHeoUmS5duqSysjK77bZb3nvvvfz1X/91rr766u3e7vHHH5/XXnst7dq1S5L8\n",
              "r//1v3LppZdudt2tCSGJGAIAAADNWl1dXdZveq+sr9GqxW5bFRr++Z//OdXV1XnjjTfSs2fPnHji\n",
              "ienTp892v/7NN9+cYcOGbfd2/kgMAQAAgGZs/ab3cvG/HFTW17jlrOdT2bL1Vq+/9957p0ePHnnt\n",
              "tdfy2c9+NhdeeGFWrFiRioqKXHfddRk2bFjuuOOOzJkzJ3fccUcWLFiQL37xi/n3f//3DBw4MN/6\n",
              "1reSJN/85jfL8n52nONpAAAAgJ3CCy+8kLfffjvHH398vvzlL+ess87Kb3/72/zLv/xLvvrVr+a1\n",
              "117LgAED8stf/jJJ8tBDD+Xoo49ucHvAgAH127v66qvTq1evnH322Vm0aNF2z+fIEAAAAGjGWrXY\n",
              "Lbec9XzZX2NrnH322amoqMiLL76Ym2++ObvuumueeeaZPP7440mSAw44IMcee2xmzZqVUaNGJUkW\n",
              "LVqUX/7yl7nxxhtz2WWX5fe//30WLFhQf3rNvffem3322Sd1dXX5v//3/+bUU0/NggULtuv9iCEA\n",
              "AADQjJVKpW06haWc/njNkF/+8pc57bTTcuKJJ35onT+99siAAQPyb//2b3n55ZfTv3//1NXVZfr0\n",
              "6Tn66KPTsuUHyWKfffapf97Xvva1XH755Xn77bfzuc997hPP6TQZAAAAoFENGDAgF110Ub7xjW/k\n",
              "8MMPz913350kWbhwYR577LEcd9xx9evddNNN9UeBnHjiifm7v/u7+lNkNm7cmDfffLN+u9OnT0/H\n",
              "jh23K4QkjgwBAAAAymD8+PHp1q1bHnzwwVx77bW59dZbUyqV8oMf/CBVVVVJkpNOOimLFy+ujx9f\n",
              "+tKX8p3vfCcnnXRSkmTdunUZMmRI1q1bl4qKiuy5556ZOXPmds8mhgAAAADbraampsHt9u3b5+23\n",
              "306S+guj/rnPfe5zqa2trb89cODA1NXV1d9u06ZN5syZ0+izOk0GAAAAKBQxBAAAACgUMQQAAACa\n",
              "oT89vYQPbO1n4pohAAAA0Iy0atUqFRUVWbp0aTp06JBWrVo1+LnaIqqrq8v69evz1ltvpaKiIq1a\n",
              "tfrI9cUQAAAAaEYqKiqy3377ZdmyZVm6dGlTj7NDad26daqqqlJR8dEnwoghAAAA0My0atUqVVVV\n",
              "2bhxYzZt2tTU4+wQWrRokZYtW27VUTJiCAAAADRDpVIpu+yyS3bZZZemHqXZcQFVAAAAoFDEEAAA\n",
              "AKBQxBAAAACgUMQQAAAAoFDEEAAAAKBQxBAAAACgUMQQAAAAoFDEEAAAAKBQxBAAAACgUMQQAAAA\n",
              "oFDEEAAAAKBQxBAAAACgUMQQAAAAoFDEEAAAAKBQxBAAAACgUMQQAAAAoFDEEAAAAKBQxBAAAACg\n",
              "UMQQAAAAoFDEEAAAAKBQxBAAAACgUMQQAAAAoFDEEAAAAKBQxBAAAACgUMQQAAAAoFDEEAAAAKBQ\n",
              "xBAAAACgUMQQAAAAoFDEEAAAAKBQxBAAAACgUMQQAAAAoFDEEAAAAKBQxBAAAACgUMQQAAAAoFDE\n",
              "EAAAAKBQxBAAAACgUMQQAAAAoFDEEAAAAKBQxBAAAACgUMQQAAAAoFDEEAAAAKBQxBAAAACgUMQQ\n",
              "AAAAoFDEEAAAAKBQxBAAAACgUMQQAAAAoFDEEAAAAKBQxBAAAACgUMQQAAAAoFDKGkMuvvjidOnS\n",
              "JaVSKfPmzdvienfddVcOOOCA7L///jn//POzYcOGJMkjjzySPn36pGfPnvniF7+YK6+8MrW1teUc\n",
              "GQAAANjJlTWGnHnmmXnsscey7777bnGdV199NePHj8+sWbOycOHCvPnmm7njjjuSJO3bt89PfvKT\n",
              "LFiwIE8//XSeeOKJ3HPPPeUcGQAAANjJlTWGHHfccencufNHrjNt2rQMHTo0nTp1SqlUyoUXXpj7\n",
              "7rsvSXLYYYela9euSZJdd9011dXVqamp2eK21q1bl7Vr1zZYNm3a1GjvBwAAAGj+mvyaIYsXL25w\n",
              "5EiXLl2yePHiD623fPnyTJs2LaeeeuoWt3XjjTemXbt2DZbZs2eXZW4AAACgeWryGLI11q5dm9NO\n",
              "Oy1XXnlljjjiiC2uN27cuKxZs6bB0qdPn09xUgAAAGBH17KpB6iqqsorr7xSf7umpiZVVVX1t995\n",
              "550MHjw4p59+esaOHfuR26qsrExlZWWD+1q0aNG4AwMAAADNWpMfGTJixIjMnDkzy5cvT11dXW67\n",
              "7bacc845SZLf//73GTx4cAYPHpxvfOMbTTwpAAAAsDMoawwZM2ZMOnfunNdffz2DBg1Kt27dkiSj\n",
              "R4/OzJkzkyRdu3bN9ddfn2OOOSbdunVLhw4dMmbMmCTJ5MmTM3v27MyYMSPV1dWprq7Ot7/97XKO\n",
              "DAAAAOzkSnV1dXVNPUQ5jR07NpMmTWrqMQAAAIAdRJOfJgMAAADwaRJDAAAAgEIRQwAAAIBCEUMA\n",
              "AACAQhFDAAAAgEIRQwAAAIBCEUMAAACAQhFDAAAAgEIRQwAAAIBCEUMAAACAQhFDAAAAgEIRQwAA\n",
              "AIBCEUMAAACAQhFDAAAAgEIRQwAAAIBCEUMAAACAQhFDAAAAgEIRQwAAAIBCEUMAAACAQhFDAAAA\n",
              "gEIRQwAAAIBCEUMAAACAQhFDAAAAgEIRQwAAAIBCEUMAAACAQhFDAAAAgEIRQwAAAIBCEUMAAACA\n",
              "QhFDAAAAgEIRQwAAAIBCEUMAAACAQhFDAAAAgEIRQwAAAIBCEUMAAACAQhFDAAAAgEIRQwAAAIBC\n",
              "EUMAAACAQhFDAAAAgEIRQwAAAIBCEUMAAACAQhFDAAAAgEIRQwAAAIBCEUMAAACAQhFDAAAAgEIR\n",
              "QwAAAIBCEUMAAACAQhFDAAAAgEIRQwAAAIBCEUMAAACAQhFDAAAAgEIRQwAAAIBCEUMAAACAQhFD\n",
              "AAAAgEIRQwAAAIBCEUMAAACAQhFDAAAAgEIRQwAAAIBCEUMAAACAQhFDAAAAgEIRQwAAAIBCEUMA\n",
              "AACAQhFDAAAAgEIRQwAAAIBCEUMAAACAQmn5SZ60YMGCvP7669ltt93Sq1ev7LHHHo08FgAAAEB5\n",
              "bHUMeeedd/Kd73wnd955Z1q3bp2OHTvm/fffzyuvvJI+ffrkqquuykknnVTOWQEAAAC221bHkBNO\n",
              "OCFf+cpXMnfu3HTs2LH+/tra2syaNSu33XZbFi5cmDFjxpRlUAAAAIDGsNUx5PHHH09lZeWH7q+o\n",
              "qEj//v3Tv3//rFu3rlGHAwAAAGhsW30B1c2FkE+yDgAAAEBT2uoYcuqpp+aJJ57Y7GOrV6/Od7/7\n",
              "3dx+++2NNhgAAABAOWz1aTITJkzIuHHjsmDBghx55JH1F1B94YUX8sYbb+Rv/uZv8r//9/8u56wA\n",
              "AAAA222rY8ghhxySf/3Xf82SJUvy61//Oq+//npat26dL3/5yzn22GPTsuUn+pVeAAAAgE/VNheM\n",
              "VatWZdSoUQ3u++1vf5tDDjmk0YYCAAAAKJetvmbIH5133nlbdR8AAADAjmirjwxZsWJFli9fnvfe\n",
              "ey/PPvts6urqkiRr1qzJu+++W7YBAQAAABrTVseQ++67L9/73veydOnSDB06tP7+du3a5corryzL\n",
              "cAAAAACNbatjyCWXXJJLLrkkf//3f5/x48eXcyYAAACAstnmC6iOHz8+tbW1Wb58eTZu3Fh/f1VV\n",
              "VaMOBgAAAFAO23wB1R/96EfZY4890qtXr/Tu3Tu9e/fOEUccsdl1L7744nTp0iWlUinz5s3b4jbv\n",
              "uuuuHHDAAdl///1z/vnnZ8OGDVv1GAAAAMC22uYY8q1vfStPPfVU3n777bz11lt56623smLFis2u\n",
              "e+aZZ+axxx7Lvvvuu8Xtvfrqqxk/fnxmzZqVhQsX5s0338wdd9zxsY8BAAAAfBLbHEP23HPPHHjg\n",
              "gVu17nHHHZfOnTt/5DrTpk3L0KFD06lTp5RKpVx44YW57777PvYxAAAAgE9im68ZMmzYsHzve9/L\n",
              "yJEjs+uuu9bf37Zt2080wOLFixscOdKlS5csXrz4Yx/bnHXr1mXdunUN7tu0adMnmgsAAADYOW3z\n",
              "kSHXXnttxo4dm06dOqV9+/bZY4890r59+3LMts1uvPHGtGvXrsEye/bsph4LAAAA2IFscwypra2t\n",
              "XzZt2lT/v59UVVVVXnvttfrbNTU19b9M81GPbc64ceOyZs2aBkufPn0+8WwAAADAzmebY0hjGzFi\n",
              "RGbOnJnly5enrq4ut912W84555yPfWxzKisr07Zt2wZLixYtPq23AgAAADQD2xxDKioq0qJFiw8t\n",
              "mzNmzJh07tw5r7/+egYNGpRu3bolSUaPHp2ZM2cmSbp27Zrrr78+xxxzTLp165YOHTpkzJgxH/sY\n",
              "AAAAwCdRqqurq9uWJ7z77rv1f37vvfdyzz33ZNOmTbniiisafbjGMHbs2EyaNKmpxwAAAAB2ENt8\n",
              "ZEibNm3qlz333DNjx47NtGnTyjEbAAAAQKPb7muGvPDCC1m5cmVjzAIAAABQdi239Qnt27dPqVRK\n",
              "kmzcuDFJMmXKlMadCgAAAKBMtjmGzJs373+e3LJlOnXq5BdbAAAAgGZjm2PIvvvumz/84Q/1UaR9\n",
              "+/Zp3bp1Y88FAAAAUBbbHEOeeOKJjBgxIp06dUqSvPnmm5k+fXqOPvroRh8OAAAAoLFtcwz546/H\n",
              "HHPMMUk+iCOXXnpp/vM//7PRhwMAAABobNv8azLvvfdefQhJkr59++b9999v1KEAAAAAymWbY8hn\n",
              "PvOZ/PKXv6y//fDDD6dNmzaNOhQAAABAuWzzaTK33HJLzjjjjPpfkKmtrc2MGTMafTAAAACActjm\n",
              "GLJ06dLMmTMnb775ZpKkY8eOmT17dqMPBgAAAFAO23yazPjx49OhQ4ccfPDBOfjgg7Pnnntm/Pjx\n",
              "5ZgNAAAAoNFtcwz5c6VSKZs2bWqMWQAAAADKbptjyO67754nnnii/vbjjz+e3XffvVGHAgAAACiX\n",
              "bb5myD/+4z9m+PDh6dGjR5Lk5Zdfzs9+9rNGHwwAAACgHLY5hhx99NF5/vnn8+STTyZJ+vbtmz32\n",
              "2KOx5wIAAAAoi22OIUnSvn37nHLKKY09CwAAAEDZbfcFVAEAAACaEzEEAAAAKBQxBAAAACgUMQQA\n",
              "AAAoFDEEAAAAKBQxBAAAACgUMQQAAAAoFDEEAAAAKBQxBAAAACgUMQQAAAAoFDEEAAAAKBQxBAAA\n",
              "ACgUMQQAAAAoFDEEAAAAKBQxBAAAACgUMQQAAAAoFDEEAAAAKBQxBAAAACgUMQQAAAAoFDEEAAAA\n",
              "KBQxBAAAACgUMQQAAAAoFDEEAAAAKBQxBAAAACgUMQQAAAAoFDEEAAAAKBQxBAAAACgUMQQAAAAo\n",
              "FDEEAAAAKBQxBAAAACgUMQQAAAAoFDEEAAAAKBQxBAAAACgUMQQAAAAoFDEEAAAAKBQxBAAAACgU\n",
              "MQQAAAAoFDEEAAAAKBQxBAAAACgUMQQAAAAoFDEEAAAAKBQxBAAAACgUMQQAAAAoFDEEAAAAKBQx\n",
              "BAAAACgUMQQAAAAoFDEEAAAAKBQxBAAAACgUMQQAAAAoFDEEAAAAKBQxBAAAACgUMQQAAAAoFDEE\n",
              "AAAAKBQxBAAAACgUMQQAAAAoFDEEAAAAKBQxBAAAACgUMQQAAAAoFDEEAAAAKBQxBAAAACgUMQQA\n",
              "AAAoFDEEAAAAKJSyxpCXX345ffv2Tffu3XPkkUfmueee+9A6tbW1ufzyy3PwwQenR48e+epXv5r1\n",
              "69fXP/4P//AP6dmzZ6qrq3PUUUdl9uzZ5RwZAAAA2MmVNYaMGTMmF1xwQV566aVcddVVOe+88z60\n",
              "zl133ZVnnnkmzzzzTJ5//vlUVFRk8uTJSZJ58+bln/7pnzJ79uzMmzcvX/va1/K1r32tnCMDAAAA\n",
              "O7myxZAVK1Zkzpw5GTVqVJJkxIgRWbJkSRYuXNhgvd/85jcZMGBAWrVqlVKplJNPPjn33ntvkqRU\n",
              "KmXDhg159913kySrV69O586dt/ia69aty9q1axssmzZtKtM7BAAAAJqjssWQJUuW5POf/3xatmyZ\n",
              "5IOwUVVVlcWLFzdYr3fv3pk5c2bWrl2bDRs25Kc//WlqamqSJIceemguvfTS7LfffuncuXNuvvnm\n",
              "TJkyZYuveeONN6Zdu3YNFqfVAAAAAH+qyS+get5552Xw4MHp379/+vfvn+7du9cHlFdffTUzZszI\n",
              "woUL8/rrr+fSSy/N2WefvcVtjRs3LmvWrGmw9OnT59N6KwAAAEAzULYYss8++2TZsmXZuHFjkqSu\n",
              "ri6LFy9OVVVVg/VKpVKuu+66zJ07N0888UR69uyZL37xi0mS6dOnp1evXvnCF76QJPnrv/7rPP74\n",
              "4w0usPqnKisr07Zt2wZLixYtyvUWAQAAgGaobDFkr732yuGHH54f//jHST4IG507d063bt0arPf+\n",
              "++9n1apVSZKVK1dm4sSJufLKK5MkXbt2zeOPP57f//73SZIHHngg3bt3T6tWrco1NgAAALCTa1nO\n",
              "jd9+++0577zzMmHChLRt2zZ33313kmT06NEZOnRohg4dmjVr1uT4449PRUVFamtrc8kll+S0005L\n",
              "kgwfPjxPPfVUjjjiiFRWVqZNmzaZOnVqOUcGAAAAdnKlurq6uqYeopzGjh2bSZMmNfUYAAAAwA6i\n",
              "yS+gCgAAAPBpEkMAAACAQhFDAAAAgEIRQwAAAIBCEUMAAACAQhFDAAAAgEIRQwAAAIBCEUMAAACA\n",
              "QhFDAAAAgEIRQwAAAIBCEUMAAACAQhFDAAAAgEIRQwAAAIBCEUMAAACAQhFDAAAAgEIRQwAAAIBC\n",
              "EUMAAACAQhFDAAAAgEIRQwAAAIBCEUMAAACAQhFDAAAAgEIRQwAAAIBCEUMAAACAQhFDAAAAgEIR\n",
              "QwAAAIBCEUMAAACAQhFDAAAAgEIRQwAAAIBCEUMAAACAQhFDAAAAgEIRQwAAAIBCEUMAAACAQhFD\n",
              "AAAAgEIRQwAAAIBCEUMAAACAQhFDAAAAgEIRQwAAAIBCEUMAAACAQhFDAAAAgEIRQwAAAIBCEUMA\n",
              "AACAQhFDAAAAgEIRQwAAAIBCEUMAAACAQhFDAAAAgEIRQwAAAIBCEUMAAACAQhFDAAAAgEIRQwAA\n",
              "AIBCEUMAAACAQhFDAAAAgEIRQwAAAIBCEUMAAACAQhFDAAAAgEIRQwAAAIBCEUMAAACAQhFDAAAA\n",
              "gEIRQwAAAIBCEUMAAACAQhFDAAAAgEIRQwAAAIBCEUMAAACAQhFDAAAAgEIRQwAAAIBCEUMAAACA\n",
              "QhFDAAAAgEIRQwAAAIBCEUMAAACAQhFDAAAAgEIRQwAAAIBCEUMAAACAQhFDAAAAgEIRQwAAAIBC\n",
              "EUMAAACAQhFDAAAAgEIRQwAAAIBCEUMAAACAQhFDAAAAgEIpawx5+eWX07dv33Tv3j1HHnlknnvu\n",
              "uQ+tU1tbm8svvzwHH3xwevToka9+9atZv359/eOLFy/OaaedlgMPPDA9e/bMlClTyjkyAAAAsJMr\n",
              "awwZM2ZMLrjggrz00ku56qqrct55531onbvuuivPPPNMnnnmmTz//POpqKjI5MmTkyR1dXUZPnx4\n",
              "vvKVr+TFF1/MggUL8pd/+ZflHBkAAADYyZUthqxYsSJz5szJqFGjkiQjRozIkiVLsnDhwgbr/eY3\n",
              "v8mAAQPSqlWrlEqlnHzyybn33nuTJA8//HAqKytz1lln1a/fsWPHLb7munXrsnbt2gbLpk2byvDu\n",
              "AAAAgOaqbDFkyZIl+fznP5+WLVsmSUqlUqqqqrJ48eIG6/Xu3TszZ87M2rVrs2HDhvz0pz9NTU1N\n",
              "kmTBggXp0KFDzjnnnBx22GEZPnx4Fi1atMXXvPHGG9OuXbsGy+zZs8v1FgEAAIBmqMkvoHreeedl\n",
              "8ODB6d+/f/r375/u3bvXB5SNGzfmkUceyfjx4zN37twMGjToI0+TGTduXNasWdNg6dOnz6f1VgAA\n",
              "AIBmoGwxZJ999smyZcuycePGJB9c/2Px4sWpqqpqsF6pVMp1112XuXPn5oknnkjPnj3zxS9+MUlS\n",
              "VVWVww47rP72ueeem2eeeSYbNmzY7GtWVlambdu2DZYWLVqU6y0CAAAAzVDZYshee+2Vww8/PD/+\n",
              "8Y+TJNOnT0/nzp3TrVu3Buu9//77WbVqVZJk5cqVmThxYq688sokycknn5zXX389b7zxRpLkwQcf\n",
              "zEEHHZRddtmlXGMDAAAAO7mW5dz47bffnvPOOy8TJkxI27Ztc/fddydJRo8enaFDh2bo0KFZs2ZN\n",
              "jj/++FRUVKS2tjaXXHJJTjvttCRJmzZtctttt2XIkCGpq6tLu3bt8pOf/KScIwMAAAA7uVJdXV1d\n",
              "Uw9RTmPHjs2kSZOaegwAAABgB9HkF1AFAAAA+DSJIQAAAEChiCEAAABAoYghAAAAQKGIIQAAAECh\n",
              "iCEAAABAoYghAAAAQKGIIQAAAEChiCEAAABAoYghAAAAQKGIIQAAAEChiCEAAABAoYghAAAAQKGI\n",
              "IQAAAEChiCEAAABAoYghAAAAQKGIIQAAAEChiCEAAABAoYghAAAAQKGIIQAAAEChiCEAAABAoYgh\n",
              "AAAAQKGIIQAAAEChiCEAAABAoYghAAAAQKGIIQAAAEChiCEAAABAoYghAAAAQKGIIQAAAEChiCEA\n",
              "AABAoYghAAAAQKGIIQAAAEChiCEAAABAoYghAAAAQKGIIQAAAEChiCEAAABAoYghAAAAQKGIIQAA\n",
              "AEChiCEAAABAoYghAAAAQKGIIQAAAEChiCEAAABAoYghAAAAQKGIIQAAAEChiCEAAABAoYghAAAA\n",
              "QKGIIQAAAEChiCEAAABAoYghAAAAQKGIIQAAAEChiCEAAABAoYghAAAAQKGIIQAAAEChiCEAAABA\n",
              "oYghAAAAQKGIIQAAAEChiCEAAABAoYghAAAAQKGIIQAAAEChiCEAAABAoZTq6urqmnqIcjrjjDPS\n",
              "pUuXph6jsDZt2pTZs2enT58+adGiRVOPw0ewr5oX+6v5sK+aF/ur+bCvmg/7qnmxv3YM++67by65\n",
              "5JKmHmOnttPHEJrW2rVr065du6xZsyZt27Zt6nH4CPZV82J/NR/2VfNifzUf9lXzYV81L/YXReE0\n",
              "GQAAAKBQxBAAAACgUMQQAAAAoFDEEMqqsrIyf/d3f5fKysqmHoWPYV81L/ZX82FfNS/2V/NhXzUf\n",
              "9lXzYn9RFC6gCgAAABSKI0MAAACAQhFDAAAAgEIRQwAAAIBCEUMou7vvvjulUin3339/U4/CFqxb\n",
              "ty5f+9rXcsABB6RXr14ZNWpUU4/ER3jwwQdz+OGHp7q6OgcffHB+9KMfNfVI/LeLL744Xbp0SalU\n",
              "yrx58+rvf/nll9O3b9907949Rx55ZJ577rmmG5J6m9tf77//foYNG5bu3bvn0EMPzZe+9KUsXLiw\n",
              "aQdli3+3/sh3jR3LlvaX7xs7ni3tK981KAIxhLKqqanJnXfemaOOOqqpR+EjXH311SmVSnnppZfy\n",
              "7LPP5jvf+U5Tj8QW1NXVZdSoUfnhD3+YefPm5YEHHsiYMWPyzjvvNPVoJDnzzDPz2GOPZd99921w\n",
              "/5gxY3LBBRfkpZdeylVXXZXzzjuvaQakgS3trwsuuCAvvvhifvOb3+T000/P6NGjm2hC/mhL+yrx\n",
              "XWNHtKX95fvGjmdz+8p3DYpCDKFsamtrM3r06EyZMsVPc+3A3n333dx111359re/nVKplCTp1KlT\n",
              "E0/FRymVSlm9enWSZO3atfnc5z7n79gO4rjjjkvnzp0b3LdixYrMmTOn/v8BHTFiRJYsWeJogx3A\n",
              "5vbXrrvumlNOOaX+v4dHHXVUampqmmA6/tTm9lXiu8aOanP7y/eNHdOW/m75rkERiCGUzaRJk3LM\n",
              "Mcekd+/eTT0KH+GVV17JZz/72UyYMCFHHHFE+vXrl4cffripx2ILSqVS/vmf/zlnnHFG9t133xx7\n",
              "7LH50Y9+lFatWjX1aGzBkiVL8vnPfz4tW7ZM8sE+rKqqyuLFi5t4MrbG5MmTc/rppzf1GGyB7xrN\n",
              "h+8bzYfvGhRFy6YegJ3T/PnzM3369PzHf/xHU4/Cx9i4cWNee+219OzZMxMnTszcuXPzpS99Kc89\n",
              "91w6duzY1OPxZzZu3JgbbrghM2bMyHHHHZennnoqQ4cOzbPPPps999yzqceDncqECROycOFC/2Db\n",
              "Qfmu0bz4vtF8+K5BUTgyhLKYNWtWampqcsABB6RLly75z//8z1xwwQX5/ve/39Sj8WeqqqpSUVGR\n",
              "L3/5y0mSww47LPvtt1+effbZJp6MzZk3b16WLl2a4447Lkly5JFHpnPnzpk7d24TT8aW7LPPPlm2\n",
              "bFk2btyY5INzsRcvXpyqqqomnoyP8p3vfCczZszIv/3bv6V169ZNPQ6b4btG8+L7RvPhuwZFIYZQ\n",
              "FhdddFGWLVuWmpqa1NTU5Kijjsodd9yRiy66qKlH48/sueeeOemkk/Lv//7vSZJXX301r776ag46\n",
              "6KAmnozN+eM/rJ9//vkkycKFC/PKK6/kwAMPbOLJ2JK99torhx9+eH784x8nSaZPn57OnTunW7du\n",
              "TTwZWzJp0qTcd999eeihh7LHHns09Thsge8azYvvG82H7xoURamurq6uqYdg53f88cfn61//eoYN\n",
              "G9bUo7AZixYtyle/+tWsXLkyFRUV+eY3v5kRI0Y09VhswX333ZcJEyakoqIitbW1GTduXEaOHNnU\n",
              "Y5EPfjXmX//1X7N8+fJ87nOfy+67756FCxfmxRdfzHnnnZe33347bdu2zd13351evXo19biFt7n9\n",
              "9atf/Sr77LNPunbtmt133z1JUllZmf/6r/9q4mmLbUt/t/6U7xo7ji3tL983djxb2le+a1AEYggA\n",
              "AABQKE6TAQAAAApFDAEAAAAKRQwBAAAACkUMAQA+sZqams3+4srdd9+dUqmU+++//1OfCQDg44gh\n",
              "AECjqqmpyZ133pmjjjqqqUcBANgsMQQAaODJJ5/Msccem0MPPTSHHHJIfv7zn2fOnDnp27dvDjnk\n",
              "kPTp0yePP/74Zp9bW1ub0aNHZ8qUKamsrPyUJwcA2Dotm3oAAGDH8bvf/S7Dhg3LtGnT0q9fv9TW\n",
              "1mblypU54ogjcuedd2bQoEF57LHHMmLEiCxcuPBDz580aVKOOeaY9O7duwmmBwDYOmIIAFDvySef\n",
              "zIEHHph+/folSSoqKvLmm2+moqIigwYNSpIce+yx6dixY+bNm5fOnTvXP3f+/PmZPn16/uM//qNJ\n",
              "ZgcA2FpiCACwzUql0ofumzVrVmpqanLAAQckSZYvX54LLrggy5Yty0UXXfRpjwgAsEWuGQIA1Ovb\n",
              "t29efvnlzJo1K8kH1wDp2LFjamtr89BDDyVJnnjiiSxfvjzV1dUNnnvRRRdl2bJlqampSU1NTY46\n",
              "6qjccccdQggAsMNxZAgAUK99+/b52c9+lssuuyzvvPNOKioq8vd///eZMWNGLr744lx22WXZdddd\n",
              "M23atHzmM5/JypUrm3pkAIBtVqqrq6tr6iEAAAAAPi1OkwEAAAAKRQwBAAAACkUMAQAAAApFDAEA\n",
              "AAAKRQwBAAAACkUMAQAAAApFDAEAAAAKRQwBAAAACkUMAQAAAApFDAEAAAAK5f8DgxUnaK0eRBQA\n",
              "AAAASUVORK5CYII=\n",
              "\">\n",
              "      </div>\n",
              "      <script type=\"text/javascript\">\n",
              "        (() => {\n",
              "          const chartElement = document.getElementById(\"chart-3a762099-1598-45e7-9e4b-f8bf6f41682d\");\n",
              "          async function getCodeForChartHandler(event) {\n",
              "            const chartCodeResponse =  await google.colab.kernel.invokeFunction(\n",
              "                'getCodeForChart', [\"chart-3a762099-1598-45e7-9e4b-f8bf6f41682d\"], {});\n",
              "            const responseJson = chartCodeResponse.data['application/json'];\n",
              "            await google.colab.notebook.addCell(responseJson.code, 'code');\n",
              "          }\n",
              "          chartElement.onclick = getCodeForChartHandler;\n",
              "        })();\n",
              "      </script>\n",
              "      <style>\n",
              "        .colab-quickchart-chart-with-code  {\n",
              "            display: block;\n",
              "            float: left;\n",
              "            border: 1px solid transparent;\n",
              "        }\n",
              "\n",
              "        .colab-quickchart-chart-with-code:hover {\n",
              "            cursor: pointer;\n",
              "            border: 1px solid #aaa;\n",
              "        }\n",
              "      </style>"
            ]
          },
          "metadata": {}
        },
        {
          "output_type": "display_data",
          "data": {
            "text/plain": [
              "<google.colab._quickchart_helpers.SectionTitle at 0x7d5632ad45b0>"
            ],
            "text/html": [
              "<h4 class=\"colab-quickchart-section-title\">Values</h4>\n",
              "<style>\n",
              "  .colab-quickchart-section-title {\n",
              "      clear: both;\n",
              "  }\n",
              "</style>"
            ]
          },
          "metadata": {}
        },
        {
          "output_type": "display_data",
          "data": {
            "text/plain": [
              "from matplotlib import pyplot as plt\n",
              "_df_12['col1'].plot(kind='line', figsize=(8, 4), title='col1')\n",
              "plt.gca().spines[['top', 'right']].set_visible(False)"
            ],
            "text/html": [
              "      <div class=\"colab-quickchart-chart-with-code\" id=\"chart-aede67c8-8b8f-40a0-9b59-479280a4a9e8\">\n",
              "        <img style=\"width: 180px;\" src=\"data:image/png;base64,iVBORw0KGgoAAAANSUhEUgAAApcAAAFuCAYAAADUGTPdAAAAOXRFWHRTb2Z0d2FyZQBNYXRwbG90\n",
              "bGliIHZlcnNpb24zLjcuMSwgaHR0cHM6Ly9tYXRwbG90bGliLm9yZy/bCgiHAAAACXBIWXMAAA9h\n",
              "AAAPYQGoP6dpAAA5q0lEQVR4nO3deXSU9d3//9ckgUmALGyBQPbMhEVkB4PsBLVy10LRWrcqlUVR\n",
              "TDh637aeU05v7nMfuO/vz3oaQDaluKC2VXCpS7WEhEURQUAFF2ayBxIia9gySWau3x8TArkBDXIl\n",
              "M5l5Ps7hnPLJlZl3PufK5bPXTIjFMAxDAAAAgAlCfD0AAAAAAgdxCQAAANMQlwAAADANcQkAAADT\n",
              "EJcAAAAwDXEJAAAA0xCXAAAAMA1xCQAAANMQlwAAADANcQkALay4uFgWi0VOp9PXowBAiyMuAaCV\n",
              "HTx4UFOnTlVSUpIsFouef/55X48EAKYhLgGglYWEhOjmm2/Wq6++qvj4eF+PAwCmIi4BoJnOnTun\n",
              "P/zhD0pPT1dkZKRSU1P14osvSpJeeOEFDRgwQFFRURowYEDj+uXExcXp0Ucf1ejRoxUaGtpa4wNA\n",
              "qwjz9QAA0FbMnj1bBw4c0Ntvv62+ffuqoqJClZWVWr9+vbKysvTmm29qwoQJysvL07Rp0xQdHa1p\n",
              "06b5emwAaFXcuQSAZjhy5IheeeUVLV++XP369ZPFYlGvXr00dOhQrV69WjNnzlRmZqZCQ0M1efJk\n",
              "zZw5UytXrvT12ADQ6ohLAGiGoqIiSVKfPn0u+VhZWZnS0tKarNlsNpWWlrbKbADgT4hLAGiG5ORk\n",
              "SdKBAwcu+VhCQoIKCgqarBUUFCgxMbE1RgMAv0JcAkAzdO/eXXfffbceffRRfffdd5KkiooK7d69\n",
              "W7NmzdJf/vIX5efny+12a9OmTVqzZo3mzJlzxcerqalRTU2NDMNQfX29ampqVFdX11pfDgC0GOIS\n",
              "AJrpueee0/jx43XrrbeqU6dOGj16tPbv369f/epX+tOf/qRHHnlEMTExeuyxx5STk6Pp06df8bEi\n",
              "IiIUERGh0tJSzZ07VxEREZo9e3YrfjUA0DIshmEYvh4CAAAAgYE7lwAAADANcQkAAADTEJcAAAAw\n",
              "DXEJAAAA0xCXAAAAMA1xCQAAANMQlwAAADCN38RlTk6Or0cAAADANfKbuCwpKfH1CAAAALhGfhOX\n",
              "AAAAaPuISwAAAJiGuAQAAIBpiEsAAACYhrgEAACAaYhLAAAAmIa4BAAAgGmISwAAAJjmquIyKytL\n",
              "ycnJslgs2rt3b+O6y+XSvHnzZLfbdf311+u+++4ze04AAAC0AWFXc/Add9yhJ598UmPGjGmy/vvf\n",
              "/14Wi0UHDhyQxWJRZWWlqUMCAACgbbiquBw3btwla2fOnNGaNWtUXl4ui8UiSerZs6c50wEAAOCy\n",
              "DMOQ22MoLNS/3uV4zdMUFBSoS5cuWrRokYYPH66xY8cqNzf3Bz/H5XKpurq6yR+3232towAAAAQ8\n",
              "wzD00f5K3bZsm174pNjX41zimuOyvr5eJSUl6t+/v3bt2qUlS5bo17/+tQ4fPnzFz1m8eLGio6Ob\n",
              "/Pnss8+udRQAAICA5fEY+ue+Sv3bkm2a8/Ln2newWus+LZHHY/h6tCauOS4TExMVEhKie++9V5I0\n",
              "ZMgQpaSk6Kuvvrri5zz11FM6efJkkz8jR4681lEAAAACjjcqKzRlyVY9vO5zfV1RrY7tQ/XoxDRt\n",
              "eGS0QkIsvh6xiat6z+XldOvWTZmZmfrwww81ZcoUFRUVqaioSP369bvi51itVlmt1iZroaGh1zoK\n",
              "AABAwPB4DP1zf6WW5Dr0beUpSVIna5hm3JismWNS1Lljex9PeHlXFZcPPfSQ3nvvPVVWVuqWW25R\n",
              "ZGSknE6nVq5cqZkzZ+p3v/udQkJCtGrVKvXu3bulZgYAAAhYHo+h9/dVaGmuU98d9kZlpDVMvx2d\n",
              "rAfHpCimg39G5XlXFZerVq267Hpqaqry8vJMGQgAACAYuT2G3v+qQktyHXJUnZYkRYaH6cHRKXpw\n",
              "dIqiO7Tz8YTNc80viwMAAOCnc3sMvfvlIS3d5JSzISqjwsP04JgU/XZ0iqIj2kZUnkdcAgAA+IDb\n",
              "Y+gfXxzS0k0OFXx/RpI3KmeNTdWM0cmKCm9bUXkecQkAANCK6t0e/ePLQ1qa61ThEW9URke006wx\n",
              "KXqgDUflecQlAABAK6h3e/T23kNaludUUUNUxnRop9ljU3X/qCRFtvGoPI+4BAAAaEH1bo/e3HNQ\n",
              "z+Y5VXz0rCSpc4d2mj0uVfePSlYna2DlWGB9NQAAAH6iriEql21yqvSYNyq7dGzfeKeyY4BF5XmB\n",
              "+VUBAAD4SJ3bow27y7Usz6myY+ckSV07tteccam6LyNwo/K8wP7qAAAAWkltvUfrd5fr2Tynyo97\n",
              "o7Jbp/Z6aFya7s1IVIf2wZFdwfFVAgAAtJDaeo/e+NwblQdPnI9Kqx4en6p7b0hSRPvg+hXXxCUA\n",
              "AMBP4Kp36/Vd5VqRX9AYld0jrXp4fJruGZkYdFF5HnEJAABwFVz1bv19Z5lW5Bfo0MkaSVJspFVz\n",
              "J6Tp7pGJCm8XnFF5HnEJAADQDDV1bv19V5mW5xWostoblT2irJo7Pk13EZWNiEsAAIAfUFPn1l8/\n",
              "K9WKzQU6XO2SJPWMCtcjE9N05/AEovL/IC4BAAAuo6bOrVd3lGrl5gJVnfJGZVx0uB6ZaNOdw+Nl\n",
              "DSMqL4e4BAAAuEhNnVuvNETl9w1R2ashKn9FVP4o4hIAAEDSuVq3XtlRopWbC3XktDcqe8dE6NGJ\n",
              "Nt0xLF7tw0J8PGHbQFwCAICgdra2Xus+LdHqLYU6crpWkhTfOULzJto0fShRebWISwAAEJTO1tbr\n",
              "5e3eqDx6xhuVCV0uRGW7UKLypyAuAQBAUDnjqtdL20v03NZCHWuIyqSuHfToRJt+OaQ3UXmNiEsA\n",
              "ABAUTrvq9eInxXp+a6GOn62T5I3KxybZNW1wL4URlaYgLgEAQEA7VVPXeKfyRENUpnTrqHkTbZpK\n",
              "VJqOuAQAAAGpuqZOL35crOe3FenkOW9UpnbrqMcybbptIFHZUohLAAAQUKpr6rR2W7HWbCtUdU29\n",
              "JCm1e0dlZ9r184G9FBpi8fGEgY24BAAAAeHkuTqt/bhIf9lW1BiVtthOemySjahsRcQlAABo006e\n",
              "rdOaj4u09uMinWqISntsJ2Vl2jXl+jiispURlwAAoE06cbZWa7YV6YWPi3XK5Y3K9B6dlJ2ZrlsH\n",
              "9FQIUekTV/VO1qysLCUnJ8tisWjv3r2XfHzt2rWyWCx66623TBoPAACgqeNnavX0h99pzP/maekm\n",
              "p0656tW3Z6SW3ztU/8wep38bGEdY+tBV3bm844479OSTT2rMmDGXfKy4uFjPPfecMjIyTBsOAADg\n",
              "vGNnavX81kK9+EmxztS6JUn94qKUnWnTzf25U+kvrioux40bd9l1j8ejWbNmaenSpXriiSdMGQwA\n",
              "AECSjp526bmtRXppe7HONkRl/7goZU+266Z+PYhKP2PKey6feeYZjR49WsOGDWvW8S6XSy6Xq8ma\n",
              "2+02YxQAABAgjp52afXWQr28vaQxKq/rFaXsTLtu6t9DFgtR6Y+uOS737dun9evXa8uWLc3+nMWL\n",
              "F2vhwoVN1ng5HQAASNKR0y6t3uKNynN13qi8vne0sjPtyuwXS1T6uWuOy61bt6q4uFh2u12SVFlZ\n",
              "qTlz5qiiokJz58697Oc89dRTevzxx5usLViw4FpHAQAAbVjVqRqt3lyodTtKVFPnkSQNjI/W/Ml2\n",
              "TexDVLYV1xyXc+fObRKREyZM0Pz58zVt2rQrfo7VapXVam2yFhoaeq2jAACANqjqVI1WbS7UKxdF\n",
              "5aCEGM3PtGtCn+5EZRtzVXH50EMP6b333lNlZaVuueUWRUZGyul0ttRsAAAggFVV12jF5gK9uqNU\n",
              "rnpvVA5JjFF2pl3j04nKtuqq4nLVqlU/ekx+fv5PnQUAAASBypM1Wrm5QK9+Vqrahqgcmhij+ZPT\n",
              "Ndbejahs4/gNPQAAoFVUnDynlfkFem1nWWNUDk/qrOzJdo2xEZWBgrgEAAAt6tCJc1qRX6C/7SxT\n",
              "rdsblSOSO2v+5HTdmNaVqAwwxCUAAGgRB0+c04p8p/6+s7wxKkemdNH8TLtGEZUBi7gEAACmKj9+\n",
              "VsvzC/T6rjLVuQ1JUkZqF2VnpmtUWlcfT4eWRlwCAABTlB07q+X5Tr3xeXljVI5K7arsyXZlpBKV\n",
              "wYK4BAAA16Ts2Fk9m+eNynqPNypH27oqOzNdI1O6+Hg6tDbiEgAA/CSlR89qWZ5DG3YfbIzKsfZu\n",
              "ys60a3gyURmsiEsAAHBVio+c0bI8p97cc1Dui6Jy/mS7hiURlcGOuAQAAM1SdOSMlm1y6q29F6Jy\n",
              "fHp3ZWXaNSyps4+ng78gLgEAwA8q/P50Y1Q2NKUm9vFG5ZBEohJNEZcAAOCynFWntWyTQ+98cagx\n",
              "Kif1jVVWpl2DE2J8Ohv8F3EJAACacFad0tJNTr3zxSEZDVE5uZ83KgfGx/h0Nvg/4hIAAEiSHIdP\n",
              "ackmp9798kJU3tS/h7Iz7RrQO9q3w6HNIC4BAAhy31We0pJNDr3/VUVjVN7cv4eyiEr8BMQlAABB\n",
              "6tvKai3Ndeq9ryoa1352XU89lmnTdb2ISvw0xCUAAEHmm4pqLcl16IN9lY1rU67vqccm2dUvLsqH\n",
              "kyEQEJcAAASJ/YdOakmuQx/uPyxJslikKQPi9FimTX17EpUwB3EJAECA23fwpHJyHfrX1xei8t+u\n",
              "j1NWpl3pPSJ9PB0CDXEJAECA+qrcG5Ubv7kQlbcN7KXHJtlkJyrRQohLAAACzJflJ5Sz0aHcb6sk\n",
              "SSEW6bZB3qi0xRKVaFnEJQAAAWJv2QnlbDygvO++l+SNyqmDe2veJJvSunfy8XQIFsQlAABt3J7S\n",
              "48rJdSj/oqicNqS35k20KZWoRCsjLgEAaKM+L/FG5ZYD3qgMDbFoWsOdypRuHX08HYIVcQkAQBuz\n",
              "q/iYcnId2uo4IskbldOH9NajE21KJirhY8QlAABtxM7iY8rZ6NA2pzcqw0Isun1ovB6daFNi1w4+\n",
              "ng7wIi4BAPBzOwqPKifXoU8KjkryRuUdw7xRmdCFqIR/uaq4zMrK0jvvvKOSkhLt2bNHgwcPVk1N\n",
              "je666y59/fXXioiIUGxsrFasWCGbzdZSMwMAEBS2FxxVTu4BfVp4TJLULtSiO4Yl6JEJaUQl/NZV\n",
              "xeUdd9yhJ598UmPGjGmyPmfOHN16662yWCxatmyZZs2apfz8fDPnBAAgKBiGoe2FR5Wz0aEdRRei\n",
              "8s7hCZo7IU3xnYlK+Leristx48ZdshYeHq4pU6Y0/j0jI0NPP/30tU8GAEAQMQxD2wuO6s8bHfqs\n",
              "2BuV7UNDdOeIeM2dYFPvmAgfTwg0j+nvuczJydHUqVN/8BiXyyWXy9Vkze12mz0KAAB+zzAMfez0\n",
              "vvy9s/i4JG9U/nqE905lL6ISbYypcblo0SI5nU7l5ub+4HGLFy/WwoULm6xlZGSYOQoAAH7NMAxt\n",
              "dRxRTq5Dn5c0RGVYiO4ekaCHJ6QpLpqoRNtkWlw+/fTT2rBhgzZu3KgOHX74/SBPPfWUHn/88SZr\n",
              "CxYsMGsUAAD8lmEY2uI4oj9vPKA9pSckeaPynpGJenh8mnpGh/t2QOAamRKXzzzzjF577TVt3LhR\n",
              "MTExP3q81WqV1WptshYaGmrGKAAA+CXDMJR/4HvlbHRob9kJSZI1LET33OCNyh5RRCUCw1XF5UMP\n",
              "PaT33ntPlZWVuuWWWxQZGan8/Hw98cQTSk1N1cSJEyV543HHjh0tMjAAAG2JYRjK+65KORsd+qL8\n",
              "pCQpvF2I7r0hSQ+NS1UsUYkAc1VxuWrVqsuuG4ZhyjAAAAQKwzC06dsq5eQ69OVFUfmbjCTNGZem\n",
              "7pHWH3kEoG3iN/QAAGAiwzC08ZsqLcl16KuD3qiMaBeq34xK0uyxqUQlAh5xCQCACQzD0EdfH9aS\n",
              "XIf2H6qWJHVofyEqu3UiKhEciEsAAK6Bx+ONypxch76p8EZlx/ahuv/GZM0em6ouHdv7eEKgdRGX\n",
              "AAD8BB6PoQ/3Vyon16FvK09J8kblAzcmaxZRiSBGXAIAcBU8HkMf7KvUklyHvjvsjcpO1jDNuDFZ\n",
              "M8ekqDNRiSBHXAIA0Awej6H391VoSa5DBw6fliRFWsP029HJenBMimI6EJWARFwCAPCD3B5D731V\n",
              "oaW5DjmqGqIyPEy/HZ2imaNTFN2hnY8nBPwLcQkAwGW4PYbe/fKQluQ6VPD9GUlSVHiYHhyTot+O\n",
              "TlF0BFEJXA5xCQDARdweQ//44pCWbHKo8KKonDU2VTNGJysqnKgEfghxCQCApHq3R+98cUjLNjlV\n",
              "eMQbldER7TRrTIoeICqBZiMuAQBBrd7t0Vt7D2nZJoeKj56VJMV0aKfZY1N1/6gkRRKVwFUhLgEA\n",
              "Qane7dGbew5qWZ5TJQ1R2blDO80el6r7RyWrk5X/RAI/Bd85AICgUuf26M3d3qgsPeaNyi4d2zfe\n",
              "qexIVALXhO8gAEBQqHN7tP7zcj2b71TZsXOSpK4d22vOuFTdl0FUAmbhOwkAENBq6z1av7tcyzY5\n",
              "dfCENyq7dboQlR3a859CwEx8RwEAAlJtvUevf16m5XkFF0WlVQ+PT9W9NyQpon2ojycEAhNxCQAI\n",
              "KK56t/6+q1wr8pw6dLJGktQ90qqHx6fpnpGJRCXQwohLAEBAcNW79fedZVqeX6CKhqiMPR+VNyQq\n",
              "vB1RCbQG4hIA0KbV1Ln1t51lWpFfoMpqb1T2iLJq7vg03TWSqARaG3EJAGiTaurceu2zUq3cXKDD\n",
              "1S5JUs+ocD0yMU13Dk8gKgEfIS4BAG1KTZ1br+7wRmXVKW9UxkWH65EJabpzRIKsYUQl4EvEJQCg\n",
              "TThX69YrO0q0akuhvm+Iyl7R4Xpkok2/Gh5PVAJ+grgEAPi1s7X1euXTUq3aUqgjp71R2TsmQo9O\n",
              "tOmOYfFqHxbi4wkBXIy4BAD4pbO19Vr3aYlWbynUkdO1kqT4zt6ovH0oUQn4K+ISAOBXzrjq9fKn\n",
              "JXpuS6GOnvFGZUKXCM2baNP0ofFqF0pUAv6MuAQA+IXTrnq9tL1Yz28t0rGGqEzs0kHzJtn0yyG9\n",
              "iUqgjbiq79SsrCwlJyfLYrFo7969jesOh0M33nij0tPTNWLECO3fv9/sOQEAAeq0q17P5jk19n83\n",
              "6f/98zsdO1OrpK4d9P/dMVC5T4zXncMTCEugDbmqO5d33HGHnnzySY0ZM6bJ+kMPPaQ5c+ZoxowZ\n",
              "euONNzRjxgzt3LnT1EEBAIHlVE2dXvykWM9vK9KJs3WSpJRuHTVvok1TB/dSGEEJtElXFZfjxo27\n",
              "ZK2qqkq7du3SRx99JEm6/fbbNW/ePDmdTtlsNnOmBAAEjOqaOr3wcbHWbCvSyXPeqEzt1lGPZdp0\n",
              "20CiEmjrrvk9l2VlZYqLi1NYmPehLBaLEhMTVVpaesW4dLlccrlcTdbcbve1jgIA8GMnz52PykJV\n",
              "19RLklK7d1TWJLtuG9RLoSEWH08IwAw++YGexYsXa+HChU3WMjIyfDEKAKCFnTxXp79sK9JfPi7S\n",
              "qYaotMV20mOTbPr5QKISCDTXHJcJCQmqqKhQfX29wsLCZBiGSktLlZiYeMXPeeqpp/T44483WVuw\n",
              "YMG1jgIA8CMnz9ZpzbZCrf24WKdc3qi0x3ZSVqZdU66PIyqBAHXNcRkbG6uhQ4dq3bp1mjFjhtav\n",
              "X6/4+PgffL+l1WqV1WptshYayq/tAoBAcOJsrdZsK9ILF0Vleo+GqBwQpxCiEghoVxWXDz30kN57\n",
              "7z1VVlbqlltuUWRkpJxOp1atWqUZM2Zo0aJFioqK0tq1a1tqXgCAnzp+plbPbyvUi5+U6HRDVPbt\n",
              "GamsTLt+dl1PohIIElcVl6tWrbrsep8+fbR9+3ZTBgIAtC3HztTq+a2FevGTYp2p9f5wZt+ekZo/\n",
              "2a6b+xOVQLDhN/QAAH6So6ddem5rkV7aXqyzDVHZPy5KWZl23dy/B1EJBCniEgBwVY6cdum5LYV6\n",
              "+dOSxqi8rleUsjPtuql/D1ksRCUQzIhLAECzfH/Kpee2Furl7SU6V+eNygG9ozQ/M12Z/WKJSgCS\n",
              "iEsAwI+oOlWj1ZsLtW5HiWrqPJKkgfHRys60a1JfohJAU8QlAOCyqqprtHJzoV7ZUSJXvTcqByXE\n",
              "aH6mXRP6dCcqAVwWcQkAaOJwdY1Wbi7QqztKG6NycEKM5k+2a3w6UQnghxGXAABJUuXJhqj8rFS1\n",
              "DVE5NDFG2ZPTNc7ejagE0CzEJQAEuYqT57Qiv0B/3VnWGJXDkzore7JdY2xEJYCrQ1wCQJA6dMIb\n",
              "lX/bWaZatzcqRyR31vzJ6boxrStRCeAnIS4BIMgcPHFOy/Oc+vuuMtW5DUnSyJQump9p1yiiEsA1\n",
              "Ii4BIEiUHz+r5fkFev2iqLwhpYvmT07XqLSuPp4OQKAgLgEgwJUdO6vl+U698Xl5Y1SOSu2q7Ml2\n",
              "ZaQSlQDMRVwCQIAqPXpWz+Y5tX53ueo93qgcbeuq7Mx0jUzp4uPpAAQq4hIAAkzp0bNalufQ+t0H\n",
              "5W6IyjG2bsqebNeIZKISQMsiLgEgQBQfOaNleU69uedCVI61d9P8yXYNSyIqAbQO4hIA2riiI2e0\n",
              "dJNDb+891BiV49O7KyvTrmFJnX08HYBgQ1wCQBtV+P1pLdvk1Ft7D6qhKTWhT3dlZ9o1JJGoBOAb\n",
              "xCUAtDHOqtNatsmhd7441BiVk/rGKivTrsEJMT6dDQCISwBoI5xVp7Qk16l/fHlIRkNUTu7njcqB\n",
              "8TE+nQ0AziMuAcDPOQ6f0pJNTr3bJCp7KDvTruvjo307HAD8H8QlAPip7ypPackmh97/qqIxKm/u\n",
              "30NZmXYN6E1UAvBPxCUA+JlvK6u1JNeh97+qbFz72XU99VimTdf1IioB+DfiEgD8xDcV3qj8YN+F\n",
              "qLx1QE9lZdrVLy7Kh5MBQPMRlwDgY/sPndSSXIc+3H9YkmSxSFMGxOmxTJv69iQqAbQtxCUA+Mi+\n",
              "gyeVk+vQv76+EJX/dn2csjLtSu8R6ePpAOCnIS4BoJV9Ve6Nyo3fXIjKnw/spaxJNtmJSgBtnKlx\n",
              "+f777+sPf/iDPB6P6uvr9R//8R964IEHzHwKAGizviw/oZyNDuV+WyVJCrFItw3qpccm2WSLJSoB\n",
              "BAbT4tIwDN13333Kz8/XwIEDVVxcrL59+2r69OmKjOSiCSB47S07oZyNB5T33feSvFE5dXBvzZtk\n",
              "U1r3Tj6eDgDMZeqdS4vFohMnTkiSqqur1bVrV1mtVjOfAgDajD2lx5WT61D+RVE5rSEqU4lKAAHK\n",
              "tLi0WCz629/+punTp6tjx446fvy4NmzYoPbt219yrMvlksvlarLmdrvNGgUAfOrzEm9UbjngjcrQ\n",
              "EEtjVKZ06+jj6QCgZZkWl/X19frv//5vbdiwQePGjdPOnTv1i1/8Ql999ZW6devW5NjFixdr4cKF\n",
              "TdYyMjLMGgUAfGJX8THl5Dq01XFEkjcqfzmkt+ZNtCmZqAQQJCyGcf6Xil2bXbt26Z577tGBAwca\n",
              "10aMGKFFixbppptuanLs5e5cLliwQDk5OWaMAgCtamfxMeVsdGib80JU3j60tx6daFNSV6ISQHAx\n",
              "7c5lQkKCKioq9M0336hfv35yOp0qKChQnz59LjnWarVe8l7M0NBQs0YBgFaxo/CocnId+qTgqCQp\n",
              "LMSiO4bF69GJNiV06eDj6QDAN0yLyx49emj16tW68847FRISIo/Ho2XLlikxMdGspwAAv7C94Khy\n",
              "cg/o08JjkrxR+avh8XpkAlEJAKb+tPjdd9+tu+++28yHBAC/YBiGthceVc5Gh3YUeaOyXahFvxqe\n",
              "oEcmpCm+M1EJABK/oQcAfpBhGPqkwBuVnxVfiMpfj0jQ3Ak29Y6J8PGEAOBfiEsAuAzDMPSx86j+\n",
              "vPGAdpUclyS1Dw1piMo09SIqAeCyiEsAuIhhGNrqOKKcXIc+Px+VYSG6e0SCHp6QprhoohIAfghx\n",
              "CQDyRuXmA98rJ9ehPaUnJHmj8p6RiXp4fJp6Rof7dkAAaCOISwBBzTAM5R/4XjkbHdpbdkKSZA0L\n",
              "0T03eKOyRxRRCQBXg7gEEJQMw1Ded1XK2ejQF+UnJUnh7UJ07w1JemhcqmKJSgD4SYhLAEHFMAxt\n",
              "+rZKObkOfXlRVN53Q5LmjE9VbCRRCQDXgrgEEBQMw9DGb6q0JNehrw56ozKiXah+MypJs8emqnuk\n",
              "9UceAQDQHMQlgIBmGIY++vqwluQ6tP9QtSSpQ/sLUdmtE1EJAGYiLgEEJI/HG5U5uQ59U3EhKu8f\n",
              "lazZY1PUlagEgBZBXAIIKB6PoQ/3Vyon16FvK09Jkjq2D9UDNyZr1thUdenY3scTAkBgIy4BBASP\n",
              "x9AH+yq1JNeh7w57o7KTNUwzbkzWzDEp6kxUAkCrIC4BtGkej6H391VoSa5DBw6fliRFWsM0Y7Q3\n",
              "KmM6EJUA0JqISwBtkttj6L2vKrQ01yFHVUNUhofpt6NTNHN0iqI7tPPxhAAQnIhLAG2K22Po3S8P\n",
              "aUmuQwXfn5HkjcqZY1L029Epio4gKgHAl4hLAG2C22PoH18c0pJNDhU2RGVUeJhmjknVjNHJRCUA\n",
              "+AniEoBfq3d79M4Xh7Rsk1OFR7xRGR3RTrPGpOiB0cmKCicqAcCfEJcA/FK926O39h7Ssk0OFR89\n",
              "K0mK6dBOs8em6v5RSYokKgHALxGXAPxKvdujN/cc1LI8p0oaorJzh3aaNTZVD9yYrE5WLlsA4M+4\n",
              "SgPwC3Vuj97c7Y3K0mPeqOzSsb1mj03Vb0YlEZUA0EZwtQbgU3Vuj9Z/Xq5n850qO3ZOktS1Y3vN\n",
              "GZeq+zKS1JGoBIA2has2AJ+orfdo/e5yLdvk1MET3qjs1ulCVHZoz+UJANoirt4AWlVtvUevf16m\n",
              "5XkFF0WlVQ+PT9W9NyQpon2ojycEAFwL4hJAq3DVu/X3XeVakefUoZM1kqTukVY9PD5N94xMJCoB\n",
              "IEAQlwBalKverb/vLNPy/AJVNERl7PmovCFR4e2ISgAIJMQlgBZRU+fW33aWaUV+gSqrvVHZI8qq\n",
              "uePTdNdIohIAApWpcelyufTEE0/oww8/VHh4uAYNGqR169aZ+RQA/FxNnVuvfVaqlZsLdLjaJUnq\n",
              "GRWuRyam6c7hCUQlAAQ4U+Py97//vSwWiw4cOCCLxaLKykozHx6AH6upc+vVHd6orDrljcq46HA9\n",
              "MiFNd45IkDWMqASAYGBaXJ45c0Zr1qxReXm5LBaLJKlnz55mPTwAP3Wu1q1XdpRo1ZZCfd8Qlb2i\n",
              "w/XIRJt+NTyeqASAIGNaXBYUFKhLly5atGiRNm7cqIiICP3nf/6nMjMzLznW5XLJ5XI1WXO73WaN\n",
              "AqAVnK2t1yuflmrVlkIdOe39fu4dE6FHJ9p0x7B4tQ8L8fGEAABfMC0u6+vrVVJSov79++t//ud/\n",
              "tGfPHt10003av3+/evTo0eTYxYsXa+HChU3WMjIyzBoFQAs6W1uvdZ+WaPWWQh05XStJiu/sjcrb\n",
              "hxKVABDsLIZhGGY80JEjR9SjRw/V1tYqNNT7MtiIESO0ePFiTZ48ucmxl7tzuWDBAuXk5JgxCoAW\n",
              "cMZVr5c/LdFzWwp19Iw3KhO6RGjeRJumD41Xu1CiEgBg4p3Lbt26KTMzUx9++KGmTJmioqIiFRUV\n",
              "qV+/fpcca7VaZbVam6ydD1IA/uW0q14vbS/W81uLdKwhKhO7dNC8STb9ckhvohIA0ISpPy2+cuVK\n",
              "zZw5U7/73e8UEhKiVatWqXfv3mY+BYBWctpVrxc/KdbzWwt1/GydJCmpawfNm2jTNKISAHAFpsZl\n",
              "amqq8vLyzHxIAK3sVE2dNyq3FelEQ1SmdOuoeRNtmjq4l8KISgDAD+A39ACQJFXX1OmFj4u1ZluR\n",
              "Tp7zRmVqt456LNOm2wYSlQCA5iEugSB38tz5qCxUdU29JCm1e0dlTbLrtkG9FBpi8fGEAIC2hLgE\n",
              "gtTJc3X6y7Yi/eXjIp1qiEpbbCc9Nsmmnw8kKgEAPw1xCQSZk2frtObjIq29KCrtsZ2UlWnXlOvj\n",
              "iEoAwDUhLoEgceJsrdZsK9ILHxfrlMsblek9GqJyQJxCiEoAgAmISyDAHT9Tq+e3FerFT0p0uiEq\n",
              "+/aMVFamXT+7ridRCQAwFXEJBKhjZ2r1/NZCvfhJsc7UuiV5o3L+ZLtu7k9UAgBaBnEJBJijp116\n",
              "bmuRXtperLMNUdk/LkpZmXbd3L8HUQkAaFHEJRAgjpx26bkthXr505LGqLyuV5SyM+26qX8PWSxE\n",
              "JQCg5RGXQBt35LRLq7cU6uXtJTpX543KAb2jND8zXZn9YolKAECrIi6BNqrqVI1Wby7Uuh0lqqnz\n",
              "SJIGxkcrO9OuSX2JSgCAbxCXQBtTVV2jlZsL9cqOErnqvVE5KCFG8zPtmtCnO1EJAPAp4hJoI6qq\n",
              "a7Ric4Fe3VHaGJWDE2I0f7Jd49OJSgCAfyAuAT9XebJGKzcX6NXPSlXbEJVDE2OUPTld4+zdiEoA\n",
              "gF8hLgE/VXHynFbkF+ivO8sao3J4UmdlT7ZrjI2oBAD4J+IS8DOHTnij8m87y1Tr9kbliOTOmj85\n",
              "XTemdSUqAQB+jbgE/MTBE+e0PM+p13eVN0blyJQump9p1yiiEgDQRhCXgI+VHz+r5fkFen1Xmerc\n",
              "hiTphpQumj85XaPSuvp4OgAArg5xCfhI2bGzWp7v1BuflzdG5ajUrsqebFdGKlEJAGibiEuglZUe\n",
              "Patn85xav7tc9R5vVI62dVV2ZrpGpnTx8XQAAFwb4hJoJaVHz2pZnkPrdx+UuyEqx9i6KXuyXSOS\n",
              "iUoAQGAgLoEWVnzkjJblOfXmngtROdbeTfMn2zUsiagEAAQW4hJoIUVHzmjZJqfe2nshKsend1dW\n",
              "pl3Dkjr7eDoAAFoGcQmYrPD7041R2dCUmtCnu7Iz7RqSSFQCAAIbcQmYxFl1Wss2OfTOF4cao3JS\n",
              "31hlZdo1OCHGp7MBANBaiEvgGjmrTmnpJqfe+eKQjIaonNzPG5UD42N8OhsAAK2tReJy7dq1evDB\n",
              "B/Xmm29q2rRpLfEUgM85Dp/Skk1OvfvlxVHZQ9mZdl0fH+3b4QAA8BHT47K4uFjPPfecMjIyzH5o\n",
              "wC98V3lKSzY59P5XFY1ReXP/HsrKtGtAb6ISABDcTI1Lj8ejWbNmaenSpXriiSfMfGjA576trNbS\n",
              "XKfe+6qice1n1/XUY5k2XdeLqAQAQDI5Lp955hmNHj1aw4YN+8HjXC6XXC5XkzW3223mKIBpvqmo\n",
              "1pJchz7YV9m4duuAnsrKtKtfXJQPJwMAwP+YFpf79u3T+vXrtWXLlh89dvHixVq4cGGTNV5Gh7/Z\n",
              "f+ikluQ69OH+w5Iki0WaMiBOj2Xa1LcnUQkAwOWYFpdbt25VcXGx7Ha7JKmyslJz5sxRRUWF5s6d\n",
              "2+TYp556So8//niTtQULFpg1CnBN9h30RuVHX18UldfHKWuSXX16Rvp4OgAA/JtpcTl37twmETlh\n",
              "wgTNnz//sj8tbrVaZbVam6yFhoaaNQrwk3xVflI5uQ5t/OZCVP58YC9lTbLJ3oOoBACgOfh3LhH0\n",
              "viw/oZyNDuV+WyVJCrFItw3qpccm2WSLJSoBALgaLRaX+fn5LfXQgCm+KDuhnFyHNl0UlVMH99a8\n",
              "STalde/k4+kAAGibuHOJoLOn9Lhych3K/+57Sd6onNYQlalEJQAA14S4RND4vMQblVsOeKMyNMTS\n",
              "GJUp3Tr6eDoAAAIDcYmA93nJMf15o0NbHUckeaNy+pDeenSiTclEJQAApiIuEbB2Fh9TzkaHtjkv\n",
              "ROXtQ71RmdSVqAQAoCUQlwg4OwqPKifXoU8KjkqSwkIsumNYvB6daFNClw4+ng4AgMBGXCJgfFp4\n",
              "VDkbHdpeeCEqfzU8QY9MSCMqAQBoJcQl2jTDMLS9ISp3FB2TJLULvRCV8Z2JSgAAWhNxiTbJMAxt\n",
              "LziqP2906LNib1S2Dw3RnSPiNXeCTb1jInw8IQAAwYm4RJtiGIY+dh5VTu4B7Sw+Lskblb8ekaC5\n",
              "E9LUi6gEAMCniEu0CYZhaJvziP680aHPSxqiMixEd49I0MMT0hQXTVQCAOAPiEv4NcMwtMVxRDkb\n",
              "D2h36QlJ3qi8Z2SiHh6fpp7R4b4dEAAANEFcwi8ZhqH8A98rZ6NDe8tOSJKsYSG65wZvVPaIIioB\n",
              "APBHxCX8imEYyv/ue/0516EvGqIyvF2I7r0hSQ+NS1UsUQkAgF8jLuEXDMPQpm+rlJPr0JflJyV5\n",
              "o/I3GUmaPS5VsZFEJQAAbQFxCZ8yDEMbv6nSklyHvjrojcqIdqH6zagkzR6bqu6RVh9PCAAArgZx\n",
              "CZ8wDEP/+vqwcnId2n+oWpLUof2FqOzWiagEAKAtIi7RqjweQx99fVhLch36usIblR3bh+r+G5M1\n",
              "a0yKuhKVAAC0acQlWoXHY+jD/ZXKyXXo28pTkrxR+cCNyZo1NlVdOrb38YQAAMAMxCValMdj6J/7\n",
              "K7XkoqjsZA3TjBuTNXNMijoTlQAABBTiEi3C4zH0/r4KLc116rvD3qiMtIZpxmhvVMZ0ICoBAAhE\n",
              "xCVM5fYYeu+rCi3NdchRdVqSFBkept+OTtHM0SmK7tDOxxMCAICWRFzCFG6PoXe/PKSlm5xyXhSV\n",
              "M8ek6LejUxQdQVQCABAMiEtcE7fH0D++OKSlmxwq+P6MJCkqPEwzx6RqxuhkohIAgCBDXOInqXd7\n",
              "9M4Xh7Rsk1OFR7xRGR3RTrPGpOiB0cmKCicqAQAIRsQlrkq926O39x7SsjynihqiMqZDO80em6r7\n",
              "RyUpkqgEACCoEZdolnq3R2/uOahn85wqPnpWktS5QzvNGpuqB25MVicrpxIAADAxLmtqanTXXXfp\n",
              "66+/VkREhGJjY7VixQrZbDazngI+UOf26M3dB7Usz6nSY96o7NKxvWaPTdVvRiURlQAAoAlTy2DO\n",
              "nDm69dZbZbFYtGzZMs2aNUv5+flmPgVaSZ3bow27y7Usz6myY+ckSV07tteccam6LyNJHYlKAABw\n",
              "GaYVQnh4uKZMmdL494yMDD399NNmPTxaSW29R+t3l+vZPKfKj3ujslunC1HZoT1RCQAArqzFSiEn\n",
              "J0dTp0697MdcLpdcLleTNbfb3VKjoBlq6z16/fMyLc8r0MET56PSqofHp+reG5IU0T7UxxMCAIC2\n",
              "oEXictGiRXI6ncrNzb3sxxcvXqyFCxc2WcvIyGiJUfAjXPVuvb6rXMvznDp0skaS1D3SqofHp+me\n",
              "kYlEJQAAuCoWwzAMMx/w6aef1l//+ldt3LhRMTExlz3mcncuFyxYoJycHDNHwQ9w1bv1951lWp5f\n",
              "oIqGqIw9H5U3JCq8HVEJAACunql3Lp955hm99tprPxiWkmS1WmW1WpushYYSM62hps6tv+0s04r8\n",
              "AlVWe6OyR5RVc8en6a6RRCUAALg2psVleXm5nnjiCaWmpmrixImSvBG5Y8cOs54C16Cmzq2/flaq\n",
              "FZsLdLjae9e4Z1S4HpmYpjuHJxCVAADAFKbFZXx8vEx+hR0mqKlz69UdpVq5uUBVp7xRGRcdrkcm\n",
              "pOnOEQmyhhGVAADAPPy7MgHqXK1br+wo0aothfq+ISp7RYfrkYk2/Wp4PFEJAABaBHEZYM5H5crN\n",
              "hTpy2huVvWMi9OhEm+4YFq/2YSE+nhAAAAQy4jJAnK2t17pPS7R6S6GOnK6VJMV39kbl7UOJSgAA\n",
              "0DqIyzbujKteL39aoue2FOroGW9UJnSJ0LyJNk0fGq92oUQlAABoPcRlG3XGVa+Xtpfoua2FOtYQ\n",
              "lYldOmjeJJt+OaQ3UQkAAHyCuGxjTrvq9eInxXp+a6GOn62TJCV17aB5E22aRlQCAAAfIy7biFM1\n",
              "dd6o3FakEw1RmdKto+ZNtGnq4F4KIyoBAIAfIC79XHVNnV782BuVJ895ozK1W0c9lmnTbQOJSgAA\n",
              "4F+ISz9VXVOntduKtWZboapr6iVJqd07KmuSXbcN6qXQEIuPJwQAALgUcelnTp6r01+2FekvHxfp\n",
              "VENU2mI76bFJNv18IFEJAAD8G3HpJ06erdOaj4u09qKotMd2UlamXVOujyMqAQBAm0Bc+tiJs7Va\n",
              "s61IL3xcrFMub1Sm92iIygFxCiEqAQBAG0Jc+sjxMw1R+UmxTjdEZZ8ekcqebNfPrutJVAIAgDaJ\n",
              "uGxlx87U6vmthXrxk2KdqXVLkvr2jFR2pl23EJUAAKCNIy5bydHTLj23tUgvbS/W2Yao7B8XpaxM\n",
              "u27u34OoBAAAAYG4bGFHT7u0emuhXt5e0hiV1/WKUnamXTf17yGLhagEAACBg7hsIUdOu7R6izcq\n",
              "z9V5o3JA7yhlZ6Zrcr9YohIAAAQk4tJkVadqtHpzodbtKFFNnUeSNDA+WtmZdk3qS1QCAIDARlya\n",
              "pOpUjVZtLtQrF0XloPhozZ+crgl9uhOVAAAgKBCX16iqukYrNhfo1R2lctV7o3JwQoyyJ9s1IZ2o\n",
              "BAAAwYW4/IkqT9Zo5eYCvfpZqWobonJoYoyyJ6drnL0bUQkAAIIScXmVKk6e08r8Ar22s6wxKocl\n",
              "ddb8yXaNsRGVAAAguBGXzXToxDmtyC/Q33aWqdbtjcoRyZ2VnZmu0bauRCUAAICIyx918MQ5rch3\n",
              "6u87yxujcmRKF83PtGtUGlEJAABwMeLyCsqPn9Xy/AK9vqtMdW5DknRDShfNn5yuUWldfTwdAACA\n",
              "fyIu/4+yY2e1PN+pNz4vb4zKUaldlT3ZroxUohIAAOCHmBqXDodDDzzwgI4cOaLo6Gi98MILuu66\n",
              "68x8ihZTduysns3zRmW9xxuVo21dlZ2ZrpEpXXw8HQAAQNtgalw+9NBDmjNnjmbMmKE33nhDM2bM\n",
              "0M6dO818CtOVHj2rZXkObdh9sDEqx9i6KXuyXSOSiUoAAICrYVpcVlVVadeuXfroo48kSbfffrvm\n",
              "zZsnp9Mpm81m1tOYpvjIGS3Lc+rNPQflbojKsfZumj/ZrmFJRCUAAMBPYVpclpWVKS4uTmFh3oe0\n",
              "WCxKTExUaWnpJXHpcrnkcrmarLndbrNG+UFV1TX6339+p7f2XojK8endlZVp17Ckzq0yAwAAQKDy\n",
              "yQ/0LF68WAsXLmyylpGR0SrPHRYaog/2VcjtMTShT3dlZ9o1JJGoBAAAMIPFMAzDjAeqqqqSzWbT\n",
              "sWPHFBYWJsMwFBcXp23btjXrzuWCBQuUk5Njxig/asPucqV276TBCTGt8nwAAADBIsSsB4qNjdXQ\n",
              "oUO1bt06SdL69esVHx9/2fdbWq1WRUVFNfkTGhpq1ig/avrQeMISAACgBZj6sviqVas0Y8YMLVq0\n",
              "SFFRUVq7dq2ZDw8AAAA/Z2pc9unTR9u3bzfzIQEAANCGmPayOAAAAEBcAgAAwDTEJQAAAExDXAIA\n",
              "AMA0xCUAAABMQ1wCAADANMQlAAAATENcAgAAwDTEJQAAAExjMQzD8PUQkjR9+nQlJye3ynO53W59\n",
              "9tlnGjlyZKv+TnN/x75cGXtzeezLlbE3l8e+XBl7c3nsy5X5Ym+SkpKUnZ39g8f4TVy2purqakVH\n",
              "R+vkyZOKiory9Th+g325Mvbm8tiXK2NvLo99uTL25vLYlyvz173hZXEAAACYhrgEAACAaYhLAAAA\n",
              "mCYo49JqteqPf/yjrFarr0fxK+zLlbE3l8e+XBl7c3nsy5WxN5fHvlyZv+5NUP5ADwAAAFpGUN65\n",
              "BAAAQMsgLgEAAGAa4hIAAACmCei4dDgcuvHGG5Wenq4RI0Zo//79lz1uzZo1stvtSktL0+zZs1VX\n",
              "V9fKk7au5uxLfn6+IiIiNHjw4MY/586d88G0rScrK0vJycmyWCzau3fvFY8LtvNFat7eBOM5U1NT\n",
              "o2nTpik9PV2DBg3STTfdJKfTedlj3333XfXt21d2u13Tp09XdXV1K0/bepq7L8XFxQoNDW1yzhQU\n",
              "FPhg4tZ18803a+DAgRo8eLDGjh2rPXv2XPa4YLvWNGdfgvE6c97atWtlsVj01ltvXfbjfnWNMQLY\n",
              "xIkTjbVr1xqGYRivv/66MXz48EuOKSwsNOLi4oyKigrD4/EYt912m7Fs2bJWnrR1NWdf8vLyjEGD\n",
              "BrXuYD62efNmo6yszEhKSjL27Nlz2WOC8XwxjObtTTCeM+fOnTPee+89w+PxGIZhGEuXLjXGjx9/\n",
              "yXGnTp0yYmNjjW+++cYwDMN49NFHjX//939vzVFbVXP3paioyIiOjm7d4fzA8ePHG//3hg0bjIED\n",
              "B15yTDBea5qzL8F4nTEM7/fKqFGjjIyMDOPNN9+85OP+do0J2DuXVVVV2rVrl+677z5J0u23366y\n",
              "srJL/t/zG2+8oV/84hfq2bOnLBaLHn74Yb322mu+GLlVNHdfgtG4ceMUHx//g8cE2/lyXnP2JhiF\n",
              "h4drypQpslgskqSMjAwVFxdfctwHH3ygIUOGqG/fvpKkRx55JKDPm+buS7CKiYlp/N8nT55s3KeL\n",
              "BeO1pjn7Eow8Ho9mzZqlpUuXXvGfHPK3a0zAxmVZWZni4uIUFhYmSbJYLEpMTFRpaWmT40pLS5WU\n",
              "lNT49+Tk5EuOCSTN3RdJKigo0NChQzVixAgtX768tUf1S8F2vlytYD9ncnJyNHXq1EvWL3feVFRU\n",
              "qL6+vjXH85kr7YsknTlzRiNGjNDQoUP1X//1X3K73a08nW/cf//9SkhI0IIFC/Tyyy9f8vFgvdb8\n",
              "2L5IwXedeeaZZzR69GgNGzbsisf42zUmzCfPCr83dOhQlZeXKzo6WuXl5ZoyZYq6deumO++809ej\n",
              "wU8F+zmzaNEiOZ1O5ebm+noUv/JD+xIXF6eDBw8qNjZWx44d069//Wv96U9/0pNPPumDSVvXSy+9\n",
              "JEl68cUX9bvf/U7vv/++jyfyDz+2L8F2ndm3b5/Wr1+vLVu2+HqUqxKwdy4TEhKaVLthGCotLVVi\n",
              "YmKT4xITE1VSUtL49+Li4kuOCSTN3ZeoqChFR0dLkuLj43X33Xdr69atrT6vvwm28+VqBPM58/TT\n",
              "T2vDhg364IMP1KFDh0s+frnz5uJXEALVj+2L1WpVbGysJKlLly568MEHg+acOe+BBx5QXl6ejh49\n",
              "2mQ92K81V9qXYLvObN26VcXFxbLb7UpOTtann36qOXPmaMWKFU2O87drTMDGZWxsrIYOHap169ZJ\n",
              "ktavX6/4+HjZbLYmx91+++165513VFlZKcMwtHLlSt11112+GLlVNHdfKioq5PF4JEmnTp3Su+++\n",
              "qyFDhrT6vP4m2M6XqxGs58wzzzyj1157Tf/617+avGfsYj/72c+0e/duffvtt5Kk5cuXB/x505x9\n",
              "qaqqavwJaJfLpQ0bNgT8OXPixAkdOnSo8e9vvfWWunbtqi5dujQ5LtiuNc3dl2C7zsydO1cVFRUq\n",
              "Li5WcXGxMjIytHr1as2dO7fJcX53jfHZjxK1gm+//dbIyMgw7Ha7MWzYMOPLL780DMMwZs6cabz9\n",
              "9tuNx61evdpITU01UlNTjQcffNCora311citojn7snTpUqN///7GwIEDjf79+xt//OMfG3/yM1DN\n",
              "mTPH6N27txEaGmrExsYaaWlphmFwvhhG8/YmGM+ZsrIyQ5KRmppqDBo0yBg0aJAxcuRIwzAMY8GC\n",
              "BcaKFSsaj3377beNPn36GGlpacbUqVONEydO+GrsFtfcfVm/fr1x3XXXNZ4z8+bNM2pqanw5eosr\n",
              "Li42RowYYQwYMMAYOHCgkZmZ2fgvMATztaa5+xKM15mLjR8/vvGnxf35GsPvFgcAAIBpAvZlcQAA\n",
              "ALQ+4hIAAACmIS4BAABgGuISAAAApiEuAQAAYBriEgAAAKYhLgEAAGAa4hIAAACmIS4BAABgGuIS\n",
              "AAAApiEuAQAAYJr/H/0FF6ATTfm4AAAAAElFTkSuQmCC\n",
              "\">\n",
              "      </div>\n",
              "      <script type=\"text/javascript\">\n",
              "        (() => {\n",
              "          const chartElement = document.getElementById(\"chart-aede67c8-8b8f-40a0-9b59-479280a4a9e8\");\n",
              "          async function getCodeForChartHandler(event) {\n",
              "            const chartCodeResponse =  await google.colab.kernel.invokeFunction(\n",
              "                'getCodeForChart', [\"chart-aede67c8-8b8f-40a0-9b59-479280a4a9e8\"], {});\n",
              "            const responseJson = chartCodeResponse.data['application/json'];\n",
              "            await google.colab.notebook.addCell(responseJson.code, 'code');\n",
              "          }\n",
              "          chartElement.onclick = getCodeForChartHandler;\n",
              "        })();\n",
              "      </script>\n",
              "      <style>\n",
              "        .colab-quickchart-chart-with-code  {\n",
              "            display: block;\n",
              "            float: left;\n",
              "            border: 1px solid transparent;\n",
              "        }\n",
              "\n",
              "        .colab-quickchart-chart-with-code:hover {\n",
              "            cursor: pointer;\n",
              "            border: 1px solid #aaa;\n",
              "        }\n",
              "      </style>"
            ]
          },
          "metadata": {}
        },
        {
          "output_type": "display_data",
          "data": {
            "text/plain": [
              "from matplotlib import pyplot as plt\n",
              "_df_13['col2'].plot(kind='line', figsize=(8, 4), title='col2')\n",
              "plt.gca().spines[['top', 'right']].set_visible(False)"
            ],
            "text/html": [
              "      <div class=\"colab-quickchart-chart-with-code\" id=\"chart-32c1e7bf-d8e3-4a29-a52b-918bb7831a39\">\n",
              "        <img style=\"width: 180px;\" src=\"data:image/png;base64,iVBORw0KGgoAAAANSUhEUgAAApcAAAFuCAYAAADUGTPdAAAAOXRFWHRTb2Z0d2FyZQBNYXRwbG90\n",
              "bGliIHZlcnNpb24zLjcuMSwgaHR0cHM6Ly9tYXRwbG90bGliLm9yZy/bCgiHAAAACXBIWXMAAA9h\n",
              "AAAPYQGoP6dpAAA5HElEQVR4nO3deXSU9d3//9ckgQlLFrawZc9MWER2MBi2kKiVb63cuNStShVR\n",
              "EBKO3l9bz6+clvvcR/o7P+vdAGVTigtqrQJqXWqbkLAoIggooMJM9kBCWMOaSTJz/f6YEMhN0CCT\n",
              "zGTm+TjHc+QzV2be+fTi8tkrk8RkGIYhAAAAwAOCvD0AAAAA/AdxCQAAAI8hLgEAAOAxxCUAAAA8\n",
              "hrgEAACAxxCXAAAA8BjiEgAAAB5DXAIAAMBjiEsAAAB4DHEJAK2suLhYJpNJdrvd26MAQKsjLgGg\n",
              "jX388cfKyMhQr169FBkZqbFjx+of//iHt8cCAI8gLgGgjZ08eVKzZ8/WwYMHdfz4cT3zzDO65557\n",
              "tHPnTm+PBgDXjbgEgBa6cOGCfve73yk5OVlhYWFKTEzUq6++Kkl65ZVXNGTIEIWHh2vIkCGN6815\n",
              "8MEHddddd6lbt24KDg7WL3/5Sw0cOFBbtmxpq08FAFpNiLcHAID24vHHH9fBgwf1/vvva+DAgaqo\n",
              "qFBlZaXWrVunzMxMbdiwQZMnT1ZeXp6mTZumiIgITZs27Ueft7S0VAcOHNCIESNa/5MAgFZmMgzD\n",
              "8PYQAODrjh07pl69emnHjh0aPXp0k8duu+02DR48WP/zP//TuJaVlaUDBw7on//8p4qLi5WQkCCb\n",
              "zSaLxdLkY6urqzVlyhQNGjRIa9eubZPPBQBaE18WB4AWKCoqkiQNGDDgisfKysqUlJTUZM1isai0\n",
              "tPQHn/Po0aOaMmWKBgwYoFdeecVjswKANxGXANAC8fHxkqSDBw9e8VhMTIwKCgqarBUUFCg2Nvaq\n",
              "z1dWVqYJEyZo1KhRWrt2rUJCeJcSAP9AXAJAC/Tq1Uv333+/nnrqKR04cECSVFFRoV27dmnmzJn6\n",
              "61//qvz8fDmdTm3cuFGrV6/WrFmzmn2uAwcOKDU1VVOnTtWqVasUFMSlGID/4IoGAC300ksvadKk\n",
              "Sbr99tvVtWtXpaamav/+/brnnnv0pz/9SXPmzFFkZKTmzZun7OxsTZ8+vdnn+eMf/6iysjKtWrVK\n",
              "Xbt2bfznySefbOPPCAA8j2/oAQAAgMdw5xIAAAAeQ1wCAADAY4hLAAAAeAxxCQAAAI8hLgEAAOAx\n",
              "xCUAAAA8hrgEAACAx/hMXGZnZ3t7BAAAAFwnn4nLkpISb48AAACA6+QzcQkAAID2j7gEAACAxxCX\n",
              "AAAA8BjiEgAAAB5DXAIAAMBjiEsAAAB4DHEJAAAAjyEuAQAA4DHEJQAAADyGuAQAAIDHEJcAAADt\n",
              "kGEYqne6vD3GFYhLAACAdsQwDP1rf6XuWLpVr3xe7O1xrhDi7QEAAADw41wuQ//69ogW59r0bcVp\n",
              "SdLZmno9mpqgoCCTl6e7hLgEAADwYe6orNSfc2z6vvKMJKlLx2DNSI3XY+MTfSosJeISAADAJ7lc\n",
              "hv65v1KLcy9FZVdziGbcHK/HxieoW5eOXp6wecQlAACAD3G5DH28r0JLcu06cMQdlWHmEP06NV6P\n",
              "jk9QZGffjMqLiEsAAAAf4HQZ+nhvhRbn2mSrOitJCgsN0aOpCXo0NUERnTt4ecKWIS4BAAC8yOky\n",
              "9OE3h7Vko132hqgMDw3Ro+MT9OvUBEV0ah9ReRFxCQAA4AVOl6F/fH1YSzbaVHD0nCR3VM6ckKgZ\n",
              "qfEKD21fUXkRcQkAANCG6p0u/eObw1qSa1fhMXdURnTqoJnjE/RIO47Ki4hLAACANlDvdOn9PYe1\n",
              "NM+uooaojOzcQY9PSNTD4+IU1s6j8iLiEgAAoBXVO13asPuQ/pJnV/Hx85Kkbp076PGJiXp4XLy6\n",
              "mv0rx/zrswEAAPARdQ1RuXSjXaUn3FHZvUvHxjuVXfwsKi/yz88KAADAS+qcLq3fVa6leXaVnbgg\n",
              "SerRpaNmTUzUQyn+G5UX+fdnBwAA0EZq611at6tcf8mzq/ykOyp7du2oJyYm6cGUWHXuGBjZFRif\n",
              "JQAAQCuprXfp3a/cUXno1MWoNOvJSYl68KY4deoY7OUJ29Y1xWVmZqY++OADlZSUaPfu3Ro+fLgk\n",
              "yeFw6JlnntGnn36q0NBQDRs2TGvXrm2NeQEAAHyCo96pd3aWa3l+QWNU9goz68lJSXpgbGzAReVF\n",
              "1xSXd999t5599lmNHz++yfpvf/tbmUwmHTx4UCaTSZWVlR4dEgAAwFc46p36+44yLc8v0OHqGklS\n",
              "VJhZsycn6f6xsQrtEJhRedE1xeXEiROvWDt37pxWr16t8vJymUwmSVKfPn08Mx0AAICPqKlz6u87\n",
              "y7Qsr0CVp91R2TvcrNmTknQfUdnout9zWVBQoO7du+v5559XTk6OOnXqpD/84Q9KT0+/6sc4HA45\n",
              "HI4ma06n83pHAQAA8LiaOqf+9mWplm8q0JHT7n7pEx6qOWlJund0DFH5v1x3XNbX16ukpESDBw/W\n",
              "H//4R+3evVu33HKL9u/fr969ezf7MYsWLdLChQubrKWkpFzvKAAAAB5TU+fUm9tLtWJTgarOuKOy\n",
              "b0So5qRZdO/oaJlDiMrmXHdcxsbGKigoSA8++KAkacSIEUpISNDevXuvGpfPPfecnn766SZrCxYs\n",
              "uN5RAAAArltNnVNvNETl0Yao7NcQlfcQlT/quuOyZ8+eSk9P16effqqpU6eqqKhIRUVFGjRo0FU/\n",
              "xmw2y2w2N1kLDuZ/KAAA4D0Xap16Y3uJVmwq1LGz7qjsH9lJT6VZdPeoaHUMCfLyhO3DNcXlE088\n",
              "oY8++kiVlZW67bbbFBYWJrvdrhUrVuixxx7Tb37zGwUFBWnlypXq379/a80MAADgMedr67X2ixKt\n",
              "2lyoY2drJUnR3TppbppF00cSldfqmuJy5cqVza4nJiYqLy/PIwMBAAC0hfO19Xp9mzsqj59zR2VM\n",
              "90tR2SGYqPwp+A09AAAgoJxz1Ou1bSV6aUuhTjREZVyPznoqzaL/GNGfqLxOxCUAAAgIZx31evXz\n",
              "Yr28pVAnz9dJckflvClWTRveTyFEpUcQlwAAwK+dqalrvFN5qiEqE3p20dw0i+4kKj2OuAQAAH7p\n",
              "dE2dXv2sWC9vLVL1BXdUJvbsonnpFt0xlKhsLcQlAADwK6dr6rRma7FWby3U6Zp6SVJiry7KSrfq\n",
              "50P7KTjI5OUJ/RtxCQAA/EL1hTqt+axIf91a1BiVlqiumjfFQlS2IeISAAC0a9Xn67T6syKt+axI\n",
              "Zxqi0hrVVZnpVk29sS9R2caISwAA0C6dOl+r1VuL9MpnxTrjcEdlcu+uykpP1u1D+iiIqPQK4hIA\n",
              "ALQrJ881ROXnxTrbEJUD+4QpM92qn91AVHobcQkAANqFE+dq9fKWQr36ebHO1TolSYP6hisr3aJb\n",
              "BxOVvoK4BAAAPu34WYde2lKk17YV63xDVA7uG66sDKtuGdSbqPQxxCUAAPBJx886tGpLoV7fVtIY\n",
              "lTf0C1dWulW3DO4tk4mo9EXEJQAA8CnHzjq0arM7Ki/UuaPyxv4Rykq3Kn1QFFHp44hLAADgE6rO\n",
              "1GjVpkKt3V6imjqXJGlodITmZ1iVNoCobC+ISwAA4FVVZ2q0clOh3rgsKofFRGp+ulWTB/QiKtsZ\n",
              "4hIAAHhF1ekaLd9UoDe3l8pR747KEbGRykq3alIyUdleEZcAAKBNVVbXaMWmAr35ZalqG6JyZGyk\n",
              "5mcka4K1J1HZzhGXAACgTVRUX9CK/AK9taOsMSpHx3VTVoZV4y1Epb8gLgEAQKs6fOqClucX6O0d\n",
              "Zap1uqNyTHw3zc9I1s1JPYhKP0NcAgCAVnHo1AUtz7fr7zvKG6NybEJ3zU+3ahxR6beISwAA4FHl\n",
              "J89rWX6B3tlZpjqnIUlKSeyurPRkjUvq4eXp0NqISwAA4BFlJ85rWb5d735V3hiV4xJ7KCvDqpRE\n",
              "ojJQEJcAAOC6lJ04r7/kuaOy3uWOylRLD2WlJ2tsQncvT4e2RlwCAICfpPT4eS3Ns2n9rkONUTnB\n",
              "2lNZ6VaNjicqAxVxCQAArknxsXNammfXht2H5LwsKudnWDUqjqgMdMQlAABokaJj57R0o13v7bkU\n",
              "lZOSeykz3apRcd28PB18RdC1HJyZman4+HiZTCbt2bPnisfXrFkjk8mk9957z0PjAQAAbys8elZP\n",
              "v71H6X/K17pd5XK6DKUN6KUNc27Wq4+OJSzRxDXdubz77rv17LPPavz48Vc8VlxcrJdeekkpKSke\n",
              "Gw4AAHiPveqslm606YOvD6vhRqWmDIxSZrpVw2MivTobfNc1xeXEiRObXXe5XJo5c6aWLFmiZ555\n",
              "xiODAQAA77BXndGSjXZ98PVhGQ1RmTHIHZVDoyO9Oht8n0fec/niiy8qNTVVo0aNatHxDodDDoej\n",
              "yZrT6fTEKAAA4CeyHTmjxRvt+vCbS1F5y+Deykq3akj/CO8Oh3bjuuNy3759WrdunTZv3tzij1m0\n",
              "aJEWLlzYZI0vpwMA4B0HKs9o8UabPt5b0RiVtw7urUyiEj/Bdcflli1bVFxcLKvVKkmqrKzUrFmz\n",
              "VFFRodmzZzf7Mc8995yefvrpJmsLFiy43lEAAMA1+L7ytJbk2vXR3orGtZ/d0Efz0i26oR9RiZ/m\n",
              "uuNy9uzZTSJy8uTJmj9/vqZNm3bVjzGbzTKbzU3WgoODr3cUAADQAt9VnNbiXJs+2VfZuDb1xj6a\n",
              "N8WqQX3DvTgZ/ME1xeUTTzyhjz76SJWVlbrtttsUFhYmu93eWrMBAAAP2n+4Wotzbfp0/xFJkskk\n",
              "TR3SV/PSLRrYh6iEZ1xTXK5cufJHj8nPz/+pswAAgFaw71C1snNt+ve3l6Ly/9zYV5npViX3DvPy\n",
              "dPA3/IYeAAD81N5yd1TmfHcpKu8Y2k/zplhkJSrRSohLAAD8zDflp5SdY1Pu91WSpCCTdMcwd1Ra\n",
              "oohKtC7iEgAAP7Gn7JSycw4q78BRSe6ovHN4f82dYlFSr65eng6BgrgEAKCd2116Utm5NuVfFpXT\n",
              "RvTX3DSLEolKtDHiEgCAduqrEndUbj7ojsrgIJOmNdypTOjZxcvTIVARlwAAtDM7i08oO9emLbZj\n",
              "ktxROX1Efz2VZlE8UQkvIy4BAGgndhSfUHaOTVvt7qgMCTLprpHReirNotgenb08HeBGXAIA4OO2\n",
              "Fx5Xdq5Nnxccl+SOyrtHuaMypjtRCd9CXAIA4KO2FRxXdu5BfVF4QpLUIdiku0fFaM7kJKISPou4\n",
              "BADAhxiGoW2Fx5WdY9P2oktRee/oGM2enKTobkQlfBtxCQCADzAMQ9sKjuvPOTZ9WeyOyo7BQbp3\n",
              "TLRmT7aof2QnL08ItAxxCQCAFxmGoc/s7i9/7yg+Kckdlb8c475T2Y+oRDtDXAIA4AWGYWiL7Ziy\n",
              "c236qqQhKkOCdP+YGD05OUl9I4hKtE/EJQAAbcgwDG22HdOfcw5qd+kpSe6ofGBsrJ6clKQ+EaHe\n",
              "HRC4TsQlAABtwDAM5R88quwcm/aUnZIkmUOC9MBN7qjsHU5Uwj8QlwAAtCLDMJR3oErZOTZ9XV4t\n",
              "SQrtEKQHb4rTExMTFUVUws8QlwAAtALDMLTx+ypl59r0zWVR+auUOM2amKReYWYvTwi0DuISAAAP\n",
              "MgxDOd9VaXGuTXsPuaOyU4dg/WpcnB6fkEhUwu8RlwAAeIBhGPrXt0e0ONem/YdPS5I6d7wUlT27\n",
              "EpUIDMQlAADXweVyR2V2rk3fVbijskvHYD18c7wen5Co7l06enlCoG0RlwAA/AQul6FP91cqO9em\n",
              "7yvPSHJH5SM3x2smUYkARlwCAHANXC5Dn+yr1OJcmw4ccUdlV3OIZtwcr8fGJ6gbUYkAR1wCANAC\n",
              "Lpehj/dVaHGuTQePnJUkhZlD9OvUeD06PkGRnYlKQCIuAQD4QU6XoY/2VmhJrk22qoaoDA3Rr1MT\n",
              "9FhqgiI6d/DyhIBvIS4BAGiG02Xow28Oa3GuTQVHz0mSwkND9Oj4BP06NUERnYhKoDnEJQAAl3G6\n",
              "DP3j68NavNGmwsuicuaERM1IjVd4KFEJ/JBrisvMzEx98MEHKikp0e7duzV8+HDV1NTovvvu07ff\n",
              "fqtOnTopKipKy5cvl8Viaa2ZAQDwuHqnSx98fVhLN9pVeMwdlRGdOmjm+AQ9QlQCLXZNcXn33Xfr\n",
              "2Wef1fjx45usz5o1S7fffrtMJpOWLl2qmTNnKj8/35NzAgDQKuqdLr2357CWbrSp+Ph5SVJk5w56\n",
              "fEKiHh4XpzCiErgm1xSXEydOvGItNDRUU6dObfxzSkqKXnjhheufDACAVlTvdGnD7kNammdXSUNU\n",
              "duvcQY9PTNTD4+LV1cw7x4CfwuN/c7Kzs3XnnXf+4DEOh0MOh6PJmtPp9PQoAABcoc7p0oZd7qgs\n",
              "PeGOyu5dOjbeqexCVALXxaN/g55//nnZ7Xbl5ub+4HGLFi3SwoULm6ylpKR4chQAAJqoc7q07qty\n",
              "/SXfrrITFyRJPbp01KyJiXoohagEPMVjf5NeeOEFrV+/Xjk5OercufMPHvvcc8/p6aefbrK2YMEC\n",
              "T40CAECj2nqX1u0q19KNdh065Y7Knl0vRWXnjkQl4Eke+Rv14osv6q233lJOTo4iIyN/9Hiz2Syz\n",
              "2dxkLTg42BOjAAAgyR2V73xVpmV5BZdFpVlPTkrUgzfFqVNH/rsDtIZrissnnnhCH330kSorK3Xb\n",
              "bbcpLCxM+fn5euaZZ5SYmKi0tDRJ7njcvn17qwwMAMAPcdQ79fed5VqeZ9fh6hpJUq8ws56clKQH\n",
              "xsYSlUAru6a4XLlyZbPrhmF4ZBgAAH4qR71Tf99RpmX5BapoiMqoi1F5U6xCOxCVQFvgjSYAgHat\n",
              "ps6pt3eUaXl+gSpPu6Oyd7hZsycl6b6xRCXQ1ohLAEC7VFPn1FtflmrFpgIdOe3+8XZ9wkM1Jy1J\n",
              "946OISoBLyEuAQDtSk2dU29ud0dl1Rl3VPaNCNWcyUm6d0yMzCFEJeBNxCUAoF24UOvUG9tLtHJz\n",
              "oY42RGW/iFDNSbPontHRRCXgI4hLAIBPO19brze+KNXKzYU6dtYdlf0jO+mpNIvuHhWtjiFBXp4Q\n",
              "wOWISwCATzpfW6+1X5Ro1eZCHTtbK0mK7uaOyrtGEpWAryIuAQA+5ZyjXq9/UaKXNhfq+Dl3VMZ0\n",
              "76S5aRZNHxmtDsFEJeDLiEsAgE8466jXa9uK9fKWIp1oiMrY7p01d4pF/zGiP1EJtBPEJQDAq846\n",
              "6vXq58V6eUuhTp6vkyTF9eisuWkWTSMqgXaHuAQAeMWZmjp3VG4t0qmGqEzo2UVz0yy6c3g/hRCV\n",
              "QLtEXAIA2tTpmjq98lmxVm8tUvUFd1Qm9uyieekW3TGUqATaO+ISANAmqi9cjMpCna6plyQl9uqi\n",
              "zClW3TGsn4KDTF6eEIAnEJcAgFZVfaFOf91apL9+VqQzDVFpieqqeVMs+vlQohLwN8QlAKBVVJ+v\n",
              "0+qthVrzWbHOONxRaY3qqsx0q6be2JeoBPwUcQkA8KhT52u1emuRXrksKpN7N0TlkL4KIioBv0Zc\n",
              "AgA84uS5Wr28tVCvfl6isw1RObBPmDLTrfrZDX2ISiBAEJcAgOty4lytXt5SqFc/L9a5Wqckd1TO\n",
              "z7Dq1sFEJRBoiEsAwE9y/KxDL20p0mvbinW+ISoH9w1XZrpVtw7uTVQCAYq4BABck2NnHXppc6Fe\n",
              "/6KkMSpv6BeurHSrbhncWyYTUQkEMuISANAiR8849NKWQr2+rUQX6txROaR/uOanJyt9UBRRCUAS\n",
              "cQkA+BFVZ2q0alOh1m4vUU2dS5I0NDpCWelWTRlIVAJoirgEADSr6nSNVmwq1BvbS+Sod0flsJhI\n",
              "zU+3avKAXkQlgGYRlwCAJo6crtGKTQV6c3tpY1QOj4nU/AyrJiUTlQB+GHEJAJAkVVY3ROWXpapt\n",
              "iMqRsZHKykjWRGtPohJAixCXABDgKqovaHl+gf62o6wxKkfHdVNWhlXjLUQlgGtDXAJAgDp8yh2V\n",
              "b+8oU63THZVj4rtpfkaybk7qQVQC+EmCruXgzMxMxcfHy2Qyac+ePY3rNptNN998s5KTkzVmzBjt\n",
              "37/f03MCADzk0KkL+n827NWk/y9Pr39RolqnS2MTuuvNmTfp70+MUyp3KwFch2u6c3n33Xfr2Wef\n",
              "1fjx45usP/HEE5o1a5ZmzJihd999VzNmzNCOHTs8OigA4PqUnzyvZfkFemdnmeqchiTppoTump+R\n",
              "rHFJPbw8HQB/cU1xOXHixCvWqqqqtHPnTv3rX/+SJN11112aO3eu7Ha7LBaLZ6YEAPxkZSfOa1m+\n",
              "Xe9+Vd4YleMSeygrw6qURKISgGdd93suy8rK1LdvX4WEuJ/KZDIpNjZWpaWlV41Lh8Mhh8PRZM3p\n",
              "dF7vKACAy5QeP6+/5Nm1ble56l3uqEy19FBWerLGJnT38nQA/JVXvqFn0aJFWrhwYZO1lJQUb4wC\n",
              "AH6n9Ph5Lc2zad2uQ3I2ROV4S09lZVg1Jp6oBNC6rjsuY2JiVFFRofr6eoWEhMgwDJWWlio2Nvaq\n",
              "H/Pcc8/p6aefbrK2YMGC6x0FAAJa8bFzWppn14bdl6JygrWn5mdYNSqOqATQNq47LqOiojRy5Eit\n",
              "XbtWM2bM0Lp16xQdHf2D77c0m80ym81N1oKDg693FAAISEXHzmnJRpve33O4MSonJfdSZrpVo+K6\n",
              "eXk6AIHmmuLyiSee0EcffaTKykrddtttCgsLk91u18qVKzVjxgw9//zzCg8P15o1a1prXgBAg8Kj\n",
              "Z7V0o13v7TmkhqbU5AG9lJVu1YhYohKAd1xTXK5cubLZ9QEDBmjbtm0eGQgA8MPsVWe1dKNNH3x9\n",
              "uDEqpwyMUma6VcNjIr06GwDwG3oAoJ2wV53R4ly7/vHNYRkNUZkxyB2VQ6MjvTobAFxEXAKAj7Md\n",
              "OaPFG+36sElU9lZWulU3Rkd4dzgA+F+ISwDwUQcqz2jxRps+3lvRGJW3Du6tzHSrhvQnKgH4JuIS\n",
              "AHzM95WntTjXpo/3Vjau/eyGPpqXbtEN/YhKAL6NuAQAH/FdhTsqP9l3KSpvH9JHmelWDeob7sXJ\n",
              "AKDliEsA8LL9h6u1ONemT/cfkSSZTNLUIX01L92igX2ISgDtC3EJAF6y71C1snNt+ve3l6Ly/9zY\n",
              "V5npViX3DvPydADw0xCXANDG9pa7ozLnu0tR+fOh/ZQ5xSIrUQmgnSMuAaCNfFN+Stk5NuV+XyVJ\n",
              "CjJJdwzrp3lTLLJEEZUA/ANxCQCtbE/ZKWXnHFTegaOS3FF55/D+mjvFoqReXb08HQB4FnEJAK1k\n",
              "d+lJZefalH9ZVE5riMpEohKAnyIuAcDDvipxR+Xmg+6oDA4yNUZlQs8uXp4OAFoXcQkAHrKz+ISy\n",
              "c23aYjsmyR2V/zGiv+amWRRPVAIIEMQlAFynHcUnlJ1j01b7pai8a2R/PZVmUVwPohJAYCEuAeAn\n",
              "2l54XNm5Nn1ecFySFBJk0t2jovVUmkUx3Tt7eToA8A7iEgCu0baC48rOPagvCk9IckflPaOjNWcy\n",
              "UQkAxCUAtIBhGNpWeFzZOTZtL3JHZYdgk+4ZHaM5k5MU3Y2oBACJuASAH2QYhj4vcEfll8WXovKX\n",
              "Y2I0e7JF/SM7eXlCAPAtxCUANMMwDH1mP64/5xzUzpKTkqSOwUENUZmkfkQlADSLuASAyxiGoS22\n",
              "Y8rOtemri1EZEqT7x8ToyclJ6htBVALADyEuAUDuqNx08Kiyc23aXXpKkjsqHxgbqycnJalPRKh3\n",
              "BwSAdoK4BBDQDMNQ/sGjys6xaU/ZKUmSOSRID9zkjsre4UQlAFwL4hJAQDIMQ3kHqpSdY9PX5dWS\n",
              "pNAOQXrwpjg9MTFRUUQlAPwkxCWAgGIYhjZ+X6XsXJu+uSwqH7opTrMmJSoqjKgEgOtBXAIICIZh\n",
              "KOe7Ki3OtWnvIXdUduoQrF+Ni9PjExLVK8zs5QkBwD8QlwD8mmEY+te3R7Q416b9h09Lkjp3vBSV\n",
              "PbsSlQDgSR6Ny48//li/+93v5HK5VF9fr//7f/+vHnnkEU++BAC0iMvljsrsXJu+q7gUlQ+Pi9fj\n",
              "ExLUg6gEgFbhsbg0DEMPPfSQ8vPzNXToUBUXF2vgwIGaPn26wsLCPPUyAPCDXC5Dn+6vVHauTd9X\n",
              "npEkdekYrEdujtfMCYnq3qWjlycEAP/m0TuXJpNJp06dkiSdPn1aPXr0kNnM3QEArc/lMvTJvkot\n",
              "zrXpwBF3VHY1h2jGzfF6bHyCuhGVANAmPBaXJpNJb7/9tqZPn64uXbro5MmTWr9+vTp2vPKC7nA4\n",
              "5HA4mqw5nU5PjQIggLhchj7eV6HFuTYdPHJWkhRmDtGMVHdURnYmKgGgLXksLuvr6/Xf//3fWr9+\n",
              "vSZOnKgdO3boF7/4hfbu3auePXs2OXbRokVauHBhk7WUlBRPjQIgADhdhj7aW6EluTbZqhqiMjRE\n",
              "v05N0GOpCYro3MHLEwJAYDIZhmF44ol27typBx54QAcPHmxcGzNmjJ5//nndcsstTY5t7s7lggUL\n",
              "lJ2d7YlRAPgxp8vQh98c1uJcmwqOnpPkjsrHxifo16kJiuhEVAKAN3nszmVMTIwqKir03XffadCg\n",
              "QbLb7SooKNCAAQOuONZsNl/xXszg4GBPjQLADzldhv7x9WEt3mhTYUNUhoeG6LHxiZqRGk9UAoCP\n",
              "8Fhc9u7dW6tWrdK9996roKAguVwuLV26VLGxsZ56CQABqN7p0gdfH9bSjXYVHnNHZUSnDpo5PkGP\n",
              "pMYrPJSoBABf4tHvFr///vt1//33e/IpAQSoeqdL7+05rKUbbSo+fl6SFNm5gx6fkKiHx8UpjKgE\n",
              "AJ/Eb+gB4FPqnS5t2H1IS/PsKmmIym6dO2jmhEQ9cnO8upq5bAGAL+MqDcAn1Dld2rDLHZWlJ9xR\n",
              "2b1LRz0+IVG/GhdHVAJAO8HVGoBX1TldWvdVuf6Sb1fZiQuSpB5dOmrWxEQ9lBKnLkQlALQrXLUB\n",
              "eEVtvUvrdpVr6Ua7Dp1yR2XPrpeisnNHLk8A0B5x9QbQpmrrXXrnqzItyyu4LCrNenJSoh68KU6d\n",
              "OvJjyQCgPSMuAbQJR71Tf99ZruV5dh2urpEk9Qoz68lJSXpgbCxRCQB+grgE0Koc9U79fUeZluUX\n",
              "qKIhKqMuRuVNsQrtQFQCgD8hLgG0ipo6p97eUabl+QWqPO2Oyt7hZs2elKT7xhKVAOCviEsAHlVT\n",
              "59RbX5ZqxaYCHTntkCT1CQ/VnLQk3Ts6hqgEAD9HXALwiJo6p97c7o7KqjPuqOwbEao5k5N075gY\n",
              "mUOISgAIBMQlgOtyodapN7aXaOXmQh1tiMp+EaGak2bRPaOjiUoACDDEJYCf5Hxtvd74olQrNxfq\n",
              "2Fl3VPaP7KSn0iy6e1S0OoYEeXlCAIA3EJcArsn52nqt/aJEqzYX6tjZWklSdDd3VN41kqgEgEBH\n",
              "XAJokXOOer3+RYle2lyo4+fcURnTvZPmplk0fWS0OgQTlQAA4hLAjzjrqNdr24r18pYinWiIytju\n",
              "nTV3ikX/MaI/UQkAaIK4BNCss456vfp5sV7eUqiT5+skSXE9OmtumkXTiEoAwFUQlwCaOFNT547K\n",
              "rUU61RCVCT27aG6aRXcO76cQohIA8AOISwCSpNM1dXrls2Kt3lqk6gvuqEzs2UXz0i26YyhRCQBo\n",
              "GeISCHDVFy5GZaFO19RLkhJ7dVHmFKvuGNZPwUEmL08IAGhPiEsgQFVfqNNftxbpr58V6UxDVFqi\n",
              "umreFIt+PpSoBAD8NMQlEGCqz9dp9WdFWnNZVFqjuioz3aqpN/YlKgEA14W4BALEqfO1Wr21SK98\n",
              "VqwzDndUJvduiMohfRVEVAIAPIC4BPzcyXO1enlroV79vERnG6JyYJ8wZaZb9bMb+hCVAACPIi4B\n",
              "P3XiXK1e3lKoVz8v1rlapyR3VM7PsOrWwUQlAKB1EJeAnzl+1qGXthTptW3FOt8QlYP7hisz3apb\n",
              "B/cmKgEArYq4BPzEsbMOvbS5UK9/UdIYlTf0C1dWulW3DO4tk4moBAC0Po/GpcPh0DPPPKNPP/1U\n",
              "oaGhGjZsmNauXevJlwDwvxw769CqzYV6fVuJLtS5o3JI/3DNT09W+qAoohIA0KY8Gpe//e1vZTKZ\n",
              "dPDgQZlMJlVWVnry6QFcpupMjVZtKtTa7SWqqXNJkoZGRygr3aopA4lKAIB3eCwuz507p9WrV6u8\n",
              "vLzxP2p9+vTx1NMDaFB1ukYrNhXqje0lctS7o3JYTKTmp1s1eUAvohIA4FUei8uCggJ1795dzz//\n",
              "vHJyctSpUyf94Q9/UHp6+hXHOhwOORyOJmtOp9NTowB+qep0jZZvKtCb20sbo3J4TKTmZ1g1KZmo\n",
              "BAD4Bo/FZX19vUpKSjR48GD98Y9/1O7du3XLLbdo//796t27d5NjFy1apIULFzZZS0lJ8dQogF+p\n",
              "rK7Rik0FevPLUtU2ROXI2EhlZSRrorUnUQkA8CkmwzAMTzzRsWPH1Lt3b9XW1io4OFiSNGbMGC1a\n",
              "tEgZGRlNjm3uzuWCBQuUnZ3tiVEAv1BRfUHL8wv0tx1ljVE5Oq6bsjKsGm8hKgEAvsljdy579uyp\n",
              "9PR0ffrpp5o6daqKiopUVFSkQYMGXXGs2WyW2WxusnYxSIFAd/iUOyrf3lGmWqc7KsfEd9P8jGTd\n",
              "nNSDqAQA+DSPfrf4ihUr9Nhjj+k3v/mNgoKCtHLlSvXv39+TLwH4rUOnLmhZnl3v7CxvjMqxCd01\n",
              "P92qcUQlAKCd8GhcJiYmKi8vz5NPCfi98pPntSy/QO/sLFOd0/0ulZsSumt+RrLGJfXw8nQAAFwb\n",
              "fkMP4CVlJ85rWb5d735V3hiV4xJ7KCvDqpREohIA0D4Rl0AbKz1+Xn/Js2vdrnLVu9xRmWrpoaz0\n",
              "ZI1N6O7l6QAAuD7EJdBGSo+f19I8m9btOiRnQ1SOt/RUVoZVY+KJSgCAfyAugVZWfOyclubZtWH3\n",
              "paicYO2p+RlWjYojKgEA/oW4BFpJ0bFzWrrRrvf2XIrKScm9lJlu1ai4bl6eDgCA1kFcAh5WePRs\n",
              "Y1Q2NKUmD+ilrHSrRsQSlQAA/0ZcAh5irzqrpRtt+uDrw41ROWVglDLTrRoeE+nV2QAAaCvEJXCd\n",
              "7FVntGSjXR98fVgXf5lqxiB3VA6NjvTqbAAAtDXiEviJbEfOaPFGuz785vKo7K2sdKtujI7w7nAA\n",
              "AHgJcQlcowOVZ7R4o00f761ojMpbB/dWZrpVQ/oTlQCAwEZcAi30feVpLcm166O9FY1rP7uhj+al\n",
              "W3RDP6ISAACJuAR+1HcVp7U416ZP9lU2rt0+pI8y060a1Dfci5MBAOB7iEvgKvYfrtbiXJs+3X9E\n",
              "kmQySVOH9NW8dIsG9iEqAQBoDnEJ/C/7Drmj8l/fXhaVN/ZV5hSrBvQJ8/J0AAD4NuISaLC3vFrZ\n",
              "uTblfHcpKn8+tJ8yp1hk7U1UAgDQEsQlAt435aeUnWNT7vdVkqQgk3THsH6aN8UiSxRRCQDAtSAu\n",
              "EbC+Ljul7FybNl4WlXcO76+5UyxK6tXVy9MBANA+EZcIOLtLTyo716b8A0cluaNyWkNUJhKVAABc\n",
              "F+ISAeOrEndUbj7ojsrgIFNjVCb07OLl6QAA8A/EJfzeVyUn9Occm7bYjklyR+X0Ef31VJpF8UQl\n",
              "AAAeRVzCb+0oPqHsHJu22i9F5V0j3VEZ14OoBACgNRCX8DvbC48rO9emzwuOS5JCgky6e1S0nkqz\n",
              "KKZ7Zy9PBwCAfyMu4Te+KDyu7BybthVeisp7RsdozuQkohIAgDZCXKJdMwxD2xqicnvRCUlSh+BL\n",
              "URndjagEAKAtEZdolwzD0LaC4/pzjk1fFrujsmNwkO4dE63Zky3qH9nJyxMCABCYiEu0K4Zh6DP7\n",
              "cWXnHtSO4pOS3FH5yzExmj05Sf2ISgAAvKpV4nLNmjV69NFHtWHDBk2bNq01XgIBxjAMbbUf059z\n",
              "bPqqpCEqQ4J0/5gYPTk5SX0jiEoAAHyBx+OyuLhYL730klJSUjz91AhAhmFos+2YsnMOalfpKUnu\n",
              "qHxgbKyenJSkPhGh3h0QAAA04dG4dLlcmjlzppYsWaJnnnnGk0+NAGMYhvIPHlV2jk17yk5Jkswh\n",
              "QXrgJndU9g4nKgEA8EUejcsXX3xRqampGjVq1A8e53A45HA4mqw5nU5PjoJ2yjAM5R84qj/n2vR1\n",
              "Q1SGdgjSgzfF6YmJiYoiKgEA8Gkei8t9+/Zp3bp12rx5848eu2jRIi1cuLDJGl9GD2yGYWjj91XK\n",
              "zrXpm/JqSe6o/FVKnB6fmKioMKISAID2wGNxuWXLFhUXF8tqtUqSKisrNWvWLFVUVGj27NlNjn3u\n",
              "uef09NNPN1lbsGCBp0ZBO2IYhnK+q9LiXJv2HnJHZacOwfrVuDg9PiFRvcLMXp4QAABcC4/F5ezZ\n",
              "s5tE5OTJkzV//vxmv1vcbDbLbG4aDcHBwZ4aBe2AYRj697dHlJ1r0/7DpyVJnTteisqeXYlKAADa\n",
              "I37OJdqUy2XoX98e0eJcm76tcEdll47BevjmeM0cn6AeRCUAAO1aq8Vlfn5+az012iGXy9Cn+yuV\n",
              "nWvT95VnJLmj8pGb4zVzQqK6d+no5QkBAIAncOcSrcrlMvTP/ZVafFlUdjWHaMbN8XpsfIK6EZUA\n",
              "APgV4hKtwuUy9PG+Ci3JtevAEXdUhplDNCPVHZWRnYlKAAD8EXEJj3K6DH20t0JLcm2yVZ2VJIWF\n",
              "hujXqQl6LDVBEZ07eHlCAADQmohLeITTZejDbw5ryUa77JdF5WPjE/Tr1ARFdCIqAQAIBMQlrovT\n",
              "ZegfXx/Wko02FRw9J0kKDw3RY+MTNSM1nqgEACDAEJf4SeqdLn3w9WEt3WhX4TF3VEZ06qCZ4xP0\n",
              "SGq8wkOJSgAAAhFxiWtS73Tp/T2HtTTPrqKGqIzs3EGPT0jUw+PiFEZUAgAQ0IhLtEi906UNuw/p\n",
              "L3l2FR8/L0nq1rmDZk5I1CM3x6urmVMJAAAQl/gRdU6XNuw6pKV5dpWecEdl9y4d9fiERP1qXBxR\n",
              "CQAAmqAM0Kw6p0vrd5VraZ5dZScuSJJ6dOmoWRMT9VBKnLoQlQAAoBkUApqorXdp3a5y/SXPrvKT\n",
              "7qjs2fVSVHbuyCkDAACujlKAJHdUvvNVmZblFejQqYtRadaTkxL14E1x6tQx2MsTAgCA9oC4DHCO\n",
              "eqfe2VmuZXl2Ha6ukST1CjPryUlJemBsLFEJAACuCXEZoBz1Tv19R5mW5ReooiEqoy5G5U2xCu1A\n",
              "VAIAgGtHXAaYmjqn3t5RpuX5Bao87Y7K3uFmzZ6UpPvGEpUAAOD6EJcBoqbOqb99Warlmwp05LRD\n",
              "ktQnPFRz0pJ07+gYohIAAHgEcennauqcenN7qVZsKlDVGXdU9o0I1ZzJSbp3TIzMIUQlAADwHOLS\n",
              "T12odeqN7SVaublQRxuisl9EqOakWXTP6GiiEgAAtAri0s9cjMoVmwp17Kw7KvtHdtJTaRbdPSpa\n",
              "HUOCvDwhAADwZ8SlnzhfW6+1X5Ro1eZCHTtbK0mK7uaOyrtGEpUAAKBtEJft3DlHvV7/okQvbS7U\n",
              "8XPuqIzp3klz0yyaPjJaHYKJSgAA0HaIy3bqnKNer20r0UtbCnWiISpju3fW3CkW/ceI/kQlAADw\n",
              "CuKynTnrqNernxfr5S2FOnm+TpIU16Oz5qZZNI2oBAAAXkZcthNnaurcUbm1SKcaojKhZxfNTbPo\n",
              "zuH9FEJUAgAAH0Bc+rjTNXV69TN3VFZfcEdlYs8umpdu0R1DiUoAAOBbiEsfdbqmTmu2Fmv11kKd\n",
              "rqmXJCX26qLMKVbdMayfgoNMXp4QAADgSh6Ly5qaGt1333369ttv1alTJ0VFRWn58uWyWCyeeomA\n",
              "UH2hTn/dWqS/flakMw1RaYnqqnlTLPr5UKISAAD4No/euZw1a5Zuv/12mUwmLV26VDNnzlR+fr4n\n",
              "X8JvVZ+v0+rPirTmsqi0RnVVZrpVU2/sS1QCAIB2wWNxGRoaqqlTpzb+OSUlRS+88IKnnt5vnTpf\n",
              "q9Vbi/TKZ8U643BHZXLvhqgc0ldBRCUAAGhHWu09l9nZ2brzzjubfczhcMjhcDRZczqdrTWKTzp5\n",
              "riEqPy/W2YaoHNA7TFkZVv3shj5EJQAAaJdaJS6ff/552e125ebmNvv4okWLtHDhwiZrKSkprTGK\n",
              "zzlxrlYvbynUq58X61ytO6gH9glTVrpVtxGVAACgnTMZhmF48glfeOEF/e1vf1NOTo4iIyObPaa5\n",
              "O5cLFixQdna2J0fxKcfPOvTSliK9tq1Y5xuicnDfcGWmW3Xr4N5EJQAA8AsevXP54osv6q233vrB\n",
              "sJQks9kss9ncZC04ONiTo/iM42cdWrWlUK9vK2mMyhv6hSsr3apbBveWyURUAgAA/+GxuCwvL9cz\n",
              "zzyjxMREpaWlSXJH5Pbt2z31Eu3KsbMOrdrsjsoLde6oHNI/XFnpycoYFEVUAgAAv+SxuIyOjpaH\n",
              "v8LeLlWdqdGqTYVau71ENXUuSdLQ6AhlpVs1ZSBRCQAA/Bu/ocdDqs7UaOWmQr1xWVQOi47Q/Ixk\n",
              "TR7Qi6gEAAABgbi8TlWna7R8U4He3F4qR707KofHRCorw6rJyUQlAAAILMTlT1RZXaMVmwr05pel\n",
              "qm2IypGxkcrKSNZEa0+iEgAABCTi8hpVVF/QivwCvbWjrDEqR8V10/wMq8ZbiEoAABDYiMsWOnzq\n",
              "gpbnF+jtHWWqdbqjckx8N2WlJyvV0oOoBAAAEHH5ow6duqDl+Xb9fUd5Y1SOTeiu+elWjUsiKgEA\n",
              "AC5HXF5F+cnzWpZfoHd2lqnO6f4RSzcldNf8jGSNS+rh5ekAAAB8E3H5v5SdOK9l+Xa9+1V5Y1SO\n",
              "S+yhrAyrUhKJSgAAgB9CXDYoO3Fef8lzR2W9yx2VqZYeykpP1tiE7l6eDgAAoH0I+LgsPX5eS/Ns\n",
              "Wr/rUGNUjrf0VFaGVWPiiUoAAIBrEbBxWXzsnJbm2bVh9yE5G6JygrWn5mdYNSqOqAQAAPgpAi4u\n",
              "q07X6P/95wG9t+dSVE5K7qXMdKtGxXXz8nQAAADtW8DFZUhwkD7ZVyGny9DkAb2UlW7ViFiiEgAA\n",
              "wBMCLi67d+mo/542RIm9ump4TKS3xwEAAPArAReXkjR9ZLS3RwAAAPBLQd4eAAAAAP6DuAQAAIDH\n",
              "EJcAAADwGOISAAAAHkNcAgAAwGOISwAAAHgMcQkAAACPIS4BAADgMcQlAAAAPIa4BAAAgMcQlwAA\n",
              "APAYk2EYhreHkKTp06crPj6+TV7L6XTqyy+/1NixYxUcHNwmr9kesC9Xx940j325OvameezL1bE3\n",
              "zWNfrs4bexMXF6esrKwfPMZn4rItnT59WhEREaqurlZ4eLi3x/EZ7MvVsTfNY1+ujr1pHvtydexN\n",
              "89iXq/PVveHL4gAAAPAY4hIAAAAeQ1wCAADAYwIyLs1ms37/+9/LbDZ7exSfwr5cHXvTPPbl6tib\n",
              "5rEvV8feNI99uTpf3ZuA/IYeAAAAtI6AvHMJAACA1kFcAgAAwGOISwAAAHiMX8elzWbTzTffrOTk\n",
              "ZI0ZM0b79+9v9rjVq1fLarUqKSlJjz/+uOrq6tp40rbVkn3Jz89Xp06dNHz48MZ/Lly44IVp205m\n",
              "Zqbi4+NlMpm0Z8+eqx4XaOeL1LK9CcRzpqamRtOmTVNycrKGDRumW265RXa7vdljP/zwQw0cOFBW\n",
              "q1XTp0/X6dOn23jattPSfSkuLlZwcHCTc6agoMALE7etW2+9VUOHDtXw4cM1YcIE7d69u9njAu1a\n",
              "05J9CcTrzEVr1qyRyWTSe++91+zjPnWNMfxYWlqasWbNGsMwDOOdd94xRo8efcUxhYWFRt++fY2K\n",
              "igrD5XIZd9xxh7F06dI2nrRttWRf8vLyjGHDhrXtYF62adMmo6yszIiLizN2797d7DGBeL4YRsv2\n",
              "JhDPmQsXLhgfffSR4XK5DMMwjCVLlhiTJk264rgzZ84YUVFRxnfffWcYhmE89dRTxn/+53+25aht\n",
              "qqX7UlRUZERERLTtcD7g5MmTjf++fv16Y+jQoVccE4jXmpbsSyBeZwzD/Xdl3LhxRkpKirFhw4Yr\n",
              "Hve1a4zf3rmsqqrSzp079dBDD0mS7rrrLpWVlV3x/57fffdd/eIXv1CfPn1kMpn05JNP6q233vLG\n",
              "yG2ipfsSiCZOnKjo6OgfPCbQzpeLWrI3gSg0NFRTp06VyWSSJKWkpKi4uPiK4z755BONGDFCAwcO\n",
              "lCTNmTPHr8+blu5LoIqMjGz89+rq6sZ9ulwgXmtasi+ByOVyaebMmVqyZMlVf+SQr11j/DYuy8rK\n",
              "1LdvX4WEhEiSTCaTYmNjVVpa2uS40tJSxcXFNf45Pj7+imP8SUv3RZIKCgo0cuRIjRkzRsuWLWvr\n",
              "UX1SoJ0v1yrQz5ns7GzdeeedV6w3d95UVFSovr6+LcfzmqvtiySdO3dOY8aM0ciRI/Vf//Vfcjqd\n",
              "bTyddzz88MOKiYnRggUL9Prrr1/xeKBea35sX6TAu868+OKLSk1N1ahRo656jK9dY0K88qrweSNH\n",
              "jlR5ebkiIiJUXl6uqVOnqmfPnrr33nu9PRp8VKCfM88//7zsdrtyc3O9PYpP+aF96du3rw4dOqSo\n",
              "qCidOHFCv/zlL/WnP/1Jzz77rBcmbVuvvfaaJOnVV1/Vb37zG3388cdensg3/Ni+BNp1Zt++fVq3\n",
              "bp02b97s7VGuid/euYyJiWlS7YZhqLS0VLGxsU2Oi42NVUlJSeOfi4uLrzjGn7R0X8LDwxURESFJ\n",
              "io6O1v33368tW7a0+by+JtDOl2sRyOfMCy+8oPXr1+uTTz5R586dr3i8ufPm8q8g+Ksf2xez2ayo\n",
              "qChJUvfu3fXoo48GzDlz0SOPPKK8vDwdP368yXqgX2uuti+Bdp3ZsmWLiouLZbVaFR8fry+++EKz\n",
              "Zs3S8uXLmxzna9cYv43LqKgojRw5UmvXrpUkrVu3TtHR0bJYLE2Ou+uuu/TBBx+osrJShmFoxYoV\n",
              "uu+++7wxcpto6b5UVFTI5XJJks6cOaMPP/xQI0aMaPN5fU2gnS/XIlDPmRdffFFvvfWW/v3vfzd5\n",
              "z9jlfvazn2nXrl36/vvvJUnLli3z+/OmJftSVVXV+B3QDodD69ev9/tz5tSpUzp8+HDjn9977z31\n",
              "6NFD3bt3b3JcoF1rWrovgXadmT17tioqKlRcXKzi4mKlpKRo1apVmj17dpPjfO4a47VvJWoD33//\n",
              "vZGSkmJYrVZj1KhRxjfffGMYhmE89thjxvvvv9943KpVq4zExEQjMTHRePTRR43a2lpvjdwmWrIv\n",
              "S5YsMQYPHmwMHTrUGDx4sPH73/++8Ts//dWsWbOM/v37G8HBwUZUVJSRlJRkGAbni2G0bG8C8Zwp\n",
              "KyszJBmJiYnGsGHDjGHDhhljx441DMMwFixYYCxfvrzx2Pfff98YMGCAkZSUZNx5553GqVOnvDV2\n",
              "q2vpvqxbt8644YYbGs+ZuXPnGjU1Nd4cvdUVFxcbY8aMMYYMGWIMHTrUSE9Pb/wJDIF8rWnpvgTi\n",
              "deZykyZNavxucV++xvC7xQEAAOAxfvtlcQAAALQ94hIAAAAeQ1wCAADAY4hLAAAAeAxxCQAAAI8h\n",
              "LgEAAOAxxCUAAAA8hrgEAACAxxCXAAAA8BjiEgAAAB5DXAIAAMBj/n897dUMY025IwAAAABJRU5E\n",
              "rkJggg==\n",
              "\">\n",
              "      </div>\n",
              "      <script type=\"text/javascript\">\n",
              "        (() => {\n",
              "          const chartElement = document.getElementById(\"chart-32c1e7bf-d8e3-4a29-a52b-918bb7831a39\");\n",
              "          async function getCodeForChartHandler(event) {\n",
              "            const chartCodeResponse =  await google.colab.kernel.invokeFunction(\n",
              "                'getCodeForChart', [\"chart-32c1e7bf-d8e3-4a29-a52b-918bb7831a39\"], {});\n",
              "            const responseJson = chartCodeResponse.data['application/json'];\n",
              "            await google.colab.notebook.addCell(responseJson.code, 'code');\n",
              "          }\n",
              "          chartElement.onclick = getCodeForChartHandler;\n",
              "        })();\n",
              "      </script>\n",
              "      <style>\n",
              "        .colab-quickchart-chart-with-code  {\n",
              "            display: block;\n",
              "            float: left;\n",
              "            border: 1px solid transparent;\n",
              "        }\n",
              "\n",
              "        .colab-quickchart-chart-with-code:hover {\n",
              "            cursor: pointer;\n",
              "            border: 1px solid #aaa;\n",
              "        }\n",
              "      </style>"
            ]
          },
          "metadata": {}
        },
        {
          "output_type": "display_data",
          "data": {
            "text/plain": [
              "from matplotlib import pyplot as plt\n",
              "_df_14['col3'].plot(kind='line', figsize=(8, 4), title='col3')\n",
              "plt.gca().spines[['top', 'right']].set_visible(False)"
            ],
            "text/html": [
              "      <div class=\"colab-quickchart-chart-with-code\" id=\"chart-a44383d0-dfe4-43d0-b8f7-6161f1cc15aa\">\n",
              "        <img style=\"width: 180px;\" src=\"data:image/png;base64,iVBORw0KGgoAAAANSUhEUgAAApcAAAFuCAYAAADUGTPdAAAAOXRFWHRTb2Z0d2FyZQBNYXRwbG90\n",
              "bGliIHZlcnNpb24zLjcuMSwgaHR0cHM6Ly9tYXRwbG90bGliLm9yZy/bCgiHAAAACXBIWXMAAA9h\n",
              "AAAPYQGoP6dpAAA6fElEQVR4nO3deXSU9d3//9ckgQlLEtawZc9MWER2MMgaglq5a6VIrbtUEQQx\n",
              "4af3bes55bT09Ei/51jvBlI2pbig1iq4VLS2hIRFEUFAARdmsgcSIlvClkkyc/3+mBDITdDETDKT\n",
              "mefjHM6Rz1wz886nk8tnZ3FMhmEYAgAAADwgyNsDAAAAwH8QlwAAAPAY4hIAAAAeQ1wCAADAY4hL\n",
              "AAAAeAxxCQAAAI8hLgEAAOAxxCUAAAA8hrgEAACAxxCXANDKCgoKZDKZZLfbvT0KALQ64hIA2tin\n",
              "n36qMWPGqEePHgoPD9eQIUO0atUqb48FAB4R4u0BACDQJCYm6s0331RsbKyCgoL05Zdfavr06YqO\n",
              "jtZPf/pTb48HAC3CM5cA0EQXL17Ub3/7WyUlJSksLEwJCQl66aWXJEkvvviihg4dqvDwcA0dOrR+\n",
              "vTG9e/dWfHy8goKCZBiGTCaTTCaTvvnmm7b6UQCg1fDMJQA00SOPPKIjR47o3Xff1aBBg1RaWqqy\n",
              "sjJt3LhRaWlpevvttzV16lRlZ2dr5syZioiI0MyZM695e7GxsSorK1N1dbWGDBmi+++/v+1+GABo\n",
              "JSbDMAxvDwEAvu7EiRPq3bu39uzZozFjxjS47JZbbtGQIUP0v//7v/Vr6enp+vbbb/Wvf/1LBQUF\n",
              "io+Pl81mk8ViaXDd6upqbdu2TTt27NBvfvMbde7cuU1+HgBoLbwsDgBNkJ+fL0kaOHDgVZcVFxcr\n",
              "MTGxwZrFYlFRUdEP3m7Hjh1100036cSJE1qyZIlnhgUALyIuAaAJ4uLiJElHjhy56rLo6Gjl5uY2\n",
              "WMvNzVVMTEyTb7+mpkbffvtti2YEAF9AXAJAE/Tu3Vt33323HnvssfoILC0t1b59+zR37lz97W9/\n",
              "U05OjpxOp7Zu3ap169Zp3rx5jd7Wpk2b9MUXX6impkbV1dXatGmTNmzYoBkzZrTljwQArYIP9ABA\n",
              "Ez3//PP6wx/+oFtvvVXl5eWKjIzU0qVLdf/996uiokILFy5UcXGxYmJilJGRoVmzZjV6O8ePH9fT\n",
              "Tz+to0ePKiQkRPHx8frzn/+shQsXtvFPBACexwd6AAAA4DG8LA4AAACPIS4BAADgMcQlAAAAPIa4\n",
              "BAAAgMcQlwAAAPAY4hIAAAAeQ1wCAADAY3wmLjMyMrw9AgAAAFrIZ+KysLDQ2yMAAACghXwmLgEA\n",
              "AND+EZcAAADwGOISAAAAHkNcAgAAwGOISwAAAHgMcQkAAACPIS4BAADgMcQlAAAAPKZZcZmWlqa4\n",
              "uDiZTCYdOHCgfv2DDz7QqFGjNGLECA0dOlQvvfSSp+cEAABAO9CsuJw9e7Z27typ2NjY+jXDMHTf\n",
              "fffpxRdf1IEDB/T+++9r/vz5Onv2rMeHBQAAgG8Lac7BkydPbnTdZDLpzJkzkqTKykr17NlTZrO5\n",
              "xcMBAACgcYZhyOkyFBLsW+9ybFZcNsZkMumNN97QrFmz1KVLF50+fVqbNm1Sx44dr3kdh8Mhh8PR\n",
              "YM3pdLZ0FAAAAL9nGIb+89VxLd9q08wRAzR3UoK3R2qgxalbW1urP/7xj9q0aZMKCwuVlZWl+++/\n",
              "XydOnLjmdZYtW6aIiIgGfz777LOWjgIAAOC3XC5D/zpUpv9avlPzXvlch45WasOnhXK5DG+P1kCL\n",
              "4/LAgQM6duxY/UvmY8eOVVRUlPbv33/N6zz99NOqqKho8GfcuHEtHQUAAMDvuKOyVDOW79CjGz7X\n",
              "V6WV6tIxWI+lJGrTwgkKCjJ5e8QGWvyyeHR0tEpLS/X1119r8ODBstvtys3N1cCBA695HbPZfNV7\n",
              "MoODg1s6CgAAgN9wuQz963CZlmfZ9E2Z+4PSXc0hmnNjnB6eGK/uXa79FkRvalZczp8/X5s3b1ZZ\n",
              "WZluueUWhYWFyW63a+3atbrzzjsVFBQkl8ulzMxMxcTEtNbMAAAAfsvlMvTBoVKtyLLr2+PuqAwz\n",
              "h+hXE+L00MR4devsm1F5ickwDJ94of6JJ57Qc8895+0xAAAAvMLpMvTBwVItz7LJVn5OkhQWGqKH\n",
              "JsTroQnxiujcwcsTNk2LXxYHAADAj+d0GXr/y2NasdUue11UhoeG6KGJ8frVhHhFdGofUXkJcQkA\n",
              "AOAFTpehf35xTCu22pT73XlJ7qicOylBcybEKTy0fUXlJcQlAABAG6p1uvTPL49pRZZdeSfcURnR\n",
              "qYPmTozXg+04Ki8hLgEAANpArdOldw8cU2a2Xfl1Udmtcwc9MilBD4yPVVg7j8pLiEsAAIBWVOt0\n",
              "6e39R/XXbLsKTl6QJHXv3EGPTE7QA+Pj1NXsXznmXz8NAACAj6ipi8rMrXYVnXJHZY8uHeufqezi\n",
              "Z1F5iX/+VAAAAF5S43Rp074SZWbbVXzqoiSpZ5eOmjc5Qfcl+29UXuLfPx0AAEAbqa51aeO+Ev01\n",
              "266S0+6o7NW1o+ZPTtS9yTHq3DEwsiswfkoAAIBWUl3r0lufu6Py6JlLUWnWo1MSdO8NserUMbC+\n",
              "4pq4BAAA+BEctU69ubdEq3Jy66Oyd5hZj05J1D3jYgIuKi8hLgEAAJrBUevUP/YUa1VOro5VVEmS\n",
              "IsPMWjA1UXePi1Foh8CMykuISwAAgCaoqnHqH3uLtTI7V2WV7qjsE27WgimJuouorEdcAgAAfI+q\n",
              "Gqf+/lmRVm3L1fFKhySpb3ioFqYk6s4x0UTl/0FcAgAANKKqxqnXdhdp9bZclZ91R2W/iFAtTLHo\n",
              "zjFRMocQlY0hLgEAAK5QVePUq3VR+V1dVPavi8pfEJU/iLgEAACQdLHaqVd3F2r1tjydOOeOygHd\n",
              "OumxFItmj45Sx5AgL0/YPhCXAAAgoF2ortWGTwu1dnueTpyrliRFde+kRSkWzRpFVDYXcQkAAALS\n",
              "hepavbLLHZUnz7ujMrrH5ajsEExU/hjEJQAACCjnHbV6eVehnt+Rp1N1URnbs7MeS7Ho5yMHEJUt\n",
              "RFwCAICAcM5Rq5c+KdALO/J0+kKNJHdUPj7Nqpkj+iuEqPQI4hIAAPi1s1U19c9UnqmLyvheXbQo\n",
              "xaLbiUqPIy4BAIBfqqyq0UsfF+iFnfmquOiOyoReXfR4qkW3DSMqWwtxCQAA/EplVY3W7yzQup15\n",
              "qqyqlSQl9O6i9FSrfjqsv4KDTF6e0L8RlwAAwC9UXKzR+o/z9bed+fVRaYnsqsenWYjKNkRcAgCA\n",
              "dq3iQo3WfZyv9R/n62xdVFojuyot1aoZ1/cjKtsYcQkAANqlMxeqtW5nvl78uEBnHe6oTOrTVemp\n",
              "Sbp1aF8FEZVe0ay4TEtL03vvvafCwkLt379fI0aMkCQ5HA49+eST+uijjxQaGqrhw4drw4YNrTEv\n",
              "AAAIcKfP10XlJwU6VxeVg/qGKS3Vqp9cR1R6W7Picvbs2Xrqqac0ceLEBuu/+c1vZDKZdOTIEZlM\n",
              "JpWVlXl0SAAAgFPnq/XCjjy99EmBzlc7JUmD+4UrPdWim4cQlb6iWXE5efLkq9bOnz+vdevWqaSk\n",
              "RCaT+3/Uvn37emY6AAAQ8E6ec+j5Hfl6eVeBLtRF5ZB+4UqfbtVNg/sQlT6mxe+5zM3NVY8ePfTM\n",
              "M89oy5Yt6tSpk37/+98rNTX1mtdxOBxyOBwN1pxOZ0tHAQAAfuTkOYfW7sjTK7sK66Pyuv7hSk+1\n",
              "6qYhfeqf1IJvaXFc1tbWqrCwUEOGDNGf/vQn7d+/XzfddJMOHz6sPn36NHqdZcuWaenSpQ3WkpOT\n",
              "WzoKAADwAyfOObR2uzsqL9a4o/L6ARFKT7UqdXAkUenjWhyXMTExCgoK0r333itJGjlypOLj43Xw\n",
              "4MFrxuXTTz+tJ554osHakiVLWjoKAABox8rPVmnttjxt2F2oqhqXJGlYVIQWT7cqZSBR2V60OC57\n",
              "9eql1NRUffTRR5oxY4by8/OVn5+vwYMHX/M6ZrNZZrO5wVpwcHBLRwEAAO1Q+dkqrdmWp1eviMrh\n",
              "0d20ONWqqQN7E5XtTLPicv78+dq8ebPKysp0yy23KCwsTHa7XatXr9bDDz+sX//61woKCtKaNWs0\n",
              "YMCA1poZAAD4gfLKKq3alqvXdhfJUeuOypEx3ZSeatWUJKKyvWpWXK5Zs6bR9YSEBGVnZ3tkIAAA\n",
              "4N/KKqq0eluuXvusSNV1UTkqppsWT0/SJGsvorKd4xt6AABAmyituKjVObl6fU9xfVSOie2u9OlW\n",
              "TbQQlf6CuAQAAK3q2JmLWpWTqzf2FKva6Y7KsXHdtXh6km5M7ElU+hniEgAAtIqjZy5qVY5d/9hT\n",
              "Uh+V4+J7aHGqVeOJSr9FXAIAAI8qOX1BK3Ny9ebeYtU4DUlSckIPpacmaXxiTy9Ph9ZGXAIAAI8o\n",
              "PnVBK3PseuvzkvqoHJ/QU+nTrUpOICoDBXEJAABapPjUBf012x2VtS53VE6w9FR6apLGxffw8nRo\n",
              "a8QlAAD4UYpOXlBmtk2b9h2tj8pJ1l5KT7VqTBxRGaiISwAA0CwFJ84rM9uut/cflfOKqFw83arR\n",
              "sURloCMuAQBAk+SfOK/MrXa9c+ByVE5J6q20VKtGx3b38nTwFcQlAAD4XnnfnauPyrqmVMpAd1SO\n",
              "jCEq0RBxCQAAGmUvP6fMrTa998Wx+qicNihSaalWjYju5tXZ4LuISwAA0IC9/KxWbLXrvS+OyaiL\n",
              "yumD3VE5LKqbV2eD7yMuAQCAJMl2/KyWb7Xr/S8vR+VNQ/ooPdWqoQMivDsc2g3iEgCAAPdt2Vkt\n",
              "32rTBwdL66Py5iF9lEZU4kcgLgEACFDflFVqRZZdmw+W1q/95Lq+ejzVouv6E5X4cYhLAAACzNel\n",
              "lVqeZdOHh8rq12Zc31ePT7NqcL9wL04Gf0BcAgAQIA4fq9DyLJs+OnxckmQySTOG9tPjqRYN6ktU\n",
              "wjOISwAA/NyhoxXKyLLpP19djsr/ur6f0lKtSuoT5uXp4G+ISwAA/NTBEndUbvn6clTeNqy/Hp9m\n",
              "kZWoRCshLgEA8DNflpxRxhabsr4plyQFmaTbhruj0hJJVKJ1EZcAAPiJA8VnlLHliLK//U6SOypv\n",
              "HzFAi6ZZlNi7q5enQ6AgLgEAaOf2F51WRpZNOVdE5cyRA7QoxaIEohJtjLgEAKCd+rzQHZXbj7ij\n",
              "MjjIpJl1z1TG9+ri5ekQqIhLAADamb0Fp5SRZdMO2wlJ7qicNXKAHkuxKI6ohJcRlwAAtBN7Ck4p\n",
              "Y4tNO+3uqAwJMumOUVF6LMWimJ6dvTwd4EZcAgDg43bnnVRGlk2f5J6U5I7K2aPdURndg6iEbwlq\n",
              "zsFpaWmKi4uTyWTSgQMHrrp8/fr1MplMeueddzw0HgAAgWtX7kndtXaXfrn2U32Se1Idgk26e1yM\n",
              "sv97qv50xzDCEj6pWc9czp49W0899ZQmTpx41WUFBQV6/vnnlZyc7LHhAAAINIZhaFfeSWVssWl3\n",
              "/ilJUodgk+4cE60FUxMV1Z2ghG9rVlxOnjy50XWXy6W5c+dqxYoVevLJJz0yGAAAgcQwDO3KPam/\n",
              "bLHpswJ3VHYMDtKdY6O0YKpFA7p18vKEQNN45D2Xzz33nCZMmKDRo0c36XiHwyGHw9Fgzel0emIU\n",
              "AADaFcMw9LH9pDKyjmhPwWlJ7qj85Vj3M5X9iUq0My2Oy0OHDmnjxo3avn17k6+zbNkyLV26tMEa\n",
              "L6cDAAKJYRjaYTuhjCybPi+si8qQIN09NlqPTk1UvwiiEu1Ti+Nyx44dKigokNVqlSSVlZVp3rx5\n",
              "Ki0t1YIFCxq9ztNPP60nnniiwdqSJUtaOgoAAD7PMAxtt53QX7Yc0f6iM5LcUXnPuBg9OiVRfSNC\n",
              "vTsg0EItjssFCxY0iMipU6dq8eLFmjlz5jWvYzabZTabG6wFBwe3dBQAAHyWYRjKOfKdMrbYdKD4\n",
              "jCTJHBKke25wR2WfcKIS/qFZcTl//nxt3rxZZWVluuWWWxQWFia73d5aswEA0O4ZhqHsb8uVscWm\n",
              "L0oqJEmhHYJ07w2xmj85QZFEJfxMs+JyzZo1P3hMTk7Oj50FAAC/YRiGtn5Trowsm768IirvT47V\n",
              "vMmJ6h1m/oFbANonvqEHAAAPMgxDW74u1/Ismw4edUdlpw7Bun98rB6ZlEBUwu8RlwAAeIBhGPr3\n",
              "V8e1PMumw8cqJUmdO16Oyl5diUoEBuISAIAWcLncUZmRZdPXpe6o7NIxWA/cGKdHJiWoR5eOXp4Q\n",
              "aFvEJQAAP4LLZeijw2XKyLLpm7KzktxR+eCNcZpLVCKAEZcAADSDy2Xow0NlWp5l07fH3VHZ1Ryi\n",
              "OTfG6eGJ8epOVCLAEZcAADSBy2Xog0OlWp5l05Hj5yRJYeYQ/WpCnB6aGK9unYlKQCIuAQD4Xk6X\n",
              "oc0HS7UiyyZbeV1UhoboVxPi9fCEeEV07uDlCQHfQlwCANAIp8vQ+18e0/Ism3K/Oy9JCg8N0UMT\n",
              "4/WrCfGK6ERUAo0hLgEAuILTZeifXxzT8q025V0RlXMnJWjOhDiFhxKVwPchLgEAkFTrdOm9L44p\n",
              "c6tdeSfcURnRqYPmTozXg0Ql0GTEJQAgoNU6XXrnwDFlbrWp4OQFSVK3zh30yKQEPTA+VmFEJdAs\n",
              "xCUAICDVOl16e/9RZWbbVVgXld07d9AjkxP0wPg4dTXzr0jgx+A3BwAQUGqcLr29zx2VRafcUdmj\n",
              "S8f6Zyq7EJVAi/AbBAAICDVOlzZ+XqK/5thVfOqiJKlnl46aNzlB9yUTlYCn8JsEAPBr1bUubdxX\n",
              "osytdh09447KXl0vR2XnjvyrEPAkfqMAAH6putalNz8v1srs3Cui0qxHpyTo3hti1aljsJcnBPwT\n",
              "cQkA8CuOWqf+sbdEq7LtOlZRJUnqHWbWo1MSdc+4GKISaGXEJQDALzhqnfrHnmKtzMlVaV1URl6K\n",
              "yhtiFNqBqATaAnEJAGjXqmqcemNPsVbl5Kqs0h2VfcLNWjAlUXeNIyqBtkZcAgDapaoap17/rEir\n",
              "t+XqeKVDktQ3PFQLUxJ155hoohLwEuISANCuVNU49dpud1SWn3VHZb+IUC2cmqg7x0bLHEJUAt5E\n",
              "XAIA2oWL1U69urtQa7bn6bu6qOwfEaqFKRb9YkwUUQn4COISAODTLlTX6tVPi7Rme55OnHNH5YBu\n",
              "nfRYikWzR0epY0iQlycEcCXiEgDgky5U12rDp4Vauz1PJ85VS5Kiuruj8o5RRCXgq4hLAIBPOe+o\n",
              "1SufFur57Xk6ed4dldE9OmlRikWzRkWpQzBRCfgy4hIA4BPOOWr18q4CvbAjX6fqojKmR2ctmmbR\n",
              "z0cOICqBdqJZcZmWlqb33ntPhYWF2r9/v0aMGKGqqirddddd+uqrr9SpUydFRkZq1apVslgsrTUz\n",
              "AMCPnHPU6qVPCvTCjjydvlAjSYrt2VmLUiyaSVQC7U6z4nL27Nl66qmnNHHixAbr8+bN06233iqT\n",
              "yaTMzEzNnTtXOTk5npwTAOBnzlbVuKNyZ77O1EVlfK8uWpRi0e0j+iuEqATapWbF5eTJk69aCw0N\n",
              "1YwZM+r/npycrGeffbblkwEA/FJlVY1e/LhA63bmq+KiOyoTenXR46kW3TaMqATaO4+/5zIjI0O3\n",
              "33779x7jcDjkcDgarDmdTk+PAgDwIRUXL0VlniqraiVJCb27KG2aVbcN76/gIJOXJwTgCR6Ny2ee\n",
              "eUZ2u11ZWVnfe9yyZcu0dOnSBmvJycmeHAUA4CMqLtbobzvz9beP83W2LiotkV31+DSLfjqMqAT8\n",
              "jcfi8tlnn9WmTZu0ZcsWde7c+XuPffrpp/XEE080WFuyZImnRgEA+ICKCzVatzNP6z8u0FmHOyqt\n",
              "kV2VlmrVjOv7EZWAn/JIXD733HN6/fXXtWXLFnXr1u0HjzebzTKbzQ3WgoP52i4A8AdnLlRr3c58\n",
              "vXhFVCb1qYvKof0URFQCfq1ZcTl//nxt3rxZZWVluuWWWxQWFqacnBw9+eSTSkhIUEpKiiR3PO7e\n",
              "vbtVBgYA+KbT56v1ws48vfRJoc7VReWgvmFKS7XqJ9f1JSqBANGsuFyzZk2j64ZheGQYAED7c+p8\n",
              "tV7YkaeXPinQ+Wr3hzMH9Q3T4ulW3TyEqAQCDd/QAwD4UU6ec+j5Hfl6eVeBLtRF5ZB+4UpLterm\n",
              "IX2ISiBAEZcAgGY5cc6h57fn6ZVPC+uj8rr+4UpPteqmIX1kMhGVQCAjLgEATfLdWYee35GnV3YV\n",
              "6mKNOyqHDgjX4tQkpQ6OJCoBSCIuAQA/oPxsldZuy9OG3YWqqnFJkoZFRSg91appg4hKAA0RlwCA\n",
              "RpVXVmn1tjy9urtQjlp3VA6P7qbFqVZNHdibqATQKOISANDA8coqrd6Wq9d2F9VH5Yjoblo83aop\n",
              "SUQlgO9HXAIAJEllFXVR+VmRquuiclRMN6VPT9Jkay+iEkCTEJcAEOBKKy5qVU6u/r6nuD4qx8R2\n",
              "V/p0qyZaiEoAzUNcAkCAOnbGHZVv7ClWtdMdlWPjumvx9CTdmNiTqATwoxCXABBgjp65qJXZdv1j\n",
              "b7FqnO5vWBsX30OLU60aT1QCaCHiEgACRMnpC1qZk6s3r4jKG+J7aPH0JI1P7Onl6QD4C+ISAPxc\n",
              "8akLWplj11ufl9RH5fiEnkqfblVyAlEJwLOISwDwU0UnL+iv2XZt3FeiWpc7KidYeio9NUnj4nt4\n",
              "eToA/oq4BAA/U3TygjKzbdq476icdVE50dJL6dOtGhtHVAJoXcQlAPiJghPnlZlt19v7L0flJGsv\n",
              "LZ5u1ehYohJA2yAuAaCdyz9xXiu22vTugWP1UTklqbfSUq0aHdvdy9MBCDTEJQC0U3nfnVPmVrve\n",
              "OXBUdU2pqQN7Kz3VqpExRCUA7yAuAaCdsZefU+ZWm9774lh9VE4bFKm0VKtGRHfz6mwAQFwCQDth\n",
              "Lz+r5Vl2/fPLYzLqonL6YHdUDovq5tXZAOAS4hIAfJzt+Fkt32rX+w2iso/SU626PirCu8MBwP9B\n",
              "XAKAj/q27KyWb7Xpg4Ol9VF585A+Sku1augAohKAbyIuAcDHfFNWqeVZNn1wsKx+7SfX9dXjqRZd\n",
              "15+oBODbiEsA8BFfl7qj8sNDl6Py1qF9lZZq1eB+4V6cDACajrgEAC87fKxCy7Ns+ujwcUmSySTN\n",
              "GNpPj6daNKgvUQmgfSEuAcBLDh2tUEaWTf/56nJU/tf1/ZSWalVSnzAvTwcAPw5xCQBt7GCJOyq3\n",
              "fH05Kn86rL/SpllkJSoBtHNBzTk4LS1NcXFxMplMOnDgQP26zWbTjTfeqKSkJI0dO1aHDx/29JwA\n",
              "0O59WXJGD7+4R7dl7tSWr48ryCTdPqK//vP/TdaKu0cSlgD8QrOeuZw9e7aeeuopTZw4scH6/Pnz\n",
              "NW/ePM2ZM0dvvfWW5syZoz179nh0UABorw4Un1HGliPK/vY7SaqLygFaNM2ixN5dvTwdAHhWs+Jy\n",
              "8uTJV62Vl5dr7969+ve//y1JuuOOO7Ro0SLZ7XZZLBbPTAkA7dD+otPKyLIp54qonFkXlQlEJQA/\n",
              "1eL3XBYXF6tfv34KCXHflMlkUkxMjIqKiq4Zlw6HQw6Ho8Ga0+ls6SgA4BM+L3RH5fYj7qgMDjLV\n",
              "R2V8ry5eng4AWpdXPtCzbNkyLV26tMFacnKyN0YBAI/ZW3BKGVk27bCdkOSOyp+PHKBFKRbFEZUA\n",
              "AkSL4zI6OlqlpaWqra1VSEiIDMNQUVGRYmJirnmdp59+Wk888USDtSVLlrR0FADwij0Fp5Sxxaad\n",
              "9stReceoAXosxaLYnkQlgMDS4riMjIzUqFGjtGHDBs2ZM0cbN25UVFTU977f0mw2y2w2N1gLDg5u\n",
              "6SgA0KZ2551URpZNn+SelCSFBJk0e3SUHkuxKLpHZy9PBwDe0ay4nD9/vjZv3qyysjLdcsstCgsL\n",
              "k91u15o1azRnzhw988wzCg8P1/r161trXgDwul25J5WRdUSf5p2S5I7KX4yJ0sKpRCUANCsu16xZ\n",
              "0+j6wIEDtWvXLo8MBAC+yDAM7co7qYwtNu3Od0dlh2CTfjEmWgunJiqqO1EJABLf0AMA38swDH2S\n",
              "647KzwouR+Uvx0ZrwVSLBnTr5OUJAcC3EJcA0AjDMPSx/aT+suWI9haeliR1DA6qi8pE9ScqAaBR\n",
              "xCUAXMEwDO2wnVBGlk2fX4rKkCDdPTZaj05NVL8IohIAvg9xCQByR+W2I98pI8um/UVnJLmj8p5x\n",
              "MXp0SqL6RoR6d0AAaCeISwABzTAM5Rz5ThlbbDpQfEaSZA4J0j03uKOyTzhRCQDNQVwCCEiGYSj7\n",
              "23JlbLHpi5IKSVJohyDde0Os5k9OUCRRCQA/CnEJIKAYhqGt35QrI8umL6+IyvtuiNW8KQmKDCMq\n",
              "AaAliEsAAcEwDG35ulzLs2w6eNQdlZ06BOv+8bF6ZFKCeoeZf+AWAABNQVwC8GuGYejfXx3X8iyb\n",
              "Dh+rlCR17ng5Knt1JSoBwJOISwB+yeVyR2VGlk1fl16OygfGx+mRSfHqSVQCQKsgLgH4FZfL0EeH\n",
              "y5SRZdM3ZWclSV06BuvBG+M0d1KCenTp6OUJAcC/EZcA/ILLZejDQ2VanmXTt8fdUdnVHKI5N8bp\n",
              "4Ynx6k5UAkCbIC4BtGsul6EPDpVqeZZNR46fkySFmUM0Z4I7Krt1JioBoC0RlwDaJafL0OaDpVqR\n",
              "ZZOtvC4qQ0P0qwnxenhCvCI6d/DyhAAQmIhLAO2K02Xo/S+PaXmWTbnfnZfkjsqHJ8brVxPiFdGJ\n",
              "qAQAbyIuAbQLTpehf35xTMu32pRXF5XhoSF6eGKC5kyIIyoBwEcQlwB8Wq3Tpfe+OKbMrXblnXBH\n",
              "ZUSnDpo7MV4PTohTeChRCQC+hLgE4JNqnS69c+CYMrfaVHDygiSpW+cOemRSgh4YH6swohIAfBJx\n",
              "CcCn1Dpdenv/UWVm21VYF5XdO3fQ3EkJevDGOHU1c9oCAF/GWRqAT6hxuvT2PndUFp1yR2WPLh31\n",
              "yKQE3T8+lqgEgHaCszUAr6pxurTx8xL9Nceu4lMXJUk9u3TUvMkJui85Vl2ISgBoVzhrA/CK6lqX\n",
              "Nu4rUeZWu46ecUdlr66Xo7JzR05PANAecfYG0Kaqa1168/NirczOvSIqzXp0SoLuvSFWnToGe3lC\n",
              "AEBLEJcA2oSj1ql/7C3Rqmy7jlVUSZJ6h5n16JRE3TMuhqgEAD9BXAJoVY5ap/6xp1grc3JVWheV\n",
              "kZei8oYYhXYgKgHAnxCXAFpFVY1Tb+wp1qqcXJVVuqOyT7hZC6Yk6q5xRCUA+CuPxuUHH3yg3/72\n",
              "t3K5XKqtrdX//M//6MEHH/TkXQDwcVU1Tr3+WZFWb8vV8UqHJKlveKgWpiTqzjHRRCUA+DmPxaVh\n",
              "GLrvvvuUk5OjYcOGqaCgQIMGDdKsWbMUFhbmqbsB4KOqapx6bbc7KsvPuqOyX0SoFk5N1J1jo2UO\n",
              "ISoBIBB49JlLk8mkM2fOSJIqKyvVs2dPmc1mT94FAB9zsdqpV3cXas32PH1XF5X9I0K1MMWiX4yJ\n",
              "IioBIMB4LC5NJpPeeOMNzZo1S126dNHp06e1adMmdezY8apjHQ6HHA5HgzWn0+mpUQC0gQvVtXr1\n",
              "0yKt2Z6nE+fcv88DunXSYykWzR4dpY4hQV6eEADgDR6Ly9raWv3xj3/Upk2bNHnyZO3Zs0c/+9nP\n",
              "dPDgQfXq1avBscuWLdPSpUsbrCUnJ3tqFACt6EJ1rTZ8Wqi12/N04ly1JCmquzsq7xhFVAJAoDMZ\n",
              "hmF44ob27t2re+65R0eOHKlfGzt2rJ555hnddNNNDY5t7JnLJUuWKCMjwxOjAGgF5x21euXTQj2/\n",
              "PU8nz7ujMrpHJy1KsWjWqCh1CCYqAQAefOYyOjpapaWl+vrrrzV48GDZ7Xbl5uZq4MCBVx1rNpuv\n",
              "ei9mcDDvywJ80TlHrV7eVaAXduTrVF1UxvTorEXTLPr5yAFEJQCgAY/FZZ8+fbR27VrdeeedCgoK\n",
              "ksvlUmZmpmJiYjx1FwDa0DlHrV76pEAv7MjT6Qs1kqTYnp21KMWimUQlAOAaPPpp8bvvvlt33323\n",
              "J28SQBs7W1Xjjsqd+TpTF5XxvbpoUYpFt4/orxCiEgDwPfiGHgCSpMqqGr34cYHW7cxXxUV3VCb0\n",
              "6qLHUy26bRhRCQBoGuISCHAVFy9FZZ4qq2olSQm9uyhtmlW3De+v4CCTlycEALQnxCUQoCou1uhv\n",
              "O/P1t4/zdbYuKi2RXfX4NIt+OoyoBAD8OMQlEGAqLtRo3cf5Wn9FVFojuyot1aoZ1/cjKgEALUJc\n",
              "AgHizIVqrduZrxc/LtBZhzsqk/rUReXQfgoiKgEAHkBcAn7u9PlqvbAzTy99UqhzdVE5qG+Y0lKt\n",
              "+sl1fYlKAIBHEZeAnzp1vlov7MjTS58U6Hy1U5I7KhdPt+rmIUQlAKB1EJeAnzl5zqHnd+Tr5V0F\n",
              "ulAXlUP6hSst1aqbh/QhKgEArYq4BPzEiXMOPb89T698Wlgfldf1D1d6qlU3Dekjk4moBAC0PuIS\n",
              "aOdOnHNo7fY8vbKrUBdr3FE5dEC4FqcmKXVwJFEJAGhTxCXQTpWfrdLabXnasLtQVTUuSdKwqAil\n",
              "p1o1bRBRCQDwDuISaGfKK6u0elueXt1dKEetOyqHR3fT4lSrpg7sTVQCALyKuATaifLKKq3alqvX\n",
              "dhfVR+WI6G5aPN2qKUlEJQDANxCXgI8rq6jS6m25eu2zIlXXReWomG5Kn56kydZeRCUAwKcQl4CP\n",
              "Kq24qFU5ufr7nuL6qBwT213p062aaCEqAQC+ibgEfMyxM+6ofGNPsaqd7qgcG9ddi6cn6cbEnkQl\n",
              "AMCnEZeAjzh65qJWZtv15t6S+qgcF99Di1OtGk9UAgDaCeIS8LKS0xe0MidXb+4tVo3TkCTdEN9D\n",
              "i6cnaXxiTy9PBwBA8xCXgJcUn7qglTl2vfV5SX1Ujk/oqfTpViUnEJUAgPaJuATaWNHJC/prtl0b\n",
              "95Wo1uWOygmWnkpPTdK4+B5eng4AgJYhLoE2UnTygjKzbdq476icdVE50dJL6dOtGhtHVAIA/ANx\n",
              "CbSyghPnlZlt19v7L0flJGsvLZ5u1ehYohIA4F+IS6CV5J84r8ytdr1z4HJUTknqrbRUq0bHdvfy\n",
              "dAAAtA7iEvCwvO/O1UdlXVNq6sDeSk+1amQMUQkA8G/EJeAh9vJzytxq03tfHKuPymmDIpWWatWI\n",
              "6G5enQ0AgLZCXAItZC8/qxVb7Xrvi2My6qJy+mB3VA6L6ubV2QAAaGsejUuHw6Enn3xSH330kUJD\n",
              "QzV8+HBt2LDBk3cB+Azb8bNavtWu97+8Mir7KD3VquujIrw7HAAAXuLRuPzNb34jk8mkI0eOyGQy\n",
              "qayszJM3D/iEb8vOavlWmz44WFoflTcP6aO0VKuGDiAqAQCBzWNxef78ea1bt04lJSX134Hct29f\n",
              "T9084HXflFVqRZZdmw+W1q/95Lq+ejzVouv6E5UAAEgejMvc3Fz16NFDzzzzjLZs2aJOnTrp97//\n",
              "vVJTU6861uFwyOFwNFhzOp2eGgXwqK9LK7U8y6YPD11+Jv7WoX2VlmrV4H7hXpwMAADf47G4rK2t\n",
              "VWFhoYYMGaI//elP2r9/v2666SYdPnxYffr0aXDssmXLtHTp0gZrycnJnhoF8IjDxyq0PMumjw4f\n",
              "lySZTNKMof30eKpFg/oSlQAANMZkGJfeNdYyJ06cUJ8+fVRdXa3g4GBJ0tixY7Vs2TJNnz69wbGN\n",
              "PXO5ZMkSZWRkeGIUoEUOHXVH5b+/uiIqr++ntGlWDewb5uXpAADwbR575rJXr15KTU3VRx99pBkz\n",
              "Zig/P1/5+fkaPHjwVceazWaZzeYGa5eCFPCWgyUVysiyacvXl6Pyp8P6K22aRdY+RCUAAE3h0U+L\n",
              "r169Wg8//LB+/etfKygoSGvWrNGAAQM8eReAx31ZckYZW2zK+qZckhRkkm4b3l+PT7PIEklUAgDQ\n",
              "HB6Ny4SEBGVnZ3vyJoFW80XxGWVk2bT1iqi8fcQALZpmUWLvrl6eDgCA9olv6EHA2V90WhlZNuV8\n",
              "+50kd1TOrIvKBKISAIAWIS4RMD4vdEfl9iPuqAwOMtVHZXyvLl6eDgAA/0Bcwu99XnhKf9li0w7b\n",
              "CUnuqJw1coAeS7EojqgEAMCjiEv4rT0Fp5Sxxaad9stReccod1TG9iQqAQBoDcQl/M7uvJPKyLLp\n",
              "k9yTkqSQIJNmj47SYykWRffo7OXpAADwb8Ql/ManeSeVscWmXXmXo/IXY6K1cGoiUQkAQBshLtGu\n",
              "GYahXXVRuTv/lCSpQ/DlqIzqTlQCANCWiEu0S4ZhaFfuSf1li02fFbijsmNwkO4cG6UFUy0a0K2T\n",
              "lycEACAwEZdoVwzD0Mf2k8rIOqI9BacluaPyl2OjtWBqovoTlQAAeBVxiXbBMAzttJ/QX7bY9Hlh\n",
              "XVSGBOnusdF6dGqi+kUQlQAA+ALiEj7NMAxtt51QxpYj2ld0RpI7Ku8ZF6NHpySqb0SodwcEAAAN\n",
              "EJfwSYZhKOfId8rYYtOB4jOSJHNIkO65wR2VfcKJSgAAfBFxCZ9iGIZyvv1Of8my6Yu6qAztEKR7\n",
              "b4jV/MkJiiQqAQDwacQlfIJhGNr6Tbkysmz6sqRCkjsq70+O1SOTExQZRlQCANAeEJfwKsMwtOXr\n",
              "ci3PsungUXdUduoQrPvHx+qRSQnqHWb28oQAAKA5iEt4hWEY+s9Xx5WRZdPhY5WSpM4dL0dlr65E\n",
              "JQAA7RFxiTblchn691fHtTzLpq9K3VHZpWOwHrgxTnMnxqsnUQkAQLtGXKJNuFyGPjpcpowsm74p\n",
              "OyvJHZUP3hinuZMS1KNLRy9PCAAAPIG4RKtyuQz963CZll8RlV3NIZpzY5wenhiv7kQlAAB+hbhE\n",
              "q3C5DH1wqFQrsuz69rg7KsPMIZozwR2V3ToTlQAA+CPiEh7ldBnafLBUK7JsspWfkySFhYboVxPi\n",
              "9fCEeEV07uDlCQEAQGsiLuERTpeh9788phVb7bJfEZUPT4zXrybEK6ITUQkAQCAgLtEiTpehf35x\n",
              "TCu22pT73XlJUnhoiB6emKA5E+KISgAAAgxxiR+l1unSe18cU+ZWu/JOuKMyolMHzZ0YrwcnxCk8\n",
              "lKgEACAQEZdollqnS+8eOKbMbLvy66KyW+cOemRSgh4YH6swohIAgIBGXKJJap0uvb3/qP6abVfB\n",
              "yQuSpO6dO2jupAQ9eGOcupp5KAEAgFaKy/Xr1+uhhx7S22+/rZkzZ7bGXaCN1DhdenvfUWVm21V0\n",
              "yh2VPbp01COTEnT/+FiiEgAANODxMigoKNDzzz+v5ORkT9802lCN06VN+0qUmW1X8amLkqSeXTpq\n",
              "3uQE3Zccqy5EJQAAaIRHC8Hlcmnu3LlasWKFnnzySU/eNNpIda1LG/eV6K/ZdpWcdkdlr66Xo7Jz\n",
              "R6ISAABcm0dL4bnnntOECRM0evTo7z3O4XDI4XA0WHM6nZ4cBc1UXevSm58Xa2V2ro6euRSVZj06\n",
              "JUH33hCrTh2DvTwhAABoDzwWl4cOHdLGjRu1ffv2Hzx22bJlWrp0aYM1Xkb3DketU2/uLdHKbLuO\n",
              "VVRJknqHmfXolETdMy6GqAQAAM3isbjcsWOHCgoKZLVaJUllZWWaN2+eSktLtWDBggbHPv3003ri\n",
              "iScarC1ZssRTo6AJHLVO/WNPsVbm5Kq0LiojL0XlDTEK7UBUAgCA5vNYXC5YsKBBRE6dOlWLFy9u\n",
              "9NPiZrNZZrO5wVpwMDHTFqpqnHpjT7FW5eSqrNIdlX3CzVowJVF3jSMqAQBAy/DpjABRVePU3z8r\n",
              "0qptuTpe6X6/a9/wUC1MSdSdY6KJSgAA4BGtFpc5OTmtddNohqoap17bXaTV23JVftYdlf0iQrVw\n",
              "aqLuHBstcwhRCQAAPIdnLv3UxWqnXt1dqDXb8/RdXVT2jwjVwhSLfjEmiqgEAACtgrj0M5eicvW2\n",
              "PJ04547KAd066bEUi2aPjlLHkCAvTwgAAPwZceknLlTXasOnhVq7PU8nzlVLkqK6u6PyjlFEJQAA\n",
              "aBvEZTt33lGrVz4t1PPb83TyvDsqo3t00qIUi2aNilKHYKISAAC0HeKynTrvqNXLuwr1/I48naqL\n",
              "ypgenbVomkU/HzmAqAQAAF5BXLYz5xy1eumTAr2wI0+nL9RIkmJ7dtaiFItmEpUAAMDLiMt24mxV\n",
              "jTsqd+brTF1UxvfqokUpFt0+or9CiEoAAOADiEsfV1lVo5c+dkdlxUV3VCb06qLHUy26bRhRCQAA\n",
              "fAtx6aMqq2q0fmeB1u3MU2VVrSQpoXcXpU2z6rbh/RUcZPLyhAAAAFcjLn1MxcUa/W1nvv72cb7O\n",
              "1kWlJbKrHp9m0U+HEZUAAMC3EZc+ouJCjdZ9nK/1V0SlNbKr0lKtmnF9P6ISAAC0C8Sll525UK11\n",
              "O/P14scFOutwR2VSn7qoHNpPQUQlAABoR4hLLzl9vi4qPynQubqoHNgnTOnTrfrJdX2JSgAA0C4R\n",
              "l23s1PlqvbAjTy99UqDz1U5J0qC+YUpPteoWohIAALRzxGUbOXnOoed35OvlXQW6UBeVQ/qFKy3V\n",
              "qpuH9CEqAQCAXyAuW9nJcw6t3ZGnV3YV1kfldf3DlZ5q1U1D+shkIioBAID/IC5byYlzDq3d7o7K\n",
              "izXuqBw6IFzpqUmaPjiSqAQAAH6JuPSw8rNVWrstTxt2F6qqxiVJGhYVofRUq6YNIioBAIB/Iy49\n",
              "pPxsldZsy9OrV0Tl8KgILZ6epKkDexOVAAAgIBCXLVReWaVV23L12u4iOWrdUTkiupvSp1s1NYmo\n",
              "BAAAgYW4/JHKKqq0eluuXvusSNV1UTkqppvSpydpsrUXUQkAAAIScdlMpRUXtTonV6/vKa6PytGx\n",
              "3bV4ulUTLUQlAAAIbMRlEx07c1GrcnL1xp5iVTvdUTk2rrvSU5M0wdKTqAQAABBx+YOOnrmoVTl2\n",
              "/WNPSX1UjovvocWpVo1PJCoBAACuRFxeQ8npC1qZk6s39xarxmlIkm6I76HF05M0PrGnl6cDAADw\n",
              "TcTl/1F86oJW5tj11ucl9VE5PqGn0qdblZxAVAIAAHwfj8VlVVWV7rrrLn311Vfq1KmTIiMjtWrV\n",
              "KlksFk/dRasqPnVBf812R2Wtyx2VEyw9lZ6apHHxPbw8HQAAQPvg0Wcu582bp1tvvVUmk0mZmZma\n",
              "O3eucnJyPHkXHld08oIys23atO9ofVROtPRS+nSrxsYRlQAAAM3hsbgMDQ3VjBkz6v+enJysZ599\n",
              "1lM373EFJ84rM9uut/cflbMuKidZe2nxdKtGxxKVAAAAP0arvecyIyNDt99+e6OXORwOORyOBmtO\n",
              "p7O1RmmgvLJK/+9f3+qdA5ejckpSb6WlWjU6tnubzAAAAOCvWiUun3nmGdntdmVlZTV6+bJly7R0\n",
              "6dIGa8nJya0xylVCgoP04aFSOV2Gpg7srfRUq0bGEJUAAACeYDIMw/DkDT777LP6+9//ri1btqhb\n",
              "t26NHtPYM5dLlixRRkaGJ0e5pk37SpTQu6tGRHdrk/sDAAAIFB595vK5557T66+//r1hKUlms1lm\n",
              "s7nBWnBwsCdH+V6zRkW12X0BAAAEEo/FZUlJiZ588kklJCQoJSVFkjsid+/e7am7AAAAgI/zWFxG\n",
              "RUXJw6+wAwAAoJ0J8vYAAAAA8B/EJQAAADyGuAQAAIDHEJcAAADwGOISAAAAHkNcAgAAwGOISwAA\n",
              "AHgMcQkAAACPIS4BAADgMSbDR75WZ9asWYqLi2uT+3I6nfrss880bty4Nv1Oc1/Hvlwbe9M49uXa\n",
              "2JvGsS/Xxt40jn25Nm/sTWxsrNLT07/3GJ+Jy7ZUWVmpiIgIVVRUKDw83Nvj+Az25drYm8axL9fG\n",
              "3jSOfbk29qZx7Mu1+ere8LI4AAAAPIa4BAAAgMcQlwAAAPCYgIxLs9ms3/3udzKbzd4exaewL9fG\n",
              "3jSOfbk29qZx7Mu1sTeNY1+uzVf3JiA/0AMAAIDWEZDPXAIAAKB1EJcAAADwGOISAAAAHuPXcWmz\n",
              "2XTjjTcqKSlJY8eO1eHDhxs9bt26dbJarUpMTNQjjzyimpqaNp60bTVlX3JyctSpUyeNGDGi/s/F\n",
              "ixe9MG3bSUtLU1xcnEwmkw4cOHDN4wLt8SI1bW8C8TFTVVWlmTNnKikpScOHD9dNN90ku93e6LHv\n",
              "v/++Bg0aJKvVqlmzZqmysrKNp207Td2XgoICBQcHN3jM5ObmemHitnXzzTdr2LBhGjFihCZNmqT9\n",
              "+/c3elygnWuasi+BeJ65ZP369TKZTHrnnXcavdynzjGGH0tJSTHWr19vGIZhvPnmm8aYMWOuOiYv\n",
              "L8/o16+fUVpaarhcLuO2224zMjMz23jSttWUfcnOzjaGDx/etoN52bZt24zi4mIjNjbW2L9/f6PH\n",
              "BOLjxTCatjeB+Ji5ePGisXnzZsPlchmGYRgrVqwwpkyZctVxZ8+eNSIjI42vv/7aMAzDeOyxx4z/\n",
              "/u//bstR21RT9yU/P9+IiIho2+F8wOnTp+v/edOmTcawYcOuOiYQzzVN2ZdAPM8Yhvt3Zfz48UZy\n",
              "crLx9ttvX3W5r51j/PaZy/Lycu3du1f33XefJOmOO+5QcXHxVf/v+a233tLPfvYz9e3bVyaTSY8+\n",
              "+qhef/11b4zcJpq6L4Fo8uTJioqK+t5jAu3xcklT9iYQhYaGasaMGTKZTJKk5ORkFRQUXHXchx9+\n",
              "qJEjR2rQoEGSpIULF/r146ap+xKounXrVv/PFRUV9ft0pUA81zRlXwKRy+XS3LlztWLFimv+J4d8\n",
              "7Rzjt3FZXFysfv36KSQkRJJkMpkUExOjoqKiBscVFRUpNja2/u9xcXFXHeNPmrovkpSbm6tRo0Zp\n",
              "7NixWrlyZVuP6pMC7fHSXIH+mMnIyNDtt99+1Xpjj5vS0lLV1ta25Xhec619kaTz589r7NixGjVq\n",
              "lP7whz/I6XS28XTe8cADDyg6OlpLlizRK6+8ctXlgXqu+aF9kQLvPPPcc89pwoQJGj169DWP8bVz\n",
              "TIhX7hU+b9SoUSopKVFERIRKSko0Y8YM9erVS3feeae3R4OPCvTHzDPPPCO73a6srCxvj+JTvm9f\n",
              "+vXrp6NHjyoyMlKnTp3SL3/5S/35z3/WU0895YVJ29bLL78sSXrppZf061//Wh988IGXJ/INP7Qv\n",
              "gXaeOXTokDZu3Kjt27d7e5Rm8dtnLqOjoxtUu2EYKioqUkxMTIPjYmJiVFhYWP/3goKCq47xJ03d\n",
              "l/DwcEVEREiSoqKidPfdd2vHjh1tPq+vCbTHS3ME8mPm2Wef1aZNm/Thhx+qc+fOV13e2OPmylcQ\n",
              "/NUP7YvZbFZkZKQkqUePHnrooYcC5jFzyYMPPqjs7GydPHmywXqgn2uutS+Bdp7ZsWOHCgoKZLVa\n",
              "FRcXp08//VTz5s3TqlWrGhzna+cYv43LyMhIjRo1Shs2bJAkbdy4UVFRUbJYLA2Ou+OOO/Tee++p\n",
              "rKxMhmFo9erVuuuuu7wxcpto6r6UlpbK5XJJks6ePav3339fI0eObPN5fU2gPV6aI1AfM88995xe\n",
              "f/11/ec//2nwnrEr/eQnP9G+ffv0zTffSJJWrlzp94+bpuxLeXl5/SegHQ6HNm3a5PePmTNnzujY\n",
              "sWP1f3/nnXfUs2dP9ejRo8FxgXauaeq+BNp5ZsGCBSotLVVBQYEKCgqUnJystWvXasGCBQ2O87lz\n",
              "jNc+StQGvvnmGyM5OdmwWq3G6NGjjS+//NIwDMN4+OGHjXfffbf+uLVr1xoJCQlGQkKC8dBDDxnV\n",
              "1dXeGrlNNGVfVqxYYQwZMsQYNmyYMWTIEON3v/td/Sc//dW8efOMAQMGGMHBwUZkZKSRmJhoGAaP\n",
              "F8No2t4E4mOmuLjYkGQkJCQYw4cPN4YPH26MGzfOMAzDWLJkibFq1ar6Y999911j4MCBRmJionH7\n",
              "7bcbZ86c8dbYra6p+7Jx40bjuuuuq3/MLFq0yKiqqvLm6K2uoKDAGDt2rDF06FBj2LBhRmpqav1/\n",
              "gSGQzzVN3ZdAPM9cacqUKfWfFvflcwzfLQ4AAACP8duXxQEAAND2iEsAAAB4DHEJAAAAjyEuAQAA\n",
              "4DHEJQAAADyGuAQAAIDHEJcAAADwGOISAAAAHkNcAgAAwGOISwAAAHgMcQkAAACP+f8BDXVpJLWL\n",
              "gL4AAAAASUVORK5CYII=\n",
              "\">\n",
              "      </div>\n",
              "      <script type=\"text/javascript\">\n",
              "        (() => {\n",
              "          const chartElement = document.getElementById(\"chart-a44383d0-dfe4-43d0-b8f7-6161f1cc15aa\");\n",
              "          async function getCodeForChartHandler(event) {\n",
              "            const chartCodeResponse =  await google.colab.kernel.invokeFunction(\n",
              "                'getCodeForChart', [\"chart-a44383d0-dfe4-43d0-b8f7-6161f1cc15aa\"], {});\n",
              "            const responseJson = chartCodeResponse.data['application/json'];\n",
              "            await google.colab.notebook.addCell(responseJson.code, 'code');\n",
              "          }\n",
              "          chartElement.onclick = getCodeForChartHandler;\n",
              "        })();\n",
              "      </script>\n",
              "      <style>\n",
              "        .colab-quickchart-chart-with-code  {\n",
              "            display: block;\n",
              "            float: left;\n",
              "            border: 1px solid transparent;\n",
              "        }\n",
              "\n",
              "        .colab-quickchart-chart-with-code:hover {\n",
              "            cursor: pointer;\n",
              "            border: 1px solid #aaa;\n",
              "        }\n",
              "      </style>"
            ]
          },
          "metadata": {}
        },
        {
          "output_type": "display_data",
          "data": {
            "text/plain": [
              "from matplotlib import pyplot as plt\n",
              "_df_15['col4'].plot(kind='line', figsize=(8, 4), title='col4')\n",
              "plt.gca().spines[['top', 'right']].set_visible(False)"
            ],
            "text/html": [
              "      <div class=\"colab-quickchart-chart-with-code\" id=\"chart-e8cd55ac-e21a-45ed-869e-e88271c792bd\">\n",
              "        <img style=\"width: 180px;\" src=\"data:image/png;base64,iVBORw0KGgoAAAANSUhEUgAAApcAAAFuCAYAAADUGTPdAAAAOXRFWHRTb2Z0d2FyZQBNYXRwbG90\n",
              "bGliIHZlcnNpb24zLjcuMSwgaHR0cHM6Ly9tYXRwbG90bGliLm9yZy/bCgiHAAAACXBIWXMAAA9h\n",
              "AAAPYQGoP6dpAAA5d0lEQVR4nO3deXTU9b3/8dckgQlLEpYQtuyZCYvIKhhkZ4K2/Kpykdq6tFJB\n",
              "EMWEo/dq/Z1yWnp6pL9zej0NUDalVEW9VsGlorUlJCyKiAIKuDCTPZAQWULYMklmvr8/JgRyCZqY\n",
              "SWYy83yc03PMJ9+ZeefTb74+ncwkJsMwDAEAAABeEOLrAQAAABA4iEsAAAB4DXEJAAAAryEuAQAA\n",
              "4DXEJQAAALyGuAQAAIDXEJcAAADwGuISAAAAXkNcAgAAwGuISwBoY4WFhTKZTHI4HL4eBQDaHHEJ\n",
              "AD709ttvy2Qy6f777/f1KADgFcQlAPjIyZMntWTJEk2YMMHXowCA1xCXANBMly5d0m9+8xulpqYq\n",
              "IiJCycnJeuGFFyRJf/vb3zRs2DBFRkZq2LBhDevfZeHChcrMzJTFYmnr0QGg3YT5egAA6Cgeeugh\n",
              "HT16VG+//bYGDx6ssrIylZeXa/PmzcrIyNCbb76pqVOnKicnR7NmzVJUVJRmzZrV5H1t2rRJFRUV\n",
              "ysjI0IMPPti+XwgAtCHiEgCa4eTJk3r55Ze1b98+DRkyRJI0YMAADRgwQE8//bTmzZsnm80mSUpP\n",
              "T9e8efO0du3aJuPy2LFjeuqpp5Sbm6uQEH6ABCCwcFUDgGYoKCiQJA0aNOiaz5WUlCglJaXRmsVi\n",
              "UXFxcZP3NW/ePD3xxBOyWq3eHxQAfIxnLgGgGRITEyVJR48e1ZgxYxp9Li4uTnl5eY3W8vLyFB8f\n",
              "3+R9ffDBB9q3b5+eeeYZSdL58+clSf/85z917Ngxmc1mL08PAO2HZy4BoBn69Omje+65R48++qi+\n",
              "+eYbSVJZWZn279+v+fPn669//atyc3Plcrm0fft2bdiwQQsWLGjyvkpKSvT555/r4MGDOnjwoO64\n",
              "4w7NnDlTBw8eJCwBdHg8cwkAzfTcc8/p97//vX784x+roqJCMTExWrZsmX7xi1/o7NmzeuSRR1RS\n",
              "UqL4+HhlZWVp9uzZTd5PbGxso4+7du2qurq6a9YBoCMyGYZh+HoIAAAABAZ+LA4AAACvIS4BAADg\n",
              "NcQlAAAAvIa4BAAAgNcQlwAAAPAa4hIAAABeQ1wCAADAa/wmLrOysnw9AgAAAFrJb+KyqKjI1yMA\n",
              "AACglfwmLgEAANDxEZcAAADwGuISAAAAXkNcAgAAwGuISwAAAHgNcQkAAACvIS4BAADgNcQlAAAA\n",
              "vIa4BAAAgNcQlwAAAPAa4hIAAKADMgxDdS63r8e4BnEJAADQgRiGoX8dKdftq3brbx8V+nqca4T5\n",
              "egAAAAB8P7fb0L++PKEV2XZ9WVYlSTpfXacHJyQpJMTk4+muIC4BAAD8mCcqy/XnbXZ9XX5OktSt\n",
              "c6jmTkjUvInJfhWWEnEJAADgl9xuQ/88Uq4V2Veisrs5THNvSdS8iUnq2a2zjydsGnEJAADgR9xu\n",
              "Q+8dLtPKbIe+OeGJyghzmH41IVEPTkxSj67+GZWXEZcAAAB+wOU29N6hMq3ItstecV6SFBEepgcn\n",
              "JOnBCUmK6trJxxM2D3EJAADgQy63oXe/OK6V2x1y1EdlZHiYHpyYpF9NSFJUl44RlZcRlwAAAD7g\n",
              "chv6x+fHtXK7XXnfXpDkicr5k5I1d0KiIsM7VlReRlwCAAC0ozqXW//44rhWZjuUf9ITlVFdOmn+\n",
              "xCQ90IGj8jLiEgAAoB3Uudx6++BxrcpxqKA+Knt07aSHJiXrl+MTFNHBo/Iy4hIAAKAN1bncevPA\n",
              "Mf0lx6HCUxclST27dtJDk5P1y/GJ6m4OrBwLrK8GAADAT9TWR+Wq7Q4Vn/ZEZa9unRueqewWYFF5\n",
              "WWB+VQAAAD5S63Jry/5SrcpxqOT0JUlS726dtWBysu5PC9yovCywvzoAAIB2UlPn1ub9pfpLjkOl\n",
              "ZzxRGd29sxZOTtF9afHq2jk4sis4vkoAAIA2UlPn1hufeaLyWOXlqDTr4SnJuu/mBHXpHOrjCdtX\n",
              "SEsOzsjIUGJiokwmkw4ePNiw/t5772n06NEaOXKkhg0bphdeeMHbcwIAAPgVZ51Lmz4u0rQ/5er/\n",
              "vnlIxyovqU+EWUt/MlS7npym+ZOSgy4spRY+czlnzhw9+eSTmjhxYsOaYRi6//77lZubq+HDh6uw\n",
              "sFCDBw/W7NmzFRER4fWBAQAAfMlZ59Lf95VoTW6ejp+tliTFRJi1aGqK7hkXr/BOwReUV2tRXE6e\n",
              "PLnJdZPJpMrKSklSVVWVevfuLbPZ3OrhAAAA/EV1rUt//7REq3PyVF7licq+kWYtmpKinxOVDVr9\n",
              "mkuTyaTXXntNs2fPVrdu3XTmzBlt2bJFnTt3vu5tnE6nnE5nozWXy9XaUQAAALyuutal//mkWGt2\n",
              "5OlEladf+kWG65FpKbr7pjii8n9pdVzW1dXpD3/4g7Zs2aLJkydr3759uuOOO3To0CFFR0c3eZvl\n",
              "y5dr2bJljdbS0tJaOwoAAIDXVNe69MreYq3dkaeKc56o7B8VrkemWXT3TbEyhxGVTWl1XB48eFDH\n",
              "jx9v+JH52LFjFRsbqwMHDmjGjBlN3ubpp5/W448/3mht6dKlrR0FAACg1aprXXq5Piq/rY/KAfVR\n",
              "+VOi8nu1Oi7j4uJUVlamr776SkOGDJHD4VBeXp4GDRp03duYzeZrXpMZGsr/UQAAwHcu1bj08t4i\n",
              "rd2Rr5PnPVE5sEcXPTrNojljYtU5rEW/ZCdotSguFy5cqK1bt6q8vFy33XabIiIi5HA4tH79et19\n",
              "990KCQmR2+3WqlWrFB8f31YzAwAAeM3Fmjpt+rhI63fm6+T5GklSbM8uWjzNotmjicqWMhmGYfh6\n",
              "CEl6/PHH9eyzz/p6DAAAECQu1tTppT2eqDx1wROVcb2uRGWnUKLyh+Av9AAAgKBywVmnF/cU6bld\n",
              "+TpdH5UJvbvq0WkW/ceogURlKxGXAAAgKJx31umFjwr1/K58nblYK8kTlY9Nt2rWyAEKIyq9grgE\n",
              "AAAB7Vx1bcMzlZX1UZkU3U2Lp1l0J1HpdcQlAAAISFXVtXrhw0I9v7tAZy95ojI5upses1l0+3Ci\n",
              "sq0QlwAAIKBUVddq4+5Cbdidr6rqOklScp9uyrRZ9ZPhAxQaYvLxhIGNuAQAAAHh7KVabfywQH/d\n",
              "XdAQlZaY7npsuoWobEfEJQAA6NDOXqzVhg8LtPHDAp2rj0prTHdl2KyaeWN/orKdEZcAAKBDqrxY\n",
              "ow27C/S3Dwt1zumJytS+3ZVpS9WPh/VTCFHpE8QlAADoUM5cqI/Kjwp1vj4qB/eLUIbNqh/dQFT6\n",
              "GnEJAAA6hNMXavT8rny98FGhLtS4JElD+kcq02bRrUOJSn9BXAIAAL926rxTz+0q0It7CnWxPiqH\n",
              "9o9UZrpVM4b0JSr9DHEJAAD80qnzTq3fla+X9hQ1ROUNAyKVabNqxtC+MpmISn9EXAIAAL9y8rxT\n",
              "63d6ovJSrScqbxwYpUybVbYhMUSlnyMuAQCAX6g4V631O/K1aW+RqmvdkqThsVFakm7VtEFEZUdB\n",
              "XAIAAJ+qOFetdTvy9fJVUTkiroeW2KyaOqgPUdnBEJcAAMAnKqqqtWZHnl7ZWyxnnScqR8X3UKbN\n",
              "qimpRGVHRVwCAIB2VX62Wmt35OmVT4pVUx+Vo+N7aEl6qiZZo4nKDo64BAAA7aLs7CWtzc3Tq/tK\n",
              "GqLypoSeyky3aqKFqAwUxCUAAGhTxysvaU1unl7bV6Ialycqxyb21JL0VN2S0puoDDDEJQAAaBPH\n",
              "Ki9pTa5Df99X2hCV45J6aYnNqvFEZcAiLgEAgFeVnrmo1bl5ev3TEtW6DElSWnIvZdpSNT6lt4+n\n",
              "Q1sjLgEAgFeUnL6o1bkOvfFZaUNUjk/urcx0q9KSicpgQVwCAIBWKTl9UX/J8URlndsTlRMsvZVp\n",
              "S9W4pF4+ng7tjbgEAAA/SPGpi1qVY9eW/ccaonKSNVqZNqtuSiQqgxVxCQAAWqTw5AWtynHozQPH\n",
              "5LoqKpekWzUmgagMdsQlAABoloKTF7Rqu0NvHbwSlVNS+yjDZtWYhJ4+ng7+okVxmZGRoXfeeUdF\n",
              "RUU6cOCARo4cKUlyOp164okn9MEHHyg8PFwjRozQpk2b2mJeAADQzvK/Pd8QlfVNqWmDPFE5Kp6o\n",
              "RGMtiss5c+boySef1MSJExut//rXv5bJZNLRo0dlMplUXl7u1SEBAED7c1Sc16rtdr3z+fGGqJw+\n",
              "OEYZNqtGxvXw6WzwXy2Ky8mTJ1+zduHCBW3YsEGlpaUNvwy1X79+3pkOAAC0O0fFOa3c7tA7nx+X\n",
              "UR+V6UM8UTk8todPZ4P/a/VrLvPy8tSrVy8988wz2rZtm7p06aLf/e53stls172N0+mU0+lstOZy\n",
              "uVo7CgAAaAX7iXNasd2hd7+4EpUzhvZVps2qYQOjfDscOoxWx2VdXZ2Kioo0dOhQ/fGPf9SBAwc0\n",
              "Y8YMHTlyRH379m3yNsuXL9eyZcsaraWlpbV2FAAA8AN8U35OK7bb9d6hsoaovHVoX2UQlfgBWh2X\n",
              "8fHxCgkJ0X333SdJGjVqlJKSknTo0KHrxuXTTz+txx9/vNHa0qVLWzsKAABoga/Lq7Qy26Gth8oa\n",
              "1n50Qz89ZrPohgFEJX6YVsdldHS0bDabPvjgA82cOVMFBQUqKCjQkCFDrnsbs9kss9ncaC00NLS1\n",
              "owAAgGb4qqxKK7Ltev/wlTfgzryxnx6bbtWQ/pE+nAyBoEVxuXDhQm3dulXl5eW67bbbFBERIYfD\n",
              "obVr12revHl66qmnFBISonXr1mngwIFtNTMAAPgBjhw/qxXZdn1w5IQkyWSSZg7rr8dsFg3uR1TC\n",
              "O1oUl+vWrWtyPTk5WTk5OV4ZCAAAeNfhY2eVlW3Xv7+8EpX/58b+yrBZldo3wsfTIdDwF3oAAAhQ\n",
              "h0o9UbntqytRefvwAXpsukVWohJthLgEACDAfFFaqaxtdmV/XSFJCjFJt4/wRKUlhqhE2yIuAQAI\n",
              "EAdLKpW17ahyvvlWkicq7xw5UIunW5TSp7uPp0OwIC4BAOjgDhSfUVa2XblXReWsUQO1eJpFyUQl\n",
              "2hlxCQBAB/VZkScqdx71RGVoiEmz6p+pTIru5uPpEKyISwAAOphPC08rK9uuXfaTkjxROXvUQD06\n",
              "zaJEohI+RlwCANBB7Cs8raxtdu12eKIyLMSku0bH6tFpFsX37urj6QAP4hIAAD+3N/+UsrLt+ijv\n",
              "lCRPVM4Z44nKuF5EJfwLcQkAgJ/ak3dKWdlH9XH+aUlSp1CT5oyJ0yNTU4hK+C3iEgAAP2IYhvbk\n",
              "n1LWNrv2FlyJyrtvitOiqSmK7UlUwr8RlwAA+AHDMLQn75T+vM2uTwo9Udk5NER3j43VoqkWDezR\n",
              "xccTAs1DXAIA4EOGYehDh+fH3/sKz0jyROXPxnqeqRxAVKKDIS4BAPABwzC0y35SWdl2fVZUH5Vh\n",
              "IbpnbJwenpqi/lFEJTom4hIAgHZkGIZ22k/qz9uO6kBxpSRPVN47Ll4PT0lRv6hw3w4ItBJxCQBA\n",
              "OzAMQ7lHv1XWNrsOllRKksxhIbr3Zk9U9o0kKhEYiEsAANqQYRjK+aZCWdvs+rz0rCQpvFOI7rs5\n",
              "QQsnJyuGqESAIS4BAGgDhmFo+9cVysq264urovIXaQlaMDlFfSLMPp4QaBvEJQAAXmQYhrZ9VaEV\n",
              "2XYdOuaJyi6dQvWL8Ql6aFIyUYmAR1wCAOAFhmHoX1+e0Ipsu44cr5Ikde18JSqjuxOVCA7EJQAA\n",
              "reB2e6IyK9uur8o8Udmtc6h+eUuiHpqUrF7dOvt4QqB9EZcAAPwAbrehD46UKyvbrq/Lz0nyROUD\n",
              "tyRqPlGJIEZcAgDQAm63ofcPl2tFtl3fnPBEZXdzmObekqh5E5PUk6hEkCMuAQBoBrfb0HuHy7Qi\n",
              "266jJ85LkiLMYfrVhEQ9ODFJPboSlYBEXAIA8J1cbkNbD5VpZbZd9or6qAwP068mJGnehCRFde3k\n",
              "4wkB/0JcAgDQBJfb0LtfHNeKbLvyvr0gSYoMD9ODE5P0qwlJiupCVAJNIS4BALiKy23oH58f14rt\n",
              "duVfFZXzJyVr7oRERYYTlcB3CWnJwRkZGUpMTJTJZNLBgwev+fzGjRtlMpn01ltveWk8AADaR53L\n",
              "rS37SzXj2R1a8tpB5X97QVFdOumJGana/evpyrBZCUugGVr0zOWcOXP05JNPauLEidd8rrCwUM89\n",
              "95zS0tK8NhwAAG2tzuXWWwePa9V2uwpPXZQk9ejaSQ9NStYvxycogqAEWqRFcTl58uQm191ut+bP\n",
              "n6+VK1fqiSee8MpgAAC0pTqXW28eOKZVOQ4V1Udlz66d9NDkZP1yfKK6m3nlGPBDeOU759lnn9WE\n",
              "CRM0ZsyYZh3vdDrldDobrblcLm+MAgDAd6p1ufXmfk9UFp/2RGWvbp0bnqnsRlQCrdLq76DDhw9r\n",
              "8+bN2rlzZ7Nvs3z5ci1btqzRGj9OBwC0pVqXW5s/K9Vfch0qOX1JktS7W2ctmJys+9OISsBbWv2d\n",
              "tGvXLhUWFspqtUqSysvLtWDBApWVlWnRokVN3ubpp5/W448/3mht6dKlrR0FAIBr1NS5tXl/qVZt\n",
              "d+hYpScqo7tficqunYlKwJta/R21aNGiRhE5depULVmyRLNmzbrubcxms8xmc6O10NDQ1o4CAECD\n",
              "mjq3Xv+sRKtz8q6KSrMenpKs+25OUJfO/HsHaAstisuFCxdq69atKi8v12233aaIiAg5HI62mg0A\n",
              "gBZz1rn0909LtSbHoeNnqyVJfSLMenhKiu4dF09UAm2sRXG5bt267z0mNzf3h84CAMAP5qxz6e/7\n",
              "SrQ6N09l9VEZczkqb45XeCeiEmgPvNAEANChVde69Nq+Eq3JzVN5lScq+0aatWhKin4+jqgE2htx\n",
              "CQDokKprXXr1k2Kt3ZGnE1WeX2/XLzJcj0xL0d03xRGVgI8QlwCADqW61qVX9nqisuKcJyr7R4Xr\n",
              "kakpuntsnMxhRCXgS8QlAKBDuFTj0st7i7RuZ76+rY/KAVHhemSaRT+9KZaoBPwEcQkA8GsXa+r0\n",
              "8sfFWrczXyfPe6JyYI8uenSaRXPGxKpzWIiPJwRwNeISAOCXLtbUadPHRVq/M18nz9dIkmJ7eqLy\n",
              "rtFEJeCviEsAgF+54KzTSx8X6bmd+Tp1wROVcb26aPE0i2aPjlWnUKIS8GfEJQDAL5x31unFPYV6\n",
              "fleBTtdHZXyvrlo83aL/GDWQqAQ6COISAOBT5511euGjQj2/K19nLtZKkhJ6d9XiaRbNIiqBDoe4\n",
              "BAD4xLnqWk9U7i5QZX1UJkV30+JpFt05coDCiEqgQyIuAQDtqqq6Vn/7sFAbdhfo7CVPVCZHd9Nj\n",
              "NotuH05UAh0dcQkAaBdnL12OynxVVddJkpL7dFPGdKtuHzFAoSEmH08IwBuISwBAmzp7qVZ/3V2g\n",
              "v35YoHP1UWmJ6a7Hplv0k+FEJRBoiEsAQJs4e7FWG3bna+OHhTrn9ESlNaa7MmxWzbyxP1EJBCji\n",
              "EgDgVZUXa7Rhd4H+dlVUpvatj8ph/RVCVAIBjbgEAHjFmQs1en53vl74qEjn66NycL8IZdis+tEN\n",
              "/YhKIEgQlwCAVjl9oUbP78rXCx8V6kKNS5InKpekW3XrUKISCDbEJQDgBzl13qnndhXoxT2Fulgf\n",
              "lUP7RyrDZtWtQ/sSlUCQIi4BAC1y8rxTz+3M10sfFzVE5Q0DIpVps2rG0L4ymYhKIJgRlwCAZvn2\n",
              "nFPP7crXS3uKdKnWE5XDBkZqiS1VtiExRCUAScQlAOB7VJyr1vod+dq0t0jVtW5J0vDYKGXarJo+\n",
              "mKgE0BhxCQBoUkVVtdbuyNfLe4vkrPNE5Yi4Hlpis2rqoD5EJYAmEZcAgEZOVFVr7Y48vbK3uCEq\n",
              "R8b10JJ0q6akEpUAvhtxCQCQJJWfrY/KT4pVUx+Vo+N7KDM9VZOt0UQlgGYhLgEgyJWdvaQ1uXn6\n",
              "n30lDVF5U0JPZaZbNdFCVAJoGeISAILU8UpPVL62r0Q1Lk9Ujk3sqSXpqbolpTdRCeAHaVFcZmRk\n",
              "6J133lFRUZEOHDigkSNHqrq6Wj//+c/15ZdfqkuXLoqJidGaNWtksVjaamYAQCscq7yk1TkO/f3T\n",
              "EtW6DEnSuKReWmKzajxRCaCVWhSXc+bM0ZNPPqmJEyc2Wl+wYIF+/OMfy2QyadWqVZo/f75yc3O9\n",
              "OScAoJVKz1zU6tw8vX5VVN6c1EtL0lM1PqW3j6cDEChaFJeTJ0++Zi08PFwzZ85s+DgtLU1/+tOf\n",
              "Wj8ZAMArSk5f1Opch974rLQhKscn91ZmulVpyUQlAO/y+msus7KydOedd37nMU6nU06ns9Gay+Xy\n",
              "9igAENSKT13UX3Ic2ry/VHVuT1ROsPRWpi1V45J6+Xg6AIHKq3H5zDPPyOFwKDs7+zuPW758uZYt\n",
              "W9ZoLS0tzZujAEDQKj51Uaty7Nq8/5hc9VE50RKtzHSrxiYSlQDaltfi8k9/+pO2bNmibdu2qWvX\n",
              "rt957NNPP63HH3+80drSpUu9NQoABKXCkxe0KsehNw9cicpJ1mgtSbdqTAJRCaB9eCUun332Wb36\n",
              "6qvatm2bevTo8b3Hm81mmc3mRmuhoaHeGAUAgk7ByQtaud2utw8eb4jKKal9lGGzakxCTx9PByDY\n",
              "tCguFy5cqK1bt6q8vFy33XabIiIilJubqyeeeELJycmaNm2aJE887t27t00GBgB45H97Xqu2O/TW\n",
              "wWOqb0pNHdRHmTarRsUTlQB8o0VxuW7duibXDcPwyjAAgO/nqDivVdvteufz4w1ROX1wjDJsVo2M\n",
              "6+HT2QCAv9ADAB2Eo+KcVmQ79I8vjuvyf9OnD/FE5fDYHj6dDQAuIy4BwM/ZT5zTiu0OvdsoKvsq\n",
              "02bVjbFRvh0OAP4X4hIA/NQ35ee0Yrtd7x0qa4jKW4f2VYbNqmEDiUoA/om4BAA/83V5lVZk2/Xe\n",
              "ofKGtR/d0E+P2Sy6YQBRCcC/EZcA4Ce+KvNE5fuHr0Tlj4f1U4bNqiH9I304GQA0H3EJAD525PhZ\n",
              "rci264MjJyRJJpM0c1h/PWazaHA/ohJAx0JcAoCPHD52VlnZdv37yytR+X9u7K8Mm1WpfSN8PB0A\n",
              "/DDEJQC0s0Olnqjc9tWVqPzJ8AHKmG6RlagE0MERlwDQTr4orVTWNruyv66QJIWYpNtHDNBj0y2y\n",
              "xBCVAAIDcQkAbexgSaWyth1VzjffSvJE5Z0jB2rxdItS+nT38XQA4F3EJQC0kQPFZ5SVbVfuVVE5\n",
              "qz4qk4lKAAGKuAQAL/usyBOVO496ojI0xNQQlUnR3Xw8HQC0LeISALzk08LTysq2a5f9pCRPVP7H\n",
              "qIFaPM2iRKISQJAgLgGglfYVnlbWNrt2O65E5V2jB+rRaRYl9CYqAQQX4hIAfqC9+aeUlW3XR3mn\n",
              "JElhISbNGROrR6dZFNerq4+nAwDfIC4BoIX25J1SVvZRfZx/WpInKn96U6wemUpUAgBxCQDNYBiG\n",
              "9uSfUtY2u/YWeKKyU6hJP70pTo9MTVFsT6ISACTiEgC+k2EY+ijPE5WfFF6Jyp+NjdOiqRYN7NHF\n",
              "xxMCgH8hLgGgCYZh6EPHKf1521F9WnRGktQ5NKQ+KlM0gKgEgCYRlwBwFcMwtMt+UlnZdn12OSrD\n",
              "QnTP2Dg9PDVF/aOISgD4LsQlAMgTlTuOfqusbLsOFFdK8kTlvePi9fCUFPWLCvftgADQQRCXAIKa\n",
              "YRjKPfqtsrbZdbCkUpJkDgvRvTd7orJvJFEJAC1BXAIISoZhKOebCmVts+vz0rOSpPBOIbrv5gQt\n",
              "nJysGKISAH4Q4hJAUDEMQ9u/rlBWtl1fXBWV99+coAVTkhUTQVQCQGsQlwCCgmEY2vZVhVZk23Xo\n",
              "mCcqu3QK1S/GJ+ihScnqE2H28YQAEBiISwABzTAM/evLE1qRbdeR41WSpK6dr0RldHeiEgC8KaQl\n",
              "B2dkZCgxMVEmk0kHDx5sWLfb7brllluUmpqqsWPH6siRI96eEwBaxO029M/D5Zq5YrcWvvSZjhyv\n",
              "UtfOoXp4Sop2PTlNT/94CGEJAG2gRc9czpkzR08++aQmTpzYaH3hwoVasGCB5s6dqzfeeENz587V\n",
              "vn37vDooADSH223ogyPlysq26+vyc5Kkbp1D9cAtiZo/KVm9unX28YQAENhaFJeTJ0++Zq2iokKf\n",
              "fvqp/vWvf0mS7rrrLi1evFgOh0MWi8U7UwLA93C7Db1/uFwrsu365oQnKrubwzT3lkTNm5iknkQl\n",
              "ALSLVr/msqSkRP3791dYmOeuTCaT4uPjVVxcfN24dDqdcjqdjdZcLldrRwEQhNxuQ+8dLtOKbLuO\n",
              "njgvSYowh2nuBE9U9uhKVAJAe/LJG3qWL1+uZcuWNVpLS0vzxSgAOiiX29DWQ2VamW2XvaI+KsPD\n",
              "9KsJSZo3IUlRXTv5eEIACE6tjsu4uDiVlZWprq5OYWFhMgxDxcXFio+Pv+5tnn76aT3++OON1pYu\n",
              "XdraUQAEAZfb0LtfHNeKbLvyvr0gyROV8yYm6VcTkhTVhagEAF9qdVzGxMRo9OjR2rRpk+bOnavN\n",
              "mzcrNjb2O19vaTabZTY3fpdmaGhoa0cBEMBcbkP/+Py4Vmy3K78+KiPDwzRvYrLmTkgkKgHAT7Qo\n",
              "LhcuXKitW7eqvLxct912myIiIuRwOLRu3TrNnTtXzzzzjCIjI7Vx48a2mhdAkKlzufXO58e1artD\n",
              "+Sc9URnVpZPmT0zSAxMSFRlOVAKAP2lRXK5bt67J9UGDBmnPnj1eGQgAJE9UvnXwuFZtt6vw1EVJ\n",
              "Uo+unfTQpGT9cnyCIohKAPBL/IUeAH6lzuXWmweOaVWOQ0X1UdmzayfNn5SsB25JVHczly0A8Gdc\n",
              "pQH4hVqXW2/u90Rl8WlPVPbq1lkPTUrWL8YnEJUA0EFwtQbgU7UutzZ/Vqq/5DpUcvqSJKl3t85a\n",
              "MDlZ96clqBtRCQAdCldtAD5RU+fW5v2lWrXdoWOVnqiM7n4lKrt25vIEAB0RV28A7aqmzq3XPyvR\n",
              "6py8q6LSrIenJOu+mxPUpTO/lgwAOjLiEkC7cNa59PdPS7Umx6HjZ6slSX0izHp4SoruHRdPVAJA\n",
              "gCAuAbQpZ51Lf99XotW5eSqrj8qYy1F5c7zCOxGVABBIiEsAbaK61qXX9pVoTW6eyqs8Udk30qxF\n",
              "U1L083FEJQAEKuISgFdV17r06ifFWrsjTyeqnJKkfpHhemRaiu6+KY6oBIAAR1wC8IrqWpde2euJ\n",
              "yopznqjsHxWuR6am6O6xcTKHEZUAEAyISwCtcqnGpZf3Fmndznx9Wx+VA6LC9cg0i356UyxRCQBB\n",
              "hrgE8INcrKnTyx8Xa93OfJ0874nKgT266NFpFs0ZE6vOYSE+nhAA4AvEJYAWuVhTp00fF2n9znyd\n",
              "PF8jSYrt6YnKu0YTlQAQ7IhLAM1ywVmnlz4u0nM783Xqgicq43p10eJpFs0eHatOoUQlAIC4BPA9\n",
              "zjvr9OKeQj2/q0Cn66MyvldXLZ5u0X+MGkhUAgAaIS4BNOm8s04vfFSo53fl68zFWklSQu+uWjzN\n",
              "ollEJQDgOohLAI2cq671ROXuAlXWR2VSdDctnmbRnSMHKIyoBAB8B+ISgCSpqrpWf/uwUBt2F+js\n",
              "JU9UJkd302M2i24fTlQCAJqHuASC3NlLl6MyX1XVdZKk5D7dlDHdqttHDFBoiMnHEwIAOhLiEghS\n",
              "Zy/V6q+7C/TXDwt0rj4qLTHd9dh0i34ynKgEAPwwxCUQZM5erNWGDwu08aqotMZ0V4bNqpk39icq\n",
              "AQCtQlwCQaLyYo027C7Q3z4s1DmnJypT+9ZH5bD+CiEqAQBeQFwCAe7MhRo9vztfL3xUpPP1UTm4\n",
              "X4QybFb96IZ+RCUAwKuISyBAnb5Qo+d35euFjwp1ocYlyROVS9KtunUoUQkAaBvEJRBgTp136rld\n",
              "BXpxT6Eu1kfl0P6RyrBZdevQvkQlAKBNEZdAgDh53qnndubrpY+LGqLyhgGRyrRZNWNoX5lMRCUA\n",
              "oO15NS7fe+89/eY3v5Hb7VZdXZ3+67/+Sw888IA3HwLA/3LyvFPrd+brpT1FulTricphAyO1xJYq\n",
              "25AYohIA0K68FpeGYej+++9Xbm6uhg8frsLCQg0ePFizZ89WRESEtx4GQL2Kc9VavyNfm/YWqbrW\n",
              "LUkaHhulTJtV0wcTlQAA3/DqM5cmk0mVlZWSpKqqKvXu3Vtms9mbDwEEvYqqaq3dka+X9xbJWeeJ\n",
              "yhFxPbTEZtXUQX2ISgCAT3ktLk0mk1577TXNnj1b3bp105kzZ7RlyxZ17tz5mmOdTqecTmejNZfL\n",
              "5a1RgIBUUVWtNTvy9Mre4oaoHBnXQ0vSrZqSSlQCAPyD1+Kyrq5Of/jDH7RlyxZNnjxZ+/bt0x13\n",
              "3KFDhw4pOjq60bHLly/XsmXLGq2lpaV5axQgoJSfrdbaHXl65ZNi1dRH5ej4HspMT9VkazRRCQDw\n",
              "KybDMAxv3NGnn36qe++9V0ePHm1YGzt2rJ555hnNmDGj0bFNPXO5dOlSZWVleWMUICCUnb2kNbl5\n",
              "+p99JQ1ReVNCT2WmWzXRQlQCAPyT1565jIuLU1lZmb766isNGTJEDodDeXl5GjRo0DXHms3ma16L\n",
              "GRoa6q1RgA7teKUnKl/bV6Ialycqxyb21JL0VN2S0puoBAD4Na/FZd++fbV+/XrdfffdCgkJkdvt\n",
              "1qpVqxQfH++thwAC2rHKS1qd49Drn5Y2ROW4pF5aYrNqPFEJAOggvPpu8XvuuUf33HOPN+8SCHil\n",
              "Zy5qdW6eXv+0RLUuz6tUbk7qpSXpqRqf0tvH0wEA0DL8hR7AR0pOX9TqXIfe+Ky0ISrHJ/dWZrpV\n",
              "aclEJQCgYyIugXZWfOqi/pLj0Ob9papze6JygqW3Mm2pGpfUy8fTAQDQOsQl0E6KT13Uqhy7Nu8/\n",
              "Jld9VE60RCsz3aqxiUQlACAwEJdAGys8eUGrchx688CVqJxkjdaSdKvGJBCVAIDAQlwCbaTg5AWt\n",
              "2u7QWwevROWU1D7KsFk1JqGnj6cDAKBtEJeAl+V/e74hKuubUlMH9VGmzapR8UQlACCwEZeAlzgq\n",
              "zmvVdrve+fx4Q1ROHxyjDJtVI+N6+HQ2AADaC3EJtJKj4pxWbnfonc+P6/IfU00f4onK4bE9fDob\n",
              "AADtjbgEfiD7iXNasd2hd7+4Oir7KtNm1Y2xUb4dDgAAHyEugRb6pvycVmy3671DZQ1ReevQvsqw\n",
              "WTVsIFEJAAhuxCXQTF+XV2lltkNbD5U1rP3ohn56zGbRDQOISgAAJOIS+F5flVVpRbZd7x8ub1j7\n",
              "8bB+yrBZNaR/pA8nAwDA/xCXwHUcOX5WK7Lt+uDICUmSySTNHNZfj9ksGtyPqAQAoCnEJfC/HD7m\n",
              "icp/fXlVVN7YXxnTrRrUL8LH0wEA4N+IS6DeodKzysq2a9tXV6LyJ8MHKGO6Rda+RCUAAM1BXCLo\n",
              "fVFaqaxtdmV/XSFJCjFJt48YoMemW2SJISoBAGgJ4hJB6/OSSmVl27X9qqi8c+RALZ5uUUqf7j6e\n",
              "DgCAjom4RNA5UHxGWdl25X7zrSRPVM6qj8pkohIAgFYhLhE0PivyROXOo56oDA0xNURlUnQ3H08H\n",
              "AEBgIC4R8D4rOq0/b7Nrl/2kJE9Uzh41UI9OsyiRqAQAwKuISwSsfYWnlbXNrt2OK1F512hPVCb0\n",
              "JioBAGgLxCUCzt78U8rKtuujvFOSpLAQk+aMidWj0yyK69XVx9MBABDYiEsEjI/zTylrm1178q9E\n",
              "5U9vitMjU1OISgAA2glxiQ7NMAztqY/KvQWnJUmdQq9EZWxPohIAgPZEXKJDMgxDe/JO6c/b7Pqk\n",
              "0BOVnUNDdPfYWC2aatHAHl18PCEAAMGJuESHYhiGPnScUlb2Ue0rPCPJE5U/GxunRVNTNICoBADA\n",
              "p7wal06nU0888YQ++OADhYeHa8SIEdq0aZM3HwJByjAM7Xac1J+32fVZUX1UhoXonrFxenhqivpH\n",
              "EZUAAPgDr8blr3/9a5lMJh09elQmk0nl5eXevHsEIcMwtNN+Ulnbjmp/caUkT1TeOy5eD09JUb+o\n",
              "cN8OCAAAGvFaXF64cEEbNmxQaWmpTCaTJKlfv37eunsEGcMwlHv0W2Vts+tgSaUkyRwWontv9kRl\n",
              "30iiEgAAf+S1uMzLy1OvXr30zDPPaNu2berSpYt+97vfyWazXXOs0+mU0+lstOZyubw1CjowwzCU\n",
              "+823+nO2XZ/XR2V4pxDdd3OCFk5OVgxRCQCAX/NaXNbV1amoqEhDhw7VH//4Rx04cEAzZszQkSNH\n",
              "1Ldv30bHLl++XMuWLWu0lpaW5q1R0AEZhqHtX1coK9uuL0rPSvJE5S/SEvTQ5GTFRBCVAAB0BCbD\n",
              "MAxv3NHJkyfVt29f1dTUKDQ0VJI0duxYLV++XOnp6Y2ObeqZy6VLlyorK8sbo6ADMQxD276q0Ips\n",
              "uw4d80Rll06h+sX4BD00KVl9Isw+nhAAALSE1565jI6Ols1m0wcffKCZM2eqoKBABQUFGjJkyDXH\n",
              "ms1mmc2No+FykCI4GIahf395QlnZdh05XiVJ6tr5SlRGdycqAQDoiLz6bvG1a9dq3rx5euqppxQS\n",
              "EqJ169Zp4MCB3nwIdHBut6F/fXlCK7Lt+rLME5XdOofql7ckav7EJPUmKgEA6NC8GpfJycnKycnx\n",
              "5l0iQLjdhj44Uq6sbLu+Lj8nyROVD9ySqPmTktWrW2cfTwgAALyBv9CDNuV2G/rnkXKtuCoqu5vD\n",
              "NPeWRM2bmKSeRCUAAAGFuESbcLsNvXe4TCuzHfrmhCcqI8xhmjvBE5U9uhKVAAAEIuISXuVyG9p6\n",
              "qEwrs+2yV5yXJEWEh+lXE5I0b0KSorp28vGEAACgLRGX8AqX29C7XxzXyu0OOa6KynkTk/SrCUmK\n",
              "6kJUAgAQDIhLtIrLbegfnx/Xyu125X17QZIUGR6meROTNXdCIlEJAECQIS7xg9S53Hrn8+Natd2h\n",
              "/JOeqIzq0knzJybpgQmJigwnKgEACEbEJVqkzuXW2wePa1WOQwX1Udmjayc9NClZvxyfoAiiEgCA\n",
              "oEZcolnqXG69eeCY/pLjUOGpi5Kknl07af6kZD1wS6K6mzmVAAAAcYnvUety6839x7Qqx6Hi056o\n",
              "7NWtsx6alKxfjE8gKgEAQCOUAZpU63Jry/5SrcpxqOT0JUlS726dtWBysu5PS1A3ohIAADSBQkAj\n",
              "NXVubd5fqr/kOFR6xhOV0d2vRGXXzpwyAADg+igFSPJE5euflWh1Tp6OVV6OSrMenpKs+25OUJfO\n",
              "oT6eEAAAdATEZZBz1rn0+qelWp3j0PGz1ZKkPhFmPTwlRfeOiycqAQBAixCXQcpZ59Lf95VodW6e\n",
              "yuqjMuZyVN4cr/BORCUAAGg54jLIVNe69Nq+Eq3JzVN5lScq+0aatWhKin4+jqgEAACtQ1wGiepa\n",
              "l/7nk2Kt2ZGnE1VOSVK/yHA9Mi1Fd98UR1QCAACvIC4DXHWtS6/sLdbaHXmqOOeJyv5R4Xpkaoru\n",
              "HhsncxhRCQAAvIe4DFCXalx6eW+R1u3M17f1UTkgKlyPTLPopzfFEpUAAKBNEJcB5nJUrt2Rr5Pn\n",
              "PVE5sEcXPTrNojljYtU5LMTHEwIAgEBGXAaIizV12vRxkdbvzNfJ8zWSpNienqi8azRRCQAA2gdx\n",
              "2cFdcNbppY+L9NzOfJ264InKuF5dtHiaRbNHx6pTKFEJAADaD3HZQV1w1unFPUV6ble+TtdHZXyv\n",
              "rlo83aL/GDWQqAQAAD5BXHYw5511euGjQj2/K19nLtZKkhJ6d9XiaRbNIioBAICPEZcdxLnqWk9U\n",
              "7i5QZX1UJkV30+JpFt05coDCiEoAAOAHiEs/V1Vdqxc+9ETl2UueqEyO7qbHbBbdPpyoBAAA/oW4\n",
              "9FNV1bXauLtQG3bnq6q6TpKU3KebMqZbdfuIAQoNMfl4QgAAgGu1SVxu3LhRDz74oN58803NmjWr\n",
              "LR4iYJ29VKu/7i7QXz8s0Ln6qLTEdNdj0y36yXCiEgAA+Devx2VhYaGee+45paWlefuuA9rZi7Xa\n",
              "8GGBNl4VldaY7sqwWTXzxv5EJQAA6BC8Gpdut1vz58/XypUr9cQTT3jzrgNW5cUabdhdoL99WKhz\n",
              "Tk9Upvatj8ph/RVCVAIAgA7Eq3H57LPPasKECRozZsx3Hud0OuV0OhutuVwub47i985cqI/Kjwp1\n",
              "vj4qB/WNUGa6VT+6oR9RCQAAOiSvxeXhw4e1efNm7dy583uPXb58uZYtW9ZoLVh+jH76Qo2e35Wv\n",
              "Fz4q1IUaT1AP7hehTJtVtxGVAACgg/NaXO7atUuFhYWyWq2SpPLyci1YsEBlZWVatGhRo2Offvpp\n",
              "Pf74443Wli5d6q1R/NKp8049t6tAL+4p1MX6qBzaP1IZNqtuHdqXqAQAAAHBa3G5aNGiRhE5depU\n",
              "LVmypMl3i5vNZpnN5kZroaGh3hrFr5w679T6Xfl6aU9RQ1TeMCBSmTarZgztK5OJqAQAAIGD33PZ\n",
              "Rk6ed2r9Tk9UXqr1ROWwgZHKtKUqfUgMUQkAAAJSm8Vlbm5uW921X6s4V631O/K1aW+RqmvdkqTh\n",
              "sVHKtFk1fTBRCQAAAhvPXHpJxblqrduRr5evisoRsVFakp6qqYP6EJUAACAoEJetVFFVrTU78vTK\n",
              "3mI56zxROTKuhzLTrZqaSlQCAIDgQlz+QOVnq7V2R55e+aRYNfVROTq+hzLTUzXZGk1UAgCAoERc\n",
              "tlDZ2Utam5unV/eVNETlmISeWpJu1UQLUQkAAIIbcdlMxysvaU1unl7bV6Ialycqxyb2VKYtVRMs\n",
              "vYlKAAAAEZff61jlJa3Jdejv+0obonJcUi8tsVk1PoWoBAAAuBpxeR2lZy5qdW6eXv+0RLUuQ5J0\n",
              "c1IvLUlP1fiU3j6eDgAAwD8Rl/9LyemLWp3r0BuflTZE5fjk3spMtyotmagEAAD4LsRlvZLTF/WX\n",
              "HE9U1rk9UTnB0luZtlSNS+rl4+kAAAA6hqCPy+JTF7Uqx64t+481ROVES7Qy060am0hUAgAAtETQ\n",
              "xmXhyQtalePQmweOyVUflZOs0VqSbtWYBKISAADghwi6uKyoqtb/++c3euvglaicktpHGTarxiT0\n",
              "9PF0AAAAHVvQxWVYaIjeP1wml9vQ1EF9lGmzalQ8UQkAAOANQReXvbp11h9mDVNyn+4aGdfD1+MA\n",
              "AAAElKCLS0maPTrW1yMAAAAEpBBfDwAAAIDAQVwCAADAa4hLAAAAeA1xCQAAAK8hLgEAAOA1xCUA\n",
              "AAC8hrgEAACA1xCXAAAA8BriEgAAAF5DXAIAAMBriEsAAAB4jckwDMPXQ0jS7NmzlZiY2C6P5XK5\n",
              "9Mknn2jcuHEKDQ1tl8fsCNiX62Nvmsa+XB970zT25frYm6axL9fni71JSEhQZmbmdx7jN3HZnqqq\n",
              "qhQVFaWzZ88qMjLS1+P4Dfbl+tibprEv18feNI19uT72pmnsy/X5697wY3EAAAB4DXEJAAAAryEu\n",
              "AQAA4DVBGZdms1m//e1vZTabfT2KX2Ffro+9aRr7cn3sTdPYl+tjb5rGvlyfv+5NUL6hBwAAAG0j\n",
              "KJ+5BAAAQNsgLgEAAOA1xCUAAAC8JqDj0m6365ZbblFqaqrGjh2rI0eONHnchg0bZLValZKSooce\n",
              "eki1tbXtPGn7as6+5ObmqkuXLho5cmTD/y5duuSDadtPRkaGEhMTZTKZdPDgweseF2zni9S8vQnG\n",
              "c6a6ulqzZs1SamqqRowYoRkzZsjhcDR57LvvvqvBgwfLarVq9uzZqqqqaudp209z96WwsFChoaGN\n",
              "zpm8vDwfTNy+br31Vg0fPlwjR47UpEmTdODAgSaPC7ZrTXP2JRivM5dt3LhRJpNJb731VpOf96tr\n",
              "jBHApk2bZmzcuNEwDMN4/fXXjZtuuumaY/Lz843+/fsbZWVlhtvtNm6//XZj1apV7Txp+2rOvuTk\n",
              "5BgjRoxo38F8bMeOHUZJSYmRkJBgHDhwoMljgvF8MYzm7U0wnjOXLl0ytm7darjdbsMwDGPlypXG\n",
              "lClTrjnu3LlzRkxMjPHVV18ZhmEYjz76qPGf//mf7Tlqu2ruvhQUFBhRUVHtO5wfOHPmTMM/b9my\n",
              "xRg+fPg1xwTjtaY5+xKM1xnD8HyvjB8/3khLSzPefPPNaz7vb9eYgH3msqKiQp9++qnuv/9+SdJd\n",
              "d92lkpKSa/7r+Y033tAdd9yhfv36yWQy6eGHH9arr77qi5HbRXP3JRhNnjxZsbGx33lMsJ0vlzVn\n",
              "b4JReHi4Zs6cKZPJJElKS0tTYWHhNce9//77GjVqlAYPHixJeuSRRwL6vGnuvgSrHj16NPzz2bNn\n",
              "G/bpasF4rWnOvgQjt9ut+fPna+XKldf9lUP+do0J2LgsKSlR//79FRYWJkkymUyKj49XcXFxo+OK\n",
              "i4uVkJDQ8HFiYuI1xwSS5u6LJOXl5Wn06NEaO3asVq9e3d6j+qVgO19aKtjPmaysLN15553XrDd1\n",
              "3pSVlamurq49x/OZ6+2LJF24cEFjx47V6NGj9fvf/14ul6udp/ONX/7yl4qLi9PSpUv10ksvXfP5\n",
              "YL3WfN++SMF3nXn22Wc1YcIEjRkz5rrH+Ns1Jswnjwq/N3r0aJWWlioqKkqlpaWaOXOmoqOjdffd\n",
              "d/t6NPipYD9nnnnmGTkcDmVnZ/t6FL/yXfvSv39/HTt2TDExMTp9+rR+9rOf6b//+7/15JNP+mDS\n",
              "9vXiiy9Kkl544QU99dRTeu+993w8kX/4vn0JtuvM4cOHtXnzZu3cudPXo7RIwD5zGRcX16jaDcNQ\n",
              "cXGx4uPjGx0XHx+voqKiho8LCwuvOSaQNHdfIiMjFRUVJUmKjY3VPffco127drX7vP4m2M6Xlgjm\n",
              "c+ZPf/qTtmzZovfff19du3a95vNNnTdX/wQhUH3fvpjNZsXExEiSevXqpQcffDBozpnLHnjgAeXk\n",
              "5OjUqVON1oP9WnO9fQm268yuXbtUWFgoq9WqxMREffzxx1qwYIHWrFnT6Dh/u8YEbFzGxMRo9OjR\n",
              "2rRpkyRp8+bNio2NlcViaXTcXXfdpXfeeUfl5eUyDENr167Vz3/+c1+M3C6auy9lZWVyu92SpHPn\n",
              "zundd9/VqFGj2n1efxNs50tLBOs58+yzz+rVV1/Vv//970avGbvaj370I+3fv19ff/21JGn16tUB\n",
              "f940Z18qKioa3gHtdDq1ZcuWgD9nKisrdfz48YaP33rrLfXu3Vu9evVqdFywXWuauy/Bdp1ZtGiR\n",
              "ysrKVFhYqMLCQqWlpWn9+vVatGhRo+P87hrjs7cStYOvv/7aSEtLM6xWqzFmzBjjiy++MAzDMObN\n",
              "m2e8/fbbDcetX7/eSE5ONpKTk40HH3zQqKmp8dXI7aI5+7Jy5Upj6NChxvDhw42hQ4cav/3tbxve\n",
              "+RmoFixYYAwcONAIDQ01YmJijJSUFMMwOF8Mo3l7E4znTElJiSHJSE5ONkaMGGGMGDHCGDdunGEY\n",
              "hrF06VJjzZo1Dce+/fbbxqBBg4yUlBTjzjvvNCorK301dptr7r5s3rzZuOGGGxrOmcWLFxvV1dW+\n",
              "HL3NFRYWGmPHjjWGDRtmDB8+3LDZbA2/gSGYrzXN3ZdgvM5cbcqUKQ3vFvfnawx/WxwAAABeE7A/\n",
              "FgcAAED7Iy4BAADgNcQlAAAAvIa4BAAAgNcQlwAAAPAa4hIAAABeQ1wCAADAa4hLAAAAeA1xCQAA\n",
              "AK8hLgEAAOA1xCUAAAC85v8DehP1TeeyjIkAAAAASUVORK5CYII=\n",
              "\">\n",
              "      </div>\n",
              "      <script type=\"text/javascript\">\n",
              "        (() => {\n",
              "          const chartElement = document.getElementById(\"chart-e8cd55ac-e21a-45ed-869e-e88271c792bd\");\n",
              "          async function getCodeForChartHandler(event) {\n",
              "            const chartCodeResponse =  await google.colab.kernel.invokeFunction(\n",
              "                'getCodeForChart', [\"chart-e8cd55ac-e21a-45ed-869e-e88271c792bd\"], {});\n",
              "            const responseJson = chartCodeResponse.data['application/json'];\n",
              "            await google.colab.notebook.addCell(responseJson.code, 'code');\n",
              "          }\n",
              "          chartElement.onclick = getCodeForChartHandler;\n",
              "        })();\n",
              "      </script>\n",
              "      <style>\n",
              "        .colab-quickchart-chart-with-code  {\n",
              "            display: block;\n",
              "            float: left;\n",
              "            border: 1px solid transparent;\n",
              "        }\n",
              "\n",
              "        .colab-quickchart-chart-with-code:hover {\n",
              "            cursor: pointer;\n",
              "            border: 1px solid #aaa;\n",
              "        }\n",
              "      </style>"
            ]
          },
          "metadata": {}
        },
        {
          "output_type": "display_data",
          "data": {
            "text/plain": [
              "<google.colab._quickchart_helpers.SectionTitle at 0x7d5632ad78b0>"
            ],
            "text/html": [
              "<h4 class=\"colab-quickchart-section-title\">Faceted distributions</h4>\n",
              "<style>\n",
              "  .colab-quickchart-section-title {\n",
              "      clear: both;\n",
              "  }\n",
              "</style>"
            ]
          },
          "metadata": {}
        },
        {
          "output_type": "stream",
          "name": "stderr",
          "text": [
            "<string>:5: FutureWarning: \n",
            "\n",
            "Passing `palette` without assigning `hue` is deprecated and will be removed in v0.14.0. Assign the `y` variable to `hue` and set `legend=False` for the same effect.\n",
            "\n"
          ]
        },
        {
          "output_type": "display_data",
          "data": {
            "text/plain": [
              "from matplotlib import pyplot as plt\n",
              "import seaborn as sns\n",
              "figsize = (12, 1.2 * len(_df_16['index'].unique()))\n",
              "plt.figure(figsize=figsize)\n",
              "sns.violinplot(_df_16, x='col1', y='index', inner='stick', palette='Dark2')\n",
              "sns.despine(top=True, right=True, bottom=True, left=True)"
            ],
            "text/html": [
              "      <div class=\"colab-quickchart-chart-with-code\" id=\"chart-2dacb05a-9194-4486-97f7-af2e1cedff99\">\n",
              "        <img style=\"width: 180px;\" src=\"data:image/png;base64,iVBORw0KGgoAAAANSUhEUgAAA+kAAAIBCAYAAAA1Xf4kAAAAOXRFWHRTb2Z0d2FyZQBNYXRwbG90\n",
              "bGliIHZlcnNpb24zLjcuMSwgaHR0cHM6Ly9tYXRwbG90bGliLm9yZy/bCgiHAAAACXBIWXMAAA9h\n",
              "AAAPYQGoP6dpAAAjkUlEQVR4nO3df6yW9X3/8dd9PClMK+owY42IlIlHWYVTWokov3rOzZrY+WMI\n",
              "YSlmtsNgTqKm0f2AFEvL1MOC0+mabaIrtTNpECG0q5LB0WxynM46dLhSLEc8h44prTQVaeJZkfv7\n",
              "h9+eFIXOY8859wd4PJI7Ofd97nPd7yufQK7nua77PpVarVYLAAAAUHcN9R4AAAAAeIdIBwAAgEKI\n",
              "dAAAACiESAcAAIBCiHQAAAAohEgHAACAQoh0AAAAKIRIBwAAgEKIdAAAACiESAcAAIBCiHQAAAAo\n",
              "hEgHAACAQoh0AAAAKIRIBwAAgEKIdAAAACiESAcAAIBCiHQAAAAohEgvWFtbW9ra2uo9BgAAAEOk\n",
              "sd4DcHR79+6t9wgAAAAMIWfSAQAAoBAiHQAAAAoh0gEAAKAQIh0AAAAKIdIBAACgECIdAAAACiHS\n",
              "AQAAoBAiHQAAAAoh0gEAAKAQIh0AAAAKIdIBAACgECIdAAAACiHSAQAAoBAiHQAAAAoh0gEAAKAQ\n",
              "Ih0AAAAKIdIBAACgECIdAAAACiHSAQAAoBAiHQAAAAoh0gEAAKAQIh0AAAAKIdIBAACgECIdAAAA\n",
              "CiHSAQAAoBAiHQAAAAoh0gEAAKAQIh0AAAAKIdIBAACgECIdAAAACiHSAQAAoBAiHQAAAAoxqJE+\n",
              "duzYNDU1pbm5OU1NTVmxYsWAbPeOO+5IU1NTGhoasmHDhgHZJgAAANRb42C/wJo1a9Lc3Jw9e/Zk\n",
              "woQJaWlpyZQpU36tbVar1fzhH/5h/viP/3iApgQAAID6G7LL3c8666ycf/756enpSVdXV6rVaiZO\n",
              "nJjm5ua+s+GrVq3KokWLkiTbt29PpVLJpk2bkiTLly/P8uXLkyRTpkzJuHHjhmp0AAAAGBJDFuk7\n",
              "duzIvn37MmvWrCxYsCDz5s3Ltm3bsnbt2ixcuDA9PT2pVqvp6OhIkmzevDlTp0497H61Wu336/b2\n",
              "9mb//v2H3Xp7ewd03wAAAGAgDHqkz58/PxdccEEmTJiQG2+8McOHD8/WrVuzcOHCJMn48eMzbdq0\n",
              "bNmype/s+K5du9LR0ZH29vY88cQTOXDgQLZv3/6BLpNvb2/Paaeddtitvb19QPcRAAAABsKQvSe9\n",
              "o6Mjl19+eVpaWt7znEql0vd1tVrNxo0bs3PnzsycOTO1Wi3r1q3L1KlT09jY/3GXLFmSm2+++bDH\n",
              "hg0b1v8dAQAAgEE2ZJe7V6vVtLW1ZenSpZk8eXJWr16dJOnq6kpnZ2dmzJjR97yVK1f2nTVvaWnJ\n",
              "smXLPtCl7sk7QT5ixIjDbiIdAACAEg3p30m/9dZb09nZmXvvvTdr1qzJpEmTMnfu3DzwwAMZM2ZM\n",
              "kqS1tTW7d+/ui/LZs2enp6cnra2tfdu57bbbMnr06Dz99NO57rrrMnr06Pz4xz8eyl0BAACAAVep\n",
              "1Wq1eg/Bkc2ZMydJsn79+jpPAgAAwFAY0jPpAAAAwNGJdAAAACiESAcAAIBCiHQAAAAohEgHAACA\n",
              "Qoh0AAAAKIRIBwAAgEKIdAAAACiESAcAAIBCiHQAAAAohEgHAACAQoh0AAAAKIRIBwAAgEKIdAAA\n",
              "ACiESAcAAIBCiHQAAAAohEgHAACAQoh0AAAAKIRIBwAAgEKIdAAAACiESAcAAIBCiHQAAAAohEgH\n",
              "AACAQoh0AAAAKIRIBwAAgEKIdAAAACiESAcAAIBCiHQAAAAohEgHAACAQoh0AAAAKIRIBwAAgEKI\n",
              "dAAAAChEY70H4OhGjRpV7xEAAAAYQpVarVar9xAAAACAy90BAACgGCIdAAAACiHSAQAAoBAiHQAA\n",
              "AAoh0gEAAKAQIh0AAAAKIdIBAACgECIdAAAACiHSAQAAoBAiHQAAAAoh0gEAAKAQIh0AAAAKIdIB\n",
              "AACgECIdAAAACiHSAQAAoBAiHQAAAAoh0oHjXltbW9ra2uo9BgAA/J8a6z0AwGDbu3dvvUcAAID3\n",
              "xZl0AAAAKIRIBwAAgEKIdAAAACiESAcAAIBCiHQAAAAohEgHAACAQoh0AAAAKIRIBwAAgEKIdAAA\n",
              "ACiESAcAAIBCiHQAAAAohEgHAACAQoh0AAAAKIRIBwAAgEKIdAAAACiESAcAAIBCiHQAAAAohEgH\n",
              "AACAQoh0AAAAKIRIBwAAgEKIdAAAACiESAcAAIBCiHQAAAAohEgHAACAQoh0AAAAKIRIBwAAgEKI\n",
              "dAAAACiESAcAAIBCiHQAAAAohEgHAACAQoh0AAAAKIRIBwAAgEIMaqSPHTs2TU1NaW5uTlNTU1as\n",
              "WDEg2/385z+f8847L5MmTcqll16a7373uwOyXQAAAKinxsF+gTVr1qS5uTl79uzJhAkT0tLSkilT\n",
              "pvxa2/yDP/iD3H///WlsbMx3vvOdzJs3L93d3QMzMAAAANTJkF3uftZZZ+X8889PT09Purq6Uq1W\n",
              "M3HixDQ3N2fDhg1JklWrVmXRokVJku3bt6dSqWTTpk1JkuXLl2f58uVJkiuuuCKNje/8fuHiiy/O\n",
              "nj17cvDgwSO+bm9vb/bv33/Yrbe3d5D3FgAAAPpvyCJ9x44d2bdvX2bNmpUFCxZk3rx52bZtW9au\n",
              "XZuFCxemp6cn1Wo1HR0dSZLNmzdn6tSph92vVqvv2e4999yTyy67rC/a3629vT2nnXbaYbf29vbB\n",
              "21EAAAD4gAb9cvf58+enoaEhL730Uu6+++4MHz48W7duzVNPPZUkGT9+fKZNm5YtW7bkmmuuSZLs\n",
              "2rUrHR0daW9vzy233JIDBw5k+/bt77lM/qGHHsrDDz+cJ5988qivv2TJktx8882HPTZs2LAB3ksA\n",
              "AAD49Q3Ze9I7Ojpy+eWXp6Wl5T3PqVQqfV9Xq9Vs3LgxO3fuzMyZM1Or1bJu3bpMnTr1sLPla9as\n",
              "yVe+8pU8/vjjGTVq1FFff9iwYaIcAACAY8KQXe5erVbT1taWpUuXZvLkyVm9enWSpKurK52dnZkx\n",
              "Y0bf81auXNl31rylpSXLli077FL3hx9+OEuXLk1HR0fGjBkzVLsAAAAAg2pI/076rbfems7Oztx7\n",
              "771Zs2ZNJk2alLlz5+aBBx7oi+3W1tbs3r27L8pnz56dnp6etLa29m1nwYIFeeutt3LllVemubk5\n",
              "zc3N2bdv31DuCgAAAAy4Sq1Wq9V7CIDBNGfOnCTJ+vXr6zwJAAD8akN6Jh0AAAA4OpEOAAAAhRDp\n",
              "AAAAUAiRDgAAAIUQ6QAAAFAIkQ4AAACFEOkAAABQCJEOAAAAhRDpAAAAUAiRDgAAAIUQ6QAAAFAI\n",
              "kQ4AAACFEOkAAABQCJEOAAAAhRDpAAAAUAiRDgAAAIUQ6QAAAFAIkQ4AAACFEOkAAABQCJEOAAAA\n",
              "hRDpAAAAUAiRDgAAAIUQ6QAAAFAIkQ4AAACFEOkAAABQCJEOAAAAhRDpAAAAUAiRDgAAAIUQ6QAA\n",
              "AFAIkQ4AAACFEOkAAABQiMZ6DwAw2EaNGlXvEQAA4H2p1Gq1Wr2HAAAAAFzuDgAAAMUQ6QAAAFAI\n",
              "kQ4AAACFEOkAAABQCJEOAAAAhRDpAAAAUAiRDgAAAIUQ6QAAAFAIkQ4AAACFEOkAAABQCJEOAAAA\n",
              "hRDpAAAAUAiRDgAAAIUQ6QAAAFAIkQ4AAACFEOkAAABQCJEOALwvbW1taWtrq/cYAHBca6z3AADA\n",
              "sWHv3r31HgEAjnvOpAMAAEAhRDoAAAAUQqQDAABAIUQ6AAAAFEKkAwAAQCFEOgAAABRCpAMAAEAh\n",
              "RDoAAAAUQqQDAABAIUQ6AAAAFEKkAwAAQCFEOgAAABRCpAMAAEAhRDoAAAAUQqQDAABAIUQ6AAAA\n",
              "FEKkAwAAQCFEOgAAABRCpAMAAEAhRDoAAAAUQqQDAABAIUQ6AAAAFGJAIv1///d/B2IzAAAAcELr\n",
              "d6Rfdtll+clPftJ3/+WXX84ll1wyoEMBAADAiajfkd7S0pKLLrooTz/9dB5++OF86lOfyuLFiwdj\n",
              "NgAAADihNPb3B/7kT/4kF110UT71qU9l5MiR2bJlS8aNGzcYswEAAMAJpd9n0ru7u/Onf/qnufba\n",
              "azN27NjcfvvteeuttwZjNgAAADih9DvSp0+fnptvvjn33XdfnnzyyZxxxhmZMmXKYMwGAAAAJ5R+\n",
              "X+7++OOP57zzzkuSnHTSSbnzzjvz6KOPDvhgAAAAcKLp95n0cePG5a/+6q/S1taW5J1Pd/+N3/iN\n",
              "AR8MAAAATjT9PpN+ww035O23305nZ2eSZOTIkZk/f36ee+65AR8OAAAATiT9jvRnnnkmL7zwQj7+\n",
              "8Y8nSU4//fT8/Oc/H/DBAAAA4ETT78vdhw8fftj9t99+O4cOHTric8eOHZumpqY0NzenqakpK1as\n",
              "+GBTvsvnP//5TJw4Mc3Nzbnooovy+OOPD8h2AQAAoJ76fSZ94sSJeeihh3Lo0KF0dXXlL//yLzNr\n",
              "1qyjPn/NmjVpbm7Onj17MmHChLS0tPzanwZ/99135/TTT0+SPP/882ltbc3rr7+ehoZ+/84BAAAA\n",
              "itHvqr3rrruyZcuWvPbaa7n00kvT0NDwvs6Qn3XWWTn//PPT09OTrq6uVKvVvrPhGzZsSJKsWrUq\n",
              "ixYtSpJs3749lUolmzZtSpIsX748y5cvT5K+QE+SN954o7+7AAAAAEXqd6R/+MMfzn333Ze9e/dm\n",
              "7969ue+++3LKKaf8nz+3Y8eO7Nu3L7NmzcqCBQsyb968bNu2LWvXrs3ChQvT09OTarWajo6OJMnm\n",
              "zZszderUw+5Xq9W+7S1evDi/8zu/kzlz5mTdunVHPYve29ub/fv3H3br7e3t724DAADAoHvfl7t/\n",
              "4xvf+JXf/6M/+qMjPj5//vw0NDTkpZdeyt13353hw4dn69ateeqpp5Ik48ePz7Rp07Jly5Zcc801\n",
              "SZJdu3alo6Mj7e3tueWWW3LgwIFs3779sMvkV6xYkRUrVqSjoyN/9md/lqeeeiof+tCH3vP67e3t\n",
              "+cpXvnLYY8uWLcuXv/zl97vrAAAAMCTed6T/0z/9U5Jk//79+dd//ddMmzYtlUolnZ2dmTlz5lEj\n",
              "/RfvSe/o6Mjll1+elpaW9zynUqn0fV2tVrNx48bs3LkzM2fOTK1Wy7p16zJ16tQ0Nr533Gq1mhtu\n",
              "uCEvvvhiPvGJT7zn+0uWLMnNN9982GPDhg17v7sNAAAAQ+Z9X+6+du3arF27NieffHKee+65dHR0\n",
              "ZPPmzXnuuefe1+Xu1Wo1bW1tWbp0aSZPnpzVq1cnSbq6utLZ2ZkZM2b0PW/lypV9Z81bWlqybNmy\n",
              "vkvdf/7zn6erq6tvu88++2x+9KMfZdy4cUd83WHDhmXEiBGH3UQ6AAAAJer3p7t3dXXlYx/7WN/9\n",
              "3/3d383OnTvf18/eeuutOffcc/PYY4/li1/8Yr761a+mUqnkgQceyJgxY5Ikra2t2b17d1+Uz549\n",
              "O3feeWdaW1uTvBPp1157bd544400NjbmlFNOySOPPJIzzjijv7sCAAAARel3pI8YMSJf//rXc+21\n",
              "1yZJHnzwwXz4wx8+4nO7u7sPu3/GGWdk3759SdL3gXDvNnLkyMP+7vrv/d7vpVar9d0/+eST+97P\n",
              "DgAAAMeTfn+6+9e+9rX87d/+bYYNG5bhw4fn7//+7/suXQcAAAA+uH6fSW9qasqzzz6bN998M0ly\n",
              "6qmnDvhQAAAAcCLqd6QnyauvvppXXnklBw8e7HvsFx/8BgAAAHww/Y7022+/PStXrsy4ceNy0kkn\n",
              "JXnnT6g9++yzAz4cAAAAnEj6Helf+9rX8vLLL2fkyJGDMQ8AAACcsPr9wXGjRo0S6AAAADAI+n0m\n",
              "ffbs2fnCF76Qz372sxk+fHjf4xMnThzQwQAAAOBE0+9I/8Y3vpEk+da3vtX3WKVSya5duwZuKgAA\n",
              "ADgB9TvSX3nllcGYAwAAAE547zvSf/azn+WUU07J/v37j/j9ESNGDNhQAAAAcCJ635E+ffr0bN26\n",
              "NaeffnoqlUpqtVrf9yqVSt5+++1BGRAAAABOFO870rdu3ZokOXTo0KANAwAAACeyfv8JNgAAAGBw\n",
              "iHQAAAAohEgHAACAQoh0AAAAKIRIBwAAgEKIdAAAACiESAcAAIBCiHQAAAAohEgHAACAQoh0AAAA\n",
              "KIRIBwAAgEKIdAAAACiESAcAAIBCiHQAAAAohEgHAACAQoh0AAAAKIRIBwAAgEKIdAAAACiESAcA\n",
              "AIBCiHQAAAAoRGO9BwAAjg2jRo2q9wgAcNyr1Gq1Wr2HAAAAAFzuDgAAAMUQ6QAAAFAIkQ4AAACF\n",
              "EOkAAABQCJEOAAAAhRDpAAAAUAiRDgAAAIUQ6QAAAFAIkQ4AAACFEOkAAABQCJEOAAAAhRDpAAAA\n",
              "UAiRDgAAAIUQ6QAAAFAIkQ4AAACFEOkAADDE2tra0tbWVu8xgAI11nsAAAA40ezdu7feIwCFciYd\n",
              "AAAACiHSAQAAoBAiHQAAAAoh0gEAAKAQIh0AAAAKIdIBAACgECIdAAAACiHSAQAAoBAiHQAAAAoh\n",
              "0gEAAKAQIh0AAAAKIdIBAACgECIdAAAACiHSAQAAoBAiHQAAAAoh0gEAAKAQIh0AAAAKIdIBAACg\n",
              "ECIdAAAACiHSAQAAoBAiHQAAAAoh0gEAAKAQIh0AAAAKIdIBAACgECIdAAAACiHSAQAAoBAiHQAA\n",
              "AAoh0gEAAKAQIh0AAAAKIdIBAACgECIdAAAACiHSAQAAoBCDGuljx45NU1NTmpub09TUlBUrVgzo\n",
              "9p944omcdNJJ+eu//usB3S4AAADUQ+Ngv8CaNWvS3NycPXv2ZMKECWlpacmUKVN+7e2+8cYbWbx4\n",
              "cS677LIBmBIAAADqb8gudz/rrLNy/vnnp6enJ11dXalWq5k4cWKam5uzYcOGJMmqVauyaNGiJMn2\n",
              "7dtTqVSyadOmJMny5cuzfPnyvu3dcMMNWbp0aUaOHDlUuwAAAACDasgifceOHdm3b19mzZqVBQsW\n",
              "ZN68edm2bVvWrl2bhQsXpqenJ9VqNR0dHUmSzZs3Z+rUqYfdr1arSZJHHnkkDQ0NueKKK/7P1+3t\n",
              "7c3+/fsPu/X29g7ejgIAAMAHNOiRPn/+/FxwwQWZMGFCbrzxxgwfPjxbt27NwoULkyTjx4/PtGnT\n",
              "smXLlowbNy5JsmvXrnR0dKS9vT1PPPFEDhw4kO3bt2fKlCl57bXXctttt+Wee+55X6/f3t6e0047\n",
              "7bBbe3v7oO0vAAAAfFBD9p70jo6OXH755WlpaXnPcyqVSt/X1Wo1GzduzM6dOzNz5szUarWsW7cu\n",
              "U6dOTWNjY/7jP/4jr776apqbm5Mkr7/+er797W/nxz/+cW6//fb3bHvJkiW5+eabD3ts2LBhA7uT\n",
              "AAAAMACG7HL3arWatra2LF26NJMnT87q1auTJF1dXens7MyMGTP6nrdy5cq+D5draWnJsmXL+i51\n",
              "/8xnPpO9e/emu7s73d3dmTt3br70pS8dMdCTd4J8xIgRh91EOgAAACUa0r+Tfuutt6azszP33ntv\n",
              "1qxZk0mTJmXu3Ll54IEHMmbMmCRJa2trdu/e3Rfls2fPTk9PT1pbW4dyVAAAABhylVqtVqv3EAAA\n",
              "cCKZM2dOkmT9+vV1ngQozZCeSQcAAACOTqQDAABAIUQ6AAAAFEKkAwAAQCFEOgAAABRCpAMAAEAh\n",
              "RDoAAAAUQqQDAABAIUQ6AAAAFEKkAwAAQCFEOgAAABRCpAMAAEAhRDoAAAAUQqQDAABAIUQ6AAAA\n",
              "FEKkAwAAQCFEOgAAABRCpAMAAEAhRDoAAAAUQqQDAABAIUQ6AAAAFEKkAwAAQCFEOgAAABRCpAMA\n",
              "AEAhRDoAAAAUQqQDAABAIUQ6AAAAFEKkAwAAQCFEOgAAABRCpAMAAEAhRDoAAAAUQqQDAABAIRrr\n",
              "PQAAAJxoRo0aVe8RgEJVarVard5DAAAAAC53BwAAgGKIdAAAACiESAcAAIBCiHQAAAAohEgHAACA\n",
              "Qoh0AAAAKIRIBwAAgEKIdAAAACiESAcAAIBCiHQAAAAohEgHAACAQoh0AAAAKIRIBwAAgEKIdAAA\n",
              "ACiESAcAAIBCiHQAAAAohEgHAADgmNTW1pa2trZ6jzGgGus9AAAAAHwQe/furfcIA86ZdAAAACiE\n",
              "SAcAAIBCiHQAAAAohEgHAACAQoh0AAAAKIRIBwAAgEKIdAAAACiESAcAAIBCiHQAAAAohEgHAACA\n",
              "Qoh0AAAAKIRIBwAAgEKIdAAAACiESAcAAIBCiHQAAAAohEgHAACAQoh0AAAAKIRIBwAAgEKIdAAA\n",
              "ACiESAcAAIBCiHQAAAAohEgHAACAQoh0AAAAKIRIBwAAgEKIdAAAACiESAcAAIBCiHQAAAAohEgH\n",
              "AACAQoh0AAAAKIRIBwAAgEKIdAAAACiESAcAAIBCDGqkjx07Nk1NTWlubk5TU1NWrFgxINudNWtW\n",
              "PvrRj6a5uTnNzc25++67B2S7AAAAUE+Ng/0Ca9asSXNzc/bs2ZMJEyakpaUlU6ZM+bW3e/fdd+eq\n",
              "q6769QcEAACAQgzZ5e5nnXVWzj///PT09KSrqyvVajUTJ05Mc3NzNmzYkCRZtWpVFi1alCTZvn17\n",
              "KpVKNm3alCRZvnx5li9fPlTjAgAAwJAbskjfsWNH9u3bl1mzZmXBggWZN29etm3blrVr12bhwoXp\n",
              "6elJtVpNR0dHkmTz5s2ZOnXqYfer1Wrf9hYvXpwLL7ww8+fPz65du476ur29vdm/f/9ht97e3sHd\n",
              "WQAAAPgABj3S58+fnwsuuCATJkzIjTfemOHDh2fr1q1ZuHBhkmT8+PGZNm1atmzZknHjxiVJdu3a\n",
              "lY6OjrS3t+eJJ57IgQMHsn379r7L5P/xH/8xO3bsyLZt2zJ9+vT8/u///lFfv729Paeddtpht/b2\n",
              "9sHebQAAAOi3QY/0NWvW5Pvf/342bdqUxYsXp7u7+z3PqVQqfV9Xq9Vs3LgxO3fuzMyZM1Or1bJu\n",
              "3bpMnTo1jY3vvIX+7LPP7vu5G264Ibt27cq+ffuO+PpLlizJG2+8cdhtyZIlA7+jAAAA8Gsassvd\n",
              "q9Vq2trasnTp0kyePDmrV69OknR1daWzszMzZszoe97KlSv7zpq3tLRk2bJlfZe6Hzx4MHv37u3b\n",
              "7rp16zJq1KiMHDnyiK87bNiwjBgx4rDbsGHDBnNXAQAA4AMZ9E93/2W33nprzj333Dz22GP54he/\n",
              "mK9+9aupVCp54IEHMmbMmCRJa2trdu/e3Rfls2fPzp133pnW1tYk77zH/DOf+Ux6e3vT0NCQM888\n",
              "M9/+9reHcjcAAABgUFRqtVqt3kMAAABAf82ZMydJsn79+jpPMnCG7HJ3AAAA4FcT6QAAAFAIkQ4A\n",
              "AACFEOkAAABQCJEOAAAAhRDpAAAAUAiRDgAAAIUQ6QAAAFAIkQ4AAACFEOkAAABQCJEOAAAAhRDp\n",
              "AAAAUAiRDgAAAIUQ6QAAAFAIkQ4AAACFEOkAAABQCJEOAAAAhRDpAAAAUAiRDgAAAIUQ6QAAAFAI\n",
              "kQ4AAACFEOkAAABQCJEOAAAAhRDpAAAAUAiRDgAAAIUQ6QAAAFAIkQ4AAACFEOkAAABQCJEOAAAA\n",
              "hRDpAAAAUAiRDgAAAIUQ6QAAAFCIxnoPAAAAAB/EqFGj6j3CgKvUarVavYcAAAAAXO4OAAAAxRDp\n",
              "AAAAUAiRDgAAAIUQ6QAAAFAIkQ4AAACFEOkAAABQCJEOAAAAhRDpBevt7c2Xv/zl9Pb21nsUjsIa\n",
              "HRus07HBOpXPGh0brNOxwTqVzxodG47HdarUarVavYfgyPbv35/TTjstb7zxRkaMGFHvcTgCa3Rs\n",
              "sE7HButUPmt0bLBOxwbrVD5rdGw4HtfJmXQAAAAohEgHAACAQoh0AAAAKIRIL9iwYcOybNmyDBs2\n",
              "rN6jcBTW6NhgnY4N1ql81ujYYJ2ODdapfNbo2HA8rpMPjgMAAIBCOJMOAAAAhRDpAAAAUAiRDgAA\n",
              "AIUQ6YXauXNnLrnkkpx33nm56KKL8r3vfa/eI/Eub731Vq666qqcd955mTRpUmbPnp2urq56j8VR\n",
              "rF69OpVKJRs2bKj3KBxBb29vbrjhhowfPz4XXnhhrrnmmnqPxBE89thjmTx5cpqbm/Oxj30sDz74\n",
              "YL1HOuHddNNNGTt2bCqVSl544YW+xx1HlOVI6+Q4ojxH+/f0C44l6u9oa3S8HUeI9EJdf/31WbRo\n",
              "UX7wgx/kz//8z/O5z32u3iNxBIsWLcpLL72U//zP/8yVV16Z6667rt4jcQTd3d25//77c/HFF9d7\n",
              "FI5i8eLFqVQq+cEPfpAXX3wxd955Z71H4l1qtVquueaafP3rX88LL7yQ73znO7n++uvz5ptv1nu0\n",
              "E9rcuXPT2dmZc84557DHHUeU5Wjr5DiiLEdbp8SxRCmOtkbH23GESC/Qj370ozz33HN9vwG6+uqr\n",
              "88Mf/tBvVwszfPjwXHbZZalUKkmSiy++ON3d3fUdivc4dOhQrrvuuvzN3/zNcfWnOY4nP/vZz/IP\n",
              "//APuf322/v+Pf32b/92nafiSCqVSn76058mSfbv35+RI0f6d1VnM2bMyOjRow97zHFEeY60To4j\n",
              "ynOkdUocS5TkSGt0PB5HiPQC/fCHP8xHPvKRNDY2JnnnoGjMmDHZvXt3nSfjV7nnnnty5ZVX1nsM\n",
              "3uWuu+7KpZdemk984hP1HoWjePnll/Obv/mbueOOO/LJT34y06dPz+OPP17vsXiXSqWSNWvWZM6c\n",
              "OTnnnHMybdq0PPjgg/nQhz5U79F4F8cRxybHEeVyLFG24/E4orHeA8Dx4I477khXV9cx/x/C8ea/\n",
              "/uu/sm7dujz55JP1HoVf4eDBg+np6cmECROyYsWKPP/885k9e3a+973vZdSoUfUej//v4MGDue22\n",
              "27J+/frMmDEj3/3ud3PFFVfkxRdfzJlnnlnv8eCY5jiiXI4lync8Hkc4k16gs88+O6+++moOHjyY\n",
              "5J33Ae7evTtjxoyp82QcyZ133pn169dn48aNOfnkk+s9Dr9ky5Yt6e7uzvjx4zN27Ng888wzWbRo\n",
              "Uf7u7/6u3qPxS8aMGZOGhoYsWLAgSfLxj388H/3oR/Piiy/WeTJ+2QsvvJD/+Z//yYwZM5IkF110\n",
              "UUaPHp3nn3++zpPxbo4jji2OI8rmWKJ8x+NxhEgv0G/91m9l8uTJeeihh5Ik69aty+jRo3PuuefW\n",
              "eTLe7a677so3v/nNbN68Oaeffnq9x+Fd2tra8uqrr6a7uzvd3d25+OKLs2rVqrS1tdV7NH7JmWee\n",
              "mdbW1vzzP/9zkuSVV17JK6+8kgsuuKDOk/HLfhF+3//+95MkXV1defnll9PU1FTnyXg3xxHHDscR\n",
              "5XMsUb7j8TiiUqvVavUegvd66aWX8rnPfS779u3LiBEjsnr16lx44YX1Hotf8t///d85++yzM27c\n",
              "uJx66qlJkmHDhuXf//3f6zwZRzNr1qx84QtfyFVXXVXvUXiXXbt2ZeHChXn99dfT0NCQL33pS7n6\n",
              "6qvrPRbv8s1vfjN33HFHGhoacujQoSxZsiSf/exn6z3WCe3666/Po48+mtdeey0jR47Mqaeemq6u\n",
              "LscRhTnSOv3Lv/yL44jCHO3f0y9zLFFfR1uj4+04QqQDAABAIVzuDgAAAIUQ6QAAAFAIkQ4A9Et3\n",
              "d/dhH3J10003ZezYsalUKnnhhRfqNhcAHA9EOgDwa5k7d246Oztzzjnn1HsUADjmiXQAIE8//XSm\n",
              "TZuWSZMmZeLEifnWt76V5557LpdcckkmTpyYKVOm5Kmnnjriz86YMSOjR48e4okB4PjUWO8BAID6\n",
              "+slPfpKrrroqjzzySKZPn55Dhw7l9ddfzyc/+cncf//9+fSnP53Ozs5cffXV7/lzRADAwHImHQBO\n",
              "cE8//XSampoyffr0JElDQ0P27t2bhoaGfPrTn06STJs2LaNGjfKecwAYZCIdAHhfKpVKvUcAgOOe\n",
              "SAeAE9wll1ySnTt3ZsuWLUmSQ4cOZdSoUTl06FA2b96cJPm3f/u3vPbaa2lubq7jpABw/KvUarVa\n",
              "vYcAAOrrmWeeyS233JI333wzDQ0N+Yu/+It85CMfyU033ZQDBw5k+PDhueuuuzJt2rR0d3enubk5\n",
              "P/3pT5Mk119/fR599NG89tprGTlyZE499VTvXQeAD0ikAwAAQCFc7g4AAACFEOkAAABQCJEOAAAA\n",
              "hRDpAAAAUAiRDgAAAIUQ6QAAAFAIkQ4AAACFEOkAAABQCJEOAAAAhRDpAAAAUAiRDgAAAIX4f1dD\n",
              "sTyQ5gXgAAAAAElFTkSuQmCC\n",
              "\">\n",
              "      </div>\n",
              "      <script type=\"text/javascript\">\n",
              "        (() => {\n",
              "          const chartElement = document.getElementById(\"chart-2dacb05a-9194-4486-97f7-af2e1cedff99\");\n",
              "          async function getCodeForChartHandler(event) {\n",
              "            const chartCodeResponse =  await google.colab.kernel.invokeFunction(\n",
              "                'getCodeForChart', [\"chart-2dacb05a-9194-4486-97f7-af2e1cedff99\"], {});\n",
              "            const responseJson = chartCodeResponse.data['application/json'];\n",
              "            await google.colab.notebook.addCell(responseJson.code, 'code');\n",
              "          }\n",
              "          chartElement.onclick = getCodeForChartHandler;\n",
              "        })();\n",
              "      </script>\n",
              "      <style>\n",
              "        .colab-quickchart-chart-with-code  {\n",
              "            display: block;\n",
              "            float: left;\n",
              "            border: 1px solid transparent;\n",
              "        }\n",
              "\n",
              "        .colab-quickchart-chart-with-code:hover {\n",
              "            cursor: pointer;\n",
              "            border: 1px solid #aaa;\n",
              "        }\n",
              "      </style>"
            ]
          },
          "metadata": {}
        },
        {
          "output_type": "stream",
          "name": "stderr",
          "text": [
            "<string>:5: FutureWarning: \n",
            "\n",
            "Passing `palette` without assigning `hue` is deprecated and will be removed in v0.14.0. Assign the `y` variable to `hue` and set `legend=False` for the same effect.\n",
            "\n"
          ]
        },
        {
          "output_type": "display_data",
          "data": {
            "text/plain": [
              "from matplotlib import pyplot as plt\n",
              "import seaborn as sns\n",
              "figsize = (12, 1.2 * len(_df_17['index'].unique()))\n",
              "plt.figure(figsize=figsize)\n",
              "sns.violinplot(_df_17, x='col2', y='index', inner='stick', palette='Dark2')\n",
              "sns.despine(top=True, right=True, bottom=True, left=True)"
            ],
            "text/html": [
              "      <div class=\"colab-quickchart-chart-with-code\" id=\"chart-3d3cb25e-4c47-44c6-b635-f73a958575f6\">\n",
              "        <img style=\"width: 180px;\" src=\"data:image/png;base64,iVBORw0KGgoAAAANSUhEUgAAA+kAAAIBCAYAAAA1Xf4kAAAAOXRFWHRTb2Z0d2FyZQBNYXRwbG90\n",
              "bGliIHZlcnNpb24zLjcuMSwgaHR0cHM6Ly9tYXRwbG90bGliLm9yZy/bCgiHAAAACXBIWXMAAA9h\n",
              "AAAPYQGoP6dpAAAjzklEQVR4nO3df6yW9X3/8dd9POlhWlGHGWtESpl4lFU4pZWI8qvn3KyJnT+G\n",
              "EpZiZjsM5iTaNLofkGJpmXpYcDpds010pXYmBhFCu1YyOJpNjtNahxZXiuWI59AypZWmIk08K3J/\n",
              "//Dbk6LQeuw55/4gj0dyJ+e+z32u+33lyiHXk+tz36dSq9VqAQAAAOquod4DAAAAAG8S6QAAAFAI\n",
              "kQ4AAACFEOkAAABQCJEOAAAAhRDpAAAAUAiRDgAAAIUQ6QAAAFAIkQ4AAACFEOkAAABQCJEOAAAA\n",
              "hRDpAAAAUAiRDgAAAIUQ6QAAAFAIkQ4AAACFEOkAAABQCJEOAAAAhRDpBWtvb097e3u9xwAAAGCY\n",
              "NNZ7AI5u79699R4BAACAYeRKOgAAABRCpAMAAEAhRDoAAAAUQqQDAABAIUQ6AAAAFEKkAwAAQCFE\n",
              "OgAAABRCpAMAAEAhRDoAAAAUQqQDAABAIUQ6AAAAFEKkAwAAQCFEOgAAABRCpAMAAEAhRDoAAAAU\n",
              "QqQDAABAIUQ6AAAAFEKkAwAAQCFEOgAAABRCpAMAAEAhRDoAAAAUQqQDAABAIUQ6AAAAFEKkAwAA\n",
              "QCFEOgAAABRCpAMAAEAhRDoAAAAUQqQDAABAIUQ6AAAAFEKkAwAAQCFEOgAAABRCpAMAAEAhhjTS\n",
              "x40bl+bm5rS0tKS5uTkrVqwYlO3eeuutaW5uTkNDQzZs2DAo2wQAAIB6axzqF1izZk1aWlqyZ8+e\n",
              "TJw4Ma2trZk6depvtc1qtZo//dM/zZ//+Z8P0pQAAABQf8O23P2MM87IOeeck97e3nR3d6darWbS\n",
              "pElpaWnpvxq+atWqLFq0KEmyffv2VCqVbNq0KUmyfPnyLF++PEkyderUjB8/frhGBwAAgGExbJG+\n",
              "Y8eO7Nu3L7Nnz86CBQsyb968bNu2LWvXrs3ChQvT29ubarWazs7OJMnmzZszbdq0w+5Xq9UBv25f\n",
              "X1/2799/2K2vr29Q9w0AAAAGw5BH+vz583Puuedm4sSJuf766zNixIhs3bo1CxcuTJJMmDAh06dP\n",
              "z5YtW/qvju/atSudnZ3p6OjIo48+mgMHDmT79u3vapl8R0dHTjnllMNuHR0dg7qPAAAAMBiG7T3p\n",
              "nZ2dueSSS9La2vq251Qqlf6vq9VqNm7cmJ07d2bWrFmp1WpZt25dpk2blsbGgY+7ZMmS3HDDDYc9\n",
              "1tTUNPAdAQAAgCE2bMvdq9Vq2tvbs3Tp0kyZMiWrV69OknR3d6erqyszZ87sf97KlSv7r5q3trZm\n",
              "2bJl72qpe/JmkI8cOfKwm0gHAACgRMP6d9JvuummdHV15a677sqaNWsyefLkXHnllbn33nszduzY\n",
              "JElbW1t2797dH+Vz5sxJb29v2tra+rdz8803Z8yYMXniiSdyzTXXZMyYMfnJT34ynLsCAAAAg65S\n",
              "q9Vq9R6CI5s7d26SZP369XWeBAAAgOEwrFfSAQAAgKMT6QAAAFAIkQ4AAACFEOkAAABQCJEOAAAA\n",
              "hRDpAAAAUAiRDgAAAIUQ6QAAAFAIkQ4AAACFEOkAAABQCJEOAAAAhRDpAAAAUAiRDgAAAIUQ6QAA\n",
              "AFAIkQ4AAACFEOkAAABQCJEOAAAAhRDpAAAAUAiRDgAAAIUQ6QAAAFAIkQ4AAACFEOkAAABQCJEO\n",
              "AAAAhRDpAAAAUAiRDgAAAIUQ6QAAAFAIkQ4AAACFEOkAAABQCJEOAAAAhRDpAAAAUAiRDgAAAIUQ\n",
              "6QAAAFCIxnoPwNGNHj263iMAAAAwjCq1Wq1W7yEAAAAAy90BAACgGCIdAAAACiHSAQAAoBAiHQAA\n",
              "AAoh0gEAAKAQIh0AAAAKIdIBAACgECIdAAAACiHSAQAAoBAiHQAAAAoh0gEAAKAQIh0AAAAKIdIB\n",
              "AACgECIdAAAACiHSAQAAoBAiHQAAAAoh0oH3vPb29rS3t9d7DAAA+I0a6z0AwFDbu3dvvUcAAIB3\n",
              "xJV0AAAAKIRIBwAAgEKIdAAAACiESAcAAIBCiHQAAAAohEgHAACAQoh0AAAAKIRIBwAAgEKIdAAA\n",
              "ACiESAcAAIBCiHQAAAAohEgHAACAQoh0AAAAKIRIBwAAgEKIdAAAACiESAcAAIBCiHQAAAAohEgH\n",
              "AACAQoh0AAAAKIRIBwAAgEKIdAAAACiESAcAAIBCiHQAAAAohEgHAACAQoh0AAAAKIRIBwAAgEKI\n",
              "dAAAACiESAcAAIBCiHQAAAAohEgHAACAQoh0AAAAKIRIBwAAgEIMaaSPGzcuzc3NaWlpSXNzc1as\n",
              "WDEo2/3MZz6Ts88+O5MnT85FF12U73znO4OyXQAAAKinxqF+gTVr1qSlpSV79uzJxIkT09ramqlT\n",
              "p/5W2/yTP/mT3HPPPWlsbMw3v/nNzJs3Lz09PYMzMAAAANTJsC13P+OMM3LOOeekt7c33d3dqVar\n",
              "mTRpUlpaWrJhw4YkyapVq7Jo0aIkyfbt21OpVLJp06YkyfLly7N8+fIkyaWXXprGxjf/f+GCCy7I\n",
              "nj17cvDgwSO+bl9fX/bv33/Yra+vb4j3FgAAAAZu2CJ9x44d2bdvX2bPnp0FCxZk3rx52bZtW9au\n",
              "XZuFCxemt7c31Wo1nZ2dSZLNmzdn2rRph92vVqtv2+6dd96Ziy++uD/a36qjoyOnnHLKYbeOjo6h\n",
              "21EAAAB4l4Z8ufv8+fPT0NCQ559/PnfccUdGjBiRrVu35vHHH0+STJgwIdOnT8+WLVty1VVXJUl2\n",
              "7dqVzs7OdHR05MYbb8yBAweyffv2ty2Tv//++/Pggw/mscceO+rrL1myJDfccMNhjzU1NQ3yXgIA\n",
              "AMBvb9jek97Z2ZlLLrkkra2tb3tOpVLp/7parWbjxo3ZuXNnZs2alVqtlnXr1mXatGmHXS1fs2ZN\n",
              "vvSlL+WRRx7J6NGjj/r6TU1NohwAAIBjwrAtd69Wq2lvb8/SpUszZcqUrF69OknS3d2drq6uzJw5\n",
              "s/95K1eu7L9q3trammXLlh221P3BBx/M0qVL09nZmbFjxw7XLgAAAMCQGta/k37TTTelq6srd911\n",
              "V9asWZPJkyfnyiuvzL333tsf221tbdm9e3d/lM+ZMye9vb1pa2vr386CBQvy+uuv57LLLktLS0ta\n",
              "Wlqyb9++4dwVAAAAGHSVWq1Wq/cQAENp7ty5SZL169fXeRIAAPj1hvVKOgAAAHB0Ih0AAAAKIdIB\n",
              "AACgECIdAAAACiHSAQAAoBAiHQAAAAoh0gEAAKAQIh0AAAAKIdIBAACgECIdAAAACiHSAQAAoBAi\n",
              "HQAAAAoh0gEAAKAQIh0AAAAKIdIBAACgECIdAAAACiHSAQAAoBAiHQAAAAoh0gEAAKAQIh0AAAAK\n",
              "IdIBAACgECIdAAAACiHSAQAAoBAiHQAAAAoh0gEAAKAQIh0AAAAKIdIBAACgECIdAAAACiHSAQAA\n",
              "oBAiHQAAAAoh0gEAAKAQjfUeAGCojR49ut4jAADAO1Kp1Wq1eg8BAAAAWO4OAAAAxRDpAAAAUAiR\n",
              "DgAAAIUQ6QAAAFAIkQ4AAACFEOkAAABQCJEOAAAAhRDpAAAAUAiRDgAAAIUQ6QAAAFAIkQ4AAACF\n",
              "EOkAAABQCJEOAAAAhRDpAAAAUAiRDgAAAIUQ6QAAAFAIkQ4AvCPt7e1pb2+v9xgA8J7WWO8BAIBj\n",
              "w969e+s9AgC857mSDgAAAIUQ6QAAAFAIkQ4AAACFEOkAAABQCJEOAAAAhRDpAAAAUAiRDgAAAIUQ\n",
              "6QAAAFAIkQ4AAACFEOkAAABQCJEOAAAAhRDpAAAAUAiRDgAAAIUQ6QAAAFAIkQ4AAACFEOkAAABQ\n",
              "CJEOAAAAhRDpAAAAUAiRDgAAAIUQ6QAAAFAIkQ4AAACFEOkAAABQiEGJ9P/7v/8bjM0AAADAcW3A\n",
              "kX7xxRfnpz/9af/9F154IRdeeOGgDgUAAADHowFHemtra84///w88cQTefDBB/Pxj388ixcvHorZ\n",
              "AAAA4LjSONAf+Iu/+Iucf/75+fjHP55Ro0Zly5YtGT9+/FDMBgAAAMeVAV9J7+npyV/+5V/m6quv\n",
              "zrhx43LLLbfk9ddfH4rZAAAA4Lgy4EifMWNGbrjhhtx999157LHHctppp2Xq1KlDMRsAAAAcVwa8\n",
              "3P2RRx7J2WefnSQ54YQTctttt+Vb3/rWoA8GAAAAx5sBX0kfP358/u7v/i7t7e1J3vx099/5nd8Z\n",
              "9MEAAADgeDPgK+nXXXdd3njjjXR1dSVJRo0alfnz5+fpp58e9OEAAADgeDLgSH/yySfz7LPP5iMf\n",
              "+UiS5NRTT80vfvGLQR8MAAAAjjcDXu4+YsSIw+6/8cYbOXTo0BGfO27cuDQ3N6elpSXNzc1ZsWLF\n",
              "u5vyLT7zmc9k0qRJaWlpyfnnn59HHnlkULYLAAAA9TTgK+mTJk3K/fffn0OHDqW7uzt/+7d/m9mz\n",
              "Zx/1+WvWrElLS0v27NmTiRMnprW19bf+NPg77rgjp556apLkmWeeSVtbW1555ZU0NAz4/xwAAACg\n",
              "GAOu2ttvvz1btmzJyy+/nIsuuigNDQ3v6Ar5GWeckXPOOSe9vb3p7u5OtVrtvxq+YcOGJMmqVauy\n",
              "aNGiJMn27dtTqVSyadOmJMny5cuzfPnyJOkP9CR59dVXB7oLAAAAUKQBR/r73//+3H333dm7d2/2\n",
              "7t2bu+++OyeddNJv/LkdO3Zk3759mT17dhYsWJB58+Zl27ZtWbt2bRYuXJje3t5Uq9V0dnYmSTZv\n",
              "3pxp06Yddr9arfZvb/HixfmDP/iDzJ07N+vWrTvqVfS+vr7s37//sFtfX99AdxsAAACG3Dte7v61\n",
              "r33t137/z/7sz474+Pz589PQ0JDnn38+d9xxR0aMGJGtW7fm8ccfT5JMmDAh06dPz5YtW3LVVVcl\n",
              "SXbt2pXOzs50dHTkxhtvzIEDB7J9+/bDlsmvWLEiK1asSGdnZ/7qr/4qjz/+eN73vve97fU7Ojry\n",
              "pS996bDHli1bli9+8YvvdNcBAABgWLzjSP+3f/u3JMn+/fvzn//5n5k+fXoqlUq6uroya9aso0b6\n",
              "L9+T3tnZmUsuuSStra1ve06lUun/ulqtZuPGjdm5c2dmzZqVWq2WdevWZdq0aWlsfPu41Wo11113\n",
              "XZ577rl89KMffdv3lyxZkhtuuOGwx5qamt7pbgMAAMCwecfL3deuXZu1a9fmxBNPzNNPP53Ozs5s\n",
              "3rw5Tz/99Dta7l6tVtPe3p6lS5dmypQpWb16dZKku7s7XV1dmTlzZv/zVq5c2X/VvLW1NcuWLetf\n",
              "6v6LX/wi3d3d/dt96qmn8uMf/zjjx48/4us2NTVl5MiRh91EOgAAACUa8Ke7d3d358Mf/nD//T/8\n",
              "wz/Mzp0739HP3nTTTTnrrLPy8MMP5/Of/3y+/OUvp1Kp5N57783YsWOTJG1tbdm9e3d/lM+ZMye3\n",
              "3XZb2trakrwZ6VdffXVeffXVNDY25qSTTspDDz2U0047baC7AgAAAEUZcKSPHDkyX/3qV3P11Vcn\n",
              "Se677768//3vP+Jze3p6Drt/2mmnZd++fUnS/4FwbzVq1KjD/u76H/3RH6VWq/XfP/HEE/vfzw4A\n",
              "AADvJQP+dPevfOUr+cd//Mc0NTVlxIgR+ed//uf+pesAAADAuzfgK+nNzc156qmn8tprryVJTj75\n",
              "5EEfCgAAAI5HA470JHnppZfy4osv5uDBg/2P/fKD3wAAAIB3Z8CRfsstt2TlypUZP358TjjhhCRv\n",
              "/gm1p556atCHAwAAgOPJgCP9K1/5Sl544YWMGjVqKOYBAACA49aAPzhu9OjRAh0AAACGwICvpM+Z\n",
              "Myef+9zn8qlPfSojRozof3zSpEmDOhgAAAAcbwYc6V/72teSJF//+tf7H6tUKtm1a9fgTQUAAADH\n",
              "oQFH+osvvjgUcwAAAMBx7x1H+s9//vOcdNJJ2b9//xG/P3LkyEEbCgAAAI5H7zjSZ8yYka1bt+bU\n",
              "U09NpVJJrVbr/16lUskbb7wxJAMCAADA8eIdR/rWrVuTJIcOHRqyYQAAAOB4NuA/wQYAAAAMDZEO\n",
              "AAAAhRDpAAAAUAiRDgAAAIUQ6QAAAFAIkQ4AAACFEOkAAABQCJEOAAAAhRDpAAAAUAiRDgAAAIUQ\n",
              "6QAAAFAIkQ4AAACFEOkAAABQCJEOAAAAhRDpAAAAUAiRDgAAAIUQ6QAAAFAIkQ4AAACFEOkAAABQ\n",
              "CJEOAAAAhWis9wAAwLFh9OjR9R4BAN7zKrVarVbvIQAAAADL3QEAAKAYIh0AAAAKIdIBAACgECId\n",
              "AAAACiHSAQAAoBAiHQAAAAoh0gEAAKAQIh0AAAAKIdIBAACgECIdAAAACiHSAQAAoBAiHQAAAAoh\n",
              "0gEAAKAQIh0AAAAKIdIBAACgECIdAACGWXt7e9rb2+s9BlCgxnoPAAAAx5u9e/fWewSgUK6kAwAA\n",
              "QCFEOgAAABRCpAMAAEAhRDoAAAAUQqQDAABAIUQ6AAAAFEKkAwAAQCFEOgAAABRCpAMAAEAhRDoA\n",
              "AAAUQqQDAABAIUQ6AAAAFEKkAwAAQCFEOgAAABRCpAMAAEAhRDoAAAAUQqQDAABAIUQ6AAAAFEKk\n",
              "AwAAQCFEOgAAABRCpAMAAEAhRDoAAAAUQqQDAABAIUQ6AAAAFEKkAwAAQCFEOgAAABRCpAMAAEAh\n",
              "RDoAAAAUQqQDAABAIUQ6AAAAFEKkAwAAQCFEOgAAABRiSCN93LhxaW5uTktLS5qbm7NixYpB3f6j\n",
              "jz6aE044IX//938/qNsFAACAemgc6hdYs2ZNWlpasmfPnkycODGtra2ZOnXqb73dV199NYsXL87F\n",
              "F188CFMCAABA/Q3bcvczzjgj55xzTnp7e9Pd3Z1qtZpJkyalpaUlGzZsSJKsWrUqixYtSpJs3749\n",
              "lUolmzZtSpIsX748y5cv79/eddddl6VLl2bUqFHDtQsAAAAwpIYt0nfs2JF9+/Zl9uzZWbBgQebN\n",
              "m5dt27Zl7dq1WbhwYXp7e1OtVtPZ2Zkk2bx5c6ZNm3bY/Wq1miR56KGH0tDQkEsvvfQ3vm5fX1/2\n",
              "799/2K2vr2/odhQAAADepSGP9Pnz5+fcc8/NxIkTc/3112fEiBHZunVrFi5cmCSZMGFCpk+fni1b\n",
              "tmT8+PFJkl27dqWzszMdHR159NFHc+DAgWzfvj1Tp07Nyy+/nJtvvjl33nnnO3r9jo6OnHLKKYfd\n",
              "Ojo6hmx/AQAA4N0atvekd3Z25pJLLklra+vbnlOpVPq/rlar2bhxY3bu3JlZs2alVqtl3bp1mTZt\n",
              "WhobG/Pf//3feemll9LS0pIkeeWVV/KNb3wjP/nJT3LLLbe8bdtLlizJDTfccNhjTU1Ng7uTAAAA\n",
              "MAiGbbl7tVpNe3t7li5dmilTpmT16tVJku7u7nR1dWXmzJn9z1u5cmX/h8u1trZm2bJl/UvdP/nJ\n",
              "T2bv3r3p6elJT09PrrzyynzhC184YqAnbwb5yJEjD7uJdAAAAEo0rH8n/aabbkpXV1fuuuuurFmz\n",
              "JpMnT86VV16Ze++9N2PHjk2StLW1Zffu3f1RPmfOnPT29qatrW04RwUAAIBhV6nVarV6DwEAAMeT\n",
              "uXPnJknWr19f50mA0gzrlXQAAADg6EQ6AAAAFEKkAwAAQCFEOgAAABRCpAMAAEAhRDoAAAAUQqQD\n",
              "AABAIUQ6AAAAFEKkAwAAQCFEOgAAABRCpAMAAEAhRDoAAAAUQqQDAABAIUQ6AAAAFEKkAwAAQCFE\n",
              "OgAAABRCpAMAAEAhRDoAAAAUQqQDAABAIUQ6AAAAFEKkAwAAQCFEOgAAABRCpAMAAEAhRDoAAAAU\n",
              "QqQDAABAIUQ6AAAAFEKkAwAAQCFEOgAAABRCpAMAAEAhRDoAAAAUQqQDAABAIUQ6AAAAFKKx3gMA\n",
              "AMDxZvTo0fUeAShUpVar1eo9BAAAAGC5OwAAABRDpAMAAEAhRDoAAAAUQqQDAABAIUQ6AAAAFEKk\n",
              "AwAAQCFEOgAAABRCpAMAAEAhRDoAAAAUQqQDAABAIUQ6AAAAFEKkAwAAQCFEOgAAABRCpAMAAEAh\n",
              "RDoAAAAUQqQDAABAIUQ6AAAAx6T29va0t7fXe4xB1VjvAQAAAODd2Lt3b71HGHSupAMAAEAhRDoA\n",
              "AAAUQqQDAABAIUQ6AAAAFEKkAwAAQCFEOgAAABRCpAMAAEAhRDoAAAAUQqQDAABAIUQ6AAAAFEKk\n",
              "AwAAQCFEOgAAABRCpAMAAEAhRDoAAAAUQqQDAABAIUQ6AAAAFEKkAwAAQCFEOgAAABRCpAMAAEAh\n",
              "RDoAAAAUQqQDAABAIUQ6AAAAFEKkAwAAQCFEOgAAABRCpAMAAEAhRDoAAAAUQqQDAABAIUQ6AAAA\n",
              "FEKkAwAAQCFEOgAAABRCpAMAAEAhRDoAAAAUYkgjfdy4cWlubk5LS0uam5uzYsWKQdnu7Nmz86EP\n",
              "fSgtLS1paWnJHXfcMSjbBQAAgHpqHOoXWLNmTVpaWrJnz55MnDgxra2tmTp16m+93TvuuCOXX375\n",
              "bz8gAAAAFGLYlrufccYZOeecc9Lb25vu7u5Uq9VMmjQpLS0t2bBhQ5Jk1apVWbRoUZJk+/btqVQq\n",
              "2bRpU5Jk+fLlWb58+XCNCwAAAMNu2CJ9x44d2bdvX2bPnp0FCxZk3rx52bZtW9auXZuFCxemt7c3\n",
              "1Wo1nZ2dSZLNmzdn2rRph92vVqv921u8eHHOO++8zJ8/P7t27Trq6/b19WX//v2H3fr6+oZ2ZwEA\n",
              "AOBdGPJInz9/fs4999xMnDgx119/fUaMGJGtW7dm4cKFSZIJEyZk+vTp2bJlS8aPH58k2bVrVzo7\n",
              "O9PR0ZFHH300Bw4cyPbt2/uXyf/rv/5rduzYkW3btmXGjBn54z/+46O+fkdHR0455ZTDbh0dHUO9\n",
              "2wAAADBgQx7pa9asyfe///1s2rQpixcvTk9Pz9ueU6lU+r+uVqvZuHFjdu7cmVmzZqVWq2XdunWZ\n",
              "Nm1aGhvffAv9mWee2f9z1113XXbt2pV9+/Yd8fWXLFmSV1999bDbkiVLBn9HAQAA4Lc0bMvdq9Vq\n",
              "2tvbs3Tp0kyZMiWrV69OknR3d6erqyszZ87sf97KlSv7r5q3trZm2bJl/UvdDx48mL179/Zvd926\n",
              "dRk9enRGjRp1xNdtamrKyJEjD7s1NTUN5a4CAADAuzLkn+7+q2666aacddZZefjhh/P5z38+X/7y\n",
              "l1OpVHLvvfdm7NixSZK2trbs3r27P8rnzJmT2267LW1tbUnefI/5Jz/5yfT19aWhoSGnn356vvGN\n",
              "bwznbgAAAMCQqNRqtVq9hwAAAICBmjt3bpJk/fr1dZ5k8AzbcncAAADg1xPpAAAAUAiRDgAAAIUQ\n",
              "6QAAAFAIkQ4AAACFEOkAAABQCJEOAAAAhRDpAAAAUAiRDgAAAIUQ6QAAAFAIkQ4AAACFEOkAAABQ\n",
              "CJEOAAAAhRDpAAAAUAiRDgAAAIUQ6QAAAFAIkQ4AAACFEOkAAABQCJEOAAAAhRDpAAAAUAiRDgAA\n",
              "AIUQ6QAAAFAIkQ4AAACFEOkAAABQCJEOAAAAhRDpAAAAUAiRDgAAAIUQ6QAAAFAIkQ4AAACFEOkA\n",
              "AABQCJEOAAAAhRDpAAAAUIjGeg8AAAAA78bo0aPrPcKgq9RqtVq9hwAAAAAsdwcAAIBiiHQAAAAo\n",
              "hEgHAACAQoh0AAAAKIRIBwAAgEKIdAAAACiESAcAAIBCiHSGTV9fX774xS+mr6+v3qPwazhOxwbH\n",
              "6djgOJXPMTo2OE7HBsepfI7RsaFSq9Vq9R6C48P+/ftzyimn5NVXX83IkSPrPQ5H4TgdGxynY4Pj\n",
              "VD7H6NjgOB0bHKfyOUbHBlfSAQAAoBAiHQAAAAoh0gEAAKAQIp1h09TUlGXLlqWpqaneo/BrOE7H\n",
              "Bsfp2OA4lc8xOjY4TscGx6l8jtGxwQfHAQAAQCFcSQcAAIBCiHQAAAAohEgHAACAQoh0hsXrr7+e\n",
              "yy+/PGeffXYmT56cOXPmpLu7u95jcRSrV69OpVLJhg0b6j0KR9DX15frrrsuEyZMyHnnnZerrrqq\n",
              "3iNxBA8//HCmTJmSlpaWfPjDH859991X75GOe5/97Gczbty4VCqVPPvss/2P79y5MxdeeGHOPvvs\n",
              "nH/++fne975XvyE54nFyHlGeo/0+/ZJzifo72jFyHlE+kc6wWbRoUZ5//vl897vfzWWXXZZrrrmm\n",
              "3iNxBD09PbnnnntywQUX1HsUjmLx4sWpVCr5wQ9+kOeeey633XZbvUfiLWq1Wq666qp89atfzbPP\n",
              "PptvfvObufbaa/Paa6/Ve7Tj2pVXXpmurq588IMfPOzxa6+9NosWLcoPfvCD/PVf/3U+/elP12dA\n",
              "khz9ODmPKMvRjlPiXKIURztGziPKJ9IZFiNGjMjFF1+cSqWSJLngggvS09NT36F4m0OHDuWaa67J\n",
              "P/zDP/jTHIX6+c9/nn/5l3/JLbfc0v/79Pu///t1noojqVQq+dnPfpYk2b9/f0aNGuX3qs5mzpyZ\n",
              "MWPGHPbYj3/84zz99NP9V5KuuOKK/PCHP3SVto6OdJycR5TnSMcpcS5RkiMdI+cRxwaRTl3ceeed\n",
              "ueyyy+o9Bm9x++2356KLLspHP/rReo/CUbzwwgv53d/93dx666352Mc+lhkzZuSRRx6p91i8RaVS\n",
              "yZo1azJ37tx88IMfzPTp03Pfffflfe97X71H4y1++MMf5gMf+EAaGxuTvHnsxo4dm927d9d5Mn4d\n",
              "5xHlci5RNucRx4bGeg/A8efWW29Nd3e3fxAK8z//8z9Zt25dHnvssXqPwq9x8ODB9Pb2ZuLEiVmx\n",
              "YkWeeeaZzJkzJ9/73vcyevToeo/H/3fw4MHcfPPNWb9+fWbOnJnvfOc7ufTSS/Pcc8/l9NNPr/d4\n",
              "cExzHlEu5xLlcx5xbHAlnWF12223Zf369dm4cWNOPPHEeo/Dr9iyZUt6enoyYcKEjBs3Lk8++WQW\n",
              "LVqUf/qnf6r3aPyKsWPHpqGhIQsWLEiSfOQjH8mHPvShPPfcc3WejF/17LPP5n//938zc+bMJMn5\n",
              "55+fMWPG5JlnnqnzZLzVmWeemZdeeikHDx5M8ubnCezevTtjx46t82QcifOIsjmXKJ/ziGODSGfY\n",
              "3H777XnggQeyefPmnHrqqfUeh7dob2/PSy+9lJ6envT09OSCCy7IqlWr0t7eXu/R+BWnn3562tra\n",
              "8u///u9JkhdffDEvvvhizj333DpPxq/6Zfh9//vfT5J0d3fnhRdeSHNzc50n461+7/d+L1OmTMn9\n",
              "99+fJFm3bl3GjBmTs846q86T8VbOI8rnXKJ8ziOODZVarVar9xC89/3oRz/KmWeemfHjx+fkk09O\n",
              "kjQ1NeXb3/52nSfjaGbPnp3Pfe5zufzyy+s9Cm+xa9euLFy4MK+88koaGhryhS98IVdccUW9x+It\n",
              "Hnjggdx6661paGjIoUOHsmTJknzqU5+q91jHtWuvvTbf+ta38vLLL2fUqFE5+eST093dneeffz6f\n",
              "/vSns2/fvowcOTKrV6/OeeedV+9xj1tHOk7/8R//4TyiMEf7ffpVziXq62jHyHlE+UQ6AAAAFMJy\n",
              "dwAAACiESAcAAIBCiHQAYEB6enr6P7jr9ddfz+WXX56zzz47kydPzpw5c972vlQA4J0T6QDAb2XR\n",
              "okV5/vnn893vfjeXXXZZrrnmmnqPBADHLJEOAOSJJ57I9OnTM3ny5EyaNClf//rX8/TTT+fCCy/M\n",
              "pEmTMnXq1Dz++ONv+7kRI0bk4osvTqVSSZJccMEF6enpGebpAeC9o7HeAwAA9fXTn/40l19+eR56\n",
              "6KHMmDEjhw4dyiuvvJKPfexjueeee/KJT3wiXV1dueKKK37jUvY777wzl1122TBNDgDvPSIdAI5z\n",
              "TzzxRJqbmzNjxowkSUNDQ/bu3ZuGhoZ84hOfSJJMnz49o0ePzrPPPpsxY8YccTu33npruru788gj\n",
              "jwzb7ADwXiPSAYB35JdL2o/ktttuy/r169PZ2ZkTTzxxGKcCgPcW70kHgOPchRdemJ07d2bLli1J\n",
              "kkOHDmX06NE5dOhQNm/enCT5r//6r7z88stpaWl528/ffvvteeCBB7J58+b+T30HAN6dSq1Wq9V7\n",
              "CACgvp588snceOONee2119LQ0JC/+Zu/yQc+8IF89rOfzYEDBzJixIjcfvvtmT59enp6etLS0pKf\n",
              "/exn+dGPfpQzzzwz48ePz8knn5wkaWpqyre//e067xEAHJtEOgAAABTCcncAAAAohEgHAACAQoh0\n",
              "AAAAKIRIBwAAgEKIdAAAACiESAcAAIBCiHQAAAAohEgHAACAQoh0AAAAKIRIBwAAgEKIdAAAACjE\n",
              "/wPk4IVI59RspwAAAABJRU5ErkJggg==\n",
              "\">\n",
              "      </div>\n",
              "      <script type=\"text/javascript\">\n",
              "        (() => {\n",
              "          const chartElement = document.getElementById(\"chart-3d3cb25e-4c47-44c6-b635-f73a958575f6\");\n",
              "          async function getCodeForChartHandler(event) {\n",
              "            const chartCodeResponse =  await google.colab.kernel.invokeFunction(\n",
              "                'getCodeForChart', [\"chart-3d3cb25e-4c47-44c6-b635-f73a958575f6\"], {});\n",
              "            const responseJson = chartCodeResponse.data['application/json'];\n",
              "            await google.colab.notebook.addCell(responseJson.code, 'code');\n",
              "          }\n",
              "          chartElement.onclick = getCodeForChartHandler;\n",
              "        })();\n",
              "      </script>\n",
              "      <style>\n",
              "        .colab-quickchart-chart-with-code  {\n",
              "            display: block;\n",
              "            float: left;\n",
              "            border: 1px solid transparent;\n",
              "        }\n",
              "\n",
              "        .colab-quickchart-chart-with-code:hover {\n",
              "            cursor: pointer;\n",
              "            border: 1px solid #aaa;\n",
              "        }\n",
              "      </style>"
            ]
          },
          "metadata": {}
        },
        {
          "output_type": "stream",
          "name": "stderr",
          "text": [
            "<string>:5: FutureWarning: \n",
            "\n",
            "Passing `palette` without assigning `hue` is deprecated and will be removed in v0.14.0. Assign the `y` variable to `hue` and set `legend=False` for the same effect.\n",
            "\n"
          ]
        },
        {
          "output_type": "display_data",
          "data": {
            "text/plain": [
              "from matplotlib import pyplot as plt\n",
              "import seaborn as sns\n",
              "figsize = (12, 1.2 * len(_df_18['index'].unique()))\n",
              "plt.figure(figsize=figsize)\n",
              "sns.violinplot(_df_18, x='col3', y='index', inner='stick', palette='Dark2')\n",
              "sns.despine(top=True, right=True, bottom=True, left=True)"
            ],
            "text/html": [
              "      <div class=\"colab-quickchart-chart-with-code\" id=\"chart-17bb6149-ec99-4e5c-bfee-d6c498dd5815\">\n",
              "        <img style=\"width: 180px;\" src=\"data:image/png;base64,iVBORw0KGgoAAAANSUhEUgAAA+kAAAIBCAYAAAA1Xf4kAAAAOXRFWHRTb2Z0d2FyZQBNYXRwbG90\n",
              "bGliIHZlcnNpb24zLjcuMSwgaHR0cHM6Ly9tYXRwbG90bGliLm9yZy/bCgiHAAAACXBIWXMAAA9h\n",
              "AAAPYQGoP6dpAAAkAElEQVR4nO3df6yW9X3/8dd9POlh/kAtbmxRKWXiUVbhlFYiyq8ebtrEzh9D\n",
              "CUsx1Q6DOYk2jW4rpFhaph4WnE7XbBNdqc6kQYTSzkoGR7vJcXbWocWVYjniOTiqtNIUtJlnRe7v\n",
              "H357Igqb6Dnn/gCPR3In5765z3W/r3xyzPX0uu77rtRqtVoAAACAumuo9wAAAADAm0Q6AAAAFEKk\n",
              "AwAAQCFEOgAAABRCpAMAAEAhRDoAAAAUQqQDAABAIUQ6AAAAFEKkAwAAQCFEOgAAABRCpAMAAEAh\n",
              "RDoAAAAUQqQDAABAIUQ6AAAAFEKkAwAAQCFEOgAAABRCpAMAAEAhRHrB2tra0tbWVu8xAAAAGCSN\n",
              "9R6Ag9u5c2e9RwAAAGAQOZMOAAAAhRDpAAAAUAiRDgAAAIUQ6QAAAFAIkQ4AAACFEOkAAABQCJEO\n",
              "AAAAhRDpAAAAUAiRDgAAAIUQ6QAAAFAIkQ4AAACFEOkAAABQCJEOAAAAhRDpAAAAUAiRDgAAAIUQ\n",
              "6QAAAFAIkQ4AAACFEOkAAABQCJEOAAAAhRDpAAAAUAiRDgAAAIUQ6QAAAFAIkQ4AAACFEOkAAABQ\n",
              "CJEOAAAAhRDpAAAAUAiRDgAAAIUQ6QAAAFAIkQ4AAACFEOkAAABQCJEOAAAAhRDpAAAAUIgBjfSR\n",
              "I0emubk5LS0taW5uzpIlS/plu7fcckuam5vT0NCQNWvW9Ms2AQAAoN4aB/oFVqxYkZaWluzYsSNj\n",
              "xoxJa2trJkyY8L62Wa1W88d//Mf5kz/5k36aEgAAAOpv0C53P/XUU3PWWWelp6cnXV1dqVarGTt2\n",
              "bFpaWvrOhi9btizz5s1LkmzevDmVSiXr1q1LkixevDiLFy9OkkyYMCGjRo0arNEBAABgUAxapG/Z\n",
              "siW7du3KtGnTMmfOnMyaNSubNm3KypUrM3fu3PT09KRaraajoyNJsn79+kycOHG/+9Vq9ZBft7e3\n",
              "N3v27Nnv1tvb26/7BgAAAP1hwCN99uzZOfvsszNmzJhcd911GTJkSDZu3Ji5c+cmSUaPHp1JkyZl\n",
              "w4YNfWfHt23blo6OjrS3t+fRRx/Na6+9ls2bN7+ny+Tb29tz4okn7ndrb2/v130EAACA/jBo70nv\n",
              "6OjIRRddlNbW1nc8p1Kp9P1crVazdu3abN26NVOnTk2tVsuqVasyceLENDYe+rgLFizI9ddfv99j\n",
              "TU1Nh74jAAAAMMAG7XL3arWatra2LFy4MOPHj8/y5cuTJF1dXens7MyUKVP6nrd06dK+s+atra1Z\n",
              "tGjRe7rUPXkzyIcOHbrfTaQDAABQokH9nvQbb7wxnZ2dufPOO7NixYqMGzcul19+ee65556MGDEi\n",
              "STJ9+vRs3769L8pnzJiRnp6eTJ8+vW87N910U0477bQ88cQTufrqq3Paaafl5z//+WDuCgAAAPS7\n",
              "Sq1Wq9V7CA5s5syZSZLVq1fXeRIAAAAGw6CeSQcAAAAOTqQDAABAIUQ6AAAAFEKkAwAAQCFEOgAA\n",
              "ABRCpAMAAEAhRDoAAAAUQqQDAABAIUQ6AAAAFEKkAwAAQCFEOgAAABRCpAMAAEAhRDoAAAAUQqQD\n",
              "AABAIUQ6AAAAFEKkAwAAQCFEOgAAABRCpAMAAEAhRDoAAAAUQqQDAABAIUQ6AAAAFEKkAwAAQCFE\n",
              "OgAAABRCpAMAAEAhRDoAAAAUQqQDAABAIUQ6AAAAFEKkAwAAQCFEOgAAABRCpAMAAEAhRDoAAAAU\n",
              "QqQDAABAIRrrPQAHN3z48HqPAAAAwCCq1Gq1Wr2HAAAAAFzuDgAAAMUQ6QAAAFAIkQ4AAACFEOkA\n",
              "AABQCJEOAAAAhRDpAAAAUAiRDgAAAIUQ6QAAAFAIkQ4AAACFEOkAAABQCJEOAAAAhRDpAAAAUAiR\n",
              "DgAAAIUQ6QAAAFAIkQ4AAACFEOkAAABQCJEOHPHa2trS1tZW7zEAAOD/1FjvAQAG2s6dO+s9AgAA\n",
              "vCvOpAMAAEAhRDoAAAAUQqQDAABAIUQ6AAAAFEKkAwAAQCFEOgAAABRCpAMAAEAhRDoAAAAUQqQD\n",
              "AABAIUQ6AAAAFEKkAwAAQCFEOgAAABRCpAMAAEAhRDoAAAAUQqQDAABAIUQ6AAAAFEKkAwAAQCFE\n",
              "OgAAABRCpAMAAEAhRDoAAAAUQqQDAABAIUQ6AAAAFEKkAwAAQCFEOgAAABRCpAMAAEAhRDoAAAAU\n",
              "QqQDAABAIUQ6AAAAFEKkAwAAQCFEOgAAABRCpAMAAEAhRDoAAAAUYkAjfeTIkWlubk5LS0uam5uz\n",
              "ZMmSftnu5z73uZx55pkZN25cLrjggvzgBz/ol+0CAABAPTUO9AusWLEiLS0t2bFjR8aMGZPW1tZM\n",
              "mDDhfW3zj/7oj3L33XensbExDz30UGbNmpXu7u7+GRgAAADqZNAudz/11FNz1llnpaenJ11dXalW\n",
              "qxk7dmxaWlqyZs2aJMmyZcsyb968JMnmzZtTqVSybt26JMnixYuzePHiJMnFF1+cxsY3///Ceeed\n",
              "lx07dmTv3r0HfN3e3t7s2bNnv1tvb+8A7y0AAAAcukGL9C1btmTXrl2ZNm1a5syZk1mzZmXTpk1Z\n",
              "uXJl5s6dm56enlSr1XR0dCRJ1q9fn4kTJ+53v1qtvmO7d9xxRy688MK+aH+79vb2nHjiifvd2tvb\n",
              "B25HAQAA4D0a8MvdZ8+enYaGhjz33HO5/fbbM2TIkGzcuDGPP/54kmT06NGZNGlSNmzYkCuuuCJJ\n",
              "sm3btnR0dKS9vT033HBDXnvttWzevPkdl8nff//9eeCBB/LYY48d9PUXLFiQ66+/fr/Hmpqa+nkv\n",
              "AQAA4P0btPekd3R05KKLLkpra+s7nlOpVPp+rlarWbt2bbZu3ZqpU6emVqtl1apVmThx4n5ny1es\n",
              "WJGvfvWreeSRRzJ8+PCDvn5TU5MoBwAA4LAwaJe7V6vVtLW1ZeHChRk/fnyWL1+eJOnq6kpnZ2em\n",
              "TJnS97ylS5f2nTVvbW3NokWL9rvU/YEHHsjChQvT0dGRESNGDNYuAAAAwIAa1O9Jv/HGG9PZ2Zk7\n",
              "77wzK1asyLhx43L55Zfnnnvu6Yvt6dOnZ/v27X1RPmPGjPT09GT69Ol925kzZ05ef/31XHLJJWlp\n",
              "aUlLS0t27do1mLsCAAAA/a5Sq9Vq9R4CYCDNnDkzSbJ69eo6TwIAAP+7QT2TDgAAABycSAcAAIBC\n",
              "iHQAAAAohEgHAACAQoh0AAAAKIRIBwAAgEKIdAAAACiESAcAAIBCiHQAAAAohEgHAACAQoh0AAAA\n",
              "KIRIBwAAgEKIdAAAACiESAcAAIBCiHQAAAAohEgHAACAQoh0AAAAKIRIBwAAgEKIdAAAACiESAcA\n",
              "AIBCiHQAAAAohEgHAACAQoh0AAAAKIRIBwAAgEKIdAAAACiESAcAAIBCiHQAAAAohEgHAACAQoh0\n",
              "AAAAKIRIBwAAgEKIdAAAAChEY70HABhow4cPr/cIAADwrlRqtVqt3kMAAAAALncHAACAYoh0AAAA\n",
              "KIRIBwAAgEKIdAAAACiESAcAAIBCiHQAAAAohEgHAACAQoh0AAAAKIRIBwAAgEKIdAAAACiESAcA\n",
              "AIBCiHQAAAAohEgHAACAQoh0AAAAKIRIBwAAgEKIdAAAACiESAcA3pW2tra0tbXVewwAOKI11nsA\n",
              "AODwsHPnznqPAABHPGfSAQAAoBAiHQAAAAoh0gEAAKAQIh0AAAAKIdIBAACgECIdAAAACiHSAQAA\n",
              "oBAiHQAAAAoh0gEAAKAQIh0AAAAKIdIBAACgECIdAAAACiHSAQAAoBAiHQAAAAoh0gEAAKAQIh0A\n",
              "AAAKIdIBAACgECIdAAAACiHSAQAAoBAiHQAAAAoh0gEAAKAQIh0AAAAK0S+R/j//8z/9sRkAAAA4\n",
              "qh1ypF944YX5xS9+0Xf/+eefz/nnn9+vQwEAAMDR6JAjvbW1Neeee26eeOKJPPDAA/nEJz6R+fPn\n",
              "D8RsAAAAcFRpPNRf+NM//dOce+65+cQnPpFhw4Zlw4YNGTVq1EDMBgAAAEeVQz6T3t3dnT/7sz/L\n",
              "lVdemZEjR+bmm2/O66+/PhCzAQAAwFHlkCN98uTJuf7663PXXXflsccey8knn5wJEyYMxGwAAABw\n",
              "VDnky90feeSRnHnmmUmSY445Jrfeemu++93v9vtgAAAAcLQ55DPpo0aNyl/91V+lra0tyZuf7v5b\n",
              "v/Vb/T4YAAAAHG0O+Uz6tddemzfeeCOdnZ1JkmHDhmX27Nl56qmn+n04AAAAOJoccqR///vfzzPP\n",
              "PJOPfvSjSZKTTjopv/71r/t9MAAAADjaHPLl7kOGDNnv/htvvJF9+/Yd8LkjR45Mc3NzWlpa0tzc\n",
              "nCVLlry3Kd/mc5/7XMaOHZuWlpace+65eeSRR/pluwAAAFBPh3wmfezYsbn//vuzb9++dHV15S//\n",
              "8i8zbdq0gz5/xYoVaWlpyY4dOzJmzJi0tra+70+Dv/3223PSSSclSZ5++ulMnz49r7zyShoaDvn/\n",
              "OQAAAEAxDrlqb7vttmzYsCEvv/xyLrjggjQ0NLyrM+SnnnpqzjrrrPT09KSrqyvVarXvbPiaNWuS\n",
              "JMuWLcu8efOSJJs3b06lUsm6deuSJIsXL87ixYuTpC/Qk2T37t2HugsAAABQpEOO9OOPPz533XVX\n",
              "du7cmZ07d+auu+7Kcccd93/+3pYtW7Jr165MmzYtc+bMyaxZs7Jp06asXLkyc+fOTU9PT6rVajo6\n",
              "OpIk69evz8SJE/e7X61W+7Y3f/78/P7v/35mzpyZVatWHfQsem9vb/bs2bPfrbe391B3GwAAAAbc\n",
              "u77c/b777vtf//2zn/3sAR+fPXt2Ghoa8txzz+X222/PkCFDsnHjxjz++ONJktGjR2fSpEnZsGFD\n",
              "rrjiiiTJtm3b0tHRkfb29txwww157bXXsnnz5v0uk1+yZEmWLFmSjo6O/Pmf/3kef/zxfOADH3jH\n",
              "67e3t+erX/3qfo8tWrQoX/nKV97trgMAAMCgeNeR/k//9E9Jkj179uRf//VfM2nSpFQqlXR2dmbq\n",
              "1KkHjfTfvCe9o6MjF110UVpbW9/xnEql0vdztVrN2rVrs3Xr1kydOjW1Wi2rVq3KxIkT09j4znGr\n",
              "1WquvfbaPPvss/nYxz72jn9fsGBBrr/++v0ea2pqere7DQAAAIPmXV/uvnLlyqxcuTLHHntsnnrq\n",
              "qXR0dGT9+vV56qmn3tXl7tVqNW1tbVm4cGHGjx+f5cuXJ0m6urrS2dmZKVOm9D1v6dKlfWfNW1tb\n",
              "s2jRor5L3X/961+nq6urb7tPPvlkfvazn2XUqFEHfN2mpqYMHTp0v5tIBwAAoESH/OnuXV1d+chH\n",
              "PtJ3/w/+4A+ydevWd/W7N954Y84444w8/PDD+dKXvpSvfe1rqVQqueeeezJixIgkyfTp07N9+/a+\n",
              "KJ8xY0ZuvfXWTJ8+PcmbkX7llVdm9+7daWxszHHHHZcHH3wwJ5988qHuCgAAABTlkCN96NCh+cY3\n",
              "vpErr7wySXLvvffm+OOPP+Bzu7u797t/8sknZ9euXUnS94Fwbzds2LD9vnf9k5/8ZGq1Wt/9Y489\n",
              "tu/97AAAAHAkOeRPd//617+ev/3bv01TU1OGDBmSv//7v++7dB0AAAB47w75THpzc3OefPLJvPrq\n",
              "q0mSE044od+HAgAAgKPRIUd6krz00kt54YUXsnfv3r7HfvPBbwAAAMB7c8iRfvPNN2fp0qUZNWpU\n",
              "jjnmmCRvfoXak08+2e/DAQAAwNHkkCP961//ep5//vkMGzZsIOYBAACAo9Yhf3Dc8OHDBToAAAAM\n",
              "gEM+kz5jxox84QtfyGc+85kMGTKk7/GxY8f262AAAABwtDnkSL/vvvuSJN/+9rf7HqtUKtm2bVv/\n",
              "TQUAAABHoUOO9BdeeGEg5gAAAICj3ruO9F/96lc57rjjsmfPngP++9ChQ/ttKAAAADgavetInzx5\n",
              "cjZu3JiTTjoplUoltVqt798qlUreeOONARkQAAAAjhbvOtI3btyYJNm3b9+ADQMAAABHs0P+CjYA\n",
              "AABgYIh0AAAAKIRIBwAAgEKIdAAAACiESAcAAIBCiHQAAAAohEgHAACAQoh0AAAAKIRIBwAAgEKI\n",
              "dAAAACiESAcAAIBCiHQAAAAohEgHAACAQoh0AAAAKIRIBwAAgEKIdAAAACiESAcAAIBCiHQAAAAo\n",
              "hEgHAACAQoh0AAAAKERjvQcAAA4Pw4cPr/cIAHDEq9RqtVq9hwAAAABc7g4AAADFEOkAAABQCJEO\n",
              "AAAAhRDpAAAAUAiRDgAAAIUQ6QAAAFAIkQ4AAACFEOkAAABQCJEOAAAAhRDpAAAAUAiRDgAAAIUQ\n",
              "6QAAAFAIkQ4AAACFEOkAAABQCJEOAAAAhRDpAAAwyNra2tLW1lbvMYACNdZ7AAAAONrs3Lmz3iMA\n",
              "hXImHQAAAAoh0gEAAKAQIh0AAAAKIdIBAACgECIdAAAACiHSAQAAoBAiHQAAAAoh0gEAAKAQIh0A\n",
              "AAAKIdIBAACgECIdAAAACiHSAQAAoBAiHQAAAAoh0gEAAKAQIh0AAAAKIdIBAACgECIdAAAACiHS\n",
              "AQAAoBAiHQAAAAoh0gEAAKAQIh0AAAAKIdIBAACgECIdAAAACiHSAQAAoBAiHQAAAAoh0gEAAKAQ\n",
              "Ih0AAAAKIdIBAACgECIdAAAACiHSAQAAoBAiHQAAAAoh0gEAAKAQAxrpI0eOTHNzc1paWtLc3Jwl\n",
              "S5b06/YfffTRHHPMMfnrv/7rft0uAAAA1EPjQL/AihUr0tLSkh07dmTMmDFpbW3NhAkT3vd2d+/e\n",
              "nfnz5+fCCy/shykBAACg/gbtcvdTTz01Z511Vnp6etLV1ZVqtZqxY8empaUla9asSZIsW7Ys8+bN\n",
              "S5Js3rw5lUol69atS5IsXrw4ixcv7tvetddem4ULF2bYsGGDtQsAAAAwoAYt0rds2ZJdu3Zl2rRp\n",
              "mTNnTmbNmpVNmzZl5cqVmTt3bnp6elKtVtPR0ZEkWb9+fSZOnLjf/Wq1miR58MEH09DQkIsvvvj/\n",
              "fN3e3t7s2bNnv1tvb+/A7SgAAAC8RwMe6bNnz87ZZ5+dMWPG5LrrrsuQIUOycePGzJ07N0kyevTo\n",
              "TJo0KRs2bMioUaOSJNu2bUtHR0fa29vz6KOP5rXXXsvmzZszYcKEvPzyy7nppptyxx13vKvXb29v\n",
              "z4knnrjfrb29fcD2FwAAAN6rQXtPekdHRy666KK0tra+4zmVSqXv52q1mrVr12br1q2ZOnVqarVa\n",
              "Vq1alYkTJ6axsTH/8R//kZdeeiktLS1JkldeeSXf+c538vOf/zw333zzO7a9YMGCXH/99fs91tTU\n",
              "1L87CQAAAP1g0C53r1araWtry8KFCzN+/PgsX748SdLV1ZXOzs5MmTKl73lLly7t+3C51tbWLFq0\n",
              "qO9S909/+tPZuXNnuru7093dncsvvzxf/vKXDxjoyZtBPnTo0P1uIh0AAIASDer3pN94443p7OzM\n",
              "nXfemRUrVmTcuHG5/PLLc88992TEiBFJkunTp2f79u19UT5jxoz09PRk+vTpgzkqAAAADLpKrVar\n",
              "1XsIAAA4msycOTNJsnr16jpPApRmUM+kAwAAAAcn0gEAAKAQIh0AAAAKIdIBAACgECIdAAAACiHS\n",
              "AQAAoBAiHQAAAAoh0gEAAKAQIh0AAAAKIdIBAACgECIdAAAACiHSAQAAoBAiHQAAAAoh0gEAAKAQ\n",
              "Ih0AAAAKIdIBAACgECIdAAAACiHSAQAAoBAiHQAAAAoh0gEAAKAQIh0AAAAKIdIBAACgECIdAAAA\n",
              "CiHSAQAAoBAiHQAAAAoh0gEAAKAQIh0AAAAKIdIBAACgECIdAAAACiHSAQAAoBAiHQAAAAoh0gEA\n",
              "AKAQjfUeAAAAjjbDhw+v9whAoSq1Wq1W7yEAAAAAl7sDAABAMUQ6AAAAFEKkAwAAQCFEOgAAABRC\n",
              "pAMAAEAhRDoAAAAUQqQDAABAIUQ6AAAAFEKkAwAAQCFEOgAAABRCpAMAAEAhRDoAAAAUQqQDAABA\n",
              "IUQ6AAAAFEKkAwAAQCFEOgAAABRCpAMAAHBYamtrS1tbW73H6FeN9R4AAAAA3oudO3fWe4R+50w6\n",
              "AAAAFEKkAwAAQCFEOgAAABRCpAMAAEAhRDoAAAAUQqQDAABAIUQ6AAAAFEKkAwAAQCFEOgAAABRC\n",
              "pAMAAEAhRDoAAAAUQqQDAABAIUQ6AAAAFEKkAwAAQCFEOgAAABRCpAMAAEAhRDoAAAAUQqQDAABA\n",
              "IUQ6AAAAFEKkAwAAQCFEOgAAABRCpAMAAEAhRDoAAAAUQqQDAABAIUQ6AAAAFEKkAwAAQCFEOgAA\n",
              "ABRCpAMAAEAhRDoAAAAUQqQDAABAIUQ6AAAAFEKkAwAAQCEGNNJHjhyZ5ubmtLS0pLm5OUuWLOmX\n",
              "7U6bNi0f/vCH09LSkpaWltx+++39sl0AAACop8aBfoEVK1akpaUlO3bsyJgxY9La2poJEya87+3e\n",
              "fvvtufTSS9//gAAAAFCIQbvc/dRTT81ZZ52Vnp6edHV1pVqtZuzYsWlpacmaNWuSJMuWLcu8efOS\n",
              "JJs3b06lUsm6deuSJIsXL87ixYsHa1wAAAAYdIMW6Vu2bMmuXbsybdq0zJkzJ7NmzcqmTZuycuXK\n",
              "zJ07Nz09PalWq+no6EiSrF+/PhMnTtzvfrVa7dve/Pnzc84552T27NnZtm3bQV+3t7c3e/bs2e/W\n",
              "29s7sDsLAAAA78GAR/rs2bNz9tlnZ8yYMbnuuusyZMiQbNy4MXPnzk2SjB49OpMmTcqGDRsyatSo\n",
              "JMm2bdvS0dGR9vb2PProo3nttdeyefPmvsvk//Ef/zFbtmzJpk2bMnny5PzhH/7hQV+/vb09J554\n",
              "4n639vb2gd5tAAAAOGQDHukrVqzIj3/846xbty7z589Pd3f3O55TqVT6fq5Wq1m7dm22bt2aqVOn\n",
              "plarZdWqVZk4cWIaG998C/3pp5/e93vXXntttm3bll27dh3w9RcsWJDdu3fvd1uwYEH/7ygAAAC8\n",
              "T4N2uXu1Wk1bW1sWLlyY8ePHZ/ny5UmSrq6udHZ2ZsqUKX3PW7p0ad9Z89bW1ixatKjvUve9e/dm\n",
              "586dfdtdtWpVhg8fnmHDhh3wdZuamjJ06ND9bk1NTQO5qwAAAPCeDPinu7/VjTfemDPOOCMPP/xw\n",
              "vvSlL+VrX/taKpVK7rnnnowYMSJJMn369Gzfvr0vymfMmJFbb70106dPT/Lme8w//elPp7e3Nw0N\n",
              "DTnllFPyne98ZzB3AwAAAAZEpVar1eo9BAAAAByqmTNnJklWr15d50n6z6Bd7g4AAAD870Q6AAAA\n",
              "FEKkAwAAQCFEOgAAABRCpAMAAEAhRDoAAAAUQqQDAABAIUQ6AAAAFEKkAwAAQCFEOgAAABRCpAMA\n",
              "AEAhRDoAAAAUQqQDAABAIUQ6AAAAFEKkAwAAQCFEOgAAABRCpAMAAEAhRDoAAAAUQqQDAABAIUQ6\n",
              "AAAAFEKkAwAAQCFEOgAAABRCpAMAAEAhRDoAAAAUQqQDAABAIUQ6AAAAFEKkAwAAQCFEOgAAABRC\n",
              "pAMAAEAhRDoAAAAUQqQDAABAIUQ6AAAAFKKx3gMAAADAezF8+PB6j9DvKrVarVbvIQAAAACXuwMA\n",
              "AEAxRDoAAAAUQqQDAABAIUQ6AAAAFEKkAwAAQCFEOgAAABRCpAMAAEAhRHrBent785WvfCW9vb31\n",
              "HoWDsEaHB+t0eLBO5bNGhwfrdHiwTuWzRoeHI3GdKrVarVbvITiwPXv25MQTT8zu3bszdOjQeo/D\n",
              "AVijw4N1OjxYp/JZo8ODdTo8WKfyWaPDw5G4Ts6kAwAAQCFEOgAAABRCpAMAAEAhRHrBmpqasmjR\n",
              "ojQ1NdV7FA7CGh0erNPhwTqVzxodHqzT4cE6lc8aHR6OxHXywXEAAABQCGfSAQAAoBAiHQAAAAoh\n",
              "0gEAAKAQIr1Ar7/+ei699NKceeaZGTduXGbMmJGurq56j8VBLF++PJVKJWvWrKn3KBxAb29vrr32\n",
              "2owePTrnnHNOrrjiinqPxAE8/PDDGT9+fFpaWvKRj3wk9957b71HIsnnP//5jBw5MpVKJc8880zf\n",
              "41u3bs3555+fM888M+eee25+9KMf1W/Io9yB1shxRHkO9rf0G44lynCwdXIsUY6DrdGRdhwh0gs1\n",
              "b968PPfcc/nhD3+YSy65JFdffXW9R+IAuru7c/fdd+e8886r9ygcxPz581OpVPKTn/wkzz77bG69\n",
              "9dZ6j8Tb1Gq1XHHFFfnGN76RZ555Jg899FCuueaavPrqq/Ue7ah3+eWXp7OzMx/60If2e/yaa67J\n",
              "vHnz8pOf/CRf/OIXc9VVV9VnQA66Ro4jynKwdUocS5TkYOvkWKIcB1qjI/E4QqQXaMiQIbnwwgtT\n",
              "qVSSJOedd166u7vrOxTvsG/fvlx99dX5m7/5myPqKx+OJL/61a/yD//wD7n55pv7/p5+93d/t85T\n",
              "cSCVSiW//OUvkyR79uzJsGHD/F0VYMqUKTnttNP2e+xnP/tZnnrqqb4zSZdddllefPFFZ2rr5EBr\n",
              "5DiiPAdap8SxRGkOtE6OJcpysL+lI+04QqQfBu64445ccskl9R6Dt7nttttywQUX5GMf+1i9R+Eg\n",
              "nn/++Xzwgx/MLbfcko9//OOZPHlyHnnkkXqPxdtUKpWsWLEiM2fOzIc+9KFMmjQp9957bz7wgQ/U\n",
              "ezQO4MUXX8zv/d7vpbGxMcmb6zdixIhs3769zpNxMI4jyuVYonyOJcp3JB5HNNZ7AP53t9xyS7q6\n",
              "uvzHoDD/+Z//mVWrVuWxxx6r9yj8L/bu3Zuenp6MGTMmS5YsydNPP50ZM2bkRz/6UYYPH17v8fj/\n",
              "9u7dm5tuuimrV6/OlClT8oMf/CAXX3xxnn322Zxyyin1Hg8Oa44jyuVY4vDgWKJ8R+JxhDPpBbv1\n",
              "1luzevXqrF27Nscee2y9x+EtNmzYkO7u7owePTojR47M97///cybNy9/93d/V+/ReIsRI0akoaEh\n",
              "c+bMSZJ89KMfzYc//OE8++yzdZ6Mt3rmmWfy05/+NFOmTEmSnHvuuTnttNPy9NNP13kyDuT000/P\n",
              "Sy+9lL179yZ5872A27dvz4gRI+o8GW/nOKJsjiUOD44lynckHkeI9ELddttt+eY3v5n169fnpJNO\n",
              "qvc4vE1bW1teeumldHd3p7u7O+edd16WLVuWtra2eo/GW5xyyimZPn16/vmf/zlJ8sILL+SFF17I\n",
              "2WefXefJeKvfRN+Pf/zjJElXV1eef/75NDc313kyDuR3fud3Mn78+Nx///1JklWrVuW0007LGWec\n",
              "UefJeCvHEeVzLHF4cCxRviPxOKJSq9Vq9R6C/f3Xf/1XTj/99IwaNSonnHBCkqSpqSn//u//XufJ\n",
              "OJhp06blC1/4Qi699NJ6j8LbbNu2LXPnzs0rr7yShoaGfPnLX85ll11W77F4m29+85u55ZZb0tDQ\n",
              "kH379mXBggX5zGc+U++xjnrXXHNNvvvd7+bll1/OsGHDcsIJJ6SrqyvPPfdcrrrqquzatStDhw7N\n",
              "8uXLc84559R73KPSgdboX/7lXxxHFOZgf0tv5Vii/g62To4lynGwNTrSjiNEOgAAABTC5e4AAABQ\n",
              "CJEOAAAAhRDpAMAh6e7u3u/DyD75yU9m7NixaWlpyeTJkw/rT9QFgHrzPekAwPvywAMP9EX7t771\n",
              "rVx11VX54Q9/WN+hAOAw5Uw6AJAnnngikyZNyrhx4zJ27Nh8+9vfzlNPPZXzzz8/Y8eOzYQJE/L4\n",
              "448f8HffelZ99+7dqVQqgzQ1ABx5nEkHgKPcL37xi1x66aV58MEHM3ny5Ozbty+vvPJKPv7xj+fu\n",
              "u+/Opz71qXR2duayyy57x9dG/cZnP/vZfO9730uSPPzww4M5PgAcUZxJB4Cj3BNPPJHm5uZMnjw5\n",
              "SdLQ0JCdO3emoaEhn/rUp5IkkyZNyvDhw/PMM88ccBv33XdfXnzxxdx000354he/OFijA8ARR6QD\n",
              "AO/Ku7mM/corr8z3vve97Nq1axAmAoAjj0gHgKPc+eefn61bt2bDhg1Jkn379mX48OHZt29f1q9f\n",
              "nyT5t3/7t7z88stpaWnZ73d/+ctf5qc//Wnf/TVr1mTYsGH54Ac/OGjzA8CRxHvSAeAod/LJJ+db\n",
              "3/pWbrjhhrz66qtpaGjIX/zFX2T16tX5/Oc/nxtuuCFDhgzJgw8+mOOPPz6vvPJK3+/u3r07s2bN\n",
              "yn//93+noaEhv/3bv52HHnrIh8cBwHtUqdVqtXoPAQAAALjcHQAAAIoh0gEAAKAQIh0AAAAKIdIB\n",
              "AACgECIdAAAACiHSAQAAoBAiHQAAAAoh0gEAAKAQIh0AAAAKIdIBAACgECIdAAAACvH/AEAK7a08\n",
              "RmXsAAAAAElFTkSuQmCC\n",
              "\">\n",
              "      </div>\n",
              "      <script type=\"text/javascript\">\n",
              "        (() => {\n",
              "          const chartElement = document.getElementById(\"chart-17bb6149-ec99-4e5c-bfee-d6c498dd5815\");\n",
              "          async function getCodeForChartHandler(event) {\n",
              "            const chartCodeResponse =  await google.colab.kernel.invokeFunction(\n",
              "                'getCodeForChart', [\"chart-17bb6149-ec99-4e5c-bfee-d6c498dd5815\"], {});\n",
              "            const responseJson = chartCodeResponse.data['application/json'];\n",
              "            await google.colab.notebook.addCell(responseJson.code, 'code');\n",
              "          }\n",
              "          chartElement.onclick = getCodeForChartHandler;\n",
              "        })();\n",
              "      </script>\n",
              "      <style>\n",
              "        .colab-quickchart-chart-with-code  {\n",
              "            display: block;\n",
              "            float: left;\n",
              "            border: 1px solid transparent;\n",
              "        }\n",
              "\n",
              "        .colab-quickchart-chart-with-code:hover {\n",
              "            cursor: pointer;\n",
              "            border: 1px solid #aaa;\n",
              "        }\n",
              "      </style>"
            ]
          },
          "metadata": {}
        },
        {
          "output_type": "stream",
          "name": "stderr",
          "text": [
            "<string>:5: FutureWarning: \n",
            "\n",
            "Passing `palette` without assigning `hue` is deprecated and will be removed in v0.14.0. Assign the `y` variable to `hue` and set `legend=False` for the same effect.\n",
            "\n"
          ]
        },
        {
          "output_type": "display_data",
          "data": {
            "text/plain": [
              "from matplotlib import pyplot as plt\n",
              "import seaborn as sns\n",
              "figsize = (12, 1.2 * len(_df_19['index'].unique()))\n",
              "plt.figure(figsize=figsize)\n",
              "sns.violinplot(_df_19, x='col4', y='index', inner='stick', palette='Dark2')\n",
              "sns.despine(top=True, right=True, bottom=True, left=True)"
            ],
            "text/html": [
              "      <div class=\"colab-quickchart-chart-with-code\" id=\"chart-b41bbc35-73c1-4d3f-b68c-69553d1eed56\">\n",
              "        <img style=\"width: 180px;\" src=\"data:image/png;base64,iVBORw0KGgoAAAANSUhEUgAAA+kAAAIBCAYAAAA1Xf4kAAAAOXRFWHRTb2Z0d2FyZQBNYXRwbG90\n",
              "bGliIHZlcnNpb24zLjcuMSwgaHR0cHM6Ly9tYXRwbG90bGliLm9yZy/bCgiHAAAACXBIWXMAAA9h\n",
              "AAAPYQGoP6dpAAAjuUlEQVR4nO3df6yW9X3/8dd9POlh/kAdZmwRKWXiUVbhFCsB5VfPuVkTO38M\n",
              "JSzFzHYYzEm0aXQ/IMXSMvWw4Oq0zTbRldqZNIgw2rWSwdFscpyddeiwpViOeA4NQ1ppJtrEsyL3\n",
              "9w+/PSkKnUfPOfcHeTySOzn3fe5z3e8rn2Cup9d133elVqvVAgAAANRdQ70HAAAAAN4k0gEAAKAQ\n",
              "Ih0AAAAKIdIBAACgECIdAAAACiHSAQAAoBAiHQAAAAoh0gEAAKAQIh0AAAAKIdIBAACgECIdAAAA\n",
              "CiHSAQAAoBAiHQAAAAoh0gEAAKAQIh0AAAAKIdIBAACgECIdAAAACiHSC9be3p729vZ6jwEAAMAw\n",
              "aaz3ABzb/v376z0CAAAAw8iZdAAAACiESAcAAIBCiHQAAAAohEgHAACAQoh0AAAAKIRIBwAAgEKI\n",
              "dAAAACiESAcAAIBCiHQAAAAohEgHAACAQoh0AAAAKIRIBwAAgEKIdAAAACiESAcAAIBCiHQAAAAo\n",
              "hEgHAACAQoh0AAAAKIRIBwAAgEKIdAAAACiESAcAAIBCiHQAAAAohEgHAACAQoh0AAAAKIRIBwAA\n",
              "gEKIdAAAACiESAcAAIBCiHQAAAAohEgHAACAQoh0AAAAKIRIBwAAgEKIdAAAACiESAcAAIBCDGmk\n",
              "jxs3Ls3NzWlpaUlzc3NWrlw5KNu944470tzcnIaGhmzcuHFQtgkAAAD11jjUL7B27dq0tLRk7969\n",
              "mThxYlpbWzN16tT3tM1qtZo/+qM/yp/8yZ8M0pQAAABQf8N2ufvZZ5+d888/P729venu7k61Ws2k\n",
              "SZPS0tLSfzZ89erVWbx4cZJkx44dqVQq2bx5c5JkxYoVWbFiRZJk6tSpGT9+/HCNDgAAAMNi2CJ9\n",
              "586dOXDgQObMmZOFCxdm/vz52b59e9atW5dFixalt7c31Wo1nZ2dSZItW7Zk+vTpR9yvVqsDft2+\n",
              "vr4cPHjwiFtfX9+g7hsAAAAMhiGP9AULFuSCCy7IxIkTc9NNN2XEiBHZtm1bFi1alCSZMGFCZsyY\n",
              "ka1bt/afHd+9e3c6OzvT0dGRxx57LK+99lp27Njxri6T7+joyOmnn37EraOjY1D3EQAAAAbDsL0n\n",
              "vbOzM5dffnlaW1vf9pxKpdL/c7VazaZNm7Jr167Mnj07tVot69evz/Tp09PYOPBxly5dmptvvvmI\n",
              "x5qamga+IwAAADDEhu1y92q1mvb29ixbtixTpkzJmjVrkiTd3d3p6urKrFmz+p+3atWq/rPmra2t\n",
              "Wb58+bu61D15M8hHjhx5xE2kAwAAUKJh/Z70W2+9NV1dXbnnnnuydu3aTJ48Oddcc03uv//+jB07\n",
              "NknS1taWPXv29Ef53Llz09vbm7a2tv7t3HbbbRkzZkyefPLJXH/99RkzZkx++tOfDueuAAAAwKCr\n",
              "1Gq1Wr2H4OjmzZuXJNmwYUOdJwEAAGA4DOuZdAAAAODYRDoAAAAUQqQDAABAIUQ6AAAAFEKkAwAA\n",
              "QCFEOgAAABRCpAMAAEAhRDoAAAAUQqQDAABAIUQ6AAAAFEKkAwAAQCFEOgAAABRCpAMAAEAhRDoA\n",
              "AAAUQqQDAABAIUQ6AAAAFEKkAwAAQCFEOgAAABRCpAMAAEAhRDoAAAAUQqQDAABAIUQ6AAAAFEKk\n",
              "AwAAQCFEOgAAABRCpAMAAEAhRDoAAAAUQqQDAABAIUQ6AAAAFEKkAwAAQCFEOgAAABRCpAMAAEAh\n",
              "RDoAAAAUorHeA3Bso0ePrvcIAAAADKNKrVar1XsIAAAAwOXuAAAAUAyRDgAAAIUQ6QAAAFAIkQ4A\n",
              "AACFEOkAAABQCJEOAAAAhRDpAAAAUAiRDgAAAIUQ6QAAAFAIkQ4AAACFEOkAAABQCJEOAAAAhRDp\n",
              "AAAAUAiRDgAAAIUQ6QAAAFAIkQ4AAACFEOnA+157e3va29vrPQYAAPyfGus9AMBQ279/f71HAACA\n",
              "d8SZdAAAACiESAcAAIBCiHQAAAAohEgHAACAQoh0AAAAKIRIBwAAgEKIdAAAACiESAcAAIBCiHQA\n",
              "AAAohEgHAACAQoh0AAAAKIRIBwAAgEKIdAAAACiESAcAAIBCiHQAAAAohEgHAACAQoh0AAAAKIRI\n",
              "BwAAgEKIdAAAACiESAcAAIBCiHQAAAAohEgHAACAQoh0AAAAKIRIBwAAgEKIdAAAACiESAcAAIBC\n",
              "iHQAAAAohEgHAACAQoh0AAAAKIRIBwAAgEKIdAAAACiESAcAAIBCDGmkjxs3Ls3NzWlpaUlzc3NW\n",
              "rlw5KNv99Kc/nfPOOy+TJ0/OpZdemu9973uDsl0AAACop8ahfoG1a9empaUle/fuzcSJE9Pa2pqp\n",
              "U6e+p23+4R/+Ye677740Njbm29/+dubPn5+enp7BGRgAAADqZNgudz/77LNz/vnnp7e3N93d3alW\n",
              "q5k0aVJaWlqycePGJMnq1auzePHiJMmOHTtSqVSyefPmJMmKFSuyYsWKJMkVV1yRxsY3///CtGnT\n",
              "snfv3hw6dOior9vX15eDBw8ecevr6xvivQUAAICBG7ZI37lzZw4cOJA5c+Zk4cKFmT9/frZv3551\n",
              "69Zl0aJF6e3tTbVaTWdnZ5Jky5YtmT59+hH3q9Xq27Z7991357LLLuuP9rfq6OjI6aeffsSto6Nj\n",
              "6HYUAAAA3qUhv9x9wYIFaWhoyPPPP5+77rorI0aMyLZt2/LEE08kSSZMmJAZM2Zk69atufbaa5Mk\n",
              "u3fvTmdnZzo6OnLLLbfktddey44dO952mfyDDz6Yhx56KI8//vgxX3/p0qW5+eabj3isqalpkPcS\n",
              "AAAA3rthe096Z2dnLr/88rS2tr7tOZVKpf/narWaTZs2ZdeuXZk9e3ZqtVrWr1+f6dOnH3G2fO3a\n",
              "tfniF7+YRx99NKNHjz7m6zc1NYlyAAAAjgvDdrl7tVpNe3t7li1blilTpmTNmjVJku7u7nR1dWXW\n",
              "rFn9z1u1alX/WfPW1tYsX778iEvdH3rooSxbtiydnZ0ZO3bscO0CAAAADKlh/Z70W2+9NV1dXbnn\n",
              "nnuydu3aTJ48Oddcc03uv//+/thua2vLnj17+qN87ty56e3tTVtbW/92Fi5cmNdffz1XXnllWlpa\n",
              "0tLSkgMHDgznrgAAAMCgq9RqtVq9hwAYSvPmzUuSbNiwoc6TAADArzesZ9IBAACAYxPpAAAAUAiR\n",
              "DgAAAIUQ6QAAAFAIkQ4AAACFEOkAAABQCJEOAAAAhRDpAAAAUAiRDgAAAIUQ6QAAAFAIkQ4AAACF\n",
              "EOkAAABQCJEOAAAAhRDpAAAAUAiRDgAAAIUQ6QAAAFAIkQ4AAACFEOkAAABQCJEOAAAAhRDpAAAA\n",
              "UAiRDgAAAIUQ6QAAAFAIkQ4AAACFEOkAAABQCJEOAAAAhRDpAAAAUAiRDgAAAIUQ6QAAAFAIkQ4A\n",
              "AACFEOkAAABQCJEOAAAAhWis9wAAQ2306NH1HgEAAN6RSq1Wq9V7CAAAAMDl7gAAAFAMkQ4AAACF\n",
              "EOkAAABQCJEOAAAAhRDpAAAAUAiRDgAAAIUQ6QAAAFAIkQ4AAACFEOkAAABQCJEOAAAAhRDpAAAA\n",
              "UAiRDgAAAIUQ6QAAAFAIkQ4AAACFEOkAAABQCJEOAAAAhRDpAMA70t7envb29nqPAQDva431HgAA\n",
              "OD7s37+/3iMAwPueM+kAAABQCJEOAAAAhRDpAAAAUAiRDgAAAIUQ6QAAAFAIkQ4AAACFEOkAAABQ\n",
              "CJEOAAAAhRDpAAAAUAiRDgAAAIUQ6QAAAFAIkQ4AAACFEOkAAABQCJEOAAAAhRDpAAAAUAiRDgAA\n",
              "AIUQ6QAAAFAIkQ4AAACFEOkAAABQCJEOAAAAhRDpAAAAUAiRDgAAAIUYlEj/3//938HYDAAAAJzQ\n",
              "Bhzpl112WX72s5/133/hhRdyySWXDOpQAAAAcCIacKS3trbm4osvzpNPPpmHHnooH/vYx7JkyZKh\n",
              "mA0AAABOKI0D/YM//dM/zcUXX5yPfexjGTVqVLZu3Zrx48cPxWwAAABwQhnwmfSenp782Z/9Wa67\n",
              "7rqMGzcut99+e15//fWhmA0AAABOKAOO9JkzZ+bmm2/Ovffem8cffzxnnnlmpk6dOhSzAQAAwAll\n",
              "wJe7P/rooznvvPOSJCeddFLuvPPOfOc73xn0wQAAAOBEM+Az6ePHj89f//Vfp729Pcmbn+7+G7/x\n",
              "G4M+GAAAAJxoBnwm/cYbb8wbb7yRrq6uJMmoUaOyYMGCPP3004M+HAAAAJxIBhzp3/3ud/Pss8/m\n",
              "Ix/5SJLkjDPOyC9+8YtBHwwAAABONAO+3H3EiBFH3H/jjTdy+PDhoz533LhxaW5uTktLS5qbm7Ny\n",
              "5cp3N+VbfPrTn86kSZPS0tKSiy++OI8++uigbBcAAADqacBn0idNmpQHH3wwhw8fTnd3d/7qr/4q\n",
              "c+bMOebz165dm5aWluzduzcTJ05Ma2vre/40+LvuuitnnHFGkuSZZ55JW1tbXn755TQ0DPj/OQAA\n",
              "AEAxBly1X/rSl7J169a89NJLufTSS9PQ0PCOzpCfffbZOf/889Pb25vu7u5Uq9X+s+EbN25Mkqxe\n",
              "vTqLFy9OkuzYsSOVSiWbN29OkqxYsSIrVqxIkv5AT5JXXnlloLsAAAAARRpwpJ966qm59957s3//\n",
              "/uzfvz/33ntvTjnllP/z73bu3JkDBw5kzpw5WbhwYebPn5/t27dn3bp1WbRoUXp7e1OtVtPZ2Zkk\n",
              "2bJlS6ZPn37E/Wq12r+9JUuW5Hd/93czb968rF+//phn0fv6+nLw4MEjbn19fQPdbQAAABhy7/hy\n",
              "969//eu/9vd//Md/fNTHFyxYkIaGhjz//PO56667MmLEiGzbti1PPPFEkmTChAmZMWNGtm7dmmuv\n",
              "vTZJsnv37nR2dqajoyO33HJLXnvttezYseOIy+RXrlyZlStXprOzM3/+53+eJ554Ih/4wAfe9vod\n",
              "HR354he/eMRjy5cvzxe+8IV3uusAAAAwLN5xpP/zP/9zkuTgwYP5t3/7t8yYMSOVSiVdXV2ZPXv2\n",
              "MSP9l+9J7+zszOWXX57W1ta3PadSqfT/XK1Ws2nTpuzatSuzZ89OrVbL+vXrM3369DQ2vn3carWa\n",
              "G2+8Mc8991wuuuiit/1+6dKlufnmm494rKmp6Z3uNgAAAAybd3y5+7p167Ju3bqcfPLJefrpp9PZ\n",
              "2ZktW7bk6aeffkeXu1er1bS3t2fZsmWZMmVK1qxZkyTp7u5OV1dXZs2a1f+8VatW9Z81b21tzfLl\n",
              "y/svdf/FL36R7u7u/u0+9dRT+clPfpLx48cf9XWbmpoycuTII24iHQAAgBIN+NPdu7u78+EPf7j/\n",
              "/u/93u9l165d7+hvb7311px77rl55JFH8rnPfS5f+cpXUqlUcv/992fs2LFJkra2tuzZs6c/yufO\n",
              "nZs777wzbW1tSd6M9Ouuuy6vvPJKGhsbc8opp+Thhx/OmWeeOdBdAQAAgKIMONJHjhyZr33ta7nu\n",
              "uuuSJA888EBOPfXUoz63p6fniPtnnnlmDhw4kCT9Hwj3VqNGjTrie9d///d/P7Varf/+ySef3P9+\n",
              "dgAAAHg/GfCnu3/1q1/N3/7t36apqSkjRozI3//93/dfug4AAAC8ewM+k97c3Jynnnoqr776apLk\n",
              "tNNOG/ShAAAA4EQ04EhPkn379uXFF1/MoUOH+h/75Qe/AQAAAO/OgCP99ttvz6pVqzJ+/PicdNJJ\n",
              "Sd78CrWnnnpq0IcDAACAE8mAI/2rX/1qXnjhhYwaNWoo5gEAAIAT1oA/OG706NECHQAAAIbAgM+k\n",
              "z507N5/97GfzyU9+MiNGjOh/fNKkSYM6GAAAAJxoBhzpX//615Mk3/zmN/sfq1Qq2b179+BNBQAA\n",
              "ACegAUf6iy++OBRzAAAAwAnvHUf6z3/+85xyyik5ePDgUX8/cuTIQRsKAAAATkTvONJnzpyZbdu2\n",
              "5YwzzkilUkmtVuv/XaVSyRtvvDEkAwIAAMCJ4h1H+rZt25Ikhw8fHrJhAAAA4EQ24K9gAwAAAIaG\n",
              "SAcAAIBCiHQAAAAohEgHAACAQoh0AAAAKIRIBwAAgEKIdAAAACiESAcAAIBCiHQAAAAohEgHAACA\n",
              "Qoh0AAAAKIRIBwAAgEKIdAAAACiESAcAAIBCiHQAAAAohEgHAACAQoh0AAAAKIRIBwAAgEKIdAAA\n",
              "ACiESAcAAIBCNNZ7AADg+DB69Oh6jwAA73uVWq1Wq/cQAAAAgMvdAQAAoBgiHQAAAAoh0gEAAKAQ\n",
              "Ih0AAAAKIdIBAACgECIdAAAACiHSAQAAoBAiHQAAAAoh0gEAAKAQIh0AAAAKIdIBAACgECIdAAAA\n",
              "CiHSAQAAoBAiHQAAAAoh0gEAAKAQIh0AAIZZe3t72tvb6z0GUKDGeg8AAAAnmv3799d7BKBQzqQD\n",
              "AABAIUQ6AAAAFEKkAwAAQCFEOgAAABRCpAMAAEAhRDoAAAAUQqQDAABAIUQ6AAAAFEKkAwAAQCFE\n",
              "OgAAABRCpAMAAEAhRDoAAAAUQqQDAABAIUQ6AAAAFEKkAwAAQCFEOgAAABRCpAMAAEAhRDoAAAAU\n",
              "QqQDAABAIUQ6AAAAFEKkAwAAQCFEOgAAABRCpAMAAEAhRDoAAAAUQqQDAABAIUQ6AAAAFEKkAwAA\n",
              "QCFEOgAAABRCpAMAAEAhRDoAAAAUQqQDAABAIUQ6AAAAFGJII33cuHFpbm5OS0tLmpubs3LlykHd\n",
              "/mOPPZaTTjopf/M3fzOo2wUAAIB6aBzqF1i7dm1aWlqyd+/eTJw4Ma2trZk6dep73u4rr7ySJUuW\n",
              "5LLLLhuEKQEAAKD+hu1y97PPPjvnn39+ent7093dnWq1mkmTJqWlpSUbN25MkqxevTqLFy9OkuzY\n",
              "sSOVSiWbN29OkqxYsSIrVqzo396NN96YZcuWZdSoUcO1CwAAADCkhi3Sd+7cmQMHDmTOnDlZuHBh\n",
              "5s+fn+3bt2fdunVZtGhRent7U61W09nZmSTZsmVLpk+ffsT9arWaJHn44YfT0NCQK6644v983b6+\n",
              "vhw8ePCIW19f39DtKAAAALxLQx7pCxYsyAUXXJCJEyfmpptuyogRI7Jt27YsWrQoSTJhwoTMmDEj\n",
              "W7duzfjx45Mku3fvTmdnZzo6OvLYY4/ltddey44dOzJ16tS89NJLue2223L33Xe/o9fv6OjI6aef\n",
              "fsSto6NjyPYXAAAA3q1he096Z2dnLr/88rS2tr7tOZVKpf/narWaTZs2ZdeuXZk9e3ZqtVrWr1+f\n",
              "6dOnp7GxMf/5n/+Zffv2paWlJUny8ssv51vf+lZ++tOf5vbbb3/btpcuXZqbb775iMeampoGdycB\n",
              "AABgEAzb5e7VajXt7e1ZtmxZpkyZkjVr1iRJuru709XVlVmzZvU/b9WqVf0fLtfa2prly5f3X+r+\n",
              "iU98Ivv3709PT096enpyzTXX5POf//xRAz15M8hHjhx5xE2kAwAAUKJh/Z70W2+9NV1dXbnnnnuy\n",
              "du3aTJ48Oddcc03uv//+jB07NknS1taWPXv29Ef53Llz09vbm7a2tuEcFQAAAIZdpVar1eo9BAAA\n",
              "nEjmzZuXJNmwYUOdJwFKM6xn0gEAAIBjE+kAAABQCJEOAAAAhRDpAAAAUAiRDgAAAIUQ6QAAAFAI\n",
              "kQ4AAACFEOkAAABQCJEOAAAAhRDpAAAAUAiRDgAAAIUQ6QAAAFAIkQ4AAACFEOkAAABQCJEOAAAA\n",
              "hRDpAAAAUAiRDgAAAIUQ6QAAAFAIkQ4AAACFEOkAAABQCJEOAAAAhRDpAAAAUAiRDgAAAIUQ6QAA\n",
              "AFAIkQ4AAACFEOkAAABQCJEOAAAAhRDpAAAAUAiRDgAAAIUQ6QAAAFAIkQ4AAACFEOkAAABQiMZ6\n",
              "DwAAACea0aNH13sEoFCVWq1Wq/cQAAAAgMvdAQAAoBgiHQAAAAoh0gEAAKAQIh0AAAAKIdIBAACg\n",
              "ECIdAAAACiHSAQAAoBAiHQAAAAoh0gEAAKAQIh0AAAAKIdIBAACgECIdAAAACiHSAQAAoBAiHQAA\n",
              "AAoh0gEAAKAQIh0AAAAKIdIBAAA4LrW3t6e9vb3eYwyqxnoPAAAAAO/G/v376z3CoHMmHQAAAAoh\n",
              "0gEAAKAQIh0AAAAKIdIBAACgECIdAAAACiHSAQAAoBAiHQAAAAoh0gEAAKAQIh0AAAAKIdIBAACg\n",
              "ECIdAAAACiHSAQAAoBAiHQAAAAoh0gEAAKAQIh0AAAAKIdIBAACgECIdAAAACiHSAQAAoBAiHQAA\n",
              "AAoh0gEAAKAQIh0AAAAKIdIBAACgECIdAAAACiHSAQAAoBAiHQAAAAoh0gEAAKAQIh0AAAAKIdIB\n",
              "AACgECIdAAAACiHSAQAAoBAiHQAAAAoh0gEAAKAQQxrp48aNS3Nzc1paWtLc3JyVK1cOynbnzJmT\n",
              "D33oQ2lpaUlLS0vuuuuuQdkuAAAA1FPjUL/A2rVr09LSkr1792bixIlpbW3N1KlT3/N277rrrlx1\n",
              "1VXvfUAAAAAoxLBd7n722Wfn/PPPT29vb7q7u1OtVjNp0qS0tLRk48aNSZLVq1dn8eLFSZIdO3ak\n",
              "Uqlk8+bNSZIVK1ZkxYoVwzUuAAAADLthi/SdO3fmwIEDmTNnThYuXJj58+dn+/btWbduXRYtWpTe\n",
              "3t5Uq9V0dnYmSbZs2ZLp06cfcb9arfZvb8mSJbnwwguzYMGC7N69+5iv29fXl4MHDx5x6+vrG9qd\n",
              "BQAAgHdhyCN9wYIFueCCCzJx4sTcdNNNGTFiRLZt25ZFixYlSSZMmJAZM2Zk69atGT9+fJJk9+7d\n",
              "6ezsTEdHRx577LG89tpr2bFjR/9l8v/4j/+YnTt3Zvv27Zk5c2b+4A/+4Jiv39HRkdNPP/2IW0dH\n",
              "x1DvNgAAAAzYkEf62rVr88Mf/jCbN2/OkiVL0tPT87bnVCqV/p+r1Wo2bdqUXbt2Zfbs2anValm/\n",
              "fn2mT5+exsY330J/zjnn9P/djTfemN27d+fAgQNHff2lS5fmlVdeOeK2dOnSwd9RAAAAeI+G7XL3\n",
              "arWa9vb2LFu2LFOmTMmaNWuSJN3d3enq6sqsWbP6n7dq1ar+s+atra1Zvnx5/6Xuhw4dyv79+/u3\n",
              "u379+owePTqjRo066us2NTVl5MiRR9yampqGclcBAADgXRnyT3f/VbfeemvOPffcPPLII/nc5z6X\n",
              "r3zlK6lUKrn//vszduzYJElbW1v27NnTH+Vz587NnXfemba2tiRvvsf8E5/4RPr6+tLQ0JCzzjor\n",
              "3/rWt4ZzNwAAAGBIVGq1Wq3eQwAAAMBAzZs3L0myYcOGOk8yeIbtcncAAADg1xPpAAAAUAiRDgAA\n",
              "AIUQ6QAAAFAIkQ4AAACFEOkAAABQCJEOAAAAhRDpAAAAUAiRDgAAAIUQ6QAAAFAIkQ4AAACFEOkA\n",
              "AABQCJEOAAAAhRDpAAAAUAiRDgAAAIUQ6QAAAFAIkQ4AAACFEOkAAABQCJEOAAAAhRDpAAAAUAiR\n",
              "DgAAAIUQ6QAAAFAIkQ4AAACFEOkAAABQCJEOAAAAhRDpAAAAUAiRDgAAAIUQ6QAAAFAIkQ4AAACF\n",
              "EOkAAABQCJEOAAAAhRDpAAAAUIjGeg8AAAAA78bo0aPrPcKgq9RqtVq9hwAAAABc7g4AAADFEOkA\n",
              "AABQCJEOAAAAhRDpAAAAUAiRDgAAAIUQ6QAAAFAIkQ4AAACFEOkMm76+vnzhC19IX19fvUfh17BO\n",
              "xwfrdHywTuWzRscH63R8sE7ls0bHh0qtVqvVewhODAcPHszpp5+eV155JSNHjqz3OByDdTo+WKfj\n",
              "g3UqnzU6Plin44N1Kp81Oj44kw4AAACFEOkAAABQCJEOAAAAhRDpDJumpqYsX748TU1N9R6FX8M6\n",
              "HR+s0/HBOpXPGh0frNPxwTqVzxodH3xwHAAAABTCmXQAAAAohEgHAACAQoh0AAAAKIRIZ1itWbMm\n",
              "lUolGzdurPcoHEVfX19uvPHGTJgwIRdeeGGuvfbaeo/EUTzyyCOZMmVKWlpa8uEPfzgPPPBAvUci\n",
              "yWc+85mMGzculUolzz77bP/ju3btyiWXXJLzzjsvF198cX7wgx/Ub8gT3NHW6PXXX89VV12V8847\n",
              "L5MnT87cuXPT3d1d30FPcMf6t/RLjiXKcKx1cixRjmOtkeOI8ol0hk1PT0/uu+++TJs2rd6jcAxL\n",
              "lixJpVLJj370ozz33HO588476z0Sb1Gr1XLttdfma1/7Wp599tl8+9vfzg033JBXX3213qOd8K65\n",
              "5pp0dXXlgx/84BGP33DDDVm8eHF+9KMf5S/+4i/yqU99qj4Dcsw1Wrx4cZ5//vn813/9V6688spc\n",
              "f/31dZqQ5NjrlDiWKMmx1smxRDmOtkaOI44PIp1hcfjw4Vx//fX58pe/7CsfCvXzn/88//AP/5Db\n",
              "b789lUolSfLbv/3bdZ6Ko6lUKvmf//mfJMnBgwczatQo/64KMGvWrIwZM+aIx37yk5/k6aef7j+T\n",
              "dPXVV+fHP/6xM7V1crQ1GjFiRC677LL+/+5NmzYtPT09dZiOXzraOiWOJUpztHVyLFGWY/1bchxR\n",
              "PpHOsPjSl76USy+9NBdddFG9R+EYXnjhhfzmb/5m7rjjjnz0ox/NzJkz8+ijj9Z7LN6iUqlk7dq1\n",
              "mTdvXj74wQ9mxowZeeCBB/KBD3yg3qNxFD/+8Y/zO7/zO2lsbEzy5vqNHTs2e/bsqfNkHMvdd9+d\n",
              "K6+8st5jcBSOJcrnWKJ8jiOOD431HoD3v+9///tZv359Hn/88XqPwq9x6NCh9Pb2ZuLEiVm5cmWe\n",
              "eeaZzJ07Nz/4wQ8yevToeo/H/3fo0KHcdttt2bBhQ2bNmpXvfe97ueKKK/Lcc8/lrLPOqvd4cFy7\n",
              "44470t3dLSoK5Fji+OBYonyOI44PzqQz5LZu3Zqenp5MmDAh48aNy3e/+90sXrw4f/d3f1fv0fgV\n",
              "Y8eOTUNDQxYuXJgk+chHPpIPfehDee655+o8Gb/q2WefzX//939n1qxZSZKLL744Y8aMyTPPPFPn\n",
              "yTiac845J/v27cuhQ4eSvPlewD179mTs2LF1noy3uvPOO7Nhw4Zs2rQpJ598cr3H4S0cSxwfHEuU\n",
              "z3HE8UGkM+Ta29uzb9++9PT0pKenJ9OmTcvq1avT3t5e79H4FWeddVba2tryL//yL0mSF198MS++\n",
              "+GIuuOCCOk/Gr/pl9P3whz9MknR3d+eFF15Ic3NznSfjaH7rt34rU6ZMyYMPPpgkWb9+fcaMGZNz\n",
              "zz23zpPxq770pS/lG9/4RrZs2ZIzzjij3uNwFI4ljg+OJcrnOOL4UKnVarV6D8GJZc6cOfnsZz+b\n",
              "q666qt6j8Ba7d+/OokWL8vLLL6ehoSGf//znc/XVV9d7LN7iG9/4Ru644440NDTk8OHDWbp0aT75\n",
              "yU/We6wT3g033JDvfOc7eemllzJq1Kicdtpp6e7uzvPPP59PfepTOXDgQEaOHJk1a9bkwgsvrPe4\n",
              "J6SjrdG//uu/5pxzzsn48eNz2mmnJUmampryH//xH3We9sR1rH9Lv8qxRP0da50cS5TjWGvkOKJ8\n",
              "Ih0AAAAK4XJ3AAAAKIRIBwAAgEKIdABgQHp6eo76AWtr1qxJpVLJxo0bh30mAHi/EOkAwHvW09OT\n",
              "++67L9OmTav3KABwXBPpAECefPLJzJgxI5MnT86kSZPyzW9+M08//XQuueSSTJo0KVOnTs0TTzxx\n",
              "1L89fPhwrr/++nz5y19OU1PTME8OAO8vjfUeAACor5/97Ge56qqr8vDDD2fmzJk5fPhwXn755Xz0\n",
              "ox/Nfffdl49//OPp6urK1Vdf/bavwkre/J7xSy+9NBdddFEdpgeA9xeRDgAnuCeffDLNzc2ZOXNm\n",
              "kqShoSH79+9PQ0NDPv7xjydJZsyYkdGjR+fZZ5/NmDFj+v/2+9//ftavX5/HH3+8LrMDwPuNSAcA\n",
              "3pFKpfK2x7Zu3Zqenp5MmDAhSfLSSy9l8eLF2bdvX9rb24d7RAA47nlPOgCc4C655JLs2rUrW7du\n",
              "TfLme8xHjx6dw4cPZ8uWLUmSf//3f89LL72UlpaWI/62vb09+/btS09PT3p6ejJt2rSsXr1aoAPA\n",
              "u+RMOgCc4M4888z80z/9U2655Za8+uqraWhoyF/+5V9mw4YN+cxnPpNbbrklI0aMyMMPP5xTTz01\n",
              "L7/8cr1HBoD3rUqtVqvVewgAAADA5e4AAABQDJEOAAAAhRDpAAAAUAiRDgAAAIUQ6QAAAFAIkQ4A\n",
              "AACFEOkAAABQCJEOAAAAhRDpAAAAUAiRDgAAAIUQ6QAAAFCI/wfj4q4HCyd6AwAAAABJRU5ErkJg\n",
              "gg==\n",
              "\">\n",
              "      </div>\n",
              "      <script type=\"text/javascript\">\n",
              "        (() => {\n",
              "          const chartElement = document.getElementById(\"chart-b41bbc35-73c1-4d3f-b68c-69553d1eed56\");\n",
              "          async function getCodeForChartHandler(event) {\n",
              "            const chartCodeResponse =  await google.colab.kernel.invokeFunction(\n",
              "                'getCodeForChart', [\"chart-b41bbc35-73c1-4d3f-b68c-69553d1eed56\"], {});\n",
              "            const responseJson = chartCodeResponse.data['application/json'];\n",
              "            await google.colab.notebook.addCell(responseJson.code, 'code');\n",
              "          }\n",
              "          chartElement.onclick = getCodeForChartHandler;\n",
              "        })();\n",
              "      </script>\n",
              "      <style>\n",
              "        .colab-quickchart-chart-with-code  {\n",
              "            display: block;\n",
              "            float: left;\n",
              "            border: 1px solid transparent;\n",
              "        }\n",
              "\n",
              "        .colab-quickchart-chart-with-code:hover {\n",
              "            cursor: pointer;\n",
              "            border: 1px solid #aaa;\n",
              "        }\n",
              "      </style>"
            ]
          },
          "metadata": {}
        }
      ]
    },
    {
      "cell_type": "code",
      "source": [
        "df.to_csv('Test1.csv') #file theke kono kicu open kora jay kvabe?"
      ],
      "metadata": {
        "id": "h6nfbzdHww5s"
      },
      "execution_count": null,
      "outputs": []
    },
    {
      "cell_type": "code",
      "source": [
        "df.loc['Row2']"
      ],
      "metadata": {
        "colab": {
          "base_uri": "https://localhost:8080/"
        },
        "id": "qpxcvVXyzcUQ",
        "outputId": "19974954-7757-4aee-84c0-10e123e2ce7f"
      },
      "execution_count": null,
      "outputs": [
        {
          "output_type": "execute_result",
          "data": {
            "text/plain": [
              "col1    4\n",
              "col2    5\n",
              "col3    6\n",
              "col4    7\n",
              "Name: Row2, dtype: int64"
            ]
          },
          "metadata": {},
          "execution_count": 13
        }
      ]
    },
    {
      "cell_type": "code",
      "source": [
        "type(df.loc['Row2'])"
      ],
      "metadata": {
        "colab": {
          "base_uri": "https://localhost:8080/",
          "height": 203
        },
        "id": "jnWIgF1l0JtG",
        "outputId": "63d15e7b-6de9-4174-9893-30884a712c6a"
      },
      "execution_count": null,
      "outputs": [
        {
          "output_type": "execute_result",
          "data": {
            "text/plain": [
              "pandas.core.series.Series"
            ],
            "text/html": [
              "<div style=\"max-width:800px; border: 1px solid var(--colab-border-color);\"><style>\n",
              "      pre.function-repr-contents {\n",
              "        overflow-x: auto;\n",
              "        padding: 8px 12px;\n",
              "        max-height: 500px;\n",
              "      }\n",
              "\n",
              "      pre.function-repr-contents.function-repr-contents-collapsed {\n",
              "        cursor: pointer;\n",
              "        max-height: 100px;\n",
              "      }\n",
              "    </style>\n",
              "    <pre style=\"white-space: initial; background:\n",
              "         var(--colab-secondary-surface-color); padding: 8px 12px;\n",
              "         border-bottom: 1px solid var(--colab-border-color);\"><b>pandas.core.series.Series</b><br/>def __init__(data=None, index=None, dtype: Dtype | None=None, name=None, copy: bool | None=None, fastpath: bool=False) -&gt; None</pre><pre class=\"function-repr-contents function-repr-contents-collapsed\" style=\"\"><a class=\"filepath\" style=\"display:none\" href=\"#\">/usr/local/lib/python3.10/dist-packages/pandas/core/series.py</a>One-dimensional ndarray with axis labels (including time series).\n",
              "\n",
              "Labels need not be unique but must be a hashable type. The object\n",
              "supports both integer- and label-based indexing and provides a host of\n",
              "methods for performing operations involving the index. Statistical\n",
              "methods from ndarray have been overridden to automatically exclude\n",
              "missing data (currently represented as NaN).\n",
              "\n",
              "Operations between Series (+, -, /, \\*, \\*\\*) align values based on their\n",
              "associated index values-- they need not be the same length. The result\n",
              "index will be the sorted union of the two indexes.\n",
              "\n",
              "Parameters\n",
              "----------\n",
              "data : array-like, Iterable, dict, or scalar value\n",
              "    Contains data stored in Series. If data is a dict, argument order is\n",
              "    maintained.\n",
              "index : array-like or Index (1d)\n",
              "    Values must be hashable and have the same length as `data`.\n",
              "    Non-unique index values are allowed. Will default to\n",
              "    RangeIndex (0, 1, 2, ..., n) if not provided. If data is dict-like\n",
              "    and index is None, then the keys in the data are used as the index. If the\n",
              "    index is not None, the resulting Series is reindexed with the index values.\n",
              "dtype : str, numpy.dtype, or ExtensionDtype, optional\n",
              "    Data type for the output Series. If not specified, this will be\n",
              "    inferred from `data`.\n",
              "    See the :ref:`user guide &lt;basics.dtypes&gt;` for more usages.\n",
              "name : Hashable, default None\n",
              "    The name to give to the Series.\n",
              "copy : bool, default False\n",
              "    Copy input data. Only affects Series or 1d ndarray input. See examples.\n",
              "\n",
              "Notes\n",
              "-----\n",
              "Please reference the :ref:`User Guide &lt;basics.series&gt;` for more information.\n",
              "\n",
              "Examples\n",
              "--------\n",
              "Constructing Series from a dictionary with an Index specified\n",
              "\n",
              "&gt;&gt;&gt; d = {&#x27;a&#x27;: 1, &#x27;b&#x27;: 2, &#x27;c&#x27;: 3}\n",
              "&gt;&gt;&gt; ser = pd.Series(data=d, index=[&#x27;a&#x27;, &#x27;b&#x27;, &#x27;c&#x27;])\n",
              "&gt;&gt;&gt; ser\n",
              "a   1\n",
              "b   2\n",
              "c   3\n",
              "dtype: int64\n",
              "\n",
              "The keys of the dictionary match with the Index values, hence the Index\n",
              "values have no effect.\n",
              "\n",
              "&gt;&gt;&gt; d = {&#x27;a&#x27;: 1, &#x27;b&#x27;: 2, &#x27;c&#x27;: 3}\n",
              "&gt;&gt;&gt; ser = pd.Series(data=d, index=[&#x27;x&#x27;, &#x27;y&#x27;, &#x27;z&#x27;])\n",
              "&gt;&gt;&gt; ser\n",
              "x   NaN\n",
              "y   NaN\n",
              "z   NaN\n",
              "dtype: float64\n",
              "\n",
              "Note that the Index is first build with the keys from the dictionary.\n",
              "After this the Series is reindexed with the given Index values, hence we\n",
              "get all NaN as a result.\n",
              "\n",
              "Constructing Series from a list with `copy=False`.\n",
              "\n",
              "&gt;&gt;&gt; r = [1, 2]\n",
              "&gt;&gt;&gt; ser = pd.Series(r, copy=False)\n",
              "&gt;&gt;&gt; ser.iloc[0] = 999\n",
              "&gt;&gt;&gt; r\n",
              "[1, 2]\n",
              "&gt;&gt;&gt; ser\n",
              "0    999\n",
              "1      2\n",
              "dtype: int64\n",
              "\n",
              "Due to input data type the Series has a `copy` of\n",
              "the original data even though `copy=False`, so\n",
              "the data is unchanged.\n",
              "\n",
              "Constructing Series from a 1d ndarray with `copy=False`.\n",
              "\n",
              "&gt;&gt;&gt; r = np.array([1, 2])\n",
              "&gt;&gt;&gt; ser = pd.Series(r, copy=False)\n",
              "&gt;&gt;&gt; ser.iloc[0] = 999\n",
              "&gt;&gt;&gt; r\n",
              "array([999,   2])\n",
              "&gt;&gt;&gt; ser\n",
              "0    999\n",
              "1      2\n",
              "dtype: int64\n",
              "\n",
              "Due to input data type the Series has a `view` on\n",
              "the original data, so\n",
              "the data is changed as well.</pre>\n",
              "      <script>\n",
              "      if (google.colab.kernel.accessAllowed && google.colab.files && google.colab.files.view) {\n",
              "        for (const element of document.querySelectorAll('.filepath')) {\n",
              "          element.style.display = 'block'\n",
              "          element.onclick = (event) => {\n",
              "            event.preventDefault();\n",
              "            event.stopPropagation();\n",
              "            google.colab.files.view(element.textContent, 244);\n",
              "          };\n",
              "        }\n",
              "      }\n",
              "      for (const element of document.querySelectorAll('.function-repr-contents')) {\n",
              "        element.onclick = (event) => {\n",
              "          event.preventDefault();\n",
              "          event.stopPropagation();\n",
              "          element.classList.toggle('function-repr-contents-collapsed');\n",
              "        };\n",
              "      }\n",
              "      </script>\n",
              "      </div>"
            ]
          },
          "metadata": {},
          "execution_count": 14
        }
      ]
    },
    {
      "cell_type": "code",
      "source": [
        "df.iloc[:,:]"
      ],
      "metadata": {
        "colab": {
          "base_uri": "https://localhost:8080/",
          "height": 206
        },
        "id": "sgAgqqDV0Uzx",
        "outputId": "c2a0e95b-a505-43b3-b813-de5f0e4bd7a2"
      },
      "execution_count": null,
      "outputs": [
        {
          "output_type": "execute_result",
          "data": {
            "text/plain": [
              "      col1  col2  col3  col4\n",
              "Row1     0     1     2     3\n",
              "Row2     4     5     6     7\n",
              "Row3     8     9    10    11\n",
              "Row4    12    13    14    15\n",
              "Row5    16    17    18    19"
            ],
            "text/html": [
              "\n",
              "  <div id=\"df-9a580b18-4671-4546-ac2e-5e3bdf3bbc7f\" class=\"colab-df-container\">\n",
              "    <div>\n",
              "<style scoped>\n",
              "    .dataframe tbody tr th:only-of-type {\n",
              "        vertical-align: middle;\n",
              "    }\n",
              "\n",
              "    .dataframe tbody tr th {\n",
              "        vertical-align: top;\n",
              "    }\n",
              "\n",
              "    .dataframe thead th {\n",
              "        text-align: right;\n",
              "    }\n",
              "</style>\n",
              "<table border=\"1\" class=\"dataframe\">\n",
              "  <thead>\n",
              "    <tr style=\"text-align: right;\">\n",
              "      <th></th>\n",
              "      <th>col1</th>\n",
              "      <th>col2</th>\n",
              "      <th>col3</th>\n",
              "      <th>col4</th>\n",
              "    </tr>\n",
              "  </thead>\n",
              "  <tbody>\n",
              "    <tr>\n",
              "      <th>Row1</th>\n",
              "      <td>0</td>\n",
              "      <td>1</td>\n",
              "      <td>2</td>\n",
              "      <td>3</td>\n",
              "    </tr>\n",
              "    <tr>\n",
              "      <th>Row2</th>\n",
              "      <td>4</td>\n",
              "      <td>5</td>\n",
              "      <td>6</td>\n",
              "      <td>7</td>\n",
              "    </tr>\n",
              "    <tr>\n",
              "      <th>Row3</th>\n",
              "      <td>8</td>\n",
              "      <td>9</td>\n",
              "      <td>10</td>\n",
              "      <td>11</td>\n",
              "    </tr>\n",
              "    <tr>\n",
              "      <th>Row4</th>\n",
              "      <td>12</td>\n",
              "      <td>13</td>\n",
              "      <td>14</td>\n",
              "      <td>15</td>\n",
              "    </tr>\n",
              "    <tr>\n",
              "      <th>Row5</th>\n",
              "      <td>16</td>\n",
              "      <td>17</td>\n",
              "      <td>18</td>\n",
              "      <td>19</td>\n",
              "    </tr>\n",
              "  </tbody>\n",
              "</table>\n",
              "</div>\n",
              "    <div class=\"colab-df-buttons\">\n",
              "\n",
              "  <div class=\"colab-df-container\">\n",
              "    <button class=\"colab-df-convert\" onclick=\"convertToInteractive('df-9a580b18-4671-4546-ac2e-5e3bdf3bbc7f')\"\n",
              "            title=\"Convert this dataframe to an interactive table.\"\n",
              "            style=\"display:none;\">\n",
              "\n",
              "  <svg xmlns=\"http://www.w3.org/2000/svg\" height=\"24px\" viewBox=\"0 -960 960 960\">\n",
              "    <path d=\"M120-120v-720h720v720H120Zm60-500h600v-160H180v160Zm220 220h160v-160H400v160Zm0 220h160v-160H400v160ZM180-400h160v-160H180v160Zm440 0h160v-160H620v160ZM180-180h160v-160H180v160Zm440 0h160v-160H620v160Z\"/>\n",
              "  </svg>\n",
              "    </button>\n",
              "\n",
              "  <style>\n",
              "    .colab-df-container {\n",
              "      display:flex;\n",
              "      gap: 12px;\n",
              "    }\n",
              "\n",
              "    .colab-df-convert {\n",
              "      background-color: #E8F0FE;\n",
              "      border: none;\n",
              "      border-radius: 50%;\n",
              "      cursor: pointer;\n",
              "      display: none;\n",
              "      fill: #1967D2;\n",
              "      height: 32px;\n",
              "      padding: 0 0 0 0;\n",
              "      width: 32px;\n",
              "    }\n",
              "\n",
              "    .colab-df-convert:hover {\n",
              "      background-color: #E2EBFA;\n",
              "      box-shadow: 0px 1px 2px rgba(60, 64, 67, 0.3), 0px 1px 3px 1px rgba(60, 64, 67, 0.15);\n",
              "      fill: #174EA6;\n",
              "    }\n",
              "\n",
              "    .colab-df-buttons div {\n",
              "      margin-bottom: 4px;\n",
              "    }\n",
              "\n",
              "    [theme=dark] .colab-df-convert {\n",
              "      background-color: #3B4455;\n",
              "      fill: #D2E3FC;\n",
              "    }\n",
              "\n",
              "    [theme=dark] .colab-df-convert:hover {\n",
              "      background-color: #434B5C;\n",
              "      box-shadow: 0px 1px 3px 1px rgba(0, 0, 0, 0.15);\n",
              "      filter: drop-shadow(0px 1px 2px rgba(0, 0, 0, 0.3));\n",
              "      fill: #FFFFFF;\n",
              "    }\n",
              "  </style>\n",
              "\n",
              "    <script>\n",
              "      const buttonEl =\n",
              "        document.querySelector('#df-9a580b18-4671-4546-ac2e-5e3bdf3bbc7f button.colab-df-convert');\n",
              "      buttonEl.style.display =\n",
              "        google.colab.kernel.accessAllowed ? 'block' : 'none';\n",
              "\n",
              "      async function convertToInteractive(key) {\n",
              "        const element = document.querySelector('#df-9a580b18-4671-4546-ac2e-5e3bdf3bbc7f');\n",
              "        const dataTable =\n",
              "          await google.colab.kernel.invokeFunction('convertToInteractive',\n",
              "                                                    [key], {});\n",
              "        if (!dataTable) return;\n",
              "\n",
              "        const docLinkHtml = 'Like what you see? Visit the ' +\n",
              "          '<a target=\"_blank\" href=https://colab.research.google.com/notebooks/data_table.ipynb>data table notebook</a>'\n",
              "          + ' to learn more about interactive tables.';\n",
              "        element.innerHTML = '';\n",
              "        dataTable['output_type'] = 'display_data';\n",
              "        await google.colab.output.renderOutput(dataTable, element);\n",
              "        const docLink = document.createElement('div');\n",
              "        docLink.innerHTML = docLinkHtml;\n",
              "        element.appendChild(docLink);\n",
              "      }\n",
              "    </script>\n",
              "  </div>\n",
              "\n",
              "\n",
              "<div id=\"df-66ad3554-4416-4ffd-9e73-dbd965d3c59b\">\n",
              "  <button class=\"colab-df-quickchart\" onclick=\"quickchart('df-66ad3554-4416-4ffd-9e73-dbd965d3c59b')\"\n",
              "            title=\"Suggest charts\"\n",
              "            style=\"display:none;\">\n",
              "\n",
              "<svg xmlns=\"http://www.w3.org/2000/svg\" height=\"24px\"viewBox=\"0 0 24 24\"\n",
              "     width=\"24px\">\n",
              "    <g>\n",
              "        <path d=\"M19 3H5c-1.1 0-2 .9-2 2v14c0 1.1.9 2 2 2h14c1.1 0 2-.9 2-2V5c0-1.1-.9-2-2-2zM9 17H7v-7h2v7zm4 0h-2V7h2v10zm4 0h-2v-4h2v4z\"/>\n",
              "    </g>\n",
              "</svg>\n",
              "  </button>\n",
              "\n",
              "<style>\n",
              "  .colab-df-quickchart {\n",
              "      --bg-color: #E8F0FE;\n",
              "      --fill-color: #1967D2;\n",
              "      --hover-bg-color: #E2EBFA;\n",
              "      --hover-fill-color: #174EA6;\n",
              "      --disabled-fill-color: #AAA;\n",
              "      --disabled-bg-color: #DDD;\n",
              "  }\n",
              "\n",
              "  [theme=dark] .colab-df-quickchart {\n",
              "      --bg-color: #3B4455;\n",
              "      --fill-color: #D2E3FC;\n",
              "      --hover-bg-color: #434B5C;\n",
              "      --hover-fill-color: #FFFFFF;\n",
              "      --disabled-bg-color: #3B4455;\n",
              "      --disabled-fill-color: #666;\n",
              "  }\n",
              "\n",
              "  .colab-df-quickchart {\n",
              "    background-color: var(--bg-color);\n",
              "    border: none;\n",
              "    border-radius: 50%;\n",
              "    cursor: pointer;\n",
              "    display: none;\n",
              "    fill: var(--fill-color);\n",
              "    height: 32px;\n",
              "    padding: 0;\n",
              "    width: 32px;\n",
              "  }\n",
              "\n",
              "  .colab-df-quickchart:hover {\n",
              "    background-color: var(--hover-bg-color);\n",
              "    box-shadow: 0 1px 2px rgba(60, 64, 67, 0.3), 0 1px 3px 1px rgba(60, 64, 67, 0.15);\n",
              "    fill: var(--button-hover-fill-color);\n",
              "  }\n",
              "\n",
              "  .colab-df-quickchart-complete:disabled,\n",
              "  .colab-df-quickchart-complete:disabled:hover {\n",
              "    background-color: var(--disabled-bg-color);\n",
              "    fill: var(--disabled-fill-color);\n",
              "    box-shadow: none;\n",
              "  }\n",
              "\n",
              "  .colab-df-spinner {\n",
              "    border: 2px solid var(--fill-color);\n",
              "    border-color: transparent;\n",
              "    border-bottom-color: var(--fill-color);\n",
              "    animation:\n",
              "      spin 1s steps(1) infinite;\n",
              "  }\n",
              "\n",
              "  @keyframes spin {\n",
              "    0% {\n",
              "      border-color: transparent;\n",
              "      border-bottom-color: var(--fill-color);\n",
              "      border-left-color: var(--fill-color);\n",
              "    }\n",
              "    20% {\n",
              "      border-color: transparent;\n",
              "      border-left-color: var(--fill-color);\n",
              "      border-top-color: var(--fill-color);\n",
              "    }\n",
              "    30% {\n",
              "      border-color: transparent;\n",
              "      border-left-color: var(--fill-color);\n",
              "      border-top-color: var(--fill-color);\n",
              "      border-right-color: var(--fill-color);\n",
              "    }\n",
              "    40% {\n",
              "      border-color: transparent;\n",
              "      border-right-color: var(--fill-color);\n",
              "      border-top-color: var(--fill-color);\n",
              "    }\n",
              "    60% {\n",
              "      border-color: transparent;\n",
              "      border-right-color: var(--fill-color);\n",
              "    }\n",
              "    80% {\n",
              "      border-color: transparent;\n",
              "      border-right-color: var(--fill-color);\n",
              "      border-bottom-color: var(--fill-color);\n",
              "    }\n",
              "    90% {\n",
              "      border-color: transparent;\n",
              "      border-bottom-color: var(--fill-color);\n",
              "    }\n",
              "  }\n",
              "</style>\n",
              "\n",
              "  <script>\n",
              "    async function quickchart(key) {\n",
              "      const quickchartButtonEl =\n",
              "        document.querySelector('#' + key + ' button');\n",
              "      quickchartButtonEl.disabled = true;  // To prevent multiple clicks.\n",
              "      quickchartButtonEl.classList.add('colab-df-spinner');\n",
              "      try {\n",
              "        const charts = await google.colab.kernel.invokeFunction(\n",
              "            'suggestCharts', [key], {});\n",
              "      } catch (error) {\n",
              "        console.error('Error during call to suggestCharts:', error);\n",
              "      }\n",
              "      quickchartButtonEl.classList.remove('colab-df-spinner');\n",
              "      quickchartButtonEl.classList.add('colab-df-quickchart-complete');\n",
              "    }\n",
              "    (() => {\n",
              "      let quickchartButtonEl =\n",
              "        document.querySelector('#df-66ad3554-4416-4ffd-9e73-dbd965d3c59b button');\n",
              "      quickchartButtonEl.style.display =\n",
              "        google.colab.kernel.accessAllowed ? 'block' : 'none';\n",
              "    })();\n",
              "  </script>\n",
              "</div>\n",
              "\n",
              "    </div>\n",
              "  </div>\n"
            ],
            "application/vnd.google.colaboratory.intrinsic+json": {
              "type": "dataframe",
              "summary": "{\n  \"name\": \"df\",\n  \"rows\": 5,\n  \"fields\": [\n    {\n      \"column\": \"col1\",\n      \"properties\": {\n        \"dtype\": \"number\",\n        \"std\": 6,\n        \"min\": 0,\n        \"max\": 16,\n        \"num_unique_values\": 5,\n        \"samples\": [\n          4,\n          16,\n          8\n        ],\n        \"semantic_type\": \"\",\n        \"description\": \"\"\n      }\n    },\n    {\n      \"column\": \"col2\",\n      \"properties\": {\n        \"dtype\": \"number\",\n        \"std\": 6,\n        \"min\": 1,\n        \"max\": 17,\n        \"num_unique_values\": 5,\n        \"samples\": [\n          5,\n          17,\n          9\n        ],\n        \"semantic_type\": \"\",\n        \"description\": \"\"\n      }\n    },\n    {\n      \"column\": \"col3\",\n      \"properties\": {\n        \"dtype\": \"number\",\n        \"std\": 6,\n        \"min\": 2,\n        \"max\": 18,\n        \"num_unique_values\": 5,\n        \"samples\": [\n          6,\n          18,\n          10\n        ],\n        \"semantic_type\": \"\",\n        \"description\": \"\"\n      }\n    },\n    {\n      \"column\": \"col4\",\n      \"properties\": {\n        \"dtype\": \"number\",\n        \"std\": 6,\n        \"min\": 3,\n        \"max\": 19,\n        \"num_unique_values\": 5,\n        \"samples\": [\n          7,\n          19,\n          11\n        ],\n        \"semantic_type\": \"\",\n        \"description\": \"\"\n      }\n    }\n  ]\n}"
            }
          },
          "metadata": {},
          "execution_count": 16
        }
      ]
    },
    {
      "cell_type": "code",
      "source": [
        "df.iloc[3:,0:3]"
      ],
      "metadata": {
        "colab": {
          "base_uri": "https://localhost:8080/",
          "height": 112
        },
        "id": "Pr5QAwTrHdKN",
        "outputId": "b5ff1e8c-1d1d-4aff-be4a-0c4045e0fc39"
      },
      "execution_count": null,
      "outputs": [
        {
          "output_type": "execute_result",
          "data": {
            "text/plain": [
              "      col1  col2  col3\n",
              "Row4    12    13    14\n",
              "Row5    16    17    18"
            ],
            "text/html": [
              "\n",
              "  <div id=\"df-272b77d6-27b1-4f4d-9be5-6f319105c2ad\" class=\"colab-df-container\">\n",
              "    <div>\n",
              "<style scoped>\n",
              "    .dataframe tbody tr th:only-of-type {\n",
              "        vertical-align: middle;\n",
              "    }\n",
              "\n",
              "    .dataframe tbody tr th {\n",
              "        vertical-align: top;\n",
              "    }\n",
              "\n",
              "    .dataframe thead th {\n",
              "        text-align: right;\n",
              "    }\n",
              "</style>\n",
              "<table border=\"1\" class=\"dataframe\">\n",
              "  <thead>\n",
              "    <tr style=\"text-align: right;\">\n",
              "      <th></th>\n",
              "      <th>col1</th>\n",
              "      <th>col2</th>\n",
              "      <th>col3</th>\n",
              "    </tr>\n",
              "  </thead>\n",
              "  <tbody>\n",
              "    <tr>\n",
              "      <th>Row4</th>\n",
              "      <td>12</td>\n",
              "      <td>13</td>\n",
              "      <td>14</td>\n",
              "    </tr>\n",
              "    <tr>\n",
              "      <th>Row5</th>\n",
              "      <td>16</td>\n",
              "      <td>17</td>\n",
              "      <td>18</td>\n",
              "    </tr>\n",
              "  </tbody>\n",
              "</table>\n",
              "</div>\n",
              "    <div class=\"colab-df-buttons\">\n",
              "\n",
              "  <div class=\"colab-df-container\">\n",
              "    <button class=\"colab-df-convert\" onclick=\"convertToInteractive('df-272b77d6-27b1-4f4d-9be5-6f319105c2ad')\"\n",
              "            title=\"Convert this dataframe to an interactive table.\"\n",
              "            style=\"display:none;\">\n",
              "\n",
              "  <svg xmlns=\"http://www.w3.org/2000/svg\" height=\"24px\" viewBox=\"0 -960 960 960\">\n",
              "    <path d=\"M120-120v-720h720v720H120Zm60-500h600v-160H180v160Zm220 220h160v-160H400v160Zm0 220h160v-160H400v160ZM180-400h160v-160H180v160Zm440 0h160v-160H620v160ZM180-180h160v-160H180v160Zm440 0h160v-160H620v160Z\"/>\n",
              "  </svg>\n",
              "    </button>\n",
              "\n",
              "  <style>\n",
              "    .colab-df-container {\n",
              "      display:flex;\n",
              "      gap: 12px;\n",
              "    }\n",
              "\n",
              "    .colab-df-convert {\n",
              "      background-color: #E8F0FE;\n",
              "      border: none;\n",
              "      border-radius: 50%;\n",
              "      cursor: pointer;\n",
              "      display: none;\n",
              "      fill: #1967D2;\n",
              "      height: 32px;\n",
              "      padding: 0 0 0 0;\n",
              "      width: 32px;\n",
              "    }\n",
              "\n",
              "    .colab-df-convert:hover {\n",
              "      background-color: #E2EBFA;\n",
              "      box-shadow: 0px 1px 2px rgba(60, 64, 67, 0.3), 0px 1px 3px 1px rgba(60, 64, 67, 0.15);\n",
              "      fill: #174EA6;\n",
              "    }\n",
              "\n",
              "    .colab-df-buttons div {\n",
              "      margin-bottom: 4px;\n",
              "    }\n",
              "\n",
              "    [theme=dark] .colab-df-convert {\n",
              "      background-color: #3B4455;\n",
              "      fill: #D2E3FC;\n",
              "    }\n",
              "\n",
              "    [theme=dark] .colab-df-convert:hover {\n",
              "      background-color: #434B5C;\n",
              "      box-shadow: 0px 1px 3px 1px rgba(0, 0, 0, 0.15);\n",
              "      filter: drop-shadow(0px 1px 2px rgba(0, 0, 0, 0.3));\n",
              "      fill: #FFFFFF;\n",
              "    }\n",
              "  </style>\n",
              "\n",
              "    <script>\n",
              "      const buttonEl =\n",
              "        document.querySelector('#df-272b77d6-27b1-4f4d-9be5-6f319105c2ad button.colab-df-convert');\n",
              "      buttonEl.style.display =\n",
              "        google.colab.kernel.accessAllowed ? 'block' : 'none';\n",
              "\n",
              "      async function convertToInteractive(key) {\n",
              "        const element = document.querySelector('#df-272b77d6-27b1-4f4d-9be5-6f319105c2ad');\n",
              "        const dataTable =\n",
              "          await google.colab.kernel.invokeFunction('convertToInteractive',\n",
              "                                                    [key], {});\n",
              "        if (!dataTable) return;\n",
              "\n",
              "        const docLinkHtml = 'Like what you see? Visit the ' +\n",
              "          '<a target=\"_blank\" href=https://colab.research.google.com/notebooks/data_table.ipynb>data table notebook</a>'\n",
              "          + ' to learn more about interactive tables.';\n",
              "        element.innerHTML = '';\n",
              "        dataTable['output_type'] = 'display_data';\n",
              "        await google.colab.output.renderOutput(dataTable, element);\n",
              "        const docLink = document.createElement('div');\n",
              "        docLink.innerHTML = docLinkHtml;\n",
              "        element.appendChild(docLink);\n",
              "      }\n",
              "    </script>\n",
              "  </div>\n",
              "\n",
              "\n",
              "<div id=\"df-4ee3a56c-f419-4a57-8818-7e2db8778cb6\">\n",
              "  <button class=\"colab-df-quickchart\" onclick=\"quickchart('df-4ee3a56c-f419-4a57-8818-7e2db8778cb6')\"\n",
              "            title=\"Suggest charts\"\n",
              "            style=\"display:none;\">\n",
              "\n",
              "<svg xmlns=\"http://www.w3.org/2000/svg\" height=\"24px\"viewBox=\"0 0 24 24\"\n",
              "     width=\"24px\">\n",
              "    <g>\n",
              "        <path d=\"M19 3H5c-1.1 0-2 .9-2 2v14c0 1.1.9 2 2 2h14c1.1 0 2-.9 2-2V5c0-1.1-.9-2-2-2zM9 17H7v-7h2v7zm4 0h-2V7h2v10zm4 0h-2v-4h2v4z\"/>\n",
              "    </g>\n",
              "</svg>\n",
              "  </button>\n",
              "\n",
              "<style>\n",
              "  .colab-df-quickchart {\n",
              "      --bg-color: #E8F0FE;\n",
              "      --fill-color: #1967D2;\n",
              "      --hover-bg-color: #E2EBFA;\n",
              "      --hover-fill-color: #174EA6;\n",
              "      --disabled-fill-color: #AAA;\n",
              "      --disabled-bg-color: #DDD;\n",
              "  }\n",
              "\n",
              "  [theme=dark] .colab-df-quickchart {\n",
              "      --bg-color: #3B4455;\n",
              "      --fill-color: #D2E3FC;\n",
              "      --hover-bg-color: #434B5C;\n",
              "      --hover-fill-color: #FFFFFF;\n",
              "      --disabled-bg-color: #3B4455;\n",
              "      --disabled-fill-color: #666;\n",
              "  }\n",
              "\n",
              "  .colab-df-quickchart {\n",
              "    background-color: var(--bg-color);\n",
              "    border: none;\n",
              "    border-radius: 50%;\n",
              "    cursor: pointer;\n",
              "    display: none;\n",
              "    fill: var(--fill-color);\n",
              "    height: 32px;\n",
              "    padding: 0;\n",
              "    width: 32px;\n",
              "  }\n",
              "\n",
              "  .colab-df-quickchart:hover {\n",
              "    background-color: var(--hover-bg-color);\n",
              "    box-shadow: 0 1px 2px rgba(60, 64, 67, 0.3), 0 1px 3px 1px rgba(60, 64, 67, 0.15);\n",
              "    fill: var(--button-hover-fill-color);\n",
              "  }\n",
              "\n",
              "  .colab-df-quickchart-complete:disabled,\n",
              "  .colab-df-quickchart-complete:disabled:hover {\n",
              "    background-color: var(--disabled-bg-color);\n",
              "    fill: var(--disabled-fill-color);\n",
              "    box-shadow: none;\n",
              "  }\n",
              "\n",
              "  .colab-df-spinner {\n",
              "    border: 2px solid var(--fill-color);\n",
              "    border-color: transparent;\n",
              "    border-bottom-color: var(--fill-color);\n",
              "    animation:\n",
              "      spin 1s steps(1) infinite;\n",
              "  }\n",
              "\n",
              "  @keyframes spin {\n",
              "    0% {\n",
              "      border-color: transparent;\n",
              "      border-bottom-color: var(--fill-color);\n",
              "      border-left-color: var(--fill-color);\n",
              "    }\n",
              "    20% {\n",
              "      border-color: transparent;\n",
              "      border-left-color: var(--fill-color);\n",
              "      border-top-color: var(--fill-color);\n",
              "    }\n",
              "    30% {\n",
              "      border-color: transparent;\n",
              "      border-left-color: var(--fill-color);\n",
              "      border-top-color: var(--fill-color);\n",
              "      border-right-color: var(--fill-color);\n",
              "    }\n",
              "    40% {\n",
              "      border-color: transparent;\n",
              "      border-right-color: var(--fill-color);\n",
              "      border-top-color: var(--fill-color);\n",
              "    }\n",
              "    60% {\n",
              "      border-color: transparent;\n",
              "      border-right-color: var(--fill-color);\n",
              "    }\n",
              "    80% {\n",
              "      border-color: transparent;\n",
              "      border-right-color: var(--fill-color);\n",
              "      border-bottom-color: var(--fill-color);\n",
              "    }\n",
              "    90% {\n",
              "      border-color: transparent;\n",
              "      border-bottom-color: var(--fill-color);\n",
              "    }\n",
              "  }\n",
              "</style>\n",
              "\n",
              "  <script>\n",
              "    async function quickchart(key) {\n",
              "      const quickchartButtonEl =\n",
              "        document.querySelector('#' + key + ' button');\n",
              "      quickchartButtonEl.disabled = true;  // To prevent multiple clicks.\n",
              "      quickchartButtonEl.classList.add('colab-df-spinner');\n",
              "      try {\n",
              "        const charts = await google.colab.kernel.invokeFunction(\n",
              "            'suggestCharts', [key], {});\n",
              "      } catch (error) {\n",
              "        console.error('Error during call to suggestCharts:', error);\n",
              "      }\n",
              "      quickchartButtonEl.classList.remove('colab-df-spinner');\n",
              "      quickchartButtonEl.classList.add('colab-df-quickchart-complete');\n",
              "    }\n",
              "    (() => {\n",
              "      let quickchartButtonEl =\n",
              "        document.querySelector('#df-4ee3a56c-f419-4a57-8818-7e2db8778cb6 button');\n",
              "      quickchartButtonEl.style.display =\n",
              "        google.colab.kernel.accessAllowed ? 'block' : 'none';\n",
              "    })();\n",
              "  </script>\n",
              "</div>\n",
              "\n",
              "    </div>\n",
              "  </div>\n"
            ],
            "application/vnd.google.colaboratory.intrinsic+json": {
              "type": "dataframe",
              "summary": "{\n  \"name\": \"df\",\n  \"rows\": 2,\n  \"fields\": [\n    {\n      \"column\": \"col1\",\n      \"properties\": {\n        \"dtype\": \"number\",\n        \"std\": 2,\n        \"min\": 12,\n        \"max\": 16,\n        \"num_unique_values\": 2,\n        \"samples\": [\n          16,\n          12\n        ],\n        \"semantic_type\": \"\",\n        \"description\": \"\"\n      }\n    },\n    {\n      \"column\": \"col2\",\n      \"properties\": {\n        \"dtype\": \"number\",\n        \"std\": 2,\n        \"min\": 13,\n        \"max\": 17,\n        \"num_unique_values\": 2,\n        \"samples\": [\n          17,\n          13\n        ],\n        \"semantic_type\": \"\",\n        \"description\": \"\"\n      }\n    },\n    {\n      \"column\": \"col3\",\n      \"properties\": {\n        \"dtype\": \"number\",\n        \"std\": 2,\n        \"min\": 14,\n        \"max\": 18,\n        \"num_unique_values\": 2,\n        \"samples\": [\n          18,\n          14\n        ],\n        \"semantic_type\": \"\",\n        \"description\": \"\"\n      }\n    }\n  ]\n}"
            }
          },
          "metadata": {},
          "execution_count": 19
        }
      ]
    },
    {
      "cell_type": "code",
      "source": [
        "type(df.iloc[3:,0:3])"
      ],
      "metadata": {
        "colab": {
          "base_uri": "https://localhost:8080/",
          "height": 203
        },
        "id": "_vfuB3NWH7jE",
        "outputId": "42e97af0-df47-431b-982a-19798bf41c97"
      },
      "execution_count": null,
      "outputs": [
        {
          "output_type": "execute_result",
          "data": {
            "text/plain": [
              "pandas.core.frame.DataFrame"
            ],
            "text/html": [
              "<div style=\"max-width:800px; border: 1px solid var(--colab-border-color);\"><style>\n",
              "      pre.function-repr-contents {\n",
              "        overflow-x: auto;\n",
              "        padding: 8px 12px;\n",
              "        max-height: 500px;\n",
              "      }\n",
              "\n",
              "      pre.function-repr-contents.function-repr-contents-collapsed {\n",
              "        cursor: pointer;\n",
              "        max-height: 100px;\n",
              "      }\n",
              "    </style>\n",
              "    <pre style=\"white-space: initial; background:\n",
              "         var(--colab-secondary-surface-color); padding: 8px 12px;\n",
              "         border-bottom: 1px solid var(--colab-border-color);\"><b>pandas.core.frame.DataFrame</b><br/>def __init__(data=None, index: Axes | None=None, columns: Axes | None=None, dtype: Dtype | None=None, copy: bool | None=None) -&gt; None</pre><pre class=\"function-repr-contents function-repr-contents-collapsed\" style=\"\"><a class=\"filepath\" style=\"display:none\" href=\"#\">/usr/local/lib/python3.10/dist-packages/pandas/core/frame.py</a>Two-dimensional, size-mutable, potentially heterogeneous tabular data.\n",
              "\n",
              "Data structure also contains labeled axes (rows and columns).\n",
              "Arithmetic operations align on both row and column labels. Can be\n",
              "thought of as a dict-like container for Series objects. The primary\n",
              "pandas data structure.\n",
              "\n",
              "Parameters\n",
              "----------\n",
              "data : ndarray (structured or homogeneous), Iterable, dict, or DataFrame\n",
              "    Dict can contain Series, arrays, constants, dataclass or list-like objects. If\n",
              "    data is a dict, column order follows insertion-order. If a dict contains Series\n",
              "    which have an index defined, it is aligned by its index. This alignment also\n",
              "    occurs if data is a Series or a DataFrame itself. Alignment is done on\n",
              "    Series/DataFrame inputs.\n",
              "\n",
              "    If data is a list of dicts, column order follows insertion-order.\n",
              "\n",
              "index : Index or array-like\n",
              "    Index to use for resulting frame. Will default to RangeIndex if\n",
              "    no indexing information part of input data and no index provided.\n",
              "columns : Index or array-like\n",
              "    Column labels to use for resulting frame when data does not have them,\n",
              "    defaulting to RangeIndex(0, 1, 2, ..., n). If data contains column labels,\n",
              "    will perform column selection instead.\n",
              "dtype : dtype, default None\n",
              "    Data type to force. Only a single dtype is allowed. If None, infer.\n",
              "copy : bool or None, default None\n",
              "    Copy data from inputs.\n",
              "    For dict data, the default of None behaves like ``copy=True``.  For DataFrame\n",
              "    or 2d ndarray input, the default of None behaves like ``copy=False``.\n",
              "    If data is a dict containing one or more Series (possibly of different dtypes),\n",
              "    ``copy=False`` will ensure that these inputs are not copied.\n",
              "\n",
              "    .. versionchanged:: 1.3.0\n",
              "\n",
              "See Also\n",
              "--------\n",
              "DataFrame.from_records : Constructor from tuples, also record arrays.\n",
              "DataFrame.from_dict : From dicts of Series, arrays, or dicts.\n",
              "read_csv : Read a comma-separated values (csv) file into DataFrame.\n",
              "read_table : Read general delimited file into DataFrame.\n",
              "read_clipboard : Read text from clipboard into DataFrame.\n",
              "\n",
              "Notes\n",
              "-----\n",
              "Please reference the :ref:`User Guide &lt;basics.dataframe&gt;` for more information.\n",
              "\n",
              "Examples\n",
              "--------\n",
              "Constructing DataFrame from a dictionary.\n",
              "\n",
              "&gt;&gt;&gt; d = {&#x27;col1&#x27;: [1, 2], &#x27;col2&#x27;: [3, 4]}\n",
              "&gt;&gt;&gt; df = pd.DataFrame(data=d)\n",
              "&gt;&gt;&gt; df\n",
              "   col1  col2\n",
              "0     1     3\n",
              "1     2     4\n",
              "\n",
              "Notice that the inferred dtype is int64.\n",
              "\n",
              "&gt;&gt;&gt; df.dtypes\n",
              "col1    int64\n",
              "col2    int64\n",
              "dtype: object\n",
              "\n",
              "To enforce a single dtype:\n",
              "\n",
              "&gt;&gt;&gt; df = pd.DataFrame(data=d, dtype=np.int8)\n",
              "&gt;&gt;&gt; df.dtypes\n",
              "col1    int8\n",
              "col2    int8\n",
              "dtype: object\n",
              "\n",
              "Constructing DataFrame from a dictionary including Series:\n",
              "\n",
              "&gt;&gt;&gt; d = {&#x27;col1&#x27;: [0, 1, 2, 3], &#x27;col2&#x27;: pd.Series([2, 3], index=[2, 3])}\n",
              "&gt;&gt;&gt; pd.DataFrame(data=d, index=[0, 1, 2, 3])\n",
              "   col1  col2\n",
              "0     0   NaN\n",
              "1     1   NaN\n",
              "2     2   2.0\n",
              "3     3   3.0\n",
              "\n",
              "Constructing DataFrame from numpy ndarray:\n",
              "\n",
              "&gt;&gt;&gt; df2 = pd.DataFrame(np.array([[1, 2, 3], [4, 5, 6], [7, 8, 9]]),\n",
              "...                    columns=[&#x27;a&#x27;, &#x27;b&#x27;, &#x27;c&#x27;])\n",
              "&gt;&gt;&gt; df2\n",
              "   a  b  c\n",
              "0  1  2  3\n",
              "1  4  5  6\n",
              "2  7  8  9\n",
              "\n",
              "Constructing DataFrame from a numpy ndarray that has labeled columns:\n",
              "\n",
              "&gt;&gt;&gt; data = np.array([(1, 2, 3), (4, 5, 6), (7, 8, 9)],\n",
              "...                 dtype=[(&quot;a&quot;, &quot;i4&quot;), (&quot;b&quot;, &quot;i4&quot;), (&quot;c&quot;, &quot;i4&quot;)])\n",
              "&gt;&gt;&gt; df3 = pd.DataFrame(data, columns=[&#x27;c&#x27;, &#x27;a&#x27;])\n",
              "...\n",
              "&gt;&gt;&gt; df3\n",
              "   c  a\n",
              "0  3  1\n",
              "1  6  4\n",
              "2  9  7\n",
              "\n",
              "Constructing DataFrame from dataclass:\n",
              "\n",
              "&gt;&gt;&gt; from dataclasses import make_dataclass\n",
              "&gt;&gt;&gt; Point = make_dataclass(&quot;Point&quot;, [(&quot;x&quot;, int), (&quot;y&quot;, int)])\n",
              "&gt;&gt;&gt; pd.DataFrame([Point(0, 0), Point(0, 3), Point(2, 3)])\n",
              "   x  y\n",
              "0  0  0\n",
              "1  0  3\n",
              "2  2  3\n",
              "\n",
              "Constructing DataFrame from Series/DataFrame:\n",
              "\n",
              "&gt;&gt;&gt; ser = pd.Series([1, 2, 3], index=[&quot;a&quot;, &quot;b&quot;, &quot;c&quot;])\n",
              "&gt;&gt;&gt; df = pd.DataFrame(data=ser, index=[&quot;a&quot;, &quot;c&quot;])\n",
              "&gt;&gt;&gt; df\n",
              "   0\n",
              "a  1\n",
              "c  3\n",
              "\n",
              "&gt;&gt;&gt; df1 = pd.DataFrame([1, 2, 3], index=[&quot;a&quot;, &quot;b&quot;, &quot;c&quot;], columns=[&quot;x&quot;])\n",
              "&gt;&gt;&gt; df2 = pd.DataFrame(data=df1, index=[&quot;a&quot;, &quot;c&quot;])\n",
              "&gt;&gt;&gt; df2\n",
              "   x\n",
              "a  1\n",
              "c  3</pre>\n",
              "      <script>\n",
              "      if (google.colab.kernel.accessAllowed && google.colab.files && google.colab.files.view) {\n",
              "        for (const element of document.querySelectorAll('.filepath')) {\n",
              "          element.style.display = 'block'\n",
              "          element.onclick = (event) => {\n",
              "            event.preventDefault();\n",
              "            event.stopPropagation();\n",
              "            google.colab.files.view(element.textContent, 490);\n",
              "          };\n",
              "        }\n",
              "      }\n",
              "      for (const element of document.querySelectorAll('.function-repr-contents')) {\n",
              "        element.onclick = (event) => {\n",
              "          event.preventDefault();\n",
              "          event.stopPropagation();\n",
              "          element.classList.toggle('function-repr-contents-collapsed');\n",
              "        };\n",
              "      }\n",
              "      </script>\n",
              "      </div>"
            ]
          },
          "metadata": {},
          "execution_count": 20
        }
      ]
    },
    {
      "cell_type": "code",
      "source": [
        "type(df.iloc[0:1,0:1])"
      ],
      "metadata": {
        "colab": {
          "base_uri": "https://localhost:8080/",
          "height": 203
        },
        "id": "CW-Hf3_5IXCl",
        "outputId": "23456797-b945-418a-9deb-26a9d67cac9e"
      },
      "execution_count": null,
      "outputs": [
        {
          "output_type": "execute_result",
          "data": {
            "text/plain": [
              "pandas.core.frame.DataFrame"
            ],
            "text/html": [
              "<div style=\"max-width:800px; border: 1px solid var(--colab-border-color);\"><style>\n",
              "      pre.function-repr-contents {\n",
              "        overflow-x: auto;\n",
              "        padding: 8px 12px;\n",
              "        max-height: 500px;\n",
              "      }\n",
              "\n",
              "      pre.function-repr-contents.function-repr-contents-collapsed {\n",
              "        cursor: pointer;\n",
              "        max-height: 100px;\n",
              "      }\n",
              "    </style>\n",
              "    <pre style=\"white-space: initial; background:\n",
              "         var(--colab-secondary-surface-color); padding: 8px 12px;\n",
              "         border-bottom: 1px solid var(--colab-border-color);\"><b>pandas.core.frame.DataFrame</b><br/>def __init__(data=None, index: Axes | None=None, columns: Axes | None=None, dtype: Dtype | None=None, copy: bool | None=None) -&gt; None</pre><pre class=\"function-repr-contents function-repr-contents-collapsed\" style=\"\"><a class=\"filepath\" style=\"display:none\" href=\"#\">/usr/local/lib/python3.10/dist-packages/pandas/core/frame.py</a>Two-dimensional, size-mutable, potentially heterogeneous tabular data.\n",
              "\n",
              "Data structure also contains labeled axes (rows and columns).\n",
              "Arithmetic operations align on both row and column labels. Can be\n",
              "thought of as a dict-like container for Series objects. The primary\n",
              "pandas data structure.\n",
              "\n",
              "Parameters\n",
              "----------\n",
              "data : ndarray (structured or homogeneous), Iterable, dict, or DataFrame\n",
              "    Dict can contain Series, arrays, constants, dataclass or list-like objects. If\n",
              "    data is a dict, column order follows insertion-order. If a dict contains Series\n",
              "    which have an index defined, it is aligned by its index. This alignment also\n",
              "    occurs if data is a Series or a DataFrame itself. Alignment is done on\n",
              "    Series/DataFrame inputs.\n",
              "\n",
              "    If data is a list of dicts, column order follows insertion-order.\n",
              "\n",
              "index : Index or array-like\n",
              "    Index to use for resulting frame. Will default to RangeIndex if\n",
              "    no indexing information part of input data and no index provided.\n",
              "columns : Index or array-like\n",
              "    Column labels to use for resulting frame when data does not have them,\n",
              "    defaulting to RangeIndex(0, 1, 2, ..., n). If data contains column labels,\n",
              "    will perform column selection instead.\n",
              "dtype : dtype, default None\n",
              "    Data type to force. Only a single dtype is allowed. If None, infer.\n",
              "copy : bool or None, default None\n",
              "    Copy data from inputs.\n",
              "    For dict data, the default of None behaves like ``copy=True``.  For DataFrame\n",
              "    or 2d ndarray input, the default of None behaves like ``copy=False``.\n",
              "    If data is a dict containing one or more Series (possibly of different dtypes),\n",
              "    ``copy=False`` will ensure that these inputs are not copied.\n",
              "\n",
              "    .. versionchanged:: 1.3.0\n",
              "\n",
              "See Also\n",
              "--------\n",
              "DataFrame.from_records : Constructor from tuples, also record arrays.\n",
              "DataFrame.from_dict : From dicts of Series, arrays, or dicts.\n",
              "read_csv : Read a comma-separated values (csv) file into DataFrame.\n",
              "read_table : Read general delimited file into DataFrame.\n",
              "read_clipboard : Read text from clipboard into DataFrame.\n",
              "\n",
              "Notes\n",
              "-----\n",
              "Please reference the :ref:`User Guide &lt;basics.dataframe&gt;` for more information.\n",
              "\n",
              "Examples\n",
              "--------\n",
              "Constructing DataFrame from a dictionary.\n",
              "\n",
              "&gt;&gt;&gt; d = {&#x27;col1&#x27;: [1, 2], &#x27;col2&#x27;: [3, 4]}\n",
              "&gt;&gt;&gt; df = pd.DataFrame(data=d)\n",
              "&gt;&gt;&gt; df\n",
              "   col1  col2\n",
              "0     1     3\n",
              "1     2     4\n",
              "\n",
              "Notice that the inferred dtype is int64.\n",
              "\n",
              "&gt;&gt;&gt; df.dtypes\n",
              "col1    int64\n",
              "col2    int64\n",
              "dtype: object\n",
              "\n",
              "To enforce a single dtype:\n",
              "\n",
              "&gt;&gt;&gt; df = pd.DataFrame(data=d, dtype=np.int8)\n",
              "&gt;&gt;&gt; df.dtypes\n",
              "col1    int8\n",
              "col2    int8\n",
              "dtype: object\n",
              "\n",
              "Constructing DataFrame from a dictionary including Series:\n",
              "\n",
              "&gt;&gt;&gt; d = {&#x27;col1&#x27;: [0, 1, 2, 3], &#x27;col2&#x27;: pd.Series([2, 3], index=[2, 3])}\n",
              "&gt;&gt;&gt; pd.DataFrame(data=d, index=[0, 1, 2, 3])\n",
              "   col1  col2\n",
              "0     0   NaN\n",
              "1     1   NaN\n",
              "2     2   2.0\n",
              "3     3   3.0\n",
              "\n",
              "Constructing DataFrame from numpy ndarray:\n",
              "\n",
              "&gt;&gt;&gt; df2 = pd.DataFrame(np.array([[1, 2, 3], [4, 5, 6], [7, 8, 9]]),\n",
              "...                    columns=[&#x27;a&#x27;, &#x27;b&#x27;, &#x27;c&#x27;])\n",
              "&gt;&gt;&gt; df2\n",
              "   a  b  c\n",
              "0  1  2  3\n",
              "1  4  5  6\n",
              "2  7  8  9\n",
              "\n",
              "Constructing DataFrame from a numpy ndarray that has labeled columns:\n",
              "\n",
              "&gt;&gt;&gt; data = np.array([(1, 2, 3), (4, 5, 6), (7, 8, 9)],\n",
              "...                 dtype=[(&quot;a&quot;, &quot;i4&quot;), (&quot;b&quot;, &quot;i4&quot;), (&quot;c&quot;, &quot;i4&quot;)])\n",
              "&gt;&gt;&gt; df3 = pd.DataFrame(data, columns=[&#x27;c&#x27;, &#x27;a&#x27;])\n",
              "...\n",
              "&gt;&gt;&gt; df3\n",
              "   c  a\n",
              "0  3  1\n",
              "1  6  4\n",
              "2  9  7\n",
              "\n",
              "Constructing DataFrame from dataclass:\n",
              "\n",
              "&gt;&gt;&gt; from dataclasses import make_dataclass\n",
              "&gt;&gt;&gt; Point = make_dataclass(&quot;Point&quot;, [(&quot;x&quot;, int), (&quot;y&quot;, int)])\n",
              "&gt;&gt;&gt; pd.DataFrame([Point(0, 0), Point(0, 3), Point(2, 3)])\n",
              "   x  y\n",
              "0  0  0\n",
              "1  0  3\n",
              "2  2  3\n",
              "\n",
              "Constructing DataFrame from Series/DataFrame:\n",
              "\n",
              "&gt;&gt;&gt; ser = pd.Series([1, 2, 3], index=[&quot;a&quot;, &quot;b&quot;, &quot;c&quot;])\n",
              "&gt;&gt;&gt; df = pd.DataFrame(data=ser, index=[&quot;a&quot;, &quot;c&quot;])\n",
              "&gt;&gt;&gt; df\n",
              "   0\n",
              "a  1\n",
              "c  3\n",
              "\n",
              "&gt;&gt;&gt; df1 = pd.DataFrame([1, 2, 3], index=[&quot;a&quot;, &quot;b&quot;, &quot;c&quot;], columns=[&quot;x&quot;])\n",
              "&gt;&gt;&gt; df2 = pd.DataFrame(data=df1, index=[&quot;a&quot;, &quot;c&quot;])\n",
              "&gt;&gt;&gt; df2\n",
              "   x\n",
              "a  1\n",
              "c  3</pre>\n",
              "      <script>\n",
              "      if (google.colab.kernel.accessAllowed && google.colab.files && google.colab.files.view) {\n",
              "        for (const element of document.querySelectorAll('.filepath')) {\n",
              "          element.style.display = 'block'\n",
              "          element.onclick = (event) => {\n",
              "            event.preventDefault();\n",
              "            event.stopPropagation();\n",
              "            google.colab.files.view(element.textContent, 490);\n",
              "          };\n",
              "        }\n",
              "      }\n",
              "      for (const element of document.querySelectorAll('.function-repr-contents')) {\n",
              "        element.onclick = (event) => {\n",
              "          event.preventDefault();\n",
              "          event.stopPropagation();\n",
              "          element.classList.toggle('function-repr-contents-collapsed');\n",
              "        };\n",
              "      }\n",
              "      </script>\n",
              "      </div>"
            ]
          },
          "metadata": {},
          "execution_count": 24
        }
      ]
    },
    {
      "cell_type": "code",
      "source": [
        " df.iloc[0:2,0]"
      ],
      "metadata": {
        "colab": {
          "base_uri": "https://localhost:8080/"
        },
        "id": "ySoCp9ReIeXA",
        "outputId": "a8ec7026-0f16-4b20-cbd9-856ca8e7bf2a"
      },
      "execution_count": null,
      "outputs": [
        {
          "output_type": "execute_result",
          "data": {
            "text/plain": [
              "Row1    0\n",
              "Row2    4\n",
              "Name: col1, dtype: int64"
            ]
          },
          "metadata": {},
          "execution_count": 26
        }
      ]
    },
    {
      "cell_type": "code",
      "source": [
        "df.iloc[:,:].values"
      ],
      "metadata": {
        "colab": {
          "base_uri": "https://localhost:8080/"
        },
        "id": "6U3iFXuSI_1I",
        "outputId": "2c634781-acd6-4557-cf1f-721e4fb6a640"
      },
      "execution_count": null,
      "outputs": [
        {
          "output_type": "execute_result",
          "data": {
            "text/plain": [
              "array([[ 0,  1,  2,  3],\n",
              "       [ 4,  5,  6,  7],\n",
              "       [ 8,  9, 10, 11],\n",
              "       [12, 13, 14, 15],\n",
              "       [16, 17, 18, 19]])"
            ]
          },
          "metadata": {},
          "execution_count": 27
        }
      ]
    },
    {
      "cell_type": "code",
      "source": [
        "df.iloc[:,:].values.shape"
      ],
      "metadata": {
        "colab": {
          "base_uri": "https://localhost:8080/"
        },
        "id": "g6nRj_KgJfzs",
        "outputId": "11a36f3a-2fc9-459b-afb6-c1f9db6e2d3b"
      },
      "execution_count": null,
      "outputs": [
        {
          "output_type": "execute_result",
          "data": {
            "text/plain": [
              "(5, 4)"
            ]
          },
          "metadata": {},
          "execution_count": 28
        }
      ]
    },
    {
      "cell_type": "code",
      "source": [
        "df.isnull().sum()"
      ],
      "metadata": {
        "colab": {
          "base_uri": "https://localhost:8080/"
        },
        "id": "T0WSRwZAJshQ",
        "outputId": "9b279faf-adf8-4eaf-88d3-9ddab58fcfee"
      },
      "execution_count": null,
      "outputs": [
        {
          "output_type": "execute_result",
          "data": {
            "text/plain": [
              "col1    0\n",
              "col2    0\n",
              "col3    0\n",
              "col4    0\n",
              "dtype: int64"
            ]
          },
          "metadata": {},
          "execution_count": 30
        }
      ]
    },
    {
      "cell_type": "code",
      "source": [
        " df['col1'].value_counts()"
      ],
      "metadata": {
        "colab": {
          "base_uri": "https://localhost:8080/"
        },
        "id": "PXdNKJXxJ9WI",
        "outputId": "543ebe66-79f4-4947-9224-7b55f4f18b05"
      },
      "execution_count": null,
      "outputs": [
        {
          "output_type": "execute_result",
          "data": {
            "text/plain": [
              "col1\n",
              "0     1\n",
              "4     1\n",
              "8     1\n",
              "12    1\n",
              "16    1\n",
              "Name: count, dtype: int64"
            ]
          },
          "metadata": {},
          "execution_count": 32
        }
      ]
    },
    {
      "cell_type": "code",
      "source": [
        "df['col1'].unique()"
      ],
      "metadata": {
        "colab": {
          "base_uri": "https://localhost:8080/"
        },
        "id": "p4qqnBhtLCxU",
        "outputId": "2a6af95e-7ff0-493c-dfb0-46eaf1dc2a74"
      },
      "execution_count": null,
      "outputs": [
        {
          "output_type": "execute_result",
          "data": {
            "text/plain": [
              "array([ 0,  4,  8, 12, 16])"
            ]
          },
          "metadata": {},
          "execution_count": 33
        }
      ]
    },
    {
      "cell_type": "code",
      "source": [
        "df['col4']"
      ],
      "metadata": {
        "colab": {
          "base_uri": "https://localhost:8080/"
        },
        "id": "e3hoCgSeLqet",
        "outputId": "b4be3460-5bce-4359-cac7-4fec5f7172a1"
      },
      "execution_count": null,
      "outputs": [
        {
          "output_type": "execute_result",
          "data": {
            "text/plain": [
              "Row1     3\n",
              "Row2     7\n",
              "Row3    11\n",
              "Row4    15\n",
              "Row5    19\n",
              "Name: col4, dtype: int64"
            ]
          },
          "metadata": {},
          "execution_count": 34
        }
      ]
    },
    {
      "cell_type": "code",
      "source": [
        "type(df['col4'])"
      ],
      "metadata": {
        "colab": {
          "base_uri": "https://localhost:8080/",
          "height": 203
        },
        "id": "lOOH8xOYL0XV",
        "outputId": "bfaf1b91-6b8b-4097-e868-7d7d21ef0a82"
      },
      "execution_count": null,
      "outputs": [
        {
          "output_type": "execute_result",
          "data": {
            "text/plain": [
              "pandas.core.series.Series"
            ],
            "text/html": [
              "<div style=\"max-width:800px; border: 1px solid var(--colab-border-color);\"><style>\n",
              "      pre.function-repr-contents {\n",
              "        overflow-x: auto;\n",
              "        padding: 8px 12px;\n",
              "        max-height: 500px;\n",
              "      }\n",
              "\n",
              "      pre.function-repr-contents.function-repr-contents-collapsed {\n",
              "        cursor: pointer;\n",
              "        max-height: 100px;\n",
              "      }\n",
              "    </style>\n",
              "    <pre style=\"white-space: initial; background:\n",
              "         var(--colab-secondary-surface-color); padding: 8px 12px;\n",
              "         border-bottom: 1px solid var(--colab-border-color);\"><b>pandas.core.series.Series</b><br/>def __init__(data=None, index=None, dtype: Dtype | None=None, name=None, copy: bool | None=None, fastpath: bool=False) -&gt; None</pre><pre class=\"function-repr-contents function-repr-contents-collapsed\" style=\"\"><a class=\"filepath\" style=\"display:none\" href=\"#\">/usr/local/lib/python3.10/dist-packages/pandas/core/series.py</a>One-dimensional ndarray with axis labels (including time series).\n",
              "\n",
              "Labels need not be unique but must be a hashable type. The object\n",
              "supports both integer- and label-based indexing and provides a host of\n",
              "methods for performing operations involving the index. Statistical\n",
              "methods from ndarray have been overridden to automatically exclude\n",
              "missing data (currently represented as NaN).\n",
              "\n",
              "Operations between Series (+, -, /, \\*, \\*\\*) align values based on their\n",
              "associated index values-- they need not be the same length. The result\n",
              "index will be the sorted union of the two indexes.\n",
              "\n",
              "Parameters\n",
              "----------\n",
              "data : array-like, Iterable, dict, or scalar value\n",
              "    Contains data stored in Series. If data is a dict, argument order is\n",
              "    maintained.\n",
              "index : array-like or Index (1d)\n",
              "    Values must be hashable and have the same length as `data`.\n",
              "    Non-unique index values are allowed. Will default to\n",
              "    RangeIndex (0, 1, 2, ..., n) if not provided. If data is dict-like\n",
              "    and index is None, then the keys in the data are used as the index. If the\n",
              "    index is not None, the resulting Series is reindexed with the index values.\n",
              "dtype : str, numpy.dtype, or ExtensionDtype, optional\n",
              "    Data type for the output Series. If not specified, this will be\n",
              "    inferred from `data`.\n",
              "    See the :ref:`user guide &lt;basics.dtypes&gt;` for more usages.\n",
              "name : Hashable, default None\n",
              "    The name to give to the Series.\n",
              "copy : bool, default False\n",
              "    Copy input data. Only affects Series or 1d ndarray input. See examples.\n",
              "\n",
              "Notes\n",
              "-----\n",
              "Please reference the :ref:`User Guide &lt;basics.series&gt;` for more information.\n",
              "\n",
              "Examples\n",
              "--------\n",
              "Constructing Series from a dictionary with an Index specified\n",
              "\n",
              "&gt;&gt;&gt; d = {&#x27;a&#x27;: 1, &#x27;b&#x27;: 2, &#x27;c&#x27;: 3}\n",
              "&gt;&gt;&gt; ser = pd.Series(data=d, index=[&#x27;a&#x27;, &#x27;b&#x27;, &#x27;c&#x27;])\n",
              "&gt;&gt;&gt; ser\n",
              "a   1\n",
              "b   2\n",
              "c   3\n",
              "dtype: int64\n",
              "\n",
              "The keys of the dictionary match with the Index values, hence the Index\n",
              "values have no effect.\n",
              "\n",
              "&gt;&gt;&gt; d = {&#x27;a&#x27;: 1, &#x27;b&#x27;: 2, &#x27;c&#x27;: 3}\n",
              "&gt;&gt;&gt; ser = pd.Series(data=d, index=[&#x27;x&#x27;, &#x27;y&#x27;, &#x27;z&#x27;])\n",
              "&gt;&gt;&gt; ser\n",
              "x   NaN\n",
              "y   NaN\n",
              "z   NaN\n",
              "dtype: float64\n",
              "\n",
              "Note that the Index is first build with the keys from the dictionary.\n",
              "After this the Series is reindexed with the given Index values, hence we\n",
              "get all NaN as a result.\n",
              "\n",
              "Constructing Series from a list with `copy=False`.\n",
              "\n",
              "&gt;&gt;&gt; r = [1, 2]\n",
              "&gt;&gt;&gt; ser = pd.Series(r, copy=False)\n",
              "&gt;&gt;&gt; ser.iloc[0] = 999\n",
              "&gt;&gt;&gt; r\n",
              "[1, 2]\n",
              "&gt;&gt;&gt; ser\n",
              "0    999\n",
              "1      2\n",
              "dtype: int64\n",
              "\n",
              "Due to input data type the Series has a `copy` of\n",
              "the original data even though `copy=False`, so\n",
              "the data is unchanged.\n",
              "\n",
              "Constructing Series from a 1d ndarray with `copy=False`.\n",
              "\n",
              "&gt;&gt;&gt; r = np.array([1, 2])\n",
              "&gt;&gt;&gt; ser = pd.Series(r, copy=False)\n",
              "&gt;&gt;&gt; ser.iloc[0] = 999\n",
              "&gt;&gt;&gt; r\n",
              "array([999,   2])\n",
              "&gt;&gt;&gt; ser\n",
              "0    999\n",
              "1      2\n",
              "dtype: int64\n",
              "\n",
              "Due to input data type the Series has a `view` on\n",
              "the original data, so\n",
              "the data is changed as well.</pre>\n",
              "      <script>\n",
              "      if (google.colab.kernel.accessAllowed && google.colab.files && google.colab.files.view) {\n",
              "        for (const element of document.querySelectorAll('.filepath')) {\n",
              "          element.style.display = 'block'\n",
              "          element.onclick = (event) => {\n",
              "            event.preventDefault();\n",
              "            event.stopPropagation();\n",
              "            google.colab.files.view(element.textContent, 244);\n",
              "          };\n",
              "        }\n",
              "      }\n",
              "      for (const element of document.querySelectorAll('.function-repr-contents')) {\n",
              "        element.onclick = (event) => {\n",
              "          event.preventDefault();\n",
              "          event.stopPropagation();\n",
              "          element.classList.toggle('function-repr-contents-collapsed');\n",
              "        };\n",
              "      }\n",
              "      </script>\n",
              "      </div>"
            ]
          },
          "metadata": {},
          "execution_count": 35
        }
      ]
    },
    {
      "cell_type": "code",
      "source": [
        "df[['col3','col4']]"
      ],
      "metadata": {
        "colab": {
          "base_uri": "https://localhost:8080/",
          "height": 206
        },
        "id": "pKAiGRNzL3yD",
        "outputId": "7b4bd6a2-fcb3-47c7-c524-6b27d06c4c1a"
      },
      "execution_count": null,
      "outputs": [
        {
          "output_type": "execute_result",
          "data": {
            "text/plain": [
              "      col3  col4\n",
              "Row1     2     3\n",
              "Row2     6     7\n",
              "Row3    10    11\n",
              "Row4    14    15\n",
              "Row5    18    19"
            ],
            "text/html": [
              "\n",
              "  <div id=\"df-dc8bd5d6-75fe-437b-b220-2c5298d1b7fd\" class=\"colab-df-container\">\n",
              "    <div>\n",
              "<style scoped>\n",
              "    .dataframe tbody tr th:only-of-type {\n",
              "        vertical-align: middle;\n",
              "    }\n",
              "\n",
              "    .dataframe tbody tr th {\n",
              "        vertical-align: top;\n",
              "    }\n",
              "\n",
              "    .dataframe thead th {\n",
              "        text-align: right;\n",
              "    }\n",
              "</style>\n",
              "<table border=\"1\" class=\"dataframe\">\n",
              "  <thead>\n",
              "    <tr style=\"text-align: right;\">\n",
              "      <th></th>\n",
              "      <th>col3</th>\n",
              "      <th>col4</th>\n",
              "    </tr>\n",
              "  </thead>\n",
              "  <tbody>\n",
              "    <tr>\n",
              "      <th>Row1</th>\n",
              "      <td>2</td>\n",
              "      <td>3</td>\n",
              "    </tr>\n",
              "    <tr>\n",
              "      <th>Row2</th>\n",
              "      <td>6</td>\n",
              "      <td>7</td>\n",
              "    </tr>\n",
              "    <tr>\n",
              "      <th>Row3</th>\n",
              "      <td>10</td>\n",
              "      <td>11</td>\n",
              "    </tr>\n",
              "    <tr>\n",
              "      <th>Row4</th>\n",
              "      <td>14</td>\n",
              "      <td>15</td>\n",
              "    </tr>\n",
              "    <tr>\n",
              "      <th>Row5</th>\n",
              "      <td>18</td>\n",
              "      <td>19</td>\n",
              "    </tr>\n",
              "  </tbody>\n",
              "</table>\n",
              "</div>\n",
              "    <div class=\"colab-df-buttons\">\n",
              "\n",
              "  <div class=\"colab-df-container\">\n",
              "    <button class=\"colab-df-convert\" onclick=\"convertToInteractive('df-dc8bd5d6-75fe-437b-b220-2c5298d1b7fd')\"\n",
              "            title=\"Convert this dataframe to an interactive table.\"\n",
              "            style=\"display:none;\">\n",
              "\n",
              "  <svg xmlns=\"http://www.w3.org/2000/svg\" height=\"24px\" viewBox=\"0 -960 960 960\">\n",
              "    <path d=\"M120-120v-720h720v720H120Zm60-500h600v-160H180v160Zm220 220h160v-160H400v160Zm0 220h160v-160H400v160ZM180-400h160v-160H180v160Zm440 0h160v-160H620v160ZM180-180h160v-160H180v160Zm440 0h160v-160H620v160Z\"/>\n",
              "  </svg>\n",
              "    </button>\n",
              "\n",
              "  <style>\n",
              "    .colab-df-container {\n",
              "      display:flex;\n",
              "      gap: 12px;\n",
              "    }\n",
              "\n",
              "    .colab-df-convert {\n",
              "      background-color: #E8F0FE;\n",
              "      border: none;\n",
              "      border-radius: 50%;\n",
              "      cursor: pointer;\n",
              "      display: none;\n",
              "      fill: #1967D2;\n",
              "      height: 32px;\n",
              "      padding: 0 0 0 0;\n",
              "      width: 32px;\n",
              "    }\n",
              "\n",
              "    .colab-df-convert:hover {\n",
              "      background-color: #E2EBFA;\n",
              "      box-shadow: 0px 1px 2px rgba(60, 64, 67, 0.3), 0px 1px 3px 1px rgba(60, 64, 67, 0.15);\n",
              "      fill: #174EA6;\n",
              "    }\n",
              "\n",
              "    .colab-df-buttons div {\n",
              "      margin-bottom: 4px;\n",
              "    }\n",
              "\n",
              "    [theme=dark] .colab-df-convert {\n",
              "      background-color: #3B4455;\n",
              "      fill: #D2E3FC;\n",
              "    }\n",
              "\n",
              "    [theme=dark] .colab-df-convert:hover {\n",
              "      background-color: #434B5C;\n",
              "      box-shadow: 0px 1px 3px 1px rgba(0, 0, 0, 0.15);\n",
              "      filter: drop-shadow(0px 1px 2px rgba(0, 0, 0, 0.3));\n",
              "      fill: #FFFFFF;\n",
              "    }\n",
              "  </style>\n",
              "\n",
              "    <script>\n",
              "      const buttonEl =\n",
              "        document.querySelector('#df-dc8bd5d6-75fe-437b-b220-2c5298d1b7fd button.colab-df-convert');\n",
              "      buttonEl.style.display =\n",
              "        google.colab.kernel.accessAllowed ? 'block' : 'none';\n",
              "\n",
              "      async function convertToInteractive(key) {\n",
              "        const element = document.querySelector('#df-dc8bd5d6-75fe-437b-b220-2c5298d1b7fd');\n",
              "        const dataTable =\n",
              "          await google.colab.kernel.invokeFunction('convertToInteractive',\n",
              "                                                    [key], {});\n",
              "        if (!dataTable) return;\n",
              "\n",
              "        const docLinkHtml = 'Like what you see? Visit the ' +\n",
              "          '<a target=\"_blank\" href=https://colab.research.google.com/notebooks/data_table.ipynb>data table notebook</a>'\n",
              "          + ' to learn more about interactive tables.';\n",
              "        element.innerHTML = '';\n",
              "        dataTable['output_type'] = 'display_data';\n",
              "        await google.colab.output.renderOutput(dataTable, element);\n",
              "        const docLink = document.createElement('div');\n",
              "        docLink.innerHTML = docLinkHtml;\n",
              "        element.appendChild(docLink);\n",
              "      }\n",
              "    </script>\n",
              "  </div>\n",
              "\n",
              "\n",
              "<div id=\"df-5c713911-8777-4bdf-a2aa-758b7a4225d2\">\n",
              "  <button class=\"colab-df-quickchart\" onclick=\"quickchart('df-5c713911-8777-4bdf-a2aa-758b7a4225d2')\"\n",
              "            title=\"Suggest charts\"\n",
              "            style=\"display:none;\">\n",
              "\n",
              "<svg xmlns=\"http://www.w3.org/2000/svg\" height=\"24px\"viewBox=\"0 0 24 24\"\n",
              "     width=\"24px\">\n",
              "    <g>\n",
              "        <path d=\"M19 3H5c-1.1 0-2 .9-2 2v14c0 1.1.9 2 2 2h14c1.1 0 2-.9 2-2V5c0-1.1-.9-2-2-2zM9 17H7v-7h2v7zm4 0h-2V7h2v10zm4 0h-2v-4h2v4z\"/>\n",
              "    </g>\n",
              "</svg>\n",
              "  </button>\n",
              "\n",
              "<style>\n",
              "  .colab-df-quickchart {\n",
              "      --bg-color: #E8F0FE;\n",
              "      --fill-color: #1967D2;\n",
              "      --hover-bg-color: #E2EBFA;\n",
              "      --hover-fill-color: #174EA6;\n",
              "      --disabled-fill-color: #AAA;\n",
              "      --disabled-bg-color: #DDD;\n",
              "  }\n",
              "\n",
              "  [theme=dark] .colab-df-quickchart {\n",
              "      --bg-color: #3B4455;\n",
              "      --fill-color: #D2E3FC;\n",
              "      --hover-bg-color: #434B5C;\n",
              "      --hover-fill-color: #FFFFFF;\n",
              "      --disabled-bg-color: #3B4455;\n",
              "      --disabled-fill-color: #666;\n",
              "  }\n",
              "\n",
              "  .colab-df-quickchart {\n",
              "    background-color: var(--bg-color);\n",
              "    border: none;\n",
              "    border-radius: 50%;\n",
              "    cursor: pointer;\n",
              "    display: none;\n",
              "    fill: var(--fill-color);\n",
              "    height: 32px;\n",
              "    padding: 0;\n",
              "    width: 32px;\n",
              "  }\n",
              "\n",
              "  .colab-df-quickchart:hover {\n",
              "    background-color: var(--hover-bg-color);\n",
              "    box-shadow: 0 1px 2px rgba(60, 64, 67, 0.3), 0 1px 3px 1px rgba(60, 64, 67, 0.15);\n",
              "    fill: var(--button-hover-fill-color);\n",
              "  }\n",
              "\n",
              "  .colab-df-quickchart-complete:disabled,\n",
              "  .colab-df-quickchart-complete:disabled:hover {\n",
              "    background-color: var(--disabled-bg-color);\n",
              "    fill: var(--disabled-fill-color);\n",
              "    box-shadow: none;\n",
              "  }\n",
              "\n",
              "  .colab-df-spinner {\n",
              "    border: 2px solid var(--fill-color);\n",
              "    border-color: transparent;\n",
              "    border-bottom-color: var(--fill-color);\n",
              "    animation:\n",
              "      spin 1s steps(1) infinite;\n",
              "  }\n",
              "\n",
              "  @keyframes spin {\n",
              "    0% {\n",
              "      border-color: transparent;\n",
              "      border-bottom-color: var(--fill-color);\n",
              "      border-left-color: var(--fill-color);\n",
              "    }\n",
              "    20% {\n",
              "      border-color: transparent;\n",
              "      border-left-color: var(--fill-color);\n",
              "      border-top-color: var(--fill-color);\n",
              "    }\n",
              "    30% {\n",
              "      border-color: transparent;\n",
              "      border-left-color: var(--fill-color);\n",
              "      border-top-color: var(--fill-color);\n",
              "      border-right-color: var(--fill-color);\n",
              "    }\n",
              "    40% {\n",
              "      border-color: transparent;\n",
              "      border-right-color: var(--fill-color);\n",
              "      border-top-color: var(--fill-color);\n",
              "    }\n",
              "    60% {\n",
              "      border-color: transparent;\n",
              "      border-right-color: var(--fill-color);\n",
              "    }\n",
              "    80% {\n",
              "      border-color: transparent;\n",
              "      border-right-color: var(--fill-color);\n",
              "      border-bottom-color: var(--fill-color);\n",
              "    }\n",
              "    90% {\n",
              "      border-color: transparent;\n",
              "      border-bottom-color: var(--fill-color);\n",
              "    }\n",
              "  }\n",
              "</style>\n",
              "\n",
              "  <script>\n",
              "    async function quickchart(key) {\n",
              "      const quickchartButtonEl =\n",
              "        document.querySelector('#' + key + ' button');\n",
              "      quickchartButtonEl.disabled = true;  // To prevent multiple clicks.\n",
              "      quickchartButtonEl.classList.add('colab-df-spinner');\n",
              "      try {\n",
              "        const charts = await google.colab.kernel.invokeFunction(\n",
              "            'suggestCharts', [key], {});\n",
              "      } catch (error) {\n",
              "        console.error('Error during call to suggestCharts:', error);\n",
              "      }\n",
              "      quickchartButtonEl.classList.remove('colab-df-spinner');\n",
              "      quickchartButtonEl.classList.add('colab-df-quickchart-complete');\n",
              "    }\n",
              "    (() => {\n",
              "      let quickchartButtonEl =\n",
              "        document.querySelector('#df-5c713911-8777-4bdf-a2aa-758b7a4225d2 button');\n",
              "      quickchartButtonEl.style.display =\n",
              "        google.colab.kernel.accessAllowed ? 'block' : 'none';\n",
              "    })();\n",
              "  </script>\n",
              "</div>\n",
              "\n",
              "    </div>\n",
              "  </div>\n"
            ],
            "application/vnd.google.colaboratory.intrinsic+json": {
              "type": "dataframe",
              "summary": "{\n  \"name\": \"df[['col3','col4']]\",\n  \"rows\": 5,\n  \"fields\": [\n    {\n      \"column\": \"col3\",\n      \"properties\": {\n        \"dtype\": \"number\",\n        \"std\": 6,\n        \"min\": 2,\n        \"max\": 18,\n        \"num_unique_values\": 5,\n        \"samples\": [\n          6,\n          18,\n          10\n        ],\n        \"semantic_type\": \"\",\n        \"description\": \"\"\n      }\n    },\n    {\n      \"column\": \"col4\",\n      \"properties\": {\n        \"dtype\": \"number\",\n        \"std\": 6,\n        \"min\": 3,\n        \"max\": 19,\n        \"num_unique_values\": 5,\n        \"samples\": [\n          7,\n          19,\n          11\n        ],\n        \"semantic_type\": \"\",\n        \"description\": \"\"\n      }\n    }\n  ]\n}"
            }
          },
          "metadata": {},
          "execution_count": 37
        }
      ]
    },
    {
      "cell_type": "code",
      "source": [
        "type(df[['col3','col4']])"
      ],
      "metadata": {
        "colab": {
          "base_uri": "https://localhost:8080/",
          "height": 203
        },
        "id": "x-sCbXL5MAXq",
        "outputId": "7d021f42-68f8-4a8b-8d8d-e004eee4b658"
      },
      "execution_count": null,
      "outputs": [
        {
          "output_type": "execute_result",
          "data": {
            "text/plain": [
              "pandas.core.frame.DataFrame"
            ],
            "text/html": [
              "<div style=\"max-width:800px; border: 1px solid var(--colab-border-color);\"><style>\n",
              "      pre.function-repr-contents {\n",
              "        overflow-x: auto;\n",
              "        padding: 8px 12px;\n",
              "        max-height: 500px;\n",
              "      }\n",
              "\n",
              "      pre.function-repr-contents.function-repr-contents-collapsed {\n",
              "        cursor: pointer;\n",
              "        max-height: 100px;\n",
              "      }\n",
              "    </style>\n",
              "    <pre style=\"white-space: initial; background:\n",
              "         var(--colab-secondary-surface-color); padding: 8px 12px;\n",
              "         border-bottom: 1px solid var(--colab-border-color);\"><b>pandas.core.frame.DataFrame</b><br/>def __init__(data=None, index: Axes | None=None, columns: Axes | None=None, dtype: Dtype | None=None, copy: bool | None=None) -&gt; None</pre><pre class=\"function-repr-contents function-repr-contents-collapsed\" style=\"\"><a class=\"filepath\" style=\"display:none\" href=\"#\">/usr/local/lib/python3.10/dist-packages/pandas/core/frame.py</a>Two-dimensional, size-mutable, potentially heterogeneous tabular data.\n",
              "\n",
              "Data structure also contains labeled axes (rows and columns).\n",
              "Arithmetic operations align on both row and column labels. Can be\n",
              "thought of as a dict-like container for Series objects. The primary\n",
              "pandas data structure.\n",
              "\n",
              "Parameters\n",
              "----------\n",
              "data : ndarray (structured or homogeneous), Iterable, dict, or DataFrame\n",
              "    Dict can contain Series, arrays, constants, dataclass or list-like objects. If\n",
              "    data is a dict, column order follows insertion-order. If a dict contains Series\n",
              "    which have an index defined, it is aligned by its index. This alignment also\n",
              "    occurs if data is a Series or a DataFrame itself. Alignment is done on\n",
              "    Series/DataFrame inputs.\n",
              "\n",
              "    If data is a list of dicts, column order follows insertion-order.\n",
              "\n",
              "index : Index or array-like\n",
              "    Index to use for resulting frame. Will default to RangeIndex if\n",
              "    no indexing information part of input data and no index provided.\n",
              "columns : Index or array-like\n",
              "    Column labels to use for resulting frame when data does not have them,\n",
              "    defaulting to RangeIndex(0, 1, 2, ..., n). If data contains column labels,\n",
              "    will perform column selection instead.\n",
              "dtype : dtype, default None\n",
              "    Data type to force. Only a single dtype is allowed. If None, infer.\n",
              "copy : bool or None, default None\n",
              "    Copy data from inputs.\n",
              "    For dict data, the default of None behaves like ``copy=True``.  For DataFrame\n",
              "    or 2d ndarray input, the default of None behaves like ``copy=False``.\n",
              "    If data is a dict containing one or more Series (possibly of different dtypes),\n",
              "    ``copy=False`` will ensure that these inputs are not copied.\n",
              "\n",
              "    .. versionchanged:: 1.3.0\n",
              "\n",
              "See Also\n",
              "--------\n",
              "DataFrame.from_records : Constructor from tuples, also record arrays.\n",
              "DataFrame.from_dict : From dicts of Series, arrays, or dicts.\n",
              "read_csv : Read a comma-separated values (csv) file into DataFrame.\n",
              "read_table : Read general delimited file into DataFrame.\n",
              "read_clipboard : Read text from clipboard into DataFrame.\n",
              "\n",
              "Notes\n",
              "-----\n",
              "Please reference the :ref:`User Guide &lt;basics.dataframe&gt;` for more information.\n",
              "\n",
              "Examples\n",
              "--------\n",
              "Constructing DataFrame from a dictionary.\n",
              "\n",
              "&gt;&gt;&gt; d = {&#x27;col1&#x27;: [1, 2], &#x27;col2&#x27;: [3, 4]}\n",
              "&gt;&gt;&gt; df = pd.DataFrame(data=d)\n",
              "&gt;&gt;&gt; df\n",
              "   col1  col2\n",
              "0     1     3\n",
              "1     2     4\n",
              "\n",
              "Notice that the inferred dtype is int64.\n",
              "\n",
              "&gt;&gt;&gt; df.dtypes\n",
              "col1    int64\n",
              "col2    int64\n",
              "dtype: object\n",
              "\n",
              "To enforce a single dtype:\n",
              "\n",
              "&gt;&gt;&gt; df = pd.DataFrame(data=d, dtype=np.int8)\n",
              "&gt;&gt;&gt; df.dtypes\n",
              "col1    int8\n",
              "col2    int8\n",
              "dtype: object\n",
              "\n",
              "Constructing DataFrame from a dictionary including Series:\n",
              "\n",
              "&gt;&gt;&gt; d = {&#x27;col1&#x27;: [0, 1, 2, 3], &#x27;col2&#x27;: pd.Series([2, 3], index=[2, 3])}\n",
              "&gt;&gt;&gt; pd.DataFrame(data=d, index=[0, 1, 2, 3])\n",
              "   col1  col2\n",
              "0     0   NaN\n",
              "1     1   NaN\n",
              "2     2   2.0\n",
              "3     3   3.0\n",
              "\n",
              "Constructing DataFrame from numpy ndarray:\n",
              "\n",
              "&gt;&gt;&gt; df2 = pd.DataFrame(np.array([[1, 2, 3], [4, 5, 6], [7, 8, 9]]),\n",
              "...                    columns=[&#x27;a&#x27;, &#x27;b&#x27;, &#x27;c&#x27;])\n",
              "&gt;&gt;&gt; df2\n",
              "   a  b  c\n",
              "0  1  2  3\n",
              "1  4  5  6\n",
              "2  7  8  9\n",
              "\n",
              "Constructing DataFrame from a numpy ndarray that has labeled columns:\n",
              "\n",
              "&gt;&gt;&gt; data = np.array([(1, 2, 3), (4, 5, 6), (7, 8, 9)],\n",
              "...                 dtype=[(&quot;a&quot;, &quot;i4&quot;), (&quot;b&quot;, &quot;i4&quot;), (&quot;c&quot;, &quot;i4&quot;)])\n",
              "&gt;&gt;&gt; df3 = pd.DataFrame(data, columns=[&#x27;c&#x27;, &#x27;a&#x27;])\n",
              "...\n",
              "&gt;&gt;&gt; df3\n",
              "   c  a\n",
              "0  3  1\n",
              "1  6  4\n",
              "2  9  7\n",
              "\n",
              "Constructing DataFrame from dataclass:\n",
              "\n",
              "&gt;&gt;&gt; from dataclasses import make_dataclass\n",
              "&gt;&gt;&gt; Point = make_dataclass(&quot;Point&quot;, [(&quot;x&quot;, int), (&quot;y&quot;, int)])\n",
              "&gt;&gt;&gt; pd.DataFrame([Point(0, 0), Point(0, 3), Point(2, 3)])\n",
              "   x  y\n",
              "0  0  0\n",
              "1  0  3\n",
              "2  2  3\n",
              "\n",
              "Constructing DataFrame from Series/DataFrame:\n",
              "\n",
              "&gt;&gt;&gt; ser = pd.Series([1, 2, 3], index=[&quot;a&quot;, &quot;b&quot;, &quot;c&quot;])\n",
              "&gt;&gt;&gt; df = pd.DataFrame(data=ser, index=[&quot;a&quot;, &quot;c&quot;])\n",
              "&gt;&gt;&gt; df\n",
              "   0\n",
              "a  1\n",
              "c  3\n",
              "\n",
              "&gt;&gt;&gt; df1 = pd.DataFrame([1, 2, 3], index=[&quot;a&quot;, &quot;b&quot;, &quot;c&quot;], columns=[&quot;x&quot;])\n",
              "&gt;&gt;&gt; df2 = pd.DataFrame(data=df1, index=[&quot;a&quot;, &quot;c&quot;])\n",
              "&gt;&gt;&gt; df2\n",
              "   x\n",
              "a  1\n",
              "c  3</pre>\n",
              "      <script>\n",
              "      if (google.colab.kernel.accessAllowed && google.colab.files && google.colab.files.view) {\n",
              "        for (const element of document.querySelectorAll('.filepath')) {\n",
              "          element.style.display = 'block'\n",
              "          element.onclick = (event) => {\n",
              "            event.preventDefault();\n",
              "            event.stopPropagation();\n",
              "            google.colab.files.view(element.textContent, 490);\n",
              "          };\n",
              "        }\n",
              "      }\n",
              "      for (const element of document.querySelectorAll('.function-repr-contents')) {\n",
              "        element.onclick = (event) => {\n",
              "          event.preventDefault();\n",
              "          event.stopPropagation();\n",
              "          element.classList.toggle('function-repr-contents-collapsed');\n",
              "        };\n",
              "      }\n",
              "      </script>\n",
              "      </div>"
            ]
          },
          "metadata": {},
          "execution_count": 38
        }
      ]
    },
    {
      "cell_type": "markdown",
      "source": [
        "#Video 8(matplotlib)"
      ],
      "metadata": {
        "id": "Dpjg56sHMdb2"
      }
    },
    {
      "cell_type": "code",
      "source": [
        "import matplotlib.pyplot as plt\n",
        "import numpy as np\n",
        "\n",
        "%matplotlib inline"
      ],
      "metadata": {
        "id": "osPvt5yMgPZf"
      },
      "execution_count": 11,
      "outputs": []
    },
    {
      "cell_type": "code",
      "source": [
        "x=np.arange(0,10)\n",
        "y=np.arange(11,21)"
      ],
      "metadata": {
        "id": "KTHqBGqAhNaF"
      },
      "execution_count": 12,
      "outputs": []
    },
    {
      "cell_type": "code",
      "source": [
        "a=np.arange(40,50)\n",
        "b=np.arange(50,60)"
      ],
      "metadata": {
        "id": "XECp9RkShRtP"
      },
      "execution_count": 13,
      "outputs": []
    },
    {
      "cell_type": "code",
      "source": [
        "plt.scatter(x,y,c='r')\n",
        "plt.xlabel('x axis')\n",
        "plt.ylabel('y axis')\n",
        "plt.title('Graph in 2D')"
      ],
      "metadata": {
        "id": "Aj8JsM_lhf4t",
        "outputId": "e6d67609-5584-47ee-b11b-ca1fd8269743",
        "colab": {
          "base_uri": "https://localhost:8080/",
          "height": 489
        }
      },
      "execution_count": 14,
      "outputs": [
        {
          "output_type": "execute_result",
          "data": {
            "text/plain": [
              "Text(0.5, 1.0, 'Graph in 2D')"
            ]
          },
          "metadata": {},
          "execution_count": 14
        },
        {
          "output_type": "display_data",
          "data": {
            "text/plain": [
              "<Figure size 640x480 with 1 Axes>"
            ],
            "image/png": "[encoded data removed]"
          },
          "metadata": {}
        }
      ]
    },
    {
      "cell_type": "code",
      "source": [
        "y=x*x"
      ],
      "metadata": {
        "id": "nz2kPV6qhyRx"
      },
      "execution_count": 16,
      "outputs": []
    },
    {
      "cell_type": "code",
      "source": [
        "plt.plot(x,y,'r*--')"
      ],
      "metadata": {
        "id": "aGE6skFkhlPK",
        "outputId": "6e9f6c06-adb0-4c71-f022-0b0186836d79",
        "colab": {
          "base_uri": "https://localhost:8080/",
          "height": 447
        }
      },
      "execution_count": 25,
      "outputs": [
        {
          "output_type": "execute_result",
          "data": {
            "text/plain": [
              "[<matplotlib.lines.Line2D at 0x79ee18ee6620>]"
            ]
          },
          "metadata": {},
          "execution_count": 25
        },
        {
          "output_type": "display_data",
          "data": {
            "text/plain": [
              "<Figure size 640x480 with 1 Axes>"
            ],
            "image/png": "[encoded data removed]"
          },
          "metadata": {}
        }
      ]
    },
    {
      "cell_type": "code",
      "source": [
        "plt.plot(x,y,'go')"
      ],
      "metadata": {
        "id": "yEjmheZvhs3Y",
        "outputId": "d6f556d2-1d80-4286-8d5e-aa5cde3c6f95",
        "colab": {
          "base_uri": "https://localhost:8080/",
          "height": 447
        }
      },
      "execution_count": 26,
      "outputs": [
        {
          "output_type": "execute_result",
          "data": {
            "text/plain": [
              "[<matplotlib.lines.Line2D at 0x79ee18ee48b0>]"
            ]
          },
          "metadata": {},
          "execution_count": 26
        },
        {
          "output_type": "display_data",
          "data": {
            "text/plain": [
              "<Figure size 640x480 with 1 Axes>"
            ],
            "image/png": "[encoded data removed]"
          },
          "metadata": {}
        }
      ]
    },
    {
      "cell_type": "code",
      "source": [
        "plt.plot(x,y,'b*',linestyle='dashed',linewidth=2, markersize=12)\n",
        "plt.xlabel ('x axis')\n",
        "plt.ylabel ('y axis')\n",
        "plt.title('2D Dia')"
      ],
      "metadata": {
        "id": "7lHpIwqeibbi",
        "outputId": "094d4e27-e49e-46b1-fce4-d33c6061ae97",
        "colab": {
          "base_uri": "https://localhost:8080/",
          "height": 489
        }
      },
      "execution_count": 33,
      "outputs": [
        {
          "output_type": "execute_result",
          "data": {
            "text/plain": [
              "Text(0.5, 1.0, '2D Dia')"
            ]
          },
          "metadata": {},
          "execution_count": 33
        },
        {
          "output_type": "display_data",
          "data": {
            "text/plain": [
              "<Figure size 640x480 with 1 Axes>"
            ],
            "image/png": "[encoded data removed]"
          },
          "metadata": {}
        }
      ]
    },
    {
      "cell_type": "code",
      "source": [
        "plt.subplot(2,2,1)\n",
        "plt.plot(x,y,'r--')\n",
        "plt.subplot(2,2,2)\n",
        "plt.plot(x,y,'g*--')\n",
        "plt.subplot(2,2,3)\n",
        "plt.plot(x,y,'bo')  #ei jnsh ta bujhinai thik moto\n"
      ],
      "metadata": {
        "id": "cShvcPshqghY",
        "outputId": "b2868328-7c9d-4e4b-93dd-33dd78d68a42",
        "colab": {
          "base_uri": "https://localhost:8080/",
          "height": 447
        }
      },
      "execution_count": 36,
      "outputs": [
        {
          "data": {
            "text/plain": [
              "[<matplotlib.lines.Line2D at 0x79ee18302890>]"
            ]
          },
          "execution_count": 36,
          "metadata": {},
          "output_type": "execute_result"
        },
        {
          "data": {
            "image/png": "[encoded data removed]",
            "text/plain": [
              "<Figure size 640x480 with 3 Axes>"
            ]
          },
          "metadata": {},
          "output_type": "display_data"
        }
      ]
    },
    {
      "cell_type": "code",
      "source": [
        "x=np.arange(1,11)\n",
        "y=3*x+5\n",
        "plt.xlabel('x axis')\n",
        "plt.ylabel('y axis')\n",
        "plt.title(\"2D graph\")\n",
        "plt.plot(x,y,'r')\n",
        "plt.show()"
      ],
      "metadata": {
        "id": "fgz4pJW5sQDB",
        "outputId": "1f9a6209-162f-4626-8040-e292bc23cfe4",
        "colab": {
          "base_uri": "https://localhost:8080/",
          "height": 472
        }
      },
      "execution_count": 40,
      "outputs": [
        {
          "output_type": "display_data",
          "data": {
            "text/plain": [
              "<Figure size 640x480 with 1 Axes>"
            ],
            "image/png": "[encoded data removed]"
          },
          "metadata": {}
        }
      ]
    },
    {
      "cell_type": "code",
      "source": [
        "np.pi"
      ],
      "metadata": {
        "id": "rqDKUlW4tv8Z",
        "outputId": "2e06bac4-2d31-446f-b3fb-13cfd116c900",
        "colab": {
          "base_uri": "https://localhost:8080/"
        }
      },
      "execution_count": 41,
      "outputs": [
        {
          "output_type": "execute_result",
          "data": {
            "text/plain": [
              "3.141592653589793"
            ]
          },
          "metadata": {},
          "execution_count": 41
        }
      ]
    },
    {
      "cell_type": "code",
      "source": [
        "x=np.arange(0, 4* np.pi, 0.1)\n",
        "y=np.sin(x)\n",
        "plt.plot (x,y,'g')"
      ],
      "metadata": {
        "id": "3ii0yHU-uCwI",
        "outputId": "aecca2f9-6efb-41d6-f43d-8f0c7c579119",
        "colab": {
          "base_uri": "https://localhost:8080/",
          "height": 447
        }
      },
      "execution_count": 44,
      "outputs": [
        {
          "output_type": "execute_result",
          "data": {
            "text/plain": [
              "[<matplotlib.lines.Line2D at 0x79ee18576410>]"
            ]
          },
          "metadata": {},
          "execution_count": 44
        },
        {
          "output_type": "display_data",
          "data": {
            "text/plain": [
              "<Figure size 640x480 with 1 Axes>"
            ],
            "image/png": "[encoded data removed]"
          },
          "metadata": {}
        }
      ]
    },
    {
      "cell_type": "code",
      "source": [
        "x=[2,4,8]\n",
        "y=[3,6,9]\n",
        "\n",
        "x2=[1,3,5]\n",
        "y2=[2,4,6]\n",
        "\n",
        "plt.bar(x,y)\n",
        "plt.bar(x2,y2)\n",
        "\n",
        "plt.xlabel(\"X axis\")\n",
        "plt.ylabel(\"Y axis\")\n",
        "\n"
      ],
      "metadata": {
        "id": "DaN7QbpruSJd",
        "outputId": "0e6e270d-ae64-44fb-ec1e-5ec42654df32",
        "colab": {
          "base_uri": "https://localhost:8080/",
          "height": 466
        }
      },
      "execution_count": 45,
      "outputs": [
        {
          "output_type": "execute_result",
          "data": {
            "text/plain": [
              "Text(0, 0.5, 'Y axis')"
            ]
          },
          "metadata": {},
          "execution_count": 45
        },
        {
          "output_type": "display_data",
          "data": {
            "text/plain": [
              "<Figure size 640x480 with 1 Axes>"
            ],
            "image/png": "[encoded data removed]"
          },
          "metadata": {}
        }
      ]
    },
    {
      "cell_type": "code",
      "source": [
        "a=np.array([22,34,12,65,83,41])\n",
        "plt.hist(a)\n",
        "plt.title('histogram')\n",
        "plt.show"
      ],
      "metadata": {
        "id": "sYmleZD3voX_",
        "outputId": "3f93d744-e860-44ab-ca4c-48c59c3eb26a",
        "colab": {
          "base_uri": "https://localhost:8080/",
          "height": 622
        }
      },
      "execution_count": 47,
      "outputs": [
        {
          "output_type": "execute_result",
          "data": {
            "text/plain": [
              "<function matplotlib.pyplot.show(close=None, block=None)>"
            ],
            "text/html": [
              "<div style=\"max-width:800px; border: 1px solid var(--colab-border-color);\"><style>\n",
              "      pre.function-repr-contents {\n",
              "        overflow-x: auto;\n",
              "        padding: 8px 12px;\n",
              "        max-height: 500px;\n",
              "      }\n",
              "\n",
              "      pre.function-repr-contents.function-repr-contents-collapsed {\n",
              "        cursor: pointer;\n",
              "        max-height: 100px;\n",
              "      }\n",
              "    </style>\n",
              "    <pre style=\"white-space: initial; background:\n",
              "         var(--colab-secondary-surface-color); padding: 8px 12px;\n",
              "         border-bottom: 1px solid var(--colab-border-color);\"><b>matplotlib.pyplot.show</b><br/>def show(*args, **kwargs)</pre><pre class=\"function-repr-contents function-repr-contents-collapsed\" style=\"\"><a class=\"filepath\" style=\"display:none\" href=\"#\">/usr/local/lib/python3.10/dist-packages/matplotlib/pyplot.py</a>Display all open figures.\n",
              "\n",
              "Parameters\n",
              "----------\n",
              "block : bool, optional\n",
              "    Whether to wait for all figures to be closed before returning.\n",
              "\n",
              "    If `True` block and run the GUI main loop until all figure windows\n",
              "    are closed.\n",
              "\n",
              "    If `False` ensure that all figure windows are displayed and return\n",
              "    immediately.  In this case, you are responsible for ensuring\n",
              "    that the event loop is running to have responsive figures.\n",
              "\n",
              "    Defaults to True in non-interactive mode and to False in interactive\n",
              "    mode (see `.pyplot.isinteractive`).\n",
              "\n",
              "See Also\n",
              "--------\n",
              "ion : Enable interactive mode, which shows / updates the figure after\n",
              "      every plotting command, so that calling ``show()`` is not necessary.\n",
              "ioff : Disable interactive mode.\n",
              "savefig : Save the figure to an image file instead of showing it on screen.\n",
              "\n",
              "Notes\n",
              "-----\n",
              "**Saving figures to file and showing a window at the same time**\n",
              "\n",
              "If you want an image file as well as a user interface window, use\n",
              "`.pyplot.savefig` before `.pyplot.show`. At the end of (a blocking)\n",
              "``show()`` the figure is closed and thus unregistered from pyplot. Calling\n",
              "`.pyplot.savefig` afterwards would save a new and thus empty figure. This\n",
              "limitation of command order does not apply if the show is non-blocking or\n",
              "if you keep a reference to the figure and use `.Figure.savefig`.\n",
              "\n",
              "**Auto-show in jupyter notebooks**\n",
              "\n",
              "The jupyter backends (activated via ``%matplotlib inline``,\n",
              "``%matplotlib notebook``, or ``%matplotlib widget``), call ``show()`` at\n",
              "the end of every cell by default. Thus, you usually don&#x27;t have to call it\n",
              "explicitly there.</pre>\n",
              "      <script>\n",
              "      if (google.colab.kernel.accessAllowed && google.colab.files && google.colab.files.view) {\n",
              "        for (const element of document.querySelectorAll('.filepath')) {\n",
              "          element.style.display = 'block'\n",
              "          element.onclick = (event) => {\n",
              "            event.preventDefault();\n",
              "            event.stopPropagation();\n",
              "            google.colab.files.view(element.textContent, 401);\n",
              "          };\n",
              "        }\n",
              "      }\n",
              "      for (const element of document.querySelectorAll('.function-repr-contents')) {\n",
              "        element.onclick = (event) => {\n",
              "          event.preventDefault();\n",
              "          event.stopPropagation();\n",
              "          element.classList.toggle('function-repr-contents-collapsed');\n",
              "        };\n",
              "      }\n",
              "      </script>\n",
              "      </div>"
            ]
          },
          "metadata": {},
          "execution_count": 47
        },
        {
          "output_type": "display_data",
          "data": {
            "text/plain": [
              "<Figure size 640x480 with 1 Axes>"
            ],
            "image/png": "[encoded data removed]"
          },
          "metadata": {}
        }
      ]
    },
    {
      "cell_type": "code",
      "source": [
        "#boxplot, piechart skipped temporarily\n"
      ],
      "metadata": {
        "id": "nCvhIDNmx6AI"
      },
      "execution_count": null,
      "outputs": []
    }
  ]
}