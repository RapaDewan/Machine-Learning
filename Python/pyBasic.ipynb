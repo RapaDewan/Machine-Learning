{
  "nbformat": 4,
  "nbformat_minor": 0,
  "metadata": {
    "colab": {
      "provenance": [],
      "toc_visible": true,
      "authorship_tag": "ABX9TyMEiFmVzdCq8Y0YmecCcK61",
      "include_colab_link": true
    },
    "kernelspec": {
      "name": "python3",
      "display_name": "Python 3"
    },
    "language_info": {
      "name": "python"
    }
  },
  "cells": [
    {
      "cell_type": "markdown",
      "metadata": {
        "id": "view-in-github",
        "colab_type": "text"
      },
      "source": [
        "<a href=\"https://colab.research.google.com/github/RapaDewan/Machine-Learning/blob/main/Python/pyBasic.ipynb\" target=\"_parent\"><img src=\"https://colab.research.google.com/assets/colab-badge.svg\" alt=\"Open In Colab\"/></a>"
      ]
    },
    {
      "cell_type": "code",
      "execution_count": null,
      "metadata": {
        "colab": {
          "base_uri": "https://localhost:8080/"
        },
        "id": "MU1unH8IalI1",
        "outputId": "47b9dc6a-fc6a-4c69-8d90-97690b6a54e3"
      },
      "outputs": [
        {
          "output_type": "stream",
          "name": "stdout",
          "text": [
            "Rapa\n"
          ]
        }
      ],
      "source": [
        "print('Rapa')"
      ]
    },
    {
      "cell_type": "code",
      "source": [
        "7+7"
      ],
      "metadata": {
        "colab": {
          "base_uri": "https://localhost:8080/"
        },
        "id": "g0RRhH2ua1rm",
        "outputId": "6761ce5f-c79a-4f25-cbdf-c07b856a4e44"
      },
      "execution_count": 1,
      "outputs": [
        {
          "output_type": "execute_result",
          "data": {
            "text/plain": [
              "14"
            ]
          },
          "metadata": {},
          "execution_count": 1
        }
      ]
    },
    {
      "cell_type": "code",
      "source": [
        "2*3"
      ],
      "metadata": {
        "id": "apiaqhBoa9iy",
        "outputId": "a72a74f0-5a7a-4ce0-d1e7-d3e4dfbb0f42",
        "colab": {
          "base_uri": "https://localhost:8080/"
        }
      },
      "execution_count": 2,
      "outputs": [
        {
          "output_type": "execute_result",
          "data": {
            "text/plain": [
              "6"
            ]
          },
          "metadata": {},
          "execution_count": 2
        }
      ]
    },
    {
      "cell_type": "code",
      "source": [
        "10* 'rapa'"
      ],
      "metadata": {
        "id": "yLXkoJ_1Kdfu",
        "outputId": "0f9858e6-d002-4bd5-c8e2-bc3309d29c59",
        "colab": {
          "base_uri": "https://localhost:8080/",
          "height": 35
        }
      },
      "execution_count": 3,
      "outputs": [
        {
          "output_type": "execute_result",
          "data": {
            "text/plain": [
              "'raparaparaparaparaparaparaparaparaparapa'"
            ],
            "application/vnd.google.colaboratory.intrinsic+json": {
              "type": "string"
            }
          },
          "metadata": {},
          "execution_count": 3
        }
      ]
    },
    {
      "cell_type": "code",
      "source": [
        "type ('rapa')"
      ],
      "metadata": {
        "id": "QUuVmK5LNQLc",
        "outputId": "a253909e-075b-413e-99dd-c78b4762389c",
        "colab": {
          "base_uri": "https://localhost:8080/"
        }
      },
      "execution_count": 4,
      "outputs": [
        {
          "output_type": "execute_result",
          "data": {
            "text/plain": [
              "str"
            ]
          },
          "metadata": {},
          "execution_count": 4
        }
      ]
    },
    {
      "cell_type": "code",
      "source": [
        "type ('False')"
      ],
      "metadata": {
        "id": "zVNv4jzshUNd",
        "outputId": "79c7ec07-dc29-4e1c-a45d-5e19fb2f43ef",
        "colab": {
          "base_uri": "https://localhost:8080/"
        }
      },
      "execution_count": 6,
      "outputs": [
        {
          "output_type": "execute_result",
          "data": {
            "text/plain": [
              "str"
            ]
          },
          "metadata": {},
          "execution_count": 6
        }
      ]
    },
    {
      "cell_type": "code",
      "source": [
        "#syntax\n",
        "#var_names=values\n",
        "\n",
        "b=100\n",
        "\n",
        "type (b)"
      ],
      "metadata": {
        "id": "GgRAzYpXhmFZ",
        "outputId": "6182bf30-ca14-4938-e76e-f11f3e97be4a",
        "colab": {
          "base_uri": "https://localhost:8080/"
        }
      },
      "execution_count": 8,
      "outputs": [
        {
          "output_type": "execute_result",
          "data": {
            "text/plain": [
              "int"
            ]
          },
          "metadata": {},
          "execution_count": 8
        }
      ]
    },
    {
      "cell_type": "markdown",
      "source": [],
      "metadata": {
        "id": "4N4JQ4yOiOjz"
      }
    },
    {
      "cell_type": "code",
      "source": [
        "b=100\n",
        "type (b)"
      ],
      "metadata": {
        "id": "Cg51JzPviXBx",
        "outputId": "73da69ae-53af-4776-a6cf-5d7641d195d6",
        "colab": {
          "base_uri": "https://localhost:8080/"
        }
      },
      "execution_count": 9,
      "outputs": [
        {
          "output_type": "execute_result",
          "data": {
            "text/plain": [
              "int"
            ]
          },
          "metadata": {},
          "execution_count": 9
        }
      ]
    },
    {
      "cell_type": "code",
      "source": [
        "a=5\n",
        "b=2\n",
        "\n",
        "print (a+b)\n",
        "print (a-b)\n",
        "print (a*3)\n",
        "print (b*1.8)"
      ],
      "metadata": {
        "id": "f0LacFWIim2P",
        "outputId": "42d0737f-39e9-4c60-ac8a-326ef40266c1",
        "colab": {
          "base_uri": "https://localhost:8080/"
        }
      },
      "execution_count": 12,
      "outputs": [
        {
          "output_type": "stream",
          "name": "stdout",
          "text": [
            "7\n",
            "3\n",
            "15\n",
            "3.6\n"
          ]
        }
      ]
    },
    {
      "cell_type": "code",
      "source": [
        "first_name= \"Rapa\"\n",
        "last_name= \"Dewan\"\n",
        "\n",
        "print (\"My first name is {} and my last name is {}.\" .format(first_name, last_name))"
      ],
      "metadata": {
        "id": "ThSM2SlQjEIr",
        "outputId": "a05b420d-fefb-4baa-af34-3ddbabb07124",
        "colab": {
          "base_uri": "https://localhost:8080/"
        }
      },
      "execution_count": 14,
      "outputs": [
        {
          "output_type": "stream",
          "name": "stdout",
          "text": [
            "My first name is Rapa and my last name is Dewan.\n"
          ]
        }
      ]
    },
    {
      "cell_type": "code",
      "source": [
        "first_name= \"Rapa\"\n",
        "last_name= \"Dewan\"\n",
        "\n",
        "print (\"My first name is {first} and my last name is {last}.\" .format(last=last_name, first=first_name))"
      ],
      "metadata": {
        "id": "NBVsgIZnm-fb",
        "outputId": "dfb0508d-e85e-4ec6-d060-cd50cb31ed35",
        "colab": {
          "base_uri": "https://localhost:8080/"
        }
      },
      "execution_count": 15,
      "outputs": [
        {
          "output_type": "stream",
          "name": "stdout",
          "text": [
            "My first name is Rapa and my last name is Dewan.\n"
          ]
        }
      ]
    },
    {
      "cell_type": "markdown",
      "source": [],
      "metadata": {
        "id": "G3zpqeSApnvI"
      }
    },
    {
      "cell_type": "code",
      "source": [
        "len ('rapa dewan')"
      ],
      "metadata": {
        "id": "ZlZxVMN6poqG",
        "outputId": "ea21b400-62fa-49eb-c6ca-457aa39f9257",
        "colab": {
          "base_uri": "https://localhost:8080/"
        }
      },
      "execution_count": 19,
      "outputs": [
        {
          "output_type": "execute_result",
          "data": {
            "text/plain": [
              "10"
            ]
          },
          "metadata": {},
          "execution_count": 19
        }
      ]
    },
    {
      "cell_type": "code",
      "source": [
        "type ('1',2,3,4)"
      ],
      "metadata": {
        "id": "Xe_eg5Pips3j",
        "outputId": "fc1e9f00-8b0f-465f-96a2-c836a25901be",
        "colab": {
          "base_uri": "https://localhost:8080/",
          "height": 141
        }
      },
      "execution_count": 23,
      "outputs": [
        {
          "output_type": "error",
          "ename": "TypeError",
          "evalue": "type() takes 1 or 3 arguments",
          "traceback": [
            "\u001b[0;31m---------------------------------------------------------------------------\u001b[0m",
            "\u001b[0;31mTypeError\u001b[0m                                 Traceback (most recent call last)",
            "\u001b[0;32m<ipython-input-23-447c9d0acf48>\u001b[0m in \u001b[0;36m<cell line: 1>\u001b[0;34m()\u001b[0m\n\u001b[0;32m----> 1\u001b[0;31m \u001b[0mtype\u001b[0m \u001b[0;34m(\u001b[0m\u001b[0;34m'1'\u001b[0m\u001b[0;34m,\u001b[0m\u001b[0;36m2\u001b[0m\u001b[0;34m,\u001b[0m\u001b[0;36m3\u001b[0m\u001b[0;34m,\u001b[0m\u001b[0;36m4\u001b[0m\u001b[0;34m)\u001b[0m\u001b[0;34m\u001b[0m\u001b[0;34m\u001b[0m\u001b[0m\n\u001b[0m",
            "\u001b[0;31mTypeError\u001b[0m: type() takes 1 or 3 arguments"
          ]
        }
      ]
    },
    {
      "cell_type": "code",
      "source": [],
      "metadata": {
        "id": "MD3Pk2UMqFT3"
      },
      "execution_count": null,
      "outputs": []
    }
  ]
}