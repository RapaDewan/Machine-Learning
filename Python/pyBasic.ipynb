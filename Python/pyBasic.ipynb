{
  "nbformat": 4,
  "nbformat_minor": 0,
  "metadata": {
    "colab": {
      "provenance": [],
      "toc_visible": true,
      "authorship_tag": "ABX9TyMQUvyItp4uOBlqbbFzUHNx",
      "include_colab_link": true
    },
    "kernelspec": {
      "name": "python3",
      "display_name": "Python 3"
    },
    "language_info": {
      "name": "python"
    }
  },
  "cells": [
    {
      "cell_type": "markdown",
      "metadata": {
        "id": "view-in-github",
        "colab_type": "text"
      },
      "source": [
        "<a href=\"https://colab.research.google.com/github/RapaDewan/Machine-Learning/blob/main/Python/pyBasic.ipynb\" target=\"_parent\"><img src=\"https://colab.research.google.com/assets/colab-badge.svg\" alt=\"Open In Colab\"/></a>"
      ]
    },
    {
      "cell_type": "code",
      "execution_count": null,
      "metadata": {
        "colab": {
          "base_uri": "https://localhost:8080/"
        },
        "id": "MU1unH8IalI1",
        "outputId": "47b9dc6a-fc6a-4c69-8d90-97690b6a54e3"
      },
      "outputs": [
        {
          "output_type": "stream",
          "name": "stdout",
          "text": [
            "Rapa\n"
          ]
        }
      ],
      "source": [
        "print('Rapa')"
      ]
    },
    {
      "cell_type": "code",
      "source": [
        "7+7"
      ],
      "metadata": {
        "colab": {
          "base_uri": "https://localhost:8080/"
        },
        "id": "g0RRhH2ua1rm",
        "outputId": "6761ce5f-c79a-4f25-cbdf-c07b856a4e44"
      },
      "execution_count": null,
      "outputs": [
        {
          "output_type": "execute_result",
          "data": {
            "text/plain": [
              "14"
            ]
          },
          "metadata": {},
          "execution_count": 1
        }
      ]
    },
    {
      "cell_type": "code",
      "source": [
        "2*3"
      ],
      "metadata": {
        "id": "apiaqhBoa9iy",
        "colab": {
          "base_uri": "https://localhost:8080/"
        },
        "outputId": "a72a74f0-5a7a-4ce0-d1e7-d3e4dfbb0f42"
      },
      "execution_count": null,
      "outputs": [
        {
          "output_type": "execute_result",
          "data": {
            "text/plain": [
              "6"
            ]
          },
          "metadata": {},
          "execution_count": 2
        }
      ]
    },
    {
      "cell_type": "code",
      "source": [
        "10* 'rapa'"
      ],
      "metadata": {
        "colab": {
          "base_uri": "https://localhost:8080/",
          "height": 35
        },
        "id": "yLXkoJ_1Kdfu",
        "outputId": "0f9858e6-d002-4bd5-c8e2-bc3309d29c59"
      },
      "execution_count": null,
      "outputs": [
        {
          "output_type": "execute_result",
          "data": {
            "text/plain": [
              "'raparaparaparaparaparaparaparaparaparapa'"
            ],
            "application/vnd.google.colaboratory.intrinsic+json": {
              "type": "string"
            }
          },
          "metadata": {},
          "execution_count": 3
        }
      ]
    },
    {
      "cell_type": "code",
      "source": [
        "type ('rapa')"
      ],
      "metadata": {
        "colab": {
          "base_uri": "https://localhost:8080/"
        },
        "id": "QUuVmK5LNQLc",
        "outputId": "a253909e-075b-413e-99dd-c78b4762389c"
      },
      "execution_count": null,
      "outputs": [
        {
          "output_type": "execute_result",
          "data": {
            "text/plain": [
              "str"
            ]
          },
          "metadata": {},
          "execution_count": 4
        }
      ]
    },
    {
      "cell_type": "code",
      "source": [
        "type ('False')"
      ],
      "metadata": {
        "colab": {
          "base_uri": "https://localhost:8080/"
        },
        "id": "zVNv4jzshUNd",
        "outputId": "79c7ec07-dc29-4e1c-a45d-5e19fb2f43ef"
      },
      "execution_count": null,
      "outputs": [
        {
          "output_type": "execute_result",
          "data": {
            "text/plain": [
              "str"
            ]
          },
          "metadata": {},
          "execution_count": 6
        }
      ]
    },
    {
      "cell_type": "code",
      "source": [
        "#syntax\n",
        "#var_names=values\n",
        "\n",
        "b=100\n",
        "\n",
        "type (b)"
      ],
      "metadata": {
        "colab": {
          "base_uri": "https://localhost:8080/"
        },
        "id": "GgRAzYpXhmFZ",
        "outputId": "6182bf30-ca14-4938-e76e-f11f3e97be4a"
      },
      "execution_count": null,
      "outputs": [
        {
          "output_type": "execute_result",
          "data": {
            "text/plain": [
              "int"
            ]
          },
          "metadata": {},
          "execution_count": 8
        }
      ]
    },
    {
      "cell_type": "markdown",
      "source": [],
      "metadata": {
        "id": "4N4JQ4yOiOjz"
      }
    },
    {
      "cell_type": "code",
      "source": [
        "b=100\n",
        "type (b)"
      ],
      "metadata": {
        "colab": {
          "base_uri": "https://localhost:8080/"
        },
        "id": "Cg51JzPviXBx",
        "outputId": "73da69ae-53af-4776-a6cf-5d7641d195d6"
      },
      "execution_count": null,
      "outputs": [
        {
          "output_type": "execute_result",
          "data": {
            "text/plain": [
              "int"
            ]
          },
          "metadata": {},
          "execution_count": 9
        }
      ]
    },
    {
      "cell_type": "code",
      "source": [
        "a=5\n",
        "b=2\n",
        "\n",
        "print (a+b)\n",
        "print (a-b)\n",
        "print (a*3)\n",
        "print (b*1.8)"
      ],
      "metadata": {
        "colab": {
          "base_uri": "https://localhost:8080/"
        },
        "id": "f0LacFWIim2P",
        "outputId": "42d0737f-39e9-4c60-ac8a-326ef40266c1"
      },
      "execution_count": null,
      "outputs": [
        {
          "output_type": "stream",
          "name": "stdout",
          "text": [
            "7\n",
            "3\n",
            "15\n",
            "3.6\n"
          ]
        }
      ]
    },
    {
      "cell_type": "code",
      "source": [
        "first_name= \"Rapa\"\n",
        "last_name= \"Dewan\"\n",
        "\n",
        "print (\"My first name is {} and my last name is {}.\" .format(first_name, last_name))"
      ],
      "metadata": {
        "colab": {
          "base_uri": "https://localhost:8080/"
        },
        "id": "ThSM2SlQjEIr",
        "outputId": "a05b420d-fefb-4baa-af34-3ddbabb07124"
      },
      "execution_count": null,
      "outputs": [
        {
          "output_type": "stream",
          "name": "stdout",
          "text": [
            "My first name is Rapa and my last name is Dewan.\n"
          ]
        }
      ]
    },
    {
      "cell_type": "code",
      "source": [
        "first_name= \"Rapa\"\n",
        "last_name= \"Dewan\"\n",
        "\n",
        "print (\"My first name is {first} and my last name is {last}.\" .format(last=last_name, first=first_name))"
      ],
      "metadata": {
        "colab": {
          "base_uri": "https://localhost:8080/"
        },
        "id": "NBVsgIZnm-fb",
        "outputId": "dfb0508d-e85e-4ec6-d060-cd50cb31ed35"
      },
      "execution_count": null,
      "outputs": [
        {
          "output_type": "stream",
          "name": "stdout",
          "text": [
            "My first name is Rapa and my last name is Dewan.\n"
          ]
        }
      ]
    },
    {
      "cell_type": "markdown",
      "source": [],
      "metadata": {
        "id": "G3zpqeSApnvI"
      }
    },
    {
      "cell_type": "code",
      "source": [
        "len ('rapa dewan')"
      ],
      "metadata": {
        "colab": {
          "base_uri": "https://localhost:8080/"
        },
        "id": "ZlZxVMN6poqG",
        "outputId": "ea21b400-62fa-49eb-c6ca-457aa39f9257"
      },
      "execution_count": null,
      "outputs": [
        {
          "output_type": "execute_result",
          "data": {
            "text/plain": [
              "10"
            ]
          },
          "metadata": {},
          "execution_count": 19
        }
      ]
    },
    {
      "cell_type": "code",
      "source": [
        "type ([1,2,3,4])"
      ],
      "metadata": {
        "colab": {
          "base_uri": "https://localhost:8080/"
        },
        "id": "Xe_eg5Pips3j",
        "outputId": "c99d69b0-333e-40fb-ef3b-b02fe739c1bb"
      },
      "execution_count": null,
      "outputs": [
        {
          "output_type": "execute_result",
          "data": {
            "text/plain": [
              "list"
            ]
          },
          "metadata": {},
          "execution_count": 49
        }
      ]
    },
    {
      "cell_type": "code",
      "source": [
        "my_word= 'Rapa dewan'\n",
        "my_word.istitle()"
      ],
      "metadata": {
        "colab": {
          "base_uri": "https://localhost:8080/"
        },
        "id": "MD3Pk2UMqFT3",
        "outputId": "cc70031e-c3ee-429c-d103-febd195c2c45"
      },
      "execution_count": null,
      "outputs": [
        {
          "output_type": "execute_result",
          "data": {
            "text/plain": [
              "False"
            ]
          },
          "metadata": {},
          "execution_count": 35
        }
      ]
    },
    {
      "cell_type": "code",
      "source": [
        "my_word= \"Rapa\"\n",
        "my_word.startswith('R')\n"
      ],
      "metadata": {
        "id": "TdHjY8-g4ubj",
        "outputId": "21170b19-ae7a-4a37-edff-fa2db731b628",
        "colab": {
          "base_uri": "https://localhost:8080/"
        }
      },
      "execution_count": null,
      "outputs": [
        {
          "output_type": "execute_result",
          "data": {
            "text/plain": [
              "False"
            ]
          },
          "metadata": {},
          "execution_count": 38
        }
      ]
    },
    {
      "cell_type": "code",
      "source": [
        "True and True"
      ],
      "metadata": {
        "id": "dOSZzcTG5w-E",
        "outputId": "0cc6b9e7-d6ed-42cb-f1ca-28f7eb61e34e",
        "colab": {
          "base_uri": "https://localhost:8080/"
        }
      },
      "execution_count": null,
      "outputs": [
        {
          "output_type": "execute_result",
          "data": {
            "text/plain": [
              "True"
            ]
          },
          "metadata": {},
          "execution_count": 39
        }
      ]
    },
    {
      "cell_type": "code",
      "source": [
        "True or False"
      ],
      "metadata": {
        "id": "cTNwyBGT6urJ",
        "outputId": "b456f35b-c711-4530-f9f0-60ca031eee56",
        "colab": {
          "base_uri": "https://localhost:8080/"
        }
      },
      "execution_count": null,
      "outputs": [
        {
          "output_type": "execute_result",
          "data": {
            "text/plain": [
              "True"
            ]
          },
          "metadata": {},
          "execution_count": 40
        }
      ]
    },
    {
      "cell_type": "code",
      "source": [
        "True and False"
      ],
      "metadata": {
        "id": "lypYX82D6w-H",
        "outputId": "390ad11e-39ad-4f33-a9a7-95e299c1cb71",
        "colab": {
          "base_uri": "https://localhost:8080/"
        }
      },
      "execution_count": null,
      "outputs": [
        {
          "output_type": "execute_result",
          "data": {
            "text/plain": [
              "False"
            ]
          },
          "metadata": {},
          "execution_count": 41
        }
      ]
    },
    {
      "cell_type": "code",
      "source": [
        "example= \"Mash123\"\n",
        "my_exp= \"rapa dewan\"\n",
        "example.isalnum() and my_exp.isalpha() #prblem"
      ],
      "metadata": {
        "id": "fkDHKOzS63vc",
        "outputId": "8534e6c9-11b8-48a5-c222-9e56c9035633",
        "colab": {
          "base_uri": "https://localhost:8080/"
        }
      },
      "execution_count": null,
      "outputs": [
        {
          "output_type": "execute_result",
          "data": {
            "text/plain": [
              "False"
            ]
          },
          "metadata": {},
          "execution_count": 43
        }
      ]
    },
    {
      "cell_type": "code",
      "source": [
        "list_exp= []\n",
        "type (list_exp)"
      ],
      "metadata": {
        "id": "QVgPiO6E9J2_",
        "outputId": "ec394aa7-15f6-43ca-a83a-2854503d515a",
        "colab": {
          "base_uri": "https://localhost:8080/"
        }
      },
      "execution_count": null,
      "outputs": [
        {
          "output_type": "execute_result",
          "data": {
            "text/plain": [
              "list"
            ]
          },
          "metadata": {},
          "execution_count": 50
        }
      ]
    },
    {
      "cell_type": "code",
      "source": [
        "lst=list()\n",
        "lst= [\"rapa\",1,2,3]\n",
        "type (lst)\n",
        "len(lst)\n",
        "lst.append(\"dewan\")\n",
        "print (lst)\n",
        "lst[0]"
      ],
      "metadata": {
        "id": "SAhPsoGr-mw6",
        "outputId": "7bf8438f-ef83-45fc-e6ff-e287defd08f4",
        "colab": {
          "base_uri": "https://localhost:8080/",
          "height": 52
        }
      },
      "execution_count": null,
      "outputs": [
        {
          "output_type": "stream",
          "name": "stdout",
          "text": [
            "['rapa', 1, 2, 3, 'dewan']\n"
          ]
        },
        {
          "output_type": "execute_result",
          "data": {
            "text/plain": [
              "'rapa'"
            ],
            "application/vnd.google.colaboratory.intrinsic+json": {
              "type": "string"
            }
          },
          "metadata": {},
          "execution_count": 59
        }
      ]
    },
    {
      "cell_type": "code",
      "source": [
        "lst[:]"
      ],
      "metadata": {
        "id": "_UaBW31u-xPm",
        "outputId": "b8c1882c-402e-417a-f856-c6927dc9c449",
        "colab": {
          "base_uri": "https://localhost:8080/"
        }
      },
      "execution_count": null,
      "outputs": [
        {
          "output_type": "execute_result",
          "data": {
            "text/plain": [
              "['rapa', 1, 2, 3, 'dewan']"
            ]
          },
          "metadata": {},
          "execution_count": 60
        }
      ]
    },
    {
      "cell_type": "code",
      "source": [
        "lst[1:]"
      ],
      "metadata": {
        "id": "b68pQPu4BpeF",
        "outputId": "46cf08cc-7f15-46cf-a579-4c82cee04d47",
        "colab": {
          "base_uri": "https://localhost:8080/"
        }
      },
      "execution_count": null,
      "outputs": [
        {
          "output_type": "execute_result",
          "data": {
            "text/plain": [
              "[1, 2, 3, 'dewan']"
            ]
          },
          "metadata": {},
          "execution_count": 61
        }
      ]
    },
    {
      "cell_type": "code",
      "source": [
        "lst [1:4]"
      ],
      "metadata": {
        "id": "6u4E5IlvBtVm",
        "outputId": "7667cb6a-04ba-4858-fa3d-11743f656cc1",
        "colab": {
          "base_uri": "https://localhost:8080/"
        }
      },
      "execution_count": null,
      "outputs": [
        {
          "output_type": "execute_result",
          "data": {
            "text/plain": [
              "[1, 2, 3]"
            ]
          },
          "metadata": {},
          "execution_count": 64
        }
      ]
    },
    {
      "cell_type": "code",
      "source": [
        "lst.append (['rapuu', 'mash'])\n",
        "print (lst)"
      ],
      "metadata": {
        "id": "nYjvV0AvB0pz",
        "outputId": "c1f3dc95-518e-427c-de59-60f85b02649b",
        "colab": {
          "base_uri": "https://localhost:8080/"
        }
      },
      "execution_count": null,
      "outputs": [
        {
          "output_type": "stream",
          "name": "stdout",
          "text": [
            "['rapa', 1, 2, 3, 'dewan', 'rapu, mash', 'rapu, mash', 'rapu, mash', ['rapuu', 'mash']]\n"
          ]
        }
      ]
    },
    {
      "cell_type": "code",
      "source": [
        "lst.insert (2,'raziv')\n",
        "print (lst) //duibar kore ashe kno?"
      ],
      "metadata": {
        "id": "-U-12PiSC8AK",
        "outputId": "70618f41-f3d0-4ff8-86da-0ae7724d3bb4",
        "colab": {
          "base_uri": "https://localhost:8080/"
        }
      },
      "execution_count": null,
      "outputs": [
        {
          "output_type": "stream",
          "name": "stdout",
          "text": [
            "[511, 511, 'raziv', 'raziv', 'rapa', 1, 2, 3, 'dewan', 'rapu, mash', 'rapu, mash', 'rapu, mash', ['rapuu', 'mash']]\n"
          ]
        }
      ]
    },
    {
      "cell_type": "code",
      "source": [
        "lst1=list()\n",
        "lst1=[1,2,3,4]\n",
        "type(lst1)"
      ],
      "metadata": {
        "id": "1wGHjS3cDUPy",
        "outputId": "dfa82205-46d4-44d0-9017-d36d11c50080",
        "colab": {
          "base_uri": "https://localhost:8080/"
        }
      },
      "execution_count": 76,
      "outputs": [
        {
          "output_type": "execute_result",
          "data": {
            "text/plain": [
              "list"
            ]
          },
          "metadata": {},
          "execution_count": 76
        }
      ]
    },
    {
      "cell_type": "code",
      "source": [
        "lst1.extend([5,6,7])\n",
        "print (lst1) # DUIBAR KENO ASHE?"
      ],
      "metadata": {
        "id": "32udOvSNGcz3",
        "outputId": "06898090-e776-45c4-f4f5-09acc52ce19d",
        "colab": {
          "base_uri": "https://localhost:8080/"
        }
      },
      "execution_count": 80,
      "outputs": [
        {
          "output_type": "stream",
          "name": "stdout",
          "text": [
            "[1, 2, 3, 4, 5, 6, 7, 5, 6, 7]\n"
          ]
        }
      ]
    },
    {
      "cell_type": "code",
      "source": [
        "sum(lst1)"
      ],
      "metadata": {
        "id": "hWUpjl87G5b9",
        "outputId": "193328a4-ec9e-471d-94d6-f1b8379d31dd",
        "colab": {
          "base_uri": "https://localhost:8080/"
        }
      },
      "execution_count": 81,
      "outputs": [
        {
          "output_type": "execute_result",
          "data": {
            "text/plain": [
              "46"
            ]
          },
          "metadata": {},
          "execution_count": 81
        }
      ]
    },
    {
      "cell_type": "code",
      "source": [
        "lst1.pop(5)"
      ],
      "metadata": {
        "id": "akDWPvRbIhBz",
        "outputId": "1f7b5eb1-8cc9-42fc-a84f-c85ae610c98e",
        "colab": {
          "base_uri": "https://localhost:8080/"
        }
      },
      "execution_count": 84,
      "outputs": [
        {
          "output_type": "execute_result",
          "data": {
            "text/plain": [
              "6"
            ]
          },
          "metadata": {},
          "execution_count": 84
        }
      ]
    },
    {
      "cell_type": "code",
      "source": [
        "lst1.count(7)"
      ],
      "metadata": {
        "id": "0x0CvL3_Ip4U",
        "outputId": "869fab61-77cb-4356-eb8e-6bf8595bbc6c",
        "colab": {
          "base_uri": "https://localhost:8080/"
        }
      },
      "execution_count": 92,
      "outputs": [
        {
          "output_type": "execute_result",
          "data": {
            "text/plain": [
              "1"
            ]
          },
          "metadata": {},
          "execution_count": 92
        }
      ]
    },
    {
      "cell_type": "code",
      "source": [
        "lst1.count(5)"
      ],
      "metadata": {
        "id": "-XiA6gL3I-Lz",
        "outputId": "79027757-a587-4160-cde5-cfdd47ca4945",
        "colab": {
          "base_uri": "https://localhost:8080/"
        }
      },
      "execution_count": 93,
      "outputs": [
        {
          "output_type": "execute_result",
          "data": {
            "text/plain": [
              "2"
            ]
          },
          "metadata": {},
          "execution_count": 93
        }
      ]
    },
    {
      "cell_type": "code",
      "source": [
        "lst1.index(1,0,3) #0-3 er part bujhinai"
      ],
      "metadata": {
        "id": "Oj49ZYETJZp6",
        "outputId": "858b8493-01ef-4934-813b-0c8007d9416e",
        "colab": {
          "base_uri": "https://localhost:8080/"
        }
      },
      "execution_count": 95,
      "outputs": [
        {
          "output_type": "execute_result",
          "data": {
            "text/plain": [
              "0"
            ]
          },
          "metadata": {},
          "execution_count": 95
        }
      ]
    },
    {
      "cell_type": "code",
      "source": [
        "min(lst1)"
      ],
      "metadata": {
        "id": "dVD5io7eLoeS",
        "outputId": "49b6cde8-ee77-4af5-a138-71c6d2825d69",
        "colab": {
          "base_uri": "https://localhost:8080/"
        }
      },
      "execution_count": 97,
      "outputs": [
        {
          "output_type": "execute_result",
          "data": {
            "text/plain": [
              "1"
            ]
          },
          "metadata": {},
          "execution_count": 97
        }
      ]
    },
    {
      "cell_type": "code",
      "source": [
        "max(lst1)"
      ],
      "metadata": {
        "id": "1sO_cFF7MEK2",
        "outputId": "b00b48d3-d103-48a9-9c52-fa8cb04bafe0",
        "colab": {
          "base_uri": "https://localhost:8080/"
        }
      },
      "execution_count": 98,
      "outputs": [
        {
          "output_type": "execute_result",
          "data": {
            "text/plain": [
              "7"
            ]
          },
          "metadata": {},
          "execution_count": 98
        }
      ]
    },
    {
      "cell_type": "code",
      "source": [
        "2*lst1 #ulta palta sb"
      ],
      "metadata": {
        "id": "A6h2QpNSMICc",
        "outputId": "53435ae7-029e-4299-f009-014770616c3b",
        "colab": {
          "base_uri": "https://localhost:8080/"
        }
      },
      "execution_count": 99,
      "outputs": [
        {
          "output_type": "execute_result",
          "data": {
            "text/plain": [
              "[1, 2, 3, 4, 5, 7, 5, 6, 1, 2, 3, 4, 5, 7, 5, 6]"
            ]
          },
          "metadata": {},
          "execution_count": 99
        }
      ]
    },
    {
      "cell_type": "code",
      "source": [],
      "metadata": {
        "id": "bAMXhYPtMKcX"
      },
      "execution_count": null,
      "outputs": []
    }
  ]
}