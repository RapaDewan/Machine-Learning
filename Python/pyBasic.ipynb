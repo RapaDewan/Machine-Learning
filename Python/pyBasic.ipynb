{
  "nbformat": 4,
  "nbformat_minor": 0,
  "metadata": {
    "colab": {
      "provenance": [],
      "authorship_tag": "ABX9TyPSL2LjDaDSf33Q8KU8pkOS",
      "include_colab_link": true
    },
    "kernelspec": {
      "name": "python3",
      "display_name": "Python 3"
    },
    "language_info": {
      "name": "python"
    }
  },
  "cells": [
    {
      "cell_type": "markdown",
      "metadata": {
        "id": "view-in-github",
        "colab_type": "text"
      },
      "source": [
        "<a href=\"https://colab.research.google.com/github/RapaDewan/Machine-Learning/blob/main/Python/pyBasic.ipynb\" target=\"_parent\"><img src=\"https://colab.research.google.com/assets/colab-badge.svg\" alt=\"Open In Colab\"/></a>"
      ]
    },
    {
      "cell_type": "code",
      "execution_count": 50,
      "metadata": {
        "colab": {
          "base_uri": "https://localhost:8080/"
        },
        "id": "MU1unH8IalI1",
        "outputId": "71bcb891-99ae-4fcb-a2b4-6610c32b3a9f"
      },
      "outputs": [
        {
          "output_type": "stream",
          "name": "stdout",
          "text": [
            "Rapa\n"
          ]
        }
      ],
      "source": [
        "print('Rapa')"
      ]
    },
    {
      "cell_type": "code",
      "source": [
        "7+7"
      ],
      "metadata": {
        "colab": {
          "base_uri": "https://localhost:8080/"
        },
        "id": "g0RRhH2ua1rm",
        "outputId": "dd4edeba-04bd-4746-f391-3dbb65930ac7"
      },
      "execution_count": 51,
      "outputs": [
        {
          "output_type": "execute_result",
          "data": {
            "text/plain": [
              "14"
            ]
          },
          "metadata": {},
          "execution_count": 51
        }
      ]
    },
    {
      "cell_type": "code",
      "source": [
        "2*3"
      ],
      "metadata": {
        "id": "apiaqhBoa9iy",
        "colab": {
          "base_uri": "https://localhost:8080/"
        },
        "outputId": "852caac4-cb72-4a45-e967-046e810d5c5a"
      },
      "execution_count": 52,
      "outputs": [
        {
          "output_type": "execute_result",
          "data": {
            "text/plain": [
              "6"
            ]
          },
          "metadata": {},
          "execution_count": 52
        }
      ]
    },
    {
      "cell_type": "code",
      "source": [
        "10* 'rapa'"
      ],
      "metadata": {
        "colab": {
          "base_uri": "https://localhost:8080/",
          "height": 35
        },
        "id": "yLXkoJ_1Kdfu",
        "outputId": "6723a3a9-71f3-47bd-9db4-e191050581e6"
      },
      "execution_count": 53,
      "outputs": [
        {
          "output_type": "execute_result",
          "data": {
            "text/plain": [
              "'raparaparaparaparaparaparaparaparaparapa'"
            ],
            "application/vnd.google.colaboratory.intrinsic+json": {
              "type": "string"
            }
          },
          "metadata": {},
          "execution_count": 53
        }
      ]
    },
    {
      "cell_type": "code",
      "source": [
        "type ('rapa')"
      ],
      "metadata": {
        "colab": {
          "base_uri": "https://localhost:8080/"
        },
        "id": "QUuVmK5LNQLc",
        "outputId": "ce9636b1-8180-40d7-9b5c-1dea77a389e9"
      },
      "execution_count": 54,
      "outputs": [
        {
          "output_type": "execute_result",
          "data": {
            "text/plain": [
              "str"
            ]
          },
          "metadata": {},
          "execution_count": 54
        }
      ]
    },
    {
      "cell_type": "code",
      "source": [
        "type ('False')"
      ],
      "metadata": {
        "colab": {
          "base_uri": "https://localhost:8080/"
        },
        "id": "zVNv4jzshUNd",
        "outputId": "c88dec11-486c-48e4-a63d-52bffee3a99a"
      },
      "execution_count": 55,
      "outputs": [
        {
          "output_type": "execute_result",
          "data": {
            "text/plain": [
              "str"
            ]
          },
          "metadata": {},
          "execution_count": 55
        }
      ]
    },
    {
      "cell_type": "code",
      "source": [
        "#syntax\n",
        "#var_names=values\n",
        "\n",
        "b=100\n",
        "\n",
        "type (b)"
      ],
      "metadata": {
        "colab": {
          "base_uri": "https://localhost:8080/"
        },
        "id": "GgRAzYpXhmFZ",
        "outputId": "b569f3d9-e683-4689-e14f-6563acb4dd45"
      },
      "execution_count": 56,
      "outputs": [
        {
          "output_type": "execute_result",
          "data": {
            "text/plain": [
              "int"
            ]
          },
          "metadata": {},
          "execution_count": 56
        }
      ]
    },
    {
      "cell_type": "markdown",
      "source": [],
      "metadata": {
        "id": "4N4JQ4yOiOjz"
      }
    },
    {
      "cell_type": "code",
      "source": [
        "b=100\n",
        "type (b)"
      ],
      "metadata": {
        "colab": {
          "base_uri": "https://localhost:8080/"
        },
        "id": "Cg51JzPviXBx",
        "outputId": "c9adf579-86a0-4674-f8bd-b749231a64e2"
      },
      "execution_count": 57,
      "outputs": [
        {
          "output_type": "execute_result",
          "data": {
            "text/plain": [
              "int"
            ]
          },
          "metadata": {},
          "execution_count": 57
        }
      ]
    },
    {
      "cell_type": "code",
      "source": [
        "a=5\n",
        "b=2\n",
        "\n",
        "print (a+b)\n",
        "print (a-b)\n",
        "print (a*3)\n",
        "print (b*1.8)"
      ],
      "metadata": {
        "colab": {
          "base_uri": "https://localhost:8080/"
        },
        "id": "f0LacFWIim2P",
        "outputId": "efdfacac-85af-487b-ee92-d03d0c820ef3"
      },
      "execution_count": 58,
      "outputs": [
        {
          "output_type": "stream",
          "name": "stdout",
          "text": [
            "7\n",
            "3\n",
            "15\n",
            "3.6\n"
          ]
        }
      ]
    },
    {
      "cell_type": "code",
      "source": [
        "first_name= \"Rapa\"\n",
        "last_name= \"Dewan\"\n",
        "\n",
        "print (\"My first name is {} and my last name is {}.\" .format(first_name, last_name))"
      ],
      "metadata": {
        "colab": {
          "base_uri": "https://localhost:8080/"
        },
        "id": "ThSM2SlQjEIr",
        "outputId": "f12e9bc5-02e6-4e08-bd90-678056ebad44"
      },
      "execution_count": 59,
      "outputs": [
        {
          "output_type": "stream",
          "name": "stdout",
          "text": [
            "My first name is Rapa and my last name is Dewan.\n"
          ]
        }
      ]
    },
    {
      "cell_type": "code",
      "source": [
        "first_name= \"Rapa\"\n",
        "last_name= \"Dewan\"\n",
        "\n",
        "print (\"My first name is {first} and my last name is {last}.\" .format(last=last_name, first=first_name))"
      ],
      "metadata": {
        "colab": {
          "base_uri": "https://localhost:8080/"
        },
        "id": "NBVsgIZnm-fb",
        "outputId": "32904952-a24d-48cd-a231-9c54d5631305"
      },
      "execution_count": 60,
      "outputs": [
        {
          "output_type": "stream",
          "name": "stdout",
          "text": [
            "My first name is Rapa and my last name is Dewan.\n"
          ]
        }
      ]
    },
    {
      "cell_type": "markdown",
      "source": [],
      "metadata": {
        "id": "G3zpqeSApnvI"
      }
    },
    {
      "cell_type": "code",
      "source": [
        "len ('rapa dewan')"
      ],
      "metadata": {
        "colab": {
          "base_uri": "https://localhost:8080/"
        },
        "id": "ZlZxVMN6poqG",
        "outputId": "054d6c47-0277-4d28-b990-938651fc6647"
      },
      "execution_count": 61,
      "outputs": [
        {
          "output_type": "execute_result",
          "data": {
            "text/plain": [
              "10"
            ]
          },
          "metadata": {},
          "execution_count": 61
        }
      ]
    },
    {
      "cell_type": "code",
      "source": [
        "type ([1,2,3,4])"
      ],
      "metadata": {
        "colab": {
          "base_uri": "https://localhost:8080/"
        },
        "id": "Xe_eg5Pips3j",
        "outputId": "04dc0c8f-b155-4ff5-e91d-823d78cdc941"
      },
      "execution_count": 62,
      "outputs": [
        {
          "output_type": "execute_result",
          "data": {
            "text/plain": [
              "list"
            ]
          },
          "metadata": {},
          "execution_count": 62
        }
      ]
    },
    {
      "cell_type": "code",
      "source": [
        "my_word= 'Rapa dewan'\n",
        "my_word.istitle()"
      ],
      "metadata": {
        "colab": {
          "base_uri": "https://localhost:8080/"
        },
        "id": "MD3Pk2UMqFT3",
        "outputId": "9ac64dfd-2c3f-4bc7-9094-7f59755a1c5f"
      },
      "execution_count": 63,
      "outputs": [
        {
          "output_type": "execute_result",
          "data": {
            "text/plain": [
              "False"
            ]
          },
          "metadata": {},
          "execution_count": 63
        }
      ]
    },
    {
      "cell_type": "code",
      "source": [
        "my_word= \"Rapa\"\n",
        "my_word.startswith('R')\n"
      ],
      "metadata": {
        "id": "TdHjY8-g4ubj",
        "outputId": "f4eb6e51-09e7-42cc-f518-c2a75e9cab50",
        "colab": {
          "base_uri": "https://localhost:8080/"
        }
      },
      "execution_count": 64,
      "outputs": [
        {
          "output_type": "execute_result",
          "data": {
            "text/plain": [
              "True"
            ]
          },
          "metadata": {},
          "execution_count": 64
        }
      ]
    },
    {
      "cell_type": "code",
      "source": [
        "True and True"
      ],
      "metadata": {
        "id": "dOSZzcTG5w-E",
        "outputId": "76d50397-6d01-4bca-b903-c0584abf6a84",
        "colab": {
          "base_uri": "https://localhost:8080/"
        }
      },
      "execution_count": 65,
      "outputs": [
        {
          "output_type": "execute_result",
          "data": {
            "text/plain": [
              "True"
            ]
          },
          "metadata": {},
          "execution_count": 65
        }
      ]
    },
    {
      "cell_type": "code",
      "source": [
        "True or False"
      ],
      "metadata": {
        "id": "cTNwyBGT6urJ",
        "outputId": "bb6ced7f-dc4a-469a-ed13-a38e5b55ed75",
        "colab": {
          "base_uri": "https://localhost:8080/"
        }
      },
      "execution_count": 66,
      "outputs": [
        {
          "output_type": "execute_result",
          "data": {
            "text/plain": [
              "True"
            ]
          },
          "metadata": {},
          "execution_count": 66
        }
      ]
    },
    {
      "cell_type": "code",
      "source": [
        "True and False"
      ],
      "metadata": {
        "id": "lypYX82D6w-H",
        "outputId": "f6ff78eb-1b78-4799-9d66-8a57f432eb14",
        "colab": {
          "base_uri": "https://localhost:8080/"
        }
      },
      "execution_count": 67,
      "outputs": [
        {
          "output_type": "execute_result",
          "data": {
            "text/plain": [
              "False"
            ]
          },
          "metadata": {},
          "execution_count": 67
        }
      ]
    },
    {
      "cell_type": "code",
      "source": [
        "example= \"Mash123\"\n",
        "my_exp= \"rapa dewan\"\n",
        "example.isalnum() and my_exp.isalpha() #prblem"
      ],
      "metadata": {
        "id": "fkDHKOzS63vc",
        "outputId": "e7dccd9b-a641-47b1-94ff-676da7422084",
        "colab": {
          "base_uri": "https://localhost:8080/"
        }
      },
      "execution_count": 68,
      "outputs": [
        {
          "output_type": "execute_result",
          "data": {
            "text/plain": [
              "False"
            ]
          },
          "metadata": {},
          "execution_count": 68
        }
      ]
    },
    {
      "cell_type": "code",
      "source": [
        "list_exp= []\n",
        "type (list_exp)"
      ],
      "metadata": {
        "id": "QVgPiO6E9J2_",
        "outputId": "2fc00dac-2c27-418b-9c6d-cd240c1e5ee8",
        "colab": {
          "base_uri": "https://localhost:8080/"
        }
      },
      "execution_count": 69,
      "outputs": [
        {
          "output_type": "execute_result",
          "data": {
            "text/plain": [
              "list"
            ]
          },
          "metadata": {},
          "execution_count": 69
        }
      ]
    },
    {
      "cell_type": "code",
      "source": [
        "lst=list()\n",
        "lst= [\"rapa\",1,2,3]\n",
        "type (lst)\n",
        "len(lst)\n",
        "lst.append(\"dewan\")\n",
        "print (lst)\n",
        "lst[0]"
      ],
      "metadata": {
        "id": "SAhPsoGr-mw6",
        "outputId": "2ab0b631-2320-4a34-d14b-7883d3a38a55",
        "colab": {
          "base_uri": "https://localhost:8080/",
          "height": 52
        }
      },
      "execution_count": 70,
      "outputs": [
        {
          "output_type": "stream",
          "name": "stdout",
          "text": [
            "['rapa', 1, 2, 3, 'dewan']\n"
          ]
        },
        {
          "output_type": "execute_result",
          "data": {
            "text/plain": [
              "'rapa'"
            ],
            "application/vnd.google.colaboratory.intrinsic+json": {
              "type": "string"
            }
          },
          "metadata": {},
          "execution_count": 70
        }
      ]
    },
    {
      "cell_type": "code",
      "source": [
        "lst[:]"
      ],
      "metadata": {
        "id": "_UaBW31u-xPm",
        "outputId": "8b574ddc-8dc4-420c-8fae-44f647eac48f",
        "colab": {
          "base_uri": "https://localhost:8080/"
        }
      },
      "execution_count": 71,
      "outputs": [
        {
          "output_type": "execute_result",
          "data": {
            "text/plain": [
              "['rapa', 1, 2, 3, 'dewan']"
            ]
          },
          "metadata": {},
          "execution_count": 71
        }
      ]
    },
    {
      "cell_type": "code",
      "source": [
        "lst[1:]"
      ],
      "metadata": {
        "id": "b68pQPu4BpeF",
        "outputId": "d62b5f77-16ab-4054-84e8-4d0b9969c755",
        "colab": {
          "base_uri": "https://localhost:8080/"
        }
      },
      "execution_count": 72,
      "outputs": [
        {
          "output_type": "execute_result",
          "data": {
            "text/plain": [
              "[1, 2, 3, 'dewan']"
            ]
          },
          "metadata": {},
          "execution_count": 72
        }
      ]
    },
    {
      "cell_type": "code",
      "source": [
        "lst [1:4]"
      ],
      "metadata": {
        "id": "6u4E5IlvBtVm",
        "outputId": "ec133409-24ce-4dea-f2af-60068d14ea96",
        "colab": {
          "base_uri": "https://localhost:8080/"
        }
      },
      "execution_count": 73,
      "outputs": [
        {
          "output_type": "execute_result",
          "data": {
            "text/plain": [
              "[1, 2, 3]"
            ]
          },
          "metadata": {},
          "execution_count": 73
        }
      ]
    },
    {
      "cell_type": "code",
      "source": [
        "lst.append (['rapuu', 'mash'])\n",
        "print (lst)"
      ],
      "metadata": {
        "id": "nYjvV0AvB0pz",
        "outputId": "5be641de-3411-4f68-ce7c-3c52857ddc56",
        "colab": {
          "base_uri": "https://localhost:8080/"
        }
      },
      "execution_count": 74,
      "outputs": [
        {
          "output_type": "stream",
          "name": "stdout",
          "text": [
            "['rapa', 1, 2, 3, 'dewan', ['rapuu', 'mash']]\n"
          ]
        }
      ]
    },
    {
      "cell_type": "code",
      "source": [
        "lst.insert (2,'raziv')\n",
        "print (lst) //duibar kore ashe kno?"
      ],
      "metadata": {
        "id": "-U-12PiSC8AK",
        "outputId": "f437f8f7-49b6-4119-a01b-a6c30730be3e",
        "colab": {
          "base_uri": "https://localhost:8080/"
        }
      },
      "execution_count": 75,
      "outputs": [
        {
          "output_type": "stream",
          "name": "stdout",
          "text": [
            "Object `kno` not found.\n"
          ]
        }
      ]
    },
    {
      "cell_type": "code",
      "source": [
        "lst1=list()\n",
        "lst1=[1,2,3,4]\n",
        "type(lst1)"
      ],
      "metadata": {
        "id": "1wGHjS3cDUPy",
        "outputId": "e98ccd29-4f46-4a84-8a11-bcdd73e93d5e",
        "colab": {
          "base_uri": "https://localhost:8080/"
        }
      },
      "execution_count": 76,
      "outputs": [
        {
          "output_type": "execute_result",
          "data": {
            "text/plain": [
              "list"
            ]
          },
          "metadata": {},
          "execution_count": 76
        }
      ]
    },
    {
      "cell_type": "code",
      "source": [
        "lst1.extend([5,6,7])\n",
        "print (lst1) # DUIBAR KENO ASHE?"
      ],
      "metadata": {
        "id": "32udOvSNGcz3",
        "outputId": "8d7faae8-846f-435b-b847-aa42fc9931e0",
        "colab": {
          "base_uri": "https://localhost:8080/"
        }
      },
      "execution_count": 77,
      "outputs": [
        {
          "output_type": "stream",
          "name": "stdout",
          "text": [
            "[1, 2, 3, 4, 5, 6, 7]\n"
          ]
        }
      ]
    },
    {
      "cell_type": "code",
      "source": [
        "sum(lst1)"
      ],
      "metadata": {
        "id": "hWUpjl87G5b9",
        "outputId": "37c1dd99-da85-4ffd-e109-969ecad59cc1",
        "colab": {
          "base_uri": "https://localhost:8080/"
        }
      },
      "execution_count": 78,
      "outputs": [
        {
          "output_type": "execute_result",
          "data": {
            "text/plain": [
              "28"
            ]
          },
          "metadata": {},
          "execution_count": 78
        }
      ]
    },
    {
      "cell_type": "code",
      "source": [
        "lst1.pop(5)"
      ],
      "metadata": {
        "id": "akDWPvRbIhBz",
        "outputId": "4acd54be-4c32-4ce8-c1ec-c7c219449b7e",
        "colab": {
          "base_uri": "https://localhost:8080/"
        }
      },
      "execution_count": 79,
      "outputs": [
        {
          "output_type": "execute_result",
          "data": {
            "text/plain": [
              "6"
            ]
          },
          "metadata": {},
          "execution_count": 79
        }
      ]
    },
    {
      "cell_type": "code",
      "source": [
        "lst1.count(7)"
      ],
      "metadata": {
        "id": "0x0CvL3_Ip4U",
        "outputId": "6efda00d-a660-45fc-ddb9-7ae1df520ea1",
        "colab": {
          "base_uri": "https://localhost:8080/"
        }
      },
      "execution_count": 80,
      "outputs": [
        {
          "output_type": "execute_result",
          "data": {
            "text/plain": [
              "1"
            ]
          },
          "metadata": {},
          "execution_count": 80
        }
      ]
    },
    {
      "cell_type": "code",
      "source": [
        "lst1.count(5)"
      ],
      "metadata": {
        "id": "-XiA6gL3I-Lz",
        "outputId": "4f7f4df8-7aaf-4636-ddcb-eee490bed626",
        "colab": {
          "base_uri": "https://localhost:8080/"
        }
      },
      "execution_count": 81,
      "outputs": [
        {
          "output_type": "execute_result",
          "data": {
            "text/plain": [
              "1"
            ]
          },
          "metadata": {},
          "execution_count": 81
        }
      ]
    },
    {
      "cell_type": "code",
      "source": [
        "lst1.index(1,0,3) #0-3 er part bujhinai"
      ],
      "metadata": {
        "id": "Oj49ZYETJZp6",
        "outputId": "0c8d7225-8562-41cc-8b23-f0915688abd7",
        "colab": {
          "base_uri": "https://localhost:8080/"
        }
      },
      "execution_count": 82,
      "outputs": [
        {
          "output_type": "execute_result",
          "data": {
            "text/plain": [
              "0"
            ]
          },
          "metadata": {},
          "execution_count": 82
        }
      ]
    },
    {
      "cell_type": "code",
      "source": [
        "min(lst1)"
      ],
      "metadata": {
        "id": "dVD5io7eLoeS",
        "outputId": "5b185586-ad62-4f33-80b8-6dc573a13b20",
        "colab": {
          "base_uri": "https://localhost:8080/"
        }
      },
      "execution_count": 83,
      "outputs": [
        {
          "output_type": "execute_result",
          "data": {
            "text/plain": [
              "1"
            ]
          },
          "metadata": {},
          "execution_count": 83
        }
      ]
    },
    {
      "cell_type": "code",
      "source": [
        "max(lst1)"
      ],
      "metadata": {
        "id": "1sO_cFF7MEK2",
        "outputId": "f84a2580-86da-493c-d2ae-b8b297f97fe6",
        "colab": {
          "base_uri": "https://localhost:8080/"
        }
      },
      "execution_count": 84,
      "outputs": [
        {
          "output_type": "execute_result",
          "data": {
            "text/plain": [
              "7"
            ]
          },
          "metadata": {},
          "execution_count": 84
        }
      ]
    },
    {
      "cell_type": "code",
      "source": [
        "2*lst1 #ulta palta sb"
      ],
      "metadata": {
        "id": "A6h2QpNSMICc",
        "outputId": "df734bb3-a7b6-42d6-9463-20745302eace",
        "colab": {
          "base_uri": "https://localhost:8080/"
        }
      },
      "execution_count": 85,
      "outputs": [
        {
          "output_type": "execute_result",
          "data": {
            "text/plain": [
              "[1, 2, 3, 4, 5, 7, 1, 2, 3, 4, 5, 7]"
            ]
          },
          "metadata": {},
          "execution_count": 85
        }
      ]
    },
    {
      "cell_type": "code",
      "source": [
        "set_var= set()\n",
        "print(set_var)\n",
        "type (set_var)\n",
        "print (type(set_var))"
      ],
      "metadata": {
        "id": "bAMXhYPtMKcX",
        "outputId": "9d5d81b6-924a-43eb-8069-9d8ef9a9c91b",
        "colab": {
          "base_uri": "https://localhost:8080/"
        }
      },
      "execution_count": 86,
      "outputs": [
        {
          "output_type": "stream",
          "name": "stdout",
          "text": [
            "set()\n",
            "<class 'set'>\n"
          ]
        }
      ]
    },
    {
      "cell_type": "code",
      "source": [
        "set_var={1,2,3,4,3}\n",
        "set_var"
      ],
      "metadata": {
        "id": "6KCQ1F4gw4EN",
        "outputId": "d0e213d4-6f06-47e5-c62f-5ce2e00aa474",
        "colab": {
          "base_uri": "https://localhost:8080/"
        }
      },
      "execution_count": 87,
      "outputs": [
        {
          "output_type": "execute_result",
          "data": {
            "text/plain": [
              "{1, 2, 3, 4}"
            ]
          },
          "metadata": {},
          "execution_count": 87
        }
      ]
    },
    {
      "cell_type": "code",
      "source": [
        "set_var1=set()\n",
        "set_var1={'rapa','mash', 'aman', 'rapa'}\n",
        "set_var1 #serially ashlo na kno??"
      ],
      "metadata": {
        "id": "njM5MjRoxYx_",
        "outputId": "ea1abcc6-91e4-4b0a-ef7f-f4d5e9daf59f",
        "colab": {
          "base_uri": "https://localhost:8080/"
        }
      },
      "execution_count": 88,
      "outputs": [
        {
          "output_type": "execute_result",
          "data": {
            "text/plain": [
              "{'aman', 'mash', 'rapa'}"
            ]
          },
          "metadata": {},
          "execution_count": 88
        }
      ]
    },
    {
      "cell_type": "code",
      "source": [
        "dict()\n",
        "type (dict())"
      ],
      "metadata": {
        "id": "siAEFv_wyWq7",
        "outputId": "84e17b76-e1bf-45ff-dbb5-17d990c05cf7",
        "colab": {
          "base_uri": "https://localhost:8080/"
        }
      },
      "execution_count": 89,
      "outputs": [
        {
          "output_type": "execute_result",
          "data": {
            "text/plain": [
              "dict"
            ]
          },
          "metadata": {},
          "execution_count": 89
        }
      ]
    },
    {
      "cell_type": "code",
      "source": [
        "my_dict={'sec1':'mma','sec2':'mma1','sec3':'mma2'}\n",
        "my_dict['sec2']"
      ],
      "metadata": {
        "id": "iyDkkWALUkfy",
        "outputId": "4f986ec8-8e8b-45d0-98f8-a9620e7c58c8",
        "colab": {
          "base_uri": "https://localhost:8080/",
          "height": 35
        }
      },
      "execution_count": 90,
      "outputs": [
        {
          "output_type": "execute_result",
          "data": {
            "text/plain": [
              "'mma1'"
            ],
            "application/vnd.google.colaboratory.intrinsic+json": {
              "type": "string"
            }
          },
          "metadata": {},
          "execution_count": 90
        }
      ]
    },
    {
      "cell_type": "code",
      "source": [
        "for x in my_dict:\n",
        "  print (x)"
      ],
      "metadata": {
        "id": "zeyhoXPXVMBl",
        "outputId": "edf2830a-76cf-42ca-bd16-d7b6f9426133",
        "colab": {
          "base_uri": "https://localhost:8080/"
        }
      },
      "execution_count": 91,
      "outputs": [
        {
          "output_type": "stream",
          "name": "stdout",
          "text": [
            "sec1\n",
            "sec2\n",
            "sec3\n"
          ]
        }
      ]
    },
    {
      "cell_type": "code",
      "source": [
        "for x in my_dict.values():\n",
        "  print (x)"
      ],
      "metadata": {
        "id": "oJrvRZXXZNcP",
        "outputId": "82a1c329-d762-440a-a1dc-79b06338f302",
        "colab": {
          "base_uri": "https://localhost:8080/"
        }
      },
      "execution_count": 92,
      "outputs": [
        {
          "output_type": "stream",
          "name": "stdout",
          "text": [
            "mma\n",
            "mma1\n",
            "mma2\n"
          ]
        }
      ]
    },
    {
      "cell_type": "code",
      "source": [
        "for x in my_dict.items():\n",
        "  print (x)"
      ],
      "metadata": {
        "id": "3uVoHxdDeIUW",
        "outputId": "d7db626c-5d49-4747-e905-63a076a02755",
        "colab": {
          "base_uri": "https://localhost:8080/"
        }
      },
      "execution_count": 93,
      "outputs": [
        {
          "output_type": "stream",
          "name": "stdout",
          "text": [
            "('sec1', 'mma')\n",
            "('sec2', 'mma1')\n",
            "('sec3', 'mma2')\n"
          ]
        }
      ]
    },
    {
      "cell_type": "code",
      "source": [
        "my_dict['sec4']='mma3'\n",
        "my_dict"
      ],
      "metadata": {
        "id": "DM4qamjIegBA",
        "outputId": "076ef832-6736-45d8-ab28-179f766b8af7",
        "colab": {
          "base_uri": "https://localhost:8080/"
        }
      },
      "execution_count": 94,
      "outputs": [
        {
          "output_type": "execute_result",
          "data": {
            "text/plain": [
              "{'sec1': 'mma', 'sec2': 'mma1', 'sec3': 'mma2', 'sec4': 'mma3'}"
            ]
          },
          "metadata": {},
          "execution_count": 94
        }
      ]
    },
    {
      "cell_type": "code",
      "source": [
        "my_dict['sec1']='mma1'\n"
      ],
      "metadata": {
        "id": "6SVspXkve8M_"
      },
      "execution_count": 95,
      "outputs": []
    },
    {
      "cell_type": "code",
      "source": [
        "#my_dict['mma1']"
      ],
      "metadata": {
        "id": "ptD_DL3kfRoO"
      },
      "execution_count": 96,
      "outputs": []
    },
    {
      "cell_type": "code",
      "source": [
        "my_dict1={'sec1':'rapa', 'sec2':'mash', 'sec1':'aman'}\n",
        "my_dict1['sec1']"
      ],
      "metadata": {
        "id": "x9lahtrgfZSO",
        "outputId": "b9085635-9ba8-4908-8c9b-004faf5365fc",
        "colab": {
          "base_uri": "https://localhost:8080/",
          "height": 35
        }
      },
      "execution_count": 97,
      "outputs": [
        {
          "output_type": "execute_result",
          "data": {
            "text/plain": [
              "'aman'"
            ],
            "application/vnd.google.colaboratory.intrinsic+json": {
              "type": "string"
            }
          },
          "metadata": {},
          "execution_count": 97
        }
      ]
    },
    {
      "cell_type": "code",
      "source": [
        "car1_mod={'Audi':1980}\n",
        "car2_mod={'benz':1920}\n",
        "car3_mod={'mars':1975}\n",
        "car_type={'car1':car1_mod, 'car2':car2_mod, 'car3':car3_mod}\n",
        "print (car_type)"
      ],
      "metadata": {
        "id": "2yxaKPk5fwz8",
        "outputId": "3ff9a9d6-c6e7-44a7-9972-f0f76efc5d02",
        "colab": {
          "base_uri": "https://localhost:8080/"
        }
      },
      "execution_count": 98,
      "outputs": [
        {
          "output_type": "stream",
          "name": "stdout",
          "text": [
            "{'car1': {'Audi': 1980}, 'car2': {'benz': 1920}, 'car3': {'mars': 1975}}\n"
          ]
        }
      ]
    },
    {
      "cell_type": "code",
      "source": [
        "print (car_type['car1'])"
      ],
      "metadata": {
        "id": "XKJci7ZUjVQN",
        "outputId": "baf36af2-d75a-4fc5-fd9b-9e9848189256",
        "colab": {
          "base_uri": "https://localhost:8080/"
        }
      },
      "execution_count": 99,
      "outputs": [
        {
          "output_type": "stream",
          "name": "stdout",
          "text": [
            "{'Audi': 1980}\n"
          ]
        }
      ]
    },
    {
      "cell_type": "code",
      "source": [
        "print (car_type['car1']['Audi'])"
      ],
      "metadata": {
        "id": "_W1TC0TUj1KD",
        "outputId": "f26c0148-a48b-40b7-d574-4a62ab269696",
        "colab": {
          "base_uri": "https://localhost:8080/"
        }
      },
      "execution_count": 100,
      "outputs": [
        {
          "output_type": "stream",
          "name": "stdout",
          "text": [
            "1980\n"
          ]
        }
      ]
    },
    {
      "cell_type": "code",
      "source": [
        "my_tupl=('abc','def','ghi')\n",
        "my_tupl,type(my_tupl),my_tupl[0]"
      ],
      "metadata": {
        "id": "-qQ0fKjPkAxh",
        "outputId": "aa16e506-2520-43bc-d993-8de7bf9d2e0d",
        "colab": {
          "base_uri": "https://localhost:8080/"
        }
      },
      "execution_count": 101,
      "outputs": [
        {
          "output_type": "execute_result",
          "data": {
            "text/plain": [
              "(('abc', 'def', 'ghi'), tuple, 'abc')"
            ]
          },
          "metadata": {},
          "execution_count": 101
        }
      ]
    },
    {
      "cell_type": "code",
      "source": [
        "#my_tupl[0]=('efg')"
      ],
      "metadata": {
        "id": "HhINXDaCnv_w"
      },
      "execution_count": 103,
      "outputs": []
    },
    {
      "cell_type": "code",
      "source": [
        "my_tupl=('efg','ijk','ijk')\n",
        "my_tupl"
      ],
      "metadata": {
        "id": "ro2QSVKloQR4",
        "outputId": "1eb4889f-8451-4a09-f27e-7748792d6459",
        "colab": {
          "base_uri": "https://localhost:8080/"
        }
      },
      "execution_count": 104,
      "outputs": [
        {
          "output_type": "execute_result",
          "data": {
            "text/plain": [
              "('efg', 'ijk', 'ijk')"
            ]
          },
          "metadata": {},
          "execution_count": 104
        }
      ]
    },
    {
      "cell_type": "code",
      "source": [
        "my_tupl.index('efg')"
      ],
      "metadata": {
        "id": "JNk_LdusoWwp",
        "outputId": "fce5b887-8906-43cb-ada0-ff663fbf1811",
        "colab": {
          "base_uri": "https://localhost:8080/"
        }
      },
      "execution_count": 105,
      "outputs": [
        {
          "output_type": "execute_result",
          "data": {
            "text/plain": [
              "0"
            ]
          },
          "metadata": {},
          "execution_count": 105
        }
      ]
    },
    {
      "cell_type": "code",
      "source": [
        "my_tupl.count('ijk')\n"
      ],
      "metadata": {
        "id": "YcHZceQZoovw",
        "outputId": "a14eef3e-4c63-423c-e0c3-f27f558fd63d",
        "colab": {
          "base_uri": "https://localhost:8080/"
        }
      },
      "execution_count": 106,
      "outputs": [
        {
          "output_type": "execute_result",
          "data": {
            "text/plain": [
              "2"
            ]
          },
          "metadata": {},
          "execution_count": 106
        }
      ]
    },
    {
      "cell_type": "markdown",
      "source": [
        "##Video=>7##"
      ],
      "metadata": {
        "id": "eUacttofEWUZ"
      }
    },
    {
      "cell_type": "code",
      "source": [
        "import numpy as np"
      ],
      "metadata": {
        "id": "YdJLylkSEhEx"
      },
      "execution_count": 107,
      "outputs": []
    },
    {
      "cell_type": "code",
      "source": [
        " my_lst=[1,2,3,4,5]\n",
        " arr=np.array(my_lst)\n",
        " type (arr)"
      ],
      "metadata": {
        "id": "XuM9FK_-Nvgm",
        "outputId": "4529b86a-0801-4853-e8de-48b1f61afa73",
        "colab": {
          "base_uri": "https://localhost:8080/"
        }
      },
      "execution_count": 108,
      "outputs": [
        {
          "output_type": "execute_result",
          "data": {
            "text/plain": [
              "numpy.ndarray"
            ]
          },
          "metadata": {},
          "execution_count": 108
        }
      ]
    },
    {
      "cell_type": "code",
      "source": [
        "arr"
      ],
      "metadata": {
        "id": "LsT-ZjAkP_qQ",
        "outputId": "96dc637c-1a69-4d4d-dd2a-4f1c16c087b9",
        "colab": {
          "base_uri": "https://localhost:8080/"
        }
      },
      "execution_count": 109,
      "outputs": [
        {
          "output_type": "execute_result",
          "data": {
            "text/plain": [
              "array([1, 2, 3, 4, 5])"
            ]
          },
          "metadata": {},
          "execution_count": 109
        }
      ]
    },
    {
      "cell_type": "code",
      "source": [
        "arr[3]"
      ],
      "metadata": {
        "id": "uuHUQQ29TYFs",
        "outputId": "eeb01cc2-7a56-4bb9-e832-5e5eac603f4e",
        "colab": {
          "base_uri": "https://localhost:8080/"
        }
      },
      "execution_count": 110,
      "outputs": [
        {
          "output_type": "execute_result",
          "data": {
            "text/plain": [
              "4"
            ]
          },
          "metadata": {},
          "execution_count": 110
        }
      ]
    },
    {
      "cell_type": "code",
      "source": [
        "arr.shape"
      ],
      "metadata": {
        "id": "o9Jn48QTQC_N",
        "outputId": "f3b5154c-e83e-4fde-938c-9493659482db",
        "colab": {
          "base_uri": "https://localhost:8080/"
        }
      },
      "execution_count": 111,
      "outputs": [
        {
          "output_type": "execute_result",
          "data": {
            "text/plain": [
              "(5,)"
            ]
          },
          "metadata": {},
          "execution_count": 111
        }
      ]
    },
    {
      "cell_type": "code",
      "source": [
        "my_lst1=[1,2,3,4,5]\n",
        "my_lst2=[5,6,7,8,9]\n",
        "my_lst3=[4,5,2,3,7]\n",
        "arr=np.array([my_lst1,my_lst2,my_lst3])\n",
        "arr"
      ],
      "metadata": {
        "id": "fJaWJ6ciQShG",
        "outputId": "ed1435aa-03f1-4013-f040-6ba30571f0b8",
        "colab": {
          "base_uri": "https://localhost:8080/"
        }
      },
      "execution_count": 112,
      "outputs": [
        {
          "output_type": "execute_result",
          "data": {
            "text/plain": [
              "array([[1, 2, 3, 4, 5],\n",
              "       [5, 6, 7, 8, 9],\n",
              "       [4, 5, 2, 3, 7]])"
            ]
          },
          "metadata": {},
          "execution_count": 112
        }
      ]
    },
    {
      "cell_type": "code",
      "source": [
        "arr.shape"
      ],
      "metadata": {
        "id": "-4j0avKOQ-7d",
        "outputId": "fce49719-4f4e-49d6-f6d5-80bf0cac14a5",
        "colab": {
          "base_uri": "https://localhost:8080/"
        }
      },
      "execution_count": 113,
      "outputs": [
        {
          "output_type": "execute_result",
          "data": {
            "text/plain": [
              "(3, 5)"
            ]
          },
          "metadata": {},
          "execution_count": 113
        }
      ]
    },
    {
      "cell_type": "code",
      "source": [
        "arr.reshape(5,3)"
      ],
      "metadata": {
        "id": "hZ7Qn9x9RMUU",
        "outputId": "dbbe9ce6-c17a-4c24-d78c-1931a6d571d5",
        "colab": {
          "base_uri": "https://localhost:8080/"
        }
      },
      "execution_count": 114,
      "outputs": [
        {
          "output_type": "execute_result",
          "data": {
            "text/plain": [
              "array([[1, 2, 3],\n",
              "       [4, 5, 5],\n",
              "       [6, 7, 8],\n",
              "       [9, 4, 5],\n",
              "       [2, 3, 7]])"
            ]
          },
          "metadata": {},
          "execution_count": 114
        }
      ]
    },
    {
      "cell_type": "code",
      "source": [
        "arr=np.array([1,2,3,4,5,6,7,8])\n",
        "arr"
      ],
      "metadata": {
        "id": "Q9sTQONAWpzr",
        "outputId": "2b20eb2c-9055-48cd-d39b-05365e45c51a",
        "colab": {
          "base_uri": "https://localhost:8080/"
        }
      },
      "execution_count": 115,
      "outputs": [
        {
          "output_type": "execute_result",
          "data": {
            "text/plain": [
              "array([1, 2, 3, 4, 5, 6, 7, 8])"
            ]
          },
          "metadata": {},
          "execution_count": 115
        }
      ]
    },
    {
      "cell_type": "code",
      "source": [
        "arr[5]"
      ],
      "metadata": {
        "id": "6BCgbUJbXFB2",
        "outputId": "d84f7f3b-1392-4794-977f-a25a4a65238e",
        "colab": {
          "base_uri": "https://localhost:8080/"
        }
      },
      "execution_count": 116,
      "outputs": [
        {
          "output_type": "execute_result",
          "data": {
            "text/plain": [
              "6"
            ]
          },
          "metadata": {},
          "execution_count": 116
        }
      ]
    },
    {
      "cell_type": "code",
      "source": [
        "my_lst1=[1,2,3,4,5]\n",
        "my_lst2=[5,6,7,8,9]\n",
        "my_lst3=[4,5,2,3,7]\n",
        "arr2=np.array([my_lst1,my_lst2,my_lst3])\n",
        "arr2"
      ],
      "metadata": {
        "id": "shLrtccW-m7Z",
        "outputId": "75de6ce8-922c-48f6-dedc-08843fa9a1dc",
        "colab": {
          "base_uri": "https://localhost:8080/"
        }
      },
      "execution_count": 117,
      "outputs": [
        {
          "output_type": "execute_result",
          "data": {
            "text/plain": [
              "array([[1, 2, 3, 4, 5],\n",
              "       [5, 6, 7, 8, 9],\n",
              "       [4, 5, 2, 3, 7]])"
            ]
          },
          "metadata": {},
          "execution_count": 117
        }
      ]
    },
    {
      "cell_type": "code",
      "source": [
        "arr2[:,:]"
      ],
      "metadata": {
        "id": "K9eiQP34JLqX",
        "outputId": "629d7320-d15a-41a5-ecd4-aeefc03ff38e",
        "colab": {
          "base_uri": "https://localhost:8080/"
        }
      },
      "execution_count": 119,
      "outputs": [
        {
          "output_type": "execute_result",
          "data": {
            "text/plain": [
              "array([[1, 2, 3, 4, 5],\n",
              "       [5, 6, 7, 8, 9],\n",
              "       [4, 5, 2, 3, 7]])"
            ]
          },
          "metadata": {},
          "execution_count": 119
        }
      ]
    },
    {
      "cell_type": "code",
      "source": [
        "arr2[0:2,0:2]"
      ],
      "metadata": {
        "id": "1-9g4R1nJQh6",
        "outputId": "2cce60ac-b4c2-4061-86c3-052aa00fa24e",
        "colab": {
          "base_uri": "https://localhost:8080/"
        }
      },
      "execution_count": 121,
      "outputs": [
        {
          "output_type": "execute_result",
          "data": {
            "text/plain": [
              "array([[1, 2],\n",
              "       [5, 6]])"
            ]
          },
          "metadata": {},
          "execution_count": 121
        }
      ]
    },
    {
      "cell_type": "code",
      "source": [
        "arr2[1:4,3:5]"
      ],
      "metadata": {
        "id": "g2bomMriSPG6",
        "outputId": "0ac14a89-3910-44cd-d798-993cc17db8cf",
        "colab": {
          "base_uri": "https://localhost:8080/"
        }
      },
      "execution_count": 123,
      "outputs": [
        {
          "output_type": "execute_result",
          "data": {
            "text/plain": [
              "array([[8, 9],\n",
              "       [3, 7]])"
            ]
          },
          "metadata": {},
          "execution_count": 123
        }
      ]
    },
    {
      "cell_type": "code",
      "source": [
        "arr2[1:,3:]"
      ],
      "metadata": {
        "id": "Omk5mHe-Srfp",
        "outputId": "213d2d66-a4e7-4ae7-fcde-c988d5f4e64e",
        "colab": {
          "base_uri": "https://localhost:8080/"
        }
      },
      "execution_count": 124,
      "outputs": [
        {
          "output_type": "execute_result",
          "data": {
            "text/plain": [
              "array([[8, 9],\n",
              "       [3, 7]])"
            ]
          },
          "metadata": {},
          "execution_count": 124
        }
      ]
    },
    {
      "cell_type": "code",
      "source": [
        "arr2=np.arrange(0,10,step=2)\n",
        "arr2 #bujhinai eta"
      ],
      "metadata": {
        "id": "MehItKWjTA-N",
        "outputId": "38035d64-1dff-4c9e-80c6-912a780f91bd",
        "colab": {
          "base_uri": "https://localhost:8080/",
          "height": 280
        }
      },
      "execution_count": 127,
      "outputs": [
        {
          "output_type": "error",
          "ename": "AttributeError",
          "evalue": "module 'numpy' has no attribute 'arrange'",
          "traceback": [
            "\u001b[0;31m---------------------------------------------------------------------------\u001b[0m",
            "\u001b[0;31mAttributeError\u001b[0m                            Traceback (most recent call last)",
            "\u001b[0;32m<ipython-input-127-0e1fa698129e>\u001b[0m in \u001b[0;36m<cell line: 1>\u001b[0;34m()\u001b[0m\n\u001b[0;32m----> 1\u001b[0;31m \u001b[0marr2\u001b[0m\u001b[0;34m=\u001b[0m\u001b[0mnp\u001b[0m\u001b[0;34m.\u001b[0m\u001b[0marrange\u001b[0m\u001b[0;34m(\u001b[0m\u001b[0;36m0\u001b[0m\u001b[0;34m,\u001b[0m\u001b[0;36m10\u001b[0m\u001b[0;34m,\u001b[0m\u001b[0mstep\u001b[0m\u001b[0;34m=\u001b[0m\u001b[0;36m2\u001b[0m\u001b[0;34m)\u001b[0m\u001b[0;34m\u001b[0m\u001b[0;34m\u001b[0m\u001b[0m\n\u001b[0m\u001b[1;32m      2\u001b[0m \u001b[0marr2\u001b[0m\u001b[0;34m\u001b[0m\u001b[0;34m\u001b[0m\u001b[0m\n",
            "\u001b[0;32m/usr/local/lib/python3.10/dist-packages/numpy/__init__.py\u001b[0m in \u001b[0;36m__getattr__\u001b[0;34m(attr)\u001b[0m\n\u001b[1;32m    326\u001b[0m             \u001b[0;32mraise\u001b[0m \u001b[0mRuntimeError\u001b[0m\u001b[0;34m(\u001b[0m\u001b[0;34m\"Tester was removed in NumPy 1.25.\"\u001b[0m\u001b[0;34m)\u001b[0m\u001b[0;34m\u001b[0m\u001b[0;34m\u001b[0m\u001b[0m\n\u001b[1;32m    327\u001b[0m \u001b[0;34m\u001b[0m\u001b[0m\n\u001b[0;32m--> 328\u001b[0;31m         raise AttributeError(\"module {!r} has no attribute \"\n\u001b[0m\u001b[1;32m    329\u001b[0m                              \"{!r}\".format(__name__, attr))\n\u001b[1;32m    330\u001b[0m \u001b[0;34m\u001b[0m\u001b[0m\n",
            "\u001b[0;31mAttributeError\u001b[0m: module 'numpy' has no attribute 'arrange'"
          ]
        }
      ]
    },
    {
      "cell_type": "code",
      "source": [
        "arr2[3:]=65\n",
        "arr2"
      ],
      "metadata": {
        "id": "bCeJHObGT_K0",
        "outputId": "d2015d53-ca74-485d-d28f-9215b2eae3d6",
        "colab": {
          "base_uri": "https://localhost:8080/"
        }
      },
      "execution_count": 129,
      "outputs": [
        {
          "output_type": "execute_result",
          "data": {
            "text/plain": [
              "array([[1, 2, 3, 4, 5],\n",
              "       [5, 6, 7, 8, 9],\n",
              "       [4, 5, 2, 3, 7]])"
            ]
          },
          "metadata": {},
          "execution_count": 129
        }
      ]
    },
    {
      "cell_type": "code",
      "source": [
        "arr"
      ],
      "metadata": {
        "id": "qPRLgNa2UpTQ",
        "outputId": "738e7a44-d70c-4872-846e-472658c97432",
        "colab": {
          "base_uri": "https://localhost:8080/"
        }
      },
      "execution_count": 130,
      "outputs": [
        {
          "output_type": "execute_result",
          "data": {
            "text/plain": [
              "array([1, 2, 3, 4, 5, 6, 7, 8])"
            ]
          },
          "metadata": {},
          "execution_count": 130
        }
      ]
    },
    {
      "cell_type": "code",
      "source": [
        "arr[3:]=65\n",
        "arr"
      ],
      "metadata": {
        "id": "RtPLOC5BUzNE",
        "outputId": "49d23294-f72d-48ae-931b-710fb8582a22",
        "colab": {
          "base_uri": "https://localhost:8080/"
        }
      },
      "execution_count": 132,
      "outputs": [
        {
          "output_type": "execute_result",
          "data": {
            "text/plain": [
              "array([ 1,  2,  3, 65, 65, 65, 65, 65])"
            ]
          },
          "metadata": {},
          "execution_count": 132
        }
      ]
    },
    {
      "cell_type": "code",
      "source": [
        "  arr4=arr\n",
        "  arr4"
      ],
      "metadata": {
        "id": "8IEuYZqHU2-w",
        "outputId": "f50a31ed-1da1-415a-90dd-ec0506a3c37b",
        "colab": {
          "base_uri": "https://localhost:8080/"
        }
      },
      "execution_count": 134,
      "outputs": [
        {
          "output_type": "execute_result",
          "data": {
            "text/plain": [
              "array([ 1,  2,  3, 65, 65, 65, 65, 65])"
            ]
          },
          "metadata": {},
          "execution_count": 134
        }
      ]
    },
    {
      "cell_type": "code",
      "source": [
        "arr4[3:]=500"
      ],
      "metadata": {
        "id": "tBhUVLqzVNsa"
      },
      "execution_count": 135,
      "outputs": []
    },
    {
      "cell_type": "code",
      "source": [
        "arr4"
      ],
      "metadata": {
        "id": "U66mkoA-VL6O",
        "outputId": "70d09aab-d2c2-44d6-bf96-c8e263b2be75",
        "colab": {
          "base_uri": "https://localhost:8080/"
        }
      },
      "execution_count": 136,
      "outputs": [
        {
          "output_type": "execute_result",
          "data": {
            "text/plain": [
              "array([  1,   2,   3, 500, 500, 500, 500, 500])"
            ]
          },
          "metadata": {},
          "execution_count": 136
        }
      ]
    },
    {
      "cell_type": "code",
      "source": [
        "arr #replaced as arr4"
      ],
      "metadata": {
        "id": "50i6ea0rVU6T",
        "outputId": "4a819997-819d-486c-b5b6-7d5d22e6b06c",
        "colab": {
          "base_uri": "https://localhost:8080/"
        }
      },
      "execution_count": 137,
      "outputs": [
        {
          "output_type": "execute_result",
          "data": {
            "text/plain": [
              "array([  1,   2,   3, 500, 500, 500, 500, 500])"
            ]
          },
          "metadata": {},
          "execution_count": 137
        }
      ]
    },
    {
      "cell_type": "code",
      "source": [
        "arr4=arr.copy()\n",
        "arr4[3:]=1000\n",
        "arr4,arr\n"
      ],
      "metadata": {
        "id": "Rd8U6TqSVcQD",
        "outputId": "d9914758-eae7-4c8c-ca7f-ed8f0c3d4389",
        "colab": {
          "base_uri": "https://localhost:8080/"
        }
      },
      "execution_count": 143,
      "outputs": [
        {
          "output_type": "execute_result",
          "data": {
            "text/plain": [
              "(array([   1,    2,    3, 1000, 1000, 1000, 1000, 1000]),\n",
              " array([  1,   2,   3, 500, 500, 500, 500, 500]))"
            ]
          },
          "metadata": {},
          "execution_count": 143
        }
      ]
    },
    {
      "cell_type": "code",
      "source": [
        "val=2\n",
        "arr[arr<500]"
      ],
      "metadata": {
        "id": "6gV_HySlWgv2",
        "outputId": "30e999e2-916d-44b6-b98b-cf9a3975d926",
        "colab": {
          "base_uri": "https://localhost:8080/"
        }
      },
      "execution_count": 149,
      "outputs": [
        {
          "output_type": "execute_result",
          "data": {
            "text/plain": [
              "array([1, 2, 3])"
            ]
          },
          "metadata": {},
          "execution_count": 149
        }
      ]
    },
    {
      "cell_type": "code",
      "source": [
        "  arr*2"
      ],
      "metadata": {
        "id": "MO4UUITPXROT",
        "outputId": "fd9b99ab-1aae-4767-fc2c-0dc1ad318da5",
        "colab": {
          "base_uri": "https://localhost:8080/"
        }
      },
      "execution_count": 145,
      "outputs": [
        {
          "output_type": "execute_result",
          "data": {
            "text/plain": [
              "array([   2,    4,    6, 1000, 1000, 1000, 1000, 1000])"
            ]
          },
          "metadata": {},
          "execution_count": 145
        }
      ]
    },
    {
      "cell_type": "code",
      "source": [
        " arr/2"
      ],
      "metadata": {
        "id": "gxdiDn0QXWYg",
        "outputId": "a659d240-5708-4050-9e30-35bf282a3424",
        "colab": {
          "base_uri": "https://localhost:8080/"
        }
      },
      "execution_count": 146,
      "outputs": [
        {
          "output_type": "execute_result",
          "data": {
            "text/plain": [
              "array([  0.5,   1. ,   1.5, 250. , 250. , 250. , 250. , 250. ])"
            ]
          },
          "metadata": {},
          "execution_count": 146
        }
      ]
    },
    {
      "cell_type": "code",
      "source": [
        "np.ones(4,dtype=int)"
      ],
      "metadata": {
        "id": "s4fbMDqfXaHl",
        "outputId": "43fa4bbe-1644-4b0a-c906-b219228b1736",
        "colab": {
          "base_uri": "https://localhost:8080/"
        }
      },
      "execution_count": 151,
      "outputs": [
        {
          "output_type": "execute_result",
          "data": {
            "text/plain": [
              "array([1, 1, 1, 1])"
            ]
          },
          "metadata": {},
          "execution_count": 151
        }
      ]
    },
    {
      "cell_type": "code",
      "source": [
        "np.ones((4,5),dtype=int)"
      ],
      "metadata": {
        "id": "BBWbrWs1YKrQ",
        "outputId": "390edd11-84ea-4e9a-b02d-c8f736e24fbe",
        "colab": {
          "base_uri": "https://localhost:8080/"
        }
      },
      "execution_count": 153,
      "outputs": [
        {
          "output_type": "execute_result",
          "data": {
            "text/plain": [
              "array([[1, 1, 1, 1, 1],\n",
              "       [1, 1, 1, 1, 1],\n",
              "       [1, 1, 1, 1, 1],\n",
              "       [1, 1, 1, 1, 1]])"
            ]
          },
          "metadata": {},
          "execution_count": 153
        }
      ]
    },
    {
      "cell_type": "code",
      "source": [
        "np.random.rand(4,4)"
      ],
      "metadata": {
        "id": "1nNM1yvwYckY",
        "outputId": "5d0363ae-b0ab-4e04-c84f-521d42018f3f",
        "colab": {
          "base_uri": "https://localhost:8080/"
        }
      },
      "execution_count": 157,
      "outputs": [
        {
          "output_type": "execute_result",
          "data": {
            "text/plain": [
              "array([[0.98353434, 0.31982614, 0.4758445 , 0.06967227],\n",
              "       [0.91159599, 0.76573615, 0.60660891, 0.62829595],\n",
              "       [0.50750466, 0.06365741, 0.68956953, 0.96832752],\n",
              "       [0.04345716, 0.78853998, 0.54272999, 0.34467629]])"
            ]
          },
          "metadata": {},
          "execution_count": 157
        }
      ]
    },
    {
      "cell_type": "code",
      "source": [
        "import seaborn as sns\n",
        "import pandas as pd"
      ],
      "metadata": {
        "id": "aVjXAPKpZO6A"
      },
      "execution_count": 158,
      "outputs": []
    },
    {
      "cell_type": "code",
      "source": [
        " np.random.randint(0,100,9).reshape(3,3)"
      ],
      "metadata": {
        "id": "F8knSn1XZj1p",
        "outputId": "3d4b6218-f797-4804-e068-03abc4667d71",
        "colab": {
          "base_uri": "https://localhost:8080/"
        }
      },
      "execution_count": 162,
      "outputs": [
        {
          "output_type": "execute_result",
          "data": {
            "text/plain": [
              "array([[74, 37, 45],\n",
              "       [ 5, 73, 75],\n",
              "       [21,  5, 78]])"
            ]
          },
          "metadata": {},
          "execution_count": 162
        }
      ]
    },
    {
      "cell_type": "code",
      "source": [
        "np.random.random_sample(1,5) #problem"
      ],
      "metadata": {
        "id": "YafJVx15Z04d",
        "outputId": "f4bc9874-df2d-4403-f774-c8dc8ef0fbcd",
        "colab": {
          "base_uri": "https://localhost:8080/",
          "height": 176
        }
      },
      "execution_count": 165,
      "outputs": [
        {
          "output_type": "error",
          "ename": "TypeError",
          "evalue": "random_sample() takes at most 1 positional argument (2 given)",
          "traceback": [
            "\u001b[0;31m---------------------------------------------------------------------------\u001b[0m",
            "\u001b[0;31mTypeError\u001b[0m                                 Traceback (most recent call last)",
            "\u001b[0;32m<ipython-input-165-b534e2734f34>\u001b[0m in \u001b[0;36m<cell line: 1>\u001b[0;34m()\u001b[0m\n\u001b[0;32m----> 1\u001b[0;31m \u001b[0mnp\u001b[0m\u001b[0;34m.\u001b[0m\u001b[0mrandom\u001b[0m\u001b[0;34m.\u001b[0m\u001b[0mrandom_sample\u001b[0m\u001b[0;34m(\u001b[0m\u001b[0;36m1\u001b[0m\u001b[0;34m,\u001b[0m\u001b[0;36m5\u001b[0m\u001b[0;34m)\u001b[0m\u001b[0;34m\u001b[0m\u001b[0;34m\u001b[0m\u001b[0m\n\u001b[0m",
            "\u001b[0;32mmtrand.pyx\u001b[0m in \u001b[0;36mnumpy.random.mtrand.RandomState.random_sample\u001b[0;34m()\u001b[0m\n",
            "\u001b[0;31mTypeError\u001b[0m: random_sample() takes at most 1 positional argument (2 given)"
          ]
        }
      ]
    },
    {
      "cell_type": "code",
      "source": [],
      "metadata": {
        "id": "T_SVDsS_aRD8"
      },
      "execution_count": null,
      "outputs": []
    }
  ]
}