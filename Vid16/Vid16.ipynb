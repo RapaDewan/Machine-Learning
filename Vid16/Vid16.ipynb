{
  "nbformat": 4,
  "nbformat_minor": 0,
  "metadata": {
    "colab": {
      "provenance": [],
      "authorship_tag": "ABX9TyO8/gvebpok3wmYXyIE2S32",
      "include_colab_link": true
    },
    "kernelspec": {
      "name": "python3",
      "display_name": "Python 3"
    },
    "language_info": {
      "name": "python"
    }
  },
  "cells": [
    {
      "cell_type": "markdown",
      "metadata": {
        "id": "view-in-github",
        "colab_type": "text"
      },
      "source": [
        "<a href=\"https://colab.research.google.com/github/RapaDewan/Machine-Learning/blob/main/Vid16/Vid16.ipynb\" target=\"_parent\"><img src=\"https://colab.research.google.com/assets/colab-badge.svg\" alt=\"Open In Colab\"/></a>"
      ]
    },
    {
      "cell_type": "code",
      "execution_count": 5,
      "metadata": {
        "colab": {
          "base_uri": "https://localhost:8080/"
        },
        "id": "j8ecp8SiqpSV",
        "outputId": "45c5df21-98b9-497c-9202-abe30f6a74d5"
      },
      "outputs": [
        {
          "output_type": "stream",
          "name": "stdout",
          "text": [
            "even\n"
          ]
        }
      ],
      "source": [
        "num=24\n",
        "if num%2==0:\n",
        "  print ('even')\n",
        "else:\n",
        "  print(\"odd\")"
      ]
    },
    {
      "cell_type": "code",
      "source": [
        "def even_odd(num):\n",
        "   if num%2==0:\n",
        "     print ('even')\n",
        "   else:\n",
        "     print(\"odd\")"
      ],
      "metadata": {
        "id": "yi_AoUGZrZVt"
      },
      "execution_count": 9,
      "outputs": []
    },
    {
      "cell_type": "code",
      "source": [
        "even_odd(30)"
      ],
      "metadata": {
        "colab": {
          "base_uri": "https://localhost:8080/"
        },
        "id": "i3uRYmLSu_xG",
        "outputId": "e2c4442b-4a08-422f-bc06-ce828053796a"
      },
      "execution_count": 10,
      "outputs": [
        {
          "output_type": "stream",
          "name": "stdout",
          "text": [
            "even\n"
          ]
        }
      ]
    },
    {
      "cell_type": "code",
      "source": [
        "def rapa_prac():\n",
        "  print(\"Rapa\")"
      ],
      "metadata": {
        "id": "l2oCZTsevUXH"
      },
      "execution_count": 11,
      "outputs": []
    },
    {
      "cell_type": "code",
      "source": [
        "rapa_prac()"
      ],
      "metadata": {
        "colab": {
          "base_uri": "https://localhost:8080/"
        },
        "id": "5qBWy8bAvvJI",
        "outputId": "87d82a5e-5314-4e6a-bb74-993eb4602a5f"
      },
      "execution_count": 13,
      "outputs": [
        {
          "output_type": "stream",
          "name": "stdout",
          "text": [
            "Rapa\n"
          ]
        }
      ]
    },
    {
      "cell_type": "code",
      "source": [
        "def rapa_prac():\n",
        "  return \"rapa\""
      ],
      "metadata": {
        "id": "ft2LS-TivtT9"
      },
      "execution_count": 19,
      "outputs": []
    },
    {
      "cell_type": "code",
      "source": [
        "val=rapa_prac()"
      ],
      "metadata": {
        "id": "5HRvS6f2wCN5"
      },
      "execution_count": 20,
      "outputs": []
    },
    {
      "cell_type": "code",
      "source": [
        "print (val)"
      ],
      "metadata": {
        "colab": {
          "base_uri": "https://localhost:8080/"
        },
        "id": "y-lV6KzLwE5c",
        "outputId": "f2fe02cb-da34-453e-bfcc-36d49cfcc613"
      },
      "execution_count": 21,
      "outputs": [
        {
          "output_type": "stream",
          "name": "stdout",
          "text": [
            "rapa\n"
          ]
        }
      ]
    },
    {
      "cell_type": "code",
      "source": [
        "def add_num(num1, num2):\n",
        "  return num1+num2\n"
      ],
      "metadata": {
        "id": "1ZODv-NzwJeV"
      },
      "execution_count": 22,
      "outputs": []
    },
    {
      "cell_type": "code",
      "source": [
        "val=add_num(24,34)"
      ],
      "metadata": {
        "id": "wnj3s41ywn4k"
      },
      "execution_count": 27,
      "outputs": []
    },
    {
      "cell_type": "code",
      "source": [
        "print (val)"
      ],
      "metadata": {
        "colab": {
          "base_uri": "https://localhost:8080/"
        },
        "id": "oDyqRDFNwq5l",
        "outputId": "f0955316-88b9-48f4-9ac0-f74fd3fcba03"
      },
      "execution_count": 29,
      "outputs": [
        {
          "output_type": "stream",
          "name": "stdout",
          "text": [
            "58\n"
          ]
        }
      ]
    },
    {
      "cell_type": "code",
      "source": [
        "def hello(name, age=29):\n",
        "  print(\"my name is {} and my age is {}\".format(name,age))"
      ],
      "metadata": {
        "id": "W0mlr-tyw34d"
      },
      "execution_count": 36,
      "outputs": []
    },
    {
      "cell_type": "code",
      "source": [
        "hello (\"RApa\")"
      ],
      "metadata": {
        "colab": {
          "base_uri": "https://localhost:8080/"
        },
        "id": "Psq4a8xvxWJK",
        "outputId": "06909d87-43b5-41d8-8ee1-01ae1a310d57"
      },
      "execution_count": 37,
      "outputs": [
        {
          "output_type": "stream",
          "name": "stdout",
          "text": [
            "my name is RApa and my age is 29\n"
          ]
        }
      ]
    },
    {
      "cell_type": "code",
      "source": [
        "def hello(name, age):\n",
        "  print(\"my name is {} and my age is {}\".format(name,age))"
      ],
      "metadata": {
        "id": "tb9TmEmjxj7l"
      },
      "execution_count": 38,
      "outputs": []
    },
    {
      "cell_type": "code",
      "source": [
        "hello('Rapa', 24)"
      ],
      "metadata": {
        "colab": {
          "base_uri": "https://localhost:8080/"
        },
        "id": "bnkkb4_bxt01",
        "outputId": "d94d2d63-02f6-4026-d76f-bccddbabb112"
      },
      "execution_count": 39,
      "outputs": [
        {
          "output_type": "stream",
          "name": "stdout",
          "text": [
            "my name is Rapa and my age is 24\n"
          ]
        }
      ]
    },
    {
      "cell_type": "code",
      "source": [
        "def hello(*args, **kwargs):\n",
        "  print (args, kwargs)"
      ],
      "metadata": {
        "id": "_sixHBKOxxo-"
      },
      "execution_count": 41,
      "outputs": []
    },
    {
      "cell_type": "code",
      "source": [
        "  hello(\"Rapa\", \"dewan\")"
      ],
      "metadata": {
        "colab": {
          "base_uri": "https://localhost:8080/"
        },
        "id": "VrnXbyw8yXsc",
        "outputId": "50116d4a-f005-4e34-adc2-474d92cffa87"
      },
      "execution_count": 42,
      "outputs": [
        {
          "output_type": "stream",
          "name": "stdout",
          "text": [
            "('Rapa', 'dewan') {}\n"
          ]
        }
      ]
    },
    {
      "cell_type": "code",
      "source": [
        "hello(\"rapa\", \"dewan\", age=24, dob=1999)"
      ],
      "metadata": {
        "colab": {
          "base_uri": "https://localhost:8080/"
        },
        "id": "aoaqfsAzyjSY",
        "outputId": "3521214d-73b2-4da1-ee48-edbe15d3d593"
      },
      "execution_count": 43,
      "outputs": [
        {
          "output_type": "stream",
          "name": "stdout",
          "text": [
            "('rapa', 'dewan') {'age': 24, 'dob': 1999}\n"
          ]
        }
      ]
    },
    {
      "cell_type": "code",
      "source": [
        " lst=['rapa', 'dewan']\n",
        " dict_args= {'age': 24, 'dob': 1999}"
      ],
      "metadata": {
        "id": "SK1CoR9RyutH"
      },
      "execution_count": 44,
      "outputs": []
    },
    {
      "cell_type": "code",
      "source": [
        "hello(*lst, **dict_args)"
      ],
      "metadata": {
        "colab": {
          "base_uri": "https://localhost:8080/"
        },
        "id": "DN37tvK5zP-V",
        "outputId": "a24c2623-667e-4a49-98e2-3e2a9d8134d5"
      },
      "execution_count": 46,
      "outputs": [
        {
          "output_type": "stream",
          "name": "stdout",
          "text": [
            "('rapa', 'dewan') {'age': 24, 'dob': 1999}\n"
          ]
        }
      ]
    },
    {
      "cell_type": "code",
      "source": [
        "lst=[1,2,3,4,5,6,7]"
      ],
      "metadata": {
        "id": "KjmlIIZazSt-"
      },
      "execution_count": 47,
      "outputs": []
    },
    {
      "cell_type": "code",
      "source": [
        "def evenoddsum(lst):\n",
        "  even_sum=0\n",
        "  odd_sum=0\n",
        "  for i in lst:\n",
        "    if i%2==0:\n",
        "     even_sum=even_sum+i\n",
        "    else:\n",
        "      odd_sum=odd_sum+i\n",
        "    return even_sum, odd_sum #etar ans thik ashe na kno??"
      ],
      "metadata": {
        "id": "nfJUCgpezt5o"
      },
      "execution_count": 49,
      "outputs": []
    },
    {
      "cell_type": "code",
      "source": [
        "evenoddsum(lst)"
      ],
      "metadata": {
        "colab": {
          "base_uri": "https://localhost:8080/"
        },
        "id": "3YFnxPFNzzmn",
        "outputId": "204f6f35-2ac3-4e2c-adea-e0c57ab3b9c2"
      },
      "execution_count": 50,
      "outputs": [
        {
          "output_type": "execute_result",
          "data": {
            "text/plain": [
              "(0, 1)"
            ]
          },
          "metadata": {},
          "execution_count": 50
        }
      ]
    },
    {
      "cell_type": "code",
      "source": [],
      "metadata": {
        "id": "co3kq_vG0fN6"
      },
      "execution_count": null,
      "outputs": []
    }
  ]
}