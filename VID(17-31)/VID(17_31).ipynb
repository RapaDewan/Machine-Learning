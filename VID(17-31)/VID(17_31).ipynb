{
  "nbformat": 4,
  "nbformat_minor": 0,
  "metadata": {
    "colab": {
      "provenance": [],
      "authorship_tag": "ABX9TyOtSHb8C6tzRtNvUFHfuzz0",
      "include_colab_link": true
    },
    "kernelspec": {
      "name": "python3",
      "display_name": "Python 3"
    },
    "language_info": {
      "name": "python"
    }
  },
  "cells": [
    {
      "cell_type": "markdown",
      "metadata": {
        "id": "view-in-github",
        "colab_type": "text"
      },
      "source": [
        "<a href=\"https://colab.research.google.com/github/RapaDewan/Machine-Learning/blob/main/VID(17-31)/VID(17_31).ipynb\" target=\"_parent\"><img src=\"https://colab.research.google.com/assets/colab-badge.svg\" alt=\"Open In Colab\"/></a>"
      ]
    },
    {
      "cell_type": "markdown",
      "source": [
        "vid 17\n"
      ],
      "metadata": {
        "id": "Wg8VxNu2aqoa"
      }
    },
    {
      "cell_type": "code",
      "source": [
        "def even_or_odd(num):\n",
        "  if num%2==0:\n",
        "    return \"This number {} id even\".format(num)\n",
        "  else:\n",
        "    return \"This number {} id odd\".format(num)\n"
      ],
      "metadata": {
        "id": "zjQd-LbGavkB"
      },
      "execution_count": null,
      "outputs": []
    },
    {
      "cell_type": "code",
      "source": [
        "even_or_odd(20)"
      ],
      "metadata": {
        "colab": {
          "base_uri": "https://localhost:8080/",
          "height": 35
        },
        "id": "oC-DioDHc7RO",
        "outputId": "aa3ab0b2-375e-484b-b0c3-dec144befb2f"
      },
      "execution_count": null,
      "outputs": [
        {
          "output_type": "execute_result",
          "data": {
            "text/plain": [
              "'This number 20 id even'"
            ],
            "application/vnd.google.colaboratory.intrinsic+json": {
              "type": "string"
            }
          },
          "metadata": {},
          "execution_count": 8
        }
      ]
    },
    {
      "cell_type": "code",
      "source": [
        "lst=[1,2,3,6,23,54,67]"
      ],
      "metadata": {
        "id": "nW8wDETjc9ds"
      },
      "execution_count": null,
      "outputs": []
    },
    {
      "cell_type": "code",
      "source": [
        "map(even_or_odd, lst)"
      ],
      "metadata": {
        "colab": {
          "base_uri": "https://localhost:8080/"
        },
        "id": "6k-Fa8xtd5Fp",
        "outputId": "f0258433-a1cc-484e-c9f9-36559b6a20c2"
      },
      "execution_count": null,
      "outputs": [
        {
          "output_type": "execute_result",
          "data": {
            "text/plain": [
              "<map at 0x7b4041213520>"
            ]
          },
          "metadata": {},
          "execution_count": 10
        }
      ]
    },
    {
      "cell_type": "code",
      "source": [
        "list(map(even_or_odd, lst))"
      ],
      "metadata": {
        "colab": {
          "base_uri": "https://localhost:8080/"
        },
        "id": "hs_Cnr0td8zA",
        "outputId": "22a16af1-5498-4efd-e2e6-9662c7fa07d3"
      },
      "execution_count": null,
      "outputs": [
        {
          "output_type": "execute_result",
          "data": {
            "text/plain": [
              "['This number 1 id odd',\n",
              " 'This number 2 id even',\n",
              " 'This number 3 id odd',\n",
              " 'This number 6 id even',\n",
              " 'This number 23 id odd',\n",
              " 'This number 54 id even',\n",
              " 'This number 67 id odd']"
            ]
          },
          "metadata": {},
          "execution_count": 11
        }
      ]
    },
    {
      "cell_type": "markdown",
      "source": [
        "vid 19"
      ],
      "metadata": {
        "id": "2cJ8WW6tk-Xm"
      }
    },
    {
      "cell_type": "code",
      "source": [
        "def even (num):\n",
        "  if num%2==0:\n",
        "    return True"
      ],
      "metadata": {
        "id": "2aPqcRz2k_4U"
      },
      "execution_count": null,
      "outputs": []
    },
    {
      "cell_type": "code",
      "source": [
        "lst=[1,2,4,56,78,76]"
      ],
      "metadata": {
        "id": "_OVrFYyTlQ6k"
      },
      "execution_count": null,
      "outputs": []
    },
    {
      "cell_type": "code",
      "source": [
        "filter (even, lst)"
      ],
      "metadata": {
        "colab": {
          "base_uri": "https://localhost:8080/"
        },
        "id": "ndqK55RulbDH",
        "outputId": "68418bd1-ce1a-4d3a-edf8-c2c32ab109c2"
      },
      "execution_count": null,
      "outputs": [
        {
          "output_type": "execute_result",
          "data": {
            "text/plain": [
              "<filter at 0x7b400e4aba60>"
            ]
          },
          "metadata": {},
          "execution_count": 21
        }
      ]
    },
    {
      "cell_type": "code",
      "source": [
        "list (filter (even, lst))"
      ],
      "metadata": {
        "colab": {
          "base_uri": "https://localhost:8080/"
        },
        "id": "typ6PiHclhHC",
        "outputId": "8e15e1e4-6a2f-4fa4-f6f7-c22a0cb0da61"
      },
      "execution_count": null,
      "outputs": [
        {
          "output_type": "execute_result",
          "data": {
            "text/plain": [
              "[2, 4, 56, 78, 76]"
            ]
          },
          "metadata": {},
          "execution_count": 22
        }
      ]
    },
    {
      "cell_type": "code",
      "source": [
        "list (filter (lambda num:num%2==0, lst))"
      ],
      "metadata": {
        "colab": {
          "base_uri": "https://localhost:8080/"
        },
        "id": "Q54zOMznlkql",
        "outputId": "d48d28b3-8b31-42d9-cc3f-496b1ead4ee6"
      },
      "execution_count": null,
      "outputs": [
        {
          "output_type": "execute_result",
          "data": {
            "text/plain": [
              "[2, 4, 56, 78, 76]"
            ]
          },
          "metadata": {},
          "execution_count": 25
        }
      ]
    },
    {
      "cell_type": "code",
      "source": [
        "list (map (lambda num:num%2==0, lst))"
      ],
      "metadata": {
        "colab": {
          "base_uri": "https://localhost:8080/"
        },
        "id": "39psgV9Ap8v5",
        "outputId": "8cfaf344-04f8-4e66-e927-4a7fe3a2d96b"
      },
      "execution_count": null,
      "outputs": [
        {
          "output_type": "execute_result",
          "data": {
            "text/plain": [
              "[False, True, True, True, True, True]"
            ]
          },
          "metadata": {},
          "execution_count": 26
        }
      ]
    },
    {
      "cell_type": "markdown",
      "source": [
        "vid 20"
      ],
      "metadata": {
        "id": "ikUQOdsuq5lO"
      }
    },
    {
      "cell_type": "code",
      "source": [
        "lst1=[]\n",
        "def lst_sqr(lst):\n",
        "  for i in lst:\n",
        "    lst1.append(i*i)\n",
        "  return lst1"
      ],
      "metadata": {
        "id": "iPL0dSipq7DY"
      },
      "execution_count": null,
      "outputs": []
    },
    {
      "cell_type": "code",
      "source": [
        "lst_sqr([1,2,3,4,5,6])"
      ],
      "metadata": {
        "colab": {
          "base_uri": "https://localhost:8080/"
        },
        "id": "TIye8MvZuSOh",
        "outputId": "a037d6db-9ade-4b35-ec2e-b437fc4063af"
      },
      "execution_count": null,
      "outputs": [
        {
          "output_type": "execute_result",
          "data": {
            "text/plain": [
              "[1, 4, 9, 16, 25, 36]"
            ]
          },
          "metadata": {},
          "execution_count": 28
        }
      ]
    },
    {
      "cell_type": "code",
      "source": [
        "lst=[1,2,3,4,5,6,7]\n",
        "[i*i for i in lst] #this is list comprehension"
      ],
      "metadata": {
        "colab": {
          "base_uri": "https://localhost:8080/"
        },
        "id": "-963Zyb_uVLJ",
        "outputId": "87878756-d2d6-48c5-94b8-7039f2b4d797"
      },
      "execution_count": null,
      "outputs": [
        {
          "output_type": "execute_result",
          "data": {
            "text/plain": [
              "[1, 4, 9, 16, 25, 36, 49]"
            ]
          },
          "metadata": {},
          "execution_count": 29
        }
      ]
    },
    {
      "cell_type": "code",
      "source": [
        "lst=[1,2,3,4,5,6,7]\n",
        "[i*i for i in lst if i%2==0]"
      ],
      "metadata": {
        "colab": {
          "base_uri": "https://localhost:8080/"
        },
        "id": "41PD0K6mvTPU",
        "outputId": "6580093a-51d6-4951-c39e-def684b922a3"
      },
      "execution_count": null,
      "outputs": [
        {
          "output_type": "execute_result",
          "data": {
            "text/plain": [
              "[4, 16, 36]"
            ]
          },
          "metadata": {},
          "execution_count": 30
        }
      ]
    },
    {
      "cell_type": "code",
      "source": [
        "lst=[1,2,3,4,5,6,7]\n",
        "[i*i for i in lst if i%2!=0]"
      ],
      "metadata": {
        "colab": {
          "base_uri": "https://localhost:8080/"
        },
        "id": "WWdQQ8Pevs1f",
        "outputId": "6e73f27a-79ef-4851-da0a-66130640e4a5"
      },
      "execution_count": null,
      "outputs": [
        {
          "output_type": "execute_result",
          "data": {
            "text/plain": [
              "[1, 9, 25, 49]"
            ]
          },
          "metadata": {},
          "execution_count": 31
        }
      ]
    },
    {
      "cell_type": "markdown",
      "source": [
        "vid 21"
      ],
      "metadata": {
        "id": "4yI93JaAzDPr"
      }
    },
    {
      "cell_type": "code",
      "source": [
        "def greetings (name):\n",
        "  return \"Hello {}. Welcome home\".format(name)"
      ],
      "metadata": {
        "id": "iCeThS3cv23_"
      },
      "execution_count": null,
      "outputs": []
    },
    {
      "cell_type": "code",
      "source": [
        "greetings(\"Rapa\")"
      ],
      "metadata": {
        "colab": {
          "base_uri": "https://localhost:8080/",
          "height": 35
        },
        "id": "USrd85mBzHPR",
        "outputId": "8afbd352-a12a-4bde-adb0-05436dd22705"
      },
      "execution_count": null,
      "outputs": [
        {
          "output_type": "execute_result",
          "data": {
            "text/plain": [
              "'Hello Rapa. Welcome home'"
            ],
            "application/vnd.google.colaboratory.intrinsic+json": {
              "type": "string"
            }
          },
          "metadata": {},
          "execution_count": 34
        }
      ]
    },
    {
      "cell_type": "code",
      "source": [
        "def welcome (name,age):\n",
        "  return \"Hello {}, your age is {}\".format(name, age)"
      ],
      "metadata": {
        "id": "euRuiNSazRAw"
      },
      "execution_count": null,
      "outputs": []
    },
    {
      "cell_type": "code",
      "source": [
        "welcome(\"Rapa\", 23)"
      ],
      "metadata": {
        "colab": {
          "base_uri": "https://localhost:8080/",
          "height": 35
        },
        "id": "XFgr5ZPuzlr1",
        "outputId": "e27483b3-a59b-4d44-beca-816d1528102c"
      },
      "execution_count": null,
      "outputs": [
        {
          "output_type": "execute_result",
          "data": {
            "text/plain": [
              "'Hello Rapa, your age is 23'"
            ],
            "application/vnd.google.colaboratory.intrinsic+json": {
              "type": "string"
            }
          },
          "metadata": {},
          "execution_count": 39
        }
      ]
    },
    {
      "cell_type": "code",
      "source": [
        "def welcome (name,age):\n",
        "  return \"Hello {}, your age is {}\".format(age, name)"
      ],
      "metadata": {
        "id": "QkpYAYPzzyUV"
      },
      "execution_count": null,
      "outputs": []
    },
    {
      "cell_type": "code",
      "source": [
        "welcome(\"Rapa\", 23)"
      ],
      "metadata": {
        "colab": {
          "base_uri": "https://localhost:8080/",
          "height": 35
        },
        "id": "S_YU2dAjz9cF",
        "outputId": "69d954c2-3750-4120-f648-3cedfa3e667d"
      },
      "execution_count": null,
      "outputs": [
        {
          "output_type": "execute_result",
          "data": {
            "text/plain": [
              "'Hello 23, your age is Rapa'"
            ],
            "application/vnd.google.colaboratory.intrinsic+json": {
              "type": "string"
            }
          },
          "metadata": {},
          "execution_count": 41
        }
      ]
    },
    {
      "cell_type": "code",
      "source": [
        "def welcome (name,age):\n",
        "  return \"Hello {name}, your age is {age}\".format(age=age, name=name)"
      ],
      "metadata": {
        "id": "vR_YR9j5z_cv"
      },
      "execution_count": null,
      "outputs": []
    },
    {
      "cell_type": "code",
      "source": [
        "welcome(\"Rapa\", 23)"
      ],
      "metadata": {
        "colab": {
          "base_uri": "https://localhost:8080/",
          "height": 35
        },
        "id": "CDXUA6cW0Rno",
        "outputId": "ccedd30e-1cfe-4289-8d75-d6dc2a802e96"
      },
      "execution_count": null,
      "outputs": [
        {
          "output_type": "execute_result",
          "data": {
            "text/plain": [
              "'Hello Rapa, your age is 23'"
            ],
            "application/vnd.google.colaboratory.intrinsic+json": {
              "type": "string"
            }
          },
          "metadata": {},
          "execution_count": 43
        }
      ]
    },
    {
      "cell_type": "markdown",
      "source": [
        "VID 22"
      ],
      "metadata": {
        "id": "ogcVh68p4mK9"
      }
    },
    {
      "cell_type": "code",
      "source": [
        "lst=[1,2,3,4,5,6,7,8,9]\n",
        "for i in lst:\n",
        "  print(i)"
      ],
      "metadata": {
        "colab": {
          "base_uri": "https://localhost:8080/"
        },
        "id": "GCYqpMrl0TV4",
        "outputId": "73a51656-c930-4af1-abdf-80ce194560f0"
      },
      "execution_count": null,
      "outputs": [
        {
          "output_type": "stream",
          "name": "stdout",
          "text": [
            "1\n",
            "2\n",
            "3\n",
            "4\n",
            "5\n",
            "6\n",
            "7\n",
            "8\n",
            "9\n"
          ]
        }
      ]
    },
    {
      "cell_type": "code",
      "source": [
        "lst1=iter (lst)"
      ],
      "metadata": {
        "id": "5DRP5ip14tk_"
      },
      "execution_count": null,
      "outputs": []
    },
    {
      "cell_type": "code",
      "source": [
        "lst1"
      ],
      "metadata": {
        "colab": {
          "base_uri": "https://localhost:8080/"
        },
        "id": "ZAt3_SWY5PAm",
        "outputId": "5000f0f8-1fcc-4a58-e6a4-5eccbca434f1"
      },
      "execution_count": null,
      "outputs": [
        {
          "output_type": "execute_result",
          "data": {
            "text/plain": [
              "<list_iterator at 0x7b400e313d00>"
            ]
          },
          "metadata": {},
          "execution_count": 66
        }
      ]
    },
    {
      "cell_type": "code",
      "source": [
        "next(lst1)"
      ],
      "metadata": {
        "colab": {
          "base_uri": "https://localhost:8080/"
        },
        "id": "sOmUiZNg5Y93",
        "outputId": "22c61cee-ae16-43af-de87-a6987b0d1719"
      },
      "execution_count": null,
      "outputs": [
        {
          "output_type": "execute_result",
          "data": {
            "text/plain": [
              "1"
            ]
          },
          "metadata": {},
          "execution_count": 67
        }
      ]
    },
    {
      "cell_type": "code",
      "source": [
        "for i in lst1:\n",
        "  print (i)"
      ],
      "metadata": {
        "id": "kA1Ui-QI5isF"
      },
      "execution_count": null,
      "outputs": []
    },
    {
      "cell_type": "markdown",
      "source": [
        "VID 27"
      ],
      "metadata": {
        "id": "9QzhMOTxvwhK"
      }
    },
    {
      "cell_type": "code",
      "source": [
        "class car():\n",
        "  def __init__(self, windows, doors, engntyp):\n",
        "    self.windows=windows\n",
        "    self.doors=doors\n",
        "    self.engntyp=engntyp #all are public\n"
      ],
      "metadata": {
        "id": "Y7WRucS-6-2M"
      },
      "execution_count": 2,
      "outputs": []
    },
    {
      "cell_type": "code",
      "source": [
        "audi=car(4,5,\"Dsl\")"
      ],
      "metadata": {
        "id": "KEuWwyo0xAI-"
      },
      "execution_count": 3,
      "outputs": []
    },
    {
      "cell_type": "code",
      "source": [
        "audi.windows"
      ],
      "metadata": {
        "id": "P2t60T1syuMs",
        "outputId": "a9ccddb7-4002-452e-9706-3b48e73fc46c",
        "colab": {
          "base_uri": "https://localhost:8080/"
        }
      },
      "execution_count": 5,
      "outputs": [
        {
          "output_type": "execute_result",
          "data": {
            "text/plain": [
              "4"
            ]
          },
          "metadata": {},
          "execution_count": 5
        }
      ]
    },
    {
      "cell_type": "code",
      "source": [
        "dir(audi)"
      ],
      "metadata": {
        "id": "b0dkfviTy3KF",
        "outputId": "d6dad6b0-a5a2-4c67-8b10-452ff298d05f",
        "colab": {
          "base_uri": "https://localhost:8080/"
        }
      },
      "execution_count": 6,
      "outputs": [
        {
          "output_type": "execute_result",
          "data": {
            "text/plain": [
              "['__class__',\n",
              " '__delattr__',\n",
              " '__dict__',\n",
              " '__dir__',\n",
              " '__doc__',\n",
              " '__eq__',\n",
              " '__format__',\n",
              " '__ge__',\n",
              " '__getattribute__',\n",
              " '__gt__',\n",
              " '__hash__',\n",
              " '__init__',\n",
              " '__init_subclass__',\n",
              " '__le__',\n",
              " '__lt__',\n",
              " '__module__',\n",
              " '__ne__',\n",
              " '__new__',\n",
              " '__reduce__',\n",
              " '__reduce_ex__',\n",
              " '__repr__',\n",
              " '__setattr__',\n",
              " '__sizeof__',\n",
              " '__str__',\n",
              " '__subclasshook__',\n",
              " '__weakref__',\n",
              " 'doors',\n",
              " 'engntyp',\n",
              " 'windows']"
            ]
          },
          "metadata": {},
          "execution_count": 6
        }
      ]
    },
    {
      "cell_type": "code",
      "source": [
        "#all are protected\n",
        "class car():\n",
        "  def __init__(self, windows, doors, engntyp):\n",
        "    self._windows=windows\n",
        "    self._doors=doors\n",
        "    self._engntyp=engntyp"
      ],
      "metadata": {
        "id": "bF733kNLxF1C"
      },
      "execution_count": 9,
      "outputs": []
    },
    {
      "cell_type": "code",
      "source": [
        "audi=car(4,4,\"oil\")"
      ],
      "metadata": {
        "id": "430-EIhXy6kD"
      },
      "execution_count": 10,
      "outputs": []
    },
    {
      "cell_type": "code",
      "source": [
        "dir(audi)"
      ],
      "metadata": {
        "id": "lGAuT_Eqy-Oe",
        "outputId": "d0ebe862-3fc9-4b6c-d8b8-f4cb7e44ae86",
        "colab": {
          "base_uri": "https://localhost:8080/"
        }
      },
      "execution_count": 11,
      "outputs": [
        {
          "output_type": "execute_result",
          "data": {
            "text/plain": [
              "['__class__',\n",
              " '__delattr__',\n",
              " '__dict__',\n",
              " '__dir__',\n",
              " '__doc__',\n",
              " '__eq__',\n",
              " '__format__',\n",
              " '__ge__',\n",
              " '__getattribute__',\n",
              " '__gt__',\n",
              " '__hash__',\n",
              " '__init__',\n",
              " '__init_subclass__',\n",
              " '__le__',\n",
              " '__lt__',\n",
              " '__module__',\n",
              " '__ne__',\n",
              " '__new__',\n",
              " '__reduce__',\n",
              " '__reduce_ex__',\n",
              " '__repr__',\n",
              " '__setattr__',\n",
              " '__sizeof__',\n",
              " '__str__',\n",
              " '__subclasshook__',\n",
              " '__weakref__',\n",
              " '_doors',\n",
              " '_engntyp',\n",
              " '_windows']"
            ]
          },
          "metadata": {},
          "execution_count": 11
        }
      ]
    },
    {
      "cell_type": "code",
      "source": [
        "audi.windows"
      ],
      "metadata": {
        "id": "7S2bBqXyy_sc",
        "outputId": "96ed2c16-ac3a-4ecf-99be-9d5c0a8e62ee",
        "colab": {
          "base_uri": "https://localhost:8080/",
          "height": 141
        }
      },
      "execution_count": 12,
      "outputs": [
        {
          "output_type": "error",
          "ename": "AttributeError",
          "evalue": "'car' object has no attribute 'windows'",
          "traceback": [
            "\u001b[0;31m---------------------------------------------------------------------------\u001b[0m",
            "\u001b[0;31mAttributeError\u001b[0m                            Traceback (most recent call last)",
            "\u001b[0;32m<ipython-input-12-5aa6fc4d8ffd>\u001b[0m in \u001b[0;36m<cell line: 1>\u001b[0;34m()\u001b[0m\n\u001b[0;32m----> 1\u001b[0;31m \u001b[0maudi\u001b[0m\u001b[0;34m.\u001b[0m\u001b[0mwindows\u001b[0m\u001b[0;34m\u001b[0m\u001b[0;34m\u001b[0m\u001b[0m\n\u001b[0m",
            "\u001b[0;31mAttributeError\u001b[0m: 'car' object has no attribute 'windows'"
          ]
        }
      ]
    },
    {
      "cell_type": "code",
      "source": [
        "class truck(car):\n",
        "  def __init__(self, windows, doors, engntyp, hp):\n",
        "    super().__init__(windows, doors, engntyp)\n",
        "    self.hp=hp"
      ],
      "metadata": {
        "id": "0yybreRIzOtm"
      },
      "execution_count": 13,
      "outputs": []
    },
    {
      "cell_type": "code",
      "source": [
        "maruti=truck(4,4,'oil', 5000)"
      ],
      "metadata": {
        "id": "AFVhcbWe0fLy"
      },
      "execution_count": 14,
      "outputs": []
    },
    {
      "cell_type": "code",
      "source": [
        "dir(maruti)"
      ],
      "metadata": {
        "id": "pmFA1KVV0moD",
        "outputId": "53f4020a-4370-4dec-de09-d2880c274b3a",
        "colab": {
          "base_uri": "https://localhost:8080/"
        }
      },
      "execution_count": 15,
      "outputs": [
        {
          "output_type": "execute_result",
          "data": {
            "text/plain": [
              "['__class__',\n",
              " '__delattr__',\n",
              " '__dict__',\n",
              " '__dir__',\n",
              " '__doc__',\n",
              " '__eq__',\n",
              " '__format__',\n",
              " '__ge__',\n",
              " '__getattribute__',\n",
              " '__gt__',\n",
              " '__hash__',\n",
              " '__init__',\n",
              " '__init_subclass__',\n",
              " '__le__',\n",
              " '__lt__',\n",
              " '__module__',\n",
              " '__ne__',\n",
              " '__new__',\n",
              " '__reduce__',\n",
              " '__reduce_ex__',\n",
              " '__repr__',\n",
              " '__setattr__',\n",
              " '__sizeof__',\n",
              " '__str__',\n",
              " '__subclasshook__',\n",
              " '__weakref__',\n",
              " '_doors',\n",
              " '_engntyp',\n",
              " '_windows',\n",
              " 'hp']"
            ]
          },
          "metadata": {},
          "execution_count": 15
        }
      ]
    },
    {
      "cell_type": "code",
      "source": [
        "maruti._windows=4"
      ],
      "metadata": {
        "id": "PM874O3P0qog"
      },
      "execution_count": 16,
      "outputs": []
    },
    {
      "cell_type": "code",
      "source": [
        "maruti._windows"
      ],
      "metadata": {
        "id": "f-KrEp0j04BM",
        "outputId": "fe10f98c-3944-434a-adc7-92d12f471d8e",
        "colab": {
          "base_uri": "https://localhost:8080/"
        }
      },
      "execution_count": 17,
      "outputs": [
        {
          "output_type": "execute_result",
          "data": {
            "text/plain": [
              "4"
            ]
          },
          "metadata": {},
          "execution_count": 17
        }
      ]
    },
    {
      "cell_type": "code",
      "source": [
        "maruti._doors"
      ],
      "metadata": {
        "id": "cCYXG21c06Xw",
        "outputId": "0be99117-ada5-42bd-d7f5-adde49246c40",
        "colab": {
          "base_uri": "https://localhost:8080/"
        }
      },
      "execution_count": 18,
      "outputs": [
        {
          "output_type": "execute_result",
          "data": {
            "text/plain": [
              "4"
            ]
          },
          "metadata": {},
          "execution_count": 18
        }
      ]
    },
    {
      "cell_type": "code",
      "source": [
        "#all are private\n",
        "class car():\n",
        "  def __init__(self, windows, doors, engntyp):\n",
        "    self.__windows=windows\n",
        "    self.__doors=doors\n",
        "    self.__engntyp=engntyp #private ta bujhinai thik moto"
      ],
      "metadata": {
        "id": "yPP8rlwG09ar"
      },
      "execution_count": 19,
      "outputs": []
    },
    {
      "cell_type": "code",
      "source": [
        "audi=car(4,4,\"oil\")"
      ],
      "metadata": {
        "id": "yL0LM6Bf1Ywk"
      },
      "execution_count": 20,
      "outputs": []
    },
    {
      "cell_type": "code",
      "source": [
        "dir(audi)"
      ],
      "metadata": {
        "id": "LBiAMCkM1cJ8",
        "outputId": "7ea3eb01-1364-4a46-85fe-ab70d6420b8a",
        "colab": {
          "base_uri": "https://localhost:8080/"
        }
      },
      "execution_count": 21,
      "outputs": [
        {
          "output_type": "execute_result",
          "data": {
            "text/plain": [
              "['__class__',\n",
              " '__delattr__',\n",
              " '__dict__',\n",
              " '__dir__',\n",
              " '__doc__',\n",
              " '__eq__',\n",
              " '__format__',\n",
              " '__ge__',\n",
              " '__getattribute__',\n",
              " '__gt__',\n",
              " '__hash__',\n",
              " '__init__',\n",
              " '__init_subclass__',\n",
              " '__le__',\n",
              " '__lt__',\n",
              " '__module__',\n",
              " '__ne__',\n",
              " '__new__',\n",
              " '__reduce__',\n",
              " '__reduce_ex__',\n",
              " '__repr__',\n",
              " '__setattr__',\n",
              " '__sizeof__',\n",
              " '__str__',\n",
              " '__subclasshook__',\n",
              " '__weakref__',\n",
              " '_car__doors',\n",
              " '_car__engntyp',\n",
              " '_car__windows']"
            ]
          },
          "metadata": {},
          "execution_count": 21
        }
      ]
    },
    {
      "cell_type": "markdown",
      "source": [
        "VID 29"
      ],
      "metadata": {
        "id": "wIDX3qV83Lxb"
      }
    },
    {
      "cell_type": "code",
      "source": [
        "#theory"
      ],
      "metadata": {
        "id": "nSEO8tG61dih"
      },
      "execution_count": 22,
      "outputs": []
    },
    {
      "cell_type": "markdown",
      "source": [
        "VID 30"
      ],
      "metadata": {
        "id": "fB4bRA8c55W0"
      }
    },
    {
      "cell_type": "code",
      "source": [
        "#file namaye practice korte hbe"
      ],
      "metadata": {
        "id": "2NzJLUGrMDPM"
      },
      "execution_count": null,
      "outputs": []
    },
    {
      "cell_type": "code",
      "source": [
        "import pandas as pd\n",
        "import numpy as np\n",
        "import matplotlib.pyplot as plt\n",
        "import seaborn as sns\n"
      ],
      "metadata": {
        "id": "m9n3rIXr54K2"
      },
      "execution_count": 23,
      "outputs": []
    },
    {
      "cell_type": "code",
      "source": [
        "df=pd.read_csv('')\n",
        "df.head()\n",
        "df.shape"
      ],
      "metadata": {
        "id": "LktNwBl_6HKA"
      },
      "execution_count": null,
      "outputs": []
    },
    {
      "cell_type": "markdown",
      "source": [
        "VID 31"
      ],
      "metadata": {
        "id": "7K2E_SpvMSU7"
      }
    },
    {
      "cell_type": "code",
      "source": [
        "#theory"
      ],
      "metadata": {
        "id": "epuWNysaMTh_"
      },
      "execution_count": 24,
      "outputs": []
    },
    {
      "cell_type": "code",
      "source": [],
      "metadata": {
        "id": "NwVWSB09MUlK"
      },
      "execution_count": null,
      "outputs": []
    }
  ]
}