{
  "nbformat": 4,
  "nbformat_minor": 0,
  "metadata": {
    "colab": {
      "provenance": [],
      "authorship_tag": "ABX9TyMzxKihRkWiikWKgiBC4F7t",
      "include_colab_link": true
    },
    "kernelspec": {
      "name": "python3",
      "display_name": "Python 3"
    },
    "language_info": {
      "name": "python"
    }
  },
  "cells": [
    {
      "cell_type": "markdown",
      "metadata": {
        "id": "view-in-github",
        "colab_type": "text"
      },
      "source": [
        "<a href=\"https://colab.research.google.com/github/RapaDewan/Machine-Learning/blob/main/VID%2034_46/VID_34_46.ipynb\" target=\"_parent\"><img src=\"https://colab.research.google.com/assets/colab-badge.svg\" alt=\"Open In Colab\"/></a>"
      ]
    },
    {
      "cell_type": "markdown",
      "source": [
        "VID 34"
      ],
      "metadata": {
        "id": "LSTfP6lp2TGb"
      }
    },
    {
      "cell_type": "code",
      "execution_count": 1,
      "metadata": {
        "id": "BeaIBQIZ2MXw"
      },
      "outputs": [],
      "source": [
        "#theory"
      ]
    },
    {
      "cell_type": "markdown",
      "source": [
        "VID 35"
      ],
      "metadata": {
        "id": "p_gR-3usDgeU"
      }
    },
    {
      "cell_type": "code",
      "source": [
        "#theory"
      ],
      "metadata": {
        "id": "gigb03HN78rq"
      },
      "execution_count": 2,
      "outputs": []
    },
    {
      "cell_type": "markdown",
      "source": [
        "VID 36"
      ],
      "metadata": {
        "id": "eusWdLWLDkJN"
      }
    },
    {
      "cell_type": "code",
      "source": [
        "from sklearn.datsets import load_boston # ei dataset namate prinai"
      ],
      "metadata": {
        "colab": {
          "base_uri": "https://localhost:8080/",
          "height": 314
        },
        "id": "MW7805tPDjRa",
        "outputId": "42f0ad3c-616c-413e-ab89-d2a2518f9c26"
      },
      "execution_count": 4,
      "outputs": [
        {
          "output_type": "error",
          "ename": "ModuleNotFoundError",
          "evalue": "No module named 'sklearn.datsets'",
          "traceback": [
            "\u001b[0;31m---------------------------------------------------------------------------\u001b[0m",
            "\u001b[0;31mModuleNotFoundError\u001b[0m                       Traceback (most recent call last)",
            "\u001b[0;32m<ipython-input-4-16b7ba376757>\u001b[0m in \u001b[0;36m<cell line: 1>\u001b[0;34m()\u001b[0m\n\u001b[0;32m----> 1\u001b[0;31m \u001b[0;32mfrom\u001b[0m \u001b[0msklearn\u001b[0m\u001b[0;34m.\u001b[0m\u001b[0mdatsets\u001b[0m \u001b[0;32mimport\u001b[0m \u001b[0mload_boston\u001b[0m \u001b[0;31m# ei dataset namate prinai\u001b[0m\u001b[0;34m\u001b[0m\u001b[0;34m\u001b[0m\u001b[0m\n\u001b[0m",
            "\u001b[0;31mModuleNotFoundError\u001b[0m: No module named 'sklearn.datsets'",
            "",
            "\u001b[0;31m---------------------------------------------------------------------------\u001b[0;32m\nNOTE: If your import is failing due to a missing package, you can\nmanually install dependencies using either !pip or !apt.\n\nTo view examples of installing some common dependencies, click the\n\"Open Examples\" button below.\n\u001b[0;31m---------------------------------------------------------------------------\u001b[0m\n"
          ],
          "errorDetails": {
            "actions": [
              {
                "action": "open_url",
                "actionText": "Open Examples",
                "url": "/notebooks/snippets/importing_libraries.ipynb"
              }
            ]
          }
        }
      ]
    },
    {
      "cell_type": "markdown",
      "source": [
        "VID 37"
      ],
      "metadata": {
        "id": "7S37YdWGHSrF"
      }
    },
    {
      "cell_type": "code",
      "source": [
        "#dataset namate prinai tai korte prinai but vdo dkhci bujhe bujhe also spider kvabe use krbo??"
      ],
      "metadata": {
        "id": "I3FlEAnJGYag"
      },
      "execution_count": 7,
      "outputs": []
    },
    {
      "cell_type": "code",
      "source": [],
      "metadata": {
        "id": "zuBfzllOHXPh"
      },
      "execution_count": null,
      "outputs": []
    }
  ]
}